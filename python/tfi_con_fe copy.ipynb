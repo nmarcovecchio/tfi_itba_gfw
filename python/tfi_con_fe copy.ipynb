{
 "cells": [
  {
   "cell_type": "code",
   "execution_count": 137,
   "metadata": {},
   "outputs": [],
   "source": [
    "import pandas as pd\n",
    "import numpy as np\n",
    "from sklearn.tree import DecisionTreeClassifier # Import Decision Tree Classifier\n",
    "from sklearn.model_selection import train_test_split # Import train_test_split function\n",
    "from sklearn import metrics #Import scikit-learn metrics module for accuracy calculation\n",
    "\n",
    "trollers = pd.read_csv(\"C:/Users/nico_/Desktop/ITBA/TFI/global fishing watch/dataset/trawlers.csv\", header=\"infer\", sep=\",\",low_memory=False)\n",
    "\n",
    "#Nos quedamos solo con las columnas que estan clasificadas 100% como pescando, o no pescando. Que no haya duda.\n",
    "df = trollers.copy()\n",
    "df = df[(df['is_fishing'] == -1.0)  | (df['is_fishing'] == 1.0) ]\n",
    "\n",
    "#Renombramos las columnas de la variable a predecir de si esta pescando o no.\n",
    "df[\"is_fishing\"] = np.where(df[\"is_fishing\"] == 1.0, 'SI', 'NO')\n",
    "trollers = df.copy()\n",
    "#print(trollers)"
   ]
  },
  {
   "cell_type": "code",
   "execution_count": 138,
   "metadata": {},
   "outputs": [
    {
     "name": "stdout",
     "output_type": "stream",
     "text": [
      "<bound method DataFrame.count of             timestamp  distance_from_shore  distance_from_port  speed  \\\n",
      "242      1.325682e+09        826520.687500       855189.500000    0.0   \n",
      "784      1.327070e+09        826520.687500       855189.500000    0.0   \n",
      "1117     1.327374e+09        668776.562500       676221.500000    0.0   \n",
      "1647     1.327875e+09        826520.687500       855189.500000    0.0   \n",
      "1767     1.327994e+09          5999.852539         8062.060059    7.9   \n",
      "...               ...                  ...                 ...    ...   \n",
      "4369096  1.480031e+09        172998.640625       239263.859375   11.2   \n",
      "4369097  1.480031e+09        173595.859375       240246.062500   11.7   \n",
      "4369098  1.480031e+09        174995.703125       241416.937500   11.2   \n",
      "4369099  1.480031e+09        174995.703125       241416.937500   11.5   \n",
      "4369100  1.480031e+09        175597.515625       242398.671875   11.0   \n",
      "\n",
      "             course        lat         lon is_fishing  \n",
      "242       33.000000 -13.951197    4.580761         NO  \n",
      "784      194.000000 -13.951197    4.580761         NO  \n",
      "1117      28.000000 -13.951197    0.006895         NO  \n",
      "1647     311.000000 -13.951197    4.580761         NO  \n",
      "1767     277.000000  52.467968    4.511467         NO  \n",
      "...             ...        ...         ...        ...  \n",
      "4369096  166.800003 -42.847645  175.192535         NO  \n",
      "4369097  163.100006 -42.853741  175.194473         NO  \n",
      "4369098  168.699997 -42.860050  175.196487         NO  \n",
      "4369099  169.100006 -42.863056  175.197464         NO  \n",
      "4369100  163.800003 -42.869095  175.199799         NO  \n",
      "\n",
      "[2118376 rows x 8 columns]>\n"
     ]
    }
   ],
   "source": [
    "#Dropeamos NA.\n",
    "df = df.dropna()\n",
    "#Generamos Feature Engeniering.\n",
    "\n",
    "#Nos quedamos con los puntos mayores a 3 millas nauticas.\n",
    "df = df[(df['distance_from_shore'] >= 5556)]\n",
    "#print(len(df))\n",
    "#Dropeamos columnas que no interesane en el modelo.\n",
    "df = df.drop(['mmsi', 'source'], axis = 1)\n",
    "\n",
    "#Hacemos un undersampling.\n",
    "#df['date'] = pd.to_datetime(df['timestamp'],unit='s')\n",
    "#df.set_index('date', inplace=True)\n",
    "#df = df.resample('5Min').first().dropna(how='all').reset_index(drop=True)\n",
    "\n",
    "#df = df.resample('5Min').first().dropna(how='all')\n",
    "#print (df)\n",
    "\n",
    "\n",
    "#print(df)\n",
    "\n",
    "trollers = df.copy()\n",
    "print(trollers.count)"
   ]
  },
  {
   "cell_type": "code",
   "execution_count": 139,
   "metadata": {},
   "outputs": [],
   "source": [
    "#Generamos train y test.\n",
    "dataset = trollers\n",
    "df = dataset\n",
    "X = df.drop('is_fishing',axis=1)\n",
    "y = df['is_fishing']\n",
    "X_train, X_test, y_train, y_test = train_test_split(X, y, train_size=0.8, random_state=50)"
   ]
  },
  {
   "cell_type": "code",
   "execution_count": 140,
   "metadata": {},
   "outputs": [
    {
     "data": {
      "image/png": "[encoded data removed]",
      "text/plain": [
       "<Figure size 432x288 with 2 Axes>"
      ]
     },
     "metadata": {
      "needs_background": "light"
     },
     "output_type": "display_data"
    },
    {
     "name": "stdout",
     "output_type": "stream",
     "text": [
      "Precision: 0.736\n",
      "Recall: 0.376\n",
      "Accuracy: 0.979\n",
      "F1 Score: 0.498\n"
     ]
    }
   ],
   "source": [
    "from sklearn.model_selection import train_test_split\n",
    "from sklearn.metrics import confusion_matrix, accuracy_score\n",
    "from sklearn.metrics import precision_recall_fscore_support\n",
    "import matplotlib.pyplot as plt\n",
    "\n",
    "def evaluate_model(y_test, y_pred):\n",
    "    from sklearn.metrics import precision_score, recall_score, f1_score, accuracy_score\n",
    "    from sklearn.metrics import confusion_matrix, ConfusionMatrixDisplay\n",
    "    \n",
    "    cm = confusion_matrix(y_test, dt.predict(X_test))\n",
    "    cmd_obj = ConfusionMatrixDisplay(cm, display_labels=['SI', 'NO'])\n",
    "    cmd_obj.plot()\n",
    "    cmd_obj.ax_.set(\n",
    "                    title='Matriz de confusión.', \n",
    "                    xlabel='Predict Values', \n",
    "                    ylabel='Actual Values')\n",
    "    ## Finally, call the matplotlib show() function to display the visualization\n",
    "    ## of the Confusion Matrix.\n",
    "    plt.show()\n",
    "\n",
    "    print('Precision: %.3f' % precision_score(y_test, y_pred,pos_label='SI'))\n",
    "    print('Recall: %.3f' % recall_score(y_test, y_pred, pos_label='SI'))\n",
    "    print('Accuracy: %.3f' % accuracy_score(y_test, y_pred))\n",
    "    print('F1 Score: %.3f' % f1_score(y_test, y_pred, pos_label='SI'))\n",
    "\n",
    "dt = DecisionTreeClassifier(max_depth=3)\n",
    "dt.fit(X_train, y_train)\n",
    "y_pred = dt.predict(X_test)\n",
    "evaluate_model(y_test, y_pred)\n"
   ]
  },
  {
   "cell_type": "code",
   "execution_count": 144,
   "metadata": {},
   "outputs": [
    {
     "name": "stdout",
     "output_type": "stream",
     "text": [
      "Fitting 3 folds for each of 2880 candidates, totalling 8640 fits\n"
     ]
    }
   ],
   "source": [
    "from sklearn.tree import ExtraTreeClassifier\n",
    "from sklearn.tree import DecisionTreeRegressor\n",
    "\n",
    "#extra_tree_classifier = ExtraTreeClassifier(random_state=1)\n",
    "#extra_tree_classifier.fit(X_train, y_train)\n",
    "\n",
    "from sklearn.model_selection import GridSearchCV\n",
    "\n",
    "parameters={\"splitter\":[\"best\",\"random\"],\n",
    "            \"max_depth\" : [5,7,9],\n",
    "           \"min_samples_leaf\":[1,2,3,4,5],\n",
    "           \"min_weight_fraction_leaf\":[0.1,0.2,0.3,0.4],\n",
    "           \"max_features\":[\"auto\",\"log2\",\"sqrt\",None],\n",
    "           \"max_leaf_nodes\":[None,10,20,30,40,50] }\n",
    "\n",
    "grid = GridSearchCV(ExtraTreeClassifier(random_state=1), cv=3, n_jobs=-1, verbose=3,\n",
    "                    param_grid =parameters\n",
    "                    )\n",
    "\n",
    "grid.fit(X_train, y_train)\n",
    "\n",
    "print('Train Accuracy : %.3f'%grid.best_estimator_.score(X_train, y_train))\n",
    "print('Test Accuracy : %.3f'%grid.best_estimator_.score(X_test, y_test))\n",
    "print('Best Score Through Grid Search : %.3f'%grid.best_score_)\n",
    "print('Best Parameters : ',grid.best_params_)"
   ]
  },
  {
   "cell_type": "code",
   "execution_count": 126,
   "metadata": {},
   "outputs": [
    {
     "data": {
      "image/png": "[encoded data removed]",
      "text/plain": [
       "<Figure size 432x288 with 2 Axes>"
      ]
     },
     "metadata": {
      "needs_background": "light"
     },
     "output_type": "display_data"
    },
    {
     "name": "stdout",
     "output_type": "stream",
     "text": [
      "Precision: 0.802\n",
      "Recall: 0.843\n",
      "Accuracy: 0.969\n",
      "F1 Score: 0.822\n"
     ]
    }
   ],
   "source": [
    "dt = DecisionTreeClassifier(max_depth=grid.best_params_['max_depth'], \n",
    "                            max_features=grid.best_params_['max_features'],\n",
    "                            max_leaf_nodes=grid.best_params_['max_leaf_nodes'],\n",
    "                            min_samples_leaf=grid.best_params_['min_samples_leaf'],\n",
    "                            min_weight_fraction_leaf=grid.best_params_['min_weight_fraction_leaf'],\n",
    "                            splitter=grid.best_params_['splitter']\n",
    ")\n",
    "dt.fit(X_train, y_train)\n",
    "y_pred = dt.predict(X_test)\n",
    "evaluate_model(y_test, y_pred)\n"
   ]
  },
  {
   "cell_type": "code",
   "execution_count": null,
   "metadata": {},
   "outputs": [],
   "source": [
    "'''\n",
    "import ephem\n",
    "import math\n",
    "import datetime\n",
    "\n",
    "sun = ephem.Sun()\n",
    "observer = ephem.Observer()\n",
    "# ↓ Define your coordinates here ↓\n",
    "observer.lat, observer.lon, observer.elevation = '48.730302', '9.149483', 400\n",
    "# ↓ Set the time (UTC) here ↓\n",
    "observer.date = datetime.datetime.utcnow()\n",
    "sun.compute(observer)\n",
    "current_sun_alt = sun.alt\n",
    "print(current_sun_alt*180/math.pi)\n",
    "'''"
   ]
  },
  {
   "cell_type": "code",
   "execution_count": null,
   "metadata": {},
   "outputs": [
    {
     "data": {
      "text/plain": [
       "timestamp              float64\n",
       "distance_from_shore    float64\n",
       "distance_from_port     float64\n",
       "speed                  float64\n",
       "course                 float64\n",
       "lat                    float64\n",
       "lon                    float64\n",
       "is_fishing              object\n",
       "dtype: object"
      ]
     },
     "execution_count": 39,
     "metadata": {},
     "output_type": "execute_result"
    }
   ],
   "source": [
    "df.dtypes"
   ]
  }
 ],
 "metadata": {
  "interpreter": {
   "hash": "db2a60f505a9041374f6f3fb78368755bb5bc9c69ef08139ad82abb6b35de715"
  },
  "kernelspec": {
   "display_name": "Python 3.8.8 ('base')",
   "language": "python",
   "name": "python3"
  },
  "language_info": {
   "codemirror_mode": {
    "name": "ipython",
    "version": 3
   },
   "file_extension": ".py",
   "mimetype": "text/x-python",
   "name": "python",
   "nbconvert_exporter": "python",
   "pygments_lexer": "ipython3",
   "version": "3.8.8"
  },
  "orig_nbformat": 4
 },
 "nbformat": 4,
 "nbformat_minor": 2
}

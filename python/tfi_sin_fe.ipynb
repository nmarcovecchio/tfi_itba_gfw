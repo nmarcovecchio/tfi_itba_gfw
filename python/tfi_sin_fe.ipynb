{
 "cells": [
  {
   "cell_type": "code",
   "execution_count": 2,
   "metadata": {},
   "outputs": [
    {
     "name": "stdout",
     "output_type": "stream",
     "text": [
      "The nltk version is 3.6.1.\n",
      "The scikit-learn version is 1.0.2.\n"
     ]
    }
   ],
   "source": [
    "import nltk\n",
    "import sklearn\n",
    "\n",
    "print('The nltk version is {}.'.format(nltk.__version__))\n",
    "print('The scikit-learn version is {}.'.format(sklearn.__version__))"
   ]
  },
  {
   "cell_type": "markdown",
   "metadata": {},
   "source": [
    "Cargamos el dataset."
   ]
  },
  {
   "cell_type": "code",
   "execution_count": 3,
   "metadata": {},
   "outputs": [],
   "source": [
    "import pandas as pd\n",
    "import numpy as np\n",
    "from sklearn.tree import DecisionTreeClassifier # Import Decision Tree Classifier\n",
    "from sklearn.model_selection import train_test_split # Import train_test_split function\n",
    "from sklearn import metrics #Import scikit-learn metrics module for accuracy calculation\n",
    "\n",
    "trollers = pd.read_csv(\"C:/Users/nico_/Desktop/ITBA/TFI/global fishing watch/dataset/trollers.csv\", header=\"infer\", sep=\",\",error_bad_lines=False, engine ='python')\n",
    "\n",
    "#Nos quedamos solo con las columnas que estan clasificadas 100% como pescando, o no pescando. Que no haya duda.\n",
    "df = trollers.copy()\n",
    "df = df[(df['is_fishing'] == -1.0)  | (df['is_fishing'] == 1.0) ]\n",
    "\n",
    "#Renombramos las columnas de la variable a predecir de si esta pescando o no.\n",
    "df[\"is_fishing\"] = np.where(df[\"is_fishing\"] == 1.0, 'SI', 'NO')\n",
    "trollers = df.copy()\n",
    "#print(trollers)"
   ]
  },
  {
   "cell_type": "markdown",
   "metadata": {},
   "source": [
    "Dropeamos los NA, y nos quedamos con los puntos que se encuentran a 3 millas de la costa."
   ]
  },
  {
   "cell_type": "code",
   "execution_count": 4,
   "metadata": {},
   "outputs": [
    {
     "name": "stdout",
     "output_type": "stream",
     "text": [
      "        distance_from_shore  distance_from_port  speed      course is_fishing\n",
      "270             8246.008789        23769.144531    7.6  248.899994         NO\n",
      "271             8944.052734        24165.498047    7.8  252.399994         NO\n",
      "272            10629.884766        25238.240234    7.6  252.600006         NO\n",
      "273            11313.430664        26076.169922    7.5   66.000000         NO\n",
      "274            11180.065430        26400.109375    7.6   71.500000         NO\n",
      "...                     ...                 ...    ...         ...        ...\n",
      "166226         14764.460938        29119.724609    7.9  256.100006         NO\n",
      "166232         13453.293945        24738.027344    7.5  229.699997         NO\n",
      "166240          9848.616211        12369.013672    2.4  123.800003         NO\n",
      "166241          9433.749023        11704.412109    2.9  120.000000         NO\n",
      "166242         10629.884766        12206.255859    2.8  105.800003         NO\n",
      "\n",
      "[21426 rows x 5 columns]\n"
     ]
    }
   ],
   "source": [
    "#Dropeamos NA.\n",
    "df = df.dropna()\n",
    "#Generamos Feature Engeniering.\n",
    "df = df[(df['distance_from_shore'] >= 5556)]\n",
    "#print(len(df))\n",
    "#Dropeamos columnas que no interesen en el modelo.\n",
    "df = df.drop(['mmsi', 'source','lat', 'lon','timestamp','source'], axis = 1)\n",
    "print(df)\n",
    "\n",
    "trollers = df.copy()"
   ]
  },
  {
   "cell_type": "markdown",
   "metadata": {},
   "source": [
    "Generamos los vectores de train y test."
   ]
  },
  {
   "cell_type": "code",
   "execution_count": 5,
   "metadata": {},
   "outputs": [
    {
     "name": "stdout",
     "output_type": "stream",
     "text": [
      "1883\n",
      "19543\n"
     ]
    }
   ],
   "source": [
    "#Generamos train y test.\n",
    "\n",
    "#Si la longitud del dataset es mayor a 10000, partiremos agrupado por \"is_fishing\" ya que nos puede tocar un conjunto con is_fishing='SI' vacio.\n",
    "#if len(dataset)>10000:\n",
    "    #df = df.sample(n=10000, random_state=1)\n",
    "#    df = df.groupby(\"is_fishing\").sample(n=7500, random_state=1,replace=True)\n",
    "#    df = df.drop_duplicates()\n",
    "\n",
    "X = df.drop('is_fishing',axis=1)\n",
    "y = df['is_fishing']\n",
    "X_train, X_test, y_train, y_test = train_test_split(X, y, train_size=0.8, random_state=50)\n",
    "print(len(df[df['is_fishing']=='SI']))\n",
    "print(len(df[df['is_fishing']=='NO']))"
   ]
  },
  {
   "cell_type": "markdown",
   "metadata": {},
   "source": [
    "Funcion para evaluar los modelos."
   ]
  },
  {
   "cell_type": "code",
   "execution_count": 6,
   "metadata": {},
   "outputs": [],
   "source": [
    "from sklearn.metrics import precision_score, recall_score, f1_score, accuracy_score\n",
    "from sklearn.metrics import confusion_matrix, ConfusionMatrixDisplay\n",
    "from IPython.display import display, Markdown, Latex\n",
    "import matplotlib.pyplot as plt\n",
    "import tabulate\n",
    "from sklearn.metrics import confusion_matrix, accuracy_score\n",
    "\n",
    "\n",
    "def evaluate_model(title,y_test, y_pred):\n",
    "\n",
    "    cm = confusion_matrix(y_test, y_pred)\n",
    "    display(Markdown(title))\n",
    "    cmd_obj = ConfusionMatrixDisplay(cm, display_labels=['SI', 'NO'])\n",
    "    cmd_obj.plot()\n",
    "    cmd_obj.ax_.set(\n",
    "                    title='Matriz de confusión.', \n",
    "                    xlabel='Predict Values', \n",
    "                    ylabel='Actual Values')\n",
    "    plt.show()\n",
    "    _precision_score = precision_score(y_test, y_pred,pos_label='SI')\n",
    "    _recall_score = recall_score(y_test, y_pred, pos_label='SI')\n",
    "    _accuracy_score = accuracy_score(y_test, y_pred)\n",
    "    _f1_score = f1_score(y_test, y_pred, pos_label='SI')\n",
    "\n",
    "    data = [[\"Precision\",\"Recall\",\"Accuracy\",\"F1\"],\n",
    "            [\"%.2f\" % _precision_score, \"%.2f\" % _recall_score, \"%.2f\" % _accuracy_score, \"%.2f\" % _f1_score ]]\n",
    "    table = tabulate.tabulate(data, tablefmt='html')\n",
    "    display(table)\n"
   ]
  },
  {
   "cell_type": "markdown",
   "metadata": {},
   "source": [
    "Arboles de decision parametros default"
   ]
  },
  {
   "cell_type": "code",
   "execution_count": 7,
   "metadata": {},
   "outputs": [
    {
     "data": {
      "text/markdown": [
       "Arboles de decision parametros default"
      ],
      "text/plain": [
       "<IPython.core.display.Markdown object>"
      ]
     },
     "metadata": {},
     "output_type": "display_data"
    },
    {
     "data": {
      "image/png": "[encoded data removed]",
      "text/plain": [
       "<Figure size 432x288 with 1 Axes>"
      ]
     },
     "metadata": {
      "needs_background": "light"
     },
     "output_type": "display_data"
    },
    {
     "data": {
      "image/png": "[encoded data removed]",
      "text/plain": [
       "<Figure size 432x288 with 2 Axes>"
      ]
     },
     "metadata": {
      "needs_background": "light"
     },
     "output_type": "display_data"
    },
    {
     "data": {
      "text/html": [
       "<table>\n",
       "<tbody>\n",
       "<tr><td>Precision</td><td>Recall</td><td>Accuracy</td><td>F1  </td></tr>\n",
       "<tr><td>0.84     </td><td>0.13  </td><td>0.92    </td><td>0.23</td></tr>\n",
       "</tbody>\n",
       "</table>"
      ],
      "text/plain": [
       "'<table>\\n<tbody>\\n<tr><td>Precision</td><td>Recall</td><td>Accuracy</td><td>F1  </td></tr>\\n<tr><td>0.84     </td><td>0.13  </td><td>0.92    </td><td>0.23</td></tr>\\n</tbody>\\n</table>'"
      ]
     },
     "metadata": {},
     "output_type": "display_data"
    }
   ],
   "source": [
    "from sklearn.model_selection import train_test_split\n",
    "from sklearn import tree\n",
    "\n",
    "dt = DecisionTreeClassifier(max_depth=3)\n",
    "dt.fit(X_train, y_train)\n",
    "y_pred = dt.predict(X_test)\n",
    "\n",
    "tree.plot_tree(dt)\n",
    "\n",
    "evaluate_model('Arboles de decision parametros default',y_test, y_pred)\n"
   ]
  },
  {
   "cell_type": "markdown",
   "metadata": {},
   "source": [
    "Arboles de decision optimizado"
   ]
  },
  {
   "cell_type": "code",
   "execution_count": 8,
   "metadata": {},
   "outputs": [
    {
     "name": "stdout",
     "output_type": "stream",
     "text": [
      "Fitting 3 folds for each of 1440 candidates, totalling 4320 fits\n",
      "Train Accuracy : 0.991\n",
      "Test Accuracy : 0.965\n",
      "Best Score Through Grid Search : 0.960\n",
      "Best Parameters :  {'max_depth': 16, 'max_features': None, 'max_leaf_nodes': None, 'min_samples_leaf': 1, 'min_weight_fraction_leaf': 0, 'splitter': 'random'}\n",
      "Best Parameters :  {'max_depth': 16, 'max_features': None, 'max_leaf_nodes': None, 'min_samples_leaf': 1, 'min_weight_fraction_leaf': 0, 'splitter': 'random'}\n"
     ]
    },
    {
     "data": {
      "text/markdown": [
       "Arboles de decision optimizado"
      ],
      "text/plain": [
       "<IPython.core.display.Markdown object>"
      ]
     },
     "metadata": {},
     "output_type": "display_data"
    },
    {
     "data": {
      "image/png": "[encoded data removed]",
      "text/plain": [
       "<Figure size 432x288 with 2 Axes>"
      ]
     },
     "metadata": {
      "needs_background": "light"
     },
     "output_type": "display_data"
    },
    {
     "data": {
      "text/html": [
       "<table>\n",
       "<tbody>\n",
       "<tr><td>Precision</td><td>Recall</td><td>Accuracy</td><td>F1  </td></tr>\n",
       "<tr><td>0.82     </td><td>0.71  </td><td>0.96    </td><td>0.76</td></tr>\n",
       "</tbody>\n",
       "</table>"
      ],
      "text/plain": [
       "'<table>\\n<tbody>\\n<tr><td>Precision</td><td>Recall</td><td>Accuracy</td><td>F1  </td></tr>\\n<tr><td>0.82     </td><td>0.71  </td><td>0.96    </td><td>0.76</td></tr>\\n</tbody>\\n</table>'"
      ]
     },
     "metadata": {},
     "output_type": "display_data"
    }
   ],
   "source": [
    "from sklearn.tree import ExtraTreeClassifier\n",
    "from sklearn.tree import DecisionTreeRegressor\n",
    "#extra_tree_classifier = ExtraTreeClassifier(random_state=1)\n",
    "#extra_tree_classifier.fit(X_train, y_train)\n",
    "\n",
    "from sklearn.model_selection import GridSearchCV\n",
    "\n",
    "parameters={\"splitter\":[\"best\",\"random\"],\n",
    "            \"max_depth\" : [11,12,13,14,15,16],\n",
    "           \"min_samples_leaf\":[1,2,3,4,5],\n",
    "           \"min_weight_fraction_leaf\":[0, 0.1,0.2],\n",
    "           \"max_features\":[\"auto\",\"log2\",\"sqrt\",None],\n",
    "           \"max_leaf_nodes\":[None,10] }\n",
    "\n",
    "grid = GridSearchCV(DecisionTreeClassifier(random_state=1), cv=3, n_jobs=-1, verbose=3,\n",
    "                    param_grid =parameters\n",
    "                    )\n",
    "\n",
    "grid.fit(X_train, y_train)\n",
    "\n",
    "print('Train Accuracy : %.3f'%grid.best_estimator_.score(X_train, y_train))\n",
    "print('Test Accuracy : %.3f'%grid.best_estimator_.score(X_test, y_test))\n",
    "print('Best Score Through Grid Search : %.3f'%grid.best_score_)\n",
    "print('Best Parameters : ',grid.best_params_)\n",
    "\n",
    "dt = DecisionTreeClassifier(max_depth=grid.best_params_['max_depth'], \n",
    "                            max_features=grid.best_params_['max_features'],\n",
    "                            max_leaf_nodes=grid.best_params_['max_leaf_nodes'],\n",
    "                            min_samples_leaf=grid.best_params_['min_samples_leaf'],\n",
    "                            min_weight_fraction_leaf=grid.best_params_['min_weight_fraction_leaf'],\n",
    "                            splitter=grid.best_params_['splitter']\n",
    ")\n",
    "dt.fit(X_train, y_train)\n",
    "\n",
    "y_pred = dt.predict(X_test)\n",
    "print('Best Parameters : ',grid.best_params_)\n",
    "evaluate_model('Arboles de decision optimizado',y_test, y_pred)"
   ]
  },
  {
   "cell_type": "markdown",
   "metadata": {},
   "source": [
    "Random Forest default"
   ]
  },
  {
   "cell_type": "code",
   "execution_count": 9,
   "metadata": {},
   "outputs": [
    {
     "data": {
      "text/markdown": [
       "Random Forest default"
      ],
      "text/plain": [
       "<IPython.core.display.Markdown object>"
      ]
     },
     "metadata": {},
     "output_type": "display_data"
    },
    {
     "data": {
      "image/png": "[encoded data removed]",
      "text/plain": [
       "<Figure size 432x288 with 2 Axes>"
      ]
     },
     "metadata": {
      "needs_background": "light"
     },
     "output_type": "display_data"
    },
    {
     "data": {
      "text/html": [
       "<table>\n",
       "<tbody>\n",
       "<tr><td>Precision</td><td>Recall</td><td>Accuracy</td><td>F1  </td></tr>\n",
       "<tr><td>0.94     </td><td>0.82  </td><td>0.98    </td><td>0.88</td></tr>\n",
       "</tbody>\n",
       "</table>"
      ],
      "text/plain": [
       "'<table>\\n<tbody>\\n<tr><td>Precision</td><td>Recall</td><td>Accuracy</td><td>F1  </td></tr>\\n<tr><td>0.94     </td><td>0.82  </td><td>0.98    </td><td>0.88</td></tr>\\n</tbody>\\n</table>'"
      ]
     },
     "metadata": {},
     "output_type": "display_data"
    }
   ],
   "source": [
    "from sklearn.ensemble import RandomForestClassifier\n",
    "\n",
    "#Create a Gaussian Classifier\n",
    "dt=RandomForestClassifier()\n",
    "dt.fit(X_train,y_train)\n",
    "\n",
    "y_pred = dt.predict(X_test)\n",
    "evaluate_model('Random Forest default', y_test, y_pred)"
   ]
  },
  {
   "cell_type": "markdown",
   "metadata": {},
   "source": [
    "Random forest optimizado"
   ]
  },
  {
   "cell_type": "code",
   "execution_count": 10,
   "metadata": {},
   "outputs": [
    {
     "name": "stdout",
     "output_type": "stream",
     "text": [
      "Fitting 3 folds for each of 432 candidates, totalling 1296 fits\n",
      "Train Accuracy : 0.998\n",
      "Test Accuracy : 0.979\n",
      "Best Score Through Grid Search : 0.972\n",
      "Best Parameters :  {'bootstrap': False, 'max_depth': 15, 'max_features': 'sqrt', 'min_samples_leaf': 1, 'min_samples_split': 2, 'n_estimators': 200}\n"
     ]
    },
    {
     "data": {
      "text/markdown": [
       "Random forest optimizado"
      ],
      "text/plain": [
       "<IPython.core.display.Markdown object>"
      ]
     },
     "metadata": {},
     "output_type": "display_data"
    },
    {
     "data": {
      "image/png": "[encoded data removed]",
      "text/plain": [
       "<Figure size 432x288 with 2 Axes>"
      ]
     },
     "metadata": {
      "needs_background": "light"
     },
     "output_type": "display_data"
    },
    {
     "data": {
      "text/html": [
       "<table>\n",
       "<tbody>\n",
       "<tr><td>Precision</td><td>Recall</td><td>Accuracy</td><td>F1  </td></tr>\n",
       "<tr><td>0.94     </td><td>0.81  </td><td>0.98    </td><td>0.87</td></tr>\n",
       "</tbody>\n",
       "</table>"
      ],
      "text/plain": [
       "'<table>\\n<tbody>\\n<tr><td>Precision</td><td>Recall</td><td>Accuracy</td><td>F1  </td></tr>\\n<tr><td>0.94     </td><td>0.81  </td><td>0.98    </td><td>0.87</td></tr>\\n</tbody>\\n</table>'"
      ]
     },
     "metadata": {},
     "output_type": "display_data"
    }
   ],
   "source": [
    "\n",
    "from sklearn.ensemble import RandomForestClassifier\n",
    "from sklearn.model_selection import GridSearchCV\n",
    "\n",
    "param_grid = {\n",
    "    'bootstrap': [True, False],\n",
    "    'max_depth': [12,13,14,15],\n",
    "    'max_features': [\"auto\", \"sqrt\", \"log2\"],\n",
    "    'min_samples_leaf': [1,2,3],\n",
    "    'min_samples_split': [2, 5 , 10],\n",
    "    'n_estimators': [100, 200]\n",
    "}\n",
    "# Create a based model\n",
    "rf = RandomForestClassifier()\n",
    "# Instantiate the grid search model\n",
    "grid = GridSearchCV(estimator = rf, param_grid = param_grid, cv = 3, n_jobs = -1, verbose = 2)\n",
    "grid.fit(X_train, y_train)\n",
    "\n",
    "print('Train Accuracy : %.3f'%grid.best_estimator_.score(X_train, y_train))\n",
    "print('Test Accuracy : %.3f'%grid.best_estimator_.score(X_test, y_test))\n",
    "print('Best Score Through Grid Search : %.3f'%grid.best_score_)\n",
    "print('Best Parameters : ',grid.best_params_)\n",
    "\n",
    "dt = RandomForestClassifier(bootstrap=grid.best_params_['bootstrap'], \n",
    "                            max_depth=grid.best_params_['max_depth'],\n",
    "                            max_features=grid.best_params_['max_features'],\n",
    "                            min_samples_leaf=grid.best_params_['min_samples_leaf'],\n",
    "                            min_samples_split=grid.best_params_['min_samples_split'],\n",
    "                            n_estimators=grid.best_params_['n_estimators']\n",
    ")\n",
    "dt.fit(X_train, y_train)\n",
    "y_pred = dt.predict(X_test)\n",
    "evaluate_model('Random forest optimizado', y_test, y_pred)\n"
   ]
  },
  {
   "cell_type": "code",
   "execution_count": 11,
   "metadata": {},
   "outputs": [
    {
     "name": "stdout",
     "output_type": "stream",
     "text": [
      "Best Parameters :  {'bootstrap': False, 'max_depth': 15, 'max_features': 'sqrt', 'min_samples_leaf': 1, 'min_samples_split': 2, 'n_estimators': 200}\n"
     ]
    }
   ],
   "source": [
    "print('Best Parameters : ',grid.best_params_)"
   ]
  },
  {
   "cell_type": "markdown",
   "metadata": {},
   "source": [
    "Support Vector Machine."
   ]
  },
  {
   "cell_type": "code",
   "execution_count": 12,
   "metadata": {},
   "outputs": [
    {
     "name": "stdout",
     "output_type": "stream",
     "text": [
      "Fitting 5 folds for each of 12 candidates, totalling 60 fits\n"
     ]
    },
    {
     "data": {
      "text/markdown": [
       "rbf"
      ],
      "text/plain": [
       "<IPython.core.display.Markdown object>"
      ]
     },
     "metadata": {},
     "output_type": "display_data"
    },
    {
     "data": {
      "image/png": "[encoded data removed]",
      "text/plain": [
       "<Figure size 432x288 with 2 Axes>"
      ]
     },
     "metadata": {
      "needs_background": "light"
     },
     "output_type": "display_data"
    },
    {
     "data": {
      "text/html": [
       "<table>\n",
       "<tbody>\n",
       "<tr><td>Precision</td><td>Recall</td><td>Accuracy</td><td>F1  </td></tr>\n",
       "<tr><td>0.84     </td><td>0.73  </td><td>0.96    </td><td>0.78</td></tr>\n",
       "</tbody>\n",
       "</table>"
      ],
      "text/plain": [
       "'<table>\\n<tbody>\\n<tr><td>Precision</td><td>Recall</td><td>Accuracy</td><td>F1  </td></tr>\\n<tr><td>0.84     </td><td>0.73  </td><td>0.96    </td><td>0.78</td></tr>\\n</tbody>\\n</table>'"
      ]
     },
     "metadata": {},
     "output_type": "display_data"
    },
    {
     "name": "stdout",
     "output_type": "stream",
     "text": [
      "Train Accuracy : 0.983\n",
      "Test Accuracy : 0.965\n",
      "Best Score Through Grid Search : 0.960\n",
      "Best Parameters :  {'C': 100, 'gamma': 1e-06, 'kernel': 'rbf'}\n",
      "Fitting 5 folds for each of 48 candidates, totalling 240 fits\n"
     ]
    },
    {
     "data": {
      "text/markdown": [
       "sigmoid"
      ],
      "text/plain": [
       "<IPython.core.display.Markdown object>"
      ]
     },
     "metadata": {},
     "output_type": "display_data"
    },
    {
     "data": {
      "image/png": "[encoded data removed]",
      "text/plain": [
       "<Figure size 432x288 with 2 Axes>"
      ]
     },
     "metadata": {
      "needs_background": "light"
     },
     "output_type": "display_data"
    },
    {
     "data": {
      "text/html": [
       "<table>\n",
       "<tbody>\n",
       "<tr><td>Precision</td><td>Recall</td><td>Accuracy</td><td>F1  </td></tr>\n",
       "<tr><td>0.00     </td><td>0.00  </td><td>0.91    </td><td>0.00</td></tr>\n",
       "</tbody>\n",
       "</table>"
      ],
      "text/plain": [
       "'<table>\\n<tbody>\\n<tr><td>Precision</td><td>Recall</td><td>Accuracy</td><td>F1  </td></tr>\\n<tr><td>0.00     </td><td>0.00  </td><td>0.91    </td><td>0.00</td></tr>\\n</tbody>\\n</table>'"
      ]
     },
     "metadata": {},
     "output_type": "display_data"
    },
    {
     "name": "stdout",
     "output_type": "stream",
     "text": [
      "Train Accuracy : 0.912\n",
      "Test Accuracy : 0.914\n",
      "Best Score Through Grid Search : 0.912\n",
      "Best Parameters :  {'C': 0.001, 'coef0': 0.01, 'gamma': 0.1, 'kernel': 'sigmoid'}\n"
     ]
    }
   ],
   "source": [
    "from sklearn.svm import SVC\n",
    "from sklearn.model_selection import GridSearchCV\n",
    "\n",
    "parameters = [{'kernel': ['rbf'], 'gamma': [1e-2, 1e-3, 1e-4, 1e-5],'C': [0.001, 0.10, 0.1, 10 ]},\n",
    "              {'kernel': ['sigmoid'], 'gamma': [1e-2, 1e-3, 1e-4, 1e-5],'C': [0.001, 0.10, 0.1, 10], 'coef0 ':[0,0.1,1]},\n",
    "              {'kernel': ['linear'], 'C': [0.001, 0.10, 0.1, 1]}     \n",
    "]\n",
    "\n",
    "parameters = [{'kernel': ['rbf'], 'gamma': [1e-4,1e-5,1e-6],'C': [0.001,1,10,100]},\n",
    "              {'kernel': ['sigmoid'], 'gamma': [1e-1,1e-2,1e-3],'C': [0.001, 0.10,0.1,1],'coef0' : [0.01,0.1,1,10]},\n",
    "              #{'kernel': ['linear'], 'C': [1]}\n",
    "              ]\n",
    "\n",
    "for parameter in parameters:\n",
    "    param_grid = parameter\n",
    "    \n",
    "    grid = GridSearchCV(SVC(), param_grid, n_jobs = -1, verbose = 3)\n",
    "    grid.fit(X_train, y_train)\n",
    "    kernel_str = parameter['kernel'][0]\n",
    "    y_pred = grid.predict(X_test)\n",
    "    dt = grid\n",
    "    evaluate_model(kernel_str, y_test, y_pred)\n",
    "    \n",
    "    print('Train Accuracy : %.3f'%grid.best_estimator_.score(X_train, y_train))\n",
    "    print('Test Accuracy : %.3f'%grid.best_estimator_.score(X_test, y_test))\n",
    "    print('Best Score Through Grid Search : %.3f'%grid.best_score_)\n",
    "    print('Best Parameters : ',grid.best_params_)"
   ]
  },
  {
   "cell_type": "markdown",
   "metadata": {},
   "source": [
    "light_gbm default"
   ]
  },
  {
   "cell_type": "code",
   "execution_count": 13,
   "metadata": {},
   "outputs": [
    {
     "data": {
      "text/markdown": [
       "light_gbm default"
      ],
      "text/plain": [
       "<IPython.core.display.Markdown object>"
      ]
     },
     "metadata": {},
     "output_type": "display_data"
    },
    {
     "data": {
      "image/png": "[encoded data removed]",
      "text/plain": [
       "<Figure size 432x288 with 2 Axes>"
      ]
     },
     "metadata": {
      "needs_background": "light"
     },
     "output_type": "display_data"
    },
    {
     "data": {
      "text/html": [
       "<table>\n",
       "<tbody>\n",
       "<tr><td>Precision</td><td>Recall</td><td>Accuracy</td><td>F1  </td></tr>\n",
       "<tr><td>0.90     </td><td>0.78  </td><td>0.97    </td><td>0.83</td></tr>\n",
       "</tbody>\n",
       "</table>"
      ],
      "text/plain": [
       "'<table>\\n<tbody>\\n<tr><td>Precision</td><td>Recall</td><td>Accuracy</td><td>F1  </td></tr>\\n<tr><td>0.90     </td><td>0.78  </td><td>0.97    </td><td>0.83</td></tr>\\n</tbody>\\n</table>'"
      ]
     },
     "metadata": {},
     "output_type": "display_data"
    }
   ],
   "source": [
    "import lightgbm as lgb\n",
    "from sklearn.model_selection import GridSearchCV\n",
    "\n",
    "dt=lgb.LGBMClassifier()\n",
    "dt.fit(X_train,y_train)\n",
    "\n",
    "y_pred = dt.predict(X_test)\n",
    "evaluate_model('light_gbm default',y_test, y_pred)"
   ]
  },
  {
   "cell_type": "markdown",
   "metadata": {},
   "source": [
    "light_gbm con optimizacion bayesiana."
   ]
  },
  {
   "cell_type": "code",
   "execution_count": 14,
   "metadata": {},
   "outputs": [
    {
     "name": "stdout",
     "output_type": "stream",
     "text": [
      "|   iter    |  target   | featur... | lambda_l1 | lambda_l2 | learni... | min_sp... | num_le... |\n",
      "-------------------------------------------------------------------------------------------------\n",
      "[LightGBM] [Warning] objective is set=binary, application=binary will be ignored. Current value: objective=binary\n",
      "| \u001b[0m 1       \u001b[0m | \u001b[0m 0.4495  \u001b[0m | \u001b[0m 0.9272  \u001b[0m | \u001b[0m 6.422   \u001b[0m | \u001b[0m 75.37   \u001b[0m | \u001b[0m 0.02254 \u001b[0m | \u001b[0m 1.746   \u001b[0m | \u001b[0m 808.6   \u001b[0m |\n",
      "| \u001b[0m 2       \u001b[0m | \u001b[0m 0.3954  \u001b[0m | \u001b[0m 0.3935  \u001b[0m | \u001b[0m 5.411   \u001b[0m | \u001b[0m 24.02   \u001b[0m | \u001b[0m 0.05909 \u001b[0m | \u001b[0m 8.011   \u001b[0m | \u001b[0m 734.6   \u001b[0m |\n",
      "| \u001b[0m 3       \u001b[0m | \u001b[0m 0.369   \u001b[0m | \u001b[0m 0.853   \u001b[0m | \u001b[0m 5.885   \u001b[0m | \u001b[0m 29.62   \u001b[0m | \u001b[0m 0.03529 \u001b[0m | \u001b[0m 14.11   \u001b[0m | \u001b[0m 437.4   \u001b[0m |\n",
      "| \u001b[0m 4       \u001b[0m | \u001b[0m 0.4046  \u001b[0m | \u001b[0m 0.1516  \u001b[0m | \u001b[0m 7.47    \u001b[0m | \u001b[0m 45.23   \u001b[0m | \u001b[0m 0.02582 \u001b[0m | \u001b[0m 0.9875  \u001b[0m | \u001b[0m 305.2   \u001b[0m |\n",
      "| \u001b[0m 5       \u001b[0m | \u001b[0m 0.3718  \u001b[0m | \u001b[0m 0.1601  \u001b[0m | \u001b[0m 7.512   \u001b[0m | \u001b[0m 6.377   \u001b[0m | \u001b[0m 0.04887 \u001b[0m | \u001b[0m 7.283   \u001b[0m | \u001b[0m 162.4   \u001b[0m |\n",
      "| \u001b[0m 6       \u001b[0m | \u001b[0m 0.4365  \u001b[0m | \u001b[0m 0.592   \u001b[0m | \u001b[0m 4.433   \u001b[0m | \u001b[0m 3.606   \u001b[0m | \u001b[0m 0.08406 \u001b[0m | \u001b[0m 5.466   \u001b[0m | \u001b[0m 179.7   \u001b[0m |\n",
      "| \u001b[0m 7       \u001b[0m | \u001b[0m 0.4047  \u001b[0m | \u001b[0m 0.6799  \u001b[0m | \u001b[0m 1.075   \u001b[0m | \u001b[0m 35.32   \u001b[0m | \u001b[0m 0.04471 \u001b[0m | \u001b[0m 8.911   \u001b[0m | \u001b[0m 1.001e+0\u001b[0m |\n",
      "| \u001b[0m 8       \u001b[0m | \u001b[0m 0.3911  \u001b[0m | \u001b[0m 0.7565  \u001b[0m | \u001b[0m 3.122   \u001b[0m | \u001b[0m 89.48   \u001b[0m | \u001b[0m 0.08049 \u001b[0m | \u001b[0m 5.24    \u001b[0m | \u001b[0m 322.4   \u001b[0m |\n",
      "| \u001b[0m 9       \u001b[0m | \u001b[0m 0.3419  \u001b[0m | \u001b[0m 0.2165  \u001b[0m | \u001b[0m 4.222   \u001b[0m | \u001b[0m 93.98   \u001b[0m | \u001b[0m 0.04303 \u001b[0m | \u001b[0m 8.695   \u001b[0m | \u001b[0m 939.8   \u001b[0m |\n",
      "| \u001b[95m 10      \u001b[0m | \u001b[95m 0.4511  \u001b[0m | \u001b[95m 0.9526  \u001b[0m | \u001b[95m 2.548   \u001b[0m | \u001b[95m 70.97   \u001b[0m | \u001b[95m 0.0145  \u001b[0m | \u001b[95m 2.695   \u001b[0m | \u001b[95m 522.6   \u001b[0m |\n",
      "| \u001b[0m 11      \u001b[0m | \u001b[0m 0.3811  \u001b[0m | \u001b[0m 0.6302  \u001b[0m | \u001b[0m 3.269   \u001b[0m | \u001b[0m 14.48   \u001b[0m | \u001b[0m 0.03319 \u001b[0m | \u001b[0m 17.15   \u001b[0m | \u001b[0m 702.9   \u001b[0m |\n",
      "| \u001b[0m 12      \u001b[0m | \u001b[0m 0.3787  \u001b[0m | \u001b[0m 0.9988  \u001b[0m | \u001b[0m 3.195   \u001b[0m | \u001b[0m 45.34   \u001b[0m | \u001b[0m 0.08809 \u001b[0m | \u001b[0m 12.77   \u001b[0m | \u001b[0m 345.2   \u001b[0m |\n",
      "| \u001b[0m 13      \u001b[0m | \u001b[0m 0.3623  \u001b[0m | \u001b[0m 0.5878  \u001b[0m | \u001b[0m 1.123   \u001b[0m | \u001b[0m 81.65   \u001b[0m | \u001b[0m 0.02988 \u001b[0m | \u001b[0m 10.3    \u001b[0m | \u001b[0m 542.5   \u001b[0m |\n",
      "| \u001b[0m 14      \u001b[0m | \u001b[0m 0.3239  \u001b[0m | \u001b[0m 0.3494  \u001b[0m | \u001b[0m 9.044   \u001b[0m | \u001b[0m 42.04   \u001b[0m | \u001b[0m 0.09541 \u001b[0m | \u001b[0m 15.73   \u001b[0m | \u001b[0m 497.3   \u001b[0m |\n",
      "| \u001b[0m 15      \u001b[0m | \u001b[0m 0.4177  \u001b[0m | \u001b[0m 0.1107  \u001b[0m | \u001b[0m 0.5972  \u001b[0m | \u001b[0m 82.57   \u001b[0m | \u001b[0m 0.04642 \u001b[0m | \u001b[0m 1.063   \u001b[0m | \u001b[0m 271.8   \u001b[0m |\n",
      "| \u001b[0m 16      \u001b[0m | \u001b[0m 0.3751  \u001b[0m | \u001b[0m 0.353   \u001b[0m | \u001b[0m 9.433   \u001b[0m | \u001b[0m 89.36   \u001b[0m | \u001b[0m 0.02821 \u001b[0m | \u001b[0m 2.007   \u001b[0m | \u001b[0m 590.2   \u001b[0m |\n",
      "| \u001b[0m 17      \u001b[0m | \u001b[0m 0.3461  \u001b[0m | \u001b[0m 0.7708  \u001b[0m | \u001b[0m 6.008   \u001b[0m | \u001b[0m 90.92   \u001b[0m | \u001b[0m 0.09447 \u001b[0m | \u001b[0m 11.23   \u001b[0m | \u001b[0m 913.1   \u001b[0m |\n",
      "| \u001b[0m 18      \u001b[0m | \u001b[0m 0.4055  \u001b[0m | \u001b[0m 0.3812  \u001b[0m | \u001b[0m 7.711   \u001b[0m | \u001b[0m 21.37   \u001b[0m | \u001b[0m 0.03595 \u001b[0m | \u001b[0m 5.469   \u001b[0m | \u001b[0m 260.5   \u001b[0m |\n",
      "| \u001b[0m 19      \u001b[0m | \u001b[0m 0.3035  \u001b[0m | \u001b[0m 0.113   \u001b[0m | \u001b[0m 6.091   \u001b[0m | \u001b[0m 86.18   \u001b[0m | \u001b[0m 0.03332 \u001b[0m | \u001b[0m 17.34   \u001b[0m | \u001b[0m 441.4   \u001b[0m |\n",
      "| \u001b[0m 20      \u001b[0m | \u001b[0m 0.3618  \u001b[0m | \u001b[0m 0.2444  \u001b[0m | \u001b[0m 0.5653  \u001b[0m | \u001b[0m 42.28   \u001b[0m | \u001b[0m 0.07624 \u001b[0m | \u001b[0m 9.539   \u001b[0m | \u001b[0m 719.9   \u001b[0m |\n",
      "| \u001b[0m 21      \u001b[0m | \u001b[0m 0.3547  \u001b[0m | \u001b[0m 0.9336  \u001b[0m | \u001b[0m 4.527   \u001b[0m | \u001b[0m 39.18   \u001b[0m | \u001b[0m 0.04233 \u001b[0m | \u001b[0m 18.41   \u001b[0m | \u001b[0m 36.26   \u001b[0m |\n",
      "| \u001b[0m 22      \u001b[0m | \u001b[0m 0.339   \u001b[0m | \u001b[0m 0.3115  \u001b[0m | \u001b[0m 0.7954  \u001b[0m | \u001b[0m 56.58   \u001b[0m | \u001b[0m 0.03654 \u001b[0m | \u001b[0m 14.39   \u001b[0m | \u001b[0m 108.4   \u001b[0m |\n",
      "| \u001b[0m 23      \u001b[0m | \u001b[0m 0.3581  \u001b[0m | \u001b[0m 0.1241  \u001b[0m | \u001b[0m 7.018   \u001b[0m | \u001b[0m 79.15   \u001b[0m | \u001b[0m 0.04404 \u001b[0m | \u001b[0m 4.946   \u001b[0m | \u001b[0m 275.0   \u001b[0m |\n",
      "| \u001b[95m 24      \u001b[0m | \u001b[95m 0.4529  \u001b[0m | \u001b[95m 0.5486  \u001b[0m | \u001b[95m 3.042   \u001b[0m | \u001b[95m 71.86   \u001b[0m | \u001b[95m 0.06496 \u001b[0m | \u001b[95m 1.293   \u001b[0m | \u001b[95m 158.4   \u001b[0m |\n",
      "| \u001b[0m 25      \u001b[0m | \u001b[0m 0.3554  \u001b[0m | \u001b[0m 0.9732  \u001b[0m | \u001b[0m 4.715   \u001b[0m | \u001b[0m 73.32   \u001b[0m | \u001b[0m 0.02896 \u001b[0m | \u001b[0m 12.85   \u001b[0m | \u001b[0m 934.2   \u001b[0m |\n",
      "| \u001b[0m 26      \u001b[0m | \u001b[0m 0.3766  \u001b[0m | \u001b[0m 0.1311  \u001b[0m | \u001b[0m 1.774   \u001b[0m | \u001b[0m 29.63   \u001b[0m | \u001b[0m 0.03814 \u001b[0m | \u001b[0m 6.498   \u001b[0m | \u001b[0m 595.3   \u001b[0m |\n",
      "| \u001b[95m 27      \u001b[0m | \u001b[95m 0.4636  \u001b[0m | \u001b[95m 0.9985  \u001b[0m | \u001b[95m 3.548   \u001b[0m | \u001b[95m 2.08    \u001b[0m | \u001b[95m 0.01897 \u001b[0m | \u001b[95m 7.832   \u001b[0m | \u001b[95m 622.3   \u001b[0m |\n",
      "| \u001b[0m 28      \u001b[0m | \u001b[0m 0.3743  \u001b[0m | \u001b[0m 0.8914  \u001b[0m | \u001b[0m 1.426   \u001b[0m | \u001b[0m 35.44   \u001b[0m | \u001b[0m 0.05949 \u001b[0m | \u001b[0m 16.75   \u001b[0m | \u001b[0m 607.6   \u001b[0m |\n",
      "| \u001b[0m 29      \u001b[0m | \u001b[0m 0.3801  \u001b[0m | \u001b[0m 0.9953  \u001b[0m | \u001b[0m 7.489   \u001b[0m | \u001b[0m 3.043   \u001b[0m | \u001b[0m 0.09311 \u001b[0m | \u001b[0m 19.6    \u001b[0m | \u001b[0m 350.7   \u001b[0m |\n",
      "| \u001b[0m 30      \u001b[0m | \u001b[0m 0.3186  \u001b[0m | \u001b[0m 0.688   \u001b[0m | \u001b[0m 5.806   \u001b[0m | \u001b[0m 92.32   \u001b[0m | \u001b[0m 0.08458 \u001b[0m | \u001b[0m 17.68   \u001b[0m | \u001b[0m 895.5   \u001b[0m |\n",
      "| \u001b[0m 31      \u001b[0m | \u001b[0m 0.3497  \u001b[0m | \u001b[0m 0.5153  \u001b[0m | \u001b[0m 7.028   \u001b[0m | \u001b[0m 96.01   \u001b[0m | \u001b[0m 0.03581 \u001b[0m | \u001b[0m 9.073   \u001b[0m | \u001b[0m 242.8   \u001b[0m |\n",
      "| \u001b[0m 32      \u001b[0m | \u001b[0m 0.3971  \u001b[0m | \u001b[0m 0.6056  \u001b[0m | \u001b[0m 2.454   \u001b[0m | \u001b[0m 34.22   \u001b[0m | \u001b[0m 0.03058 \u001b[0m | \u001b[0m 8.145   \u001b[0m | \u001b[0m 162.2   \u001b[0m |\n",
      "| \u001b[0m 33      \u001b[0m | \u001b[0m 0.3437  \u001b[0m | \u001b[0m 0.9893  \u001b[0m | \u001b[0m 4.554   \u001b[0m | \u001b[0m 53.74   \u001b[0m | \u001b[0m 0.07905 \u001b[0m | \u001b[0m 18.53   \u001b[0m | \u001b[0m 752.0   \u001b[0m |\n",
      "| \u001b[0m 34      \u001b[0m | \u001b[0m 0.3102  \u001b[0m | \u001b[0m 0.1719  \u001b[0m | \u001b[0m 8.153   \u001b[0m | \u001b[0m 56.04   \u001b[0m | \u001b[0m 0.06063 \u001b[0m | \u001b[0m 18.15   \u001b[0m | \u001b[0m 251.0   \u001b[0m |\n",
      "| \u001b[0m 35      \u001b[0m | \u001b[0m 0.3534  \u001b[0m | \u001b[0m 0.9254  \u001b[0m | \u001b[0m 2.408   \u001b[0m | \u001b[0m 87.9    \u001b[0m | \u001b[0m 0.05939 \u001b[0m | \u001b[0m 13.32   \u001b[0m | \u001b[0m 525.2   \u001b[0m |\n",
      "| \u001b[0m 36      \u001b[0m | \u001b[0m 0.3481  \u001b[0m | \u001b[0m 0.5179  \u001b[0m | \u001b[0m 8.496   \u001b[0m | \u001b[0m 77.44   \u001b[0m | \u001b[0m 0.0284  \u001b[0m | \u001b[0m 9.7     \u001b[0m | \u001b[0m 601.3   \u001b[0m |\n",
      "| \u001b[95m 37      \u001b[0m | \u001b[95m 0.4992  \u001b[0m | \u001b[95m 0.743   \u001b[0m | \u001b[95m 5.794   \u001b[0m | \u001b[95m 0.8136  \u001b[0m | \u001b[95m 0.0726  \u001b[0m | \u001b[95m 2.107   \u001b[0m | \u001b[95m 987.3   \u001b[0m |\n",
      "| \u001b[0m 38      \u001b[0m | \u001b[0m 0.3272  \u001b[0m | \u001b[0m 0.2559  \u001b[0m | \u001b[0m 9.432   \u001b[0m | \u001b[0m 53.64   \u001b[0m | \u001b[0m 0.09273 \u001b[0m | \u001b[0m 13.02   \u001b[0m | \u001b[0m 1.004e+0\u001b[0m |\n",
      "| \u001b[0m 39      \u001b[0m | \u001b[0m 0.3316  \u001b[0m | \u001b[0m 0.1184  \u001b[0m | \u001b[0m 4.868   \u001b[0m | \u001b[0m 52.21   \u001b[0m | \u001b[0m 0.03151 \u001b[0m | \u001b[0m 14.34   \u001b[0m | \u001b[0m 107.7   \u001b[0m |\n",
      "| \u001b[0m 40      \u001b[0m | \u001b[0m 0.3543  \u001b[0m | \u001b[0m 0.3038  \u001b[0m | \u001b[0m 5.556   \u001b[0m | \u001b[0m 0.1497  \u001b[0m | \u001b[0m 0.08264 \u001b[0m | \u001b[0m 16.26   \u001b[0m | \u001b[0m 240.8   \u001b[0m |\n",
      "| \u001b[0m 41      \u001b[0m | \u001b[0m 0.334   \u001b[0m | \u001b[0m 0.3237  \u001b[0m | \u001b[0m 6.44    \u001b[0m | \u001b[0m 82.48   \u001b[0m | \u001b[0m 0.08227 \u001b[0m | \u001b[0m 10.4    \u001b[0m | \u001b[0m 142.4   \u001b[0m |\n",
      "| \u001b[0m 42      \u001b[0m | \u001b[0m 0.339   \u001b[0m | \u001b[0m 0.2145  \u001b[0m | \u001b[0m 9.57    \u001b[0m | \u001b[0m 15.12   \u001b[0m | \u001b[0m 0.04443 \u001b[0m | \u001b[0m 13.98   \u001b[0m | \u001b[0m 23.84   \u001b[0m |\n",
      "| \u001b[0m 43      \u001b[0m | \u001b[0m 0.4805  \u001b[0m | \u001b[0m 0.7993  \u001b[0m | \u001b[0m 2.241   \u001b[0m | \u001b[0m 3.674   \u001b[0m | \u001b[0m 0.03128 \u001b[0m | \u001b[0m 4.859   \u001b[0m | \u001b[0m 451.0   \u001b[0m |\n",
      "| \u001b[0m 44      \u001b[0m | \u001b[0m 0.4224  \u001b[0m | \u001b[0m 0.6099  \u001b[0m | \u001b[0m 9.288   \u001b[0m | \u001b[0m 37.85   \u001b[0m | \u001b[0m 0.04546 \u001b[0m | \u001b[0m 2.123   \u001b[0m | \u001b[0m 294.0   \u001b[0m |\n",
      "| \u001b[0m 45      \u001b[0m | \u001b[0m 0.378   \u001b[0m | \u001b[0m 0.8314  \u001b[0m | \u001b[0m 1.5     \u001b[0m | \u001b[0m 17.45   \u001b[0m | \u001b[0m 0.05682 \u001b[0m | \u001b[0m 18.76   \u001b[0m | \u001b[0m 686.5   \u001b[0m |\n",
      "| \u001b[0m 46      \u001b[0m | \u001b[0m 0.3663  \u001b[0m | \u001b[0m 0.5144  \u001b[0m | \u001b[0m 7.836   \u001b[0m | \u001b[0m 35.75   \u001b[0m | \u001b[0m 0.07695 \u001b[0m | \u001b[0m 11.56   \u001b[0m | \u001b[0m 324.2   \u001b[0m |\n",
      "| \u001b[0m 47      \u001b[0m | \u001b[0m 0.4166  \u001b[0m | \u001b[0m 0.7151  \u001b[0m | \u001b[0m 2.57    \u001b[0m | \u001b[0m 4.239   \u001b[0m | \u001b[0m 0.08008 \u001b[0m | \u001b[0m 13.76   \u001b[0m | \u001b[0m 203.1   \u001b[0m |\n",
      "| \u001b[0m 48      \u001b[0m | \u001b[0m 0.436   \u001b[0m | \u001b[0m 0.9062  \u001b[0m | \u001b[0m 0.4065  \u001b[0m | \u001b[0m 65.8    \u001b[0m | \u001b[0m 0.09298 \u001b[0m | \u001b[0m 4.317   \u001b[0m | \u001b[0m 431.5   \u001b[0m |\n",
      "| \u001b[0m 49      \u001b[0m | \u001b[0m 0.375   \u001b[0m | \u001b[0m 0.2288  \u001b[0m | \u001b[0m 7.765   \u001b[0m | \u001b[0m 89.65   \u001b[0m | \u001b[0m 0.03971 \u001b[0m | \u001b[0m 2.349   \u001b[0m | \u001b[0m 89.16   \u001b[0m |\n",
      "| \u001b[0m 50      \u001b[0m | \u001b[0m 0.3468  \u001b[0m | \u001b[0m 0.5169  \u001b[0m | \u001b[0m 3.442   \u001b[0m | \u001b[0m 80.46   \u001b[0m | \u001b[0m 0.08537 \u001b[0m | \u001b[0m 12.49   \u001b[0m | \u001b[0m 305.5   \u001b[0m |\n",
      "| \u001b[0m 51      \u001b[0m | \u001b[0m 0.3451  \u001b[0m | \u001b[0m 0.9901  \u001b[0m | \u001b[0m 6.551   \u001b[0m | \u001b[0m 67.04   \u001b[0m | \u001b[0m 0.05361 \u001b[0m | \u001b[0m 15.44   \u001b[0m | \u001b[0m 739.6   \u001b[0m |\n",
      "| \u001b[0m 52      \u001b[0m | \u001b[0m 0.3735  \u001b[0m | \u001b[0m 0.3751  \u001b[0m | \u001b[0m 5.687   \u001b[0m | \u001b[0m 60.36   \u001b[0m | \u001b[0m 0.0978  \u001b[0m | \u001b[0m 8.656   \u001b[0m | \u001b[0m 361.9   \u001b[0m |\n",
      "| \u001b[0m 53      \u001b[0m | \u001b[0m 0.4072  \u001b[0m | \u001b[0m 0.2411  \u001b[0m | \u001b[0m 2.345   \u001b[0m | \u001b[0m 30.53   \u001b[0m | \u001b[0m 0.02611 \u001b[0m | \u001b[0m 2.176   \u001b[0m | \u001b[0m 50.2    \u001b[0m |\n",
      "| \u001b[0m 54      \u001b[0m | \u001b[0m 0.3844  \u001b[0m | \u001b[0m 0.6616  \u001b[0m | \u001b[0m 4.085   \u001b[0m | \u001b[0m 8.388   \u001b[0m | \u001b[0m 0.02283 \u001b[0m | \u001b[0m 17.18   \u001b[0m | \u001b[0m 974.9   \u001b[0m |\n",
      "| \u001b[0m 55      \u001b[0m | \u001b[0m 0.4176  \u001b[0m | \u001b[0m 0.3278  \u001b[0m | \u001b[0m 2.372   \u001b[0m | \u001b[0m 2.548   \u001b[0m | \u001b[0m 0.01621 \u001b[0m | \u001b[0m 2.725   \u001b[0m | \u001b[0m 251.0   \u001b[0m |\n",
      "| \u001b[0m 56      \u001b[0m | \u001b[0m 0.3568  \u001b[0m | \u001b[0m 0.5177  \u001b[0m | \u001b[0m 2.963   \u001b[0m | \u001b[0m 48.29   \u001b[0m | \u001b[0m 0.03691 \u001b[0m | \u001b[0m 15.06   \u001b[0m | \u001b[0m 159.1   \u001b[0m |\n",
      "| \u001b[0m 57      \u001b[0m | \u001b[0m 0.3839  \u001b[0m | \u001b[0m 0.8591  \u001b[0m | \u001b[0m 5.424   \u001b[0m | \u001b[0m 26.63   \u001b[0m | \u001b[0m 0.02495 \u001b[0m | \u001b[0m 10.91   \u001b[0m | \u001b[0m 557.1   \u001b[0m |\n",
      "| \u001b[0m 58      \u001b[0m | \u001b[0m 0.402   \u001b[0m | \u001b[0m 0.4831  \u001b[0m | \u001b[0m 9.849   \u001b[0m | \u001b[0m 19.22   \u001b[0m | \u001b[0m 0.03726 \u001b[0m | \u001b[0m 5.055   \u001b[0m | \u001b[0m 253.4   \u001b[0m |\n",
      "| \u001b[0m 59      \u001b[0m | \u001b[0m 0.3645  \u001b[0m | \u001b[0m 0.2925  \u001b[0m | \u001b[0m 1.588   \u001b[0m | \u001b[0m 88.11   \u001b[0m | \u001b[0m 0.03403 \u001b[0m | \u001b[0m 5.385   \u001b[0m | \u001b[0m 389.4   \u001b[0m |\n",
      "| \u001b[0m 60      \u001b[0m | \u001b[0m 0.3784  \u001b[0m | \u001b[0m 0.2548  \u001b[0m | \u001b[0m 9.896   \u001b[0m | \u001b[0m 24.7    \u001b[0m | \u001b[0m 0.09091 \u001b[0m | \u001b[0m 3.347   \u001b[0m | \u001b[0m 617.8   \u001b[0m |\n",
      "| \u001b[0m 61      \u001b[0m | \u001b[0m 0.4555  \u001b[0m | \u001b[0m 0.4428  \u001b[0m | \u001b[0m 3.21    \u001b[0m | \u001b[0m 14.33   \u001b[0m | \u001b[0m 0.09686 \u001b[0m | \u001b[0m 2.956   \u001b[0m | \u001b[0m 703.7   \u001b[0m |\n",
      "| \u001b[0m 62      \u001b[0m | \u001b[0m 0.4755  \u001b[0m | \u001b[0m 0.8813  \u001b[0m | \u001b[0m 2.88    \u001b[0m | \u001b[0m 5.885   \u001b[0m | \u001b[0m 0.02107 \u001b[0m | \u001b[0m 5.539   \u001b[0m | \u001b[0m 190.5   \u001b[0m |\n",
      "| \u001b[0m 63      \u001b[0m | \u001b[0m 0.3343  \u001b[0m | \u001b[0m 0.2378  \u001b[0m | \u001b[0m 0.5888  \u001b[0m | \u001b[0m 85.97   \u001b[0m | \u001b[0m 0.06393 \u001b[0m | \u001b[0m 12.88   \u001b[0m | \u001b[0m 67.37   \u001b[0m |\n",
      "| \u001b[0m 64      \u001b[0m | \u001b[0m 0.4177  \u001b[0m | \u001b[0m 0.5006  \u001b[0m | \u001b[0m 6.001   \u001b[0m | \u001b[0m 82.42   \u001b[0m | \u001b[0m 0.05599 \u001b[0m | \u001b[0m 2.056   \u001b[0m | \u001b[0m 263.9   \u001b[0m |\n",
      "| \u001b[0m 65      \u001b[0m | \u001b[0m 0.3773  \u001b[0m | \u001b[0m 0.6982  \u001b[0m | \u001b[0m 1.046   \u001b[0m | \u001b[0m 57.66   \u001b[0m | \u001b[0m 0.08354 \u001b[0m | \u001b[0m 11.06   \u001b[0m | \u001b[0m 733.7   \u001b[0m |\n",
      "| \u001b[0m 66      \u001b[0m | \u001b[0m 0.3828  \u001b[0m | \u001b[0m 0.9698  \u001b[0m | \u001b[0m 9.629   \u001b[0m | \u001b[0m 16.06   \u001b[0m | \u001b[0m 0.09197 \u001b[0m | \u001b[0m 12.7    \u001b[0m | \u001b[0m 585.6   \u001b[0m |\n",
      "| \u001b[0m 67      \u001b[0m | \u001b[0m 0.3592  \u001b[0m | \u001b[0m 0.4873  \u001b[0m | \u001b[0m 3.889   \u001b[0m | \u001b[0m 27.73   \u001b[0m | \u001b[0m 0.03669 \u001b[0m | \u001b[0m 17.75   \u001b[0m | \u001b[0m 171.6   \u001b[0m |\n",
      "| \u001b[0m 68      \u001b[0m | \u001b[0m 0.375   \u001b[0m | \u001b[0m 0.5521  \u001b[0m | \u001b[0m 6.876   \u001b[0m | \u001b[0m 58.11   \u001b[0m | \u001b[0m 0.08837 \u001b[0m | \u001b[0m 7.585   \u001b[0m | \u001b[0m 518.4   \u001b[0m |\n",
      "| \u001b[0m 69      \u001b[0m | \u001b[0m 0.3346  \u001b[0m | \u001b[0m 0.1469  \u001b[0m | \u001b[0m 1.029   \u001b[0m | \u001b[0m 30.51   \u001b[0m | \u001b[0m 0.03537 \u001b[0m | \u001b[0m 19.47   \u001b[0m | \u001b[0m 763.0   \u001b[0m |\n",
      "| \u001b[0m 70      \u001b[0m | \u001b[0m 0.3887  \u001b[0m | \u001b[0m 0.5797  \u001b[0m | \u001b[0m 4.74    \u001b[0m | \u001b[0m 19.69   \u001b[0m | \u001b[0m 0.04309 \u001b[0m | \u001b[0m 11.11   \u001b[0m | \u001b[0m 998.1   \u001b[0m |\n",
      "| \u001b[0m 71      \u001b[0m | \u001b[0m 0.3414  \u001b[0m | \u001b[0m 0.3954  \u001b[0m | \u001b[0m 1.637   \u001b[0m | \u001b[0m 65.93   \u001b[0m | \u001b[0m 0.08168 \u001b[0m | \u001b[0m 19.16   \u001b[0m | \u001b[0m 677.8   \u001b[0m |\n",
      "| \u001b[0m 72      \u001b[0m | \u001b[0m 0.4394  \u001b[0m | \u001b[0m 0.9063  \u001b[0m | \u001b[0m 0.9248  \u001b[0m | \u001b[0m 34.42   \u001b[0m | \u001b[0m 0.0561  \u001b[0m | \u001b[0m 6.233   \u001b[0m | \u001b[0m 836.7   \u001b[0m |\n",
      "| \u001b[0m 73      \u001b[0m | \u001b[0m 0.3541  \u001b[0m | \u001b[0m 0.1863  \u001b[0m | \u001b[0m 7.528   \u001b[0m | \u001b[0m 94.08   \u001b[0m | \u001b[0m 0.03297 \u001b[0m | \u001b[0m 5.031   \u001b[0m | \u001b[0m 572.2   \u001b[0m |\n",
      "| \u001b[0m 74      \u001b[0m | \u001b[0m 0.3812  \u001b[0m | \u001b[0m 0.7558  \u001b[0m | \u001b[0m 7.725   \u001b[0m | \u001b[0m 57.12   \u001b[0m | \u001b[0m 0.03076 \u001b[0m | \u001b[0m 7.017   \u001b[0m | \u001b[0m 53.89   \u001b[0m |\n",
      "| \u001b[0m 75      \u001b[0m | \u001b[0m 0.353   \u001b[0m | \u001b[0m 0.5345  \u001b[0m | \u001b[0m 1.217   \u001b[0m | \u001b[0m 42.02   \u001b[0m | \u001b[0m 0.02204 \u001b[0m | \u001b[0m 19.27   \u001b[0m | \u001b[0m 663.5   \u001b[0m |\n",
      "| \u001b[0m 76      \u001b[0m | \u001b[0m 0.3549  \u001b[0m | \u001b[0m 0.2292  \u001b[0m | \u001b[0m 4.111   \u001b[0m | \u001b[0m 25.76   \u001b[0m | \u001b[0m 0.02041 \u001b[0m | \u001b[0m 10.79   \u001b[0m | \u001b[0m 474.1   \u001b[0m |\n",
      "| \u001b[0m 77      \u001b[0m | \u001b[0m 0.3639  \u001b[0m | \u001b[0m 0.8918  \u001b[0m | \u001b[0m 6.944   \u001b[0m | \u001b[0m 42.65   \u001b[0m | \u001b[0m 0.06634 \u001b[0m | \u001b[0m 13.57   \u001b[0m | \u001b[0m 603.0   \u001b[0m |\n",
      "| \u001b[0m 78      \u001b[0m | \u001b[0m 0.4148  \u001b[0m | \u001b[0m 0.4972  \u001b[0m | \u001b[0m 7.438   \u001b[0m | \u001b[0m 20.16   \u001b[0m | \u001b[0m 0.07055 \u001b[0m | \u001b[0m 4.315   \u001b[0m | \u001b[0m 261.0   \u001b[0m |\n",
      "| \u001b[0m 79      \u001b[0m | \u001b[0m 0.3436  \u001b[0m | \u001b[0m 0.9926  \u001b[0m | \u001b[0m 5.397   \u001b[0m | \u001b[0m 72.72   \u001b[0m | \u001b[0m 0.07373 \u001b[0m | \u001b[0m 15.55   \u001b[0m | \u001b[0m 546.3   \u001b[0m |\n",
      "| \u001b[0m 80      \u001b[0m | \u001b[0m 0.4147  \u001b[0m | \u001b[0m 0.8843  \u001b[0m | \u001b[0m 1.113   \u001b[0m | \u001b[0m 34.8    \u001b[0m | \u001b[0m 0.0144  \u001b[0m | \u001b[0m 9.082   \u001b[0m | \u001b[0m 245.1   \u001b[0m |\n",
      "| \u001b[0m 81      \u001b[0m | \u001b[0m 0.3661  \u001b[0m | \u001b[0m 0.4571  \u001b[0m | \u001b[0m 6.949   \u001b[0m | \u001b[0m 11.96   \u001b[0m | \u001b[0m 0.01729 \u001b[0m | \u001b[0m 17.72   \u001b[0m | \u001b[0m 704.6   \u001b[0m |\n",
      "| \u001b[0m 82      \u001b[0m | \u001b[0m 0.3146  \u001b[0m | \u001b[0m 0.308   \u001b[0m | \u001b[0m 1.416   \u001b[0m | \u001b[0m 68.99   \u001b[0m | \u001b[0m 0.02446 \u001b[0m | \u001b[0m 19.33   \u001b[0m | \u001b[0m 777.4   \u001b[0m |\n",
      "| \u001b[0m 83      \u001b[0m | \u001b[0m 0.3777  \u001b[0m | \u001b[0m 0.8133  \u001b[0m | \u001b[0m 6.677   \u001b[0m | \u001b[0m 15.7    \u001b[0m | \u001b[0m 0.02911 \u001b[0m | \u001b[0m 13.59   \u001b[0m | \u001b[0m 292.6   \u001b[0m |\n",
      "| \u001b[0m 84      \u001b[0m | \u001b[0m 0.3348  \u001b[0m | \u001b[0m 0.5367  \u001b[0m | \u001b[0m 8.514   \u001b[0m | \u001b[0m 71.3    \u001b[0m | \u001b[0m 0.08231 \u001b[0m | \u001b[0m 14.19   \u001b[0m | \u001b[0m 797.5   \u001b[0m |\n",
      "| \u001b[0m 85      \u001b[0m | \u001b[0m 0.3661  \u001b[0m | \u001b[0m 0.3736  \u001b[0m | \u001b[0m 2.619   \u001b[0m | \u001b[0m 40.67   \u001b[0m | \u001b[0m 0.08752 \u001b[0m | \u001b[0m 7.532   \u001b[0m | \u001b[0m 222.3   \u001b[0m |\n",
      "| \u001b[0m 86      \u001b[0m | \u001b[0m 0.3808  \u001b[0m | \u001b[0m 0.4954  \u001b[0m | \u001b[0m 6.507   \u001b[0m | \u001b[0m 32.65   \u001b[0m | \u001b[0m 0.01312 \u001b[0m | \u001b[0m 9.552   \u001b[0m | \u001b[0m 926.9   \u001b[0m |\n",
      "| \u001b[0m 87      \u001b[0m | \u001b[0m 0.3688  \u001b[0m | \u001b[0m 0.1328  \u001b[0m | \u001b[0m 7.472   \u001b[0m | \u001b[0m 61.47   \u001b[0m | \u001b[0m 0.02611 \u001b[0m | \u001b[0m 3.775   \u001b[0m | \u001b[0m 703.5   \u001b[0m |\n",
      "| \u001b[0m 88      \u001b[0m | \u001b[0m 0.3685  \u001b[0m | \u001b[0m 0.2463  \u001b[0m | \u001b[0m 9.32    \u001b[0m | \u001b[0m 22.78   \u001b[0m | \u001b[0m 0.03916 \u001b[0m | \u001b[0m 5.153   \u001b[0m | \u001b[0m 475.8   \u001b[0m |\n",
      "| \u001b[95m 89      \u001b[0m | \u001b[95m 0.5518  \u001b[0m | \u001b[95m 0.9908  \u001b[0m | \u001b[95m 4.256   \u001b[0m | \u001b[95m 52.92   \u001b[0m | \u001b[95m 0.07292 \u001b[0m | \u001b[95m 0.2625  \u001b[0m | \u001b[95m 508.9   \u001b[0m |\n",
      "| \u001b[0m 90      \u001b[0m | \u001b[0m 0.3436  \u001b[0m | \u001b[0m 0.2394  \u001b[0m | \u001b[0m 8.907   \u001b[0m | \u001b[0m 19.54   \u001b[0m | \u001b[0m 0.08875 \u001b[0m | \u001b[0m 12.46   \u001b[0m | \u001b[0m 626.7   \u001b[0m |\n",
      "| \u001b[0m 91      \u001b[0m | \u001b[0m 0.3604  \u001b[0m | \u001b[0m 0.1279  \u001b[0m | \u001b[0m 2.643   \u001b[0m | \u001b[0m 24.84   \u001b[0m | \u001b[0m 0.08939 \u001b[0m | \u001b[0m 10.49   \u001b[0m | \u001b[0m 606.0   \u001b[0m |\n",
      "| \u001b[0m 92      \u001b[0m | \u001b[0m 0.3537  \u001b[0m | \u001b[0m 0.3062  \u001b[0m | \u001b[0m 0.4801  \u001b[0m | \u001b[0m 36.4    \u001b[0m | \u001b[0m 0.03904 \u001b[0m | \u001b[0m 12.16   \u001b[0m | \u001b[0m 682.2   \u001b[0m |\n",
      "| \u001b[0m 93      \u001b[0m | \u001b[0m 0.4268  \u001b[0m | \u001b[0m 0.5198  \u001b[0m | \u001b[0m 1.864   \u001b[0m | \u001b[0m 73.82   \u001b[0m | \u001b[0m 0.02459 \u001b[0m | \u001b[0m 2.758   \u001b[0m | \u001b[0m 310.4   \u001b[0m |\n",
      "| \u001b[0m 94      \u001b[0m | \u001b[0m 0.34    \u001b[0m | \u001b[0m 0.5708  \u001b[0m | \u001b[0m 5.356   \u001b[0m | \u001b[0m 52.33   \u001b[0m | \u001b[0m 0.04204 \u001b[0m | \u001b[0m 18.49   \u001b[0m | \u001b[0m 635.4   \u001b[0m |\n",
      "| \u001b[0m 95      \u001b[0m | \u001b[0m 0.3865  \u001b[0m | \u001b[0m 0.6789  \u001b[0m | \u001b[0m 9.682   \u001b[0m | \u001b[0m 21.32   \u001b[0m | \u001b[0m 0.06688 \u001b[0m | \u001b[0m 8.94    \u001b[0m | \u001b[0m 482.7   \u001b[0m |\n",
      "| \u001b[0m 96      \u001b[0m | \u001b[0m 0.4109  \u001b[0m | \u001b[0m 0.4585  \u001b[0m | \u001b[0m 3.844   \u001b[0m | \u001b[0m 74.82   \u001b[0m | \u001b[0m 0.03541 \u001b[0m | \u001b[0m 3.285   \u001b[0m | \u001b[0m 215.5   \u001b[0m |\n",
      "| \u001b[0m 97      \u001b[0m | \u001b[0m 0.3983  \u001b[0m | \u001b[0m 0.9625  \u001b[0m | \u001b[0m 3.995   \u001b[0m | \u001b[0m 54.6    \u001b[0m | \u001b[0m 0.06382 \u001b[0m | \u001b[0m 7.396   \u001b[0m | \u001b[0m 594.7   \u001b[0m |\n",
      "| \u001b[0m 98      \u001b[0m | \u001b[0m 0.3634  \u001b[0m | \u001b[0m 0.117   \u001b[0m | \u001b[0m 3.913   \u001b[0m | \u001b[0m 75.2    \u001b[0m | \u001b[0m 0.06654 \u001b[0m | \u001b[0m 5.353   \u001b[0m | \u001b[0m 297.6   \u001b[0m |\n",
      "| \u001b[0m 99      \u001b[0m | \u001b[0m 0.4531  \u001b[0m | \u001b[0m 0.477   \u001b[0m | \u001b[0m 3.503   \u001b[0m | \u001b[0m 37.39   \u001b[0m | \u001b[0m 0.09575 \u001b[0m | \u001b[0m 2.066   \u001b[0m | \u001b[0m 709.2   \u001b[0m |\n",
      "| \u001b[0m 100     \u001b[0m | \u001b[0m 0.4088  \u001b[0m | \u001b[0m 0.5031  \u001b[0m | \u001b[0m 9.554   \u001b[0m | \u001b[0m 75.26   \u001b[0m | \u001b[0m 0.06203 \u001b[0m | \u001b[0m 1.958   \u001b[0m | \u001b[0m 529.7   \u001b[0m |\n",
      "| \u001b[0m 101     \u001b[0m | \u001b[0m 0.3842  \u001b[0m | \u001b[0m 0.1269  \u001b[0m | \u001b[0m 8.684   \u001b[0m | \u001b[0m 58.04   \u001b[0m | \u001b[0m 0.04439 \u001b[0m | \u001b[0m 1.938   \u001b[0m | \u001b[0m 503.5   \u001b[0m |\n",
      "| \u001b[0m 102     \u001b[0m | \u001b[0m 0.4355  \u001b[0m | \u001b[0m 0.9308  \u001b[0m | \u001b[0m 6.8     \u001b[0m | \u001b[0m 45.05   \u001b[0m | \u001b[0m 0.02947 \u001b[0m | \u001b[0m 3.272   \u001b[0m | \u001b[0m 509.8   \u001b[0m |\n",
      "| \u001b[0m 103     \u001b[0m | \u001b[0m 0.411   \u001b[0m | \u001b[0m 0.8203  \u001b[0m | \u001b[0m 2.407   \u001b[0m | \u001b[0m 51.63   \u001b[0m | \u001b[0m 0.01479 \u001b[0m | \u001b[0m 5.799   \u001b[0m | \u001b[0m 512.8   \u001b[0m |\n",
      "| \u001b[0m 104     \u001b[0m | \u001b[0m 0.3916  \u001b[0m | \u001b[0m 0.3394  \u001b[0m | \u001b[0m 7.438   \u001b[0m | \u001b[0m 4.628   \u001b[0m | \u001b[0m 0.07784 \u001b[0m | \u001b[0m 3.813   \u001b[0m | \u001b[0m 990.2   \u001b[0m |\n",
      "| \u001b[0m 105     \u001b[0m | \u001b[0m 0.4253  \u001b[0m | \u001b[0m 0.7119  \u001b[0m | \u001b[0m 7.002   \u001b[0m | \u001b[0m 53.12   \u001b[0m | \u001b[0m 0.04453 \u001b[0m | \u001b[0m 3.002   \u001b[0m | \u001b[0m 511.2   \u001b[0m |\n",
      "| \u001b[0m 106     \u001b[0m | \u001b[0m 0.4547  \u001b[0m | \u001b[0m 0.9914  \u001b[0m | \u001b[0m 3.839   \u001b[0m | \u001b[0m 52.6    \u001b[0m | \u001b[0m 0.04505 \u001b[0m | \u001b[0m 2.709   \u001b[0m | \u001b[0m 503.7   \u001b[0m |\n",
      "| \u001b[0m 107     \u001b[0m | \u001b[0m 0.4275  \u001b[0m | \u001b[0m 0.2972  \u001b[0m | \u001b[0m 3.99    \u001b[0m | \u001b[0m 58.89   \u001b[0m | \u001b[0m 0.06351 \u001b[0m | \u001b[0m 0.2762  \u001b[0m | \u001b[0m 507.6   \u001b[0m |\n",
      "| \u001b[95m 108     \u001b[0m | \u001b[95m 0.6664  \u001b[0m | \u001b[95m 1.0     \u001b[0m | \u001b[95m 2.89    \u001b[0m | \u001b[95m 51.29   \u001b[0m | \u001b[95m 0.08314 \u001b[0m | \u001b[95m 0.0     \u001b[0m | \u001b[95m 508.2   \u001b[0m |\n",
      "| \u001b[0m 109     \u001b[0m | \u001b[0m 0.414   \u001b[0m | \u001b[0m 0.527   \u001b[0m | \u001b[0m 5.05    \u001b[0m | \u001b[0m 47.19   \u001b[0m | \u001b[0m 0.09824 \u001b[0m | \u001b[0m 3.875   \u001b[0m | \u001b[0m 504.9   \u001b[0m |\n",
      "| \u001b[0m 110     \u001b[0m | \u001b[0m 0.4411  \u001b[0m | \u001b[0m 0.458   \u001b[0m | \u001b[0m 2.025   \u001b[0m | \u001b[0m 3.98    \u001b[0m | \u001b[0m 0.04366 \u001b[0m | \u001b[0m 6.842   \u001b[0m | \u001b[0m 454.1   \u001b[0m |\n",
      "| \u001b[0m 111     \u001b[0m | \u001b[0m 0.5002  \u001b[0m | \u001b[0m 0.8725  \u001b[0m | \u001b[0m 2.946   \u001b[0m | \u001b[0m 47.59   \u001b[0m | \u001b[0m 0.02163 \u001b[0m | \u001b[0m 0.9753  \u001b[0m | \u001b[0m 508.4   \u001b[0m |\n",
      "| \u001b[0m 112     \u001b[0m | \u001b[0m 0.5656  \u001b[0m | \u001b[0m 0.6439  \u001b[0m | \u001b[0m 1.753   \u001b[0m | \u001b[0m 55.32   \u001b[0m | \u001b[0m 0.07093 \u001b[0m | \u001b[0m 0.2735  \u001b[0m | \u001b[0m 507.5   \u001b[0m |\n",
      "| \u001b[0m 113     \u001b[0m | \u001b[0m 0.4687  \u001b[0m | \u001b[0m 0.4253  \u001b[0m | \u001b[0m 1.118   \u001b[0m | \u001b[0m 53.07   \u001b[0m | \u001b[0m 0.03298 \u001b[0m | \u001b[0m 1.538   \u001b[0m | \u001b[0m 510.7   \u001b[0m |\n",
      "| \u001b[0m 114     \u001b[0m | \u001b[0m 0.4043  \u001b[0m | \u001b[0m 0.1559  \u001b[0m | \u001b[0m 0.5862  \u001b[0m | \u001b[0m 58.7    \u001b[0m | \u001b[0m 0.04487 \u001b[0m | \u001b[0m 2.212   \u001b[0m | \u001b[0m 505.6   \u001b[0m |\n",
      "| \u001b[0m 115     \u001b[0m | \u001b[0m 0.4509  \u001b[0m | \u001b[0m 0.5014  \u001b[0m | \u001b[0m 2.966   \u001b[0m | \u001b[0m 53.46   \u001b[0m | \u001b[0m 0.01529 \u001b[0m | \u001b[0m 1.7     \u001b[0m | \u001b[0m 507.4   \u001b[0m |\n",
      "| \u001b[0m 116     \u001b[0m | \u001b[0m 0.4712  \u001b[0m | \u001b[0m 0.6893  \u001b[0m | \u001b[0m 0.1891  \u001b[0m | \u001b[0m 4.958   \u001b[0m | \u001b[0m 0.07869 \u001b[0m | \u001b[0m 6.77    \u001b[0m | \u001b[0m 191.5   \u001b[0m |\n",
      "| \u001b[0m 117     \u001b[0m | \u001b[0m 0.4629  \u001b[0m | \u001b[0m 0.747   \u001b[0m | \u001b[0m 2.795   \u001b[0m | \u001b[0m 49.53   \u001b[0m | \u001b[0m 0.01147 \u001b[0m | \u001b[0m 2.172   \u001b[0m | \u001b[0m 506.5   \u001b[0m |\n",
      "| \u001b[0m 118     \u001b[0m | \u001b[0m 0.4373  \u001b[0m | \u001b[0m 0.1461  \u001b[0m | \u001b[0m 1.405   \u001b[0m | \u001b[0m 46.3    \u001b[0m | \u001b[0m 0.09401 \u001b[0m | \u001b[0m 0.3424  \u001b[0m | \u001b[0m 509.8   \u001b[0m |\n",
      "| \u001b[0m 119     \u001b[0m | \u001b[0m 0.4531  \u001b[0m | \u001b[0m 0.7381  \u001b[0m | \u001b[0m 1.244   \u001b[0m | \u001b[0m 7.353   \u001b[0m | \u001b[0m 0.06372 \u001b[0m | \u001b[0m 7.179   \u001b[0m | \u001b[0m 191.0   \u001b[0m |\n",
      "| \u001b[0m 120     \u001b[0m | \u001b[0m 0.4293  \u001b[0m | \u001b[0m 0.1603  \u001b[0m | \u001b[0m 4.736   \u001b[0m | \u001b[0m 4.231   \u001b[0m | \u001b[0m 0.09126 \u001b[0m | \u001b[0m 0.6781  \u001b[0m | \u001b[0m 986.6   \u001b[0m |\n",
      "| \u001b[0m 121     \u001b[0m | \u001b[0m 0.47    \u001b[0m | \u001b[0m 0.6987  \u001b[0m | \u001b[0m 1.25    \u001b[0m | \u001b[0m 4.757   \u001b[0m | \u001b[0m 0.061   \u001b[0m | \u001b[0m 6.461   \u001b[0m | \u001b[0m 188.9   \u001b[0m |\n",
      "| \u001b[0m 122     \u001b[0m | \u001b[0m 0.4014  \u001b[0m | \u001b[0m 0.3019  \u001b[0m | \u001b[0m 1.252   \u001b[0m | \u001b[0m 56.47   \u001b[0m | \u001b[0m 0.07501 \u001b[0m | \u001b[0m 2.295   \u001b[0m | \u001b[0m 510.2   \u001b[0m |\n",
      "| \u001b[0m 123     \u001b[0m | \u001b[0m 0.4302  \u001b[0m | \u001b[0m 0.5138  \u001b[0m | \u001b[0m 4.078   \u001b[0m | \u001b[0m 4.299   \u001b[0m | \u001b[0m 0.02619 \u001b[0m | \u001b[0m 6.528   \u001b[0m | \u001b[0m 450.6   \u001b[0m |\n",
      "| \u001b[0m 124     \u001b[0m | \u001b[0m 0.4617  \u001b[0m | \u001b[0m 0.6801  \u001b[0m | \u001b[0m 6.023   \u001b[0m | \u001b[0m 2.328   \u001b[0m | \u001b[0m 0.04641 \u001b[0m | \u001b[0m 4.011   \u001b[0m | \u001b[0m 986.9   \u001b[0m |\n",
      "| \u001b[0m 125     \u001b[0m | \u001b[0m 0.517   \u001b[0m | \u001b[0m 0.4893  \u001b[0m | \u001b[0m 2.838   \u001b[0m | \u001b[0m 55.28   \u001b[0m | \u001b[0m 0.01511 \u001b[0m | \u001b[0m 0.2784  \u001b[0m | \u001b[0m 508.9   \u001b[0m |\n",
      "| \u001b[0m 126     \u001b[0m | \u001b[0m 0.4847  \u001b[0m | \u001b[0m 0.8561  \u001b[0m | \u001b[0m 8.858   \u001b[0m | \u001b[0m 2.015   \u001b[0m | \u001b[0m 0.092   \u001b[0m | \u001b[0m 1.209   \u001b[0m | \u001b[0m 987.6   \u001b[0m |\n",
      "| \u001b[0m 127     \u001b[0m | \u001b[0m 0.5248  \u001b[0m | \u001b[0m 0.9738  \u001b[0m | \u001b[0m 1.256   \u001b[0m | \u001b[0m 5.274   \u001b[0m | \u001b[0m 0.04525 \u001b[0m | \u001b[0m 3.134   \u001b[0m | \u001b[0m 192.2   \u001b[0m |\n",
      "| \u001b[0m 128     \u001b[0m | \u001b[0m 0.4155  \u001b[0m | \u001b[0m 0.2409  \u001b[0m | \u001b[0m 3.499   \u001b[0m | \u001b[0m 6.744   \u001b[0m | \u001b[0m 0.03422 \u001b[0m | \u001b[0m 2.093   \u001b[0m | \u001b[0m 191.6   \u001b[0m |\n",
      "| \u001b[0m 129     \u001b[0m | \u001b[0m 0.5064  \u001b[0m | \u001b[0m 0.4705  \u001b[0m | \u001b[0m 5.86    \u001b[0m | \u001b[0m 1.254   \u001b[0m | \u001b[0m 0.04516 \u001b[0m | \u001b[0m 0.5691  \u001b[0m | \u001b[0m 984.6   \u001b[0m |\n",
      "| \u001b[0m 130     \u001b[0m | \u001b[0m 0.4757  \u001b[0m | \u001b[0m 0.8277  \u001b[0m | \u001b[0m 9.514   \u001b[0m | \u001b[0m 49.75   \u001b[0m | \u001b[0m 0.05103 \u001b[0m | \u001b[0m 0.4206  \u001b[0m | \u001b[0m 507.1   \u001b[0m |\n",
      "| \u001b[0m 131     \u001b[0m | \u001b[0m 0.5427  \u001b[0m | \u001b[0m 1.0     \u001b[0m | \u001b[0m 0.0     \u001b[0m | \u001b[0m 4.225   \u001b[0m | \u001b[0m 0.01    \u001b[0m | \u001b[0m 3.359   \u001b[0m | \u001b[0m 190.7   \u001b[0m |\n",
      "| \u001b[0m 132     \u001b[0m | \u001b[0m 0.3858  \u001b[0m | \u001b[0m 0.2923  \u001b[0m | \u001b[0m 6.707   \u001b[0m | \u001b[0m 51.43   \u001b[0m | \u001b[0m 0.06782 \u001b[0m | \u001b[0m 2.41    \u001b[0m | \u001b[0m 506.8   \u001b[0m |\n",
      "| \u001b[0m 133     \u001b[0m | \u001b[0m 0.4378  \u001b[0m | \u001b[0m 0.2937  \u001b[0m | \u001b[0m 5.182   \u001b[0m | \u001b[0m 49.72   \u001b[0m | \u001b[0m 0.08284 \u001b[0m | \u001b[0m 0.02294 \u001b[0m | \u001b[0m 507.0   \u001b[0m |\n",
      "| \u001b[0m 134     \u001b[0m | \u001b[0m 0.442   \u001b[0m | \u001b[0m 0.9614  \u001b[0m | \u001b[0m 9.152   \u001b[0m | \u001b[0m 48.79   \u001b[0m | \u001b[0m 0.05613 \u001b[0m | \u001b[0m 2.034   \u001b[0m | \u001b[0m 510.6   \u001b[0m |\n",
      "| \u001b[0m 135     \u001b[0m | \u001b[0m 0.5002  \u001b[0m | \u001b[0m 0.3985  \u001b[0m | \u001b[0m 2.38    \u001b[0m | \u001b[0m 2.566   \u001b[0m | \u001b[0m 0.02686 \u001b[0m | \u001b[0m 2.069   \u001b[0m | \u001b[0m 194.3   \u001b[0m |\n",
      "| \u001b[0m 136     \u001b[0m | \u001b[0m 0.4782  \u001b[0m | \u001b[0m 0.648   \u001b[0m | \u001b[0m 3.512   \u001b[0m | \u001b[0m 50.59   \u001b[0m | \u001b[0m 0.02362 \u001b[0m | \u001b[0m 1.408   \u001b[0m | \u001b[0m 509.5   \u001b[0m |\n",
      "| \u001b[0m 137     \u001b[0m | \u001b[0m 0.4292  \u001b[0m | \u001b[0m 0.305   \u001b[0m | \u001b[0m 1.697   \u001b[0m | \u001b[0m 55.22   \u001b[0m | \u001b[0m 0.0982  \u001b[0m | \u001b[0m 0.5132  \u001b[0m | \u001b[0m 502.6   \u001b[0m |\n",
      "| \u001b[0m 138     \u001b[0m | \u001b[0m 0.5381  \u001b[0m | \u001b[0m 0.9528  \u001b[0m | \u001b[0m 0.2304  \u001b[0m | \u001b[0m 5.688   \u001b[0m | \u001b[0m 0.09353 \u001b[0m | \u001b[0m 2.979   \u001b[0m | \u001b[0m 197.5   \u001b[0m |\n",
      "| \u001b[0m 139     \u001b[0m | \u001b[0m 0.47    \u001b[0m | \u001b[0m 0.9417  \u001b[0m | \u001b[0m 1.323   \u001b[0m | \u001b[0m 7.985   \u001b[0m | \u001b[0m 0.02481 \u001b[0m | \u001b[0m 6.599   \u001b[0m | \u001b[0m 199.1   \u001b[0m |\n",
      "| \u001b[0m 140     \u001b[0m | \u001b[0m 0.5342  \u001b[0m | \u001b[0m 0.8546  \u001b[0m | \u001b[0m 0.9085  \u001b[0m | \u001b[0m 4.401   \u001b[0m | \u001b[0m 0.01124 \u001b[0m | \u001b[0m 2.43    \u001b[0m | \u001b[0m 195.8   \u001b[0m |\n",
      "| \u001b[0m 141     \u001b[0m | \u001b[0m 0.4103  \u001b[0m | \u001b[0m 0.2666  \u001b[0m | \u001b[0m 2.685   \u001b[0m | \u001b[0m 7.127   \u001b[0m | \u001b[0m 0.06838 \u001b[0m | \u001b[0m 3.123   \u001b[0m | \u001b[0m 199.8   \u001b[0m |\n",
      "| \u001b[95m 142     \u001b[0m | \u001b[95m 0.6898  \u001b[0m | \u001b[95m 1.0     \u001b[0m | \u001b[95m 1.61    \u001b[0m | \u001b[95m 51.72   \u001b[0m | \u001b[95m 0.1     \u001b[0m | \u001b[95m 0.0     \u001b[0m | \u001b[95m 508.0   \u001b[0m |\n",
      "| \u001b[0m 143     \u001b[0m | \u001b[0m 0.5423  \u001b[0m | \u001b[0m 1.0     \u001b[0m | \u001b[0m 0.0     \u001b[0m | \u001b[0m 3.079   \u001b[0m | \u001b[0m 0.1     \u001b[0m | \u001b[0m 3.751   \u001b[0m | \u001b[0m 193.4   \u001b[0m |\n",
      "| \u001b[95m 144     \u001b[0m | \u001b[95m 0.692   \u001b[0m | \u001b[95m 1.0     \u001b[0m | \u001b[95m 1.407   \u001b[0m | \u001b[95m 50.58   \u001b[0m | \u001b[95m 0.1     \u001b[0m | \u001b[95m 0.0     \u001b[0m | \u001b[95m 507.9   \u001b[0m |\n",
      "| \u001b[0m 145     \u001b[0m | \u001b[0m 0.6586  \u001b[0m | \u001b[0m 0.7553  \u001b[0m | \u001b[0m 0.07884 \u001b[0m | \u001b[0m 0.7761  \u001b[0m | \u001b[0m 0.01133 \u001b[0m | \u001b[0m 0.6357  \u001b[0m | \u001b[0m 187.5   \u001b[0m |\n",
      "| \u001b[0m 146     \u001b[0m | \u001b[0m 0.4602  \u001b[0m | \u001b[0m 0.8018  \u001b[0m | \u001b[0m 3.789   \u001b[0m | \u001b[0m 2.364   \u001b[0m | \u001b[0m 0.04186 \u001b[0m | \u001b[0m 5.725   \u001b[0m | \u001b[0m 194.6   \u001b[0m |\n",
      "| \u001b[0m 147     \u001b[0m | \u001b[0m 0.4138  \u001b[0m | \u001b[0m 0.3601  \u001b[0m | \u001b[0m 2.218   \u001b[0m | \u001b[0m 3.386   \u001b[0m | \u001b[0m 0.04988 \u001b[0m | \u001b[0m 3.225   \u001b[0m | \u001b[0m 182.1   \u001b[0m |\n",
      "| \u001b[0m 148     \u001b[0m | \u001b[0m 0.5135  \u001b[0m | \u001b[0m 0.6457  \u001b[0m | \u001b[0m 0.9276  \u001b[0m | \u001b[0m 52.45   \u001b[0m | \u001b[0m 0.07578 \u001b[0m | \u001b[0m 1.038   \u001b[0m | \u001b[0m 508.7   \u001b[0m |\n",
      "| \u001b[0m 149     \u001b[0m | \u001b[0m 0.5495  \u001b[0m | \u001b[0m 0.8817  \u001b[0m | \u001b[0m 4.713   \u001b[0m | \u001b[0m 2.689   \u001b[0m | \u001b[0m 0.06084 \u001b[0m | \u001b[0m 0.8611  \u001b[0m | \u001b[0m 185.0   \u001b[0m |\n",
      "| \u001b[0m 150     \u001b[0m | \u001b[0m 0.6906  \u001b[0m | \u001b[0m 1.0     \u001b[0m | \u001b[0m 1.555   \u001b[0m | \u001b[0m 51.3    \u001b[0m | \u001b[0m 0.1     \u001b[0m | \u001b[0m 0.0     \u001b[0m | \u001b[0m 506.7   \u001b[0m |\n",
      "| \u001b[0m 151     \u001b[0m | \u001b[0m 0.5943  \u001b[0m | \u001b[0m 0.7933  \u001b[0m | \u001b[0m 1.517   \u001b[0m | \u001b[0m 4.163   \u001b[0m | \u001b[0m 0.05203 \u001b[0m | \u001b[0m 0.5828  \u001b[0m | \u001b[0m 192.3   \u001b[0m |\n",
      "| \u001b[0m 152     \u001b[0m | \u001b[0m 0.5691  \u001b[0m | \u001b[0m 0.6638  \u001b[0m | \u001b[0m 0.3238  \u001b[0m | \u001b[0m 4.957   \u001b[0m | \u001b[0m 0.03128 \u001b[0m | \u001b[0m 1.545   \u001b[0m | \u001b[0m 185.9   \u001b[0m |\n",
      "| \u001b[0m 153     \u001b[0m | \u001b[0m 0.5418  \u001b[0m | \u001b[0m 0.9695  \u001b[0m | \u001b[0m 2.666   \u001b[0m | \u001b[0m 2.28    \u001b[0m | \u001b[0m 0.06943 \u001b[0m | \u001b[0m 1.999   \u001b[0m | \u001b[0m 187.2   \u001b[0m |\n",
      "| \u001b[0m 154     \u001b[0m | \u001b[0m 0.4686  \u001b[0m | \u001b[0m 0.8249  \u001b[0m | \u001b[0m 0.5597  \u001b[0m | \u001b[0m 1.395   \u001b[0m | \u001b[0m 0.02617 \u001b[0m | \u001b[0m 8.984   \u001b[0m | \u001b[0m 198.7   \u001b[0m |\n",
      "| \u001b[0m 155     \u001b[0m | \u001b[0m 0.6672  \u001b[0m | \u001b[0m 0.6162  \u001b[0m | \u001b[0m 0.0     \u001b[0m | \u001b[0m 2.419   \u001b[0m | \u001b[0m 0.0966  \u001b[0m | \u001b[0m 0.0     \u001b[0m | \u001b[0m 189.2   \u001b[0m |\n",
      "| \u001b[0m 156     \u001b[0m | \u001b[0m 0.5828  \u001b[0m | \u001b[0m 0.9327  \u001b[0m | \u001b[0m 5.712   \u001b[0m | \u001b[0m 0.4839  \u001b[0m | \u001b[0m 0.06299 \u001b[0m | \u001b[0m 0.1745  \u001b[0m | \u001b[0m 190.9   \u001b[0m |\n",
      "| \u001b[0m 157     \u001b[0m | \u001b[0m 0.5526  \u001b[0m | \u001b[0m 0.5861  \u001b[0m | \u001b[0m 1.518   \u001b[0m | \u001b[0m 9.593   \u001b[0m | \u001b[0m 0.04573 \u001b[0m | \u001b[0m 0.452   \u001b[0m | \u001b[0m 183.0   \u001b[0m |\n",
      "| \u001b[0m 158     \u001b[0m | \u001b[0m 0.4007  \u001b[0m | \u001b[0m 0.1047  \u001b[0m | \u001b[0m 5.358   \u001b[0m | \u001b[0m 0.2063  \u001b[0m | \u001b[0m 0.01233 \u001b[0m | \u001b[0m 3.77    \u001b[0m | \u001b[0m 189.3   \u001b[0m |\n",
      "| \u001b[95m 159     \u001b[0m | \u001b[95m 0.7091  \u001b[0m | \u001b[95m 1.0     \u001b[0m | \u001b[95m 1.084   \u001b[0m | \u001b[95m 0.2298  \u001b[0m | \u001b[95m 0.01    \u001b[0m | \u001b[95m 0.0     \u001b[0m | \u001b[95m 190.0   \u001b[0m |\n",
      "| \u001b[0m 160     \u001b[0m | \u001b[0m 0.6233  \u001b[0m | \u001b[0m 0.6472  \u001b[0m | \u001b[0m 1.799   \u001b[0m | \u001b[0m 49.5    \u001b[0m | \u001b[0m 0.07882 \u001b[0m | \u001b[0m 0.04899 \u001b[0m | \u001b[0m 504.9   \u001b[0m |\n",
      "| \u001b[0m 161     \u001b[0m | \u001b[0m 0.5128  \u001b[0m | \u001b[0m 0.9961  \u001b[0m | \u001b[0m 1.431   \u001b[0m | \u001b[0m 10.79   \u001b[0m | \u001b[0m 0.05161 \u001b[0m | \u001b[0m 2.846   \u001b[0m | \u001b[0m 179.8   \u001b[0m |\n",
      "| \u001b[0m 162     \u001b[0m | \u001b[0m 0.4893  \u001b[0m | \u001b[0m 0.8239  \u001b[0m | \u001b[0m 6.79    \u001b[0m | \u001b[0m 10.7    \u001b[0m | \u001b[0m 0.07373 \u001b[0m | \u001b[0m 1.131   \u001b[0m | \u001b[0m 183.0   \u001b[0m |\n",
      "| \u001b[0m 163     \u001b[0m | \u001b[0m 0.3762  \u001b[0m | \u001b[0m 0.2668  \u001b[0m | \u001b[0m 4.092   \u001b[0m | \u001b[0m 16.3    \u001b[0m | \u001b[0m 0.09695 \u001b[0m | \u001b[0m 6.933   \u001b[0m | \u001b[0m 183.0   \u001b[0m |\n",
      "| \u001b[0m 164     \u001b[0m | \u001b[0m 0.5627  \u001b[0m | \u001b[0m 0.5492  \u001b[0m | \u001b[0m 2.078   \u001b[0m | \u001b[0m 1.123   \u001b[0m | \u001b[0m 0.03951 \u001b[0m | \u001b[0m 0.4353  \u001b[0m | \u001b[0m 186.3   \u001b[0m |\n",
      "| \u001b[0m 165     \u001b[0m | \u001b[0m 0.4123  \u001b[0m | \u001b[0m 0.2432  \u001b[0m | \u001b[0m 4.488   \u001b[0m | \u001b[0m 7.595   \u001b[0m | \u001b[0m 0.06894 \u001b[0m | \u001b[0m 2.089   \u001b[0m | \u001b[0m 186.5   \u001b[0m |\n",
      "| \u001b[0m 166     \u001b[0m | \u001b[0m 0.4317  \u001b[0m | \u001b[0m 0.3373  \u001b[0m | \u001b[0m 3.743   \u001b[0m | \u001b[0m 3.302   \u001b[0m | \u001b[0m 0.09736 \u001b[0m | \u001b[0m 0.8486  \u001b[0m | \u001b[0m 190.7   \u001b[0m |\n",
      "| \u001b[0m 167     \u001b[0m | \u001b[0m 0.5891  \u001b[0m | \u001b[0m 1.0     \u001b[0m | \u001b[0m 0.0     \u001b[0m | \u001b[0m 49.99   \u001b[0m | \u001b[0m 0.01    \u001b[0m | \u001b[0m 0.0     \u001b[0m | \u001b[0m 506.2   \u001b[0m |\n",
      "| \u001b[0m 168     \u001b[0m | \u001b[0m 0.5039  \u001b[0m | \u001b[0m 0.3954  \u001b[0m | \u001b[0m 8.719   \u001b[0m | \u001b[0m 0.5105  \u001b[0m | \u001b[0m 0.01169 \u001b[0m | \u001b[0m 0.183   \u001b[0m | \u001b[0m 184.6   \u001b[0m |\n",
      "| \u001b[0m 169     \u001b[0m | \u001b[0m 0.4483  \u001b[0m | \u001b[0m 0.6408  \u001b[0m | \u001b[0m 6.459   \u001b[0m | \u001b[0m 11.48   \u001b[0m | \u001b[0m 0.09    \u001b[0m | \u001b[0m 3.709   \u001b[0m | \u001b[0m 175.6   \u001b[0m |\n",
      "| \u001b[0m 170     \u001b[0m | \u001b[0m 0.5865  \u001b[0m | \u001b[0m 0.9641  \u001b[0m | \u001b[0m 1.354   \u001b[0m | \u001b[0m 3.355   \u001b[0m | \u001b[0m 0.09258 \u001b[0m | \u001b[0m 1.244   \u001b[0m | \u001b[0m 187.4   \u001b[0m |\n",
      "| \u001b[0m 171     \u001b[0m | \u001b[0m 0.5455  \u001b[0m | \u001b[0m 0.8582  \u001b[0m | \u001b[0m 1.162   \u001b[0m | \u001b[0m 0.2672  \u001b[0m | \u001b[0m 0.04392 \u001b[0m | \u001b[0m 2.959   \u001b[0m | \u001b[0m 191.5   \u001b[0m |\n",
      "| \u001b[0m 172     \u001b[0m | \u001b[0m 0.5726  \u001b[0m | \u001b[0m 0.7276  \u001b[0m | \u001b[0m 1.466   \u001b[0m | \u001b[0m 46.0    \u001b[0m | \u001b[0m 0.05244 \u001b[0m | \u001b[0m 0.2867  \u001b[0m | \u001b[0m 504.4   \u001b[0m |\n",
      "| \u001b[0m 173     \u001b[0m | \u001b[0m 0.509   \u001b[0m | \u001b[0m 0.776   \u001b[0m | \u001b[0m 3.389   \u001b[0m | \u001b[0m 46.18   \u001b[0m | \u001b[0m 0.08933 \u001b[0m | \u001b[0m 0.6896  \u001b[0m | \u001b[0m 496.7   \u001b[0m |\n",
      "| \u001b[0m 174     \u001b[0m | \u001b[0m 0.4294  \u001b[0m | \u001b[0m 0.1104  \u001b[0m | \u001b[0m 4.384   \u001b[0m | \u001b[0m 44.98   \u001b[0m | \u001b[0m 0.03629 \u001b[0m | \u001b[0m 0.2047  \u001b[0m | \u001b[0m 491.7   \u001b[0m |\n",
      "| \u001b[0m 175     \u001b[0m | \u001b[0m 0.4014  \u001b[0m | \u001b[0m 0.184   \u001b[0m | \u001b[0m 0.09847 \u001b[0m | \u001b[0m 44.08   \u001b[0m | \u001b[0m 0.04987 \u001b[0m | \u001b[0m 2.955   \u001b[0m | \u001b[0m 499.1   \u001b[0m |\n",
      "| \u001b[0m 176     \u001b[0m | \u001b[0m 0.4465  \u001b[0m | \u001b[0m 0.2122  \u001b[0m | \u001b[0m 2.155   \u001b[0m | \u001b[0m 7.939   \u001b[0m | \u001b[0m 0.07055 \u001b[0m | \u001b[0m 0.3122  \u001b[0m | \u001b[0m 181.4   \u001b[0m |\n",
      "| \u001b[0m 177     \u001b[0m | \u001b[0m 0.6796  \u001b[0m | \u001b[0m 1.0     \u001b[0m | \u001b[0m 2.151   \u001b[0m | \u001b[0m 48.48   \u001b[0m | \u001b[0m 0.1     \u001b[0m | \u001b[0m 0.0     \u001b[0m | \u001b[0m 501.7   \u001b[0m |\n",
      "| \u001b[0m 178     \u001b[0m | \u001b[0m 0.4265  \u001b[0m | \u001b[0m 0.8539  \u001b[0m | \u001b[0m 7.744   \u001b[0m | \u001b[0m 51.24   \u001b[0m | \u001b[0m 0.02199 \u001b[0m | \u001b[0m 2.747   \u001b[0m | \u001b[0m 497.5   \u001b[0m |\n",
      "| \u001b[0m 179     \u001b[0m | \u001b[0m 0.4919  \u001b[0m | \u001b[0m 0.8321  \u001b[0m | \u001b[0m 0.9955  \u001b[0m | \u001b[0m 9.939   \u001b[0m | \u001b[0m 0.05995 \u001b[0m | \u001b[0m 3.46    \u001b[0m | \u001b[0m 183.1   \u001b[0m |\n",
      "| \u001b[0m 180     \u001b[0m | \u001b[0m 0.7049  \u001b[0m | \u001b[0m 1.0     \u001b[0m | \u001b[0m 0.3773  \u001b[0m | \u001b[0m 49.16   \u001b[0m | \u001b[0m 0.1     \u001b[0m | \u001b[0m 0.0     \u001b[0m | \u001b[0m 500.9   \u001b[0m |\n",
      "| \u001b[0m 181     \u001b[0m | \u001b[0m 0.4716  \u001b[0m | \u001b[0m 1.0     \u001b[0m | \u001b[0m 10.0    \u001b[0m | \u001b[0m 0.0     \u001b[0m | \u001b[0m 0.1     \u001b[0m | \u001b[0m 2.599   \u001b[0m | \u001b[0m 982.3   \u001b[0m |\n",
      "| \u001b[0m 182     \u001b[0m | \u001b[0m 0.4952  \u001b[0m | \u001b[0m 0.6059  \u001b[0m | \u001b[0m 4.177   \u001b[0m | \u001b[0m 15.53   \u001b[0m | \u001b[0m 0.01955 \u001b[0m | \u001b[0m 0.7594  \u001b[0m | \u001b[0m 185.7   \u001b[0m |\n",
      "| \u001b[0m 183     \u001b[0m | \u001b[0m 0.5982  \u001b[0m | \u001b[0m 0.7417  \u001b[0m | \u001b[0m 0.2277  \u001b[0m | \u001b[0m 54.21   \u001b[0m | \u001b[0m 0.08064 \u001b[0m | \u001b[0m 0.2289  \u001b[0m | \u001b[0m 497.2   \u001b[0m |\n",
      "| \u001b[0m 184     \u001b[0m | \u001b[0m 0.464   \u001b[0m | \u001b[0m 0.7398  \u001b[0m | \u001b[0m 0.32    \u001b[0m | \u001b[0m 50.76   \u001b[0m | \u001b[0m 0.04018 \u001b[0m | \u001b[0m 2.759   \u001b[0m | \u001b[0m 501.1   \u001b[0m |\n",
      "| \u001b[0m 185     \u001b[0m | \u001b[0m 0.5988  \u001b[0m | \u001b[0m 0.9325  \u001b[0m | \u001b[0m 1.202   \u001b[0m | \u001b[0m 2.093   \u001b[0m | \u001b[0m 0.05815 \u001b[0m | \u001b[0m 1.136   \u001b[0m | \u001b[0m 188.4   \u001b[0m |\n",
      "| \u001b[0m 186     \u001b[0m | \u001b[0m 0.5236  \u001b[0m | \u001b[0m 0.7858  \u001b[0m | \u001b[0m 0.9734  \u001b[0m | \u001b[0m 52.9    \u001b[0m | \u001b[0m 0.06269 \u001b[0m | \u001b[0m 0.7587  \u001b[0m | \u001b[0m 499.3   \u001b[0m |\n",
      "| \u001b[0m 187     \u001b[0m | \u001b[0m 0.5899  \u001b[0m | \u001b[0m 0.8466  \u001b[0m | \u001b[0m 3.877   \u001b[0m | \u001b[0m 55.56   \u001b[0m | \u001b[0m 0.09461 \u001b[0m | \u001b[0m 0.0225  \u001b[0m | \u001b[0m 492.9   \u001b[0m |\n",
      "| \u001b[0m 188     \u001b[0m | \u001b[0m 0.5805  \u001b[0m | \u001b[0m 0.7465  \u001b[0m | \u001b[0m 1.181   \u001b[0m | \u001b[0m 52.35   \u001b[0m | \u001b[0m 0.01756 \u001b[0m | \u001b[0m 0.2566  \u001b[0m | \u001b[0m 491.8   \u001b[0m |\n",
      "| \u001b[0m 189     \u001b[0m | \u001b[0m 0.7008  \u001b[0m | \u001b[0m 0.9469  \u001b[0m | \u001b[0m 0.1551  \u001b[0m | \u001b[0m 0.833   \u001b[0m | \u001b[0m 0.04617 \u001b[0m | \u001b[0m 0.1827  \u001b[0m | \u001b[0m 192.1   \u001b[0m |\n",
      "| \u001b[0m 190     \u001b[0m | \u001b[0m 0.3917  \u001b[0m | \u001b[0m 0.6842  \u001b[0m | \u001b[0m 5.684   \u001b[0m | \u001b[0m 53.45   \u001b[0m | \u001b[0m 0.04041 \u001b[0m | \u001b[0m 6.832   \u001b[0m | \u001b[0m 489.4   \u001b[0m |\n",
      "| \u001b[0m 191     \u001b[0m | \u001b[0m 0.5614  \u001b[0m | \u001b[0m 0.8031  \u001b[0m | \u001b[0m 4.409   \u001b[0m | \u001b[0m 50.79   \u001b[0m | \u001b[0m 0.0568  \u001b[0m | \u001b[0m 0.09692 \u001b[0m | \u001b[0m 502.5   \u001b[0m |\n",
      "| \u001b[0m 192     \u001b[0m | \u001b[0m 0.5054  \u001b[0m | \u001b[0m 0.8519  \u001b[0m | \u001b[0m 3.212   \u001b[0m | \u001b[0m 60.77   \u001b[0m | \u001b[0m 0.02932 \u001b[0m | \u001b[0m 0.6759  \u001b[0m | \u001b[0m 490.5   \u001b[0m |\n",
      "| \u001b[0m 193     \u001b[0m | \u001b[0m 0.4683  \u001b[0m | \u001b[0m 0.8437  \u001b[0m | \u001b[0m 1.099   \u001b[0m | \u001b[0m 56.98   \u001b[0m | \u001b[0m 0.0482  \u001b[0m | \u001b[0m 2.216   \u001b[0m | \u001b[0m 496.2   \u001b[0m |\n",
      "| \u001b[0m 194     \u001b[0m | \u001b[0m 0.6766  \u001b[0m | \u001b[0m 1.0     \u001b[0m | \u001b[0m 0.0     \u001b[0m | \u001b[0m 11.51   \u001b[0m | \u001b[0m 0.01    \u001b[0m | \u001b[0m 0.0     \u001b[0m | \u001b[0m 186.2   \u001b[0m |\n",
      "| \u001b[0m 195     \u001b[0m | \u001b[0m 0.6172  \u001b[0m | \u001b[0m 0.9528  \u001b[0m | \u001b[0m 2.032   \u001b[0m | \u001b[0m 10.7    \u001b[0m | \u001b[0m 0.01323 \u001b[0m | \u001b[0m 0.2612  \u001b[0m | \u001b[0m 191.0   \u001b[0m |\n",
      "| \u001b[0m 196     \u001b[0m | \u001b[0m 0.4447  \u001b[0m | \u001b[0m 0.2263  \u001b[0m | \u001b[0m 4.033   \u001b[0m | \u001b[0m 15.29   \u001b[0m | \u001b[0m 0.09459 \u001b[0m | \u001b[0m 0.03628 \u001b[0m | \u001b[0m 195.5   \u001b[0m |\n",
      "| \u001b[0m 197     \u001b[0m | \u001b[0m 0.4657  \u001b[0m | \u001b[0m 0.8227  \u001b[0m | \u001b[0m 1.492   \u001b[0m | \u001b[0m 14.91   \u001b[0m | \u001b[0m 0.04036 \u001b[0m | \u001b[0m 4.441   \u001b[0m | \u001b[0m 188.6   \u001b[0m |\n",
      "| \u001b[0m 198     \u001b[0m | \u001b[0m 0.49    \u001b[0m | \u001b[0m 0.7575  \u001b[0m | \u001b[0m 1.699   \u001b[0m | \u001b[0m 49.96   \u001b[0m | \u001b[0m 0.02326 \u001b[0m | \u001b[0m 1.493   \u001b[0m | \u001b[0m 495.0   \u001b[0m |\n",
      "| \u001b[0m 199     \u001b[0m | \u001b[0m 0.4176  \u001b[0m | \u001b[0m 0.2339  \u001b[0m | \u001b[0m 0.04764 \u001b[0m | \u001b[0m 57.67   \u001b[0m | \u001b[0m 0.04331 \u001b[0m | \u001b[0m 1.461   \u001b[0m | \u001b[0m 490.0   \u001b[0m |\n",
      "| \u001b[0m 200     \u001b[0m | \u001b[0m 0.4675  \u001b[0m | \u001b[0m 0.5516  \u001b[0m | \u001b[0m 6.573   \u001b[0m | \u001b[0m 62.02   \u001b[0m | \u001b[0m 0.06432 \u001b[0m | \u001b[0m 0.5975  \u001b[0m | \u001b[0m 495.4   \u001b[0m |\n",
      "| \u001b[0m 201     \u001b[0m | \u001b[0m 0.474   \u001b[0m | \u001b[0m 0.7225  \u001b[0m | \u001b[0m 6.331   \u001b[0m | \u001b[0m 69.19   \u001b[0m | \u001b[0m 0.01792 \u001b[0m | \u001b[0m 0.7711  \u001b[0m | \u001b[0m 485.5   \u001b[0m |\n",
      "| \u001b[0m 202     \u001b[0m | \u001b[0m 0.4789  \u001b[0m | \u001b[0m 0.7484  \u001b[0m | \u001b[0m 8.842   \u001b[0m | \u001b[0m 53.23   \u001b[0m | \u001b[0m 0.0977  \u001b[0m | \u001b[0m 0.4177  \u001b[0m | \u001b[0m 491.1   \u001b[0m |\n",
      "| \u001b[0m 203     \u001b[0m | \u001b[0m 0.5768  \u001b[0m | \u001b[0m 0.8688  \u001b[0m | \u001b[0m 0.2817  \u001b[0m | \u001b[0m 16.63   \u001b[0m | \u001b[0m 0.02884 \u001b[0m | \u001b[0m 0.7595  \u001b[0m | \u001b[0m 182.8   \u001b[0m |\n",
      "| \u001b[0m 204     \u001b[0m | \u001b[0m 0.5317  \u001b[0m | \u001b[0m 0.4057  \u001b[0m | \u001b[0m 0.8719  \u001b[0m | \u001b[0m 24.35   \u001b[0m | \u001b[0m 0.09121 \u001b[0m | \u001b[0m 0.6639  \u001b[0m | \u001b[0m 185.3   \u001b[0m |\n",
      "| \u001b[0m 205     \u001b[0m | \u001b[0m 0.3998  \u001b[0m | \u001b[0m 0.171   \u001b[0m | \u001b[0m 3.666   \u001b[0m | \u001b[0m 23.37   \u001b[0m | \u001b[0m 0.04463 \u001b[0m | \u001b[0m 2.786   \u001b[0m | \u001b[0m 180.3   \u001b[0m |\n",
      "| \u001b[0m 206     \u001b[0m | \u001b[0m 0.4598  \u001b[0m | \u001b[0m 0.9818  \u001b[0m | \u001b[0m 1.536   \u001b[0m | \u001b[0m 27.3    \u001b[0m | \u001b[0m 0.01326 \u001b[0m | \u001b[0m 4.608   \u001b[0m | \u001b[0m 190.6   \u001b[0m |\n",
      "| \u001b[0m 207     \u001b[0m | \u001b[0m 0.4363  \u001b[0m | \u001b[0m 0.2893  \u001b[0m | \u001b[0m 1.389   \u001b[0m | \u001b[0m 12.85   \u001b[0m | \u001b[0m 0.0674  \u001b[0m | \u001b[0m 0.9308  \u001b[0m | \u001b[0m 191.8   \u001b[0m |\n",
      "| \u001b[0m 208     \u001b[0m | \u001b[0m 0.415   \u001b[0m | \u001b[0m 0.4238  \u001b[0m | \u001b[0m 7.288   \u001b[0m | \u001b[0m 61.3    \u001b[0m | \u001b[0m 0.05784 \u001b[0m | \u001b[0m 2.543   \u001b[0m | \u001b[0m 482.0   \u001b[0m |\n",
      "| \u001b[0m 209     \u001b[0m | \u001b[0m 0.4385  \u001b[0m | \u001b[0m 0.2953  \u001b[0m | \u001b[0m 4.688   \u001b[0m | \u001b[0m 29.98   \u001b[0m | \u001b[0m 0.08236 \u001b[0m | \u001b[0m 0.05851 \u001b[0m | \u001b[0m 184.0   \u001b[0m |\n",
      "| \u001b[0m 210     \u001b[0m | \u001b[0m 0.5506  \u001b[0m | \u001b[0m 1.0     \u001b[0m | \u001b[0m 2.543   \u001b[0m | \u001b[0m 67.25   \u001b[0m | \u001b[0m 0.01    \u001b[0m | \u001b[0m 0.0     \u001b[0m | \u001b[0m 491.5   \u001b[0m |\n",
      "| \u001b[0m 211     \u001b[0m | \u001b[0m 0.5277  \u001b[0m | \u001b[0m 0.398   \u001b[0m | \u001b[0m 4.706   \u001b[0m | \u001b[0m 15.37   \u001b[0m | \u001b[0m 0.05531 \u001b[0m | \u001b[0m 0.2547  \u001b[0m | \u001b[0m 179.4   \u001b[0m |\n",
      "| \u001b[0m 212     \u001b[0m | \u001b[0m 0.4426  \u001b[0m | \u001b[0m 0.7244  \u001b[0m | \u001b[0m 6.448   \u001b[0m | \u001b[0m 71.84   \u001b[0m | \u001b[0m 0.05661 \u001b[0m | \u001b[0m 1.613   \u001b[0m | \u001b[0m 494.6   \u001b[0m |\n",
      "| \u001b[0m 213     \u001b[0m | \u001b[0m 0.3935  \u001b[0m | \u001b[0m 0.5055  \u001b[0m | \u001b[0m 1.752   \u001b[0m | \u001b[0m 69.38   \u001b[0m | \u001b[0m 0.05613 \u001b[0m | \u001b[0m 6.061   \u001b[0m | \u001b[0m 490.9   \u001b[0m |\n",
      "| \u001b[0m 214     \u001b[0m | \u001b[0m 0.501   \u001b[0m | \u001b[0m 0.6897  \u001b[0m | \u001b[0m 2.391   \u001b[0m | \u001b[0m 14.63   \u001b[0m | \u001b[0m 0.04642 \u001b[0m | \u001b[0m 1.956   \u001b[0m | \u001b[0m 182.9   \u001b[0m |\n",
      "| \u001b[0m 215     \u001b[0m | \u001b[0m 0.4247  \u001b[0m | \u001b[0m 0.8193  \u001b[0m | \u001b[0m 9.304   \u001b[0m | \u001b[0m 62.99   \u001b[0m | \u001b[0m 0.03141 \u001b[0m | \u001b[0m 2.058   \u001b[0m | \u001b[0m 490.2   \u001b[0m |\n",
      "| \u001b[0m 216     \u001b[0m | \u001b[0m 0.5066  \u001b[0m | \u001b[0m 0.9675  \u001b[0m | \u001b[0m 0.4874  \u001b[0m | \u001b[0m 16.03   \u001b[0m | \u001b[0m 0.09941 \u001b[0m | \u001b[0m 3.015   \u001b[0m | \u001b[0m 174.8   \u001b[0m |\n",
      "| \u001b[0m 217     \u001b[0m | \u001b[0m 0.4419  \u001b[0m | \u001b[0m 0.3315  \u001b[0m | \u001b[0m 4.06    \u001b[0m | \u001b[0m 7.871   \u001b[0m | \u001b[0m 0.09302 \u001b[0m | \u001b[0m 0.1216  \u001b[0m | \u001b[0m 449.4   \u001b[0m |\n",
      "| \u001b[0m 218     \u001b[0m | \u001b[0m 0.512   \u001b[0m | \u001b[0m 0.5764  \u001b[0m | \u001b[0m 1.228   \u001b[0m | \u001b[0m 18.1    \u001b[0m | \u001b[0m 0.05303 \u001b[0m | \u001b[0m 1.02    \u001b[0m | \u001b[0m 169.3   \u001b[0m |\n",
      "| \u001b[0m 219     \u001b[0m | \u001b[0m 0.5775  \u001b[0m | \u001b[0m 0.5272  \u001b[0m | \u001b[0m 0.3378  \u001b[0m | \u001b[0m 10.15   \u001b[0m | \u001b[0m 0.08451 \u001b[0m | \u001b[0m 0.4117  \u001b[0m | \u001b[0m 187.5   \u001b[0m |\n",
      "| \u001b[0m 220     \u001b[0m | \u001b[0m 0.4476  \u001b[0m | \u001b[0m 0.6919  \u001b[0m | \u001b[0m 2.376   \u001b[0m | \u001b[0m 15.99   \u001b[0m | \u001b[0m 0.09601 \u001b[0m | \u001b[0m 5.333   \u001b[0m | \u001b[0m 167.2   \u001b[0m |\n",
      "| \u001b[0m 221     \u001b[0m | \u001b[0m 0.4364  \u001b[0m | \u001b[0m 0.2818  \u001b[0m | \u001b[0m 2.199   \u001b[0m | \u001b[0m 50.94   \u001b[0m | \u001b[0m 0.02938 \u001b[0m | \u001b[0m 0.02801 \u001b[0m | \u001b[0m 500.2   \u001b[0m |\n",
      "| \u001b[0m 222     \u001b[0m | \u001b[0m 0.4984  \u001b[0m | \u001b[0m 0.7317  \u001b[0m | \u001b[0m 1.459   \u001b[0m | \u001b[0m 45.78   \u001b[0m | \u001b[0m 0.0217  \u001b[0m | \u001b[0m 1.365   \u001b[0m | \u001b[0m 500.9   \u001b[0m |\n",
      "| \u001b[0m 223     \u001b[0m | \u001b[0m 0.5295  \u001b[0m | \u001b[0m 0.6848  \u001b[0m | \u001b[0m 5.153   \u001b[0m | \u001b[0m 20.88   \u001b[0m | \u001b[0m 0.04574 \u001b[0m | \u001b[0m 0.4384  \u001b[0m | \u001b[0m 168.1   \u001b[0m |\n",
      "| \u001b[0m 224     \u001b[0m | \u001b[0m 0.6704  \u001b[0m | \u001b[0m 1.0     \u001b[0m | \u001b[0m 0.0     \u001b[0m | \u001b[0m 12.96   \u001b[0m | \u001b[0m 0.01    \u001b[0m | \u001b[0m 0.0     \u001b[0m | \u001b[0m 184.3   \u001b[0m |\n",
      "| \u001b[0m 225     \u001b[0m | \u001b[0m 0.5605  \u001b[0m | \u001b[0m 1.0     \u001b[0m | \u001b[0m 1.106   \u001b[0m | \u001b[0m 65.63   \u001b[0m | \u001b[0m 0.01    \u001b[0m | \u001b[0m 0.0     \u001b[0m | \u001b[0m 488.0   \u001b[0m |\n",
      "| \u001b[0m 226     \u001b[0m | \u001b[0m 0.5254  \u001b[0m | \u001b[0m 0.9169  \u001b[0m | \u001b[0m 1.263   \u001b[0m | \u001b[0m 12.25   \u001b[0m | \u001b[0m 0.05884 \u001b[0m | \u001b[0m 2.166   \u001b[0m | \u001b[0m 186.3   \u001b[0m |\n",
      "| \u001b[0m 227     \u001b[0m | \u001b[0m 0.5249  \u001b[0m | \u001b[0m 0.4402  \u001b[0m | \u001b[0m 3.804   \u001b[0m | \u001b[0m 47.18   \u001b[0m | \u001b[0m 0.08036 \u001b[0m | \u001b[0m 0.2261  \u001b[0m | \u001b[0m 502.1   \u001b[0m |\n",
      "| \u001b[0m 228     \u001b[0m | \u001b[0m 0.6035  \u001b[0m | \u001b[0m 0.853   \u001b[0m | \u001b[0m 0.02517 \u001b[0m | \u001b[0m 12.31   \u001b[0m | \u001b[0m 0.02799 \u001b[0m | \u001b[0m 0.6157  \u001b[0m | \u001b[0m 175.5   \u001b[0m |\n",
      "| \u001b[0m 229     \u001b[0m | \u001b[0m 0.4659  \u001b[0m | \u001b[0m 0.9529  \u001b[0m | \u001b[0m 2.952   \u001b[0m | \u001b[0m 22.28   \u001b[0m | \u001b[0m 0.08498 \u001b[0m | \u001b[0m 3.982   \u001b[0m | \u001b[0m 166.0   \u001b[0m |\n",
      "| \u001b[0m 230     \u001b[0m | \u001b[0m 0.5507  \u001b[0m | \u001b[0m 0.5971  \u001b[0m | \u001b[0m 0.1655  \u001b[0m | \u001b[0m 21.56   \u001b[0m | \u001b[0m 0.02079 \u001b[0m | \u001b[0m 0.5363  \u001b[0m | \u001b[0m 191.3   \u001b[0m |\n",
      "| \u001b[0m 231     \u001b[0m | \u001b[0m 0.4409  \u001b[0m | \u001b[0m 0.2473  \u001b[0m | \u001b[0m 5.18    \u001b[0m | \u001b[0m 10.51   \u001b[0m | \u001b[0m 0.08172 \u001b[0m | \u001b[0m 0.02662 \u001b[0m | \u001b[0m 192.2   \u001b[0m |\n",
      "| \u001b[0m 232     \u001b[0m | \u001b[0m 0.421   \u001b[0m | \u001b[0m 0.3736  \u001b[0m | \u001b[0m 2.825   \u001b[0m | \u001b[0m 11.72   \u001b[0m | \u001b[0m 0.03185 \u001b[0m | \u001b[0m 1.595   \u001b[0m | \u001b[0m 171.2   \u001b[0m |\n",
      "| \u001b[0m 233     \u001b[0m | \u001b[0m 0.4506  \u001b[0m | \u001b[0m 0.1461  \u001b[0m | \u001b[0m 2.176   \u001b[0m | \u001b[0m 14.24   \u001b[0m | \u001b[0m 0.05636 \u001b[0m | \u001b[0m 0.1128  \u001b[0m | \u001b[0m 176.8   \u001b[0m |\n",
      "| \u001b[0m 234     \u001b[0m | \u001b[0m 0.578   \u001b[0m | \u001b[0m 0.7138  \u001b[0m | \u001b[0m 1.013   \u001b[0m | \u001b[0m 20.46   \u001b[0m | \u001b[0m 0.03295 \u001b[0m | \u001b[0m 0.5434  \u001b[0m | \u001b[0m 183.9   \u001b[0m |\n",
      "| \u001b[0m 235     \u001b[0m | \u001b[0m 0.5336  \u001b[0m | \u001b[0m 0.9362  \u001b[0m | \u001b[0m 4.807   \u001b[0m | \u001b[0m 22.59   \u001b[0m | \u001b[0m 0.04285 \u001b[0m | \u001b[0m 0.6266  \u001b[0m | \u001b[0m 188.1   \u001b[0m |\n",
      "| \u001b[0m 236     \u001b[0m | \u001b[0m 0.4833  \u001b[0m | \u001b[0m 0.4235  \u001b[0m | \u001b[0m 2.072   \u001b[0m | \u001b[0m 53.2    \u001b[0m | \u001b[0m 0.05986 \u001b[0m | \u001b[0m 0.9844  \u001b[0m | \u001b[0m 489.6   \u001b[0m |\n",
      "| \u001b[0m 237     \u001b[0m | \u001b[0m 0.4775  \u001b[0m | \u001b[0m 0.7224  \u001b[0m | \u001b[0m 0.03403 \u001b[0m | \u001b[0m 23.83   \u001b[0m | \u001b[0m 0.0503  \u001b[0m | \u001b[0m 3.314   \u001b[0m | \u001b[0m 193.4   \u001b[0m |\n",
      "| \u001b[0m 238     \u001b[0m | \u001b[0m 0.501   \u001b[0m | \u001b[0m 0.6706  \u001b[0m | \u001b[0m 0.9002  \u001b[0m | \u001b[0m 16.73   \u001b[0m | \u001b[0m 0.04516 \u001b[0m | \u001b[0m 2.383   \u001b[0m | \u001b[0m 186.3   \u001b[0m |\n",
      "| \u001b[0m 239     \u001b[0m | \u001b[0m 0.5236  \u001b[0m | \u001b[0m 0.4821  \u001b[0m | \u001b[0m 8.311   \u001b[0m | \u001b[0m 19.07   \u001b[0m | \u001b[0m 0.0506  \u001b[0m | \u001b[0m 0.01604 \u001b[0m | \u001b[0m 185.3   \u001b[0m |\n",
      "| \u001b[0m 240     \u001b[0m | \u001b[0m 0.4498  \u001b[0m | \u001b[0m 0.5471  \u001b[0m | \u001b[0m 2.352   \u001b[0m | \u001b[0m 22.95   \u001b[0m | \u001b[0m 0.03361 \u001b[0m | \u001b[0m 3.338   \u001b[0m | \u001b[0m 188.1   \u001b[0m |\n",
      "| \u001b[0m 241     \u001b[0m | \u001b[0m 0.4232  \u001b[0m | \u001b[0m 0.1164  \u001b[0m | \u001b[0m 7.35    \u001b[0m | \u001b[0m 22.07   \u001b[0m | \u001b[0m 0.0463  \u001b[0m | \u001b[0m 0.2393  \u001b[0m | \u001b[0m 190.3   \u001b[0m |\n",
      "| \u001b[0m 242     \u001b[0m | \u001b[0m 0.4874  \u001b[0m | \u001b[0m 0.9189  \u001b[0m | \u001b[0m 9.575   \u001b[0m | \u001b[0m 19.26   \u001b[0m | \u001b[0m 0.08758 \u001b[0m | \u001b[0m 0.8533  \u001b[0m | \u001b[0m 166.0   \u001b[0m |\n",
      "| \u001b[0m 243     \u001b[0m | \u001b[0m 0.4918  \u001b[0m | \u001b[0m 0.4441  \u001b[0m | \u001b[0m 2.075   \u001b[0m | \u001b[0m 21.15   \u001b[0m | \u001b[0m 0.02494 \u001b[0m | \u001b[0m 1.213   \u001b[0m | \u001b[0m 171.5   \u001b[0m |\n",
      "| \u001b[0m 244     \u001b[0m | \u001b[0m 0.4392  \u001b[0m | \u001b[0m 0.4234  \u001b[0m | \u001b[0m 6.228   \u001b[0m | \u001b[0m 56.92   \u001b[0m | \u001b[0m 0.02794 \u001b[0m | \u001b[0m 1.432   \u001b[0m | \u001b[0m 491.7   \u001b[0m |\n",
      "| \u001b[0m 245     \u001b[0m | \u001b[0m 0.6717  \u001b[0m | \u001b[0m 0.6993  \u001b[0m | \u001b[0m 2.093   \u001b[0m | \u001b[0m 17.49   \u001b[0m | \u001b[0m 0.06277 \u001b[0m | \u001b[0m 0.001221\u001b[0m | \u001b[0m 165.0   \u001b[0m |\n",
      "| \u001b[0m 246     \u001b[0m | \u001b[0m 0.4847  \u001b[0m | \u001b[0m 0.524   \u001b[0m | \u001b[0m 5.407   \u001b[0m | \u001b[0m 15.25   \u001b[0m | \u001b[0m 0.03832 \u001b[0m | \u001b[0m 0.8167  \u001b[0m | \u001b[0m 163.7   \u001b[0m |\n",
      "| \u001b[0m 247     \u001b[0m | \u001b[0m 0.566   \u001b[0m | \u001b[0m 0.7848  \u001b[0m | \u001b[0m 5.235   \u001b[0m | \u001b[0m 17.84   \u001b[0m | \u001b[0m 0.01212 \u001b[0m | \u001b[0m 0.09222 \u001b[0m | \u001b[0m 167.0   \u001b[0m |\n",
      "| \u001b[0m 248     \u001b[0m | \u001b[0m 0.5066  \u001b[0m | \u001b[0m 0.3901  \u001b[0m | \u001b[0m 3.12    \u001b[0m | \u001b[0m 20.9    \u001b[0m | \u001b[0m 0.08692 \u001b[0m | \u001b[0m 0.7171  \u001b[0m | \u001b[0m 160.8   \u001b[0m |\n",
      "| \u001b[0m 249     \u001b[0m | \u001b[0m 0.6355  \u001b[0m | \u001b[0m 0.5762  \u001b[0m | \u001b[0m 1.229   \u001b[0m | \u001b[0m 1.095   \u001b[0m | \u001b[0m 0.049   \u001b[0m | \u001b[0m 0.04255 \u001b[0m | \u001b[0m 193.4   \u001b[0m |\n",
      "| \u001b[0m 250     \u001b[0m | \u001b[0m 0.4583  \u001b[0m | \u001b[0m 0.8054  \u001b[0m | \u001b[0m 1.271   \u001b[0m | \u001b[0m 68.46   \u001b[0m | \u001b[0m 0.06698 \u001b[0m | \u001b[0m 2.32    \u001b[0m | \u001b[0m 484.1   \u001b[0m |\n",
      "| \u001b[0m 251     \u001b[0m | \u001b[0m 0.5038  \u001b[0m | \u001b[0m 0.6387  \u001b[0m | \u001b[0m 1.157   \u001b[0m | \u001b[0m 15.64   \u001b[0m | \u001b[0m 0.05327 \u001b[0m | \u001b[0m 2.237   \u001b[0m | \u001b[0m 166.4   \u001b[0m |\n",
      "| \u001b[0m 252     \u001b[0m | \u001b[0m 0.4092  \u001b[0m | \u001b[0m 0.2743  \u001b[0m | \u001b[0m 0.3486  \u001b[0m | \u001b[0m 0.3294  \u001b[0m | \u001b[0m 0.08172 \u001b[0m | \u001b[0m 6.137   \u001b[0m | \u001b[0m 445.1   \u001b[0m |\n",
      "| \u001b[0m 253     \u001b[0m | \u001b[0m 0.4978  \u001b[0m | \u001b[0m 0.4196  \u001b[0m | \u001b[0m 1.282   \u001b[0m | \u001b[0m 18.58   \u001b[0m | \u001b[0m 0.03517 \u001b[0m | \u001b[0m 1.363   \u001b[0m | \u001b[0m 157.2   \u001b[0m |\n",
      "| \u001b[0m 254     \u001b[0m | \u001b[0m 0.3836  \u001b[0m | \u001b[0m 0.2877  \u001b[0m | \u001b[0m 3.301   \u001b[0m | \u001b[0m 24.21   \u001b[0m | \u001b[0m 0.05348 \u001b[0m | \u001b[0m 5.027   \u001b[0m | \u001b[0m 152.5   \u001b[0m |\n",
      "| \u001b[0m 255     \u001b[0m | \u001b[0m 0.5654  \u001b[0m | \u001b[0m 0.6714  \u001b[0m | \u001b[0m 2.085   \u001b[0m | \u001b[0m 2.169   \u001b[0m | \u001b[0m 0.05431 \u001b[0m | \u001b[0m 1.167   \u001b[0m | \u001b[0m 977.9   \u001b[0m |\n",
      "| \u001b[0m 256     \u001b[0m | \u001b[0m 0.4121  \u001b[0m | \u001b[0m 0.2034  \u001b[0m | \u001b[0m 3.351   \u001b[0m | \u001b[0m 1.215   \u001b[0m | \u001b[0m 0.07838 \u001b[0m | \u001b[0m 3.131   \u001b[0m | \u001b[0m 974.4   \u001b[0m |\n",
      "| \u001b[0m 257     \u001b[0m | \u001b[0m 0.598   \u001b[0m | \u001b[0m 0.5798  \u001b[0m | \u001b[0m 0.5515  \u001b[0m | \u001b[0m 71.92   \u001b[0m | \u001b[0m 0.07718 \u001b[0m | \u001b[0m 0.0591  \u001b[0m | \u001b[0m 489.0   \u001b[0m |\n",
      "| \u001b[0m 258     \u001b[0m | \u001b[0m 0.4149  \u001b[0m | \u001b[0m 0.542   \u001b[0m | \u001b[0m 3.527   \u001b[0m | \u001b[0m 75.63   \u001b[0m | \u001b[0m 0.06948 \u001b[0m | \u001b[0m 3.029   \u001b[0m | \u001b[0m 484.1   \u001b[0m |\n",
      "| \u001b[0m 259     \u001b[0m | \u001b[0m 0.5646  \u001b[0m | \u001b[0m 0.6769  \u001b[0m | \u001b[0m 4.043   \u001b[0m | \u001b[0m 4.628   \u001b[0m | \u001b[0m 0.01273 \u001b[0m | \u001b[0m 0.4075  \u001b[0m | \u001b[0m 976.1   \u001b[0m |\n",
      "| \u001b[0m 260     \u001b[0m | \u001b[0m 0.4118  \u001b[0m | \u001b[0m 0.3102  \u001b[0m | \u001b[0m 6.263   \u001b[0m | \u001b[0m 6.599   \u001b[0m | \u001b[0m 0.03416 \u001b[0m | \u001b[0m 1.513   \u001b[0m | \u001b[0m 978.2   \u001b[0m |\n",
      "| \u001b[0m 261     \u001b[0m | \u001b[0m 0.3935  \u001b[0m | \u001b[0m 0.1885  \u001b[0m | \u001b[0m 9.14    \u001b[0m | \u001b[0m 16.54   \u001b[0m | \u001b[0m 0.03187 \u001b[0m | \u001b[0m 2.028   \u001b[0m | \u001b[0m 177.5   \u001b[0m |\n",
      "| \u001b[0m 262     \u001b[0m | \u001b[0m 0.5379  \u001b[0m | \u001b[0m 0.9248  \u001b[0m | \u001b[0m 1.021   \u001b[0m | \u001b[0m 20.03   \u001b[0m | \u001b[0m 0.07157 \u001b[0m | \u001b[0m 1.476   \u001b[0m | \u001b[0m 165.3   \u001b[0m |\n",
      "| \u001b[0m 263     \u001b[0m | \u001b[0m 0.5464  \u001b[0m | \u001b[0m 0.8113  \u001b[0m | \u001b[0m 2.727   \u001b[0m | \u001b[0m 7.632   \u001b[0m | \u001b[0m 0.09196 \u001b[0m | \u001b[0m 0.9528  \u001b[0m | \u001b[0m 975.3   \u001b[0m |\n",
      "| \u001b[0m 264     \u001b[0m | \u001b[0m 0.5127  \u001b[0m | \u001b[0m 0.6491  \u001b[0m | \u001b[0m 0.6416  \u001b[0m | \u001b[0m 9.771   \u001b[0m | \u001b[0m 0.03239 \u001b[0m | \u001b[0m 2.661   \u001b[0m | \u001b[0m 967.3   \u001b[0m |\n",
      "| \u001b[0m 265     \u001b[0m | \u001b[0m 0.4559  \u001b[0m | \u001b[0m 0.1242  \u001b[0m | \u001b[0m 1.067   \u001b[0m | \u001b[0m 14.08   \u001b[0m | \u001b[0m 0.07045 \u001b[0m | \u001b[0m 0.1232  \u001b[0m | \u001b[0m 973.5   \u001b[0m |\n",
      "| \u001b[0m 266     \u001b[0m | \u001b[0m 0.4951  \u001b[0m | \u001b[0m 0.7455  \u001b[0m | \u001b[0m 0.06724 \u001b[0m | \u001b[0m 5.07    \u001b[0m | \u001b[0m 0.067   \u001b[0m | \u001b[0m 4.873   \u001b[0m | \u001b[0m 980.4   \u001b[0m |\n",
      "| \u001b[0m 267     \u001b[0m | \u001b[0m 0.5174  \u001b[0m | \u001b[0m 0.9739  \u001b[0m | \u001b[0m 1.624   \u001b[0m | \u001b[0m 54.72   \u001b[0m | \u001b[0m 0.04751 \u001b[0m | \u001b[0m 1.033   \u001b[0m | \u001b[0m 493.0   \u001b[0m |\n",
      "| \u001b[0m 268     \u001b[0m | \u001b[0m 0.4547  \u001b[0m | \u001b[0m 0.1684  \u001b[0m | \u001b[0m 1.579   \u001b[0m | \u001b[0m 4.606   \u001b[0m | \u001b[0m 0.04629 \u001b[0m | \u001b[0m 0.2137  \u001b[0m | \u001b[0m 974.8   \u001b[0m |\n",
      "| \u001b[0m 269     \u001b[0m | \u001b[0m 0.5443  \u001b[0m | \u001b[0m 0.5945  \u001b[0m | \u001b[0m 0.1618  \u001b[0m | \u001b[0m 0.565   \u001b[0m | \u001b[0m 0.02397 \u001b[0m | \u001b[0m 2.261   \u001b[0m | \u001b[0m 200.2   \u001b[0m |\n",
      "| \u001b[0m 270     \u001b[0m | \u001b[0m 0.4324  \u001b[0m | \u001b[0m 0.2758  \u001b[0m | \u001b[0m 4.864   \u001b[0m | \u001b[0m 21.68   \u001b[0m | \u001b[0m 0.07786 \u001b[0m | \u001b[0m 0.2034  \u001b[0m | \u001b[0m 184.6   \u001b[0m |\n",
      "| \u001b[0m 271     \u001b[0m | \u001b[0m 0.4895  \u001b[0m | \u001b[0m 0.628   \u001b[0m | \u001b[0m 0.06718 \u001b[0m | \u001b[0m 70.56   \u001b[0m | \u001b[0m 0.08959 \u001b[0m | \u001b[0m 1.441   \u001b[0m | \u001b[0m 490.6   \u001b[0m |\n",
      "| \u001b[0m 272     \u001b[0m | \u001b[0m 0.6274  \u001b[0m | \u001b[0m 0.9097  \u001b[0m | \u001b[0m 1.839   \u001b[0m | \u001b[0m 0.9818  \u001b[0m | \u001b[0m 0.07545 \u001b[0m | \u001b[0m 0.4996  \u001b[0m | \u001b[0m 982.5   \u001b[0m |\n",
      "| \u001b[0m 273     \u001b[0m | \u001b[0m 0.5837  \u001b[0m | \u001b[0m 0.8801  \u001b[0m | \u001b[0m 6.027   \u001b[0m | \u001b[0m 1.991   \u001b[0m | \u001b[0m 0.02574 \u001b[0m | \u001b[0m 0.1021  \u001b[0m | \u001b[0m 979.3   \u001b[0m |\n",
      "| \u001b[0m 274     \u001b[0m | \u001b[0m 0.6095  \u001b[0m | \u001b[0m 0.8401  \u001b[0m | \u001b[0m 2.615   \u001b[0m | \u001b[0m 18.78   \u001b[0m | \u001b[0m 0.02413 \u001b[0m | \u001b[0m 0.09582 \u001b[0m | \u001b[0m 161.6   \u001b[0m |\n",
      "| \u001b[0m 275     \u001b[0m | \u001b[0m 0.4707  \u001b[0m | \u001b[0m 0.6063  \u001b[0m | \u001b[0m 4.654   \u001b[0m | \u001b[0m 0.5435  \u001b[0m | \u001b[0m 0.06585 \u001b[0m | \u001b[0m 2.82    \u001b[0m | \u001b[0m 203.3   \u001b[0m |\n",
      "| \u001b[0m 276     \u001b[0m | \u001b[0m 0.539   \u001b[0m | \u001b[0m 0.5733  \u001b[0m | \u001b[0m 2.023   \u001b[0m | \u001b[0m 15.35   \u001b[0m | \u001b[0m 0.09414 \u001b[0m | \u001b[0m 0.4709  \u001b[0m | \u001b[0m 161.7   \u001b[0m |\n",
      "| \u001b[0m 277     \u001b[0m | \u001b[0m 0.4393  \u001b[0m | \u001b[0m 0.8371  \u001b[0m | \u001b[0m 3.098   \u001b[0m | \u001b[0m 14.17   \u001b[0m | \u001b[0m 0.02282 \u001b[0m | \u001b[0m 6.088   \u001b[0m | \u001b[0m 968.1   \u001b[0m |\n",
      "| \u001b[0m 278     \u001b[0m | \u001b[0m 0.4801  \u001b[0m | \u001b[0m 0.5598  \u001b[0m | \u001b[0m 6.68    \u001b[0m | \u001b[0m 6.34    \u001b[0m | \u001b[0m 0.06967 \u001b[0m | \u001b[0m 0.8523  \u001b[0m | \u001b[0m 965.6   \u001b[0m |\n",
      "| \u001b[0m 279     \u001b[0m | \u001b[0m 0.5224  \u001b[0m | \u001b[0m 0.8534  \u001b[0m | \u001b[0m 3.473   \u001b[0m | \u001b[0m 2.047   \u001b[0m | \u001b[0m 0.08833 \u001b[0m | \u001b[0m 1.959   \u001b[0m | \u001b[0m 982.7   \u001b[0m |\n",
      "| \u001b[0m 280     \u001b[0m | \u001b[0m 0.4123  \u001b[0m | \u001b[0m 0.3264  \u001b[0m | \u001b[0m 5.604   \u001b[0m | \u001b[0m 0.3602  \u001b[0m | \u001b[0m 0.03284 \u001b[0m | \u001b[0m 2.104   \u001b[0m | \u001b[0m 980.2   \u001b[0m |\n",
      "| \u001b[0m 281     \u001b[0m | \u001b[0m 0.6067  \u001b[0m | \u001b[0m 0.6297  \u001b[0m | \u001b[0m 0.1479  \u001b[0m | \u001b[0m 2.166   \u001b[0m | \u001b[0m 0.07498 \u001b[0m | \u001b[0m 1.14    \u001b[0m | \u001b[0m 983.3   \u001b[0m |\n",
      "| \u001b[0m 282     \u001b[0m | \u001b[0m 0.3988  \u001b[0m | \u001b[0m 0.3251  \u001b[0m | \u001b[0m 0.5336  \u001b[0m | \u001b[0m 9.653   \u001b[0m | \u001b[0m 0.0256  \u001b[0m | \u001b[0m 5.399   \u001b[0m | \u001b[0m 972.9   \u001b[0m |\n",
      "| \u001b[0m 283     \u001b[0m | \u001b[0m 0.4552  \u001b[0m | \u001b[0m 0.8524  \u001b[0m | \u001b[0m 1.553   \u001b[0m | \u001b[0m 8.385   \u001b[0m | \u001b[0m 0.09753 \u001b[0m | \u001b[0m 6.291   \u001b[0m | \u001b[0m 961.2   \u001b[0m |\n",
      "| \u001b[0m 284     \u001b[0m | \u001b[0m 0.5973  \u001b[0m | \u001b[0m 0.9677  \u001b[0m | \u001b[0m 2.11    \u001b[0m | \u001b[0m 3.824   \u001b[0m | \u001b[0m 0.01799 \u001b[0m | \u001b[0m 0.6815  \u001b[0m | \u001b[0m 981.0   \u001b[0m |\n",
      "| \u001b[0m 285     \u001b[0m | \u001b[0m 0.5201  \u001b[0m | \u001b[0m 0.5644  \u001b[0m | \u001b[0m 6.619   \u001b[0m | \u001b[0m 6.188   \u001b[0m | \u001b[0m 0.01245 \u001b[0m | \u001b[0m 0.1487  \u001b[0m | \u001b[0m 958.3   \u001b[0m |\n",
      "| \u001b[0m 286     \u001b[0m | \u001b[0m 0.4687  \u001b[0m | \u001b[0m 0.9835  \u001b[0m | \u001b[0m 8.112   \u001b[0m | \u001b[0m 3.247   \u001b[0m | \u001b[0m 0.0634  \u001b[0m | \u001b[0m 3.429   \u001b[0m | \u001b[0m 960.8   \u001b[0m |\n",
      "| \u001b[0m 287     \u001b[0m | \u001b[0m 0.6172  \u001b[0m | \u001b[0m 0.8797  \u001b[0m | \u001b[0m 0.4693  \u001b[0m | \u001b[0m 0.2842  \u001b[0m | \u001b[0m 0.0855  \u001b[0m | \u001b[0m 1.371   \u001b[0m | \u001b[0m 189.9   \u001b[0m |\n",
      "| \u001b[0m 288     \u001b[0m | \u001b[0m 0.4104  \u001b[0m | \u001b[0m 0.57    \u001b[0m | \u001b[0m 9.018   \u001b[0m | \u001b[0m 10.09   \u001b[0m | \u001b[0m 0.06713 \u001b[0m | \u001b[0m 5.267   \u001b[0m | \u001b[0m 957.6   \u001b[0m |\n",
      "| \u001b[0m 289     \u001b[0m | \u001b[0m 0.4411  \u001b[0m | \u001b[0m 0.2452  \u001b[0m | \u001b[0m 0.3515  \u001b[0m | \u001b[0m 7.52    \u001b[0m | \u001b[0m 0.03087 \u001b[0m | \u001b[0m 1.272   \u001b[0m | \u001b[0m 956.2   \u001b[0m |\n",
      "| \u001b[0m 290     \u001b[0m | \u001b[0m 0.4972  \u001b[0m | \u001b[0m 0.5843  \u001b[0m | \u001b[0m 6.213   \u001b[0m | \u001b[0m 2.277   \u001b[0m | \u001b[0m 0.0629  \u001b[0m | \u001b[0m 0.6589  \u001b[0m | \u001b[0m 951.3   \u001b[0m |\n",
      "| \u001b[0m 291     \u001b[0m | \u001b[0m 0.5643  \u001b[0m | \u001b[0m 0.9832  \u001b[0m | \u001b[0m 0.4337  \u001b[0m | \u001b[0m 17.73   \u001b[0m | \u001b[0m 0.04809 \u001b[0m | \u001b[0m 1.18    \u001b[0m | \u001b[0m 164.3   \u001b[0m |\n",
      "| \u001b[0m 292     \u001b[0m | \u001b[0m 0.4291  \u001b[0m | \u001b[0m 0.2203  \u001b[0m | \u001b[0m 2.487   \u001b[0m | \u001b[0m 53.58   \u001b[0m | \u001b[0m 0.03311 \u001b[0m | \u001b[0m 0.386   \u001b[0m | \u001b[0m 496.1   \u001b[0m |\n",
      "| \u001b[0m 293     \u001b[0m | \u001b[0m 0.5272  \u001b[0m | \u001b[0m 0.6028  \u001b[0m | \u001b[0m 0.4603  \u001b[0m | \u001b[0m 4.76    \u001b[0m | \u001b[0m 0.0995  \u001b[0m | \u001b[0m 1.574   \u001b[0m | \u001b[0m 964.6   \u001b[0m |\n",
      "| \u001b[0m 294     \u001b[0m | \u001b[0m 0.4479  \u001b[0m | \u001b[0m 0.1307  \u001b[0m | \u001b[0m 0.9333  \u001b[0m | \u001b[0m 49.65   \u001b[0m | \u001b[0m 0.04819 \u001b[0m | \u001b[0m 0.02486 \u001b[0m | \u001b[0m 508.8   \u001b[0m |\n",
      "| \u001b[0m 295     \u001b[0m | \u001b[0m 0.5075  \u001b[0m | \u001b[0m 0.4049  \u001b[0m | \u001b[0m 0.08141 \u001b[0m | \u001b[0m 8.046   \u001b[0m | \u001b[0m 0.08175 \u001b[0m | \u001b[0m 1.929   \u001b[0m | \u001b[0m 190.6   \u001b[0m |\n",
      "| \u001b[0m 296     \u001b[0m | \u001b[0m 0.4474  \u001b[0m | \u001b[0m 0.3131  \u001b[0m | \u001b[0m 1.236   \u001b[0m | \u001b[0m 1.347   \u001b[0m | \u001b[0m 0.01895 \u001b[0m | \u001b[0m 0.8699  \u001b[0m | \u001b[0m 984.4   \u001b[0m |\n",
      "| \u001b[0m 297     \u001b[0m | \u001b[0m 0.511   \u001b[0m | \u001b[0m 0.5474  \u001b[0m | \u001b[0m 1.558   \u001b[0m | \u001b[0m 18.66   \u001b[0m | \u001b[0m 0.05249 \u001b[0m | \u001b[0m 0.9744  \u001b[0m | \u001b[0m 163.0   \u001b[0m |\n",
      "| \u001b[0m 298     \u001b[0m | \u001b[0m 0.4571  \u001b[0m | \u001b[0m 0.1514  \u001b[0m | \u001b[0m 1.4     \u001b[0m | \u001b[0m 10.9    \u001b[0m | \u001b[0m 0.09053 \u001b[0m | \u001b[0m 0.07469 \u001b[0m | \u001b[0m 178.0   \u001b[0m |\n",
      "| \u001b[0m 299     \u001b[0m | \u001b[0m 0.4319  \u001b[0m | \u001b[0m 0.1885  \u001b[0m | \u001b[0m 0.3485  \u001b[0m | \u001b[0m 6.669   \u001b[0m | \u001b[0m 0.07293 \u001b[0m | \u001b[0m 2.035   \u001b[0m | \u001b[0m 979.0   \u001b[0m |\n",
      "| \u001b[0m 300     \u001b[0m | \u001b[0m 0.5613  \u001b[0m | \u001b[0m 0.6438  \u001b[0m | \u001b[0m 2.352   \u001b[0m | \u001b[0m 5.09    \u001b[0m | \u001b[0m 0.08487 \u001b[0m | \u001b[0m 0.8615  \u001b[0m | \u001b[0m 961.0   \u001b[0m |\n",
      "| \u001b[0m 301     \u001b[0m | \u001b[0m 0.5302  \u001b[0m | \u001b[0m 0.5682  \u001b[0m | \u001b[0m 0.6508  \u001b[0m | \u001b[0m 0.632   \u001b[0m | \u001b[0m 0.04734 \u001b[0m | \u001b[0m 2.398   \u001b[0m | \u001b[0m 185.9   \u001b[0m |\n",
      "| \u001b[0m 302     \u001b[0m | \u001b[0m 0.5005  \u001b[0m | \u001b[0m 0.8148  \u001b[0m | \u001b[0m 6.114   \u001b[0m | \u001b[0m 17.0    \u001b[0m | \u001b[0m 0.0162  \u001b[0m | \u001b[0m 0.8328  \u001b[0m | \u001b[0m 157.3   \u001b[0m |\n",
      "| \u001b[0m 303     \u001b[0m | \u001b[0m 0.4768  \u001b[0m | \u001b[0m 0.8928  \u001b[0m | \u001b[0m 0.3549  \u001b[0m | \u001b[0m 10.85   \u001b[0m | \u001b[0m 0.01187 \u001b[0m | \u001b[0m 6.032   \u001b[0m | \u001b[0m 175.1   \u001b[0m |\n",
      "| \u001b[0m 304     \u001b[0m | \u001b[0m 0.6001  \u001b[0m | \u001b[0m 0.8952  \u001b[0m | \u001b[0m 5.169   \u001b[0m | \u001b[0m 0.4305  \u001b[0m | \u001b[0m 0.09705 \u001b[0m | \u001b[0m 0.08973 \u001b[0m | \u001b[0m 956.5   \u001b[0m |\n",
      "| \u001b[0m 305     \u001b[0m | \u001b[0m 0.562   \u001b[0m | \u001b[0m 0.9333  \u001b[0m | \u001b[0m 5.605   \u001b[0m | \u001b[0m 4.326   \u001b[0m | \u001b[0m 0.05178 \u001b[0m | \u001b[0m 0.3709  \u001b[0m | \u001b[0m 961.1   \u001b[0m |\n",
      "| \u001b[0m 306     \u001b[0m | \u001b[0m 0.4281  \u001b[0m | \u001b[0m 0.3657  \u001b[0m | \u001b[0m 6.302   \u001b[0m | \u001b[0m 2.835   \u001b[0m | \u001b[0m 0.07008 \u001b[0m | \u001b[0m 0.4076  \u001b[0m | \u001b[0m 974.3   \u001b[0m |\n",
      "| \u001b[0m 307     \u001b[0m | \u001b[0m 0.6089  \u001b[0m | \u001b[0m 1.0     \u001b[0m | \u001b[0m 3.87    \u001b[0m | \u001b[0m 18.53   \u001b[0m | \u001b[0m 0.01    \u001b[0m | \u001b[0m 0.0     \u001b[0m | \u001b[0m 164.4   \u001b[0m |\n",
      "| \u001b[0m 308     \u001b[0m | \u001b[0m 0.5711  \u001b[0m | \u001b[0m 0.9628  \u001b[0m | \u001b[0m 1.9     \u001b[0m | \u001b[0m 3.543   \u001b[0m | \u001b[0m 0.07061 \u001b[0m | \u001b[0m 1.292   \u001b[0m | \u001b[0m 954.9   \u001b[0m |\n",
      "| \u001b[95m 309     \u001b[0m | \u001b[95m 0.7176  \u001b[0m | \u001b[95m 1.0     \u001b[0m | \u001b[95m 0.0     \u001b[0m | \u001b[95m 0.0     \u001b[0m | \u001b[95m 0.01    \u001b[0m | \u001b[95m 0.0     \u001b[0m | \u001b[95m 190.7   \u001b[0m |\n",
      "| \u001b[0m 310     \u001b[0m | \u001b[0m 0.4034  \u001b[0m | \u001b[0m 0.1153  \u001b[0m | \u001b[0m 3.895   \u001b[0m | \u001b[0m 73.23   \u001b[0m | \u001b[0m 0.074   \u001b[0m | \u001b[0m 1.359   \u001b[0m | \u001b[0m 488.7   \u001b[0m |\n",
      "| \u001b[0m 311     \u001b[0m | \u001b[0m 0.5177  \u001b[0m | \u001b[0m 0.9359  \u001b[0m | \u001b[0m 5.294   \u001b[0m | \u001b[0m 0.4791  \u001b[0m | \u001b[0m 0.04267 \u001b[0m | \u001b[0m 2.158   \u001b[0m | \u001b[0m 958.9   \u001b[0m |\n",
      "| \u001b[0m 312     \u001b[0m | \u001b[0m 0.5575  \u001b[0m | \u001b[0m 0.8738  \u001b[0m | \u001b[0m 2.751   \u001b[0m | \u001b[0m 3.138   \u001b[0m | \u001b[0m 0.07922 \u001b[0m | \u001b[0m 0.9667  \u001b[0m | \u001b[0m 958.9   \u001b[0m |\n",
      "| \u001b[0m 313     \u001b[0m | \u001b[0m 0.453   \u001b[0m | \u001b[0m 0.4585  \u001b[0m | \u001b[0m 1.373   \u001b[0m | \u001b[0m 4.082   \u001b[0m | \u001b[0m 0.07315 \u001b[0m | \u001b[0m 6.027   \u001b[0m | \u001b[0m 963.9   \u001b[0m |\n",
      "| \u001b[0m 314     \u001b[0m | \u001b[0m 0.4417  \u001b[0m | \u001b[0m 0.1114  \u001b[0m | \u001b[0m 1.199   \u001b[0m | \u001b[0m 2.425   \u001b[0m | \u001b[0m 0.09771 \u001b[0m | \u001b[0m 1.324   \u001b[0m | \u001b[0m 951.6   \u001b[0m |\n",
      "| \u001b[0m 315     \u001b[0m | \u001b[0m 0.4565  \u001b[0m | \u001b[0m 0.1229  \u001b[0m | \u001b[0m 0.3743  \u001b[0m | \u001b[0m 3.544   \u001b[0m | \u001b[0m 0.08293 \u001b[0m | \u001b[0m 0.525   \u001b[0m | \u001b[0m 193.9   \u001b[0m |\n",
      "| \u001b[0m 316     \u001b[0m | \u001b[0m 0.4239  \u001b[0m | \u001b[0m 0.292   \u001b[0m | \u001b[0m 0.1813  \u001b[0m | \u001b[0m 48.16   \u001b[0m | \u001b[0m 0.05483 \u001b[0m | \u001b[0m 1.19    \u001b[0m | \u001b[0m 503.7   \u001b[0m |\n",
      "| \u001b[0m 317     \u001b[0m | \u001b[0m 0.503   \u001b[0m | \u001b[0m 0.7625  \u001b[0m | \u001b[0m 3.42    \u001b[0m | \u001b[0m 4.81    \u001b[0m | \u001b[0m 0.01892 \u001b[0m | \u001b[0m 2.235   \u001b[0m | \u001b[0m 956.1   \u001b[0m |\n",
      "| \u001b[0m 318     \u001b[0m | \u001b[0m 0.6823  \u001b[0m | \u001b[0m 1.0     \u001b[0m | \u001b[0m 2.565   \u001b[0m | \u001b[0m 1.044   \u001b[0m | \u001b[0m 0.1     \u001b[0m | \u001b[0m 0.0     \u001b[0m | \u001b[0m 956.0   \u001b[0m |\n",
      "| \u001b[0m 319     \u001b[0m | \u001b[0m 0.5483  \u001b[0m | \u001b[0m 0.7837  \u001b[0m | \u001b[0m 0.8922  \u001b[0m | \u001b[0m 1.456   \u001b[0m | \u001b[0m 0.01241 \u001b[0m | \u001b[0m 2.624   \u001b[0m | \u001b[0m 982.5   \u001b[0m |\n",
      "| \u001b[0m 320     \u001b[0m | \u001b[0m 0.4485  \u001b[0m | \u001b[0m 0.1094  \u001b[0m | \u001b[0m 0.3374  \u001b[0m | \u001b[0m 2.793   \u001b[0m | \u001b[0m 0.08889 \u001b[0m | \u001b[0m 1.175   \u001b[0m | \u001b[0m 981.9   \u001b[0m |\n",
      "| \u001b[0m 321     \u001b[0m | \u001b[0m 0.5481  \u001b[0m | \u001b[0m 0.4586  \u001b[0m | \u001b[0m 0.4793  \u001b[0m | \u001b[0m 0.63    \u001b[0m | \u001b[0m 0.03636 \u001b[0m | \u001b[0m 1.871   \u001b[0m | \u001b[0m 955.8   \u001b[0m |\n",
      "| \u001b[0m 322     \u001b[0m | \u001b[0m 0.5585  \u001b[0m | \u001b[0m 0.869   \u001b[0m | \u001b[0m 3.419   \u001b[0m | \u001b[0m 1.693   \u001b[0m | \u001b[0m 0.07022 \u001b[0m | \u001b[0m 0.8388  \u001b[0m | \u001b[0m 952.7   \u001b[0m |\n",
      "| \u001b[0m 323     \u001b[0m | \u001b[0m 0.5503  \u001b[0m | \u001b[0m 0.8155  \u001b[0m | \u001b[0m 2.847   \u001b[0m | \u001b[0m 43.54   \u001b[0m | \u001b[0m 0.04779 \u001b[0m | \u001b[0m 0.3415  \u001b[0m | \u001b[0m 505.3   \u001b[0m |\n",
      "| \u001b[0m 324     \u001b[0m | \u001b[0m 0.5495  \u001b[0m | \u001b[0m 0.4117  \u001b[0m | \u001b[0m 3.056   \u001b[0m | \u001b[0m 0.5773  \u001b[0m | \u001b[0m 0.0273  \u001b[0m | \u001b[0m 0.4296  \u001b[0m | \u001b[0m 189.4   \u001b[0m |\n",
      "| \u001b[0m 325     \u001b[0m | \u001b[0m 0.3999  \u001b[0m | \u001b[0m 0.1686  \u001b[0m | \u001b[0m 3.592   \u001b[0m | \u001b[0m 17.3    \u001b[0m | \u001b[0m 0.07221 \u001b[0m | \u001b[0m 3.242   \u001b[0m | \u001b[0m 160.8   \u001b[0m |\n",
      "| \u001b[0m 326     \u001b[0m | \u001b[0m 0.4497  \u001b[0m | \u001b[0m 0.3737  \u001b[0m | \u001b[0m 0.2223  \u001b[0m | \u001b[0m 1.581   \u001b[0m | \u001b[0m 0.05913 \u001b[0m | \u001b[0m 1.277   \u001b[0m | \u001b[0m 189.9   \u001b[0m |\n",
      "| \u001b[0m 327     \u001b[0m | \u001b[0m 0.628   \u001b[0m | \u001b[0m 0.9875  \u001b[0m | \u001b[0m 0.2785  \u001b[0m | \u001b[0m 11.99   \u001b[0m | \u001b[0m 0.06293 \u001b[0m | \u001b[0m 0.445   \u001b[0m | \u001b[0m 180.8   \u001b[0m |\n",
      "| \u001b[0m 328     \u001b[0m | \u001b[0m 0.6226  \u001b[0m | \u001b[0m 1.0     \u001b[0m | \u001b[0m 2.512   \u001b[0m | \u001b[0m 18.27   \u001b[0m | \u001b[0m 0.01    \u001b[0m | \u001b[0m 0.0     \u001b[0m | \u001b[0m 166.4   \u001b[0m |\n",
      "| \u001b[0m 329     \u001b[0m | \u001b[0m 0.5958  \u001b[0m | \u001b[0m 0.8914  \u001b[0m | \u001b[0m 0.1885  \u001b[0m | \u001b[0m 11.32   \u001b[0m | \u001b[0m 0.05029 \u001b[0m | \u001b[0m 0.9241  \u001b[0m | \u001b[0m 186.7   \u001b[0m |\n",
      "| \u001b[0m 330     \u001b[0m | \u001b[0m 0.4537  \u001b[0m | \u001b[0m 0.3522  \u001b[0m | \u001b[0m 2.365   \u001b[0m | \u001b[0m 1.596   \u001b[0m | \u001b[0m 0.05053 \u001b[0m | \u001b[0m 0.1524  \u001b[0m | \u001b[0m 959.1   \u001b[0m |\n",
      "| \u001b[0m 331     \u001b[0m | \u001b[0m 0.6126  \u001b[0m | \u001b[0m 0.9219  \u001b[0m | \u001b[0m 0.1051  \u001b[0m | \u001b[0m 17.61   \u001b[0m | \u001b[0m 0.02844 \u001b[0m | \u001b[0m 0.5358  \u001b[0m | \u001b[0m 191.1   \u001b[0m |\n",
      "| \u001b[0m 332     \u001b[0m | \u001b[0m 0.5498  \u001b[0m | \u001b[0m 0.5093  \u001b[0m | \u001b[0m 2.579   \u001b[0m | \u001b[0m 19.19   \u001b[0m | \u001b[0m 0.03105 \u001b[0m | \u001b[0m 0.2445  \u001b[0m | \u001b[0m 189.0   \u001b[0m |\n",
      "| \u001b[0m 333     \u001b[0m | \u001b[0m 0.514   \u001b[0m | \u001b[0m 0.6001  \u001b[0m | \u001b[0m 3.564   \u001b[0m | \u001b[0m 1.566   \u001b[0m | \u001b[0m 0.0586  \u001b[0m | \u001b[0m 1.073   \u001b[0m | \u001b[0m 957.3   \u001b[0m |\n",
      "| \u001b[0m 334     \u001b[0m | \u001b[0m 0.4983  \u001b[0m | \u001b[0m 0.4597  \u001b[0m | \u001b[0m 2.995   \u001b[0m | \u001b[0m 9.845   \u001b[0m | \u001b[0m 0.08233 \u001b[0m | \u001b[0m 1.03    \u001b[0m | \u001b[0m 970.4   \u001b[0m |\n",
      "| \u001b[0m 335     \u001b[0m | \u001b[0m 0.4561  \u001b[0m | \u001b[0m 0.5672  \u001b[0m | \u001b[0m 2.044   \u001b[0m | \u001b[0m 18.78   \u001b[0m | \u001b[0m 0.08658 \u001b[0m | \u001b[0m 3.135   \u001b[0m | \u001b[0m 191.4   \u001b[0m |\n",
      "| \u001b[0m 336     \u001b[0m | \u001b[0m 0.4545  \u001b[0m | \u001b[0m 0.3729  \u001b[0m | \u001b[0m 0.6957  \u001b[0m | \u001b[0m 8.319   \u001b[0m | \u001b[0m 0.08165 \u001b[0m | \u001b[0m 0.3554  \u001b[0m | \u001b[0m 184.9   \u001b[0m |\n",
      "| \u001b[0m 337     \u001b[0m | \u001b[0m 0.4313  \u001b[0m | \u001b[0m 0.2212  \u001b[0m | \u001b[0m 1.745   \u001b[0m | \u001b[0m 46.77   \u001b[0m | \u001b[0m 0.02557 \u001b[0m | \u001b[0m 0.365   \u001b[0m | \u001b[0m 501.1   \u001b[0m |\n",
      "| \u001b[0m 338     \u001b[0m | \u001b[0m 0.4566  \u001b[0m | \u001b[0m 0.111   \u001b[0m | \u001b[0m 0.4001  \u001b[0m | \u001b[0m 9.696   \u001b[0m | \u001b[0m 0.08458 \u001b[0m | \u001b[0m 0.05281 \u001b[0m | \u001b[0m 192.2   \u001b[0m |\n",
      "| \u001b[0m 339     \u001b[0m | \u001b[0m 0.5699  \u001b[0m | \u001b[0m 0.4075  \u001b[0m | \u001b[0m 0.4236  \u001b[0m | \u001b[0m 19.36   \u001b[0m | \u001b[0m 0.02521 \u001b[0m | \u001b[0m 0.3306  \u001b[0m | \u001b[0m 188.4   \u001b[0m |\n",
      "| \u001b[0m 340     \u001b[0m | \u001b[0m 0.4379  \u001b[0m | \u001b[0m 0.1056  \u001b[0m | \u001b[0m 0.2783  \u001b[0m | \u001b[0m 74.01   \u001b[0m | \u001b[0m 0.06293 \u001b[0m | \u001b[0m 0.3423  \u001b[0m | \u001b[0m 491.0   \u001b[0m |\n",
      "| \u001b[0m 341     \u001b[0m | \u001b[0m 0.4564  \u001b[0m | \u001b[0m 0.5451  \u001b[0m | \u001b[0m 3.857   \u001b[0m | \u001b[0m 2.048   \u001b[0m | \u001b[0m 0.01108 \u001b[0m | \u001b[0m 4.35    \u001b[0m | \u001b[0m 953.2   \u001b[0m |\n",
      "| \u001b[0m 342     \u001b[0m | \u001b[0m 0.4244  \u001b[0m | \u001b[0m 0.2961  \u001b[0m | \u001b[0m 0.7822  \u001b[0m | \u001b[0m 11.54   \u001b[0m | \u001b[0m 0.09039 \u001b[0m | \u001b[0m 2.148   \u001b[0m | \u001b[0m 182.1   \u001b[0m |\n",
      "| \u001b[0m 343     \u001b[0m | \u001b[0m 0.4976  \u001b[0m | \u001b[0m 0.9806  \u001b[0m | \u001b[0m 0.3542  \u001b[0m | \u001b[0m 19.74   \u001b[0m | \u001b[0m 0.04726 \u001b[0m | \u001b[0m 3.075   \u001b[0m | \u001b[0m 182.0   \u001b[0m |\n",
      "| \u001b[0m 344     \u001b[0m | \u001b[0m 0.6375  \u001b[0m | \u001b[0m 0.883   \u001b[0m | \u001b[0m 1.09    \u001b[0m | \u001b[0m 15.04   \u001b[0m | \u001b[0m 0.07236 \u001b[0m | \u001b[0m 0.1807  \u001b[0m | \u001b[0m 164.4   \u001b[0m |\n",
      "| \u001b[0m 345     \u001b[0m | \u001b[0m 0.523   \u001b[0m | \u001b[0m 0.6333  \u001b[0m | \u001b[0m 0.7704  \u001b[0m | \u001b[0m 22.38   \u001b[0m | \u001b[0m 0.01106 \u001b[0m | \u001b[0m 1.445   \u001b[0m | \u001b[0m 184.9   \u001b[0m |\n",
      "| \u001b[0m 346     \u001b[0m | \u001b[0m 0.5447  \u001b[0m | \u001b[0m 0.9014  \u001b[0m | \u001b[0m 5.106   \u001b[0m | \u001b[0m 3.707   \u001b[0m | \u001b[0m 0.0613  \u001b[0m | \u001b[0m 0.8278  \u001b[0m | \u001b[0m 957.4   \u001b[0m |\n",
      "| \u001b[0m 347     \u001b[0m | \u001b[0m 0.7084  \u001b[0m | \u001b[0m 0.8068  \u001b[0m | \u001b[0m 0.7539  \u001b[0m | \u001b[0m 1.641   \u001b[0m | \u001b[0m 0.06422 \u001b[0m | \u001b[0m 0.005064\u001b[0m | \u001b[0m 954.7   \u001b[0m |\n",
      "| \u001b[0m 348     \u001b[0m | \u001b[0m 0.501   \u001b[0m | \u001b[0m 0.6331  \u001b[0m | \u001b[0m 1.988   \u001b[0m | \u001b[0m 51.42   \u001b[0m | \u001b[0m 0.07068 \u001b[0m | \u001b[0m 1.062   \u001b[0m | \u001b[0m 505.7   \u001b[0m |\n",
      "| \u001b[0m 349     \u001b[0m | \u001b[0m 0.5091  \u001b[0m | \u001b[0m 0.9391  \u001b[0m | \u001b[0m 2.957   \u001b[0m | \u001b[0m 48.55   \u001b[0m | \u001b[0m 0.01403 \u001b[0m | \u001b[0m 1.002   \u001b[0m | \u001b[0m 504.2   \u001b[0m |\n",
      "| \u001b[0m 350     \u001b[0m | \u001b[0m 0.4334  \u001b[0m | \u001b[0m 0.2911  \u001b[0m | \u001b[0m 1.17    \u001b[0m | \u001b[0m 18.23   \u001b[0m | \u001b[0m 0.03801 \u001b[0m | \u001b[0m 0.9497  \u001b[0m | \u001b[0m 179.0   \u001b[0m |\n",
      "| \u001b[0m 351     \u001b[0m | \u001b[0m 0.5527  \u001b[0m | \u001b[0m 0.993   \u001b[0m | \u001b[0m 0.2782  \u001b[0m | \u001b[0m 14.28   \u001b[0m | \u001b[0m 0.06314 \u001b[0m | \u001b[0m 1.63    \u001b[0m | \u001b[0m 161.3   \u001b[0m |\n",
      "| \u001b[0m 352     \u001b[0m | \u001b[0m 0.5837  \u001b[0m | \u001b[0m 0.9783  \u001b[0m | \u001b[0m 0.337   \u001b[0m | \u001b[0m 3.079   \u001b[0m | \u001b[0m 0.03613 \u001b[0m | \u001b[0m 1.906   \u001b[0m | \u001b[0m 957.7   \u001b[0m |\n",
      "| \u001b[0m 353     \u001b[0m | \u001b[0m 0.5474  \u001b[0m | \u001b[0m 0.3802  \u001b[0m | \u001b[0m 2.325   \u001b[0m | \u001b[0m 11.53   \u001b[0m | \u001b[0m 0.08432 \u001b[0m | \u001b[0m 0.3663  \u001b[0m | \u001b[0m 187.5   \u001b[0m |\n",
      "| \u001b[0m 354     \u001b[0m | \u001b[0m 0.4943  \u001b[0m | \u001b[0m 0.62    \u001b[0m | \u001b[0m 1.482   \u001b[0m | \u001b[0m 43.69   \u001b[0m | \u001b[0m 0.05272 \u001b[0m | \u001b[0m 0.9831  \u001b[0m | \u001b[0m 506.5   \u001b[0m |\n",
      "| \u001b[0m 355     \u001b[0m | \u001b[0m 0.6231  \u001b[0m | \u001b[0m 0.7044  \u001b[0m | \u001b[0m 0.8115  \u001b[0m | \u001b[0m 18.45   \u001b[0m | \u001b[0m 0.0414  \u001b[0m | \u001b[0m 0.1974  \u001b[0m | \u001b[0m 183.9   \u001b[0m |\n",
      "| \u001b[0m 356     \u001b[0m | \u001b[0m 0.523   \u001b[0m | \u001b[0m 0.4237  \u001b[0m | \u001b[0m 2.361   \u001b[0m | \u001b[0m 8.326   \u001b[0m | \u001b[0m 0.03729 \u001b[0m | \u001b[0m 0.7471  \u001b[0m | \u001b[0m 966.3   \u001b[0m |\n",
      "| \u001b[0m 357     \u001b[0m | \u001b[0m 0.4295  \u001b[0m | \u001b[0m 0.3358  \u001b[0m | \u001b[0m 1.718   \u001b[0m | \u001b[0m 69.87   \u001b[0m | \u001b[0m 0.04164 \u001b[0m | \u001b[0m 0.4153  \u001b[0m | \u001b[0m 489.4   \u001b[0m |\n",
      "| \u001b[0m 358     \u001b[0m | \u001b[0m 0.6259  \u001b[0m | \u001b[0m 0.6497  \u001b[0m | \u001b[0m 0.6714  \u001b[0m | \u001b[0m 0.3963  \u001b[0m | \u001b[0m 0.07481 \u001b[0m | \u001b[0m 0.8189  \u001b[0m | \u001b[0m 955.3   \u001b[0m |\n",
      "| \u001b[0m 359     \u001b[0m | \u001b[0m 0.5307  \u001b[0m | \u001b[0m 0.5775  \u001b[0m | \u001b[0m 5.013   \u001b[0m | \u001b[0m 1.693   \u001b[0m | \u001b[0m 0.018   \u001b[0m | \u001b[0m 0.2735  \u001b[0m | \u001b[0m 981.9   \u001b[0m |\n",
      "| \u001b[0m 360     \u001b[0m | \u001b[0m 0.5061  \u001b[0m | \u001b[0m 0.8063  \u001b[0m | \u001b[0m 4.274   \u001b[0m | \u001b[0m 6.845   \u001b[0m | \u001b[0m 0.02868 \u001b[0m | \u001b[0m 1.558   \u001b[0m | \u001b[0m 973.3   \u001b[0m |\n",
      "| \u001b[0m 361     \u001b[0m | \u001b[0m 0.634   \u001b[0m | \u001b[0m 0.9011  \u001b[0m | \u001b[0m 0.645   \u001b[0m | \u001b[0m 11.73   \u001b[0m | \u001b[0m 0.07318 \u001b[0m | \u001b[0m 0.3162  \u001b[0m | \u001b[0m 184.5   \u001b[0m |\n",
      "| \u001b[0m 362     \u001b[0m | \u001b[0m 0.6053  \u001b[0m | \u001b[0m 0.9804  \u001b[0m | \u001b[0m 3.378   \u001b[0m | \u001b[0m 13.74   \u001b[0m | \u001b[0m 0.04025 \u001b[0m | \u001b[0m 0.128   \u001b[0m | \u001b[0m 164.0   \u001b[0m |\n",
      "| \u001b[0m 363     \u001b[0m | \u001b[0m 0.4436  \u001b[0m | \u001b[0m 0.1366  \u001b[0m | \u001b[0m 3.087   \u001b[0m | \u001b[0m 9.019   \u001b[0m | \u001b[0m 0.066   \u001b[0m | \u001b[0m 0.2152  \u001b[0m | \u001b[0m 960.1   \u001b[0m |\n",
      "| \u001b[0m 364     \u001b[0m | \u001b[0m 0.6267  \u001b[0m | \u001b[0m 0.9838  \u001b[0m | \u001b[0m 3.052   \u001b[0m | \u001b[0m 1.768   \u001b[0m | \u001b[0m 0.01678 \u001b[0m | \u001b[0m 0.1526  \u001b[0m | \u001b[0m 977.7   \u001b[0m |\n",
      "| \u001b[0m 365     \u001b[0m | \u001b[0m 0.5189  \u001b[0m | \u001b[0m 0.8855  \u001b[0m | \u001b[0m 0.6012  \u001b[0m | \u001b[0m 4.179   \u001b[0m | \u001b[0m 0.04339 \u001b[0m | \u001b[0m 4.294   \u001b[0m | \u001b[0m 957.1   \u001b[0m |\n",
      "| \u001b[0m 366     \u001b[0m | \u001b[0m 0.4946  \u001b[0m | \u001b[0m 0.5645  \u001b[0m | \u001b[0m 3.438   \u001b[0m | \u001b[0m 11.14   \u001b[0m | \u001b[0m 0.03153 \u001b[0m | \u001b[0m 1.098   \u001b[0m | \u001b[0m 164.8   \u001b[0m |\n",
      "| \u001b[0m 367     \u001b[0m | \u001b[0m 0.4123  \u001b[0m | \u001b[0m 0.1013  \u001b[0m | \u001b[0m 0.4961  \u001b[0m | \u001b[0m 13.81   \u001b[0m | \u001b[0m 0.074   \u001b[0m | \u001b[0m 3.294   \u001b[0m | \u001b[0m 164.8   \u001b[0m |\n",
      "| \u001b[0m 368     \u001b[0m | \u001b[0m 0.5128  \u001b[0m | \u001b[0m 0.7087  \u001b[0m | \u001b[0m 2.908   \u001b[0m | \u001b[0m 1.783   \u001b[0m | \u001b[0m 0.03708 \u001b[0m | \u001b[0m 2.629   \u001b[0m | \u001b[0m 199.7   \u001b[0m |\n",
      "| \u001b[0m 369     \u001b[0m | \u001b[0m 0.6201  \u001b[0m | \u001b[0m 0.9591  \u001b[0m | \u001b[0m 0.4422  \u001b[0m | \u001b[0m 12.97   \u001b[0m | \u001b[0m 0.09235 \u001b[0m | \u001b[0m 0.4634  \u001b[0m | \u001b[0m 164.8   \u001b[0m |\n",
      "| \u001b[0m 370     \u001b[0m | \u001b[0m 0.4261  \u001b[0m | \u001b[0m 0.2877  \u001b[0m | \u001b[0m 3.318   \u001b[0m | \u001b[0m 1.948   \u001b[0m | \u001b[0m 0.03095 \u001b[0m | \u001b[0m 1.488   \u001b[0m | \u001b[0m 954.3   \u001b[0m |\n",
      "| \u001b[0m 371     \u001b[0m | \u001b[0m 0.4082  \u001b[0m | \u001b[0m 0.2024  \u001b[0m | \u001b[0m 0.1786  \u001b[0m | \u001b[0m 64.83   \u001b[0m | \u001b[0m 0.08586 \u001b[0m | \u001b[0m 1.921   \u001b[0m | \u001b[0m 493.7   \u001b[0m |\n",
      "| \u001b[0m 372     \u001b[0m | \u001b[0m 0.4984  \u001b[0m | \u001b[0m 0.5466  \u001b[0m | \u001b[0m 6.24    \u001b[0m | \u001b[0m 18.54   \u001b[0m | \u001b[0m 0.04263 \u001b[0m | \u001b[0m 0.4171  \u001b[0m | \u001b[0m 187.9   \u001b[0m |\n",
      "| \u001b[0m 373     \u001b[0m | \u001b[0m 0.4197  \u001b[0m | \u001b[0m 0.1015  \u001b[0m | \u001b[0m 4.362   \u001b[0m | \u001b[0m 15.16   \u001b[0m | \u001b[0m 0.05707 \u001b[0m | \u001b[0m 1.122   \u001b[0m | \u001b[0m 167.8   \u001b[0m |\n",
      "| \u001b[0m 374     \u001b[0m | \u001b[0m 0.4896  \u001b[0m | \u001b[0m 0.5248  \u001b[0m | \u001b[0m 3.536   \u001b[0m | \u001b[0m 5.612   \u001b[0m | \u001b[0m 0.02985 \u001b[0m | \u001b[0m 1.648   \u001b[0m | \u001b[0m 963.8   \u001b[0m |\n",
      "| \u001b[0m 375     \u001b[0m | \u001b[0m 0.5276  \u001b[0m | \u001b[0m 0.3876  \u001b[0m | \u001b[0m 1.277   \u001b[0m | \u001b[0m 0.4977  \u001b[0m | \u001b[0m 0.03325 \u001b[0m | \u001b[0m 1.994   \u001b[0m | \u001b[0m 197.8   \u001b[0m |\n",
      "| \u001b[0m 376     \u001b[0m | \u001b[0m 0.4229  \u001b[0m | \u001b[0m 0.268   \u001b[0m | \u001b[0m 7.454   \u001b[0m | \u001b[0m 2.173   \u001b[0m | \u001b[0m 0.07691 \u001b[0m | \u001b[0m 0.4903  \u001b[0m | \u001b[0m 956.0   \u001b[0m |\n",
      "| \u001b[0m 377     \u001b[0m | \u001b[0m 0.5201  \u001b[0m | \u001b[0m 0.7173  \u001b[0m | \u001b[0m 0.6447  \u001b[0m | \u001b[0m 49.43   \u001b[0m | \u001b[0m 0.09316 \u001b[0m | \u001b[0m 0.9299  \u001b[0m | \u001b[0m 492.4   \u001b[0m |\n",
      "| \u001b[0m 378     \u001b[0m | \u001b[0m 0.4728  \u001b[0m | \u001b[0m 0.4805  \u001b[0m | \u001b[0m 3.046   \u001b[0m | \u001b[0m 19.52   \u001b[0m | \u001b[0m 0.03554 \u001b[0m | \u001b[0m 1.85    \u001b[0m | \u001b[0m 186.5   \u001b[0m |\n",
      "| \u001b[0m 379     \u001b[0m | \u001b[0m 0.623   \u001b[0m | \u001b[0m 0.9392  \u001b[0m | \u001b[0m 0.2019  \u001b[0m | \u001b[0m 12.24   \u001b[0m | \u001b[0m 0.08923 \u001b[0m | \u001b[0m 0.514   \u001b[0m | \u001b[0m 187.6   \u001b[0m |\n",
      "| \u001b[0m 380     \u001b[0m | \u001b[0m 0.4874  \u001b[0m | \u001b[0m 0.9357  \u001b[0m | \u001b[0m 3.85    \u001b[0m | \u001b[0m 51.98   \u001b[0m | \u001b[0m 0.02649 \u001b[0m | \u001b[0m 1.359   \u001b[0m | \u001b[0m 491.8   \u001b[0m |\n",
      "| \u001b[0m 381     \u001b[0m | \u001b[0m 0.5249  \u001b[0m | \u001b[0m 0.8266  \u001b[0m | \u001b[0m 1.106   \u001b[0m | \u001b[0m 14.0    \u001b[0m | \u001b[0m 0.03599 \u001b[0m | \u001b[0m 1.691   \u001b[0m | \u001b[0m 173.8   \u001b[0m |\n",
      "| \u001b[0m 382     \u001b[0m | \u001b[0m 0.6508  \u001b[0m | \u001b[0m 1.0     \u001b[0m | \u001b[0m 1.311   \u001b[0m | \u001b[0m 13.27   \u001b[0m | \u001b[0m 0.01    \u001b[0m | \u001b[0m 0.0     \u001b[0m | \u001b[0m 163.2   \u001b[0m |\n",
      "| \u001b[0m 383     \u001b[0m | \u001b[0m 0.596   \u001b[0m | \u001b[0m 0.8745  \u001b[0m | \u001b[0m 1.186   \u001b[0m | \u001b[0m 14.26   \u001b[0m | \u001b[0m 0.03551 \u001b[0m | \u001b[0m 0.4221  \u001b[0m | \u001b[0m 187.3   \u001b[0m |\n",
      "| \u001b[0m 384     \u001b[0m | \u001b[0m 0.544   \u001b[0m | \u001b[0m 0.8325  \u001b[0m | \u001b[0m 0.6171  \u001b[0m | \u001b[0m 19.41   \u001b[0m | \u001b[0m 0.02925 \u001b[0m | \u001b[0m 1.11    \u001b[0m | \u001b[0m 185.4   \u001b[0m |\n",
      "| \u001b[0m 385     \u001b[0m | \u001b[0m 0.5076  \u001b[0m | \u001b[0m 0.8054  \u001b[0m | \u001b[0m 0.01359 \u001b[0m | \u001b[0m 1.167   \u001b[0m | \u001b[0m 0.06317 \u001b[0m | \u001b[0m 6.166   \u001b[0m | \u001b[0m 195.8   \u001b[0m |\n",
      "| \u001b[0m 386     \u001b[0m | \u001b[0m 0.491   \u001b[0m | \u001b[0m 0.8247  \u001b[0m | \u001b[0m 8.731   \u001b[0m | \u001b[0m 2.573   \u001b[0m | \u001b[0m 0.09965 \u001b[0m | \u001b[0m 0.9151  \u001b[0m | \u001b[0m 187.6   \u001b[0m |\n",
      "| \u001b[0m 387     \u001b[0m | \u001b[0m 0.4915  \u001b[0m | \u001b[0m 0.4456  \u001b[0m | \u001b[0m 0.2026  \u001b[0m | \u001b[0m 1.009   \u001b[0m | \u001b[0m 0.05727 \u001b[0m | \u001b[0m 4.972   \u001b[0m | \u001b[0m 201.9   \u001b[0m |\n",
      "| \u001b[0m 388     \u001b[0m | \u001b[0m 0.4583  \u001b[0m | \u001b[0m 0.9375  \u001b[0m | \u001b[0m 0.7645  \u001b[0m | \u001b[0m 65.41   \u001b[0m | \u001b[0m 0.02302 \u001b[0m | \u001b[0m 2.997   \u001b[0m | \u001b[0m 486.9   \u001b[0m |\n",
      "| \u001b[0m 389     \u001b[0m | \u001b[0m 0.6824  \u001b[0m | \u001b[0m 0.8197  \u001b[0m | \u001b[0m 0.3616  \u001b[0m | \u001b[0m 0.6822  \u001b[0m | \u001b[0m 0.07682 \u001b[0m | \u001b[0m 0.2084  \u001b[0m | \u001b[0m 185.9   \u001b[0m |\n",
      "| \u001b[0m 390     \u001b[0m | \u001b[0m 0.5173  \u001b[0m | \u001b[0m 0.4101  \u001b[0m | \u001b[0m 5.473   \u001b[0m | \u001b[0m 0.4952  \u001b[0m | \u001b[0m 0.04526 \u001b[0m | \u001b[0m 0.4244  \u001b[0m | \u001b[0m 963.0   \u001b[0m |\n",
      "| \u001b[0m 391     \u001b[0m | \u001b[0m 0.4168  \u001b[0m | \u001b[0m 0.3455  \u001b[0m | \u001b[0m 2.279   \u001b[0m | \u001b[0m 17.91   \u001b[0m | \u001b[0m 0.07673 \u001b[0m | \u001b[0m 1.937   \u001b[0m | \u001b[0m 165.4   \u001b[0m |\n",
      "| \u001b[0m 392     \u001b[0m | \u001b[0m 0.644   \u001b[0m | \u001b[0m 0.8357  \u001b[0m | \u001b[0m 0.708   \u001b[0m | \u001b[0m 2.285   \u001b[0m | \u001b[0m 0.03469 \u001b[0m | \u001b[0m 0.3729  \u001b[0m | \u001b[0m 202.5   \u001b[0m |\n",
      "| \u001b[0m 393     \u001b[0m | \u001b[0m 0.4813  \u001b[0m | \u001b[0m 0.966   \u001b[0m | \u001b[0m 3.718   \u001b[0m | \u001b[0m 2.657   \u001b[0m | \u001b[0m 0.05525 \u001b[0m | \u001b[0m 5.407   \u001b[0m | \u001b[0m 959.2   \u001b[0m |\n",
      "| \u001b[0m 394     \u001b[0m | \u001b[0m 0.6684  \u001b[0m | \u001b[0m 1.0     \u001b[0m | \u001b[0m 0.0     \u001b[0m | \u001b[0m 13.45   \u001b[0m | \u001b[0m 0.01    \u001b[0m | \u001b[0m 0.0     \u001b[0m | \u001b[0m 182.2   \u001b[0m |\n",
      "| \u001b[0m 395     \u001b[0m | \u001b[0m 0.5482  \u001b[0m | \u001b[0m 0.5829  \u001b[0m | \u001b[0m 2.342   \u001b[0m | \u001b[0m 12.79   \u001b[0m | \u001b[0m 0.01932 \u001b[0m | \u001b[0m 0.3292  \u001b[0m | \u001b[0m 180.9   \u001b[0m |\n",
      "| \u001b[0m 396     \u001b[0m | \u001b[0m 0.5189  \u001b[0m | \u001b[0m 1.0     \u001b[0m | \u001b[0m 4.173   \u001b[0m | \u001b[0m 5.004   \u001b[0m | \u001b[0m 0.01    \u001b[0m | \u001b[0m 1.94    \u001b[0m | \u001b[0m 959.5   \u001b[0m |\n",
      "| \u001b[0m 397     \u001b[0m | \u001b[0m 0.5293  \u001b[0m | \u001b[0m 0.5394  \u001b[0m | \u001b[0m 0.3002  \u001b[0m | \u001b[0m 71.59   \u001b[0m | \u001b[0m 0.09749 \u001b[0m | \u001b[0m 0.4403  \u001b[0m | \u001b[0m 486.6   \u001b[0m |\n",
      "| \u001b[0m 398     \u001b[0m | \u001b[0m 0.6495  \u001b[0m | \u001b[0m 1.0     \u001b[0m | \u001b[0m 3.588   \u001b[0m | \u001b[0m 2.981   \u001b[0m | \u001b[0m 0.01    \u001b[0m | \u001b[0m 0.0     \u001b[0m | \u001b[0m 979.4   \u001b[0m |\n",
      "| \u001b[0m 399     \u001b[0m | \u001b[0m 0.4214  \u001b[0m | \u001b[0m 0.1046  \u001b[0m | \u001b[0m 2.293   \u001b[0m | \u001b[0m 2.249   \u001b[0m | \u001b[0m 0.01252 \u001b[0m | \u001b[0m 2.314   \u001b[0m | \u001b[0m 207.2   \u001b[0m |\n",
      "| \u001b[0m 400     \u001b[0m | \u001b[0m 0.4443  \u001b[0m | \u001b[0m 0.2179  \u001b[0m | \u001b[0m 3.584   \u001b[0m | \u001b[0m 25.31   \u001b[0m | \u001b[0m 0.06616 \u001b[0m | \u001b[0m 0.05507 \u001b[0m | \u001b[0m 192.0   \u001b[0m |\n",
      "| \u001b[0m 401     \u001b[0m | \u001b[0m 0.6508  \u001b[0m | \u001b[0m 1.0     \u001b[0m | \u001b[0m 0.6826  \u001b[0m | \u001b[0m 16.81   \u001b[0m | \u001b[0m 0.01    \u001b[0m | \u001b[0m 0.0     \u001b[0m | \u001b[0m 165.9   \u001b[0m |\n",
      "| \u001b[0m 402     \u001b[0m | \u001b[0m 0.5436  \u001b[0m | \u001b[0m 0.689   \u001b[0m | \u001b[0m 1.521   \u001b[0m | \u001b[0m 24.99   \u001b[0m | \u001b[0m 0.09933 \u001b[0m | \u001b[0m 0.7428  \u001b[0m | \u001b[0m 168.3   \u001b[0m |\n",
      "| \u001b[0m 403     \u001b[0m | \u001b[0m 0.4187  \u001b[0m | \u001b[0m 0.277   \u001b[0m | \u001b[0m 3.623   \u001b[0m | \u001b[0m 4.43    \u001b[0m | \u001b[0m 0.06033 \u001b[0m | \u001b[0m 1.896   \u001b[0m | \u001b[0m 979.4   \u001b[0m |\n",
      "| \u001b[0m 404     \u001b[0m | \u001b[0m 0.5261  \u001b[0m | \u001b[0m 0.5569  \u001b[0m | \u001b[0m 0.5058  \u001b[0m | \u001b[0m 3.9     \u001b[0m | \u001b[0m 0.02393 \u001b[0m | \u001b[0m 1.742   \u001b[0m | \u001b[0m 201.3   \u001b[0m |\n",
      "| \u001b[0m 405     \u001b[0m | \u001b[0m 0.5397  \u001b[0m | \u001b[0m 0.4061  \u001b[0m | \u001b[0m 3.322   \u001b[0m | \u001b[0m 22.01   \u001b[0m | \u001b[0m 0.02382 \u001b[0m | \u001b[0m 0.2265  \u001b[0m | \u001b[0m 166.3   \u001b[0m |\n",
      "| \u001b[0m 406     \u001b[0m | \u001b[0m 0.4956  \u001b[0m | \u001b[0m 0.3855  \u001b[0m | \u001b[0m 3.32    \u001b[0m | \u001b[0m 2.746   \u001b[0m | \u001b[0m 0.0784  \u001b[0m | \u001b[0m 1.626   \u001b[0m | \u001b[0m 202.3   \u001b[0m |\n",
      "| \u001b[0m 407     \u001b[0m | \u001b[0m 0.459   \u001b[0m | \u001b[0m 0.2223  \u001b[0m | \u001b[0m 0.563   \u001b[0m | \u001b[0m 3.544   \u001b[0m | \u001b[0m 0.05828 \u001b[0m | \u001b[0m 0.2461  \u001b[0m | \u001b[0m 956.6   \u001b[0m |\n",
      "| \u001b[0m 408     \u001b[0m | \u001b[0m 0.4589  \u001b[0m | \u001b[0m 0.4871  \u001b[0m | \u001b[0m 3.429   \u001b[0m | \u001b[0m 40.1    \u001b[0m | \u001b[0m 0.07709 \u001b[0m | \u001b[0m 1.721   \u001b[0m | \u001b[0m 503.2   \u001b[0m |\n",
      "| \u001b[0m 409     \u001b[0m | \u001b[0m 0.5803  \u001b[0m | \u001b[0m 0.6945  \u001b[0m | \u001b[0m 2.041   \u001b[0m | \u001b[0m 8.511   \u001b[0m | \u001b[0m 0.03713 \u001b[0m | \u001b[0m 0.4988  \u001b[0m | \u001b[0m 190.4   \u001b[0m |\n",
      "| \u001b[0m 410     \u001b[0m | \u001b[0m 0.5527  \u001b[0m | \u001b[0m 0.5133  \u001b[0m | \u001b[0m 1.797   \u001b[0m | \u001b[0m 13.04   \u001b[0m | \u001b[0m 0.03322 \u001b[0m | \u001b[0m 0.3573  \u001b[0m | \u001b[0m 159.2   \u001b[0m |\n",
      "| \u001b[0m 411     \u001b[0m | \u001b[0m 0.4557  \u001b[0m | \u001b[0m 0.5833  \u001b[0m | \u001b[0m 1.226   \u001b[0m | \u001b[0m 12.14   \u001b[0m | \u001b[0m 0.08716 \u001b[0m | \u001b[0m 4.34    \u001b[0m | \u001b[0m 159.8   \u001b[0m |\n",
      "| \u001b[0m 412     \u001b[0m | \u001b[0m 0.5339  \u001b[0m | \u001b[0m 0.667   \u001b[0m | \u001b[0m 0.3404  \u001b[0m | \u001b[0m 49.3    \u001b[0m | \u001b[0m 0.09525 \u001b[0m | \u001b[0m 0.8417  \u001b[0m | \u001b[0m 502.0   \u001b[0m |\n",
      "| \u001b[0m 413     \u001b[0m | \u001b[0m 0.5907  \u001b[0m | \u001b[0m 0.4835  \u001b[0m | \u001b[0m 0.4061  \u001b[0m | \u001b[0m 13.15   \u001b[0m | \u001b[0m 0.07495 \u001b[0m | \u001b[0m 0.2445  \u001b[0m | \u001b[0m 160.3   \u001b[0m |\n",
      "| \u001b[0m 414     \u001b[0m | \u001b[0m 0.6127  \u001b[0m | \u001b[0m 0.7623  \u001b[0m | \u001b[0m 1.427   \u001b[0m | \u001b[0m 13.62   \u001b[0m | \u001b[0m 0.09711 \u001b[0m | \u001b[0m 0.2278  \u001b[0m | \u001b[0m 182.7   \u001b[0m |\n",
      "| \u001b[0m 415     \u001b[0m | \u001b[0m 0.5584  \u001b[0m | \u001b[0m 0.662   \u001b[0m | \u001b[0m 0.5745  \u001b[0m | \u001b[0m 13.24   \u001b[0m | \u001b[0m 0.01225 \u001b[0m | \u001b[0m 1.11    \u001b[0m | \u001b[0m 178.7   \u001b[0m |\n",
      "| \u001b[0m 416     \u001b[0m | \u001b[0m 0.5745  \u001b[0m | \u001b[0m 0.5027  \u001b[0m | \u001b[0m 1.418   \u001b[0m | \u001b[0m 17.27   \u001b[0m | \u001b[0m 0.0492  \u001b[0m | \u001b[0m 0.209   \u001b[0m | \u001b[0m 188.5   \u001b[0m |\n",
      "| \u001b[0m 417     \u001b[0m | \u001b[0m 0.4819  \u001b[0m | \u001b[0m 0.6682  \u001b[0m | \u001b[0m 6.535   \u001b[0m | \u001b[0m 25.92   \u001b[0m | \u001b[0m 0.01106 \u001b[0m | \u001b[0m 1.082   \u001b[0m | \u001b[0m 171.8   \u001b[0m |\n",
      "| \u001b[95m 418     \u001b[0m | \u001b[95m 0.7193  \u001b[0m | \u001b[95m 1.0     \u001b[0m | \u001b[95m 0.0     \u001b[0m | \u001b[95m 11.89   \u001b[0m | \u001b[95m 0.1     \u001b[0m | \u001b[95m 0.0     \u001b[0m | \u001b[95m 162.7   \u001b[0m |\n",
      "| \u001b[0m 419     \u001b[0m | \u001b[0m 0.5403  \u001b[0m | \u001b[0m 0.7187  \u001b[0m | \u001b[0m 1.247   \u001b[0m | \u001b[0m 24.81   \u001b[0m | \u001b[0m 0.09254 \u001b[0m | \u001b[0m 0.8854  \u001b[0m | \u001b[0m 165.2   \u001b[0m |\n",
      "| \u001b[0m 420     \u001b[0m | \u001b[0m 0.6643  \u001b[0m | \u001b[0m 1.0     \u001b[0m | \u001b[0m 0.9886  \u001b[0m | \u001b[0m 11.06   \u001b[0m | \u001b[0m 0.01    \u001b[0m | \u001b[0m 0.0     \u001b[0m | \u001b[0m 162.1   \u001b[0m |\n",
      "| \u001b[0m 421     \u001b[0m | \u001b[0m 0.6434  \u001b[0m | \u001b[0m 0.8921  \u001b[0m | \u001b[0m 0.2711  \u001b[0m | \u001b[0m 0.3252  \u001b[0m | \u001b[0m 0.01313 \u001b[0m | \u001b[0m 0.9372  \u001b[0m | \u001b[0m 195.6   \u001b[0m |\n",
      "| \u001b[0m 422     \u001b[0m | \u001b[0m 0.4377  \u001b[0m | \u001b[0m 0.977   \u001b[0m | \u001b[0m 9.938   \u001b[0m | \u001b[0m 16.17   \u001b[0m | \u001b[0m 0.02259 \u001b[0m | \u001b[0m 3.591   \u001b[0m | \u001b[0m 186.6   \u001b[0m |\n",
      "| \u001b[0m 423     \u001b[0m | \u001b[0m 0.4851  \u001b[0m | \u001b[0m 0.4171  \u001b[0m | \u001b[0m 3.8     \u001b[0m | \u001b[0m 11.02   \u001b[0m | \u001b[0m 0.01155 \u001b[0m | \u001b[0m 1.232   \u001b[0m | \u001b[0m 161.6   \u001b[0m |\n",
      "| \u001b[0m 424     \u001b[0m | \u001b[0m 0.5233  \u001b[0m | \u001b[0m 0.4392  \u001b[0m | \u001b[0m 1.391   \u001b[0m | \u001b[0m 0.2978  \u001b[0m | \u001b[0m 0.0971  \u001b[0m | \u001b[0m 2.204   \u001b[0m | \u001b[0m 195.6   \u001b[0m |\n",
      "| \u001b[0m 425     \u001b[0m | \u001b[0m 0.4505  \u001b[0m | \u001b[0m 0.1587  \u001b[0m | \u001b[0m 0.1073  \u001b[0m | \u001b[0m 0.8806  \u001b[0m | \u001b[0m 0.01628 \u001b[0m | \u001b[0m 1.265   \u001b[0m | \u001b[0m 183.7   \u001b[0m |\n",
      "| \u001b[0m 426     \u001b[0m | \u001b[0m 0.5482  \u001b[0m | \u001b[0m 0.4899  \u001b[0m | \u001b[0m 1.958   \u001b[0m | \u001b[0m 9.392   \u001b[0m | \u001b[0m 0.07838 \u001b[0m | \u001b[0m 0.4053  \u001b[0m | \u001b[0m 161.0   \u001b[0m |\n",
      "| \u001b[0m 427     \u001b[0m | \u001b[0m 0.4399  \u001b[0m | \u001b[0m 0.2995  \u001b[0m | \u001b[0m 4.392   \u001b[0m | \u001b[0m 1.082   \u001b[0m | \u001b[0m 0.08298 \u001b[0m | \u001b[0m 0.2673  \u001b[0m | \u001b[0m 193.9   \u001b[0m |\n",
      "| \u001b[0m 428     \u001b[0m | \u001b[0m 0.5859  \u001b[0m | \u001b[0m 1.0     \u001b[0m | \u001b[0m 5.744   \u001b[0m | \u001b[0m 20.29   \u001b[0m | \u001b[0m 0.01    \u001b[0m | \u001b[0m 0.0     \u001b[0m | \u001b[0m 164.7   \u001b[0m |\n",
      "| \u001b[0m 429     \u001b[0m | \u001b[0m 0.5374  \u001b[0m | \u001b[0m 0.7562  \u001b[0m | \u001b[0m 0.4312  \u001b[0m | \u001b[0m 4.318   \u001b[0m | \u001b[0m 0.06124 \u001b[0m | \u001b[0m 2.572   \u001b[0m | \u001b[0m 959.1   \u001b[0m |\n",
      "| \u001b[0m 430     \u001b[0m | \u001b[0m 0.5816  \u001b[0m | \u001b[0m 0.6286  \u001b[0m | \u001b[0m 1.478   \u001b[0m | \u001b[0m 29.56   \u001b[0m | \u001b[0m 0.08667 \u001b[0m | \u001b[0m 0.3098  \u001b[0m | \u001b[0m 169.0   \u001b[0m |\n",
      "| \u001b[0m 431     \u001b[0m | \u001b[0m 0.6071  \u001b[0m | \u001b[0m 0.7107  \u001b[0m | \u001b[0m 1.703   \u001b[0m | \u001b[0m 2.016   \u001b[0m | \u001b[0m 0.07782 \u001b[0m | \u001b[0m 0.5076  \u001b[0m | \u001b[0m 979.1   \u001b[0m |\n",
      "| \u001b[0m 432     \u001b[0m | \u001b[0m 0.5602  \u001b[0m | \u001b[0m 0.7697  \u001b[0m | \u001b[0m 1.186   \u001b[0m | \u001b[0m 8.468   \u001b[0m | \u001b[0m 0.06776 \u001b[0m | \u001b[0m 1.069   \u001b[0m | \u001b[0m 166.6   \u001b[0m |\n",
      "| \u001b[0m 433     \u001b[0m | \u001b[0m 0.4133  \u001b[0m | \u001b[0m 0.5212  \u001b[0m | \u001b[0m 4.263   \u001b[0m | \u001b[0m 27.97   \u001b[0m | \u001b[0m 0.04619 \u001b[0m | \u001b[0m 5.528   \u001b[0m | \u001b[0m 167.5   \u001b[0m |\n",
      "| \u001b[0m 434     \u001b[0m | \u001b[0m 0.6146  \u001b[0m | \u001b[0m 0.9755  \u001b[0m | \u001b[0m 0.4787  \u001b[0m | \u001b[0m 25.6    \u001b[0m | \u001b[0m 0.06716 \u001b[0m | \u001b[0m 0.3264  \u001b[0m | \u001b[0m 172.3   \u001b[0m |\n",
      "| \u001b[0m 435     \u001b[0m | \u001b[0m 0.4903  \u001b[0m | \u001b[0m 0.9249  \u001b[0m | \u001b[0m 0.01449 \u001b[0m | \u001b[0m 24.91   \u001b[0m | \u001b[0m 0.03347 \u001b[0m | \u001b[0m 3.331   \u001b[0m | \u001b[0m 174.9   \u001b[0m |\n",
      "| \u001b[0m 436     \u001b[0m | \u001b[0m 0.4446  \u001b[0m | \u001b[0m 0.3165  \u001b[0m | \u001b[0m 0.8532  \u001b[0m | \u001b[0m 19.5    \u001b[0m | \u001b[0m 0.03561 \u001b[0m | \u001b[0m 0.4556  \u001b[0m | \u001b[0m 193.6   \u001b[0m |\n",
      "| \u001b[0m 437     \u001b[0m | \u001b[0m 0.4981  \u001b[0m | \u001b[0m 0.8991  \u001b[0m | \u001b[0m 1.565   \u001b[0m | \u001b[0m 48.62   \u001b[0m | \u001b[0m 0.03286 \u001b[0m | \u001b[0m 1.602   \u001b[0m | \u001b[0m 498.7   \u001b[0m |\n",
      "| \u001b[0m 438     \u001b[0m | \u001b[0m 0.5157  \u001b[0m | \u001b[0m 0.474   \u001b[0m | \u001b[0m 0.5811  \u001b[0m | \u001b[0m 26.35   \u001b[0m | \u001b[0m 0.04909 \u001b[0m | \u001b[0m 0.9338  \u001b[0m | \u001b[0m 173.2   \u001b[0m |\n",
      "| \u001b[0m 439     \u001b[0m | \u001b[0m 0.3984  \u001b[0m | \u001b[0m 0.1878  \u001b[0m | \u001b[0m 0.4014  \u001b[0m | \u001b[0m 36.67   \u001b[0m | \u001b[0m 0.08171 \u001b[0m | \u001b[0m 3.476   \u001b[0m | \u001b[0m 169.0   \u001b[0m |\n",
      "| \u001b[0m 440     \u001b[0m | \u001b[0m 0.5445  \u001b[0m | \u001b[0m 0.8821  \u001b[0m | \u001b[0m 7.899   \u001b[0m | \u001b[0m 2.43    \u001b[0m | \u001b[0m 0.01806 \u001b[0m | \u001b[0m 0.2844  \u001b[0m | \u001b[0m 191.8   \u001b[0m |\n",
      "| \u001b[0m 441     \u001b[0m | \u001b[0m 0.6145  \u001b[0m | \u001b[0m 0.5868  \u001b[0m | \u001b[0m 2.033   \u001b[0m | \u001b[0m 15.5    \u001b[0m | \u001b[0m 0.07648 \u001b[0m | \u001b[0m 0.01888 \u001b[0m | \u001b[0m 164.4   \u001b[0m |\n",
      "| \u001b[0m 442     \u001b[0m | \u001b[0m 0.4885  \u001b[0m | \u001b[0m 0.3852  \u001b[0m | \u001b[0m 9.132   \u001b[0m | \u001b[0m 22.02   \u001b[0m | \u001b[0m 0.05517 \u001b[0m | \u001b[0m 0.229   \u001b[0m | \u001b[0m 161.5   \u001b[0m |\n",
      "| \u001b[0m 443     \u001b[0m | \u001b[0m 0.548   \u001b[0m | \u001b[0m 0.4991  \u001b[0m | \u001b[0m 3.404   \u001b[0m | \u001b[0m 31.77   \u001b[0m | \u001b[0m 0.07145 \u001b[0m | \u001b[0m 0.1296  \u001b[0m | \u001b[0m 170.3   \u001b[0m |\n",
      "| \u001b[0m 444     \u001b[0m | \u001b[0m 0.4577  \u001b[0m | \u001b[0m 0.3184  \u001b[0m | \u001b[0m 0.9724  \u001b[0m | \u001b[0m 0.2844  \u001b[0m | \u001b[0m 0.02111 \u001b[0m | \u001b[0m 0.2952  \u001b[0m | \u001b[0m 195.2   \u001b[0m |\n",
      "| \u001b[0m 445     \u001b[0m | \u001b[0m 0.5505  \u001b[0m | \u001b[0m 0.6132  \u001b[0m | \u001b[0m 1.539   \u001b[0m | \u001b[0m 5.912   \u001b[0m | \u001b[0m 0.08515 \u001b[0m | \u001b[0m 0.5675  \u001b[0m | \u001b[0m 164.3   \u001b[0m |\n",
      "| \u001b[0m 446     \u001b[0m | \u001b[0m 0.4805  \u001b[0m | \u001b[0m 0.4718  \u001b[0m | \u001b[0m 3.768   \u001b[0m | \u001b[0m 24.74   \u001b[0m | \u001b[0m 0.09654 \u001b[0m | \u001b[0m 1.157   \u001b[0m | \u001b[0m 164.4   \u001b[0m |\n",
      "| \u001b[95m 447     \u001b[0m | \u001b[95m 0.7193  \u001b[0m | \u001b[95m 0.9641  \u001b[0m | \u001b[95m 0.0925  \u001b[0m | \u001b[95m 0.3516  \u001b[0m | \u001b[95m 0.04408 \u001b[0m | \u001b[95m 0.01984 \u001b[0m | \u001b[95m 199.5   \u001b[0m |\n",
      "| \u001b[0m 448     \u001b[0m | \u001b[0m 0.4397  \u001b[0m | \u001b[0m 0.2204  \u001b[0m | \u001b[0m 1.629   \u001b[0m | \u001b[0m 9.96    \u001b[0m | \u001b[0m 0.07354 \u001b[0m | \u001b[0m 0.7495  \u001b[0m | \u001b[0m 189.6   \u001b[0m |\n",
      "| \u001b[0m 449     \u001b[0m | \u001b[0m 0.6198  \u001b[0m | \u001b[0m 0.7654  \u001b[0m | \u001b[0m 0.6338  \u001b[0m | \u001b[0m 2.28    \u001b[0m | \u001b[0m 0.02141 \u001b[0m | \u001b[0m 0.7121  \u001b[0m | \u001b[0m 203.9   \u001b[0m |\n",
      "| \u001b[0m 450     \u001b[0m | \u001b[0m 0.6537  \u001b[0m | \u001b[0m 0.5395  \u001b[0m | \u001b[0m 0.1453  \u001b[0m | \u001b[0m 3.539   \u001b[0m | \u001b[0m 0.0471  \u001b[0m | \u001b[0m 0.08073 \u001b[0m | \u001b[0m 191.7   \u001b[0m |\n",
      "| \u001b[0m 451     \u001b[0m | \u001b[0m 0.435   \u001b[0m | \u001b[0m 0.2678  \u001b[0m | \u001b[0m 4.175   \u001b[0m | \u001b[0m 2.802   \u001b[0m | \u001b[0m 0.09031 \u001b[0m | \u001b[0m 0.4983  \u001b[0m | \u001b[0m 164.1   \u001b[0m |\n",
      "| \u001b[0m 452     \u001b[0m | \u001b[0m 0.4497  \u001b[0m | \u001b[0m 0.2514  \u001b[0m | \u001b[0m 0.9187  \u001b[0m | \u001b[0m 0.6832  \u001b[0m | \u001b[0m 0.05992 \u001b[0m | \u001b[0m 1.036   \u001b[0m | \u001b[0m 954.0   \u001b[0m |\n",
      "| \u001b[0m 453     \u001b[0m | \u001b[0m 0.4115  \u001b[0m | \u001b[0m 0.3686  \u001b[0m | \u001b[0m 1.766   \u001b[0m | \u001b[0m 6.76    \u001b[0m | \u001b[0m 0.02747 \u001b[0m | \u001b[0m 3.322   \u001b[0m | \u001b[0m 163.7   \u001b[0m |\n",
      "| \u001b[0m 454     \u001b[0m | \u001b[0m 0.5507  \u001b[0m | \u001b[0m 0.3765  \u001b[0m | \u001b[0m 1.458   \u001b[0m | \u001b[0m 8.743   \u001b[0m | \u001b[0m 0.08586 \u001b[0m | \u001b[0m 0.4904  \u001b[0m | \u001b[0m 164.8   \u001b[0m |\n",
      "| \u001b[0m 455     \u001b[0m | \u001b[0m 0.4896  \u001b[0m | \u001b[0m 0.6074  \u001b[0m | \u001b[0m 1.745   \u001b[0m | \u001b[0m 10.31   \u001b[0m | \u001b[0m 0.08419 \u001b[0m | \u001b[0m 1.743   \u001b[0m | \u001b[0m 156.8   \u001b[0m |\n",
      "| \u001b[0m 456     \u001b[0m | \u001b[0m 0.4361  \u001b[0m | \u001b[0m 0.1432  \u001b[0m | \u001b[0m 4.499   \u001b[0m | \u001b[0m 1.557   \u001b[0m | \u001b[0m 0.0671  \u001b[0m | \u001b[0m 0.3866  \u001b[0m | \u001b[0m 979.0   \u001b[0m |\n",
      "| \u001b[0m 457     \u001b[0m | \u001b[0m 0.4804  \u001b[0m | \u001b[0m 0.7815  \u001b[0m | \u001b[0m 3.914   \u001b[0m | \u001b[0m 31.66   \u001b[0m | \u001b[0m 0.07123 \u001b[0m | \u001b[0m 1.627   \u001b[0m | \u001b[0m 174.2   \u001b[0m |\n",
      "| \u001b[0m 458     \u001b[0m | \u001b[0m 0.4915  \u001b[0m | \u001b[0m 0.4835  \u001b[0m | \u001b[0m 4.285   \u001b[0m | \u001b[0m 64.84   \u001b[0m | \u001b[0m 0.09348 \u001b[0m | \u001b[0m 0.444   \u001b[0m | \u001b[0m 491.2   \u001b[0m |\n",
      "| \u001b[0m 459     \u001b[0m | \u001b[0m 0.4427  \u001b[0m | \u001b[0m 0.1299  \u001b[0m | \u001b[0m 0.9084  \u001b[0m | \u001b[0m 31.96   \u001b[0m | \u001b[0m 0.06445 \u001b[0m | \u001b[0m 0.3622  \u001b[0m | \u001b[0m 166.7   \u001b[0m |\n",
      "| \u001b[0m 460     \u001b[0m | \u001b[0m 0.4382  \u001b[0m | \u001b[0m 0.5734  \u001b[0m | \u001b[0m 9.622   \u001b[0m | \u001b[0m 5.199   \u001b[0m | \u001b[0m 0.08928 \u001b[0m | \u001b[0m 2.474   \u001b[0m | \u001b[0m 193.8   \u001b[0m |\n",
      "| \u001b[0m 461     \u001b[0m | \u001b[0m 0.5295  \u001b[0m | \u001b[0m 0.4113  \u001b[0m | \u001b[0m 3.323   \u001b[0m | \u001b[0m 12.81   \u001b[0m | \u001b[0m 0.08475 \u001b[0m | \u001b[0m 0.4178  \u001b[0m | \u001b[0m 185.5   \u001b[0m |\n",
      "| \u001b[0m 462     \u001b[0m | \u001b[0m 0.5996  \u001b[0m | \u001b[0m 0.9584  \u001b[0m | \u001b[0m 0.4475  \u001b[0m | \u001b[0m 0.6871  \u001b[0m | \u001b[0m 0.08186 \u001b[0m | \u001b[0m 1.797   \u001b[0m | \u001b[0m 196.2   \u001b[0m |\n",
      "| \u001b[0m 463     \u001b[0m | \u001b[0m 0.6249  \u001b[0m | \u001b[0m 0.5367  \u001b[0m | \u001b[0m 0.9963  \u001b[0m | \u001b[0m 1.926   \u001b[0m | \u001b[0m 0.03477 \u001b[0m | \u001b[0m 0.1132  \u001b[0m | \u001b[0m 191.9   \u001b[0m |\n",
      "| \u001b[0m 464     \u001b[0m | \u001b[0m 0.4703  \u001b[0m | \u001b[0m 0.4891  \u001b[0m | \u001b[0m 2.622   \u001b[0m | \u001b[0m 24.13   \u001b[0m | \u001b[0m 0.02704 \u001b[0m | \u001b[0m 1.797   \u001b[0m | \u001b[0m 172.6   \u001b[0m |\n",
      "| \u001b[0m 465     \u001b[0m | \u001b[0m 0.4817  \u001b[0m | \u001b[0m 0.7549  \u001b[0m | \u001b[0m 1.965   \u001b[0m | \u001b[0m 29.44   \u001b[0m | \u001b[0m 0.0679  \u001b[0m | \u001b[0m 2.159   \u001b[0m | \u001b[0m 169.5   \u001b[0m |\n",
      "| \u001b[0m 466     \u001b[0m | \u001b[0m 0.6679  \u001b[0m | \u001b[0m 0.9373  \u001b[0m | \u001b[0m 2.46    \u001b[0m | \u001b[0m 0.6183  \u001b[0m | \u001b[0m 0.07681 \u001b[0m | \u001b[0m 0.01978 \u001b[0m | \u001b[0m 953.5   \u001b[0m |\n",
      "| \u001b[0m 467     \u001b[0m | \u001b[0m 0.4048  \u001b[0m | \u001b[0m 0.1325  \u001b[0m | \u001b[0m 9.757   \u001b[0m | \u001b[0m 31.0    \u001b[0m | \u001b[0m 0.01407 \u001b[0m | \u001b[0m 0.1697  \u001b[0m | \u001b[0m 170.2   \u001b[0m |\n",
      "| \u001b[0m 468     \u001b[0m | \u001b[0m 0.4727  \u001b[0m | \u001b[0m 0.8048  \u001b[0m | \u001b[0m 0.2643  \u001b[0m | \u001b[0m 52.83   \u001b[0m | \u001b[0m 0.08073 \u001b[0m | \u001b[0m 2.384   \u001b[0m | \u001b[0m 497.5   \u001b[0m |\n",
      "| \u001b[0m 469     \u001b[0m | \u001b[0m 0.4371  \u001b[0m | \u001b[0m 0.3572  \u001b[0m | \u001b[0m 1.604   \u001b[0m | \u001b[0m 4.181   \u001b[0m | \u001b[0m 0.06827 \u001b[0m | \u001b[0m 1.23    \u001b[0m | \u001b[0m 204.1   \u001b[0m |\n",
      "| \u001b[0m 470     \u001b[0m | \u001b[0m 0.4561  \u001b[0m | \u001b[0m 0.9474  \u001b[0m | \u001b[0m 7.755   \u001b[0m | \u001b[0m 22.29   \u001b[0m | \u001b[0m 0.01052 \u001b[0m | \u001b[0m 2.657   \u001b[0m | \u001b[0m 165.3   \u001b[0m |\n",
      "| \u001b[0m 471     \u001b[0m | \u001b[0m 0.5026  \u001b[0m | \u001b[0m 0.8645  \u001b[0m | \u001b[0m 2.13    \u001b[0m | \u001b[0m 6.932   \u001b[0m | \u001b[0m 0.01363 \u001b[0m | \u001b[0m 2.573   \u001b[0m | \u001b[0m 167.5   \u001b[0m |\n",
      "| \u001b[0m 472     \u001b[0m | \u001b[0m 0.4522  \u001b[0m | \u001b[0m 0.6081  \u001b[0m | \u001b[0m 2.338   \u001b[0m | \u001b[0m 12.92   \u001b[0m | \u001b[0m 0.02611 \u001b[0m | \u001b[0m 3.974   \u001b[0m | \u001b[0m 177.8   \u001b[0m |\n",
      "| \u001b[0m 473     \u001b[0m | \u001b[0m 0.4218  \u001b[0m | \u001b[0m 0.403   \u001b[0m | \u001b[0m 1.526   \u001b[0m | \u001b[0m 8.551   \u001b[0m | \u001b[0m 0.05753 \u001b[0m | \u001b[0m 8.894   \u001b[0m | \u001b[0m 983.8   \u001b[0m |\n",
      "| \u001b[0m 474     \u001b[0m | \u001b[0m 0.6173  \u001b[0m | \u001b[0m 0.803   \u001b[0m | \u001b[0m 2.934   \u001b[0m | \u001b[0m 17.01   \u001b[0m | \u001b[0m 0.04696 \u001b[0m | \u001b[0m 0.0532  \u001b[0m | \u001b[0m 165.7   \u001b[0m |\n",
      "| \u001b[0m 475     \u001b[0m | \u001b[0m 0.5765  \u001b[0m | \u001b[0m 0.6705  \u001b[0m | \u001b[0m 1.359   \u001b[0m | \u001b[0m 11.9    \u001b[0m | \u001b[0m 0.07808 \u001b[0m | \u001b[0m 0.6222  \u001b[0m | \u001b[0m 965.9   \u001b[0m |\n",
      "| \u001b[0m 476     \u001b[0m | \u001b[0m 0.6353  \u001b[0m | \u001b[0m 0.7361  \u001b[0m | \u001b[0m 0.3974  \u001b[0m | \u001b[0m 2.985   \u001b[0m | \u001b[0m 0.01821 \u001b[0m | \u001b[0m 0.5413  \u001b[0m | \u001b[0m 954.3   \u001b[0m |\n",
      "| \u001b[0m 477     \u001b[0m | \u001b[0m 0.5833  \u001b[0m | \u001b[0m 0.557   \u001b[0m | \u001b[0m 1.4     \u001b[0m | \u001b[0m 16.33   \u001b[0m | \u001b[0m 0.079   \u001b[0m | \u001b[0m 0.1307  \u001b[0m | \u001b[0m 184.6   \u001b[0m |\n",
      "| \u001b[0m 478     \u001b[0m | \u001b[0m 0.513   \u001b[0m | \u001b[0m 0.4303  \u001b[0m | \u001b[0m 1.435   \u001b[0m | \u001b[0m 12.64   \u001b[0m | \u001b[0m 0.0418  \u001b[0m | \u001b[0m 1.058   \u001b[0m | \u001b[0m 964.6   \u001b[0m |\n",
      "| \u001b[0m 479     \u001b[0m | \u001b[0m 0.683   \u001b[0m | \u001b[0m 0.9509  \u001b[0m | \u001b[0m 0.8778  \u001b[0m | \u001b[0m 20.1    \u001b[0m | \u001b[0m 0.02373 \u001b[0m | \u001b[0m 0.01096 \u001b[0m | \u001b[0m 162.3   \u001b[0m |\n",
      "| \u001b[0m 480     \u001b[0m | \u001b[0m 0.5456  \u001b[0m | \u001b[0m 0.6935  \u001b[0m | \u001b[0m 6.756   \u001b[0m | \u001b[0m 14.09   \u001b[0m | \u001b[0m 0.04954 \u001b[0m | \u001b[0m 0.1211  \u001b[0m | \u001b[0m 965.3   \u001b[0m |\n",
      "| \u001b[0m 481     \u001b[0m | \u001b[0m 0.4976  \u001b[0m | \u001b[0m 0.9449  \u001b[0m | \u001b[0m 8.205   \u001b[0m | \u001b[0m 12.2    \u001b[0m | \u001b[0m 0.08753 \u001b[0m | \u001b[0m 1.105   \u001b[0m | \u001b[0m 966.6   \u001b[0m |\n",
      "| \u001b[0m 482     \u001b[0m | \u001b[0m 0.4292  \u001b[0m | \u001b[0m 0.2029  \u001b[0m | \u001b[0m 4.428   \u001b[0m | \u001b[0m 14.21   \u001b[0m | \u001b[0m 0.0598  \u001b[0m | \u001b[0m 0.5282  \u001b[0m | \u001b[0m 188.9   \u001b[0m |\n",
      "| \u001b[0m 483     \u001b[0m | \u001b[0m 0.5252  \u001b[0m | \u001b[0m 0.6956  \u001b[0m | \u001b[0m 7.696   \u001b[0m | \u001b[0m 0.004083\u001b[0m | \u001b[0m 0.05766 \u001b[0m | \u001b[0m 0.4277  \u001b[0m | \u001b[0m 188.9   \u001b[0m |\n",
      "| \u001b[0m 484     \u001b[0m | \u001b[0m 0.5325  \u001b[0m | \u001b[0m 0.6188  \u001b[0m | \u001b[0m 0.003505\u001b[0m | \u001b[0m 12.73   \u001b[0m | \u001b[0m 0.07283 \u001b[0m | \u001b[0m 1.099   \u001b[0m | \u001b[0m 185.2   \u001b[0m |\n",
      "| \u001b[0m 485     \u001b[0m | \u001b[0m 0.5204  \u001b[0m | \u001b[0m 0.8145  \u001b[0m | \u001b[0m 4.331   \u001b[0m | \u001b[0m 12.85   \u001b[0m | \u001b[0m 0.03063 \u001b[0m | \u001b[0m 0.87    \u001b[0m | \u001b[0m 963.2   \u001b[0m |\n",
      "| \u001b[0m 486     \u001b[0m | \u001b[0m 0.5436  \u001b[0m | \u001b[0m 0.6792  \u001b[0m | \u001b[0m 1.6     \u001b[0m | \u001b[0m 16.55   \u001b[0m | \u001b[0m 0.02606 \u001b[0m | \u001b[0m 0.9404  \u001b[0m | \u001b[0m 190.2   \u001b[0m |\n",
      "| \u001b[0m 487     \u001b[0m | \u001b[0m 0.5607  \u001b[0m | \u001b[0m 0.7777  \u001b[0m | \u001b[0m 4.487   \u001b[0m | \u001b[0m 13.53   \u001b[0m | \u001b[0m 0.0797  \u001b[0m | \u001b[0m 0.254   \u001b[0m | \u001b[0m 151.9   \u001b[0m |\n",
      "| \u001b[0m 488     \u001b[0m | \u001b[0m 0.6434  \u001b[0m | \u001b[0m 0.4912  \u001b[0m | \u001b[0m 0.08639 \u001b[0m | \u001b[0m 15.95   \u001b[0m | \u001b[0m 0.0726  \u001b[0m | \u001b[0m 0.06137 \u001b[0m | \u001b[0m 165.8   \u001b[0m |\n",
      "| \u001b[0m 489     \u001b[0m | \u001b[0m 0.4254  \u001b[0m | \u001b[0m 0.3427  \u001b[0m | \u001b[0m 5.528   \u001b[0m | \u001b[0m 8.706   \u001b[0m | \u001b[0m 0.07018 \u001b[0m | \u001b[0m 0.6172  \u001b[0m | \u001b[0m 149.5   \u001b[0m |\n",
      "| \u001b[0m 490     \u001b[0m | \u001b[0m 0.4411  \u001b[0m | \u001b[0m 0.1585  \u001b[0m | \u001b[0m 0.2675  \u001b[0m | \u001b[0m 18.08   \u001b[0m | \u001b[0m 0.05059 \u001b[0m | \u001b[0m 0.8312  \u001b[0m | \u001b[0m 189.9   \u001b[0m |\n",
      "| \u001b[0m 491     \u001b[0m | \u001b[0m 0.486   \u001b[0m | \u001b[0m 0.54    \u001b[0m | \u001b[0m 0.2319  \u001b[0m | \u001b[0m 28.18   \u001b[0m | \u001b[0m 0.09989 \u001b[0m | \u001b[0m 1.779   \u001b[0m | \u001b[0m 167.9   \u001b[0m |\n",
      "| \u001b[0m 492     \u001b[0m | \u001b[0m 0.4147  \u001b[0m | \u001b[0m 0.1562  \u001b[0m | \u001b[0m 4.051   \u001b[0m | \u001b[0m 14.6    \u001b[0m | \u001b[0m 0.01523 \u001b[0m | \u001b[0m 1.592   \u001b[0m | \u001b[0m 149.2   \u001b[0m |\n",
      "| \u001b[0m 493     \u001b[0m | \u001b[0m 0.5404  \u001b[0m | \u001b[0m 0.8624  \u001b[0m | \u001b[0m 2.177   \u001b[0m | \u001b[0m 50.9    \u001b[0m | \u001b[0m 0.07887 \u001b[0m | \u001b[0m 0.4325  \u001b[0m | \u001b[0m 508.2   \u001b[0m |\n",
      "| \u001b[0m 494     \u001b[0m | \u001b[0m 0.439   \u001b[0m | \u001b[0m 0.1406  \u001b[0m | \u001b[0m 0.8834  \u001b[0m | \u001b[0m 0.3981  \u001b[0m | \u001b[0m 0.02654 \u001b[0m | \u001b[0m 1.911   \u001b[0m | \u001b[0m 192.7   \u001b[0m |\n",
      "| \u001b[0m 495     \u001b[0m | \u001b[0m 0.5467  \u001b[0m | \u001b[0m 0.8328  \u001b[0m | \u001b[0m 1.772   \u001b[0m | \u001b[0m 3.885   \u001b[0m | \u001b[0m 0.02655 \u001b[0m | \u001b[0m 1.59    \u001b[0m | \u001b[0m 185.9   \u001b[0m |\n",
      "| \u001b[0m 496     \u001b[0m | \u001b[0m 0.5334  \u001b[0m | \u001b[0m 0.505   \u001b[0m | \u001b[0m 4.232   \u001b[0m | \u001b[0m 13.39   \u001b[0m | \u001b[0m 0.0365  \u001b[0m | \u001b[0m 0.2507  \u001b[0m | \u001b[0m 155.7   \u001b[0m |\n",
      "| \u001b[0m 497     \u001b[0m | \u001b[0m 0.5432  \u001b[0m | \u001b[0m 0.7068  \u001b[0m | \u001b[0m 2.497   \u001b[0m | \u001b[0m 11.18   \u001b[0m | \u001b[0m 0.01632 \u001b[0m | \u001b[0m 0.9273  \u001b[0m | \u001b[0m 968.0   \u001b[0m |\n",
      "| \u001b[0m 498     \u001b[0m | \u001b[0m 0.5531  \u001b[0m | \u001b[0m 0.6623  \u001b[0m | \u001b[0m 1.495   \u001b[0m | \u001b[0m 15.98   \u001b[0m | \u001b[0m 0.08874 \u001b[0m | \u001b[0m 0.7708  \u001b[0m | \u001b[0m 181.1   \u001b[0m |\n",
      "| \u001b[0m 499     \u001b[0m | \u001b[0m 0.5507  \u001b[0m | \u001b[0m 0.7986  \u001b[0m | \u001b[0m 4.894   \u001b[0m | \u001b[0m 16.65   \u001b[0m | \u001b[0m 0.02246 \u001b[0m | \u001b[0m 0.2381  \u001b[0m | \u001b[0m 963.8   \u001b[0m |\n",
      "| \u001b[0m 500     \u001b[0m | \u001b[0m 0.5371  \u001b[0m | \u001b[0m 0.775   \u001b[0m | \u001b[0m 2.374   \u001b[0m | \u001b[0m 0.5896  \u001b[0m | \u001b[0m 0.01659 \u001b[0m | \u001b[0m 2.242   \u001b[0m | \u001b[0m 981.7   \u001b[0m |\n",
      "| \u001b[0m 501     \u001b[0m | \u001b[0m 0.6132  \u001b[0m | \u001b[0m 0.652   \u001b[0m | \u001b[0m 0.216   \u001b[0m | \u001b[0m 7.245   \u001b[0m | \u001b[0m 0.0838  \u001b[0m | \u001b[0m 0.5452  \u001b[0m | \u001b[0m 161.0   \u001b[0m |\n",
      "| \u001b[0m 502     \u001b[0m | \u001b[0m 0.6179  \u001b[0m | \u001b[0m 0.8922  \u001b[0m | \u001b[0m 1.427   \u001b[0m | \u001b[0m 1.596   \u001b[0m | \u001b[0m 0.03756 \u001b[0m | \u001b[0m 0.7119  \u001b[0m | \u001b[0m 187.7   \u001b[0m |\n",
      "| \u001b[0m 503     \u001b[0m | \u001b[0m 0.4747  \u001b[0m | \u001b[0m 0.6429  \u001b[0m | \u001b[0m 1.639   \u001b[0m | \u001b[0m 6.323   \u001b[0m | \u001b[0m 0.02754 \u001b[0m | \u001b[0m 5.112   \u001b[0m | \u001b[0m 195.1   \u001b[0m |\n",
      "| \u001b[0m 504     \u001b[0m | \u001b[0m 0.444   \u001b[0m | \u001b[0m 0.1896  \u001b[0m | \u001b[0m 0.01341 \u001b[0m | \u001b[0m 65.73   \u001b[0m | \u001b[0m 0.04318 \u001b[0m | \u001b[0m 0.1354  \u001b[0m | \u001b[0m 489.0   \u001b[0m |\n",
      "| \u001b[0m 505     \u001b[0m | \u001b[0m 0.568   \u001b[0m | \u001b[0m 0.8777  \u001b[0m | \u001b[0m 3.485   \u001b[0m | \u001b[0m 19.35   \u001b[0m | \u001b[0m 0.08363 \u001b[0m | \u001b[0m 0.3754  \u001b[0m | \u001b[0m 166.0   \u001b[0m |\n",
      "| \u001b[0m 506     \u001b[0m | \u001b[0m 0.4327  \u001b[0m | \u001b[0m 0.1844  \u001b[0m | \u001b[0m 1.958   \u001b[0m | \u001b[0m 15.73   \u001b[0m | \u001b[0m 0.01386 \u001b[0m | \u001b[0m 0.3732  \u001b[0m | \u001b[0m 166.6   \u001b[0m |\n",
      "| \u001b[0m 507     \u001b[0m | \u001b[0m 0.5339  \u001b[0m | \u001b[0m 0.4293  \u001b[0m | \u001b[0m 4.391   \u001b[0m | \u001b[0m 1.159   \u001b[0m | \u001b[0m 0.0153  \u001b[0m | \u001b[0m 0.3432  \u001b[0m | \u001b[0m 200.8   \u001b[0m |\n",
      "| \u001b[0m 508     \u001b[0m | \u001b[0m 0.7173  \u001b[0m | \u001b[0m 1.0     \u001b[0m | \u001b[0m 0.0     \u001b[0m | \u001b[0m 12.19   \u001b[0m | \u001b[0m 0.1     \u001b[0m | \u001b[0m 0.0     \u001b[0m | \u001b[0m 161.7   \u001b[0m |\n",
      "| \u001b[0m 509     \u001b[0m | \u001b[0m 0.5186  \u001b[0m | \u001b[0m 0.4172  \u001b[0m | \u001b[0m 1.837   \u001b[0m | \u001b[0m 11.87   \u001b[0m | \u001b[0m 0.0128  \u001b[0m | \u001b[0m 0.8835  \u001b[0m | \u001b[0m 161.9   \u001b[0m |\n",
      "| \u001b[0m 510     \u001b[0m | \u001b[0m 0.3864  \u001b[0m | \u001b[0m 0.2287  \u001b[0m | \u001b[0m 4.774   \u001b[0m | \u001b[0m 16.97   \u001b[0m | \u001b[0m 0.07173 \u001b[0m | \u001b[0m 4.544   \u001b[0m | \u001b[0m 962.2   \u001b[0m |\n",
      "| \u001b[0m 511     \u001b[0m | \u001b[0m 0.5114  \u001b[0m | \u001b[0m 0.416   \u001b[0m | \u001b[0m 1.118   \u001b[0m | \u001b[0m 7.751   \u001b[0m | \u001b[0m 0.06764 \u001b[0m | \u001b[0m 1.45    \u001b[0m | \u001b[0m 158.3   \u001b[0m |\n",
      "| \u001b[0m 512     \u001b[0m | \u001b[0m 0.5763  \u001b[0m | \u001b[0m 0.8568  \u001b[0m | \u001b[0m 0.08678 \u001b[0m | \u001b[0m 22.63   \u001b[0m | \u001b[0m 0.01517 \u001b[0m | \u001b[0m 0.7332  \u001b[0m | \u001b[0m 189.5   \u001b[0m |\n",
      "| \u001b[0m 513     \u001b[0m | \u001b[0m 0.5828  \u001b[0m | \u001b[0m 0.4245  \u001b[0m | \u001b[0m 1.427   \u001b[0m | \u001b[0m 2.986   \u001b[0m | \u001b[0m 0.04585 \u001b[0m | \u001b[0m 0.2908  \u001b[0m | \u001b[0m 198.1   \u001b[0m |\n",
      "| \u001b[0m 514     \u001b[0m | \u001b[0m 0.4269  \u001b[0m | \u001b[0m 0.3354  \u001b[0m | \u001b[0m 3.867   \u001b[0m | \u001b[0m 44.87   \u001b[0m | \u001b[0m 0.05107 \u001b[0m | \u001b[0m 0.3766  \u001b[0m | \u001b[0m 503.7   \u001b[0m |\n",
      "| \u001b[0m 515     \u001b[0m | \u001b[0m 0.5109  \u001b[0m | \u001b[0m 0.7341  \u001b[0m | \u001b[0m 0.8078  \u001b[0m | \u001b[0m 4.39    \u001b[0m | \u001b[0m 0.0596  \u001b[0m | \u001b[0m 3.421   \u001b[0m | \u001b[0m 187.7   \u001b[0m |\n",
      "| \u001b[0m 516     \u001b[0m | \u001b[0m 0.4192  \u001b[0m | \u001b[0m 0.2155  \u001b[0m | \u001b[0m 4.457   \u001b[0m | \u001b[0m 29.26   \u001b[0m | \u001b[0m 0.03582 \u001b[0m | \u001b[0m 0.8323  \u001b[0m | \u001b[0m 167.3   \u001b[0m |\n",
      "| \u001b[0m 517     \u001b[0m | \u001b[0m 0.5731  \u001b[0m | \u001b[0m 0.8345  \u001b[0m | \u001b[0m 2.431   \u001b[0m | \u001b[0m 2.245   \u001b[0m | \u001b[0m 0.08558 \u001b[0m | \u001b[0m 0.8046  \u001b[0m | \u001b[0m 962.9   \u001b[0m |\n",
      "| \u001b[0m 518     \u001b[0m | \u001b[0m 0.4429  \u001b[0m | \u001b[0m 0.314   \u001b[0m | \u001b[0m 0.8495  \u001b[0m | \u001b[0m 5.604   \u001b[0m | \u001b[0m 0.03135 \u001b[0m | \u001b[0m 1.071   \u001b[0m | \u001b[0m 197.4   \u001b[0m |\n",
      "| \u001b[0m 519     \u001b[0m | \u001b[0m 0.4212  \u001b[0m | \u001b[0m 0.2312  \u001b[0m | \u001b[0m 0.8649  \u001b[0m | \u001b[0m 1.139   \u001b[0m | \u001b[0m 0.01604 \u001b[0m | \u001b[0m 3.485   \u001b[0m | \u001b[0m 959.7   \u001b[0m |\n",
      "| \u001b[0m 520     \u001b[0m | \u001b[0m 0.4986  \u001b[0m | \u001b[0m 0.6618  \u001b[0m | \u001b[0m 2.608   \u001b[0m | \u001b[0m 18.47   \u001b[0m | \u001b[0m 0.06588 \u001b[0m | \u001b[0m 1.697   \u001b[0m | \u001b[0m 182.2   \u001b[0m |\n",
      "| \u001b[0m 521     \u001b[0m | \u001b[0m 0.5323  \u001b[0m | \u001b[0m 0.401   \u001b[0m | \u001b[0m 2.457   \u001b[0m | \u001b[0m 65.13   \u001b[0m | \u001b[0m 0.04444 \u001b[0m | \u001b[0m 0.2271  \u001b[0m | \u001b[0m 486.1   \u001b[0m |\n",
      "| \u001b[0m 522     \u001b[0m | \u001b[0m 0.5961  \u001b[0m | \u001b[0m 0.9279  \u001b[0m | \u001b[0m 0.4365  \u001b[0m | \u001b[0m 3.69    \u001b[0m | \u001b[0m 0.07324 \u001b[0m | \u001b[0m 1.336   \u001b[0m | \u001b[0m 162.4   \u001b[0m |\n",
      "| \u001b[0m 523     \u001b[0m | \u001b[0m 0.5221  \u001b[0m | \u001b[0m 0.6338  \u001b[0m | \u001b[0m 0.6497  \u001b[0m | \u001b[0m 22.43   \u001b[0m | \u001b[0m 0.01404 \u001b[0m | \u001b[0m 1.502   \u001b[0m | \u001b[0m 162.4   \u001b[0m |\n",
      "| \u001b[0m 524     \u001b[0m | \u001b[0m 0.4843  \u001b[0m | \u001b[0m 0.8141  \u001b[0m | \u001b[0m 9.015   \u001b[0m | \u001b[0m 2.566   \u001b[0m | \u001b[0m 0.02918 \u001b[0m | \u001b[0m 1.237   \u001b[0m | \u001b[0m 981.0   \u001b[0m |\n",
      "| \u001b[0m 525     \u001b[0m | \u001b[0m 0.4368  \u001b[0m | \u001b[0m 0.1507  \u001b[0m | \u001b[0m 0.9111  \u001b[0m | \u001b[0m 52.68   \u001b[0m | \u001b[0m 0.04469 \u001b[0m | \u001b[0m 0.385   \u001b[0m | \u001b[0m 507.7   \u001b[0m |\n",
      "| \u001b[0m 526     \u001b[0m | \u001b[0m 0.6394  \u001b[0m | \u001b[0m 0.4339  \u001b[0m | \u001b[0m 0.257   \u001b[0m | \u001b[0m 10.93   \u001b[0m | \u001b[0m 0.02939 \u001b[0m | \u001b[0m 0.07163 \u001b[0m | \u001b[0m 159.5   \u001b[0m |\n",
      "| \u001b[0m 527     \u001b[0m | \u001b[0m 0.5556  \u001b[0m | \u001b[0m 0.8116  \u001b[0m | \u001b[0m 2.067   \u001b[0m | \u001b[0m 0.1794  \u001b[0m | \u001b[0m 0.0758  \u001b[0m | \u001b[0m 1.886   \u001b[0m | \u001b[0m 188.2   \u001b[0m |\n",
      "| \u001b[0m 528     \u001b[0m | \u001b[0m 0.5246  \u001b[0m | \u001b[0m 0.6692  \u001b[0m | \u001b[0m 0.6242  \u001b[0m | \u001b[0m 4.053   \u001b[0m | \u001b[0m 0.0841  \u001b[0m | \u001b[0m 3.132   \u001b[0m | \u001b[0m 163.6   \u001b[0m |\n",
      "| \u001b[0m 529     \u001b[0m | \u001b[0m 0.507   \u001b[0m | \u001b[0m 0.6556  \u001b[0m | \u001b[0m 3.935   \u001b[0m | \u001b[0m 1.337   \u001b[0m | \u001b[0m 0.0701  \u001b[0m | \u001b[0m 2.649   \u001b[0m | \u001b[0m 965.7   \u001b[0m |\n",
      "| \u001b[0m 530     \u001b[0m | \u001b[0m 0.63    \u001b[0m | \u001b[0m 0.7718  \u001b[0m | \u001b[0m 2.393   \u001b[0m | \u001b[0m 19.83   \u001b[0m | \u001b[0m 0.03036 \u001b[0m | \u001b[0m 0.03733 \u001b[0m | \u001b[0m 183.3   \u001b[0m |\n",
      "| \u001b[0m 531     \u001b[0m | \u001b[0m 0.5089  \u001b[0m | \u001b[0m 0.5425  \u001b[0m | \u001b[0m 3.944   \u001b[0m | \u001b[0m 22.35   \u001b[0m | \u001b[0m 0.09977 \u001b[0m | \u001b[0m 0.5172  \u001b[0m | \u001b[0m 163.2   \u001b[0m |\n",
      "| \u001b[0m 532     \u001b[0m | \u001b[0m 0.6004  \u001b[0m | \u001b[0m 0.932   \u001b[0m | \u001b[0m 4.225   \u001b[0m | \u001b[0m 5.673   \u001b[0m | \u001b[0m 0.08628 \u001b[0m | \u001b[0m 0.1681  \u001b[0m | \u001b[0m 961.5   \u001b[0m |\n",
      "| \u001b[0m 533     \u001b[0m | \u001b[0m 0.4735  \u001b[0m | \u001b[0m 0.3757  \u001b[0m | \u001b[0m 0.943   \u001b[0m | \u001b[0m 21.58   \u001b[0m | \u001b[0m 0.07483 \u001b[0m | \u001b[0m 2.266   \u001b[0m | \u001b[0m 169.0   \u001b[0m |\n",
      "| \u001b[0m 534     \u001b[0m | \u001b[0m 0.4459  \u001b[0m | \u001b[0m 0.3086  \u001b[0m | \u001b[0m 0.4553  \u001b[0m | \u001b[0m 10.19   \u001b[0m | \u001b[0m 0.0817  \u001b[0m | \u001b[0m 0.7793  \u001b[0m | \u001b[0m 164.3   \u001b[0m |\n",
      "| \u001b[0m 535     \u001b[0m | \u001b[0m 0.403   \u001b[0m | \u001b[0m 0.1115  \u001b[0m | \u001b[0m 7.858   \u001b[0m | \u001b[0m 17.51   \u001b[0m | \u001b[0m 0.01165 \u001b[0m | \u001b[0m 0.9422  \u001b[0m | \u001b[0m 963.8   \u001b[0m |\n",
      "| \u001b[0m 536     \u001b[0m | \u001b[0m 0.4748  \u001b[0m | \u001b[0m 0.6129  \u001b[0m | \u001b[0m 0.2059  \u001b[0m | \u001b[0m 26.15   \u001b[0m | \u001b[0m 0.03341 \u001b[0m | \u001b[0m 2.366   \u001b[0m | \u001b[0m 183.1   \u001b[0m |\n",
      "| \u001b[0m 537     \u001b[0m | \u001b[0m 0.4827  \u001b[0m | \u001b[0m 0.5378  \u001b[0m | \u001b[0m 7.975   \u001b[0m | \u001b[0m 2.521   \u001b[0m | \u001b[0m 0.08419 \u001b[0m | \u001b[0m 0.5702  \u001b[0m | \u001b[0m 978.6   \u001b[0m |\n",
      "| \u001b[0m 538     \u001b[0m | \u001b[0m 0.5556  \u001b[0m | \u001b[0m 0.7844  \u001b[0m | \u001b[0m 4.489   \u001b[0m | \u001b[0m 15.67   \u001b[0m | \u001b[0m 0.02057 \u001b[0m | \u001b[0m 0.2653  \u001b[0m | \u001b[0m 154.3   \u001b[0m |\n",
      "| \u001b[0m 539     \u001b[0m | \u001b[0m 0.52    \u001b[0m | \u001b[0m 0.5159  \u001b[0m | \u001b[0m 0.1178  \u001b[0m | \u001b[0m 1.874   \u001b[0m | \u001b[0m 0.09831 \u001b[0m | \u001b[0m 2.799   \u001b[0m | \u001b[0m 203.3   \u001b[0m |\n",
      "| \u001b[0m 540     \u001b[0m | \u001b[0m 0.7114  \u001b[0m | \u001b[0m 0.9429  \u001b[0m | \u001b[0m 0.7824  \u001b[0m | \u001b[0m 6.196   \u001b[0m | \u001b[0m 0.03118 \u001b[0m | \u001b[0m 0.00699 \u001b[0m | \u001b[0m 191.1   \u001b[0m |\n",
      "| \u001b[0m 541     \u001b[0m | \u001b[0m 0.5884  \u001b[0m | \u001b[0m 0.7556  \u001b[0m | \u001b[0m 0.7248  \u001b[0m | \u001b[0m 5.149   \u001b[0m | \u001b[0m 0.05837 \u001b[0m | \u001b[0m 0.9182  \u001b[0m | \u001b[0m 954.2   \u001b[0m |\n",
      "| \u001b[0m 542     \u001b[0m | \u001b[0m 0.4642  \u001b[0m | \u001b[0m 0.6543  \u001b[0m | \u001b[0m 3.184   \u001b[0m | \u001b[0m 10.66   \u001b[0m | \u001b[0m 0.02886 \u001b[0m | \u001b[0m 4.371   \u001b[0m | \u001b[0m 965.3   \u001b[0m |\n",
      "| \u001b[0m 543     \u001b[0m | \u001b[0m 0.7188  \u001b[0m | \u001b[0m 1.0     \u001b[0m | \u001b[0m 0.0     \u001b[0m | \u001b[0m 10.88   \u001b[0m | \u001b[0m 0.1     \u001b[0m | \u001b[0m 0.0     \u001b[0m | \u001b[0m 161.3   \u001b[0m |\n",
      "| \u001b[0m 544     \u001b[0m | \u001b[0m 0.4954  \u001b[0m | \u001b[0m 0.5362  \u001b[0m | \u001b[0m 7.14    \u001b[0m | \u001b[0m 7.632   \u001b[0m | \u001b[0m 0.06364 \u001b[0m | \u001b[0m 0.4348  \u001b[0m | \u001b[0m 961.0   \u001b[0m |\n",
      "| \u001b[0m 545     \u001b[0m | \u001b[0m 0.469   \u001b[0m | \u001b[0m 0.4045  \u001b[0m | \u001b[0m 6.194   \u001b[0m | \u001b[0m 0.7278  \u001b[0m | \u001b[0m 0.02407 \u001b[0m | \u001b[0m 2.313   \u001b[0m | \u001b[0m 198.8   \u001b[0m |\n",
      "| \u001b[0m 546     \u001b[0m | \u001b[0m 0.4552  \u001b[0m | \u001b[0m 0.8313  \u001b[0m | \u001b[0m 5.415   \u001b[0m | \u001b[0m 12.22   \u001b[0m | \u001b[0m 0.01403 \u001b[0m | \u001b[0m 3.385   \u001b[0m | \u001b[0m 152.6   \u001b[0m |\n",
      "| \u001b[0m 547     \u001b[0m | \u001b[0m 0.5901  \u001b[0m | \u001b[0m 0.6176  \u001b[0m | \u001b[0m 2.994   \u001b[0m | \u001b[0m 0.4787  \u001b[0m | \u001b[0m 0.09526 \u001b[0m | \u001b[0m 0.08867 \u001b[0m | \u001b[0m 963.9   \u001b[0m |\n",
      "| \u001b[0m 548     \u001b[0m | \u001b[0m 0.4354  \u001b[0m | \u001b[0m 0.2731  \u001b[0m | \u001b[0m 1.482   \u001b[0m | \u001b[0m 7.378   \u001b[0m | \u001b[0m 0.01521 \u001b[0m | \u001b[0m 1.048   \u001b[0m | \u001b[0m 952.9   \u001b[0m |\n",
      "| \u001b[0m 549     \u001b[0m | \u001b[0m 0.5066  \u001b[0m | \u001b[0m 0.8219  \u001b[0m | \u001b[0m 0.5159  \u001b[0m | \u001b[0m 3.032   \u001b[0m | \u001b[0m 0.07313 \u001b[0m | \u001b[0m 4.6     \u001b[0m | \u001b[0m 158.2   \u001b[0m |\n",
      "| \u001b[0m 550     \u001b[0m | \u001b[0m 0.5925  \u001b[0m | \u001b[0m 0.8301  \u001b[0m | \u001b[0m 1.746   \u001b[0m | \u001b[0m 7.597   \u001b[0m | \u001b[0m 0.0686  \u001b[0m | \u001b[0m 0.4547  \u001b[0m | \u001b[0m 188.1   \u001b[0m |\n",
      "| \u001b[0m 551     \u001b[0m | \u001b[0m 0.4496  \u001b[0m | \u001b[0m 0.2186  \u001b[0m | \u001b[0m 1.709   \u001b[0m | \u001b[0m 1.777   \u001b[0m | \u001b[0m 0.01645 \u001b[0m | \u001b[0m 0.3665  \u001b[0m | \u001b[0m 203.9   \u001b[0m |\n",
      "| \u001b[0m 552     \u001b[0m | \u001b[0m 0.5337  \u001b[0m | \u001b[0m 0.5482  \u001b[0m | \u001b[0m 0.2164  \u001b[0m | \u001b[0m 26.8    \u001b[0m | \u001b[0m 0.01861 \u001b[0m | \u001b[0m 0.6826  \u001b[0m | \u001b[0m 169.8   \u001b[0m |\n",
      "| \u001b[0m 553     \u001b[0m | \u001b[0m 0.6087  \u001b[0m | \u001b[0m 0.6662  \u001b[0m | \u001b[0m 0.1186  \u001b[0m | \u001b[0m 15.36   \u001b[0m | \u001b[0m 0.0193  \u001b[0m | \u001b[0m 0.4722  \u001b[0m | \u001b[0m 159.4   \u001b[0m |\n",
      "| \u001b[0m 554     \u001b[0m | \u001b[0m 0.4236  \u001b[0m | \u001b[0m 0.3657  \u001b[0m | \u001b[0m 2.274   \u001b[0m | \u001b[0m 21.1    \u001b[0m | \u001b[0m 0.09816 \u001b[0m | \u001b[0m 1.221   \u001b[0m | \u001b[0m 163.0   \u001b[0m |\n",
      "| \u001b[0m 555     \u001b[0m | \u001b[0m 0.5598  \u001b[0m | \u001b[0m 0.8628  \u001b[0m | \u001b[0m 2.965   \u001b[0m | \u001b[0m 5.285   \u001b[0m | \u001b[0m 0.08419 \u001b[0m | \u001b[0m 0.7316  \u001b[0m | \u001b[0m 162.0   \u001b[0m |\n",
      "| \u001b[0m 556     \u001b[0m | \u001b[0m 0.4057  \u001b[0m | \u001b[0m 0.3315  \u001b[0m | \u001b[0m 4.534   \u001b[0m | \u001b[0m 33.54   \u001b[0m | \u001b[0m 0.04124 \u001b[0m | \u001b[0m 1.646   \u001b[0m | \u001b[0m 170.7   \u001b[0m |\n",
      "| \u001b[0m 557     \u001b[0m | \u001b[0m 0.5787  \u001b[0m | \u001b[0m 0.7521  \u001b[0m | \u001b[0m 2.638   \u001b[0m | \u001b[0m 56.65   \u001b[0m | \u001b[0m 0.0421  \u001b[0m | \u001b[0m 0.1302  \u001b[0m | \u001b[0m 491.6   \u001b[0m |\n",
      "| \u001b[0m 558     \u001b[0m | \u001b[0m 0.5736  \u001b[0m | \u001b[0m 0.7861  \u001b[0m | \u001b[0m 5.547   \u001b[0m | \u001b[0m 3.527   \u001b[0m | \u001b[0m 0.03606 \u001b[0m | \u001b[0m 0.1202  \u001b[0m | \u001b[0m 982.0   \u001b[0m |\n",
      "| \u001b[0m 559     \u001b[0m | \u001b[0m 0.5735  \u001b[0m | \u001b[0m 0.8146  \u001b[0m | \u001b[0m 4.964   \u001b[0m | \u001b[0m 0.1982  \u001b[0m | \u001b[0m 0.07552 \u001b[0m | \u001b[0m 0.2211  \u001b[0m | \u001b[0m 952.4   \u001b[0m |\n",
      "| \u001b[0m 560     \u001b[0m | \u001b[0m 0.5908  \u001b[0m | \u001b[0m 0.954   \u001b[0m | \u001b[0m 1.913   \u001b[0m | \u001b[0m 1.529   \u001b[0m | \u001b[0m 0.05927 \u001b[0m | \u001b[0m 1.11    \u001b[0m | \u001b[0m 964.8   \u001b[0m |\n",
      "| \u001b[0m 561     \u001b[0m | \u001b[0m 0.5075  \u001b[0m | \u001b[0m 0.5939  \u001b[0m | \u001b[0m 0.2281  \u001b[0m | \u001b[0m 21.23   \u001b[0m | \u001b[0m 0.05383 \u001b[0m | \u001b[0m 1.346   \u001b[0m | \u001b[0m 188.0   \u001b[0m |\n",
      "| \u001b[0m 562     \u001b[0m | \u001b[0m 0.5435  \u001b[0m | \u001b[0m 0.7247  \u001b[0m | \u001b[0m 0.05416 \u001b[0m | \u001b[0m 5.628   \u001b[0m | \u001b[0m 0.08386 \u001b[0m | \u001b[0m 2.269   \u001b[0m | \u001b[0m 160.2   \u001b[0m |\n",
      "| \u001b[0m 563     \u001b[0m | \u001b[0m 0.5511  \u001b[0m | \u001b[0m 0.6216  \u001b[0m | \u001b[0m 3.868   \u001b[0m | \u001b[0m 0.5359  \u001b[0m | \u001b[0m 0.06548 \u001b[0m | \u001b[0m 0.2414  \u001b[0m | \u001b[0m 964.9   \u001b[0m |\n",
      "| \u001b[0m 564     \u001b[0m | \u001b[0m 0.5711  \u001b[0m | \u001b[0m 0.3813  \u001b[0m | \u001b[0m 1.847   \u001b[0m | \u001b[0m 1.768   \u001b[0m | \u001b[0m 0.02941 \u001b[0m | \u001b[0m 0.3579  \u001b[0m | \u001b[0m 956.3   \u001b[0m |\n",
      "| \u001b[0m 565     \u001b[0m | \u001b[0m 0.4682  \u001b[0m | \u001b[0m 0.5584  \u001b[0m | \u001b[0m 0.2344  \u001b[0m | \u001b[0m 0.3502  \u001b[0m | \u001b[0m 0.08475 \u001b[0m | \u001b[0m 8.489   \u001b[0m | \u001b[0m 153.1   \u001b[0m |\n",
      "| \u001b[0m 566     \u001b[0m | \u001b[0m 0.6219  \u001b[0m | \u001b[0m 0.9126  \u001b[0m | \u001b[0m 0.1912  \u001b[0m | \u001b[0m 10.2    \u001b[0m | \u001b[0m 0.07974 \u001b[0m | \u001b[0m 0.5867  \u001b[0m | \u001b[0m 162.3   \u001b[0m |\n",
      "| \u001b[0m 567     \u001b[0m | \u001b[0m 0.6544  \u001b[0m | \u001b[0m 1.0     \u001b[0m | \u001b[0m 3.666   \u001b[0m | \u001b[0m 3.82    \u001b[0m | \u001b[0m 0.1     \u001b[0m | \u001b[0m 0.0     \u001b[0m | \u001b[0m 961.7   \u001b[0m |\n",
      "| \u001b[0m 568     \u001b[0m | \u001b[0m 0.4777  \u001b[0m | \u001b[0m 0.4323  \u001b[0m | \u001b[0m 8.843   \u001b[0m | \u001b[0m 2.275   \u001b[0m | \u001b[0m 0.08342 \u001b[0m | \u001b[0m 0.5905  \u001b[0m | \u001b[0m 179.7   \u001b[0m |\n",
      "| \u001b[0m 569     \u001b[0m | \u001b[0m 0.4114  \u001b[0m | \u001b[0m 0.1     \u001b[0m | \u001b[0m 5.718   \u001b[0m | \u001b[0m 18.44   \u001b[0m | \u001b[0m 0.01    \u001b[0m | \u001b[0m 0.0     \u001b[0m | \u001b[0m 165.0   \u001b[0m |\n",
      "| \u001b[0m 570     \u001b[0m | \u001b[0m 0.5606  \u001b[0m | \u001b[0m 0.8382  \u001b[0m | \u001b[0m 0.7442  \u001b[0m | \u001b[0m 5.886   \u001b[0m | \u001b[0m 0.02679 \u001b[0m | \u001b[0m 1.446   \u001b[0m | \u001b[0m 191.0   \u001b[0m |\n",
      "| \u001b[0m 571     \u001b[0m | \u001b[0m 0.4897  \u001b[0m | \u001b[0m 0.5954  \u001b[0m | \u001b[0m 0.8838  \u001b[0m | \u001b[0m 9.665   \u001b[0m | \u001b[0m 0.08796 \u001b[0m | \u001b[0m 2.247   \u001b[0m | \u001b[0m 160.3   \u001b[0m |\n",
      "| \u001b[0m 572     \u001b[0m | \u001b[0m 0.5765  \u001b[0m | \u001b[0m 0.9363  \u001b[0m | \u001b[0m 1.888   \u001b[0m | \u001b[0m 14.16   \u001b[0m | \u001b[0m 0.06477 \u001b[0m | \u001b[0m 0.6485  \u001b[0m | \u001b[0m 185.6   \u001b[0m |\n",
      "| \u001b[0m 573     \u001b[0m | \u001b[0m 0.5008  \u001b[0m | \u001b[0m 0.7032  \u001b[0m | \u001b[0m 9.638   \u001b[0m | \u001b[0m 0.3044  \u001b[0m | \u001b[0m 0.01198 \u001b[0m | \u001b[0m 0.5683  \u001b[0m | \u001b[0m 194.3   \u001b[0m |\n",
      "| \u001b[0m 574     \u001b[0m | \u001b[0m 0.4582  \u001b[0m | \u001b[0m 0.1747  \u001b[0m | \u001b[0m 0.07518 \u001b[0m | \u001b[0m 1.295   \u001b[0m | \u001b[0m 0.06742 \u001b[0m | \u001b[0m 0.2559  \u001b[0m | \u001b[0m 201.8   \u001b[0m |\n",
      "| \u001b[0m 575     \u001b[0m | \u001b[0m 0.5269  \u001b[0m | \u001b[0m 0.6251  \u001b[0m | \u001b[0m 4.435   \u001b[0m | \u001b[0m 20.78   \u001b[0m | \u001b[0m 0.07467 \u001b[0m | \u001b[0m 0.5675  \u001b[0m | \u001b[0m 154.0   \u001b[0m |\n",
      "| \u001b[0m 576     \u001b[0m | \u001b[0m 0.4441  \u001b[0m | \u001b[0m 0.2364  \u001b[0m | \u001b[0m 2.372   \u001b[0m | \u001b[0m 0.03071 \u001b[0m | \u001b[0m 0.09352 \u001b[0m | \u001b[0m 0.7888  \u001b[0m | \u001b[0m 957.0   \u001b[0m |\n",
      "| \u001b[0m 577     \u001b[0m | \u001b[0m 0.5896  \u001b[0m | \u001b[0m 0.9605  \u001b[0m | \u001b[0m 2.643   \u001b[0m | \u001b[0m 16.31   \u001b[0m | \u001b[0m 0.04245 \u001b[0m | \u001b[0m 0.3172  \u001b[0m | \u001b[0m 154.8   \u001b[0m |\n",
      "| \u001b[0m 578     \u001b[0m | \u001b[0m 0.5064  \u001b[0m | \u001b[0m 0.4749  \u001b[0m | \u001b[0m 0.05517 \u001b[0m | \u001b[0m 3.34    \u001b[0m | \u001b[0m 0.07227 \u001b[0m | \u001b[0m 2.974   \u001b[0m | \u001b[0m 198.6   \u001b[0m |\n",
      "| \u001b[0m 579     \u001b[0m | \u001b[0m 0.5516  \u001b[0m | \u001b[0m 0.6734  \u001b[0m | \u001b[0m 6.317   \u001b[0m | \u001b[0m 13.79   \u001b[0m | \u001b[0m 0.07871 \u001b[0m | \u001b[0m 0.1086  \u001b[0m | \u001b[0m 182.2   \u001b[0m |\n",
      "| \u001b[0m 580     \u001b[0m | \u001b[0m 0.4271  \u001b[0m | \u001b[0m 0.1043  \u001b[0m | \u001b[0m 1.325   \u001b[0m | \u001b[0m 61.87   \u001b[0m | \u001b[0m 0.08281 \u001b[0m | \u001b[0m 0.6291  \u001b[0m | \u001b[0m 483.5   \u001b[0m |\n",
      "| \u001b[0m 581     \u001b[0m | \u001b[0m 0.5496  \u001b[0m | \u001b[0m 0.7152  \u001b[0m | \u001b[0m 1.452   \u001b[0m | \u001b[0m 14.74   \u001b[0m | \u001b[0m 0.04916 \u001b[0m | \u001b[0m 0.9098  \u001b[0m | \u001b[0m 156.1   \u001b[0m |\n",
      "| \u001b[0m 582     \u001b[0m | \u001b[0m 0.467   \u001b[0m | \u001b[0m 0.7393  \u001b[0m | \u001b[0m 4.672   \u001b[0m | \u001b[0m 2.934   \u001b[0m | \u001b[0m 0.04097 \u001b[0m | \u001b[0m 4.218   \u001b[0m | \u001b[0m 156.4   \u001b[0m |\n",
      "| \u001b[0m 583     \u001b[0m | \u001b[0m 0.4524  \u001b[0m | \u001b[0m 0.2429  \u001b[0m | \u001b[0m 1.107   \u001b[0m | \u001b[0m 1.013   \u001b[0m | \u001b[0m 0.06653 \u001b[0m | \u001b[0m 0.6537  \u001b[0m | \u001b[0m 979.8   \u001b[0m |\n",
      "| \u001b[0m 584     \u001b[0m | \u001b[0m 0.4778  \u001b[0m | \u001b[0m 0.9488  \u001b[0m | \u001b[0m 7.021   \u001b[0m | \u001b[0m 19.16   \u001b[0m | \u001b[0m 0.06909 \u001b[0m | \u001b[0m 1.968   \u001b[0m | \u001b[0m 154.8   \u001b[0m |\n",
      "| \u001b[0m 585     \u001b[0m | \u001b[0m 0.5193  \u001b[0m | \u001b[0m 0.9264  \u001b[0m | \u001b[0m 4.107   \u001b[0m | \u001b[0m 12.07   \u001b[0m | \u001b[0m 0.09774 \u001b[0m | \u001b[0m 1.398   \u001b[0m | \u001b[0m 966.9   \u001b[0m |\n",
      "| \u001b[0m 586     \u001b[0m | \u001b[0m 0.4448  \u001b[0m | \u001b[0m 0.2079  \u001b[0m | \u001b[0m 0.7123  \u001b[0m | \u001b[0m 25.0    \u001b[0m | \u001b[0m 0.02271 \u001b[0m | \u001b[0m 0.03051 \u001b[0m | \u001b[0m 163.1   \u001b[0m |\n",
      "| \u001b[0m 587     \u001b[0m | \u001b[0m 0.6694  \u001b[0m | \u001b[0m 0.7041  \u001b[0m | \u001b[0m 0.06905 \u001b[0m | \u001b[0m 20.0    \u001b[0m | \u001b[0m 0.01913 \u001b[0m | \u001b[0m 0.0891  \u001b[0m | \u001b[0m 159.6   \u001b[0m |\n",
      "| \u001b[0m 588     \u001b[0m | \u001b[0m 0.5223  \u001b[0m | \u001b[0m 0.6613  \u001b[0m | \u001b[0m 6.356   \u001b[0m | \u001b[0m 3.215   \u001b[0m | \u001b[0m 0.03384 \u001b[0m | \u001b[0m 0.7122  \u001b[0m | \u001b[0m 964.3   \u001b[0m |\n",
      "| \u001b[0m 589     \u001b[0m | \u001b[0m 0.49    \u001b[0m | \u001b[0m 0.8651  \u001b[0m | \u001b[0m 0.2024  \u001b[0m | \u001b[0m 51.5    \u001b[0m | \u001b[0m 0.08546 \u001b[0m | \u001b[0m 1.827   \u001b[0m | \u001b[0m 493.8   \u001b[0m |\n",
      "| \u001b[0m 590     \u001b[0m | \u001b[0m 0.6611  \u001b[0m | \u001b[0m 0.4468  \u001b[0m | \u001b[0m 0.1255  \u001b[0m | \u001b[0m 12.98   \u001b[0m | \u001b[0m 0.08198 \u001b[0m | \u001b[0m 0.03066 \u001b[0m | \u001b[0m 164.5   \u001b[0m |\n",
      "| \u001b[0m 591     \u001b[0m | \u001b[0m 0.4186  \u001b[0m | \u001b[0m 0.3079  \u001b[0m | \u001b[0m 4.512   \u001b[0m | \u001b[0m 3.296   \u001b[0m | \u001b[0m 0.0346  \u001b[0m | \u001b[0m 1.636   \u001b[0m | \u001b[0m 962.5   \u001b[0m |\n",
      "| \u001b[0m 592     \u001b[0m | \u001b[0m 0.4597  \u001b[0m | \u001b[0m 0.4219  \u001b[0m | \u001b[0m 6.752   \u001b[0m | \u001b[0m 86.47   \u001b[0m | \u001b[0m 0.01729 \u001b[0m | \u001b[0m 0.5009  \u001b[0m | \u001b[0m 991.7   \u001b[0m |\n",
      "| \u001b[0m 593     \u001b[0m | \u001b[0m 0.5706  \u001b[0m | \u001b[0m 0.632   \u001b[0m | \u001b[0m 4.028   \u001b[0m | \u001b[0m 3.019   \u001b[0m | \u001b[0m 0.06566 \u001b[0m | \u001b[0m 0.3903  \u001b[0m | \u001b[0m 967.6   \u001b[0m |\n",
      "| \u001b[0m 594     \u001b[0m | \u001b[0m 0.4415  \u001b[0m | \u001b[0m 0.2489  \u001b[0m | \u001b[0m 0.3315  \u001b[0m | \u001b[0m 21.05   \u001b[0m | \u001b[0m 0.06334 \u001b[0m | \u001b[0m 0.6883  \u001b[0m | \u001b[0m 162.4   \u001b[0m |\n",
      "| \u001b[0m 595     \u001b[0m | \u001b[0m 0.4903  \u001b[0m | \u001b[0m 0.6589  \u001b[0m | \u001b[0m 2.852   \u001b[0m | \u001b[0m 17.34   \u001b[0m | \u001b[0m 0.02484 \u001b[0m | \u001b[0m 1.905   \u001b[0m | \u001b[0m 967.0   \u001b[0m |\n",
      "| \u001b[0m 596     \u001b[0m | \u001b[0m 0.4566  \u001b[0m | \u001b[0m 0.5691  \u001b[0m | \u001b[0m 2.366   \u001b[0m | \u001b[0m 16.88   \u001b[0m | \u001b[0m 0.09755 \u001b[0m | \u001b[0m 3.136   \u001b[0m | \u001b[0m 153.6   \u001b[0m |\n",
      "| \u001b[0m 597     \u001b[0m | \u001b[0m 0.4479  \u001b[0m | \u001b[0m 0.3048  \u001b[0m | \u001b[0m 1.321   \u001b[0m | \u001b[0m 19.61   \u001b[0m | \u001b[0m 0.09721 \u001b[0m | \u001b[0m 0.2482  \u001b[0m | \u001b[0m 164.7   \u001b[0m |\n",
      "| \u001b[0m 598     \u001b[0m | \u001b[0m 0.5908  \u001b[0m | \u001b[0m 0.9771  \u001b[0m | \u001b[0m 1.22    \u001b[0m | \u001b[0m 18.94   \u001b[0m | \u001b[0m 0.09153 \u001b[0m | \u001b[0m 0.5218  \u001b[0m | \u001b[0m 161.2   \u001b[0m |\n",
      "| \u001b[0m 599     \u001b[0m | \u001b[0m 0.5166  \u001b[0m | \u001b[0m 0.546   \u001b[0m | \u001b[0m 1.065   \u001b[0m | \u001b[0m 17.5    \u001b[0m | \u001b[0m 0.09468 \u001b[0m | \u001b[0m 0.9602  \u001b[0m | \u001b[0m 185.0   \u001b[0m |\n",
      "| \u001b[0m 600     \u001b[0m | \u001b[0m 0.4835  \u001b[0m | \u001b[0m 0.4236  \u001b[0m | \u001b[0m 0.9292  \u001b[0m | \u001b[0m 20.41   \u001b[0m | \u001b[0m 0.05082 \u001b[0m | \u001b[0m 2.021   \u001b[0m | \u001b[0m 158.9   \u001b[0m |\n",
      "=================================================================================================\n",
      "{'feature_fraction': 0.9641352859718496, 'lambda_l1': 0.09249872401653869, 'lambda_l2': 0.3515544361679668, 'learning_rate': 0.04407981594451911, 'min_split_gain': 0.019839546590316726, 'num_leaves': 199.51831790335712}\n"
     ]
    }
   ],
   "source": [
    "import pandas as pd\n",
    "import numpy as np\n",
    "import lightgbm as lgb\n",
    "from bayes_opt import BayesianOptimization\n",
    "from sklearn.datasets import load_boston\n",
    "from sklearn.metrics import r2_score\n",
    "import warnings\n",
    "warnings.filterwarnings('ignore')\n",
    "import hyperopt\n",
    "from hyperopt import fmin, tpe, hp, STATUS_OK, Trials\n",
    "\n",
    "\n",
    "from sklearn.preprocessing import LabelEncoder\n",
    "def label_encoder(input_df, encoder_dict=None):\n",
    "    \"\"\" Process a dataframe into a form useable by LightGBM \"\"\"\n",
    "    # Label encode categoricals\n",
    "    categorical_feats = input_df.columns[input_df.dtypes == 'object']\n",
    "    for feat in categorical_feats:\n",
    "        encoder = LabelEncoder()\n",
    "        input_df[feat] = encoder.fit_transform(input_df[feat].fillna('NULL'))\n",
    "    return input_df, categorical_feats.tolist(), encoder_dict\n",
    "\n",
    "\n",
    "# Load Boston housing data\n",
    "boston=load_boston()\n",
    "X =pd.DataFrame(boston.data,columns=boston.feature_names)\n",
    "y = boston.target\n",
    "\n",
    "application_train = X_train.join(y_train)\n",
    "application_train, categorical_feats, encoder_dict = label_encoder(application_train)\n",
    "\n",
    "X = application_train.drop('is_fishing', axis=1)\n",
    "y = application_train.is_fishing\n",
    "\n",
    "\n",
    "#dtrain = lgb.Dataset(data=X, label=y)\n",
    "\n",
    "def bayesion_opt_lgbm(X, y, init_iter=3, n_iters=7, random_state=11, seed = 101, num_iterations=100):\n",
    "    dtrain = lgb.Dataset(data=X, label=y)\n",
    "\n",
    "    def lgb_r2_score(preds, dtrain):\n",
    "        labels = dtrain.get_label()\n",
    "        return 'r2', r2_score(labels, preds), True\n",
    "\n",
    "    # Objective Function\n",
    "    #def hyp_lgbm(num_leaves, feature_fraction, bagging_fraction, max_depth, min_split_gain, min_child_weight,lambda_l1, lambda_l2, learning_rate):\n",
    "    def hyp_lgbm(num_leaves, feature_fraction,   min_split_gain, lambda_l1, lambda_l2, learning_rate):\n",
    "\n",
    "            params = {'application':'binary','num_iterations': num_iterations,'early_stopping_round':int(50 + 7/learning_rate),\n",
    "                        'metric':'lgb_r2_score'} # Default parameters\n",
    "\n",
    "            params[\"num_leaves\"] = int(round(num_leaves))\n",
    "            params['feature_fraction'] = max(min(feature_fraction, 1), 0)\n",
    "            #params['bagging_fraction'] = max(min(bagging_fraction, 1), 0)\n",
    "            #params['max_depth'] = int(round(max_depth))\n",
    "            params['min_split_gain'] = min_split_gain\n",
    "            #params['min_child_weight'] = min_child_weight\n",
    "            \n",
    "            params['learning_rate']= max(min(learning_rate, 1), 0)\n",
    "            params['lambda_l1']= lambda_l1\n",
    "            params['lambda_l2']= lambda_l2\n",
    "            \n",
    "            params['verbose']=-1\n",
    "            params['objective'] ='binary'\n",
    "            params['boost_from_average']=True #adjusts initial score to the mean of labels for faster convergence\n",
    "            \n",
    "            cv_results = lgb.cv(params, dtrain, nfold=3, seed=seed,categorical_feature=[], stratified=False, verbose_eval =None, feval=lgb_r2_score)\n",
    "                            \n",
    "            # print(cv_results)\n",
    "            return np.max(cv_results['r2-mean'])\n",
    "    # Domain space-- Range of hyperparameters \n",
    "    #https://lightgbm.readthedocs.io/en/latest/Parameters.html\n",
    "\n",
    "    pds = {\n",
    "                #'eta':(0.025,0.15),\n",
    "                'num_leaves': (8, 1024),\n",
    "                'feature_fraction': (0.1, 1.0),\n",
    "                #'bagging_fraction': (0.1, 1),\n",
    "                #'max_depth': (30, 70),\n",
    "                'min_split_gain': (0.0, 20),\n",
    "                #'min_child_weight': (10, 50),\n",
    "                'lambda_l1':(0.0,10),\n",
    "                'lambda_l2':(0.0,100),\n",
    "                'learning_rate':(0.01, 0.1)          \n",
    "                }\n",
    "\n",
    "\n",
    "\n",
    "    # Surrogate model\n",
    "    optimizer = BayesianOptimization(hyp_lgbm, pds, random_state=random_state)\n",
    "                                        \n",
    "    # Optimize\n",
    "    optimizer.maximize(init_points=init_iter, n_iter=n_iters)\n",
    "    return optimizer.max['params']\n",
    "\n",
    "parametros_optimos = bayesion_opt_lgbm(X, y, init_iter=100, n_iters=500, random_state=77, seed = 101, num_iterations = 1000)\n",
    "print(parametros_optimos)\n"
   ]
  },
  {
   "cell_type": "code",
   "execution_count": 15,
   "metadata": {},
   "outputs": [
    {
     "name": "stdout",
     "output_type": "stream",
     "text": [
      "{'feature_fraction': 0.9641352859718496, 'lambda_l1': 0.09249872401653869, 'lambda_l2': 0.3515544361679668, 'learning_rate': 0.04407981594451911, 'min_split_gain': 0.019839546590316726, 'num_leaves': 199.51831790335712}\n"
     ]
    }
   ],
   "source": [
    "print(parametros_optimos)"
   ]
  },
  {
   "cell_type": "code",
   "execution_count": 16,
   "metadata": {},
   "outputs": [
    {
     "name": "stdout",
     "output_type": "stream",
     "text": [
      "[LightGBM] [Warning] Auto-choosing col-wise multi-threading, the overhead of testing was 0.000401 seconds.\n",
      "You can set `force_col_wise=true` to remove the overhead.\n",
      "[LightGBM] [Info] Total Bins 862\n",
      "[LightGBM] [Info] Number of data points in the train set: 17140, number of used features: 4\n",
      "[LightGBM] [Info] Start training from score 0.088273\n",
      "[LightGBM] [Warning] No further splits with positive gain, best gain: -inf\n",
      "[LightGBM] [Warning] No further splits with positive gain, best gain: -inf\n",
      "[LightGBM] [Warning] No further splits with positive gain, best gain: -inf\n",
      "[LightGBM] [Warning] No further splits with positive gain, best gain: -inf\n",
      "[LightGBM] [Warning] No further splits with positive gain, best gain: -inf\n",
      "[LightGBM] [Warning] No further splits with positive gain, best gain: -inf\n",
      "[LightGBM] [Warning] No further splits with positive gain, best gain: -inf\n",
      "[LightGBM] [Warning] No further splits with positive gain, best gain: -inf\n",
      "[LightGBM] [Warning] No further splits with positive gain, best gain: -inf\n",
      "[LightGBM] [Warning] No further splits with positive gain, best gain: -inf\n",
      "[LightGBM] [Warning] No further splits with positive gain, best gain: -inf\n",
      "[LightGBM] [Warning] No further splits with positive gain, best gain: -inf\n",
      "[LightGBM] [Warning] No further splits with positive gain, best gain: -inf\n",
      "[LightGBM] [Warning] No further splits with positive gain, best gain: -inf\n",
      "[LightGBM] [Warning] No further splits with positive gain, best gain: -inf\n",
      "[LightGBM] [Warning] No further splits with positive gain, best gain: -inf\n",
      "[LightGBM] [Warning] No further splits with positive gain, best gain: -inf\n",
      "[LightGBM] [Warning] No further splits with positive gain, best gain: -inf\n",
      "[LightGBM] [Warning] No further splits with positive gain, best gain: -inf\n",
      "[LightGBM] [Warning] No further splits with positive gain, best gain: -inf\n",
      "[LightGBM] [Warning] No further splits with positive gain, best gain: -inf\n",
      "[LightGBM] [Warning] No further splits with positive gain, best gain: -inf\n",
      "[LightGBM] [Warning] No further splits with positive gain, best gain: -inf\n",
      "[LightGBM] [Warning] No further splits with positive gain, best gain: -inf\n",
      "[LightGBM] [Warning] No further splits with positive gain, best gain: -inf\n",
      "[LightGBM] [Warning] No further splits with positive gain, best gain: -inf\n",
      "[LightGBM] [Warning] No further splits with positive gain, best gain: -inf\n",
      "[LightGBM] [Warning] No further splits with positive gain, best gain: -inf\n",
      "[LightGBM] [Warning] No further splits with positive gain, best gain: -inf\n",
      "[LightGBM] [Warning] No further splits with positive gain, best gain: -inf\n",
      "[LightGBM] [Warning] No further splits with positive gain, best gain: -inf\n",
      "[LightGBM] [Warning] No further splits with positive gain, best gain: -inf\n",
      "[LightGBM] [Warning] No further splits with positive gain, best gain: -inf\n",
      "[LightGBM] [Warning] No further splits with positive gain, best gain: -inf\n",
      "[LightGBM] [Warning] No further splits with positive gain, best gain: -inf\n",
      "[LightGBM] [Warning] No further splits with positive gain, best gain: -inf\n",
      "[LightGBM] [Warning] No further splits with positive gain, best gain: -inf\n",
      "[LightGBM] [Warning] No further splits with positive gain, best gain: -inf\n",
      "[LightGBM] [Warning] No further splits with positive gain, best gain: -inf\n",
      "[LightGBM] [Warning] No further splits with positive gain, best gain: -inf\n",
      "[LightGBM] [Warning] No further splits with positive gain, best gain: -inf\n",
      "[LightGBM] [Warning] No further splits with positive gain, best gain: -inf\n",
      "[LightGBM] [Warning] No further splits with positive gain, best gain: -inf\n",
      "[LightGBM] [Warning] No further splits with positive gain, best gain: -inf\n",
      "[LightGBM] [Warning] No further splits with positive gain, best gain: -inf\n",
      "[LightGBM] [Warning] No further splits with positive gain, best gain: -inf\n",
      "[LightGBM] [Warning] No further splits with positive gain, best gain: -inf\n",
      "[LightGBM] [Warning] No further splits with positive gain, best gain: -inf\n",
      "[LightGBM] [Warning] No further splits with positive gain, best gain: -inf\n",
      "[LightGBM] [Warning] No further splits with positive gain, best gain: -inf\n",
      "[LightGBM] [Warning] No further splits with positive gain, best gain: -inf\n",
      "[LightGBM] [Warning] No further splits with positive gain, best gain: -inf\n",
      "[LightGBM] [Warning] No further splits with positive gain, best gain: -inf\n",
      "[LightGBM] [Warning] No further splits with positive gain, best gain: -inf\n",
      "[LightGBM] [Warning] No further splits with positive gain, best gain: -inf\n",
      "[LightGBM] [Warning] No further splits with positive gain, best gain: -inf\n",
      "[LightGBM] [Warning] No further splits with positive gain, best gain: -inf\n",
      "[LightGBM] [Warning] No further splits with positive gain, best gain: -inf\n",
      "[LightGBM] [Warning] No further splits with positive gain, best gain: -inf\n",
      "[LightGBM] [Warning] No further splits with positive gain, best gain: -inf\n",
      "[LightGBM] [Warning] No further splits with positive gain, best gain: -inf\n",
      "[LightGBM] [Warning] No further splits with positive gain, best gain: -inf\n",
      "[LightGBM] [Warning] No further splits with positive gain, best gain: -inf\n",
      "[LightGBM] [Warning] No further splits with positive gain, best gain: -inf\n",
      "[LightGBM] [Warning] No further splits with positive gain, best gain: -inf\n",
      "[LightGBM] [Warning] No further splits with positive gain, best gain: -inf\n",
      "[LightGBM] [Warning] No further splits with positive gain, best gain: -inf\n",
      "[LightGBM] [Warning] No further splits with positive gain, best gain: -inf\n",
      "[LightGBM] [Warning] No further splits with positive gain, best gain: -inf\n",
      "[LightGBM] [Warning] No further splits with positive gain, best gain: -inf\n",
      "[LightGBM] [Warning] No further splits with positive gain, best gain: -inf\n",
      "[LightGBM] [Warning] No further splits with positive gain, best gain: -inf\n",
      "[LightGBM] [Warning] No further splits with positive gain, best gain: -inf\n",
      "[LightGBM] [Warning] No further splits with positive gain, best gain: -inf\n",
      "[LightGBM] [Warning] No further splits with positive gain, best gain: -inf\n",
      "[LightGBM] [Warning] No further splits with positive gain, best gain: -inf\n",
      "[LightGBM] [Warning] No further splits with positive gain, best gain: -inf\n",
      "[LightGBM] [Warning] No further splits with positive gain, best gain: -inf\n",
      "[LightGBM] [Warning] No further splits with positive gain, best gain: -inf\n",
      "[LightGBM] [Warning] No further splits with positive gain, best gain: -inf\n",
      "[LightGBM] [Warning] No further splits with positive gain, best gain: -inf\n",
      "[LightGBM] [Warning] No further splits with positive gain, best gain: -inf\n",
      "[LightGBM] [Warning] No further splits with positive gain, best gain: -inf\n",
      "[LightGBM] [Warning] No further splits with positive gain, best gain: -inf\n",
      "[LightGBM] [Warning] No further splits with positive gain, best gain: -inf\n",
      "[LightGBM] [Warning] No further splits with positive gain, best gain: -inf\n",
      "[LightGBM] [Warning] No further splits with positive gain, best gain: -inf\n",
      "[LightGBM] [Warning] No further splits with positive gain, best gain: -inf\n",
      "[LightGBM] [Warning] No further splits with positive gain, best gain: -inf\n",
      "[LightGBM] [Warning] No further splits with positive gain, best gain: -inf\n",
      "[LightGBM] [Warning] No further splits with positive gain, best gain: -inf\n"
     ]
    },
    {
     "data": {
      "text/markdown": [
       "light_gbm optimizacion bayesiana"
      ],
      "text/plain": [
       "<IPython.core.display.Markdown object>"
      ]
     },
     "metadata": {},
     "output_type": "display_data"
    },
    {
     "data": {
      "image/png": "[encoded data removed]",
      "text/plain": [
       "<Figure size 432x288 with 1 Axes>"
      ]
     },
     "metadata": {
      "needs_background": "light"
     },
     "output_type": "display_data"
    },
    {
     "data": {
      "image/png": "[encoded data removed]",
      "text/plain": [
       "<Figure size 432x288 with 2 Axes>"
      ]
     },
     "metadata": {
      "needs_background": "light"
     },
     "output_type": "display_data"
    },
    {
     "data": {
      "text/html": [
       "<table>\n",
       "<tbody>\n",
       "<tr><td>Precision</td><td>Recall</td><td>Accuracy</td><td>F1  </td></tr>\n",
       "<tr><td>0.91     </td><td>0.79  </td><td>0.98    </td><td>0.84</td></tr>\n",
       "</tbody>\n",
       "</table>"
      ],
      "text/plain": [
       "'<table>\\n<tbody>\\n<tr><td>Precision</td><td>Recall</td><td>Accuracy</td><td>F1  </td></tr>\\n<tr><td>0.91     </td><td>0.79  </td><td>0.98    </td><td>0.84</td></tr>\\n</tbody>\\n</table>'"
      ]
     },
     "metadata": {},
     "output_type": "display_data"
    }
   ],
   "source": [
    "#parametros_optimos['max_depth'] = int(round(parametros_optimos['max_depth']))\n",
    "parametros_optimos['num_leaves'] = int(round(parametros_optimos['num_leaves']))\n",
    "\n",
    "dtrain = lgb.Dataset(data=X, label=y)\n",
    "def lgb_r2_score(preds, dtrain):\n",
    "        labels = dtrain.get_label()\n",
    "        return 'r2', r2_score(labels, preds), True\n",
    "dt = lgb.train(parametros_optimos,  dtrain,categorical_feature=[], verbose_eval =None, feval=lgb_r2_score)\n",
    "#clf = lgb.fit(parametros_optimos,  dtrain,categorical_feature=[], verbose_eval =None, feval=lgb_r2_score)\n",
    "\n",
    "lgb.plot_importance(dt)\n",
    "\n",
    "y_pred = dt.predict(X_test)\n",
    "#if>=0.5 ---> 1\n",
    "#else ---->0\n",
    "#rounding the values\n",
    "y_pred=y_pred.round(0)\n",
    "y_pred=y_pred.astype(int)\n",
    "y_pred = np.where(y_pred == 1, 'SI', 'NO')\n",
    "#print(y_pred)\n",
    "\n",
    "evaluate_model('light_gbm optimizacion bayesiana',y_test, y_pred)\n",
    "#cols = feature_importance_df_lgb[[\"feature\", \"importance\"]].groupby(\"feature\").mean().sort_values(by=\"importance\", ascending=False)[:50].index\n"
   ]
  },
  {
   "cell_type": "markdown",
   "metadata": {},
   "source": [
    "| Algorithm     | Precision     | Recall        | Accuracy      | F1            |\n",
    "| ------------- | ------------- | ------------- | ------------- | ------------- |\n",
    "| Arboles de decision  | 0.84  | 0.71  | 0.96  | 0.77  |\n",
    "|    Random Forest  | 0.94  | 0.80  | 0.98  | 0.86  |\n",
    "|    SVM        | 0.84  | 0.73  | 0.96  | 0.78  |\n",
    "|    LightGBM        | 0.93  | 0.86  | 0.98  | 0.89  |\n",
    "\t\t\t\n",
    "\t\t\t\n",
    "\t\t\t\n",
    "\n",
    "\n",
    "\t\t\t\t\t\t"
   ]
  },
  {
   "cell_type": "markdown",
   "metadata": {},
   "source": []
  }
 ],
 "metadata": {
  "interpreter": {
   "hash": "db2a60f505a9041374f6f3fb78368755bb5bc9c69ef08139ad82abb6b35de715"
  },
  "kernelspec": {
   "display_name": "Python 3.8.8 ('base')",
   "language": "python",
   "name": "python3"
  },
  "language_info": {
   "codemirror_mode": {
    "name": "ipython",
    "version": 3
   },
   "file_extension": ".py",
   "mimetype": "text/x-python",
   "name": "python",
   "nbconvert_exporter": "python",
   "pygments_lexer": "ipython3",
   "version": "3.8.8"
  },
  "orig_nbformat": 4
 },
 "nbformat": 4,
 "nbformat_minor": 2
}

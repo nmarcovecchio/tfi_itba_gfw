{
 "cells": [
  {
   "cell_type": "code",
   "execution_count": 8,
   "metadata": {},
   "outputs": [
    {
     "name": "stdout",
     "output_type": "stream",
     "text": [
      "The nltk version is 3.6.1.\n",
      "The scikit-learn version is 1.0.2.\n"
     ]
    }
   ],
   "source": [
    "import nltk\n",
    "import sklearn\n",
    "\n",
    "print('The nltk version is {}.'.format(nltk.__version__))\n",
    "print('The scikit-learn version is {}.'.format(sklearn.__version__))"
   ]
  },
  {
   "cell_type": "markdown",
   "metadata": {},
   "source": [
    "Cargamos el dataset."
   ]
  },
  {
   "cell_type": "code",
   "execution_count": 9,
   "metadata": {},
   "outputs": [],
   "source": [
    "import pandas as pd\n",
    "import numpy as np\n",
    "from sklearn.tree import DecisionTreeClassifier # Import Decision Tree Classifier\n",
    "from sklearn.model_selection import train_test_split # Import train_test_split function\n",
    "from sklearn import metrics #Import scikit-learn metrics module for accuracy calculation\n",
    "\n",
    "trollers = pd.read_csv(\"C:/Users/nico_/Desktop/ITBA/TFI/global fishing watch/dataset/trollers.csv\", header=\"infer\", sep=\",\",error_bad_lines=False, engine ='python')\n",
    "\n",
    "#Nos quedamos solo con las columnas que estan clasificadas 100% como pescando, o no pescando. Que no haya duda.\n",
    "df = trollers.copy()\n",
    "df = df[(df['is_fishing'] == -1.0)  | (df['is_fishing'] == 1.0) ]\n",
    "\n",
    "#Renombramos las columnas de la variable a predecir de si esta pescando o no.\n",
    "df[\"is_fishing\"] = np.where(df[\"is_fishing\"] == 1.0, 'SI', 'NO')\n",
    "trollers = df.copy()\n",
    "#print(trollers)"
   ]
  },
  {
   "cell_type": "markdown",
   "metadata": {},
   "source": [
    "Dropeamos los NA, y nos quedamos con los puntos que se encuentran a 3 millas de la costa."
   ]
  },
  {
   "cell_type": "code",
   "execution_count": 10,
   "metadata": {},
   "outputs": [
    {
     "name": "stdout",
     "output_type": "stream",
     "text": [
      "        distance_from_shore  distance_from_port  speed      course is_fishing\n",
      "270             8246.008789        23769.144531    7.6  248.899994         NO\n",
      "271             8944.052734        24165.498047    7.8  252.399994         NO\n",
      "272            10629.884766        25238.240234    7.6  252.600006         NO\n",
      "273            11313.430664        26076.169922    7.5   66.000000         NO\n",
      "274            11180.065430        26400.109375    7.6   71.500000         NO\n",
      "...                     ...                 ...    ...         ...        ...\n",
      "166226         14764.460938        29119.724609    7.9  256.100006         NO\n",
      "166232         13453.293945        24738.027344    7.5  229.699997         NO\n",
      "166240          9848.616211        12369.013672    2.4  123.800003         NO\n",
      "166241          9433.749023        11704.412109    2.9  120.000000         NO\n",
      "166242         10629.884766        12206.255859    2.8  105.800003         NO\n",
      "\n",
      "[21426 rows x 5 columns]\n"
     ]
    }
   ],
   "source": [
    "#Dropeamos NA.\n",
    "df = df.dropna()\n",
    "#Generamos Feature Engeniering.\n",
    "df = df[(df['distance_from_shore'] >= 5556)]\n",
    "#print(len(df))\n",
    "#Dropeamos columnas que no interesen en el modelo.\n",
    "df = df.drop(['mmsi', 'source','lat', 'lon','timestamp','source'], axis = 1)\n",
    "print(df)\n",
    "\n",
    "trollers = df.copy()"
   ]
  },
  {
   "cell_type": "markdown",
   "metadata": {},
   "source": [
    "Generamos los vectores de train y test."
   ]
  },
  {
   "cell_type": "code",
   "execution_count": 11,
   "metadata": {},
   "outputs": [
    {
     "name": "stdout",
     "output_type": "stream",
     "text": [
      "1883\n",
      "19543\n"
     ]
    }
   ],
   "source": [
    "#Generamos train y test.\n",
    "\n",
    "#Si la longitud del dataset es mayor a 10000, partiremos agrupado por \"is_fishing\" ya que nos puede tocar un conjunto con is_fishing='SI' vacio.\n",
    "#if len(dataset)>10000:\n",
    "    #df = df.sample(n=10000, random_state=1)\n",
    "#    df = df.groupby(\"is_fishing\").sample(n=7500, random_state=1,replace=True)\n",
    "#    df = df.drop_duplicates()\n",
    "\n",
    "X = df.drop('is_fishing',axis=1)\n",
    "y = df['is_fishing']\n",
    "X_train, X_test, y_train, y_test = train_test_split(X, y, train_size=0.8, random_state=50)\n",
    "print(len(df[df['is_fishing']=='SI']))\n",
    "print(len(df[df['is_fishing']=='NO']))"
   ]
  },
  {
   "cell_type": "markdown",
   "metadata": {},
   "source": [
    "Funcion para evaluar los modelos."
   ]
  },
  {
   "cell_type": "code",
   "execution_count": 12,
   "metadata": {},
   "outputs": [],
   "source": [
    "from sklearn.metrics import precision_score, recall_score, f1_score, accuracy_score\n",
    "from sklearn.metrics import confusion_matrix, ConfusionMatrixDisplay\n",
    "from IPython.display import display, Markdown, Latex\n",
    "import matplotlib.pyplot as plt\n",
    "import tabulate\n",
    "from sklearn.metrics import confusion_matrix, accuracy_score\n",
    "\n",
    "\n",
    "def evaluate_model(title,y_test, y_pred):\n",
    "\n",
    "    cm = confusion_matrix(y_test, y_pred)\n",
    "    display(Markdown(title))\n",
    "    cmd_obj = ConfusionMatrixDisplay(cm, display_labels=['NO', 'SI'])\n",
    "    cmd_obj.plot()\n",
    "    cmd_obj.ax_.set(\n",
    "                    title='Matriz de confusión.', \n",
    "                    xlabel='Predict Values', \n",
    "                    ylabel='Actual Values')\n",
    "    plt.show()\n",
    "    _precision_score = precision_score(y_test, y_pred,pos_label='SI')\n",
    "    _recall_score = recall_score(y_test, y_pred, pos_label='SI')\n",
    "    _accuracy_score = accuracy_score(y_test, y_pred)\n",
    "    _f1_score = f1_score(y_test, y_pred, pos_label='SI')\n",
    "\n",
    "    data = [[\"Precision\",\"Recall\",\"Accuracy\",\"F1\"],\n",
    "            [\"%.2f\" % _precision_score, \"%.2f\" % _recall_score, \"%.2f\" % _accuracy_score, \"%.2f\" % _f1_score ]]\n",
    "    table = tabulate.tabulate(data, tablefmt='html')\n",
    "    display(table)\n"
   ]
  },
  {
   "cell_type": "markdown",
   "metadata": {},
   "source": [
    "Arboles de decision parametros default"
   ]
  },
  {
   "cell_type": "code",
   "execution_count": 13,
   "metadata": {},
   "outputs": [
    {
     "data": {
      "text/markdown": [
       "Arboles de decision parametros default"
      ],
      "text/plain": [
       "<IPython.core.display.Markdown object>"
      ]
     },
     "metadata": {},
     "output_type": "display_data"
    },
    {
     "data": {
      "image/png": "[encoded data removed]",
      "text/plain": [
       "<Figure size 432x288 with 1 Axes>"
      ]
     },
     "metadata": {
      "needs_background": "light"
     },
     "output_type": "display_data"
    },
    {
     "data": {
      "image/png": "[encoded data removed]",
      "text/plain": [
       "<Figure size 432x288 with 2 Axes>"
      ]
     },
     "metadata": {
      "needs_background": "light"
     },
     "output_type": "display_data"
    },
    {
     "data": {
      "text/html": [
       "<table>\n",
       "<tbody>\n",
       "<tr><td>Precision</td><td>Recall</td><td>Accuracy</td><td>F1  </td></tr>\n",
       "<tr><td>0.84     </td><td>0.13  </td><td>0.92    </td><td>0.23</td></tr>\n",
       "</tbody>\n",
       "</table>"
      ],
      "text/plain": [
       "'<table>\\n<tbody>\\n<tr><td>Precision</td><td>Recall</td><td>Accuracy</td><td>F1  </td></tr>\\n<tr><td>0.84     </td><td>0.13  </td><td>0.92    </td><td>0.23</td></tr>\\n</tbody>\\n</table>'"
      ]
     },
     "metadata": {},
     "output_type": "display_data"
    }
   ],
   "source": [
    "from sklearn.model_selection import train_test_split\n",
    "from sklearn import tree\n",
    "\n",
    "dt = DecisionTreeClassifier(max_depth=3)\n",
    "dt.fit(X_train, y_train)\n",
    "y_pred = dt.predict(X_test)\n",
    "\n",
    "tree.plot_tree(dt)\n",
    "\n",
    "evaluate_model('Arboles de decision parametros default',y_test, y_pred)\n"
   ]
  },
  {
   "cell_type": "markdown",
   "metadata": {},
   "source": [
    "Arboles de decision optimizado"
   ]
  },
  {
   "cell_type": "code",
   "execution_count": 14,
   "metadata": {},
   "outputs": [
    {
     "name": "stdout",
     "output_type": "stream",
     "text": [
      "Fitting 3 folds for each of 1440 candidates, totalling 4320 fits\n",
      "Train Accuracy : 0.991\n",
      "Test Accuracy : 0.965\n",
      "Best Score Through Grid Search : 0.960\n",
      "Best Parameters :  {'max_depth': 16, 'max_features': None, 'max_leaf_nodes': None, 'min_samples_leaf': 1, 'min_weight_fraction_leaf': 0, 'splitter': 'random'}\n",
      "Best Parameters :  {'max_depth': 16, 'max_features': None, 'max_leaf_nodes': None, 'min_samples_leaf': 1, 'min_weight_fraction_leaf': 0, 'splitter': 'random'}\n"
     ]
    },
    {
     "data": {
      "text/markdown": [
       "Arboles de decision optimizado"
      ],
      "text/plain": [
       "<IPython.core.display.Markdown object>"
      ]
     },
     "metadata": {},
     "output_type": "display_data"
    },
    {
     "data": {
      "image/png": "[encoded data removed]",
      "text/plain": [
       "<Figure size 432x288 with 2 Axes>"
      ]
     },
     "metadata": {
      "needs_background": "light"
     },
     "output_type": "display_data"
    },
    {
     "data": {
      "text/html": [
       "<table>\n",
       "<tbody>\n",
       "<tr><td>Precision</td><td>Recall</td><td>Accuracy</td><td>F1  </td></tr>\n",
       "<tr><td>0.79     </td><td>0.73  </td><td>0.96    </td><td>0.76</td></tr>\n",
       "</tbody>\n",
       "</table>"
      ],
      "text/plain": [
       "'<table>\\n<tbody>\\n<tr><td>Precision</td><td>Recall</td><td>Accuracy</td><td>F1  </td></tr>\\n<tr><td>0.79     </td><td>0.73  </td><td>0.96    </td><td>0.76</td></tr>\\n</tbody>\\n</table>'"
      ]
     },
     "metadata": {},
     "output_type": "display_data"
    }
   ],
   "source": [
    "from sklearn.tree import ExtraTreeClassifier\n",
    "from sklearn.tree import DecisionTreeRegressor\n",
    "#extra_tree_classifier = ExtraTreeClassifier(random_state=1)\n",
    "#extra_tree_classifier.fit(X_train, y_train)\n",
    "\n",
    "from sklearn.model_selection import GridSearchCV\n",
    "\n",
    "parameters={\"splitter\":[\"best\",\"random\"],\n",
    "            \"max_depth\" : [11,12,13,14,15,16],\n",
    "           \"min_samples_leaf\":[1,2,3,4,5],\n",
    "           \"min_weight_fraction_leaf\":[0, 0.1,0.2],\n",
    "           \"max_features\":[\"auto\",\"log2\",\"sqrt\",None],\n",
    "           \"max_leaf_nodes\":[None,10] }\n",
    "\n",
    "grid = GridSearchCV(DecisionTreeClassifier(random_state=1), cv=3, n_jobs=-1, verbose=3,\n",
    "                    param_grid =parameters\n",
    "                    )\n",
    "\n",
    "grid.fit(X_train, y_train)\n",
    "\n",
    "print('Train Accuracy : %.3f'%grid.best_estimator_.score(X_train, y_train))\n",
    "print('Test Accuracy : %.3f'%grid.best_estimator_.score(X_test, y_test))\n",
    "print('Best Score Through Grid Search : %.3f'%grid.best_score_)\n",
    "print('Best Parameters : ',grid.best_params_)\n",
    "\n",
    "dt = DecisionTreeClassifier(max_depth=grid.best_params_['max_depth'], \n",
    "                            max_features=grid.best_params_['max_features'],\n",
    "                            max_leaf_nodes=grid.best_params_['max_leaf_nodes'],\n",
    "                            min_samples_leaf=grid.best_params_['min_samples_leaf'],\n",
    "                            min_weight_fraction_leaf=grid.best_params_['min_weight_fraction_leaf'],\n",
    "                            splitter=grid.best_params_['splitter']\n",
    ")\n",
    "dt.fit(X_train, y_train)\n",
    "\n",
    "y_pred = dt.predict(X_test)\n",
    "print('Best Parameters : ',grid.best_params_)\n",
    "evaluate_model('Arboles de decision optimizado',y_test, y_pred)"
   ]
  },
  {
   "cell_type": "markdown",
   "metadata": {},
   "source": [
    "Random Forest default"
   ]
  },
  {
   "cell_type": "code",
   "execution_count": 15,
   "metadata": {},
   "outputs": [
    {
     "data": {
      "text/markdown": [
       "Random Forest default"
      ],
      "text/plain": [
       "<IPython.core.display.Markdown object>"
      ]
     },
     "metadata": {},
     "output_type": "display_data"
    },
    {
     "data": {
      "image/png": "[encoded data removed]",
      "text/plain": [
       "<Figure size 432x288 with 2 Axes>"
      ]
     },
     "metadata": {
      "needs_background": "light"
     },
     "output_type": "display_data"
    },
    {
     "data": {
      "text/html": [
       "<table>\n",
       "<tbody>\n",
       "<tr><td>Precision</td><td>Recall</td><td>Accuracy</td><td>F1  </td></tr>\n",
       "<tr><td>0.94     </td><td>0.80  </td><td>0.98    </td><td>0.87</td></tr>\n",
       "</tbody>\n",
       "</table>"
      ],
      "text/plain": [
       "'<table>\\n<tbody>\\n<tr><td>Precision</td><td>Recall</td><td>Accuracy</td><td>F1  </td></tr>\\n<tr><td>0.94     </td><td>0.80  </td><td>0.98    </td><td>0.87</td></tr>\\n</tbody>\\n</table>'"
      ]
     },
     "metadata": {},
     "output_type": "display_data"
    }
   ],
   "source": [
    "from sklearn.ensemble import RandomForestClassifier\n",
    "\n",
    "#Create a Gaussian Classifier\n",
    "dt=RandomForestClassifier()\n",
    "dt.fit(X_train,y_train)\n",
    "\n",
    "y_pred = dt.predict(X_test)\n",
    "evaluate_model('Random Forest default', y_test, y_pred)"
   ]
  },
  {
   "cell_type": "markdown",
   "metadata": {},
   "source": [
    "Random forest optimizado"
   ]
  },
  {
   "cell_type": "code",
   "execution_count": 16,
   "metadata": {},
   "outputs": [
    {
     "name": "stdout",
     "output_type": "stream",
     "text": [
      "Fitting 3 folds for each of 432 candidates, totalling 1296 fits\n",
      "Train Accuracy : 0.998\n",
      "Test Accuracy : 0.979\n",
      "Best Score Through Grid Search : 0.973\n",
      "Best Parameters :  {'bootstrap': False, 'max_depth': 15, 'max_features': 'auto', 'min_samples_leaf': 1, 'min_samples_split': 2, 'n_estimators': 200}\n"
     ]
    },
    {
     "data": {
      "text/markdown": [
       "Random forest optimizado"
      ],
      "text/plain": [
       "<IPython.core.display.Markdown object>"
      ]
     },
     "metadata": {},
     "output_type": "display_data"
    },
    {
     "data": {
      "image/png": "[encoded data removed]",
      "text/plain": [
       "<Figure size 432x288 with 2 Axes>"
      ]
     },
     "metadata": {
      "needs_background": "light"
     },
     "output_type": "display_data"
    },
    {
     "data": {
      "text/html": [
       "<table>\n",
       "<tbody>\n",
       "<tr><td>Precision</td><td>Recall</td><td>Accuracy</td><td>F1  </td></tr>\n",
       "<tr><td>0.93     </td><td>0.81  </td><td>0.98    </td><td>0.87</td></tr>\n",
       "</tbody>\n",
       "</table>"
      ],
      "text/plain": [
       "'<table>\\n<tbody>\\n<tr><td>Precision</td><td>Recall</td><td>Accuracy</td><td>F1  </td></tr>\\n<tr><td>0.93     </td><td>0.81  </td><td>0.98    </td><td>0.87</td></tr>\\n</tbody>\\n</table>'"
      ]
     },
     "metadata": {},
     "output_type": "display_data"
    }
   ],
   "source": [
    "\n",
    "from sklearn.ensemble import RandomForestClassifier\n",
    "from sklearn.model_selection import GridSearchCV\n",
    "\n",
    "param_grid = {\n",
    "    'bootstrap': [True, False],\n",
    "    'max_depth': [12,13,14,15],\n",
    "    'max_features': [\"auto\", \"sqrt\", \"log2\"],\n",
    "    'min_samples_leaf': [1,2,3],\n",
    "    'min_samples_split': [2, 5 , 10],\n",
    "    'n_estimators': [100, 200]\n",
    "}\n",
    "# Create a based model\n",
    "rf = RandomForestClassifier()\n",
    "# Instantiate the grid search model\n",
    "grid = GridSearchCV(estimator = rf, param_grid = param_grid, cv = 3, n_jobs = -1, verbose = 2)\n",
    "grid.fit(X_train, y_train)\n",
    "\n",
    "print('Train Accuracy : %.3f'%grid.best_estimator_.score(X_train, y_train))\n",
    "print('Test Accuracy : %.3f'%grid.best_estimator_.score(X_test, y_test))\n",
    "print('Best Score Through Grid Search : %.3f'%grid.best_score_)\n",
    "print('Best Parameters : ',grid.best_params_)\n",
    "\n",
    "dt = RandomForestClassifier(bootstrap=grid.best_params_['bootstrap'], \n",
    "                            max_depth=grid.best_params_['max_depth'],\n",
    "                            max_features=grid.best_params_['max_features'],\n",
    "                            min_samples_leaf=grid.best_params_['min_samples_leaf'],\n",
    "                            min_samples_split=grid.best_params_['min_samples_split'],\n",
    "                            n_estimators=grid.best_params_['n_estimators']\n",
    ")\n",
    "dt.fit(X_train, y_train)\n",
    "y_pred = dt.predict(X_test)\n",
    "evaluate_model('Random forest optimizado', y_test, y_pred)\n"
   ]
  },
  {
   "cell_type": "code",
   "execution_count": 17,
   "metadata": {},
   "outputs": [
    {
     "name": "stdout",
     "output_type": "stream",
     "text": [
      "Best Parameters :  {'bootstrap': False, 'max_depth': 15, 'max_features': 'auto', 'min_samples_leaf': 1, 'min_samples_split': 2, 'n_estimators': 200}\n"
     ]
    }
   ],
   "source": [
    "print('Best Parameters : ',grid.best_params_)"
   ]
  },
  {
   "cell_type": "markdown",
   "metadata": {},
   "source": [
    "Support Vector Machine."
   ]
  },
  {
   "cell_type": "code",
   "execution_count": 18,
   "metadata": {},
   "outputs": [
    {
     "name": "stdout",
     "output_type": "stream",
     "text": [
      "Fitting 5 folds for each of 12 candidates, totalling 60 fits\n"
     ]
    },
    {
     "data": {
      "text/markdown": [
       "rbf"
      ],
      "text/plain": [
       "<IPython.core.display.Markdown object>"
      ]
     },
     "metadata": {},
     "output_type": "display_data"
    },
    {
     "data": {
      "image/png": "[encoded data removed]",
      "text/plain": [
       "<Figure size 432x288 with 2 Axes>"
      ]
     },
     "metadata": {
      "needs_background": "light"
     },
     "output_type": "display_data"
    },
    {
     "data": {
      "text/html": [
       "<table>\n",
       "<tbody>\n",
       "<tr><td>Precision</td><td>Recall</td><td>Accuracy</td><td>F1  </td></tr>\n",
       "<tr><td>0.84     </td><td>0.73  </td><td>0.96    </td><td>0.78</td></tr>\n",
       "</tbody>\n",
       "</table>"
      ],
      "text/plain": [
       "'<table>\\n<tbody>\\n<tr><td>Precision</td><td>Recall</td><td>Accuracy</td><td>F1  </td></tr>\\n<tr><td>0.84     </td><td>0.73  </td><td>0.96    </td><td>0.78</td></tr>\\n</tbody>\\n</table>'"
      ]
     },
     "metadata": {},
     "output_type": "display_data"
    },
    {
     "name": "stdout",
     "output_type": "stream",
     "text": [
      "Train Accuracy : 0.983\n",
      "Test Accuracy : 0.965\n",
      "Best Score Through Grid Search : 0.960\n",
      "Best Parameters :  {'C': 100, 'gamma': 1e-06, 'kernel': 'rbf'}\n",
      "Fitting 5 folds for each of 48 candidates, totalling 240 fits\n"
     ]
    },
    {
     "data": {
      "text/markdown": [
       "sigmoid"
      ],
      "text/plain": [
       "<IPython.core.display.Markdown object>"
      ]
     },
     "metadata": {},
     "output_type": "display_data"
    },
    {
     "data": {
      "image/png": "[encoded data removed]",
      "text/plain": [
       "<Figure size 432x288 with 2 Axes>"
      ]
     },
     "metadata": {
      "needs_background": "light"
     },
     "output_type": "display_data"
    },
    {
     "name": "stderr",
     "output_type": "stream",
     "text": [
      "D:\\Users\\nico_\\anaconda3\\lib\\site-packages\\sklearn\\metrics\\_classification.py:1318: UndefinedMetricWarning: Precision is ill-defined and being set to 0.0 due to no predicted samples. Use `zero_division` parameter to control this behavior.\n",
      "  _warn_prf(average, modifier, msg_start, len(result))\n"
     ]
    },
    {
     "data": {
      "text/html": [
       "<table>\n",
       "<tbody>\n",
       "<tr><td>Precision</td><td>Recall</td><td>Accuracy</td><td>F1  </td></tr>\n",
       "<tr><td>0.00     </td><td>0.00  </td><td>0.91    </td><td>0.00</td></tr>\n",
       "</tbody>\n",
       "</table>"
      ],
      "text/plain": [
       "'<table>\\n<tbody>\\n<tr><td>Precision</td><td>Recall</td><td>Accuracy</td><td>F1  </td></tr>\\n<tr><td>0.00     </td><td>0.00  </td><td>0.91    </td><td>0.00</td></tr>\\n</tbody>\\n</table>'"
      ]
     },
     "metadata": {},
     "output_type": "display_data"
    },
    {
     "name": "stdout",
     "output_type": "stream",
     "text": [
      "Train Accuracy : 0.912\n",
      "Test Accuracy : 0.914\n",
      "Best Score Through Grid Search : 0.912\n",
      "Best Parameters :  {'C': 0.001, 'coef0': 0.01, 'gamma': 0.1, 'kernel': 'sigmoid'}\n"
     ]
    }
   ],
   "source": [
    "from sklearn.svm import SVC\n",
    "from sklearn.model_selection import GridSearchCV\n",
    "\n",
    "parameters = [{'kernel': ['rbf'], 'gamma': [1e-2, 1e-3, 1e-4, 1e-5],'C': [0.001, 0.10, 0.1, 10 ]},\n",
    "              {'kernel': ['sigmoid'], 'gamma': [1e-2, 1e-3, 1e-4, 1e-5],'C': [0.001, 0.10, 0.1, 10], 'coef0 ':[0,0.1,1]},\n",
    "              {'kernel': ['linear'], 'C': [0.001, 0.10, 0.1, 1]}     \n",
    "]\n",
    "\n",
    "parameters = [{'kernel': ['rbf'], 'gamma': [1e-4,1e-5,1e-6],'C': [0.001,1,10,100]},\n",
    "              {'kernel': ['sigmoid'], 'gamma': [1e-1,1e-2,1e-3],'C': [0.001, 0.10,0.1,1],'coef0' : [0.01,0.1,1,10]},\n",
    "              #{'kernel': ['linear'], 'C': [1]}\n",
    "              ]\n",
    "\n",
    "for parameter in parameters:\n",
    "    param_grid = parameter\n",
    "    \n",
    "    grid = GridSearchCV(SVC(), param_grid, n_jobs = -1, verbose = 3)\n",
    "    grid.fit(X_train, y_train)\n",
    "    kernel_str = parameter['kernel'][0]\n",
    "    y_pred = grid.predict(X_test)\n",
    "    dt = grid\n",
    "    evaluate_model(kernel_str, y_test, y_pred)\n",
    "    \n",
    "    print('Train Accuracy : %.3f'%grid.best_estimator_.score(X_train, y_train))\n",
    "    print('Test Accuracy : %.3f'%grid.best_estimator_.score(X_test, y_test))\n",
    "    print('Best Score Through Grid Search : %.3f'%grid.best_score_)\n",
    "    print('Best Parameters : ',grid.best_params_)"
   ]
  },
  {
   "cell_type": "markdown",
   "metadata": {},
   "source": [
    "light_gbm default"
   ]
  },
  {
   "cell_type": "code",
   "execution_count": 19,
   "metadata": {},
   "outputs": [
    {
     "data": {
      "text/markdown": [
       "light_gbm default"
      ],
      "text/plain": [
       "<IPython.core.display.Markdown object>"
      ]
     },
     "metadata": {},
     "output_type": "display_data"
    },
    {
     "data": {
      "image/png": "[encoded data removed]",
      "text/plain": [
       "<Figure size 432x288 with 2 Axes>"
      ]
     },
     "metadata": {
      "needs_background": "light"
     },
     "output_type": "display_data"
    },
    {
     "data": {
      "text/html": [
       "<table>\n",
       "<tbody>\n",
       "<tr><td>Precision</td><td>Recall</td><td>Accuracy</td><td>F1  </td></tr>\n",
       "<tr><td>0.90     </td><td>0.78  </td><td>0.97    </td><td>0.83</td></tr>\n",
       "</tbody>\n",
       "</table>"
      ],
      "text/plain": [
       "'<table>\\n<tbody>\\n<tr><td>Precision</td><td>Recall</td><td>Accuracy</td><td>F1  </td></tr>\\n<tr><td>0.90     </td><td>0.78  </td><td>0.97    </td><td>0.83</td></tr>\\n</tbody>\\n</table>'"
      ]
     },
     "metadata": {},
     "output_type": "display_data"
    }
   ],
   "source": [
    "import lightgbm as lgb\n",
    "from sklearn.model_selection import GridSearchCV\n",
    "\n",
    "dt=lgb.LGBMClassifier()\n",
    "dt.fit(X_train,y_train)\n",
    "\n",
    "y_pred = dt.predict(X_test)\n",
    "evaluate_model('light_gbm default',y_test, y_pred)"
   ]
  },
  {
   "cell_type": "markdown",
   "metadata": {},
   "source": [
    "light_gbm con optimizacion bayesiana."
   ]
  },
  {
   "cell_type": "code",
   "execution_count": 20,
   "metadata": {},
   "outputs": [
    {
     "name": "stdout",
     "output_type": "stream",
     "text": [
      "|   iter    |  target   | featur... | lambda_l1 | lambda_l2 | learni... | min_sp... | num_le... |\n",
      "-------------------------------------------------------------------------------------------------\n",
      "[LightGBM] [Warning] objective is set=binary, application=binary will be ignored. Current value: objective=binary\n",
      "| \u001b[0m 1       \u001b[0m | \u001b[0m 0.4127  \u001b[0m | \u001b[0m 0.5451  \u001b[0m | \u001b[0m 2.281   \u001b[0m | \u001b[0m 25.55   \u001b[0m | \u001b[0m 0.04567 \u001b[0m | \u001b[0m 7.546   \u001b[0m | \u001b[0m 1.021e+0\u001b[0m |\n",
      "| \u001b[0m 2       \u001b[0m | \u001b[0m 0.3699  \u001b[0m | \u001b[0m 0.4674  \u001b[0m | \u001b[0m 7.719   \u001b[0m | \u001b[0m 76.05   \u001b[0m | \u001b[0m 0.0379  \u001b[0m | \u001b[0m 6.931   \u001b[0m | \u001b[0m 365.4   \u001b[0m |\n",
      "| \u001b[0m 3       \u001b[0m | \u001b[0m 0.3474  \u001b[0m | \u001b[0m 0.2309  \u001b[0m | \u001b[0m 9.727   \u001b[0m | \u001b[0m 90.92   \u001b[0m | \u001b[0m 0.0604  \u001b[0m | \u001b[0m 6.272   \u001b[0m | \u001b[0m 910.4   \u001b[0m |\n",
      "| \u001b[0m 4       \u001b[0m | \u001b[0m 0.3487  \u001b[0m | \u001b[0m 0.7071  \u001b[0m | \u001b[0m 3.911   \u001b[0m | \u001b[0m 50.72   \u001b[0m | \u001b[0m 0.05717 \u001b[0m | \u001b[0m 18.56   \u001b[0m | \u001b[0m 588.5   \u001b[0m |\n",
      "| \u001b[95m 5       \u001b[0m | \u001b[95m 0.4673  \u001b[0m | \u001b[95m 0.7015  \u001b[0m | \u001b[95m 0.5226  \u001b[0m | \u001b[95m 32.71   \u001b[0m | \u001b[95m 0.01508 \u001b[0m | \u001b[95m 3.597   \u001b[0m | \u001b[95m 948.7   \u001b[0m |\n",
      "| \u001b[0m 6       \u001b[0m | \u001b[0m 0.3317  \u001b[0m | \u001b[0m 0.9442  \u001b[0m | \u001b[0m 7.141   \u001b[0m | \u001b[0m 73.27   \u001b[0m | \u001b[0m 0.05156 \u001b[0m | \u001b[0m 18.63   \u001b[0m | \u001b[0m 420.9   \u001b[0m |\n",
      "| \u001b[0m 7       \u001b[0m | \u001b[0m 0.3528  \u001b[0m | \u001b[0m 0.7149  \u001b[0m | \u001b[0m 6.499   \u001b[0m | \u001b[0m 59.88   \u001b[0m | \u001b[0m 0.02998 \u001b[0m | \u001b[0m 13.65   \u001b[0m | \u001b[0m 900.1   \u001b[0m |\n",
      "| \u001b[0m 8       \u001b[0m | \u001b[0m 0.3397  \u001b[0m | \u001b[0m 0.817   \u001b[0m | \u001b[0m 4.32    \u001b[0m | \u001b[0m 91.79   \u001b[0m | \u001b[0m 0.08037 \u001b[0m | \u001b[0m 14.52   \u001b[0m | \u001b[0m 134.9   \u001b[0m |\n",
      "| \u001b[0m 9       \u001b[0m | \u001b[0m 0.4072  \u001b[0m | \u001b[0m 0.9247  \u001b[0m | \u001b[0m 3.877   \u001b[0m | \u001b[0m 29.49   \u001b[0m | \u001b[0m 0.06551 \u001b[0m | \u001b[0m 9.357   \u001b[0m | \u001b[0m 267.4   \u001b[0m |\n",
      "| \u001b[0m 10      \u001b[0m | \u001b[0m 0.4145  \u001b[0m | \u001b[0m 0.8551  \u001b[0m | \u001b[0m 1.786   \u001b[0m | \u001b[0m 22.71   \u001b[0m | \u001b[0m 0.06939 \u001b[0m | \u001b[0m 9.582   \u001b[0m | \u001b[0m 82.62   \u001b[0m |\n",
      "| \u001b[0m 11      \u001b[0m | \u001b[0m 0.3307  \u001b[0m | \u001b[0m 0.2251  \u001b[0m | \u001b[0m 1.123   \u001b[0m | \u001b[0m 47.78   \u001b[0m | \u001b[0m 0.05863 \u001b[0m | \u001b[0m 19.16   \u001b[0m | \u001b[0m 601.1   \u001b[0m |\n",
      "| \u001b[0m 12      \u001b[0m | \u001b[0m 0.3256  \u001b[0m | \u001b[0m 0.574   \u001b[0m | \u001b[0m 9.223   \u001b[0m | \u001b[0m 91.93   \u001b[0m | \u001b[0m 0.03268 \u001b[0m | \u001b[0m 13.65   \u001b[0m | \u001b[0m 987.7   \u001b[0m |\n",
      "| \u001b[0m 13      \u001b[0m | \u001b[0m 0.3095  \u001b[0m | \u001b[0m 0.3043  \u001b[0m | \u001b[0m 7.16    \u001b[0m | \u001b[0m 79.78   \u001b[0m | \u001b[0m 0.09431 \u001b[0m | \u001b[0m 17.07   \u001b[0m | \u001b[0m 436.3   \u001b[0m |\n",
      "| \u001b[0m 14      \u001b[0m | \u001b[0m 0.4008  \u001b[0m | \u001b[0m 0.1049  \u001b[0m | \u001b[0m 0.3487  \u001b[0m | \u001b[0m 1.391   \u001b[0m | \u001b[0m 0.063   \u001b[0m | \u001b[0m 7.66    \u001b[0m | \u001b[0m 124.7   \u001b[0m |\n",
      "| \u001b[0m 15      \u001b[0m | \u001b[0m 0.376   \u001b[0m | \u001b[0m 0.878   \u001b[0m | \u001b[0m 8.217   \u001b[0m | \u001b[0m 73.75   \u001b[0m | \u001b[0m 0.08563 \u001b[0m | \u001b[0m 8.031   \u001b[0m | \u001b[0m 768.6   \u001b[0m |\n",
      "| \u001b[0m 16      \u001b[0m | \u001b[0m 0.3915  \u001b[0m | \u001b[0m 0.6037  \u001b[0m | \u001b[0m 6.132   \u001b[0m | \u001b[0m 29.81   \u001b[0m | \u001b[0m 0.06421 \u001b[0m | \u001b[0m 8.514   \u001b[0m | \u001b[0m 555.2   \u001b[0m |\n",
      "| \u001b[0m 17      \u001b[0m | \u001b[0m 0.4464  \u001b[0m | \u001b[0m 0.5381  \u001b[0m | \u001b[0m 4.999   \u001b[0m | \u001b[0m 91.75   \u001b[0m | \u001b[0m 0.03366 \u001b[0m | \u001b[0m 0.994   \u001b[0m | \u001b[0m 478.1   \u001b[0m |\n",
      "| \u001b[0m 18      \u001b[0m | \u001b[0m 0.3728  \u001b[0m | \u001b[0m 0.4674  \u001b[0m | \u001b[0m 4.87    \u001b[0m | \u001b[0m 7.052   \u001b[0m | \u001b[0m 0.06239 \u001b[0m | \u001b[0m 19.74   \u001b[0m | \u001b[0m 220.4   \u001b[0m |\n",
      "| \u001b[0m 19      \u001b[0m | \u001b[0m 0.3462  \u001b[0m | \u001b[0m 0.2911  \u001b[0m | \u001b[0m 9.611   \u001b[0m | \u001b[0m 70.7    \u001b[0m | \u001b[0m 0.06337 \u001b[0m | \u001b[0m 7.617   \u001b[0m | \u001b[0m 657.0   \u001b[0m |\n",
      "| \u001b[0m 20      \u001b[0m | \u001b[0m 0.4505  \u001b[0m | \u001b[0m 0.5522  \u001b[0m | \u001b[0m 0.8979  \u001b[0m | \u001b[0m 29.72   \u001b[0m | \u001b[0m 0.08453 \u001b[0m | \u001b[0m 3.509   \u001b[0m | \u001b[0m 927.0   \u001b[0m |\n",
      "| \u001b[95m 21      \u001b[0m | \u001b[95m 0.4845  \u001b[0m | \u001b[95m 0.6295  \u001b[0m | \u001b[95m 0.1653  \u001b[0m | \u001b[95m 37.0    \u001b[0m | \u001b[95m 0.01379 \u001b[0m | \u001b[95m 2.546   \u001b[0m | \u001b[95m 190.1   \u001b[0m |\n",
      "| \u001b[0m 22      \u001b[0m | \u001b[0m 0.3395  \u001b[0m | \u001b[0m 0.2498  \u001b[0m | \u001b[0m 8.837   \u001b[0m | \u001b[0m 90.6    \u001b[0m | \u001b[0m 0.03119 \u001b[0m | \u001b[0m 8.145   \u001b[0m | \u001b[0m 486.7   \u001b[0m |\n",
      "| \u001b[0m 23      \u001b[0m | \u001b[0m 0.3785  \u001b[0m | \u001b[0m 0.8472  \u001b[0m | \u001b[0m 2.92    \u001b[0m | \u001b[0m 17.38   \u001b[0m | \u001b[0m 0.05123 \u001b[0m | \u001b[0m 18.05   \u001b[0m | \u001b[0m 612.5   \u001b[0m |\n",
      "| \u001b[0m 24      \u001b[0m | \u001b[0m 0.3995  \u001b[0m | \u001b[0m 0.4714  \u001b[0m | \u001b[0m 4.057   \u001b[0m | \u001b[0m 30.85   \u001b[0m | \u001b[0m 0.03861 \u001b[0m | \u001b[0m 8.302   \u001b[0m | \u001b[0m 656.4   \u001b[0m |\n",
      "| \u001b[0m 25      \u001b[0m | \u001b[0m 0.4212  \u001b[0m | \u001b[0m 0.8157  \u001b[0m | \u001b[0m 0.3703  \u001b[0m | \u001b[0m 73.45   \u001b[0m | \u001b[0m 0.07953 \u001b[0m | \u001b[0m 4.888   \u001b[0m | \u001b[0m 1.009e+0\u001b[0m |\n",
      "| \u001b[0m 26      \u001b[0m | \u001b[0m 0.3671  \u001b[0m | \u001b[0m 0.7075  \u001b[0m | \u001b[0m 8.928   \u001b[0m | \u001b[0m 24.31   \u001b[0m | \u001b[0m 0.01465 \u001b[0m | \u001b[0m 14.19   \u001b[0m | \u001b[0m 980.6   \u001b[0m |\n",
      "| \u001b[0m 27      \u001b[0m | \u001b[0m 0.3569  \u001b[0m | \u001b[0m 0.1206  \u001b[0m | \u001b[0m 9.131   \u001b[0m | \u001b[0m 72.83   \u001b[0m | \u001b[0m 0.09599 \u001b[0m | \u001b[0m 5.463   \u001b[0m | \u001b[0m 181.3   \u001b[0m |\n",
      "| \u001b[0m 28      \u001b[0m | \u001b[0m 0.3603  \u001b[0m | \u001b[0m 0.3903  \u001b[0m | \u001b[0m 2.772   \u001b[0m | \u001b[0m 49.06   \u001b[0m | \u001b[0m 0.02176 \u001b[0m | \u001b[0m 14.76   \u001b[0m | \u001b[0m 150.6   \u001b[0m |\n",
      "| \u001b[0m 29      \u001b[0m | \u001b[0m 0.3956  \u001b[0m | \u001b[0m 0.6136  \u001b[0m | \u001b[0m 5.333   \u001b[0m | \u001b[0m 23.35   \u001b[0m | \u001b[0m 0.05292 \u001b[0m | \u001b[0m 9.295   \u001b[0m | \u001b[0m 826.9   \u001b[0m |\n",
      "| \u001b[0m 30      \u001b[0m | \u001b[0m 0.3466  \u001b[0m | \u001b[0m 0.1167  \u001b[0m | \u001b[0m 7.128   \u001b[0m | \u001b[0m 25.1    \u001b[0m | \u001b[0m 0.06945 \u001b[0m | \u001b[0m 12.73   \u001b[0m | \u001b[0m 65.9    \u001b[0m |\n",
      "| \u001b[0m 31      \u001b[0m | \u001b[0m 0.4354  \u001b[0m | \u001b[0m 0.747   \u001b[0m | \u001b[0m 3.399   \u001b[0m | \u001b[0m 54.96   \u001b[0m | \u001b[0m 0.07699 \u001b[0m | \u001b[0m 3.57    \u001b[0m | \u001b[0m 262.7   \u001b[0m |\n",
      "| \u001b[0m 32      \u001b[0m | \u001b[0m 0.3888  \u001b[0m | \u001b[0m 0.2205  \u001b[0m | \u001b[0m 1.508   \u001b[0m | \u001b[0m 93.9    \u001b[0m | \u001b[0m 0.09743 \u001b[0m | \u001b[0m 2.851   \u001b[0m | \u001b[0m 207.0   \u001b[0m |\n",
      "| \u001b[0m 33      \u001b[0m | \u001b[0m 0.3537  \u001b[0m | \u001b[0m 0.1904  \u001b[0m | \u001b[0m 0.8181  \u001b[0m | \u001b[0m 76.84   \u001b[0m | \u001b[0m 0.02893 \u001b[0m | \u001b[0m 9.244   \u001b[0m | \u001b[0m 93.35   \u001b[0m |\n",
      "| \u001b[0m 34      \u001b[0m | \u001b[0m 0.3552  \u001b[0m | \u001b[0m 0.3984  \u001b[0m | \u001b[0m 9.883   \u001b[0m | \u001b[0m 90.03   \u001b[0m | \u001b[0m 0.08788 \u001b[0m | \u001b[0m 7.685   \u001b[0m | \u001b[0m 719.8   \u001b[0m |\n",
      "| \u001b[0m 35      \u001b[0m | \u001b[0m 0.3724  \u001b[0m | \u001b[0m 0.1334  \u001b[0m | \u001b[0m 5.013   \u001b[0m | \u001b[0m 11.39   \u001b[0m | \u001b[0m 0.07603 \u001b[0m | \u001b[0m 8.736   \u001b[0m | \u001b[0m 340.2   \u001b[0m |\n",
      "| \u001b[95m 36      \u001b[0m | \u001b[95m 0.5607  \u001b[0m | \u001b[95m 0.7764  \u001b[0m | \u001b[95m 2.631   \u001b[0m | \u001b[95m 48.51   \u001b[0m | \u001b[95m 0.01059 \u001b[0m | \u001b[95m 0.1054  \u001b[0m | \u001b[95m 584.7   \u001b[0m |\n",
      "| \u001b[0m 37      \u001b[0m | \u001b[0m 0.4327  \u001b[0m | \u001b[0m 0.4177  \u001b[0m | \u001b[0m 3.751   \u001b[0m | \u001b[0m 36.51   \u001b[0m | \u001b[0m 0.03781 \u001b[0m | \u001b[0m 3.418   \u001b[0m | \u001b[0m 1.003e+0\u001b[0m |\n",
      "| \u001b[0m 38      \u001b[0m | \u001b[0m 0.3669  \u001b[0m | \u001b[0m 0.7976  \u001b[0m | \u001b[0m 9.722   \u001b[0m | \u001b[0m 52.55   \u001b[0m | \u001b[0m 0.03146 \u001b[0m | \u001b[0m 9.703   \u001b[0m | \u001b[0m 606.7   \u001b[0m |\n",
      "| \u001b[0m 39      \u001b[0m | \u001b[0m 0.381   \u001b[0m | \u001b[0m 0.5504  \u001b[0m | \u001b[0m 4.297   \u001b[0m | \u001b[0m 25.08   \u001b[0m | \u001b[0m 0.01517 \u001b[0m | \u001b[0m 12.87   \u001b[0m | \u001b[0m 263.5   \u001b[0m |\n",
      "| \u001b[0m 40      \u001b[0m | \u001b[0m 0.4138  \u001b[0m | \u001b[0m 0.2724  \u001b[0m | \u001b[0m 5.107   \u001b[0m | \u001b[0m 38.07   \u001b[0m | \u001b[0m 0.09252 \u001b[0m | \u001b[0m 1.045   \u001b[0m | \u001b[0m 391.6   \u001b[0m |\n",
      "| \u001b[0m 41      \u001b[0m | \u001b[0m 0.3577  \u001b[0m | \u001b[0m 0.5479  \u001b[0m | \u001b[0m 5.793   \u001b[0m | \u001b[0m 80.75   \u001b[0m | \u001b[0m 0.09033 \u001b[0m | \u001b[0m 9.443   \u001b[0m | \u001b[0m 108.3   \u001b[0m |\n",
      "| \u001b[0m 42      \u001b[0m | \u001b[0m 0.4177  \u001b[0m | \u001b[0m 0.7547  \u001b[0m | \u001b[0m 4.89    \u001b[0m | \u001b[0m 70.25   \u001b[0m | \u001b[0m 0.04216 \u001b[0m | \u001b[0m 3.875   \u001b[0m | \u001b[0m 350.9   \u001b[0m |\n",
      "| \u001b[0m 43      \u001b[0m | \u001b[0m 0.3167  \u001b[0m | \u001b[0m 0.5919  \u001b[0m | \u001b[0m 9.589   \u001b[0m | \u001b[0m 91.6    \u001b[0m | \u001b[0m 0.0736  \u001b[0m | \u001b[0m 17.31   \u001b[0m | \u001b[0m 239.8   \u001b[0m |\n",
      "| \u001b[0m 44      \u001b[0m | \u001b[0m 0.4094  \u001b[0m | \u001b[0m 0.8215  \u001b[0m | \u001b[0m 7.391   \u001b[0m | \u001b[0m 19.47   \u001b[0m | \u001b[0m 0.02326 \u001b[0m | \u001b[0m 7.346   \u001b[0m | \u001b[0m 364.0   \u001b[0m |\n",
      "| \u001b[0m 45      \u001b[0m | \u001b[0m 0.3763  \u001b[0m | \u001b[0m 0.1997  \u001b[0m | \u001b[0m 1.7     \u001b[0m | \u001b[0m 65.79   \u001b[0m | \u001b[0m 0.09519 \u001b[0m | \u001b[0m 5.109   \u001b[0m | \u001b[0m 119.2   \u001b[0m |\n",
      "| \u001b[0m 46      \u001b[0m | \u001b[0m 0.3845  \u001b[0m | \u001b[0m 0.8066  \u001b[0m | \u001b[0m 4.888   \u001b[0m | \u001b[0m 61.2    \u001b[0m | \u001b[0m 0.09084 \u001b[0m | \u001b[0m 7.823   \u001b[0m | \u001b[0m 117.9   \u001b[0m |\n",
      "| \u001b[0m 47      \u001b[0m | \u001b[0m 0.3638  \u001b[0m | \u001b[0m 0.385   \u001b[0m | \u001b[0m 0.2025  \u001b[0m | \u001b[0m 59.32   \u001b[0m | \u001b[0m 0.06261 \u001b[0m | \u001b[0m 13.82   \u001b[0m | \u001b[0m 688.9   \u001b[0m |\n",
      "| \u001b[0m 48      \u001b[0m | \u001b[0m 0.3512  \u001b[0m | \u001b[0m 0.3117  \u001b[0m | \u001b[0m 5.857   \u001b[0m | \u001b[0m 19.71   \u001b[0m | \u001b[0m 0.0689  \u001b[0m | \u001b[0m 12.97   \u001b[0m | \u001b[0m 212.2   \u001b[0m |\n",
      "| \u001b[0m 49      \u001b[0m | \u001b[0m 0.3518  \u001b[0m | \u001b[0m 0.1211  \u001b[0m | \u001b[0m 7.794   \u001b[0m | \u001b[0m 1.317   \u001b[0m | \u001b[0m 0.0675  \u001b[0m | \u001b[0m 15.1    \u001b[0m | \u001b[0m 660.7   \u001b[0m |\n",
      "| \u001b[0m 50      \u001b[0m | \u001b[0m 0.4401  \u001b[0m | \u001b[0m 0.8665  \u001b[0m | \u001b[0m 6.318   \u001b[0m | \u001b[0m 30.34   \u001b[0m | \u001b[0m 0.04723 \u001b[0m | \u001b[0m 3.36    \u001b[0m | \u001b[0m 828.7   \u001b[0m |\n",
      "| \u001b[0m 51      \u001b[0m | \u001b[0m 0.3384  \u001b[0m | \u001b[0m 0.4923  \u001b[0m | \u001b[0m 3.956   \u001b[0m | \u001b[0m 56.68   \u001b[0m | \u001b[0m 0.0799  \u001b[0m | \u001b[0m 18.89   \u001b[0m | \u001b[0m 341.1   \u001b[0m |\n",
      "| \u001b[0m 52      \u001b[0m | \u001b[0m 0.3553  \u001b[0m | \u001b[0m 0.3082  \u001b[0m | \u001b[0m 7.079   \u001b[0m | \u001b[0m 85.3    \u001b[0m | \u001b[0m 0.01216 \u001b[0m | \u001b[0m 4.969   \u001b[0m | \u001b[0m 407.4   \u001b[0m |\n",
      "| \u001b[0m 53      \u001b[0m | \u001b[0m 0.3918  \u001b[0m | \u001b[0m 0.3028  \u001b[0m | \u001b[0m 4.548   \u001b[0m | \u001b[0m 83.25   \u001b[0m | \u001b[0m 0.06522 \u001b[0m | \u001b[0m 2.037   \u001b[0m | \u001b[0m 425.6   \u001b[0m |\n",
      "| \u001b[0m 54      \u001b[0m | \u001b[0m 0.3859  \u001b[0m | \u001b[0m 0.9161  \u001b[0m | \u001b[0m 2.592   \u001b[0m | \u001b[0m 13.95   \u001b[0m | \u001b[0m 0.03158 \u001b[0m | \u001b[0m 18.1    \u001b[0m | \u001b[0m 349.5   \u001b[0m |\n",
      "| \u001b[0m 55      \u001b[0m | \u001b[0m 0.3447  \u001b[0m | \u001b[0m 0.2453  \u001b[0m | \u001b[0m 2.995   \u001b[0m | \u001b[0m 56.74   \u001b[0m | \u001b[0m 0.04908 \u001b[0m | \u001b[0m 12.26   \u001b[0m | \u001b[0m 562.5   \u001b[0m |\n",
      "| \u001b[0m 56      \u001b[0m | \u001b[0m 0.3217  \u001b[0m | \u001b[0m 0.7333  \u001b[0m | \u001b[0m 8.162   \u001b[0m | \u001b[0m 86.56   \u001b[0m | \u001b[0m 0.03397 \u001b[0m | \u001b[0m 17.08   \u001b[0m | \u001b[0m 282.1   \u001b[0m |\n",
      "| \u001b[0m 57      \u001b[0m | \u001b[0m 0.3579  \u001b[0m | \u001b[0m 0.3418  \u001b[0m | \u001b[0m 9.141   \u001b[0m | \u001b[0m 46.49   \u001b[0m | \u001b[0m 0.06449 \u001b[0m | \u001b[0m 6.481   \u001b[0m | \u001b[0m 876.1   \u001b[0m |\n",
      "| \u001b[0m 58      \u001b[0m | \u001b[0m 0.3579  \u001b[0m | \u001b[0m 0.9841  \u001b[0m | \u001b[0m 7.924   \u001b[0m | \u001b[0m 34.74   \u001b[0m | \u001b[0m 0.02753 \u001b[0m | \u001b[0m 16.12   \u001b[0m | \u001b[0m 232.1   \u001b[0m |\n",
      "| \u001b[0m 59      \u001b[0m | \u001b[0m 0.4283  \u001b[0m | \u001b[0m 0.7595  \u001b[0m | \u001b[0m 7.914   \u001b[0m | \u001b[0m 5.462   \u001b[0m | \u001b[0m 0.03151 \u001b[0m | \u001b[0m 5.876   \u001b[0m | \u001b[0m 167.2   \u001b[0m |\n",
      "| \u001b[0m 60      \u001b[0m | \u001b[0m 0.4103  \u001b[0m | \u001b[0m 0.6099  \u001b[0m | \u001b[0m 3.588   \u001b[0m | \u001b[0m 32.16   \u001b[0m | \u001b[0m 0.0881  \u001b[0m | \u001b[0m 6.125   \u001b[0m | \u001b[0m 521.8   \u001b[0m |\n",
      "| \u001b[0m 61      \u001b[0m | \u001b[0m 0.3713  \u001b[0m | \u001b[0m 0.1587  \u001b[0m | \u001b[0m 0.5055  \u001b[0m | \u001b[0m 59.35   \u001b[0m | \u001b[0m 0.0292  \u001b[0m | \u001b[0m 6.633   \u001b[0m | \u001b[0m 217.5   \u001b[0m |\n",
      "| \u001b[0m 62      \u001b[0m | \u001b[0m 0.3392  \u001b[0m | \u001b[0m 0.3792  \u001b[0m | \u001b[0m 9.488   \u001b[0m | \u001b[0m 84.27   \u001b[0m | \u001b[0m 0.07259 \u001b[0m | \u001b[0m 11.77   \u001b[0m | \u001b[0m 861.8   \u001b[0m |\n",
      "| \u001b[0m 63      \u001b[0m | \u001b[0m 0.3334  \u001b[0m | \u001b[0m 0.5661  \u001b[0m | \u001b[0m 8.692   \u001b[0m | \u001b[0m 72.04   \u001b[0m | \u001b[0m 0.02631 \u001b[0m | \u001b[0m 14.73   \u001b[0m | \u001b[0m 669.9   \u001b[0m |\n",
      "| \u001b[0m 64      \u001b[0m | \u001b[0m 0.3865  \u001b[0m | \u001b[0m 0.5011  \u001b[0m | \u001b[0m 3.494   \u001b[0m | \u001b[0m 67.2    \u001b[0m | \u001b[0m 0.03278 \u001b[0m | \u001b[0m 6.952   \u001b[0m | \u001b[0m 403.8   \u001b[0m |\n",
      "| \u001b[0m 65      \u001b[0m | \u001b[0m 0.3739  \u001b[0m | \u001b[0m 0.7335  \u001b[0m | \u001b[0m 5.161   \u001b[0m | \u001b[0m 92.55   \u001b[0m | \u001b[0m 0.093   \u001b[0m | \u001b[0m 7.014   \u001b[0m | \u001b[0m 603.5   \u001b[0m |\n",
      "| \u001b[0m 66      \u001b[0m | \u001b[0m 0.3641  \u001b[0m | \u001b[0m 0.9534  \u001b[0m | \u001b[0m 5.875   \u001b[0m | \u001b[0m 81.57   \u001b[0m | \u001b[0m 0.02232 \u001b[0m | \u001b[0m 10.55   \u001b[0m | \u001b[0m 732.3   \u001b[0m |\n",
      "| \u001b[0m 67      \u001b[0m | \u001b[0m 0.4732  \u001b[0m | \u001b[0m 0.7322  \u001b[0m | \u001b[0m 1.879   \u001b[0m | \u001b[0m 6.648   \u001b[0m | \u001b[0m 0.0902  \u001b[0m | \u001b[0m 5.256   \u001b[0m | \u001b[0m 950.7   \u001b[0m |\n",
      "| \u001b[0m 68      \u001b[0m | \u001b[0m 0.4454  \u001b[0m | \u001b[0m 0.4027  \u001b[0m | \u001b[0m 2.566   \u001b[0m | \u001b[0m 41.26   \u001b[0m | \u001b[0m 0.07921 \u001b[0m | \u001b[0m 2.707   \u001b[0m | \u001b[0m 601.5   \u001b[0m |\n",
      "| \u001b[0m 69      \u001b[0m | \u001b[0m 0.4777  \u001b[0m | \u001b[0m 0.8816  \u001b[0m | \u001b[0m 2.531   \u001b[0m | \u001b[0m 6.59    \u001b[0m | \u001b[0m 0.04963 \u001b[0m | \u001b[0m 6.275   \u001b[0m | \u001b[0m 441.1   \u001b[0m |\n",
      "| \u001b[0m 70      \u001b[0m | \u001b[0m 0.3639  \u001b[0m | \u001b[0m 0.3203  \u001b[0m | \u001b[0m 0.9552  \u001b[0m | \u001b[0m 24.15   \u001b[0m | \u001b[0m 0.0405  \u001b[0m | \u001b[0m 11.2    \u001b[0m | \u001b[0m 765.8   \u001b[0m |\n",
      "| \u001b[0m 71      \u001b[0m | \u001b[0m 0.3462  \u001b[0m | \u001b[0m 0.9584  \u001b[0m | \u001b[0m 7.558   \u001b[0m | \u001b[0m 43.37   \u001b[0m | \u001b[0m 0.01533 \u001b[0m | \u001b[0m 18.49   \u001b[0m | \u001b[0m 420.3   \u001b[0m |\n",
      "| \u001b[0m 72      \u001b[0m | \u001b[0m 0.3343  \u001b[0m | \u001b[0m 0.1958  \u001b[0m | \u001b[0m 5.994   \u001b[0m | \u001b[0m 28.88   \u001b[0m | \u001b[0m 0.01724 \u001b[0m | \u001b[0m 16.56   \u001b[0m | \u001b[0m 573.0   \u001b[0m |\n",
      "| \u001b[0m 73      \u001b[0m | \u001b[0m 0.3793  \u001b[0m | \u001b[0m 0.2209  \u001b[0m | \u001b[0m 2.27    \u001b[0m | \u001b[0m 67.81   \u001b[0m | \u001b[0m 0.08056 \u001b[0m | \u001b[0m 4.332   \u001b[0m | \u001b[0m 403.4   \u001b[0m |\n",
      "| \u001b[0m 74      \u001b[0m | \u001b[0m 0.3771  \u001b[0m | \u001b[0m 0.6691  \u001b[0m | \u001b[0m 0.6295  \u001b[0m | \u001b[0m 43.59   \u001b[0m | \u001b[0m 0.07083 \u001b[0m | \u001b[0m 14.3    \u001b[0m | \u001b[0m 168.0   \u001b[0m |\n",
      "| \u001b[0m 75      \u001b[0m | \u001b[0m 0.3536  \u001b[0m | \u001b[0m 0.1916  \u001b[0m | \u001b[0m 6.834   \u001b[0m | \u001b[0m 57.99   \u001b[0m | \u001b[0m 0.01373 \u001b[0m | \u001b[0m 7.647   \u001b[0m | \u001b[0m 625.5   \u001b[0m |\n",
      "| \u001b[0m 76      \u001b[0m | \u001b[0m 0.418   \u001b[0m | \u001b[0m 0.6836  \u001b[0m | \u001b[0m 0.3236  \u001b[0m | \u001b[0m 27.06   \u001b[0m | \u001b[0m 0.01495 \u001b[0m | \u001b[0m 9.076   \u001b[0m | \u001b[0m 916.2   \u001b[0m |\n",
      "| \u001b[0m 77      \u001b[0m | \u001b[0m 0.4371  \u001b[0m | \u001b[0m 0.5543  \u001b[0m | \u001b[0m 8.582   \u001b[0m | \u001b[0m 39.5    \u001b[0m | \u001b[0m 0.06679 \u001b[0m | \u001b[0m 1.531   \u001b[0m | \u001b[0m 347.6   \u001b[0m |\n",
      "| \u001b[0m 78      \u001b[0m | \u001b[0m 0.349   \u001b[0m | \u001b[0m 0.1361  \u001b[0m | \u001b[0m 6.001   \u001b[0m | \u001b[0m 57.46   \u001b[0m | \u001b[0m 0.09025 \u001b[0m | \u001b[0m 9.646   \u001b[0m | \u001b[0m 98.65   \u001b[0m |\n",
      "| \u001b[0m 79      \u001b[0m | \u001b[0m 0.363   \u001b[0m | \u001b[0m 0.9277  \u001b[0m | \u001b[0m 2.249   \u001b[0m | \u001b[0m 71.83   \u001b[0m | \u001b[0m 0.08352 \u001b[0m | \u001b[0m 13.93   \u001b[0m | \u001b[0m 914.4   \u001b[0m |\n",
      "| \u001b[0m 80      \u001b[0m | \u001b[0m 0.3403  \u001b[0m | \u001b[0m 0.3009  \u001b[0m | \u001b[0m 2.147   \u001b[0m | \u001b[0m 30.49   \u001b[0m | \u001b[0m 0.03417 \u001b[0m | \u001b[0m 17.22   \u001b[0m | \u001b[0m 403.0   \u001b[0m |\n",
      "| \u001b[0m 81      \u001b[0m | \u001b[0m 0.39    \u001b[0m | \u001b[0m 0.4542  \u001b[0m | \u001b[0m 3.679   \u001b[0m | \u001b[0m 95.62   \u001b[0m | \u001b[0m 0.01646 \u001b[0m | \u001b[0m 4.718   \u001b[0m | \u001b[0m 31.05   \u001b[0m |\n",
      "| \u001b[0m 82      \u001b[0m | \u001b[0m 0.4116  \u001b[0m | \u001b[0m 0.8893  \u001b[0m | \u001b[0m 5.548   \u001b[0m | \u001b[0m 16.17   \u001b[0m | \u001b[0m 0.04857 \u001b[0m | \u001b[0m 10.26   \u001b[0m | \u001b[0m 444.8   \u001b[0m |\n",
      "| \u001b[0m 83      \u001b[0m | \u001b[0m 0.3165  \u001b[0m | \u001b[0m 0.1021  \u001b[0m | \u001b[0m 9.703   \u001b[0m | \u001b[0m 98.14   \u001b[0m | \u001b[0m 0.05069 \u001b[0m | \u001b[0m 11.88   \u001b[0m | \u001b[0m 36.52   \u001b[0m |\n",
      "| \u001b[0m 84      \u001b[0m | \u001b[0m 0.3828  \u001b[0m | \u001b[0m 0.6682  \u001b[0m | \u001b[0m 8.493   \u001b[0m | \u001b[0m 85.01   \u001b[0m | \u001b[0m 0.09608 \u001b[0m | \u001b[0m 4.948   \u001b[0m | \u001b[0m 923.5   \u001b[0m |\n",
      "| \u001b[0m 85      \u001b[0m | \u001b[0m 0.3775  \u001b[0m | \u001b[0m 0.885   \u001b[0m | \u001b[0m 6.299   \u001b[0m | \u001b[0m 29.8    \u001b[0m | \u001b[0m 0.05091 \u001b[0m | \u001b[0m 13.79   \u001b[0m | \u001b[0m 967.9   \u001b[0m |\n",
      "| \u001b[0m 86      \u001b[0m | \u001b[0m 0.4109  \u001b[0m | \u001b[0m 0.9844  \u001b[0m | \u001b[0m 2.403   \u001b[0m | \u001b[0m 63.34   \u001b[0m | \u001b[0m 0.03904 \u001b[0m | \u001b[0m 6.874   \u001b[0m | \u001b[0m 504.4   \u001b[0m |\n",
      "| \u001b[0m 87      \u001b[0m | \u001b[0m 0.4213  \u001b[0m | \u001b[0m 0.8064  \u001b[0m | \u001b[0m 0.3579  \u001b[0m | \u001b[0m 41.84   \u001b[0m | \u001b[0m 0.02699 \u001b[0m | \u001b[0m 7.112   \u001b[0m | \u001b[0m 921.1   \u001b[0m |\n",
      "| \u001b[0m 88      \u001b[0m | \u001b[0m 0.4279  \u001b[0m | \u001b[0m 0.9689  \u001b[0m | \u001b[0m 4.35    \u001b[0m | \u001b[0m 80.16   \u001b[0m | \u001b[0m 0.07913 \u001b[0m | \u001b[0m 3.663   \u001b[0m | \u001b[0m 31.11   \u001b[0m |\n",
      "| \u001b[0m 89      \u001b[0m | \u001b[0m 0.4353  \u001b[0m | \u001b[0m 0.6657  \u001b[0m | \u001b[0m 3.688   \u001b[0m | \u001b[0m 1.606   \u001b[0m | \u001b[0m 0.07226 \u001b[0m | \u001b[0m 11.65   \u001b[0m | \u001b[0m 234.7   \u001b[0m |\n",
      "| \u001b[0m 90      \u001b[0m | \u001b[0m 0.4148  \u001b[0m | \u001b[0m 0.8201  \u001b[0m | \u001b[0m 1.163   \u001b[0m | \u001b[0m 47.67   \u001b[0m | \u001b[0m 0.04718 \u001b[0m | \u001b[0m 6.777   \u001b[0m | \u001b[0m 446.3   \u001b[0m |\n",
      "| \u001b[0m 91      \u001b[0m | \u001b[0m 0.4117  \u001b[0m | \u001b[0m 0.9974  \u001b[0m | \u001b[0m 9.028   \u001b[0m | \u001b[0m 25.65   \u001b[0m | \u001b[0m 0.09574 \u001b[0m | \u001b[0m 6.626   \u001b[0m | \u001b[0m 41.25   \u001b[0m |\n",
      "| \u001b[0m 92      \u001b[0m | \u001b[0m 0.3765  \u001b[0m | \u001b[0m 0.4996  \u001b[0m | \u001b[0m 0.9444  \u001b[0m | \u001b[0m 98.55   \u001b[0m | \u001b[0m 0.02665 \u001b[0m | \u001b[0m 7.297   \u001b[0m | \u001b[0m 494.4   \u001b[0m |\n",
      "| \u001b[0m 93      \u001b[0m | \u001b[0m 0.3818  \u001b[0m | \u001b[0m 0.5771  \u001b[0m | \u001b[0m 2.002   \u001b[0m | \u001b[0m 81.43   \u001b[0m | \u001b[0m 0.03603 \u001b[0m | \u001b[0m 7.14    \u001b[0m | \u001b[0m 880.5   \u001b[0m |\n",
      "| \u001b[0m 94      \u001b[0m | \u001b[0m 0.4191  \u001b[0m | \u001b[0m 0.2187  \u001b[0m | \u001b[0m 1.949   \u001b[0m | \u001b[0m 15.7    \u001b[0m | \u001b[0m 0.06691 \u001b[0m | \u001b[0m 2.152   \u001b[0m | \u001b[0m 403.7   \u001b[0m |\n",
      "| \u001b[0m 95      \u001b[0m | \u001b[0m 0.3737  \u001b[0m | \u001b[0m 0.737   \u001b[0m | \u001b[0m 8.739   \u001b[0m | \u001b[0m 39.18   \u001b[0m | \u001b[0m 0.04344 \u001b[0m | \u001b[0m 10.57   \u001b[0m | \u001b[0m 44.78   \u001b[0m |\n",
      "| \u001b[0m 96      \u001b[0m | \u001b[0m 0.3387  \u001b[0m | \u001b[0m 0.9029  \u001b[0m | \u001b[0m 7.49    \u001b[0m | \u001b[0m 89.74   \u001b[0m | \u001b[0m 0.0907  \u001b[0m | \u001b[0m 14.44   \u001b[0m | \u001b[0m 215.7   \u001b[0m |\n",
      "| \u001b[0m 97      \u001b[0m | \u001b[0m 0.3882  \u001b[0m | \u001b[0m 0.7098  \u001b[0m | \u001b[0m 9.4     \u001b[0m | \u001b[0m 92.25   \u001b[0m | \u001b[0m 0.03785 \u001b[0m | \u001b[0m 4.042   \u001b[0m | \u001b[0m 327.2   \u001b[0m |\n",
      "| \u001b[0m 98      \u001b[0m | \u001b[0m 0.3582  \u001b[0m | \u001b[0m 0.3261  \u001b[0m | \u001b[0m 5.786   \u001b[0m | \u001b[0m 0.1844  \u001b[0m | \u001b[0m 0.02877 \u001b[0m | \u001b[0m 14.5    \u001b[0m | \u001b[0m 729.6   \u001b[0m |\n",
      "| \u001b[0m 99      \u001b[0m | \u001b[0m 0.4551  \u001b[0m | \u001b[0m 0.5993  \u001b[0m | \u001b[0m 7.085   \u001b[0m | \u001b[0m 46.86   \u001b[0m | \u001b[0m 0.09849 \u001b[0m | \u001b[0m 0.9744  \u001b[0m | \u001b[0m 632.1   \u001b[0m |\n",
      "| \u001b[0m 100     \u001b[0m | \u001b[0m 0.404   \u001b[0m | \u001b[0m 0.7076  \u001b[0m | \u001b[0m 6.069   \u001b[0m | \u001b[0m 75.83   \u001b[0m | \u001b[0m 0.02058 \u001b[0m | \u001b[0m 4.415   \u001b[0m | \u001b[0m 414.4   \u001b[0m |\n",
      "| \u001b[95m 101     \u001b[0m | \u001b[95m 0.5728  \u001b[0m | \u001b[95m 0.841   \u001b[0m | \u001b[95m 1.577   \u001b[0m | \u001b[95m 45.38   \u001b[0m | \u001b[95m 0.01    \u001b[0m | \u001b[95m 0.0     \u001b[0m | \u001b[95m 587.9   \u001b[0m |\n",
      "| \u001b[0m 102     \u001b[0m | \u001b[0m 0.3841  \u001b[0m | \u001b[0m 0.2752  \u001b[0m | \u001b[0m 1.694   \u001b[0m | \u001b[0m 43.15   \u001b[0m | \u001b[0m 0.01527 \u001b[0m | \u001b[0m 4.883   \u001b[0m | \u001b[0m 589.8   \u001b[0m |\n",
      "| \u001b[0m 103     \u001b[0m | \u001b[0m 0.5447  \u001b[0m | \u001b[0m 0.5451  \u001b[0m | \u001b[0m 4.46    \u001b[0m | \u001b[0m 44.3    \u001b[0m | \u001b[0m 0.07272 \u001b[0m | \u001b[0m 0.07775 \u001b[0m | \u001b[0m 587.8   \u001b[0m |\n",
      "| \u001b[95m 104     \u001b[0m | \u001b[95m 0.6663  \u001b[0m | \u001b[95m 1.0     \u001b[0m | \u001b[95m 3.111   \u001b[0m | \u001b[95m 47.97   \u001b[0m | \u001b[95m 0.09165 \u001b[0m | \u001b[95m 0.0     \u001b[0m | \u001b[95m 588.1   \u001b[0m |\n",
      "| \u001b[0m 105     \u001b[0m | \u001b[0m 0.55    \u001b[0m | \u001b[0m 0.9696  \u001b[0m | \u001b[0m 3.37    \u001b[0m | \u001b[0m 48.61   \u001b[0m | \u001b[0m 0.02509 \u001b[0m | \u001b[0m 0.4794  \u001b[0m | \u001b[0m 585.9   \u001b[0m |\n",
      "| \u001b[0m 106     \u001b[0m | \u001b[0m 0.4025  \u001b[0m | \u001b[0m 0.2579  \u001b[0m | \u001b[0m 2.217   \u001b[0m | \u001b[0m 48.7    \u001b[0m | \u001b[0m 0.05766 \u001b[0m | \u001b[0m 2.403   \u001b[0m | \u001b[0m 589.1   \u001b[0m |\n",
      "| \u001b[0m 107     \u001b[0m | \u001b[0m 0.5009  \u001b[0m | \u001b[0m 0.7155  \u001b[0m | \u001b[0m 2.112   \u001b[0m | \u001b[0m 46.3    \u001b[0m | \u001b[0m 0.0165  \u001b[0m | \u001b[0m 1.27    \u001b[0m | \u001b[0m 588.9   \u001b[0m |\n",
      "| \u001b[0m 108     \u001b[0m | \u001b[0m 0.5144  \u001b[0m | \u001b[0m 0.9547  \u001b[0m | \u001b[0m 3.972   \u001b[0m | \u001b[0m 4.688   \u001b[0m | \u001b[0m 0.03909 \u001b[0m | \u001b[0m 2.696   \u001b[0m | \u001b[0m 950.9   \u001b[0m |\n",
      "| \u001b[0m 109     \u001b[0m | \u001b[0m 0.4232  \u001b[0m | \u001b[0m 0.2501  \u001b[0m | \u001b[0m 4.326   \u001b[0m | \u001b[0m 46.92   \u001b[0m | \u001b[0m 0.09183 \u001b[0m | \u001b[0m 0.5865  \u001b[0m | \u001b[0m 587.0   \u001b[0m |\n",
      "| \u001b[0m 110     \u001b[0m | \u001b[0m 0.5343  \u001b[0m | \u001b[0m 0.7185  \u001b[0m | \u001b[0m 2.831   \u001b[0m | \u001b[0m 48.97   \u001b[0m | \u001b[0m 0.06788 \u001b[0m | \u001b[0m 0.5474  \u001b[0m | \u001b[0m 584.3   \u001b[0m |\n",
      "| \u001b[0m 111     \u001b[0m | \u001b[0m 0.4499  \u001b[0m | \u001b[0m 0.4697  \u001b[0m | \u001b[0m 6.847   \u001b[0m | \u001b[0m 4.856   \u001b[0m | \u001b[0m 0.07527 \u001b[0m | \u001b[0m 2.544   \u001b[0m | \u001b[0m 950.3   \u001b[0m |\n",
      "| \u001b[0m 112     \u001b[0m | \u001b[0m 0.4224  \u001b[0m | \u001b[0m 0.292   \u001b[0m | \u001b[0m 1.133   \u001b[0m | \u001b[0m 5.413   \u001b[0m | \u001b[0m 0.03106 \u001b[0m | \u001b[0m 2.967   \u001b[0m | \u001b[0m 951.1   \u001b[0m |\n",
      "| \u001b[0m 113     \u001b[0m | \u001b[0m 0.4328  \u001b[0m | \u001b[0m 0.2778  \u001b[0m | \u001b[0m 4.687   \u001b[0m | \u001b[0m 5.033   \u001b[0m | \u001b[0m 0.08333 \u001b[0m | \u001b[0m 0.6671  \u001b[0m | \u001b[0m 953.7   \u001b[0m |\n",
      "| \u001b[0m 114     \u001b[0m | \u001b[0m 0.5194  \u001b[0m | \u001b[0m 0.9067  \u001b[0m | \u001b[0m 2.584   \u001b[0m | \u001b[0m 30.63   \u001b[0m | \u001b[0m 0.03241 \u001b[0m | \u001b[0m 1.509   \u001b[0m | \u001b[0m 926.7   \u001b[0m |\n",
      "| \u001b[0m 115     \u001b[0m | \u001b[0m 0.4978  \u001b[0m | \u001b[0m 0.5595  \u001b[0m | \u001b[0m 5.177   \u001b[0m | \u001b[0m 7.092   \u001b[0m | \u001b[0m 0.02105 \u001b[0m | \u001b[0m 0.7971  \u001b[0m | \u001b[0m 949.5   \u001b[0m |\n",
      "| \u001b[0m 116     \u001b[0m | \u001b[0m 0.6189  \u001b[0m | \u001b[0m 0.7284  \u001b[0m | \u001b[0m 1.364   \u001b[0m | \u001b[0m 5.396   \u001b[0m | \u001b[0m 0.01505 \u001b[0m | \u001b[0m 0.4533  \u001b[0m | \u001b[0m 950.4   \u001b[0m |\n",
      "| \u001b[0m 117     \u001b[0m | \u001b[0m 0.5884  \u001b[0m | \u001b[0m 0.8594  \u001b[0m | \u001b[0m 2.044   \u001b[0m | \u001b[0m 50.11   \u001b[0m | \u001b[0m 0.08383 \u001b[0m | \u001b[0m 0.1604  \u001b[0m | \u001b[0m 584.2   \u001b[0m |\n",
      "| \u001b[0m 118     \u001b[0m | \u001b[0m 0.3994  \u001b[0m | \u001b[0m 0.1009  \u001b[0m | \u001b[0m 4.629   \u001b[0m | \u001b[0m 44.02   \u001b[0m | \u001b[0m 0.0487  \u001b[0m | \u001b[0m 2.165   \u001b[0m | \u001b[0m 589.2   \u001b[0m |\n",
      "| \u001b[0m 119     \u001b[0m | \u001b[0m 0.4335  \u001b[0m | \u001b[0m 0.2439  \u001b[0m | \u001b[0m 1.568   \u001b[0m | \u001b[0m 29.13   \u001b[0m | \u001b[0m 0.06608 \u001b[0m | \u001b[0m 0.7995  \u001b[0m | \u001b[0m 928.0   \u001b[0m |\n",
      "| \u001b[0m 120     \u001b[0m | \u001b[0m 0.5149  \u001b[0m | \u001b[0m 0.5115  \u001b[0m | \u001b[0m 2.607   \u001b[0m | \u001b[0m 45.37   \u001b[0m | \u001b[0m 0.04008 \u001b[0m | \u001b[0m 0.5156  \u001b[0m | \u001b[0m 586.5   \u001b[0m |\n",
      "| \u001b[0m 121     \u001b[0m | \u001b[0m 0.4394  \u001b[0m | \u001b[0m 0.6269  \u001b[0m | \u001b[0m 1.181   \u001b[0m | \u001b[0m 49.91   \u001b[0m | \u001b[0m 0.04539 \u001b[0m | \u001b[0m 4.347   \u001b[0m | \u001b[0m 584.2   \u001b[0m |\n",
      "| \u001b[0m 122     \u001b[0m | \u001b[0m 0.4933  \u001b[0m | \u001b[0m 0.5539  \u001b[0m | \u001b[0m 2.412   \u001b[0m | \u001b[0m 7.598   \u001b[0m | \u001b[0m 0.07071 \u001b[0m | \u001b[0m 1.899   \u001b[0m | \u001b[0m 948.3   \u001b[0m |\n",
      "| \u001b[0m 123     \u001b[0m | \u001b[0m 0.5049  \u001b[0m | \u001b[0m 0.9442  \u001b[0m | \u001b[0m 6.702   \u001b[0m | \u001b[0m 7.981   \u001b[0m | \u001b[0m 0.04393 \u001b[0m | \u001b[0m 1.812   \u001b[0m | \u001b[0m 951.2   \u001b[0m |\n",
      "| \u001b[0m 124     \u001b[0m | \u001b[0m 0.4637  \u001b[0m | \u001b[0m 0.5783  \u001b[0m | \u001b[0m 3.121   \u001b[0m | \u001b[0m 6.796   \u001b[0m | \u001b[0m 0.07515 \u001b[0m | \u001b[0m 3.376   \u001b[0m | \u001b[0m 951.6   \u001b[0m |\n",
      "| \u001b[0m 125     \u001b[0m | \u001b[0m 0.4128  \u001b[0m | \u001b[0m 0.1409  \u001b[0m | \u001b[0m 5.451   \u001b[0m | \u001b[0m 29.01   \u001b[0m | \u001b[0m 0.0991  \u001b[0m | \u001b[0m 1.21    \u001b[0m | \u001b[0m 926.3   \u001b[0m |\n",
      "| \u001b[0m 126     \u001b[0m | \u001b[0m 0.4404  \u001b[0m | \u001b[0m 0.36    \u001b[0m | \u001b[0m 2.557   \u001b[0m | \u001b[0m 1.366   \u001b[0m | \u001b[0m 0.06369 \u001b[0m | \u001b[0m 0.9953  \u001b[0m | \u001b[0m 950.3   \u001b[0m |\n",
      "| \u001b[0m 127     \u001b[0m | \u001b[0m 0.5304  \u001b[0m | \u001b[0m 0.5088  \u001b[0m | \u001b[0m 4.586   \u001b[0m | \u001b[0m 3.251   \u001b[0m | \u001b[0m 0.09411 \u001b[0m | \u001b[0m 0.3827  \u001b[0m | \u001b[0m 947.4   \u001b[0m |\n",
      "| \u001b[0m 128     \u001b[0m | \u001b[0m 0.4278  \u001b[0m | \u001b[0m 0.2465  \u001b[0m | \u001b[0m 6.783   \u001b[0m | \u001b[0m 3.671   \u001b[0m | \u001b[0m 0.07274 \u001b[0m | \u001b[0m 0.5183  \u001b[0m | \u001b[0m 945.3   \u001b[0m |\n",
      "| \u001b[0m 129     \u001b[0m | \u001b[0m 0.5623  \u001b[0m | \u001b[0m 0.488   \u001b[0m | \u001b[0m 2.231   \u001b[0m | \u001b[0m 4.262   \u001b[0m | \u001b[0m 0.06536 \u001b[0m | \u001b[0m 0.4431  \u001b[0m | \u001b[0m 951.7   \u001b[0m |\n",
      "| \u001b[0m 130     \u001b[0m | \u001b[0m 0.4601  \u001b[0m | \u001b[0m 0.8956  \u001b[0m | \u001b[0m 8.676   \u001b[0m | \u001b[0m 9.277   \u001b[0m | \u001b[0m 0.06635 \u001b[0m | \u001b[0m 3.35    \u001b[0m | \u001b[0m 952.1   \u001b[0m |\n",
      "| \u001b[0m 131     \u001b[0m | \u001b[0m 0.4688  \u001b[0m | \u001b[0m 0.7879  \u001b[0m | \u001b[0m 3.159   \u001b[0m | \u001b[0m 6.467   \u001b[0m | \u001b[0m 0.08078 \u001b[0m | \u001b[0m 4.87    \u001b[0m | \u001b[0m 948.8   \u001b[0m |\n",
      "| \u001b[95m 132     \u001b[0m | \u001b[95m 0.6994  \u001b[0m | \u001b[95m 1.0     \u001b[0m | \u001b[95m 1.929   \u001b[0m | \u001b[95m 48.25   \u001b[0m | \u001b[95m 0.1     \u001b[0m | \u001b[95m 0.0     \u001b[0m | \u001b[95m 587.5   \u001b[0m |\n",
      "| \u001b[0m 133     \u001b[0m | \u001b[0m 0.5225  \u001b[0m | \u001b[0m 0.9313  \u001b[0m | \u001b[0m 3.056   \u001b[0m | \u001b[0m 1.991   \u001b[0m | \u001b[0m 0.06549 \u001b[0m | \u001b[0m 3.212   \u001b[0m | \u001b[0m 946.1   \u001b[0m |\n",
      "| \u001b[0m 134     \u001b[0m | \u001b[0m 0.5319  \u001b[0m | \u001b[0m 0.7298  \u001b[0m | \u001b[0m 2.701   \u001b[0m | \u001b[0m 33.77   \u001b[0m | \u001b[0m 0.05205 \u001b[0m | \u001b[0m 0.7362  \u001b[0m | \u001b[0m 926.3   \u001b[0m |\n",
      "| \u001b[0m 135     \u001b[0m | \u001b[0m 0.4605  \u001b[0m | \u001b[0m 0.6842  \u001b[0m | \u001b[0m 5.517   \u001b[0m | \u001b[0m 34.14   \u001b[0m | \u001b[0m 0.03207 \u001b[0m | \u001b[0m 2.234   \u001b[0m | \u001b[0m 927.9   \u001b[0m |\n",
      "| \u001b[0m 136     \u001b[0m | \u001b[0m 0.5527  \u001b[0m | \u001b[0m 0.9553  \u001b[0m | \u001b[0m 0.6611  \u001b[0m | \u001b[0m 4.219   \u001b[0m | \u001b[0m 0.0429  \u001b[0m | \u001b[0m 2.841   \u001b[0m | \u001b[0m 943.6   \u001b[0m |\n",
      "| \u001b[0m 137     \u001b[0m | \u001b[0m 0.4517  \u001b[0m | \u001b[0m 0.1485  \u001b[0m | \u001b[0m 0.5623  \u001b[0m | \u001b[0m 4.589   \u001b[0m | \u001b[0m 0.01387 \u001b[0m | \u001b[0m 0.5802  \u001b[0m | \u001b[0m 941.1   \u001b[0m |\n",
      "| \u001b[0m 138     \u001b[0m | \u001b[0m 0.5282  \u001b[0m | \u001b[0m 0.6584  \u001b[0m | \u001b[0m 0.6317  \u001b[0m | \u001b[0m 7.362   \u001b[0m | \u001b[0m 0.04486 \u001b[0m | \u001b[0m 2.559   \u001b[0m | \u001b[0m 944.2   \u001b[0m |\n",
      "| \u001b[0m 139     \u001b[0m | \u001b[0m 0.46    \u001b[0m | \u001b[0m 0.637   \u001b[0m | \u001b[0m 2.031   \u001b[0m | \u001b[0m 7.176   \u001b[0m | \u001b[0m 0.03293 \u001b[0m | \u001b[0m 6.127   \u001b[0m | \u001b[0m 942.9   \u001b[0m |\n",
      "| \u001b[0m 140     \u001b[0m | \u001b[0m 0.4633  \u001b[0m | \u001b[0m 0.46    \u001b[0m | \u001b[0m 3.093   \u001b[0m | \u001b[0m 4.088   \u001b[0m | \u001b[0m 0.02463 \u001b[0m | \u001b[0m 4.131   \u001b[0m | \u001b[0m 945.7   \u001b[0m |\n",
      "| \u001b[0m 141     \u001b[0m | \u001b[0m 0.5091  \u001b[0m | \u001b[0m 0.9718  \u001b[0m | \u001b[0m 1.471   \u001b[0m | \u001b[0m 32.4    \u001b[0m | \u001b[0m 0.01464 \u001b[0m | \u001b[0m 2.142   \u001b[0m | \u001b[0m 923.8   \u001b[0m |\n",
      "| \u001b[0m 142     \u001b[0m | \u001b[0m 0.4288  \u001b[0m | \u001b[0m 0.5671  \u001b[0m | \u001b[0m 4.523   \u001b[0m | \u001b[0m 31.48   \u001b[0m | \u001b[0m 0.0389  \u001b[0m | \u001b[0m 3.791   \u001b[0m | \u001b[0m 922.2   \u001b[0m |\n",
      "| \u001b[0m 143     \u001b[0m | \u001b[0m 0.4164  \u001b[0m | \u001b[0m 0.197   \u001b[0m | \u001b[0m 3.403   \u001b[0m | \u001b[0m 33.77   \u001b[0m | \u001b[0m 0.0466  \u001b[0m | \u001b[0m 1.298   \u001b[0m | \u001b[0m 921.9   \u001b[0m |\n",
      "| \u001b[0m 144     \u001b[0m | \u001b[0m 0.4912  \u001b[0m | \u001b[0m 0.7575  \u001b[0m | \u001b[0m 0.186   \u001b[0m | \u001b[0m 49.96   \u001b[0m | \u001b[0m 0.05293 \u001b[0m | \u001b[0m 1.907   \u001b[0m | \u001b[0m 583.5   \u001b[0m |\n",
      "| \u001b[0m 145     \u001b[0m | \u001b[0m 0.5604  \u001b[0m | \u001b[0m 0.5469  \u001b[0m | \u001b[0m 0.518   \u001b[0m | \u001b[0m 7.166   \u001b[0m | \u001b[0m 0.01586 \u001b[0m | \u001b[0m 0.8062  \u001b[0m | \u001b[0m 948.3   \u001b[0m |\n",
      "| \u001b[0m 146     \u001b[0m | \u001b[0m 0.4962  \u001b[0m | \u001b[0m 0.3951  \u001b[0m | \u001b[0m 1.255   \u001b[0m | \u001b[0m 40.8    \u001b[0m | \u001b[0m 0.03642 \u001b[0m | \u001b[0m 1.134   \u001b[0m | \u001b[0m 192.0   \u001b[0m |\n",
      "| \u001b[0m 147     \u001b[0m | \u001b[0m 0.4952  \u001b[0m | \u001b[0m 0.6604  \u001b[0m | \u001b[0m 3.575   \u001b[0m | \u001b[0m 6.835   \u001b[0m | \u001b[0m 0.01746 \u001b[0m | \u001b[0m 2.44    \u001b[0m | \u001b[0m 944.8   \u001b[0m |\n",
      "| \u001b[0m 148     \u001b[0m | \u001b[0m 0.4416  \u001b[0m | \u001b[0m 0.8585  \u001b[0m | \u001b[0m 2.077   \u001b[0m | \u001b[0m 32.05   \u001b[0m | \u001b[0m 0.09799 \u001b[0m | \u001b[0m 4.714   \u001b[0m | \u001b[0m 925.0   \u001b[0m |\n",
      "| \u001b[0m 149     \u001b[0m | \u001b[0m 0.5232  \u001b[0m | \u001b[0m 0.6847  \u001b[0m | \u001b[0m 4.246   \u001b[0m | \u001b[0m 5.191   \u001b[0m | \u001b[0m 0.01352 \u001b[0m | \u001b[0m 1.347   \u001b[0m | \u001b[0m 949.1   \u001b[0m |\n",
      "| \u001b[0m 150     \u001b[0m | \u001b[0m 0.5269  \u001b[0m | \u001b[0m 0.9784  \u001b[0m | \u001b[0m 1.576   \u001b[0m | \u001b[0m 1.217   \u001b[0m | \u001b[0m 0.08583 \u001b[0m | \u001b[0m 4.305   \u001b[0m | \u001b[0m 942.6   \u001b[0m |\n",
      "| \u001b[0m 151     \u001b[0m | \u001b[0m 0.5387  \u001b[0m | \u001b[0m 0.8363  \u001b[0m | \u001b[0m 1.994   \u001b[0m | \u001b[0m 35.9    \u001b[0m | \u001b[0m 0.01127 \u001b[0m | \u001b[0m 0.7094  \u001b[0m | \u001b[0m 924.8   \u001b[0m |\n",
      "| \u001b[95m 152     \u001b[0m | \u001b[95m 0.7201  \u001b[0m | \u001b[95m 1.0     \u001b[0m | \u001b[95m 1.251   \u001b[0m | \u001b[95m 4.658   \u001b[0m | \u001b[95m 0.1     \u001b[0m | \u001b[95m 0.0     \u001b[0m | \u001b[95m 948.4   \u001b[0m |\n",
      "| \u001b[0m 153     \u001b[0m | \u001b[0m 0.4901  \u001b[0m | \u001b[0m 0.3984  \u001b[0m | \u001b[0m 0.2455  \u001b[0m | \u001b[0m 33.34   \u001b[0m | \u001b[0m 0.07759 \u001b[0m | \u001b[0m 1.768   \u001b[0m | \u001b[0m 929.5   \u001b[0m |\n",
      "| \u001b[0m 154     \u001b[0m | \u001b[0m 0.4431  \u001b[0m | \u001b[0m 0.8703  \u001b[0m | \u001b[0m 5.07    \u001b[0m | \u001b[0m 12.05   \u001b[0m | \u001b[0m 0.078   \u001b[0m | \u001b[0m 5.216   \u001b[0m | \u001b[0m 950.0   \u001b[0m |\n",
      "| \u001b[0m 155     \u001b[0m | \u001b[0m 0.414   \u001b[0m | \u001b[0m 0.7675  \u001b[0m | \u001b[0m 3.95    \u001b[0m | \u001b[0m 38.14   \u001b[0m | \u001b[0m 0.02853 \u001b[0m | \u001b[0m 6.505   \u001b[0m | \u001b[0m 191.8   \u001b[0m |\n",
      "| \u001b[0m 156     \u001b[0m | \u001b[0m 0.6256  \u001b[0m | \u001b[0m 1.0     \u001b[0m | \u001b[0m 0.0     \u001b[0m | \u001b[0m 33.89   \u001b[0m | \u001b[0m 0.01    \u001b[0m | \u001b[0m 0.0     \u001b[0m | \u001b[0m 925.6   \u001b[0m |\n",
      "| \u001b[0m 157     \u001b[0m | \u001b[0m 0.4613  \u001b[0m | \u001b[0m 0.5562  \u001b[0m | \u001b[0m 0.5313  \u001b[0m | \u001b[0m 33.85   \u001b[0m | \u001b[0m 0.05505 \u001b[0m | \u001b[0m 2.832   \u001b[0m | \u001b[0m 927.5   \u001b[0m |\n",
      "| \u001b[0m 158     \u001b[0m | \u001b[0m 0.5199  \u001b[0m | \u001b[0m 0.4151  \u001b[0m | \u001b[0m 0.506   \u001b[0m | \u001b[0m 54.37   \u001b[0m | \u001b[0m 0.09156 \u001b[0m | \u001b[0m 0.6666  \u001b[0m | \u001b[0m 582.1   \u001b[0m |\n",
      "| \u001b[0m 159     \u001b[0m | \u001b[0m 0.4373  \u001b[0m | \u001b[0m 0.8786  \u001b[0m | \u001b[0m 3.133   \u001b[0m | \u001b[0m 6.121   \u001b[0m | \u001b[0m 0.04218 \u001b[0m | \u001b[0m 10.15   \u001b[0m | \u001b[0m 952.6   \u001b[0m |\n",
      "| \u001b[0m 160     \u001b[0m | \u001b[0m 0.4392  \u001b[0m | \u001b[0m 0.5743  \u001b[0m | \u001b[0m 6.021   \u001b[0m | \u001b[0m 51.87   \u001b[0m | \u001b[0m 0.02567 \u001b[0m | \u001b[0m 1.676   \u001b[0m | \u001b[0m 579.7   \u001b[0m |\n",
      "| \u001b[0m 161     \u001b[0m | \u001b[0m 0.3906  \u001b[0m | \u001b[0m 0.2801  \u001b[0m | \u001b[0m 0.07151 \u001b[0m | \u001b[0m 2.239   \u001b[0m | \u001b[0m 0.02443 \u001b[0m | \u001b[0m 9.494   \u001b[0m | \u001b[0m 942.8   \u001b[0m |\n",
      "| \u001b[0m 162     \u001b[0m | \u001b[0m 0.6926  \u001b[0m | \u001b[0m 1.0     \u001b[0m | \u001b[0m 2.026   \u001b[0m | \u001b[0m 49.81   \u001b[0m | \u001b[0m 0.1     \u001b[0m | \u001b[0m 0.0     \u001b[0m | \u001b[0m 587.7   \u001b[0m |\n",
      "| \u001b[0m 163     \u001b[0m | \u001b[0m 0.4528  \u001b[0m | \u001b[0m 0.4851  \u001b[0m | \u001b[0m 4.618   \u001b[0m | \u001b[0m 41.75   \u001b[0m | \u001b[0m 0.02589 \u001b[0m | \u001b[0m 1.654   \u001b[0m | \u001b[0m 189.1   \u001b[0m |\n",
      "| \u001b[0m 164     \u001b[0m | \u001b[0m 0.4346  \u001b[0m | \u001b[0m 0.1476  \u001b[0m | \u001b[0m 2.463   \u001b[0m | \u001b[0m 5.562   \u001b[0m | \u001b[0m 0.0143  \u001b[0m | \u001b[0m 0.9935  \u001b[0m | \u001b[0m 944.1   \u001b[0m |\n",
      "| \u001b[0m 165     \u001b[0m | \u001b[0m 0.5054  \u001b[0m | \u001b[0m 0.8733  \u001b[0m | \u001b[0m 0.7323  \u001b[0m | \u001b[0m 53.08   \u001b[0m | \u001b[0m 0.01669 \u001b[0m | \u001b[0m 1.356   \u001b[0m | \u001b[0m 589.0   \u001b[0m |\n",
      "| \u001b[0m 166     \u001b[0m | \u001b[0m 0.3835  \u001b[0m | \u001b[0m 0.307   \u001b[0m | \u001b[0m 0.1339  \u001b[0m | \u001b[0m 55.34   \u001b[0m | \u001b[0m 0.07075 \u001b[0m | \u001b[0m 5.099   \u001b[0m | \u001b[0m 579.3   \u001b[0m |\n",
      "| \u001b[0m 167     \u001b[0m | \u001b[0m 0.6035  \u001b[0m | \u001b[0m 0.954   \u001b[0m | \u001b[0m 1.185   \u001b[0m | \u001b[0m 41.54   \u001b[0m | \u001b[0m 0.02944 \u001b[0m | \u001b[0m 0.2975  \u001b[0m | \u001b[0m 588.9   \u001b[0m |\n",
      "| \u001b[0m 168     \u001b[0m | \u001b[0m 0.5595  \u001b[0m | \u001b[0m 0.9485  \u001b[0m | \u001b[0m 0.2791  \u001b[0m | \u001b[0m 40.42   \u001b[0m | \u001b[0m 0.03667 \u001b[0m | \u001b[0m 0.9748  \u001b[0m | \u001b[0m 588.7   \u001b[0m |\n",
      "| \u001b[0m 169     \u001b[0m | \u001b[0m 0.7135  \u001b[0m | \u001b[0m 1.0     \u001b[0m | \u001b[0m 0.5497  \u001b[0m | \u001b[0m 49.5    \u001b[0m | \u001b[0m 0.1     \u001b[0m | \u001b[0m 0.0     \u001b[0m | \u001b[0m 586.9   \u001b[0m |\n",
      "| \u001b[0m 170     \u001b[0m | \u001b[0m 0.54    \u001b[0m | \u001b[0m 0.9531  \u001b[0m | \u001b[0m 5.208   \u001b[0m | \u001b[0m 42.66   \u001b[0m | \u001b[0m 0.01454 \u001b[0m | \u001b[0m 0.4057  \u001b[0m | \u001b[0m 592.3   \u001b[0m |\n",
      "| \u001b[0m 171     \u001b[0m | \u001b[0m 0.4923  \u001b[0m | \u001b[0m 0.9443  \u001b[0m | \u001b[0m 5.11    \u001b[0m | \u001b[0m 57.69   \u001b[0m | \u001b[0m 0.01471 \u001b[0m | \u001b[0m 1.177   \u001b[0m | \u001b[0m 585.0   \u001b[0m |\n",
      "| \u001b[0m 172     \u001b[0m | \u001b[0m 0.4385  \u001b[0m | \u001b[0m 0.4953  \u001b[0m | \u001b[0m 2.008   \u001b[0m | \u001b[0m 36.93   \u001b[0m | \u001b[0m 0.01334 \u001b[0m | \u001b[0m 3.508   \u001b[0m | \u001b[0m 589.3   \u001b[0m |\n",
      "| \u001b[0m 173     \u001b[0m | \u001b[0m 0.4321  \u001b[0m | \u001b[0m 0.1225  \u001b[0m | \u001b[0m 2.465   \u001b[0m | \u001b[0m 55.02   \u001b[0m | \u001b[0m 0.02411 \u001b[0m | \u001b[0m 0.1347  \u001b[0m | \u001b[0m 588.6   \u001b[0m |\n",
      "| \u001b[0m 174     \u001b[0m | \u001b[0m 0.4395  \u001b[0m | \u001b[0m 0.3489  \u001b[0m | \u001b[0m 2.877   \u001b[0m | \u001b[0m 47.15   \u001b[0m | \u001b[0m 0.06433 \u001b[0m | \u001b[0m 0.1992  \u001b[0m | \u001b[0m 595.2   \u001b[0m |\n",
      "| \u001b[0m 175     \u001b[0m | \u001b[0m 0.4579  \u001b[0m | \u001b[0m 0.1689  \u001b[0m | \u001b[0m 0.2994  \u001b[0m | \u001b[0m 41.37   \u001b[0m | \u001b[0m 0.08924 \u001b[0m | \u001b[0m 0.1289  \u001b[0m | \u001b[0m 595.5   \u001b[0m |\n",
      "| \u001b[0m 176     \u001b[0m | \u001b[0m 0.4586  \u001b[0m | \u001b[0m 0.4036  \u001b[0m | \u001b[0m 7.35    \u001b[0m | \u001b[0m 41.96   \u001b[0m | \u001b[0m 0.03836 \u001b[0m | \u001b[0m 0.9225  \u001b[0m | \u001b[0m 597.7   \u001b[0m |\n",
      "| \u001b[0m 177     \u001b[0m | \u001b[0m 0.6583  \u001b[0m | \u001b[0m 1.0     \u001b[0m | \u001b[0m 3.431   \u001b[0m | \u001b[0m 40.96   \u001b[0m | \u001b[0m 0.1     \u001b[0m | \u001b[0m 0.0     \u001b[0m | \u001b[0m 587.7   \u001b[0m |\n",
      "| \u001b[0m 178     \u001b[0m | \u001b[0m 0.4454  \u001b[0m | \u001b[0m 0.4942  \u001b[0m | \u001b[0m 6.848   \u001b[0m | \u001b[0m 37.06   \u001b[0m | \u001b[0m 0.01837 \u001b[0m | \u001b[0m 1.574   \u001b[0m | \u001b[0m 586.0   \u001b[0m |\n",
      "| \u001b[0m 179     \u001b[0m | \u001b[0m 0.5123  \u001b[0m | \u001b[0m 0.9401  \u001b[0m | \u001b[0m 7.121   \u001b[0m | \u001b[0m 11.59   \u001b[0m | \u001b[0m 0.02666 \u001b[0m | \u001b[0m 1.08    \u001b[0m | \u001b[0m 945.6   \u001b[0m |\n",
      "| \u001b[0m 180     \u001b[0m | \u001b[0m 0.4652  \u001b[0m | \u001b[0m 0.7311  \u001b[0m | \u001b[0m 3.093   \u001b[0m | \u001b[0m 14.03   \u001b[0m | \u001b[0m 0.01905 \u001b[0m | \u001b[0m 3.856   \u001b[0m | \u001b[0m 943.4   \u001b[0m |\n",
      "| \u001b[0m 181     \u001b[0m | \u001b[0m 0.5115  \u001b[0m | \u001b[0m 0.402   \u001b[0m | \u001b[0m 3.322   \u001b[0m | \u001b[0m 39.71   \u001b[0m | \u001b[0m 0.01012 \u001b[0m | \u001b[0m 0.2511  \u001b[0m | \u001b[0m 591.9   \u001b[0m |\n",
      "| \u001b[0m 182     \u001b[0m | \u001b[0m 0.4392  \u001b[0m | \u001b[0m 0.1098  \u001b[0m | \u001b[0m 0.4598  \u001b[0m | \u001b[0m 42.21   \u001b[0m | \u001b[0m 0.02573 \u001b[0m | \u001b[0m 0.4055  \u001b[0m | \u001b[0m 583.5   \u001b[0m |\n",
      "| \u001b[0m 183     \u001b[0m | \u001b[0m 0.6224  \u001b[0m | \u001b[0m 1.0     \u001b[0m | \u001b[0m 0.0     \u001b[0m | \u001b[0m 36.04   \u001b[0m | \u001b[0m 0.01    \u001b[0m | \u001b[0m 0.0     \u001b[0m | \u001b[0m 926.8   \u001b[0m |\n",
      "| \u001b[0m 184     \u001b[0m | \u001b[0m 0.4291  \u001b[0m | \u001b[0m 0.1511  \u001b[0m | \u001b[0m 6.863   \u001b[0m | \u001b[0m 12.58   \u001b[0m | \u001b[0m 0.07626 \u001b[0m | \u001b[0m 0.2685  \u001b[0m | \u001b[0m 950.9   \u001b[0m |\n",
      "| \u001b[0m 185     \u001b[0m | \u001b[0m 0.4296  \u001b[0m | \u001b[0m 0.1717  \u001b[0m | \u001b[0m 3.704   \u001b[0m | \u001b[0m 37.32   \u001b[0m | \u001b[0m 0.0348  \u001b[0m | \u001b[0m 0.4645  \u001b[0m | \u001b[0m 928.8   \u001b[0m |\n",
      "| \u001b[0m 186     \u001b[0m | \u001b[0m 0.5386  \u001b[0m | \u001b[0m 0.7326  \u001b[0m | \u001b[0m 2.55    \u001b[0m | \u001b[0m 61.33   \u001b[0m | \u001b[0m 0.02835 \u001b[0m | \u001b[0m 0.47    \u001b[0m | \u001b[0m 581.8   \u001b[0m |\n",
      "| \u001b[0m 187     \u001b[0m | \u001b[0m 0.437   \u001b[0m | \u001b[0m 0.7753  \u001b[0m | \u001b[0m 5.985   \u001b[0m | \u001b[0m 63.13   \u001b[0m | \u001b[0m 0.0441  \u001b[0m | \u001b[0m 2.545   \u001b[0m | \u001b[0m 578.7   \u001b[0m |\n",
      "| \u001b[0m 188     \u001b[0m | \u001b[0m 0.4265  \u001b[0m | \u001b[0m 0.3505  \u001b[0m | \u001b[0m 0.7045  \u001b[0m | \u001b[0m 64.0    \u001b[0m | \u001b[0m 0.08167 \u001b[0m | \u001b[0m 0.8987  \u001b[0m | \u001b[0m 580.6   \u001b[0m |\n",
      "| \u001b[0m 189     \u001b[0m | \u001b[0m 0.4708  \u001b[0m | \u001b[0m 0.9083  \u001b[0m | \u001b[0m 6.032   \u001b[0m | \u001b[0m 64.28   \u001b[0m | \u001b[0m 0.06281 \u001b[0m | \u001b[0m 1.548   \u001b[0m | \u001b[0m 584.5   \u001b[0m |\n",
      "| \u001b[0m 190     \u001b[0m | \u001b[0m 0.6408  \u001b[0m | \u001b[0m 0.647   \u001b[0m | \u001b[0m 0.4918  \u001b[0m | \u001b[0m 3.968   \u001b[0m | \u001b[0m 0.07528 \u001b[0m | \u001b[0m 0.4226  \u001b[0m | \u001b[0m 948.7   \u001b[0m |\n",
      "| \u001b[0m 191     \u001b[0m | \u001b[0m 0.4069  \u001b[0m | \u001b[0m 0.1     \u001b[0m | \u001b[0m 2.409   \u001b[0m | \u001b[0m 40.09   \u001b[0m | \u001b[0m 0.01    \u001b[0m | \u001b[0m 0.0     \u001b[0m | \u001b[0m 587.5   \u001b[0m |\n",
      "| \u001b[0m 192     \u001b[0m | \u001b[0m 0.4271  \u001b[0m | \u001b[0m 0.2974  \u001b[0m | \u001b[0m 4.486   \u001b[0m | \u001b[0m 60.99   \u001b[0m | \u001b[0m 0.02502 \u001b[0m | \u001b[0m 0.07187 \u001b[0m | \u001b[0m 585.3   \u001b[0m |\n",
      "| \u001b[0m 193     \u001b[0m | \u001b[0m 0.6089  \u001b[0m | \u001b[0m 0.6667  \u001b[0m | \u001b[0m 1.66    \u001b[0m | \u001b[0m 2.855   \u001b[0m | \u001b[0m 0.08726 \u001b[0m | \u001b[0m 0.5819  \u001b[0m | \u001b[0m 945.4   \u001b[0m |\n",
      "| \u001b[0m 194     \u001b[0m | \u001b[0m 0.4823  \u001b[0m | \u001b[0m 0.6827  \u001b[0m | \u001b[0m 0.4014  \u001b[0m | \u001b[0m 53.32   \u001b[0m | \u001b[0m 0.09913 \u001b[0m | \u001b[0m 1.991   \u001b[0m | \u001b[0m 584.8   \u001b[0m |\n",
      "| \u001b[0m 195     \u001b[0m | \u001b[0m 0.4479  \u001b[0m | \u001b[0m 0.3996  \u001b[0m | \u001b[0m 9.449   \u001b[0m | \u001b[0m 40.07   \u001b[0m | \u001b[0m 0.02523 \u001b[0m | \u001b[0m 0.8571  \u001b[0m | \u001b[0m 593.3   \u001b[0m |\n",
      "| \u001b[0m 196     \u001b[0m | \u001b[0m 0.5736  \u001b[0m | \u001b[0m 0.6276  \u001b[0m | \u001b[0m 1.696   \u001b[0m | \u001b[0m 41.93   \u001b[0m | \u001b[0m 0.09248 \u001b[0m | \u001b[0m 0.3245  \u001b[0m | \u001b[0m 925.9   \u001b[0m |\n",
      "| \u001b[0m 197     \u001b[0m | \u001b[0m 0.4744  \u001b[0m | \u001b[0m 0.4471  \u001b[0m | \u001b[0m 2.228   \u001b[0m | \u001b[0m 56.59   \u001b[0m | \u001b[0m 0.06231 \u001b[0m | \u001b[0m 1.2     \u001b[0m | \u001b[0m 581.6   \u001b[0m |\n",
      "| \u001b[0m 198     \u001b[0m | \u001b[0m 0.6347  \u001b[0m | \u001b[0m 0.6555  \u001b[0m | \u001b[0m 0.4018  \u001b[0m | \u001b[0m 39.65   \u001b[0m | \u001b[0m 0.09975 \u001b[0m | \u001b[0m 0.1349  \u001b[0m | \u001b[0m 924.3   \u001b[0m |\n",
      "| \u001b[0m 199     \u001b[0m | \u001b[0m 0.4474  \u001b[0m | \u001b[0m 1.0     \u001b[0m | \u001b[0m 3.181   \u001b[0m | \u001b[0m 60.65   \u001b[0m | \u001b[0m 0.01    \u001b[0m | \u001b[0m 3.555   \u001b[0m | \u001b[0m 582.6   \u001b[0m |\n",
      "| \u001b[0m 200     \u001b[0m | \u001b[0m 0.4635  \u001b[0m | \u001b[0m 0.3158  \u001b[0m | \u001b[0m 0.2054  \u001b[0m | \u001b[0m 6.418   \u001b[0m | \u001b[0m 0.06075 \u001b[0m | \u001b[0m 0.2927  \u001b[0m | \u001b[0m 946.9   \u001b[0m |\n",
      "| \u001b[0m 201     \u001b[0m | \u001b[0m 0.5387  \u001b[0m | \u001b[0m 0.8902  \u001b[0m | \u001b[0m 3.073   \u001b[0m | \u001b[0m 42.67   \u001b[0m | \u001b[0m 0.07972 \u001b[0m | \u001b[0m 0.7501  \u001b[0m | \u001b[0m 592.3   \u001b[0m |\n",
      "| \u001b[0m 202     \u001b[0m | \u001b[0m 0.5012  \u001b[0m | \u001b[0m 0.8511  \u001b[0m | \u001b[0m 5.5     \u001b[0m | \u001b[0m 46.14   \u001b[0m | \u001b[0m 0.06783 \u001b[0m | \u001b[0m 0.7124  \u001b[0m | \u001b[0m 927.1   \u001b[0m |\n",
      "| \u001b[0m 203     \u001b[0m | \u001b[0m 0.4548  \u001b[0m | \u001b[0m 0.4678  \u001b[0m | \u001b[0m 0.6886  \u001b[0m | \u001b[0m 41.3    \u001b[0m | \u001b[0m 0.08701 \u001b[0m | \u001b[0m 2.758   \u001b[0m | \u001b[0m 921.5   \u001b[0m |\n",
      "| \u001b[0m 204     \u001b[0m | \u001b[0m 0.4139  \u001b[0m | \u001b[0m 0.2005  \u001b[0m | \u001b[0m 4.589   \u001b[0m | \u001b[0m 41.15   \u001b[0m | \u001b[0m 0.01609 \u001b[0m | \u001b[0m 0.7209  \u001b[0m | \u001b[0m 588.1   \u001b[0m |\n",
      "| \u001b[0m 205     \u001b[0m | \u001b[0m 0.4626  \u001b[0m | \u001b[0m 0.9258  \u001b[0m | \u001b[0m 4.707   \u001b[0m | \u001b[0m 46.14   \u001b[0m | \u001b[0m 0.0402  \u001b[0m | \u001b[0m 2.603   \u001b[0m | \u001b[0m 923.4   \u001b[0m |\n",
      "| \u001b[0m 206     \u001b[0m | \u001b[0m 0.4239  \u001b[0m | \u001b[0m 0.3118  \u001b[0m | \u001b[0m 8.753   \u001b[0m | \u001b[0m 11.23   \u001b[0m | \u001b[0m 0.03378 \u001b[0m | \u001b[0m 0.228   \u001b[0m | \u001b[0m 947.2   \u001b[0m |\n",
      "| \u001b[0m 207     \u001b[0m | \u001b[0m 0.4759  \u001b[0m | \u001b[0m 0.8379  \u001b[0m | \u001b[0m 3.38    \u001b[0m | \u001b[0m 38.48   \u001b[0m | \u001b[0m 0.0698  \u001b[0m | \u001b[0m 1.911   \u001b[0m | \u001b[0m 924.2   \u001b[0m |\n",
      "| \u001b[0m 208     \u001b[0m | \u001b[0m 0.5712  \u001b[0m | \u001b[0m 0.9735  \u001b[0m | \u001b[0m 1.265   \u001b[0m | \u001b[0m 52.25   \u001b[0m | \u001b[0m 0.09291 \u001b[0m | \u001b[0m 0.4951  \u001b[0m | \u001b[0m 587.2   \u001b[0m |\n",
      "| \u001b[0m 209     \u001b[0m | \u001b[0m 0.4594  \u001b[0m | \u001b[0m 0.3776  \u001b[0m | \u001b[0m 0.2015  \u001b[0m | \u001b[0m 11.13   \u001b[0m | \u001b[0m 0.08705 \u001b[0m | \u001b[0m 5.03    \u001b[0m | \u001b[0m 948.3   \u001b[0m |\n",
      "| \u001b[0m 210     \u001b[0m | \u001b[0m 0.3916  \u001b[0m | \u001b[0m 0.3745  \u001b[0m | \u001b[0m 2.641   \u001b[0m | \u001b[0m 46.22   \u001b[0m | \u001b[0m 0.01733 \u001b[0m | \u001b[0m 3.451   \u001b[0m | \u001b[0m 928.5   \u001b[0m |\n",
      "| \u001b[0m 211     \u001b[0m | \u001b[0m 0.5529  \u001b[0m | \u001b[0m 0.5734  \u001b[0m | \u001b[0m 2.87    \u001b[0m | \u001b[0m 4.169   \u001b[0m | \u001b[0m 0.08616 \u001b[0m | \u001b[0m 0.4193  \u001b[0m | \u001b[0m 948.8   \u001b[0m |\n",
      "| \u001b[0m 212     \u001b[0m | \u001b[0m 0.428   \u001b[0m | \u001b[0m 0.5559  \u001b[0m | \u001b[0m 0.3111  \u001b[0m | \u001b[0m 38.16   \u001b[0m | \u001b[0m 0.01738 \u001b[0m | \u001b[0m 5.311   \u001b[0m | \u001b[0m 924.0   \u001b[0m |\n",
      "| \u001b[0m 213     \u001b[0m | \u001b[0m 0.4225  \u001b[0m | \u001b[0m 0.2132  \u001b[0m | \u001b[0m 0.4597  \u001b[0m | \u001b[0m 39.56   \u001b[0m | \u001b[0m 0.01572 \u001b[0m | \u001b[0m 1.068   \u001b[0m | \u001b[0m 922.3   \u001b[0m |\n",
      "| \u001b[0m 214     \u001b[0m | \u001b[0m 0.5857  \u001b[0m | \u001b[0m 1.0     \u001b[0m | \u001b[0m 1.547   \u001b[0m | \u001b[0m 49.61   \u001b[0m | \u001b[0m 0.01    \u001b[0m | \u001b[0m 0.0     \u001b[0m | \u001b[0m 586.4   \u001b[0m |\n",
      "| \u001b[0m 215     \u001b[0m | \u001b[0m 0.5636  \u001b[0m | \u001b[0m 0.7622  \u001b[0m | \u001b[0m 5.143   \u001b[0m | \u001b[0m 13.15   \u001b[0m | \u001b[0m 0.01758 \u001b[0m | \u001b[0m 0.2372  \u001b[0m | \u001b[0m 943.7   \u001b[0m |\n",
      "| \u001b[0m 216     \u001b[0m | \u001b[0m 0.6219  \u001b[0m | \u001b[0m 0.7415  \u001b[0m | \u001b[0m 1.521   \u001b[0m | \u001b[0m 33.75   \u001b[0m | \u001b[0m 0.08914 \u001b[0m | \u001b[0m 0.1014  \u001b[0m | \u001b[0m 927.5   \u001b[0m |\n",
      "| \u001b[0m 217     \u001b[0m | \u001b[0m 0.457   \u001b[0m | \u001b[0m 0.2961  \u001b[0m | \u001b[0m 0.1806  \u001b[0m | \u001b[0m 0.514   \u001b[0m | \u001b[0m 0.04633 \u001b[0m | \u001b[0m 1.228   \u001b[0m | \u001b[0m 946.0   \u001b[0m |\n",
      "| \u001b[0m 218     \u001b[0m | \u001b[0m 0.5658  \u001b[0m | \u001b[0m 0.3981  \u001b[0m | \u001b[0m 0.05143 \u001b[0m | \u001b[0m 8.251   \u001b[0m | \u001b[0m 0.09355 \u001b[0m | \u001b[0m 0.818   \u001b[0m | \u001b[0m 949.3   \u001b[0m |\n",
      "| \u001b[0m 219     \u001b[0m | \u001b[0m 0.5133  \u001b[0m | \u001b[0m 0.9364  \u001b[0m | \u001b[0m 0.6556  \u001b[0m | \u001b[0m 42.39   \u001b[0m | \u001b[0m 0.09286 \u001b[0m | \u001b[0m 1.854   \u001b[0m | \u001b[0m 586.1   \u001b[0m |\n",
      "| \u001b[0m 220     \u001b[0m | \u001b[0m 0.4188  \u001b[0m | \u001b[0m 0.195   \u001b[0m | \u001b[0m 1.513   \u001b[0m | \u001b[0m 36.2    \u001b[0m | \u001b[0m 0.07239 \u001b[0m | \u001b[0m 1.559   \u001b[0m | \u001b[0m 927.8   \u001b[0m |\n",
      "| \u001b[0m 221     \u001b[0m | \u001b[0m 0.5194  \u001b[0m | \u001b[0m 0.9943  \u001b[0m | \u001b[0m 8.453   \u001b[0m | \u001b[0m 10.0    \u001b[0m | \u001b[0m 0.05252 \u001b[0m | \u001b[0m 0.5807  \u001b[0m | \u001b[0m 944.1   \u001b[0m |\n",
      "| \u001b[0m 222     \u001b[0m | \u001b[0m 0.5374  \u001b[0m | \u001b[0m 0.9808  \u001b[0m | \u001b[0m 3.057   \u001b[0m | \u001b[0m 5.487   \u001b[0m | \u001b[0m 0.02713 \u001b[0m | \u001b[0m 1.958   \u001b[0m | \u001b[0m 947.2   \u001b[0m |\n",
      "| \u001b[0m 223     \u001b[0m | \u001b[0m 0.4387  \u001b[0m | \u001b[0m 0.2287  \u001b[0m | \u001b[0m 0.2373  \u001b[0m | \u001b[0m 40.11   \u001b[0m | \u001b[0m 0.07851 \u001b[0m | \u001b[0m 0.6819  \u001b[0m | \u001b[0m 591.1   \u001b[0m |\n",
      "| \u001b[0m 224     \u001b[0m | \u001b[0m 0.5239  \u001b[0m | \u001b[0m 0.8281  \u001b[0m | \u001b[0m 0.6438  \u001b[0m | \u001b[0m 3.224   \u001b[0m | \u001b[0m 0.0845  \u001b[0m | \u001b[0m 3.98    \u001b[0m | \u001b[0m 946.6   \u001b[0m |\n",
      "| \u001b[0m 225     \u001b[0m | \u001b[0m 0.458   \u001b[0m | \u001b[0m 0.4957  \u001b[0m | \u001b[0m 6.249   \u001b[0m | \u001b[0m 44.82   \u001b[0m | \u001b[0m 0.05289 \u001b[0m | \u001b[0m 1.081   \u001b[0m | \u001b[0m 593.5   \u001b[0m |\n",
      "| \u001b[0m 226     \u001b[0m | \u001b[0m 0.5069  \u001b[0m | \u001b[0m 0.922   \u001b[0m | \u001b[0m 3.03    \u001b[0m | \u001b[0m 43.64   \u001b[0m | \u001b[0m 0.06597 \u001b[0m | \u001b[0m 1.408   \u001b[0m | \u001b[0m 586.8   \u001b[0m |\n",
      "| \u001b[0m 227     \u001b[0m | \u001b[0m 0.4664  \u001b[0m | \u001b[0m 0.5649  \u001b[0m | \u001b[0m 6.484   \u001b[0m | \u001b[0m 13.99   \u001b[0m | \u001b[0m 0.04244 \u001b[0m | \u001b[0m 1.426   \u001b[0m | \u001b[0m 946.4   \u001b[0m |\n",
      "| \u001b[0m 228     \u001b[0m | \u001b[0m 0.4362  \u001b[0m | \u001b[0m 0.3524  \u001b[0m | \u001b[0m 0.8537  \u001b[0m | \u001b[0m 2.39    \u001b[0m | \u001b[0m 0.04531 \u001b[0m | \u001b[0m 2.064   \u001b[0m | \u001b[0m 941.2   \u001b[0m |\n",
      "| \u001b[0m 229     \u001b[0m | \u001b[0m 0.5135  \u001b[0m | \u001b[0m 0.4633  \u001b[0m | \u001b[0m 2.995   \u001b[0m | \u001b[0m 52.22   \u001b[0m | \u001b[0m 0.06063 \u001b[0m | \u001b[0m 0.4249  \u001b[0m | \u001b[0m 588.3   \u001b[0m |\n",
      "| \u001b[0m 230     \u001b[0m | \u001b[0m 0.4164  \u001b[0m | \u001b[0m 0.3382  \u001b[0m | \u001b[0m 1.896   \u001b[0m | \u001b[0m 12.61   \u001b[0m | \u001b[0m 0.05932 \u001b[0m | \u001b[0m 2.704   \u001b[0m | \u001b[0m 946.5   \u001b[0m |\n",
      "| \u001b[0m 231     \u001b[0m | \u001b[0m 0.4028  \u001b[0m | \u001b[0m 0.1709  \u001b[0m | \u001b[0m 4.399   \u001b[0m | \u001b[0m 39.95   \u001b[0m | \u001b[0m 0.04156 \u001b[0m | \u001b[0m 2.012   \u001b[0m | \u001b[0m 593.0   \u001b[0m |\n",
      "| \u001b[0m 232     \u001b[0m | \u001b[0m 0.5099  \u001b[0m | \u001b[0m 0.5601  \u001b[0m | \u001b[0m 1.789   \u001b[0m | \u001b[0m 50.08   \u001b[0m | \u001b[0m 0.05108 \u001b[0m | \u001b[0m 0.6642  \u001b[0m | \u001b[0m 589.6   \u001b[0m |\n",
      "| \u001b[0m 233     \u001b[0m | \u001b[0m 0.518   \u001b[0m | \u001b[0m 0.6343  \u001b[0m | \u001b[0m 6.066   \u001b[0m | \u001b[0m 15.82   \u001b[0m | \u001b[0m 0.05059 \u001b[0m | \u001b[0m 0.6227  \u001b[0m | \u001b[0m 943.9   \u001b[0m |\n",
      "| \u001b[0m 234     \u001b[0m | \u001b[0m 0.4521  \u001b[0m | \u001b[0m 0.989   \u001b[0m | \u001b[0m 8.662   \u001b[0m | \u001b[0m 11.06   \u001b[0m | \u001b[0m 0.08351 \u001b[0m | \u001b[0m 3.773   \u001b[0m | \u001b[0m 942.9   \u001b[0m |\n",
      "| \u001b[0m 235     \u001b[0m | \u001b[0m 0.5654  \u001b[0m | \u001b[0m 0.9786  \u001b[0m | \u001b[0m 2.774   \u001b[0m | \u001b[0m 40.13   \u001b[0m | \u001b[0m 0.05397 \u001b[0m | \u001b[0m 0.4628  \u001b[0m | \u001b[0m 588.5   \u001b[0m |\n",
      "| \u001b[0m 236     \u001b[0m | \u001b[0m 0.4974  \u001b[0m | \u001b[0m 0.8002  \u001b[0m | \u001b[0m 0.5035  \u001b[0m | \u001b[0m 5.363   \u001b[0m | \u001b[0m 0.02618 \u001b[0m | \u001b[0m 4.756   \u001b[0m | \u001b[0m 940.2   \u001b[0m |\n",
      "| \u001b[0m 237     \u001b[0m | \u001b[0m 0.5276  \u001b[0m | \u001b[0m 0.4364  \u001b[0m | \u001b[0m 1.478   \u001b[0m | \u001b[0m 39.47   \u001b[0m | \u001b[0m 0.01065 \u001b[0m | \u001b[0m 0.2969  \u001b[0m | \u001b[0m 926.1   \u001b[0m |\n",
      "| \u001b[0m 238     \u001b[0m | \u001b[0m 0.4842  \u001b[0m | \u001b[0m 0.6825  \u001b[0m | \u001b[0m 0.003358\u001b[0m | \u001b[0m 51.34   \u001b[0m | \u001b[0m 0.02611 \u001b[0m | \u001b[0m 2.239   \u001b[0m | \u001b[0m 588.0   \u001b[0m |\n",
      "| \u001b[0m 239     \u001b[0m | \u001b[0m 0.554   \u001b[0m | \u001b[0m 0.4868  \u001b[0m | \u001b[0m 1.728   \u001b[0m | \u001b[0m 42.94   \u001b[0m | \u001b[0m 0.04126 \u001b[0m | \u001b[0m 0.2405  \u001b[0m | \u001b[0m 927.8   \u001b[0m |\n",
      "| \u001b[0m 240     \u001b[0m | \u001b[0m 0.4001  \u001b[0m | \u001b[0m 0.2736  \u001b[0m | \u001b[0m 2.774   \u001b[0m | \u001b[0m 42.42   \u001b[0m | \u001b[0m 0.03853 \u001b[0m | \u001b[0m 2.613   \u001b[0m | \u001b[0m 927.9   \u001b[0m |\n",
      "| \u001b[0m 241     \u001b[0m | \u001b[0m 0.4415  \u001b[0m | \u001b[0m 0.7307  \u001b[0m | \u001b[0m 0.0684  \u001b[0m | \u001b[0m 35.06   \u001b[0m | \u001b[0m 0.08378 \u001b[0m | \u001b[0m 5.616   \u001b[0m | \u001b[0m 189.2   \u001b[0m |\n",
      "| \u001b[0m 242     \u001b[0m | \u001b[0m 0.4186  \u001b[0m | \u001b[0m 0.2365  \u001b[0m | \u001b[0m 0.5502  \u001b[0m | \u001b[0m 4.585   \u001b[0m | \u001b[0m 0.025   \u001b[0m | \u001b[0m 3.867   \u001b[0m | \u001b[0m 945.1   \u001b[0m |\n",
      "| \u001b[0m 243     \u001b[0m | \u001b[0m 0.5129  \u001b[0m | \u001b[0m 0.5198  \u001b[0m | \u001b[0m 1.173   \u001b[0m | \u001b[0m 52.68   \u001b[0m | \u001b[0m 0.08515 \u001b[0m | \u001b[0m 0.6745  \u001b[0m | \u001b[0m 583.5   \u001b[0m |\n",
      "| \u001b[0m 244     \u001b[0m | \u001b[0m 0.4439  \u001b[0m | \u001b[0m 0.3463  \u001b[0m | \u001b[0m 0.5145  \u001b[0m | \u001b[0m 32.63   \u001b[0m | \u001b[0m 0.08414 \u001b[0m | \u001b[0m 0.483   \u001b[0m | \u001b[0m 923.3   \u001b[0m |\n",
      "| \u001b[0m 245     \u001b[0m | \u001b[0m 0.416   \u001b[0m | \u001b[0m 0.2482  \u001b[0m | \u001b[0m 1.355   \u001b[0m | \u001b[0m 48.55   \u001b[0m | \u001b[0m 0.07325 \u001b[0m | \u001b[0m 1.571   \u001b[0m | \u001b[0m 586.3   \u001b[0m |\n",
      "| \u001b[0m 246     \u001b[0m | \u001b[0m 0.482   \u001b[0m | \u001b[0m 0.6397  \u001b[0m | \u001b[0m 3.325   \u001b[0m | \u001b[0m 32.33   \u001b[0m | \u001b[0m 0.0195  \u001b[0m | \u001b[0m 1.828   \u001b[0m | \u001b[0m 928.5   \u001b[0m |\n",
      "| \u001b[0m 247     \u001b[0m | \u001b[0m 0.4861  \u001b[0m | \u001b[0m 0.4034  \u001b[0m | \u001b[0m 0.7699  \u001b[0m | \u001b[0m 34.95   \u001b[0m | \u001b[0m 0.02247 \u001b[0m | \u001b[0m 1.578   \u001b[0m | \u001b[0m 924.5   \u001b[0m |\n",
      "| \u001b[0m 248     \u001b[0m | \u001b[0m 0.4723  \u001b[0m | \u001b[0m 0.486   \u001b[0m | \u001b[0m 7.513   \u001b[0m | \u001b[0m 17.8    \u001b[0m | \u001b[0m 0.02897 \u001b[0m | \u001b[0m 0.8173  \u001b[0m | \u001b[0m 941.9   \u001b[0m |\n",
      "| \u001b[0m 249     \u001b[0m | \u001b[0m 0.5839  \u001b[0m | \u001b[0m 0.9688  \u001b[0m | \u001b[0m 0.5578  \u001b[0m | \u001b[0m 54.8    \u001b[0m | \u001b[0m 0.07057 \u001b[0m | \u001b[0m 0.4641  \u001b[0m | \u001b[0m 585.1   \u001b[0m |\n",
      "| \u001b[0m 250     \u001b[0m | \u001b[0m 0.4764  \u001b[0m | \u001b[0m 0.4537  \u001b[0m | \u001b[0m 3.352   \u001b[0m | \u001b[0m 61.85   \u001b[0m | \u001b[0m 0.05843 \u001b[0m | \u001b[0m 0.9065  \u001b[0m | \u001b[0m 579.7   \u001b[0m |\n",
      "| \u001b[0m 251     \u001b[0m | \u001b[0m 0.5044  \u001b[0m | \u001b[0m 0.4401  \u001b[0m | \u001b[0m 1.137   \u001b[0m | \u001b[0m 1.444   \u001b[0m | \u001b[0m 0.0531  \u001b[0m | \u001b[0m 3.244   \u001b[0m | \u001b[0m 948.8   \u001b[0m |\n",
      "| \u001b[0m 252     \u001b[0m | \u001b[0m 0.5155  \u001b[0m | \u001b[0m 0.4639  \u001b[0m | \u001b[0m 3.619   \u001b[0m | \u001b[0m 51.46   \u001b[0m | \u001b[0m 0.03128 \u001b[0m | \u001b[0m 0.3624  \u001b[0m | \u001b[0m 585.8   \u001b[0m |\n",
      "| \u001b[0m 253     \u001b[0m | \u001b[0m 0.5079  \u001b[0m | \u001b[0m 0.7277  \u001b[0m | \u001b[0m 1.244   \u001b[0m | \u001b[0m 10.39   \u001b[0m | \u001b[0m 0.01285 \u001b[0m | \u001b[0m 2.646   \u001b[0m | \u001b[0m 943.1   \u001b[0m |\n",
      "| \u001b[0m 254     \u001b[0m | \u001b[0m 0.4522  \u001b[0m | \u001b[0m 0.9185  \u001b[0m | \u001b[0m 4.215   \u001b[0m | \u001b[0m 52.38   \u001b[0m | \u001b[0m 0.09302 \u001b[0m | \u001b[0m 3.144   \u001b[0m | \u001b[0m 584.2   \u001b[0m |\n",
      "| \u001b[0m 255     \u001b[0m | \u001b[0m 0.5502  \u001b[0m | \u001b[0m 0.881   \u001b[0m | \u001b[0m 3.979   \u001b[0m | \u001b[0m 11.63   \u001b[0m | \u001b[0m 0.09138 \u001b[0m | \u001b[0m 0.907   \u001b[0m | \u001b[0m 945.3   \u001b[0m |\n",
      "| \u001b[0m 256     \u001b[0m | \u001b[0m 0.4074  \u001b[0m | \u001b[0m 0.2332  \u001b[0m | \u001b[0m 7.351   \u001b[0m | \u001b[0m 7.774   \u001b[0m | \u001b[0m 0.03078 \u001b[0m | \u001b[0m 1.798   \u001b[0m | \u001b[0m 945.0   \u001b[0m |\n",
      "| \u001b[0m 257     \u001b[0m | \u001b[0m 0.515   \u001b[0m | \u001b[0m 0.4439  \u001b[0m | \u001b[0m 3.556   \u001b[0m | \u001b[0m 0.9332  \u001b[0m | \u001b[0m 0.05413 \u001b[0m | \u001b[0m 1.324   \u001b[0m | \u001b[0m 943.9   \u001b[0m |\n",
      "| \u001b[0m 258     \u001b[0m | \u001b[0m 0.5129  \u001b[0m | \u001b[0m 0.8643  \u001b[0m | \u001b[0m 1.26    \u001b[0m | \u001b[0m 30.83   \u001b[0m | \u001b[0m 0.09522 \u001b[0m | \u001b[0m 1.5     \u001b[0m | \u001b[0m 925.5   \u001b[0m |\n",
      "| \u001b[95m 259     \u001b[0m | \u001b[95m 0.7209  \u001b[0m | \u001b[95m 1.0     \u001b[0m | \u001b[95m 1.315   \u001b[0m | \u001b[95m 3.977   \u001b[0m | \u001b[95m 0.1     \u001b[0m | \u001b[95m 0.0     \u001b[0m | \u001b[95m 947.4   \u001b[0m |\n",
      "| \u001b[0m 260     \u001b[0m | \u001b[0m 0.4547  \u001b[0m | \u001b[0m 0.1276  \u001b[0m | \u001b[0m 1.362   \u001b[0m | \u001b[0m 43.59   \u001b[0m | \u001b[0m 0.08376 \u001b[0m | \u001b[0m 0.08126 \u001b[0m | \u001b[0m 925.3   \u001b[0m |\n",
      "| \u001b[0m 261     \u001b[0m | \u001b[0m 0.4587  \u001b[0m | \u001b[0m 0.4467  \u001b[0m | \u001b[0m 2.672   \u001b[0m | \u001b[0m 0.8842  \u001b[0m | \u001b[0m 0.0746  \u001b[0m | \u001b[0m 5.772   \u001b[0m | \u001b[0m 939.7   \u001b[0m |\n",
      "| \u001b[0m 262     \u001b[0m | \u001b[0m 0.5377  \u001b[0m | \u001b[0m 0.3909  \u001b[0m | \u001b[0m 3.128   \u001b[0m | \u001b[0m 9.866   \u001b[0m | \u001b[0m 0.06056 \u001b[0m | \u001b[0m 0.4812  \u001b[0m | \u001b[0m 941.0   \u001b[0m |\n",
      "| \u001b[0m 263     \u001b[0m | \u001b[0m 0.5224  \u001b[0m | \u001b[0m 0.9411  \u001b[0m | \u001b[0m 1.233   \u001b[0m | \u001b[0m 57.96   \u001b[0m | \u001b[0m 0.07982 \u001b[0m | \u001b[0m 1.186   \u001b[0m | \u001b[0m 584.8   \u001b[0m |\n",
      "| \u001b[0m 264     \u001b[0m | \u001b[0m 0.4474  \u001b[0m | \u001b[0m 0.5559  \u001b[0m | \u001b[0m 3.608   \u001b[0m | \u001b[0m 11.12   \u001b[0m | \u001b[0m 0.08869 \u001b[0m | \u001b[0m 4.03    \u001b[0m | \u001b[0m 943.2   \u001b[0m |\n",
      "| \u001b[0m 265     \u001b[0m | \u001b[0m 0.4519  \u001b[0m | \u001b[0m 0.2544  \u001b[0m | \u001b[0m 0.9659  \u001b[0m | \u001b[0m 35.21   \u001b[0m | \u001b[0m 0.04273 \u001b[0m | \u001b[0m 0.1462  \u001b[0m | \u001b[0m 931.6   \u001b[0m |\n",
      "| \u001b[0m 266     \u001b[0m | \u001b[0m 0.5821  \u001b[0m | \u001b[0m 0.5884  \u001b[0m | \u001b[0m 3.101   \u001b[0m | \u001b[0m 57.24   \u001b[0m | \u001b[0m 0.08202 \u001b[0m | \u001b[0m 0.01353 \u001b[0m | \u001b[0m 585.6   \u001b[0m |\n",
      "| \u001b[0m 267     \u001b[0m | \u001b[0m 0.4889  \u001b[0m | \u001b[0m 0.4301  \u001b[0m | \u001b[0m 5.716   \u001b[0m | \u001b[0m 14.06   \u001b[0m | \u001b[0m 0.0249  \u001b[0m | \u001b[0m 0.7783  \u001b[0m | \u001b[0m 940.9   \u001b[0m |\n",
      "| \u001b[0m 268     \u001b[0m | \u001b[0m 0.5216  \u001b[0m | \u001b[0m 0.6617  \u001b[0m | \u001b[0m 3.745   \u001b[0m | \u001b[0m 10.88   \u001b[0m | \u001b[0m 0.03556 \u001b[0m | \u001b[0m 1.165   \u001b[0m | \u001b[0m 943.2   \u001b[0m |\n",
      "| \u001b[0m 269     \u001b[0m | \u001b[0m 0.5126  \u001b[0m | \u001b[0m 0.408   \u001b[0m | \u001b[0m 0.06037 \u001b[0m | \u001b[0m 46.56   \u001b[0m | \u001b[0m 0.04866 \u001b[0m | \u001b[0m 0.9382  \u001b[0m | \u001b[0m 582.3   \u001b[0m |\n",
      "| \u001b[0m 270     \u001b[0m | \u001b[0m 0.4417  \u001b[0m | \u001b[0m 0.2597  \u001b[0m | \u001b[0m 2.544   \u001b[0m | \u001b[0m 41.72   \u001b[0m | \u001b[0m 0.03924 \u001b[0m | \u001b[0m 0.1562  \u001b[0m | \u001b[0m 589.1   \u001b[0m |\n",
      "| \u001b[0m 271     \u001b[0m | \u001b[0m 0.435   \u001b[0m | \u001b[0m 0.9737  \u001b[0m | \u001b[0m 3.861   \u001b[0m | \u001b[0m 57.28   \u001b[0m | \u001b[0m 0.08053 \u001b[0m | \u001b[0m 4.273   \u001b[0m | \u001b[0m 586.3   \u001b[0m |\n",
      "| \u001b[0m 272     \u001b[0m | \u001b[0m 0.4023  \u001b[0m | \u001b[0m 0.3403  \u001b[0m | \u001b[0m 7.815   \u001b[0m | \u001b[0m 9.54    \u001b[0m | \u001b[0m 0.07694 \u001b[0m | \u001b[0m 2.131   \u001b[0m | \u001b[0m 939.7   \u001b[0m |\n",
      "| \u001b[0m 273     \u001b[0m | \u001b[0m 0.5034  \u001b[0m | \u001b[0m 0.5434  \u001b[0m | \u001b[0m 1.022   \u001b[0m | \u001b[0m 5.595   \u001b[0m | \u001b[0m 0.04327 \u001b[0m | \u001b[0m 2.465   \u001b[0m | \u001b[0m 948.5   \u001b[0m |\n",
      "| \u001b[0m 274     \u001b[0m | \u001b[0m 0.5922  \u001b[0m | \u001b[0m 0.7921  \u001b[0m | \u001b[0m 3.427   \u001b[0m | \u001b[0m 17.82   \u001b[0m | \u001b[0m 0.02727 \u001b[0m | \u001b[0m 0.164   \u001b[0m | \u001b[0m 943.6   \u001b[0m |\n",
      "| \u001b[0m 275     \u001b[0m | \u001b[0m 0.6102  \u001b[0m | \u001b[0m 0.8252  \u001b[0m | \u001b[0m 4.0     \u001b[0m | \u001b[0m 9.937   \u001b[0m | \u001b[0m 0.05302 \u001b[0m | \u001b[0m 0.04902 \u001b[0m | \u001b[0m 936.6   \u001b[0m |\n",
      "| \u001b[0m 276     \u001b[0m | \u001b[0m 0.4902  \u001b[0m | \u001b[0m 0.703   \u001b[0m | \u001b[0m 3.695   \u001b[0m | \u001b[0m 8.444   \u001b[0m | \u001b[0m 0.03245 \u001b[0m | \u001b[0m 2.544   \u001b[0m | \u001b[0m 938.4   \u001b[0m |\n",
      "| \u001b[0m 277     \u001b[0m | \u001b[0m 0.5546  \u001b[0m | \u001b[0m 0.6658  \u001b[0m | \u001b[0m 2.486   \u001b[0m | \u001b[0m 13.02   \u001b[0m | \u001b[0m 0.06751 \u001b[0m | \u001b[0m 0.723   \u001b[0m | \u001b[0m 944.6   \u001b[0m |\n",
      "| \u001b[0m 278     \u001b[0m | \u001b[0m 0.4904  \u001b[0m | \u001b[0m 0.7447  \u001b[0m | \u001b[0m 1.711   \u001b[0m | \u001b[0m 1.196   \u001b[0m | \u001b[0m 0.02464 \u001b[0m | \u001b[0m 6.08    \u001b[0m | \u001b[0m 947.0   \u001b[0m |\n",
      "| \u001b[0m 279     \u001b[0m | \u001b[0m 0.4807  \u001b[0m | \u001b[0m 0.525   \u001b[0m | \u001b[0m 0.919   \u001b[0m | \u001b[0m 8.598   \u001b[0m | \u001b[0m 0.02111 \u001b[0m | \u001b[0m 3.256   \u001b[0m | \u001b[0m 941.1   \u001b[0m |\n",
      "| \u001b[0m 280     \u001b[0m | \u001b[0m 0.6543  \u001b[0m | \u001b[0m 0.8585  \u001b[0m | \u001b[0m 3.292   \u001b[0m | \u001b[0m 15.63   \u001b[0m | \u001b[0m 0.0347  \u001b[0m | \u001b[0m 0.0     \u001b[0m | \u001b[0m 943.6   \u001b[0m |\n",
      "| \u001b[0m 281     \u001b[0m | \u001b[0m 0.55    \u001b[0m | \u001b[0m 0.4877  \u001b[0m | \u001b[0m 0.9639  \u001b[0m | \u001b[0m 7.0     \u001b[0m | \u001b[0m 0.05283 \u001b[0m | \u001b[0m 0.8623  \u001b[0m | \u001b[0m 949.5   \u001b[0m |\n",
      "| \u001b[0m 282     \u001b[0m | \u001b[0m 0.5722  \u001b[0m | \u001b[0m 0.8562  \u001b[0m | \u001b[0m 4.251   \u001b[0m | \u001b[0m 7.8     \u001b[0m | \u001b[0m 0.04874 \u001b[0m | \u001b[0m 0.271   \u001b[0m | \u001b[0m 934.0   \u001b[0m |\n",
      "| \u001b[0m 283     \u001b[0m | \u001b[0m 0.4435  \u001b[0m | \u001b[0m 0.3477  \u001b[0m | \u001b[0m 0.1948  \u001b[0m | \u001b[0m 41.41   \u001b[0m | \u001b[0m 0.04383 \u001b[0m | \u001b[0m 0.4601  \u001b[0m | \u001b[0m 925.6   \u001b[0m |\n",
      "| \u001b[0m 284     \u001b[0m | \u001b[0m 0.4555  \u001b[0m | \u001b[0m 0.7907  \u001b[0m | \u001b[0m 4.318   \u001b[0m | \u001b[0m 17.6    \u001b[0m | \u001b[0m 0.06176 \u001b[0m | \u001b[0m 3.609   \u001b[0m | \u001b[0m 942.3   \u001b[0m |\n",
      "| \u001b[0m 285     \u001b[0m | \u001b[0m 0.5556  \u001b[0m | \u001b[0m 0.9281  \u001b[0m | \u001b[0m 0.1426  \u001b[0m | \u001b[0m 48.82   \u001b[0m | \u001b[0m 0.05367 \u001b[0m | \u001b[0m 0.8992  \u001b[0m | \u001b[0m 585.9   \u001b[0m |\n",
      "| \u001b[0m 286     \u001b[0m | \u001b[0m 0.6106  \u001b[0m | \u001b[0m 0.9175  \u001b[0m | \u001b[0m 1.46    \u001b[0m | \u001b[0m 6.291   \u001b[0m | \u001b[0m 0.06317 \u001b[0m | \u001b[0m 0.7139  \u001b[0m | \u001b[0m 935.6   \u001b[0m |\n",
      "| \u001b[0m 287     \u001b[0m | \u001b[0m 0.5431  \u001b[0m | \u001b[0m 0.5444  \u001b[0m | \u001b[0m 1.185   \u001b[0m | \u001b[0m 2.706   \u001b[0m | \u001b[0m 0.02759 \u001b[0m | \u001b[0m 1.267   \u001b[0m | \u001b[0m 947.2   \u001b[0m |\n",
      "| \u001b[0m 288     \u001b[0m | \u001b[0m 0.5789  \u001b[0m | \u001b[0m 0.751   \u001b[0m | \u001b[0m 3.917   \u001b[0m | \u001b[0m 12.09   \u001b[0m | \u001b[0m 0.04102 \u001b[0m | \u001b[0m 0.2434  \u001b[0m | \u001b[0m 933.5   \u001b[0m |\n",
      "| \u001b[0m 289     \u001b[0m | \u001b[0m 0.4045  \u001b[0m | \u001b[0m 0.1698  \u001b[0m | \u001b[0m 1.578   \u001b[0m | \u001b[0m 59.66   \u001b[0m | \u001b[0m 0.01423 \u001b[0m | \u001b[0m 1.343   \u001b[0m | \u001b[0m 588.6   \u001b[0m |\n",
      "| \u001b[0m 290     \u001b[0m | \u001b[0m 0.4394  \u001b[0m | \u001b[0m 0.1889  \u001b[0m | \u001b[0m 2.191   \u001b[0m | \u001b[0m 38.48   \u001b[0m | \u001b[0m 0.04101 \u001b[0m | \u001b[0m 0.3134  \u001b[0m | \u001b[0m 924.0   \u001b[0m |\n",
      "| \u001b[0m 291     \u001b[0m | \u001b[0m 0.5222  \u001b[0m | \u001b[0m 0.4913  \u001b[0m | \u001b[0m 4.236   \u001b[0m | \u001b[0m 4.158   \u001b[0m | \u001b[0m 0.03094 \u001b[0m | \u001b[0m 0.6256  \u001b[0m | \u001b[0m 932.6   \u001b[0m |\n",
      "| \u001b[0m 292     \u001b[0m | \u001b[0m 0.5697  \u001b[0m | \u001b[0m 0.7951  \u001b[0m | \u001b[0m 0.3431  \u001b[0m | \u001b[0m 15.15   \u001b[0m | \u001b[0m 0.06552 \u001b[0m | \u001b[0m 1.016   \u001b[0m | \u001b[0m 940.0   \u001b[0m |\n",
      "| \u001b[0m 293     \u001b[0m | \u001b[0m 0.5587  \u001b[0m | \u001b[0m 0.8581  \u001b[0m | \u001b[0m 0.7494  \u001b[0m | \u001b[0m 10.75   \u001b[0m | \u001b[0m 0.01936 \u001b[0m | \u001b[0m 1.315   \u001b[0m | \u001b[0m 936.0   \u001b[0m |\n",
      "| \u001b[0m 294     \u001b[0m | \u001b[0m 0.5459  \u001b[0m | \u001b[0m 0.4125  \u001b[0m | \u001b[0m 2.624   \u001b[0m | \u001b[0m 10.31   \u001b[0m | \u001b[0m 0.08507 \u001b[0m | \u001b[0m 0.4652  \u001b[0m | \u001b[0m 937.9   \u001b[0m |\n",
      "| \u001b[0m 295     \u001b[0m | \u001b[0m 0.5068  \u001b[0m | \u001b[0m 0.9255  \u001b[0m | \u001b[0m 4.602   \u001b[0m | \u001b[0m 8.121   \u001b[0m | \u001b[0m 0.0766  \u001b[0m | \u001b[0m 2.518   \u001b[0m | \u001b[0m 933.6   \u001b[0m |\n",
      "| \u001b[0m 296     \u001b[0m | \u001b[0m 0.5095  \u001b[0m | \u001b[0m 0.8371  \u001b[0m | \u001b[0m 0.6404  \u001b[0m | \u001b[0m 13.01   \u001b[0m | \u001b[0m 0.08433 \u001b[0m | \u001b[0m 2.667   \u001b[0m | \u001b[0m 940.1   \u001b[0m |\n",
      "| \u001b[0m 297     \u001b[0m | \u001b[0m 0.4882  \u001b[0m | \u001b[0m 0.8403  \u001b[0m | \u001b[0m 7.488   \u001b[0m | \u001b[0m 10.87   \u001b[0m | \u001b[0m 0.09093 \u001b[0m | \u001b[0m 1.151   \u001b[0m | \u001b[0m 933.6   \u001b[0m |\n",
      "| \u001b[0m 298     \u001b[0m | \u001b[0m 0.4057  \u001b[0m | \u001b[0m 0.1119  \u001b[0m | \u001b[0m 2.478   \u001b[0m | \u001b[0m 3.029   \u001b[0m | \u001b[0m 0.06035 \u001b[0m | \u001b[0m 4.772   \u001b[0m | \u001b[0m 930.7   \u001b[0m |\n",
      "| \u001b[0m 299     \u001b[0m | \u001b[0m 0.4954  \u001b[0m | \u001b[0m 0.7596  \u001b[0m | \u001b[0m 0.04741 \u001b[0m | \u001b[0m 6.519   \u001b[0m | \u001b[0m 0.06162 \u001b[0m | \u001b[0m 5.104   \u001b[0m | \u001b[0m 937.5   \u001b[0m |\n",
      "| \u001b[0m 300     \u001b[0m | \u001b[0m 0.5847  \u001b[0m | \u001b[0m 0.8445  \u001b[0m | \u001b[0m 0.1909  \u001b[0m | \u001b[0m 17.5    \u001b[0m | \u001b[0m 0.04296 \u001b[0m | \u001b[0m 0.7847  \u001b[0m | \u001b[0m 942.3   \u001b[0m |\n",
      "=================================================================================================\n",
      "{'feature_fraction': 1.0, 'lambda_l1': 1.3148859158762531, 'lambda_l2': 3.97705466494012, 'learning_rate': 0.1, 'min_split_gain': 0.0, 'num_leaves': 947.4050310387944}\n"
     ]
    }
   ],
   "source": [
    "import pandas as pd\n",
    "import numpy as np\n",
    "import lightgbm as lgb\n",
    "from bayes_opt import BayesianOptimization\n",
    "from sklearn.datasets import load_boston\n",
    "from sklearn.metrics import r2_score\n",
    "import warnings\n",
    "warnings.filterwarnings('ignore')\n",
    "import hyperopt\n",
    "from hyperopt import fmin, tpe, hp, STATUS_OK, Trials\n",
    "\n",
    "\n",
    "from sklearn.preprocessing import LabelEncoder\n",
    "def label_encoder(input_df, encoder_dict=None):\n",
    "    \"\"\" Process a dataframe into a form useable by LightGBM \"\"\"\n",
    "    # Label encode categoricals\n",
    "    categorical_feats = input_df.columns[input_df.dtypes == 'object']\n",
    "    for feat in categorical_feats:\n",
    "        encoder = LabelEncoder()\n",
    "        input_df[feat] = encoder.fit_transform(input_df[feat].fillna('NULL'))\n",
    "    return input_df, categorical_feats.tolist(), encoder_dict\n",
    "\n",
    "\n",
    "# Load Boston housing data\n",
    "boston=load_boston()\n",
    "X =pd.DataFrame(boston.data,columns=boston.feature_names)\n",
    "y = boston.target\n",
    "\n",
    "application_train = X_train.join(y_train)\n",
    "application_train, categorical_feats, encoder_dict = label_encoder(application_train)\n",
    "\n",
    "X = application_train.drop('is_fishing', axis=1)\n",
    "y = application_train.is_fishing\n",
    "\n",
    "\n",
    "#dtrain = lgb.Dataset(data=X, label=y)\n",
    "\n",
    "def bayesion_opt_lgbm(X, y, init_iter=3, n_iters=7, random_state=11, seed = 101, num_iterations=100):\n",
    "    dtrain = lgb.Dataset(data=X, label=y)\n",
    "\n",
    "    def lgb_r2_score(preds, dtrain):\n",
    "        labels = dtrain.get_label()\n",
    "        return 'r2', r2_score(labels, preds), True\n",
    "\n",
    "    # Objective Function\n",
    "    #def hyp_lgbm(num_leaves, feature_fraction, bagging_fraction, max_depth, min_split_gain, min_child_weight,lambda_l1, lambda_l2, learning_rate):\n",
    "    def hyp_lgbm(num_leaves, feature_fraction,   min_split_gain, lambda_l1, lambda_l2, learning_rate):\n",
    "\n",
    "            params = {'application':'binary','num_iterations': num_iterations,'early_stopping_round':int(50 + 7/learning_rate),\n",
    "                        'metric':'lgb_r2_score'} # Default parameters\n",
    "\n",
    "            params[\"num_leaves\"] = int(round(num_leaves))\n",
    "            params['feature_fraction'] = max(min(feature_fraction, 1), 0)\n",
    "            #params['bagging_fraction'] = max(min(bagging_fraction, 1), 0)\n",
    "            #params['max_depth'] = int(round(max_depth))\n",
    "            params['min_split_gain'] = min_split_gain\n",
    "            #params['min_child_weight'] = min_child_weight\n",
    "            \n",
    "            params['learning_rate']= max(min(learning_rate, 1), 0)\n",
    "            params['lambda_l1']= lambda_l1\n",
    "            params['lambda_l2']= lambda_l2\n",
    "            \n",
    "            params['verbose']=-1\n",
    "            params['objective'] ='binary'\n",
    "            params['boost_from_average']=True #adjusts initial score to the mean of labels for faster convergence\n",
    "            \n",
    "            cv_results = lgb.cv(params, dtrain, nfold=3, seed=seed,categorical_feature=[], stratified=False, verbose_eval =None, feval=lgb_r2_score)\n",
    "                            \n",
    "            # print(cv_results)\n",
    "            return np.max(cv_results['r2-mean'])\n",
    "    # Domain space-- Range of hyperparameters \n",
    "    #https://lightgbm.readthedocs.io/en/latest/Parameters.html\n",
    "\n",
    "    pds = {\n",
    "                #'eta':(0.025,0.15),\n",
    "                'num_leaves': (8, 1024),\n",
    "                'feature_fraction': (0.1, 1.0),\n",
    "                #'bagging_fraction': (0.1, 1),\n",
    "                #'max_depth': (30, 70),\n",
    "                'min_split_gain': (0.0, 20),\n",
    "                #'min_child_weight': (10, 50),\n",
    "                'lambda_l1':(0.0,10),\n",
    "                'lambda_l2':(0.0,100),\n",
    "                'learning_rate':(0.01, 0.1)          \n",
    "                }\n",
    "\n",
    "\n",
    "\n",
    "    # Surrogate model\n",
    "    optimizer = BayesianOptimization(hyp_lgbm, pds, random_state=random_state)\n",
    "                                        \n",
    "    # Optimize\n",
    "    optimizer.maximize(init_points=init_iter, n_iter=n_iters)\n",
    "    return optimizer.max['params']\n",
    "\n",
    "parametros_optimos = bayesion_opt_lgbm(X, y, init_iter=100, n_iters=200, random_state=50, seed = 40, num_iterations = 1000)\n",
    "print(parametros_optimos)\n"
   ]
  },
  {
   "cell_type": "code",
   "execution_count": 21,
   "metadata": {},
   "outputs": [
    {
     "name": "stdout",
     "output_type": "stream",
     "text": [
      "{'feature_fraction': 1.0, 'lambda_l1': 1.3148859158762531, 'lambda_l2': 3.97705466494012, 'learning_rate': 0.1, 'min_split_gain': 0.0, 'num_leaves': 947.4050310387944}\n"
     ]
    }
   ],
   "source": [
    "print(parametros_optimos)"
   ]
  },
  {
   "cell_type": "code",
   "execution_count": 22,
   "metadata": {},
   "outputs": [
    {
     "name": "stdout",
     "output_type": "stream",
     "text": [
      "[LightGBM] [Warning] Auto-choosing col-wise multi-threading, the overhead of testing was 0.000489 seconds.\n",
      "You can set `force_col_wise=true` to remove the overhead.\n",
      "[LightGBM] [Info] Total Bins 862\n",
      "[LightGBM] [Info] Number of data points in the train set: 17140, number of used features: 4\n",
      "[LightGBM] [Info] Start training from score 0.088273\n",
      "[LightGBM] [Warning] No further splits with positive gain, best gain: -inf\n",
      "[LightGBM] [Warning] No further splits with positive gain, best gain: -inf\n",
      "[LightGBM] [Warning] No further splits with positive gain, best gain: -inf\n",
      "[LightGBM] [Warning] No further splits with positive gain, best gain: -inf\n",
      "[LightGBM] [Warning] No further splits with positive gain, best gain: -inf\n",
      "[LightGBM] [Warning] No further splits with positive gain, best gain: -inf\n",
      "[LightGBM] [Warning] No further splits with positive gain, best gain: -inf\n",
      "[LightGBM] [Warning] No further splits with positive gain, best gain: -inf\n",
      "[LightGBM] [Warning] No further splits with positive gain, best gain: -inf\n",
      "[LightGBM] [Warning] No further splits with positive gain, best gain: -inf\n",
      "[LightGBM] [Warning] No further splits with positive gain, best gain: -inf\n",
      "[LightGBM] [Warning] No further splits with positive gain, best gain: -inf\n",
      "[LightGBM] [Warning] No further splits with positive gain, best gain: -inf\n",
      "[LightGBM] [Warning] No further splits with positive gain, best gain: -inf\n",
      "[LightGBM] [Warning] No further splits with positive gain, best gain: -inf\n",
      "[LightGBM] [Warning] No further splits with positive gain, best gain: -inf\n",
      "[LightGBM] [Warning] No further splits with positive gain, best gain: -inf\n",
      "[LightGBM] [Warning] No further splits with positive gain, best gain: -inf\n",
      "[LightGBM] [Warning] No further splits with positive gain, best gain: -inf\n",
      "[LightGBM] [Warning] No further splits with positive gain, best gain: -inf\n",
      "[LightGBM] [Warning] No further splits with positive gain, best gain: -inf\n",
      "[LightGBM] [Warning] No further splits with positive gain, best gain: -inf\n",
      "[LightGBM] [Warning] No further splits with positive gain, best gain: -inf\n",
      "[LightGBM] [Warning] No further splits with positive gain, best gain: -inf\n",
      "[LightGBM] [Warning] No further splits with positive gain, best gain: -inf\n",
      "[LightGBM] [Warning] No further splits with positive gain, best gain: -inf\n",
      "[LightGBM] [Warning] No further splits with positive gain, best gain: -inf\n",
      "[LightGBM] [Warning] No further splits with positive gain, best gain: -inf\n",
      "[LightGBM] [Warning] No further splits with positive gain, best gain: -inf\n",
      "[LightGBM] [Warning] No further splits with positive gain, best gain: -inf\n",
      "[LightGBM] [Warning] No further splits with positive gain, best gain: -inf\n",
      "[LightGBM] [Warning] No further splits with positive gain, best gain: -inf\n",
      "[LightGBM] [Warning] No further splits with positive gain, best gain: -inf\n",
      "[LightGBM] [Warning] No further splits with positive gain, best gain: -inf\n",
      "[LightGBM] [Warning] No further splits with positive gain, best gain: -inf\n",
      "[LightGBM] [Warning] No further splits with positive gain, best gain: -inf\n",
      "[LightGBM] [Warning] No further splits with positive gain, best gain: -inf\n",
      "[LightGBM] [Warning] No further splits with positive gain, best gain: -inf\n",
      "[LightGBM] [Warning] No further splits with positive gain, best gain: -inf\n",
      "[LightGBM] [Warning] No further splits with positive gain, best gain: -inf\n",
      "[LightGBM] [Warning] No further splits with positive gain, best gain: -inf\n",
      "[LightGBM] [Warning] No further splits with positive gain, best gain: -inf\n",
      "[LightGBM] [Warning] No further splits with positive gain, best gain: -inf\n",
      "[LightGBM] [Warning] No further splits with positive gain, best gain: -inf\n",
      "[LightGBM] [Warning] No further splits with positive gain, best gain: -inf\n",
      "[LightGBM] [Warning] No further splits with positive gain, best gain: -inf\n",
      "[LightGBM] [Warning] No further splits with positive gain, best gain: -inf\n",
      "[LightGBM] [Warning] No further splits with positive gain, best gain: -inf\n",
      "[LightGBM] [Warning] No further splits with positive gain, best gain: -inf\n",
      "[LightGBM] [Warning] No further splits with positive gain, best gain: -inf\n",
      "[LightGBM] [Warning] No further splits with positive gain, best gain: -inf\n",
      "[LightGBM] [Warning] No further splits with positive gain, best gain: -inf\n",
      "[LightGBM] [Warning] No further splits with positive gain, best gain: -inf\n",
      "[LightGBM] [Warning] No further splits with positive gain, best gain: -inf\n",
      "[LightGBM] [Warning] No further splits with positive gain, best gain: -inf\n",
      "[LightGBM] [Warning] No further splits with positive gain, best gain: -inf\n",
      "[LightGBM] [Warning] No further splits with positive gain, best gain: -inf\n",
      "[LightGBM] [Warning] No further splits with positive gain, best gain: -inf\n",
      "[LightGBM] [Warning] No further splits with positive gain, best gain: -inf\n",
      "[LightGBM] [Warning] No further splits with positive gain, best gain: -inf\n",
      "[LightGBM] [Warning] No further splits with positive gain, best gain: -inf\n",
      "[LightGBM] [Warning] No further splits with positive gain, best gain: -inf\n",
      "[LightGBM] [Warning] No further splits with positive gain, best gain: -inf\n",
      "[LightGBM] [Warning] No further splits with positive gain, best gain: -inf\n",
      "[LightGBM] [Warning] No further splits with positive gain, best gain: -inf\n",
      "[LightGBM] [Warning] No further splits with positive gain, best gain: -inf\n",
      "[LightGBM] [Warning] No further splits with positive gain, best gain: -inf\n",
      "[LightGBM] [Warning] No further splits with positive gain, best gain: -inf\n",
      "[LightGBM] [Warning] No further splits with positive gain, best gain: -inf\n",
      "[LightGBM] [Warning] No further splits with positive gain, best gain: -inf\n",
      "[LightGBM] [Warning] No further splits with positive gain, best gain: -inf\n",
      "[LightGBM] [Warning] No further splits with positive gain, best gain: -inf\n",
      "[LightGBM] [Warning] No further splits with positive gain, best gain: -inf\n",
      "[LightGBM] [Warning] No further splits with positive gain, best gain: -inf\n",
      "[LightGBM] [Warning] No further splits with positive gain, best gain: -inf\n",
      "[LightGBM] [Warning] No further splits with positive gain, best gain: -inf\n",
      "[LightGBM] [Warning] No further splits with positive gain, best gain: -inf\n",
      "[LightGBM] [Warning] No further splits with positive gain, best gain: -inf\n",
      "[LightGBM] [Warning] No further splits with positive gain, best gain: -inf\n",
      "[LightGBM] [Warning] No further splits with positive gain, best gain: -inf\n",
      "[LightGBM] [Warning] No further splits with positive gain, best gain: -inf\n",
      "[LightGBM] [Warning] No further splits with positive gain, best gain: -inf\n",
      "[LightGBM] [Warning] No further splits with positive gain, best gain: -inf\n",
      "[LightGBM] [Warning] No further splits with positive gain, best gain: -inf\n",
      "[LightGBM] [Warning] No further splits with positive gain, best gain: -inf\n",
      "[LightGBM] [Warning] No further splits with positive gain, best gain: -inf\n",
      "[LightGBM] [Warning] No further splits with positive gain, best gain: -inf\n",
      "[LightGBM] [Warning] No further splits with positive gain, best gain: -inf\n",
      "[LightGBM] [Warning] No further splits with positive gain, best gain: -inf\n",
      "[LightGBM] [Warning] No further splits with positive gain, best gain: -inf\n",
      "[LightGBM] [Warning] No further splits with positive gain, best gain: -inf\n",
      "[LightGBM] [Warning] No further splits with positive gain, best gain: -inf\n",
      "[LightGBM] [Warning] No further splits with positive gain, best gain: -inf\n",
      "[LightGBM] [Warning] No further splits with positive gain, best gain: -inf\n",
      "[LightGBM] [Warning] No further splits with positive gain, best gain: -inf\n",
      "[LightGBM] [Warning] No further splits with positive gain, best gain: -inf\n",
      "[LightGBM] [Warning] No further splits with positive gain, best gain: -inf\n",
      "[LightGBM] [Warning] No further splits with positive gain, best gain: -inf\n",
      "[LightGBM] [Warning] No further splits with positive gain, best gain: -inf\n",
      "[LightGBM] [Warning] No further splits with positive gain, best gain: -inf\n"
     ]
    },
    {
     "data": {
      "text/markdown": [
       "light_gbm optimizacion bayesiana"
      ],
      "text/plain": [
       "<IPython.core.display.Markdown object>"
      ]
     },
     "metadata": {},
     "output_type": "display_data"
    },
    {
     "data": {
      "image/png": "[encoded data removed]",
      "text/plain": [
       "<Figure size 432x288 with 1 Axes>"
      ]
     },
     "metadata": {
      "needs_background": "light"
     },
     "output_type": "display_data"
    },
    {
     "data": {
      "image/png": "[encoded data removed]",
      "text/plain": [
       "<Figure size 432x288 with 2 Axes>"
      ]
     },
     "metadata": {
      "needs_background": "light"
     },
     "output_type": "display_data"
    },
    {
     "data": {
      "text/html": [
       "<table>\n",
       "<tbody>\n",
       "<tr><td>Precision</td><td>Recall</td><td>Accuracy</td><td>F1  </td></tr>\n",
       "<tr><td>0.92     </td><td>0.84  </td><td>0.98    </td><td>0.88</td></tr>\n",
       "</tbody>\n",
       "</table>"
      ],
      "text/plain": [
       "'<table>\\n<tbody>\\n<tr><td>Precision</td><td>Recall</td><td>Accuracy</td><td>F1  </td></tr>\\n<tr><td>0.92     </td><td>0.84  </td><td>0.98    </td><td>0.88</td></tr>\\n</tbody>\\n</table>'"
      ]
     },
     "metadata": {},
     "output_type": "display_data"
    }
   ],
   "source": [
    "#parametros_optimos['max_depth'] = int(round(parametros_optimos['max_depth']))\n",
    "parametros_optimos['num_leaves'] = int(round(parametros_optimos['num_leaves']))\n",
    "\n",
    "dtrain = lgb.Dataset(data=X, label=y)\n",
    "def lgb_r2_score(preds, dtrain):\n",
    "        labels = dtrain.get_label()\n",
    "        return 'r2', r2_score(labels, preds), True\n",
    "dt = lgb.train(parametros_optimos,  dtrain,categorical_feature=[], verbose_eval =None, feval=lgb_r2_score)\n",
    "#clf = lgb.fit(parametros_optimos,  dtrain,categorical_feature=[], verbose_eval =None, feval=lgb_r2_score)\n",
    "\n",
    "lgb.plot_importance(dt)\n",
    "\n",
    "y_pred = dt.predict(X_test)\n",
    "#if>=0.5 ---> 1\n",
    "#else ---->0\n",
    "#rounding the values\n",
    "y_pred=y_pred.round(0)\n",
    "y_pred=y_pred.astype(int)\n",
    "y_pred = np.where(y_pred == 1, 'SI', 'NO')\n",
    "#print(y_pred)\n",
    "\n",
    "evaluate_model('light_gbm optimizacion bayesiana',y_test, y_pred)\n",
    "#cols = feature_importance_df_lgb[[\"feature\", \"importance\"]].groupby(\"feature\").mean().sort_values(by=\"importance\", ascending=False)[:50].index\n"
   ]
  },
  {
   "cell_type": "markdown",
   "metadata": {},
   "source": [
    "| Algorithm     | Precision     | Recall        | Accuracy      | F1            |\n",
    "| ------------- | ------------- | ------------- | ------------- | ------------- |\n",
    "| Arboles de decision  | 0.84  | 0.71  | 0.96  | 0.77  |\n",
    "|    Random Forest  | 0.94  | 0.80  | 0.98  | 0.86  |\n",
    "|    SVM        | 0.84  | 0.73  | 0.96  | 0.78  |\n",
    "|    LightGBM        | 0.93  | 0.86  | 0.98  | 0.89  |\n",
    "\t\t\t\n",
    "\t\t\t\n",
    "\t\t\t\n",
    "\n",
    "\n",
    "\t\t\t\t\t\t"
   ]
  },
  {
   "cell_type": "markdown",
   "metadata": {},
   "source": []
  }
 ],
 "metadata": {
  "interpreter": {
   "hash": "db2a60f505a9041374f6f3fb78368755bb5bc9c69ef08139ad82abb6b35de715"
  },
  "kernelspec": {
   "display_name": "Python 3.8.8 ('base')",
   "language": "python",
   "name": "python3"
  },
  "language_info": {
   "codemirror_mode": {
    "name": "ipython",
    "version": 3
   },
   "file_extension": ".py",
   "mimetype": "text/x-python",
   "name": "python",
   "nbconvert_exporter": "python",
   "pygments_lexer": "ipython3",
   "version": "3.8.8"
  },
  "orig_nbformat": 4
 },
 "nbformat": 4,
 "nbformat_minor": 2
}

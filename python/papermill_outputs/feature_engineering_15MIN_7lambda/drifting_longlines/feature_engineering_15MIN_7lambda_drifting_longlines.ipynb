{
 "cells": [
  {
   "cell_type": "code",
   "execution_count": 1,
   "id": "93c82039",
   "metadata": {
    "execution": {
     "iopub.execute_input": "2022-06-29T03:22:23.556789Z",
     "iopub.status.busy": "2022-06-29T03:22:23.555793Z",
     "iopub.status.idle": "2022-06-29T03:22:23.571749Z",
     "shell.execute_reply": "2022-06-29T03:22:23.571749Z"
    },
    "papermill": {
     "duration": 0.03391,
     "end_time": "2022-06-29T03:22:23.571749",
     "exception": false,
     "start_time": "2022-06-29T03:22:23.537839",
     "status": "completed"
    },
    "tags": [
     "injected-parameters"
    ]
   },
   "outputs": [],
   "source": [
    "# Parameters\n",
    "config = {\n",
    "    \"notebook\": \"notebooks/feature_engineering_15MIN_7lambda.ipynb\",\n",
    "    \"data_path\": \"C:/Users/nico_/Desktop/ITBA/TFI/global fishing watch/dataset/drifting_longlines.csv\",\n",
    "    \"output_label\": \"drifting_longlines\",\n",
    "}\n"
   ]
  },
  {
   "cell_type": "code",
   "execution_count": 2,
   "id": "e11b992c",
   "metadata": {
    "execution": {
     "iopub.execute_input": "2022-06-29T03:22:23.602667Z",
     "iopub.status.busy": "2022-06-29T03:22:23.602667Z",
     "iopub.status.idle": "2022-06-29T03:22:23.619621Z",
     "shell.execute_reply": "2022-06-29T03:22:23.620618Z"
    },
    "papermill": {
     "duration": 0.036901,
     "end_time": "2022-06-29T03:22:23.620618",
     "exception": false,
     "start_time": "2022-06-29T03:22:23.583717",
     "status": "completed"
    },
    "tags": []
   },
   "outputs": [
    {
     "name": "stdout",
     "output_type": "stream",
     "text": [
      "{'notebook': 'notebooks/feature_engineering_15MIN_7lambda.ipynb', 'data_path': 'C:/Users/nico_/Desktop/ITBA/TFI/global fishing watch/dataset/drifting_longlines.csv', 'output_label': 'drifting_longlines'}\n"
     ]
    }
   ],
   "source": [
    "# check if config exists\n",
    "try:\n",
    "    config\n",
    "except NameError:\n",
    "    config_exists = False\n",
    "else:\n",
    "    config_exists = True\n",
    "\n",
    "# make config if it does not exist already (e.g. passed in by papermill)\n",
    "if not(config_exists):\n",
    "    # set up some config for the experiment run\n",
    "    config = {\n",
    "        \"data_path\" : \"C:/Users/nico_/Desktop/ITBA/TFI/global fishing watch/dataset/trollers.csv\",\n",
    "        \"output_label\": \"trollers\"\n",
    "    }\n",
    "print(config)"
   ]
  },
  {
   "cell_type": "code",
   "execution_count": 3,
   "id": "6a1b3bdf",
   "metadata": {
    "execution": {
     "iopub.execute_input": "2022-06-29T03:22:23.654528Z",
     "iopub.status.busy": "2022-06-29T03:22:23.654528Z",
     "iopub.status.idle": "2022-06-29T03:27:09.077194Z",
     "shell.execute_reply": "2022-06-29T03:27:09.074826Z"
    },
    "papermill": {
     "duration": 285.444415,
     "end_time": "2022-06-29T03:27:09.077999",
     "exception": false,
     "start_time": "2022-06-29T03:22:23.633584",
     "status": "completed"
    },
    "tags": []
   },
   "outputs": [
    {
     "name": "stdout",
     "output_type": "stream",
     "text": [
      "120395\n"
     ]
    },
    {
     "name": "stdout",
     "output_type": "stream",
     "text": [
      "9678277\n"
     ]
    }
   ],
   "source": [
    "import pandas as pd\n",
    "import numpy as np\n",
    "from sklearn.tree import DecisionTreeClassifier # Import Decision Tree Classifier\n",
    "from sklearn.model_selection import train_test_split # Import train_test_split function\n",
    "from sklearn import metrics #Import scikit-learn metrics module for accuracy calculation\n",
    "\n",
    "df = pd.read_csv(config['data_path'], header=\"infer\", sep=\",\",error_bad_lines=False, engine ='python')\n",
    "\n",
    "#Nos quedamos con los puntos que estan mayor a 3 millas nauticas de la costa.\n",
    "df = df[(df['distance_from_shore'] >= 5556)]\n",
    "\n",
    "#Nos quedamos solamente con los valores que estamos seguros que esta o no esta pescando.\n",
    "df = df[(df['is_fishing'] == -1.0)  | (df['is_fishing'] == 1.0) ]\n",
    "\n",
    "#Renombramos las columnas de la variable a predecir de si esta pescando o no.\n",
    "df[\"is_fishing\"] = np.where(df[\"is_fishing\"] == 1.0, 'SI', 'NO')\n",
    "\n",
    "#Dropeamos los que contienen el mismo timestamp.\n",
    "df = df.drop_duplicates(subset='timestamp', keep=\"first\")\n",
    "\n",
    "#df['date_series'] = pd.to_datetime(df['timestamp'],unit='s')\n",
    "#df = df.set_index('date_series') \n",
    "\n",
    "aux = df\n",
    "\n",
    "print(len(df[df['is_fishing']=='SI']))\n",
    "print(len(df[df['is_fishing']=='NO']))\n"
   ]
  },
  {
   "cell_type": "code",
   "execution_count": 4,
   "id": "1bf9b7a2",
   "metadata": {
    "execution": {
     "iopub.execute_input": "2022-06-29T03:27:09.170495Z",
     "iopub.status.busy": "2022-06-29T03:27:09.141409Z",
     "iopub.status.idle": "2022-06-29T03:27:20.173566Z",
     "shell.execute_reply": "2022-06-29T03:27:20.173566Z"
    },
    "papermill": {
     "duration": 11.066665,
     "end_time": "2022-06-29T03:27:20.174589",
     "exception": false,
     "start_time": "2022-06-29T03:27:09.107924",
     "status": "completed"
    },
    "tags": []
   },
   "outputs": [
    {
     "name": "stdout",
     "output_type": "stream",
     "text": [
      "BEFORE\n",
      "120395\n"
     ]
    },
    {
     "name": "stdout",
     "output_type": "stream",
     "text": [
      "9678277\n"
     ]
    },
    {
     "name": "stdout",
     "output_type": "stream",
     "text": [
      "AFTER\n",
      "2331\n",
      "165761\n"
     ]
    },
    {
     "data": {
      "image/png": "[encoded data removed]",
      "text/plain": [
       "<Figure size 432x288 with 1 Axes>"
      ]
     },
     "metadata": {
      "needs_background": "light"
     },
     "output_type": "display_data"
    }
   ],
   "source": [
    "df = aux\n",
    "\n",
    "df['datetime'] = pd.to_datetime(df['timestamp'],unit='s')\n",
    "\n",
    "print(\"BEFORE\")\n",
    "print(len(df[df['is_fishing']=='SI']))\n",
    "print(len(df[df['is_fishing']=='NO']))\n",
    "\n",
    "df = df.resample('15Min',on='datetime').agg('first').dropna()  \n",
    "df.reset_index(drop=True, inplace=True)\n",
    "\n",
    "print(\"AFTER\")\n",
    "print(len(df[df['is_fishing']=='SI']))\n",
    "print(len(df[df['is_fishing']=='NO']))\n",
    "\n",
    "#print(df)\n",
    "#Calculo la diferencia de tiempo entre puntos consecutivos.\n",
    "\n",
    "import pandas as pd\n",
    "import matplotlib.pyplot as plt\n",
    "\n",
    "#Calculo la diferencia de tiempo entre puntos consecutivos.\n",
    "df['timediff']= df.groupby('mmsi')['timestamp'].diff()\n",
    "\n",
    "df_graph = df[(df['timediff'] <= 60*30) ]\n",
    "df_graph = df_graph[(df_graph['timediff'] > 0) ]\n",
    "plt.hist(df_graph['timediff']/60,bins=100)\n",
    "plt.ylabel('Frecuencia')\n",
    "plt.xlabel('Minutos')\n",
    "plt.title(f'asd')\n",
    "plt.show()"
   ]
  },
  {
   "cell_type": "code",
   "execution_count": 5,
   "id": "7ece4d6b",
   "metadata": {
    "execution": {
     "iopub.execute_input": "2022-06-29T03:27:20.200006Z",
     "iopub.status.busy": "2022-06-29T03:27:20.198985Z",
     "iopub.status.idle": "2022-06-29T03:27:20.266933Z",
     "shell.execute_reply": "2022-06-29T03:27:20.267929Z"
    },
    "papermill": {
     "duration": 0.083905,
     "end_time": "2022-06-29T03:27:20.267929",
     "exception": false,
     "start_time": "2022-06-29T03:27:20.184024",
     "status": "completed"
    },
    "tags": []
   },
   "outputs": [
    {
     "name": "stdout",
     "output_type": "stream",
     "text": [
      "   timestamp  valores            datetime\n",
      "0          1        3 1970-01-01 00:00:01\n",
      "1          2        3 1970-01-01 00:00:02\n",
      "2         60        4 1970-01-01 00:01:00\n",
      "3         59        4 1970-01-01 00:00:59\n",
      "4         61        6 1970-01-01 00:01:01\n",
      "5          3        5 1970-01-01 00:00:03\n",
      "6          4        6 1970-01-01 00:00:04\n",
      "7        120        7 1970-01-01 00:02:00\n",
      "8        241        8 1970-01-01 00:04:01\n",
      "9        421        9 1970-01-01 00:07:01\n",
      "                     timestamp  valores            datetime\n",
      "datetime                                                   \n",
      "1970-01-01 00:00:00        1.0      3.0 1970-01-01 00:00:01\n",
      "1970-01-01 00:01:00       60.0      4.0 1970-01-01 00:01:00\n",
      "1970-01-01 00:02:00      120.0      7.0 1970-01-01 00:02:00\n",
      "1970-01-01 00:04:00      241.0      8.0 1970-01-01 00:04:01\n",
      "1970-01-01 00:07:00      421.0      9.0 1970-01-01 00:07:01\n"
     ]
    }
   ],
   "source": [
    "#EJEMPLO DE RESAMPLE PARA VER QUE FUNCIONA OK.\n",
    "d = {'timestamp': [1, 2,60,59,61,3,4,60*2,60*4+1,60*7+1], 'valores': [3, 3,4,4,6,5,6,7,8,9]}\n",
    "d = pd.DataFrame(data=d)\n",
    "\n",
    "d['datetime'] = pd.to_datetime(d['timestamp'],unit='s')\n",
    "print(d)\n",
    "\n",
    "d = d.resample('1Min',on='datetime').agg('first').dropna()  \n",
    "print(d)"
   ]
  },
  {
   "cell_type": "code",
   "execution_count": 6,
   "id": "98a4783d",
   "metadata": {
    "execution": {
     "iopub.execute_input": "2022-06-29T03:27:20.371539Z",
     "iopub.status.busy": "2022-06-29T03:27:20.370337Z",
     "iopub.status.idle": "2022-06-29T03:27:24.765249Z",
     "shell.execute_reply": "2022-06-29T03:27:24.764237Z"
    },
    "papermill": {
     "duration": 4.408875,
     "end_time": "2022-06-29T03:27:24.765249",
     "exception": false,
     "start_time": "2022-06-29T03:27:20.356374",
     "status": "completed"
    },
    "tags": []
   },
   "outputs": [],
   "source": [
    "#There are multiple definitions for night, depending if it's for civil (-6°), nautical (-12°) or astronomical (-18°) purposes. \n",
    "# Just pick a treshold : if the sun is below, it's nighttime!\n",
    "\n",
    "import ephem\n",
    "import math\n",
    "import datetime\n",
    "\n",
    "def get_day_night(lat,lon,datetime): \n",
    "    sun = ephem.Sun()\n",
    "    observer = ephem.Observer()\n",
    "    # ↓ Define your coordinates here ↓\n",
    "    observer.lat, observer.lon, observer.elevation = lat, lon, 0\n",
    "    # ↓ Set the time (UTC) here ↓\n",
    "    #observer.date = datetime.datetime.utcnow()\n",
    "    observer.date=datetime\n",
    "    sun.compute(observer)\n",
    "    current_sun_alt = sun.alt\n",
    "    if (current_sun_alt*180/math.pi) < -12.0 :\n",
    "        return 2\n",
    "    else:\n",
    "        return 1\n",
    "    \n",
    "df['sun_state'] = df.apply(lambda x: get_day_night(x['lat'], x['lon'],x['datetime']), axis=1)"
   ]
  },
  {
   "cell_type": "code",
   "execution_count": 7,
   "id": "327f888e",
   "metadata": {
    "execution": {
     "iopub.execute_input": "2022-06-29T03:27:24.786165Z",
     "iopub.status.busy": "2022-06-29T03:27:24.785167Z",
     "iopub.status.idle": "2022-06-29T03:27:24.795397Z",
     "shell.execute_reply": "2022-06-29T03:27:24.795397Z"
    },
    "papermill": {
     "duration": 0.021199,
     "end_time": "2022-06-29T03:27:24.795397",
     "exception": false,
     "start_time": "2022-06-29T03:27:24.774198",
     "status": "completed"
    },
    "tags": []
   },
   "outputs": [
    {
     "data": {
      "text/plain": [
       "1    106904\n",
       "2     61188\n",
       "Name: sun_state, dtype: int64"
      ]
     },
     "execution_count": 7,
     "metadata": {},
     "output_type": "execute_result"
    }
   ],
   "source": [
    "df[\"sun_state\"].value_counts()"
   ]
  },
  {
   "cell_type": "markdown",
   "id": "ca6494a7",
   "metadata": {
    "papermill": {
     "duration": 0.008969,
     "end_time": "2022-06-29T03:27:24.813369",
     "exception": false,
     "start_time": "2022-06-29T03:27:24.804400",
     "status": "completed"
    },
    "tags": []
   },
   "source": [
    "Se pesca mas de noche, que de dia"
   ]
  },
  {
   "cell_type": "code",
   "execution_count": 8,
   "id": "919a336a",
   "metadata": {
    "execution": {
     "iopub.execute_input": "2022-06-29T03:27:24.859436Z",
     "iopub.status.busy": "2022-06-29T03:27:24.858471Z",
     "iopub.status.idle": "2022-06-29T03:27:24.923266Z",
     "shell.execute_reply": "2022-06-29T03:27:24.924264Z"
    },
    "papermill": {
     "duration": 0.101912,
     "end_time": "2022-06-29T03:27:24.924264",
     "exception": false,
     "start_time": "2022-06-29T03:27:24.822352",
     "status": "completed"
    },
    "tags": []
   },
   "outputs": [
    {
     "name": "stdout",
     "output_type": "stream",
     "text": [
      "           sun_state                                   \n",
      "               count      mean       std  min  50%  max\n",
      "is_fishing                                             \n",
      "NO          165761.0  1.364103  0.481179  1.0  1.0  2.0\n",
      "SI            2331.0  1.357786  0.479452  1.0  1.0  2.0\n"
     ]
    }
   ],
   "source": [
    "print(df.groupby([\"is_fishing\"])[['sun_state']].describe(percentiles=[]))"
   ]
  },
  {
   "cell_type": "code",
   "execution_count": 9,
   "id": "0d3324b7",
   "metadata": {
    "execution": {
     "iopub.execute_input": "2022-06-29T03:27:24.950195Z",
     "iopub.status.busy": "2022-06-29T03:27:24.950195Z",
     "iopub.status.idle": "2022-06-29T03:27:25.313166Z",
     "shell.execute_reply": "2022-06-29T03:27:25.313166Z"
    },
    "papermill": {
     "duration": 0.376933,
     "end_time": "2022-06-29T03:27:25.313166",
     "exception": false,
     "start_time": "2022-06-29T03:27:24.936233",
     "status": "completed"
    },
    "tags": []
   },
   "outputs": [],
   "source": [
    "def haversine_np(lon1, lat1, lon2, lat2):\n",
    "    lon1, lat1, lon2, lat2 = map(np.radians, [lon1, lat1, lon2, lat2])\n",
    "\n",
    "    dlon = lon2 - lon1\n",
    "    dlat = lat2 - lat1\n",
    "\n",
    "    a = np.sin(dlat/2.0)**2 + np.cos(lat1) * np.cos(lat2) * np.sin(dlon/2.0)**2\n",
    "\n",
    "    c = 2 * np.arcsin(np.sqrt(a))\n",
    "    km = 6367 * c\n",
    "    return km\n",
    "\n",
    "def distance(x):\n",
    "    y = x.shift()\n",
    "    return haversine_np(x['lat'], x['lon'], y['lat'], y['lon']).fillna(0)\n",
    "\n",
    "df['distance'] = df.groupby('mmsi').apply(distance).reset_index(level=0, drop=True)"
   ]
  },
  {
   "cell_type": "code",
   "execution_count": 10,
   "id": "9cd314c9",
   "metadata": {
    "execution": {
     "iopub.execute_input": "2022-06-29T03:27:25.338100Z",
     "iopub.status.busy": "2022-06-29T03:27:25.337103Z",
     "iopub.status.idle": "2022-06-29T03:27:25.344085Z",
     "shell.execute_reply": "2022-06-29T03:27:25.344085Z"
    },
    "papermill": {
     "duration": 0.020946,
     "end_time": "2022-06-29T03:27:25.344085",
     "exception": false,
     "start_time": "2022-06-29T03:27:25.323139",
     "status": "completed"
    },
    "tags": []
   },
   "outputs": [],
   "source": [
    "#Convierto latitud y longitud a radianes\n",
    "df['lat'] = np.radians(df['lat'])\n",
    "df['lon'] = np.radians(df['lon'])"
   ]
  },
  {
   "cell_type": "code",
   "execution_count": 11,
   "id": "608a5531",
   "metadata": {
    "execution": {
     "iopub.execute_input": "2022-06-29T03:27:25.369018Z",
     "iopub.status.busy": "2022-06-29T03:27:25.369018Z",
     "iopub.status.idle": "2022-06-29T03:27:25.422579Z",
     "shell.execute_reply": "2022-06-29T03:27:25.422579Z"
    },
    "papermill": {
     "duration": 0.067525,
     "end_time": "2022-06-29T03:27:25.422579",
     "exception": false,
     "start_time": "2022-06-29T03:27:25.355054",
     "status": "completed"
    },
    "tags": []
   },
   "outputs": [],
   "source": [
    "#Normalizamos la variable curso\n",
    "df['course']=df['course']/360.0"
   ]
  },
  {
   "cell_type": "code",
   "execution_count": 12,
   "id": "3a2c2599",
   "metadata": {
    "execution": {
     "iopub.execute_input": "2022-06-29T03:27:25.451503Z",
     "iopub.status.busy": "2022-06-29T03:27:25.450504Z",
     "iopub.status.idle": "2022-06-29T03:27:25.854459Z",
     "shell.execute_reply": "2022-06-29T03:27:25.855456Z"
    },
    "papermill": {
     "duration": 0.421908,
     "end_time": "2022-06-29T03:27:25.855456",
     "exception": false,
     "start_time": "2022-06-29T03:27:25.433548",
     "status": "completed"
    },
    "tags": []
   },
   "outputs": [],
   "source": [
    "#Agregar esto deberia de hacer robusto a mi algoritmo a LAT/LON y timestamps.\n",
    "\n",
    "#Velocidad entre puntos a partir de la distancia        S = x(t2)-x(t1) / t2 - t1\n",
    "df['S0']= df['distance']/df['timediff']\n",
    "#Aceleracion rectilinea         A = S(t2)-S(t1) / t2 - t1\n",
    "df['A0']= df.groupby('mmsi')['S0'].diff()/df['timediff']\n",
    "#Jerk                           J = A(t2)-A(t1) / t2 - t1\n",
    "df['J0']= df.groupby('mmsi')['A0'].diff()/df['timediff']\n",
    "#Derivada del curso             Phi = C(t2)-C(t1) / t2 - t1\n",
    "df['C0']= df.groupby('mmsi')['course'].diff()/df['timediff']\n",
    "#2 Horas deberia de ser suficientemente informativo para saber el comportamiento del buque \n",
    "#Agregar paper.\n",
    "\n",
    "#Velocidad promedio entre puntos    Vavg = V1 + V2 / 2\n",
    "df['Vavg']  = df.groupby('mmsi')['speed'].transform(lambda x: x.rolling(2, 1).mean())\n",
    "\n",
    "\n",
    "#Variacion de velocidad entre puntos Delta_S = V2 - V1 / 2 \n",
    "df['Delta_S']= (df.groupby('mmsi')['speed'].diff())/2\n",
    "\n",
    "#Curso promedio entre puntos        Cavg = C1 + C2 / 2\n",
    "df['Cavg'] = df.groupby('mmsi')['course'].transform(lambda x: x.rolling(2, 1).mean())\n",
    "#Variacion del curso                DeltaC = C2-C1/2\n",
    "df['Delta_C']= (df.groupby('mmsi')['course'].diff())/2\n"
   ]
  },
  {
   "cell_type": "code",
   "execution_count": 13,
   "id": "c229d426",
   "metadata": {
    "execution": {
     "iopub.execute_input": "2022-06-29T03:27:25.880391Z",
     "iopub.status.busy": "2022-06-29T03:27:25.879394Z",
     "iopub.status.idle": "2022-06-29T03:27:25.964167Z",
     "shell.execute_reply": "2022-06-29T03:27:25.963170Z"
    },
    "papermill": {
     "duration": 0.098706,
     "end_time": "2022-06-29T03:27:25.964167",
     "exception": false,
     "start_time": "2022-06-29T03:27:25.865461",
     "status": "completed"
    },
    "tags": []
   },
   "outputs": [],
   "source": [
    "number_lags = 7\n",
    "columns_to_lag = ['speed','course','S0','A0','J0','C0','Delta_C','Delta_S','Vavg']\n",
    "\n",
    "#df = pd.DataFrame(data={'vals':[5,4,3,2,1]})\n",
    "for column in columns_to_lag:\n",
    "    for lag in range(1, number_lags + 1):\n",
    "        df[str(column) +'_lag_' + str(lag)] = df[column].shift(lag)\n"
   ]
  },
  {
   "cell_type": "code",
   "execution_count": 14,
   "id": "4e9e0df2",
   "metadata": {
    "execution": {
     "iopub.execute_input": "2022-06-29T03:27:25.990096Z",
     "iopub.status.busy": "2022-06-29T03:27:25.989102Z",
     "iopub.status.idle": "2022-06-29T03:27:25.995083Z",
     "shell.execute_reply": "2022-06-29T03:27:25.995083Z"
    },
    "papermill": {
     "duration": 0.021917,
     "end_time": "2022-06-29T03:27:25.996081",
     "exception": false,
     "start_time": "2022-06-29T03:27:25.974164",
     "status": "completed"
    },
    "tags": []
   },
   "outputs": [
    {
     "name": "stdout",
     "output_type": "stream",
     "text": [
      "Index(['mmsi', 'timestamp', 'distance_from_shore', 'distance_from_port',\n",
      "       'speed', 'course', 'lat', 'lon', 'is_fishing', 'source', 'datetime',\n",
      "       'timediff', 'sun_state', 'distance', 'S0', 'A0', 'J0', 'C0', 'Vavg',\n",
      "       'Delta_S', 'Cavg', 'Delta_C', 'speed_lag_1', 'speed_lag_2',\n",
      "       'speed_lag_3', 'speed_lag_4', 'speed_lag_5', 'speed_lag_6',\n",
      "       'speed_lag_7', 'course_lag_1', 'course_lag_2', 'course_lag_3',\n",
      "       'course_lag_4', 'course_lag_5', 'course_lag_6', 'course_lag_7',\n",
      "       'S0_lag_1', 'S0_lag_2', 'S0_lag_3', 'S0_lag_4', 'S0_lag_5', 'S0_lag_6',\n",
      "       'S0_lag_7', 'A0_lag_1', 'A0_lag_2', 'A0_lag_3', 'A0_lag_4', 'A0_lag_5',\n",
      "       'A0_lag_6', 'A0_lag_7', 'J0_lag_1', 'J0_lag_2', 'J0_lag_3', 'J0_lag_4',\n",
      "       'J0_lag_5', 'J0_lag_6', 'J0_lag_7', 'C0_lag_1', 'C0_lag_2', 'C0_lag_3',\n",
      "       'C0_lag_4', 'C0_lag_5', 'C0_lag_6', 'C0_lag_7', 'Delta_C_lag_1',\n",
      "       'Delta_C_lag_2', 'Delta_C_lag_3', 'Delta_C_lag_4', 'Delta_C_lag_5',\n",
      "       'Delta_C_lag_6', 'Delta_C_lag_7', 'Delta_S_lag_1', 'Delta_S_lag_2',\n",
      "       'Delta_S_lag_3', 'Delta_S_lag_4', 'Delta_S_lag_5', 'Delta_S_lag_6',\n",
      "       'Delta_S_lag_7', 'Vavg_lag_1', 'Vavg_lag_2', 'Vavg_lag_3', 'Vavg_lag_4',\n",
      "       'Vavg_lag_5', 'Vavg_lag_6', 'Vavg_lag_7'],\n",
      "      dtype='object')\n"
     ]
    }
   ],
   "source": [
    "print(df.columns)"
   ]
  },
  {
   "cell_type": "code",
   "execution_count": 15,
   "id": "d8077ae5",
   "metadata": {
    "execution": {
     "iopub.execute_input": "2022-06-29T03:27:26.020015Z",
     "iopub.status.busy": "2022-06-29T03:27:26.019018Z",
     "iopub.status.idle": "2022-06-29T03:27:41.433076Z",
     "shell.execute_reply": "2022-06-29T03:27:41.433076Z"
    },
    "papermill": {
     "duration": 15.426024,
     "end_time": "2022-06-29T03:27:41.433076",
     "exception": false,
     "start_time": "2022-06-29T03:27:26.007052",
     "status": "completed"
    },
    "tags": []
   },
   "outputs": [
    {
     "name": "stdout",
     "output_type": "stream",
     "text": [
      "con NA=mmsi                   168092\n",
      "timestamp              168092\n",
      "distance_from_shore    168092\n",
      "distance_from_port     168092\n",
      "speed                  168092\n",
      "                        ...  \n",
      "Vavg_lag_3             168089\n",
      "Vavg_lag_4             168088\n",
      "Vavg_lag_5             168087\n",
      "Vavg_lag_6             168086\n",
      "Vavg_lag_7             168085\n",
      "Length: 85, dtype: int64\n"
     ]
    },
    {
     "name": "stdout",
     "output_type": "stream",
     "text": [
      "sin NA=mmsi                   166121\n",
      "timestamp              166121\n",
      "distance_from_shore    166121\n",
      "distance_from_port     166121\n",
      "speed                  166121\n",
      "                        ...  \n",
      "Vavg_lag_3             166121\n",
      "Vavg_lag_4             166121\n",
      "Vavg_lag_5             166121\n",
      "Vavg_lag_6             166121\n",
      "Vavg_lag_7             166121\n",
      "Length: 85, dtype: int64\n"
     ]
    }
   ],
   "source": [
    "print(f'con NA={df.count()}')\n",
    "df = df.dropna()\n",
    "df.to_csv(f\"../../df_procesado/{config['output_label']}_fe_15MIN_7lambda.csv\",sep=\",\",index=False)  \n",
    "\n",
    "print(f'sin NA={df.count()}')\n",
    "#df.to_csv(f\"../../df_procesado/{config['output_label']}_fe_15MIN_7lambda.csv\",sep=\",\",index=False)  "
   ]
  },
  {
   "cell_type": "code",
   "execution_count": 16,
   "id": "78b26403",
   "metadata": {
    "execution": {
     "iopub.execute_input": "2022-06-29T03:27:41.475961Z",
     "iopub.status.busy": "2022-06-29T03:27:41.475961Z",
     "iopub.status.idle": "2022-06-29T03:27:41.560735Z",
     "shell.execute_reply": "2022-06-29T03:27:41.559737Z"
    },
    "papermill": {
     "duration": 0.116688,
     "end_time": "2022-06-29T03:27:41.560735",
     "exception": false,
     "start_time": "2022-06-29T03:27:41.444047",
     "status": "completed"
    },
    "tags": []
   },
   "outputs": [
    {
     "name": "stdout",
     "output_type": "stream",
     "text": [
      "2313\n",
      "163808\n"
     ]
    }
   ],
   "source": [
    "print(len(df[df['is_fishing']=='SI']))\n",
    "print(len(df[df['is_fishing']=='NO']))"
   ]
  }
 ],
 "metadata": {
  "kernelspec": {
   "display_name": "Python 3.8.8 ('base')",
   "language": "python",
   "name": "python3"
  },
  "language_info": {
   "codemirror_mode": {
    "name": "ipython",
    "version": 3
   },
   "file_extension": ".py",
   "mimetype": "text/x-python",
   "name": "python",
   "nbconvert_exporter": "python",
   "pygments_lexer": "ipython3",
   "version": "3.8.8"
  },
  "papermill": {
   "default_parameters": {},
   "duration": 322.933283,
   "end_time": "2022-06-29T03:27:44.637026",
   "environment_variables": {},
   "exception": null,
   "input_path": "notebooks/feature_engineering_15MIN_7lambda.ipynb",
   "output_path": "papermill_outputs/feature_engineering_15MIN_7lambda/drifting_longlines/feature_engineering_15MIN_7lambda_drifting_longlines.ipynb",
   "parameters": {
    "config": {
     "data_path": "C:/Users/nico_/Desktop/ITBA/TFI/global fishing watch/dataset/drifting_longlines.csv",
     "notebook": "notebooks/feature_engineering_15MIN_7lambda.ipynb",
     "output_label": "drifting_longlines"
    }
   },
   "start_time": "2022-06-29T03:22:21.703743",
   "version": "2.3.4"
  },
  "vscode": {
   "interpreter": {
    "hash": "f8a79dfa68d3b59c718a5e00f96adc917a1b17d46c628831ab97d3d56be05add"
   }
  }
 },
 "nbformat": 4,
 "nbformat_minor": 5
}
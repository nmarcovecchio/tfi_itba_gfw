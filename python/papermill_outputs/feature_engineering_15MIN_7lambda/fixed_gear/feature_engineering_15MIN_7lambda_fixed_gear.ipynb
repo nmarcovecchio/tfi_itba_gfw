{
 "cells": [
  {
   "cell_type": "code",
   "execution_count": 1,
   "id": "253f8a7a",
   "metadata": {
    "execution": {
     "iopub.execute_input": "2022-06-29T03:20:37.218003Z",
     "iopub.status.busy": "2022-06-29T03:20:37.217006Z",
     "iopub.status.idle": "2022-06-29T03:20:37.221993Z",
     "shell.execute_reply": "2022-06-29T03:20:37.221993Z"
    },
    "papermill": {
     "duration": 0.016955,
     "end_time": "2022-06-29T03:20:37.221993",
     "exception": false,
     "start_time": "2022-06-29T03:20:37.205038",
     "status": "completed"
    },
    "tags": [
     "injected-parameters"
    ]
   },
   "outputs": [],
   "source": [
    "# Parameters\n",
    "config = {\n",
    "    \"notebook\": \"notebooks/feature_engineering_15MIN_7lambda.ipynb\",\n",
    "    \"data_path\": \"C:/Users/nico_/Desktop/ITBA/TFI/global fishing watch/dataset/fixed_gear.csv\",\n",
    "    \"output_label\": \"fixed_gear\",\n",
    "}\n"
   ]
  },
  {
   "cell_type": "code",
   "execution_count": 2,
   "id": "2ce93aaa",
   "metadata": {
    "execution": {
     "iopub.execute_input": "2022-06-29T03:20:37.252911Z",
     "iopub.status.busy": "2022-06-29T03:20:37.251914Z",
     "iopub.status.idle": "2022-06-29T03:20:37.269866Z",
     "shell.execute_reply": "2022-06-29T03:20:37.270862Z"
    },
    "papermill": {
     "duration": 0.035904,
     "end_time": "2022-06-29T03:20:37.270862",
     "exception": false,
     "start_time": "2022-06-29T03:20:37.234958",
     "status": "completed"
    },
    "tags": []
   },
   "outputs": [
    {
     "name": "stdout",
     "output_type": "stream",
     "text": [
      "{'notebook': 'notebooks/feature_engineering_15MIN_7lambda.ipynb', 'data_path': 'C:/Users/nico_/Desktop/ITBA/TFI/global fishing watch/dataset/fixed_gear.csv', 'output_label': 'fixed_gear'}\n"
     ]
    }
   ],
   "source": [
    "# check if config exists\n",
    "try:\n",
    "    config\n",
    "except NameError:\n",
    "    config_exists = False\n",
    "else:\n",
    "    config_exists = True\n",
    "\n",
    "# make config if it does not exist already (e.g. passed in by papermill)\n",
    "if not(config_exists):\n",
    "    # set up some config for the experiment run\n",
    "    config = {\n",
    "        \"data_path\" : \"C:/Users/nico_/Desktop/ITBA/TFI/global fishing watch/dataset/trollers.csv\",\n",
    "        \"output_label\": \"trollers\"\n",
    "    }\n",
    "print(config)"
   ]
  },
  {
   "cell_type": "code",
   "execution_count": 3,
   "id": "d4e989ea",
   "metadata": {
    "execution": {
     "iopub.execute_input": "2022-06-29T03:20:37.299786Z",
     "iopub.status.busy": "2022-06-29T03:20:37.298788Z",
     "iopub.status.idle": "2022-06-29T03:20:55.026191Z",
     "shell.execute_reply": "2022-06-29T03:20:55.026191Z"
    },
    "papermill": {
     "duration": 17.748348,
     "end_time": "2022-06-29T03:20:55.027189",
     "exception": false,
     "start_time": "2022-06-29T03:20:37.278841",
     "status": "completed"
    },
    "tags": []
   },
   "outputs": [
    {
     "name": "stdout",
     "output_type": "stream",
     "text": [
      "8125\n",
      "607171\n"
     ]
    }
   ],
   "source": [
    "import pandas as pd\n",
    "import numpy as np\n",
    "from sklearn.tree import DecisionTreeClassifier # Import Decision Tree Classifier\n",
    "from sklearn.model_selection import train_test_split # Import train_test_split function\n",
    "from sklearn import metrics #Import scikit-learn metrics module for accuracy calculation\n",
    "\n",
    "df = pd.read_csv(config['data_path'], header=\"infer\", sep=\",\",error_bad_lines=False, engine ='python')\n",
    "\n",
    "#Nos quedamos con los puntos que estan mayor a 3 millas nauticas de la costa.\n",
    "df = df[(df['distance_from_shore'] >= 5556)]\n",
    "\n",
    "#Nos quedamos solamente con los valores que estamos seguros que esta o no esta pescando.\n",
    "df = df[(df['is_fishing'] == -1.0)  | (df['is_fishing'] == 1.0) ]\n",
    "\n",
    "#Renombramos las columnas de la variable a predecir de si esta pescando o no.\n",
    "df[\"is_fishing\"] = np.where(df[\"is_fishing\"] == 1.0, 'SI', 'NO')\n",
    "\n",
    "#Dropeamos los que contienen el mismo timestamp.\n",
    "df = df.drop_duplicates(subset='timestamp', keep=\"first\")\n",
    "\n",
    "#df['date_series'] = pd.to_datetime(df['timestamp'],unit='s')\n",
    "#df = df.set_index('date_series') \n",
    "\n",
    "aux = df\n",
    "\n",
    "print(len(df[df['is_fishing']=='SI']))\n",
    "print(len(df[df['is_fishing']=='NO']))\n"
   ]
  },
  {
   "cell_type": "code",
   "execution_count": 4,
   "id": "2bb9201a",
   "metadata": {
    "execution": {
     "iopub.execute_input": "2022-06-29T03:20:55.054118Z",
     "iopub.status.busy": "2022-06-29T03:20:55.053121Z",
     "iopub.status.idle": "2022-06-29T03:20:56.351487Z",
     "shell.execute_reply": "2022-06-29T03:20:56.350490Z"
    },
    "papermill": {
     "duration": 1.317317,
     "end_time": "2022-06-29T03:20:56.351487",
     "exception": false,
     "start_time": "2022-06-29T03:20:55.034170",
     "status": "completed"
    },
    "tags": []
   },
   "outputs": [
    {
     "name": "stdout",
     "output_type": "stream",
     "text": [
      "BEFORE\n",
      "8125\n"
     ]
    },
    {
     "name": "stdout",
     "output_type": "stream",
     "text": [
      "607171\n"
     ]
    },
    {
     "name": "stdout",
     "output_type": "stream",
     "text": [
      "AFTER\n",
      "2414\n",
      "137475\n"
     ]
    },
    {
     "data": {
      "image/png": "[encoded data removed]",
      "text/plain": [
       "<Figure size 432x288 with 1 Axes>"
      ]
     },
     "metadata": {
      "needs_background": "light"
     },
     "output_type": "display_data"
    }
   ],
   "source": [
    "df = aux\n",
    "\n",
    "df['datetime'] = pd.to_datetime(df['timestamp'],unit='s')\n",
    "\n",
    "print(\"BEFORE\")\n",
    "print(len(df[df['is_fishing']=='SI']))\n",
    "print(len(df[df['is_fishing']=='NO']))\n",
    "\n",
    "df = df.resample('15Min',on='datetime').agg('first').dropna()  \n",
    "df.reset_index(drop=True, inplace=True)\n",
    "\n",
    "print(\"AFTER\")\n",
    "print(len(df[df['is_fishing']=='SI']))\n",
    "print(len(df[df['is_fishing']=='NO']))\n",
    "\n",
    "#print(df)\n",
    "#Calculo la diferencia de tiempo entre puntos consecutivos.\n",
    "\n",
    "import pandas as pd\n",
    "import matplotlib.pyplot as plt\n",
    "\n",
    "#Calculo la diferencia de tiempo entre puntos consecutivos.\n",
    "df['timediff']= df.groupby('mmsi')['timestamp'].diff()\n",
    "\n",
    "df_graph = df[(df['timediff'] <= 60*30) ]\n",
    "df_graph = df_graph[(df_graph['timediff'] > 0) ]\n",
    "plt.hist(df_graph['timediff']/60,bins=100)\n",
    "plt.ylabel('Frecuencia')\n",
    "plt.xlabel('Minutos')\n",
    "plt.title(f'asd')\n",
    "plt.show()"
   ]
  },
  {
   "cell_type": "code",
   "execution_count": 5,
   "id": "80b7e18c",
   "metadata": {
    "execution": {
     "iopub.execute_input": "2022-06-29T03:20:56.374427Z",
     "iopub.status.busy": "2022-06-29T03:20:56.373429Z",
     "iopub.status.idle": "2022-06-29T03:20:56.430546Z",
     "shell.execute_reply": "2022-06-29T03:20:56.429549Z"
    },
    "papermill": {
     "duration": 0.07108,
     "end_time": "2022-06-29T03:20:56.430546",
     "exception": false,
     "start_time": "2022-06-29T03:20:56.359466",
     "status": "completed"
    },
    "tags": []
   },
   "outputs": [
    {
     "name": "stdout",
     "output_type": "stream",
     "text": [
      "   timestamp  valores            datetime\n",
      "0          1        3 1970-01-01 00:00:01\n",
      "1          2        3 1970-01-01 00:00:02\n",
      "2         60        4 1970-01-01 00:01:00\n",
      "3         59        4 1970-01-01 00:00:59\n",
      "4         61        6 1970-01-01 00:01:01\n",
      "5          3        5 1970-01-01 00:00:03\n",
      "6          4        6 1970-01-01 00:00:04\n",
      "7        120        7 1970-01-01 00:02:00\n",
      "8        241        8 1970-01-01 00:04:01\n",
      "9        421        9 1970-01-01 00:07:01\n",
      "                     timestamp  valores            datetime\n",
      "datetime                                                   \n",
      "1970-01-01 00:00:00        1.0      3.0 1970-01-01 00:00:01\n",
      "1970-01-01 00:01:00       60.0      4.0 1970-01-01 00:01:00\n",
      "1970-01-01 00:02:00      120.0      7.0 1970-01-01 00:02:00\n",
      "1970-01-01 00:04:00      241.0      8.0 1970-01-01 00:04:01\n",
      "1970-01-01 00:07:00      421.0      9.0 1970-01-01 00:07:01\n"
     ]
    }
   ],
   "source": [
    "#EJEMPLO DE RESAMPLE PARA VER QUE FUNCIONA OK.\n",
    "d = {'timestamp': [1, 2,60,59,61,3,4,60*2,60*4+1,60*7+1], 'valores': [3, 3,4,4,6,5,6,7,8,9]}\n",
    "d = pd.DataFrame(data=d)\n",
    "\n",
    "d['datetime'] = pd.to_datetime(d['timestamp'],unit='s')\n",
    "print(d)\n",
    "\n",
    "d = d.resample('1Min',on='datetime').agg('first').dropna()  \n",
    "print(d)"
   ]
  },
  {
   "cell_type": "code",
   "execution_count": 6,
   "id": "d0aea1a2",
   "metadata": {
    "execution": {
     "iopub.execute_input": "2022-06-29T03:20:56.456477Z",
     "iopub.status.busy": "2022-06-29T03:20:56.456477Z",
     "iopub.status.idle": "2022-06-29T03:21:00.457781Z",
     "shell.execute_reply": "2022-06-29T03:21:00.456782Z"
    },
    "papermill": {
     "duration": 4.016265,
     "end_time": "2022-06-29T03:21:00.457781",
     "exception": false,
     "start_time": "2022-06-29T03:20:56.441516",
     "status": "completed"
    },
    "tags": []
   },
   "outputs": [],
   "source": [
    "#There are multiple definitions for night, depending if it's for civil (-6°), nautical (-12°) or astronomical (-18°) purposes. \n",
    "# Just pick a treshold : if the sun is below, it's nighttime!\n",
    "\n",
    "import ephem\n",
    "import math\n",
    "import datetime\n",
    "\n",
    "def get_day_night(lat,lon,datetime): \n",
    "    sun = ephem.Sun()\n",
    "    observer = ephem.Observer()\n",
    "    # ↓ Define your coordinates here ↓\n",
    "    observer.lat, observer.lon, observer.elevation = lat, lon, 0\n",
    "    # ↓ Set the time (UTC) here ↓\n",
    "    #observer.date = datetime.datetime.utcnow()\n",
    "    observer.date=datetime\n",
    "    sun.compute(observer)\n",
    "    current_sun_alt = sun.alt\n",
    "    if (current_sun_alt*180/math.pi) < -12.0 :\n",
    "        return 2\n",
    "    else:\n",
    "        return 1\n",
    "    \n",
    "df['sun_state'] = df.apply(lambda x: get_day_night(x['lat'], x['lon'],x['datetime']), axis=1)"
   ]
  },
  {
   "cell_type": "code",
   "execution_count": 7,
   "id": "4e1a9886",
   "metadata": {
    "execution": {
     "iopub.execute_input": "2022-06-29T03:21:00.481719Z",
     "iopub.status.busy": "2022-06-29T03:21:00.480720Z",
     "iopub.status.idle": "2022-06-29T03:21:00.488697Z",
     "shell.execute_reply": "2022-06-29T03:21:00.487700Z"
    },
    "papermill": {
     "duration": 0.02194,
     "end_time": "2022-06-29T03:21:00.488697",
     "exception": false,
     "start_time": "2022-06-29T03:21:00.466757",
     "status": "completed"
    },
    "tags": []
   },
   "outputs": [
    {
     "data": {
      "text/plain": [
       "1    87101\n",
       "2    52788\n",
       "Name: sun_state, dtype: int64"
      ]
     },
     "execution_count": 7,
     "metadata": {},
     "output_type": "execute_result"
    }
   ],
   "source": [
    "df[\"sun_state\"].value_counts()"
   ]
  },
  {
   "cell_type": "markdown",
   "id": "c939d490",
   "metadata": {
    "papermill": {
     "duration": 0.010949,
     "end_time": "2022-06-29T03:21:00.509643",
     "exception": false,
     "start_time": "2022-06-29T03:21:00.498694",
     "status": "completed"
    },
    "tags": []
   },
   "source": [
    "Se pesca mas de noche, que de dia"
   ]
  },
  {
   "cell_type": "code",
   "execution_count": 8,
   "id": "0f2970ab",
   "metadata": {
    "execution": {
     "iopub.execute_input": "2022-06-29T03:21:00.539561Z",
     "iopub.status.busy": "2022-06-29T03:21:00.539561Z",
     "iopub.status.idle": "2022-06-29T03:21:00.564496Z",
     "shell.execute_reply": "2022-06-29T03:21:00.564496Z"
    },
    "papermill": {
     "duration": 0.045878,
     "end_time": "2022-06-29T03:21:00.564496",
     "exception": false,
     "start_time": "2022-06-29T03:21:00.518618",
     "status": "completed"
    },
    "tags": []
   },
   "outputs": [
    {
     "name": "stdout",
     "output_type": "stream",
     "text": [
      "           sun_state                                   \n",
      "               count      mean       std  min  50%  max\n",
      "is_fishing                                             \n",
      "NO          137475.0  1.377763  0.484830  1.0  1.0  2.0\n",
      "SI            2414.0  1.354184  0.478364  1.0  1.0  2.0\n"
     ]
    }
   ],
   "source": [
    "print(df.groupby([\"is_fishing\"])[['sun_state']].describe(percentiles=[]))"
   ]
  },
  {
   "cell_type": "code",
   "execution_count": 9,
   "id": "615d2b2e",
   "metadata": {
    "execution": {
     "iopub.execute_input": "2022-06-29T03:21:00.593417Z",
     "iopub.status.busy": "2022-06-29T03:21:00.592419Z",
     "iopub.status.idle": "2022-06-29T03:21:00.785903Z",
     "shell.execute_reply": "2022-06-29T03:21:00.785903Z"
    },
    "papermill": {
     "duration": 0.211407,
     "end_time": "2022-06-29T03:21:00.785903",
     "exception": false,
     "start_time": "2022-06-29T03:21:00.574496",
     "status": "completed"
    },
    "tags": []
   },
   "outputs": [],
   "source": [
    "def haversine_np(lon1, lat1, lon2, lat2):\n",
    "    lon1, lat1, lon2, lat2 = map(np.radians, [lon1, lat1, lon2, lat2])\n",
    "\n",
    "    dlon = lon2 - lon1\n",
    "    dlat = lat2 - lat1\n",
    "\n",
    "    a = np.sin(dlat/2.0)**2 + np.cos(lat1) * np.cos(lat2) * np.sin(dlon/2.0)**2\n",
    "\n",
    "    c = 2 * np.arcsin(np.sqrt(a))\n",
    "    km = 6367 * c\n",
    "    return km\n",
    "\n",
    "def distance(x):\n",
    "    y = x.shift()\n",
    "    return haversine_np(x['lat'], x['lon'], y['lat'], y['lon']).fillna(0)\n",
    "\n",
    "df['distance'] = df.groupby('mmsi').apply(distance).reset_index(level=0, drop=True)"
   ]
  },
  {
   "cell_type": "code",
   "execution_count": 10,
   "id": "d4db1c2f",
   "metadata": {
    "execution": {
     "iopub.execute_input": "2022-06-29T03:21:00.809868Z",
     "iopub.status.busy": "2022-06-29T03:21:00.808841Z",
     "iopub.status.idle": "2022-06-29T03:21:00.816037Z",
     "shell.execute_reply": "2022-06-29T03:21:00.815009Z"
    },
    "papermill": {
     "duration": 0.021159,
     "end_time": "2022-06-29T03:21:00.816037",
     "exception": false,
     "start_time": "2022-06-29T03:21:00.794878",
     "status": "completed"
    },
    "tags": []
   },
   "outputs": [],
   "source": [
    "#Convierto latitud y longitud a radianes\n",
    "df['lat'] = np.radians(df['lat'])\n",
    "df['lon'] = np.radians(df['lon'])"
   ]
  },
  {
   "cell_type": "code",
   "execution_count": 11,
   "id": "3c65c0f6",
   "metadata": {
    "execution": {
     "iopub.execute_input": "2022-06-29T03:21:00.846923Z",
     "iopub.status.busy": "2022-06-29T03:21:00.845926Z",
     "iopub.status.idle": "2022-06-29T03:21:00.862880Z",
     "shell.execute_reply": "2022-06-29T03:21:00.862880Z"
    },
    "papermill": {
     "duration": 0.034907,
     "end_time": "2022-06-29T03:21:00.863878",
     "exception": false,
     "start_time": "2022-06-29T03:21:00.828971",
     "status": "completed"
    },
    "tags": []
   },
   "outputs": [],
   "source": [
    "#Normalizamos la variable curso\n",
    "df['course']=df['course']/360.0"
   ]
  },
  {
   "cell_type": "code",
   "execution_count": 12,
   "id": "62e187a8",
   "metadata": {
    "execution": {
     "iopub.execute_input": "2022-06-29T03:21:00.895792Z",
     "iopub.status.busy": "2022-06-29T03:21:00.894796Z",
     "iopub.status.idle": "2022-06-29T03:21:01.237878Z",
     "shell.execute_reply": "2022-06-29T03:21:01.237878Z"
    },
    "papermill": {
     "duration": 0.36303,
     "end_time": "2022-06-29T03:21:01.237878",
     "exception": false,
     "start_time": "2022-06-29T03:21:00.874848",
     "status": "completed"
    },
    "tags": []
   },
   "outputs": [],
   "source": [
    "#Agregar esto deberia de hacer robusto a mi algoritmo a LAT/LON y timestamps.\n",
    "\n",
    "#Velocidad entre puntos a partir de la distancia        S = x(t2)-x(t1) / t2 - t1\n",
    "df['S0']= df['distance']/df['timediff']\n",
    "#Aceleracion rectilinea         A = S(t2)-S(t1) / t2 - t1\n",
    "df['A0']= df.groupby('mmsi')['S0'].diff()/df['timediff']\n",
    "#Jerk                           J = A(t2)-A(t1) / t2 - t1\n",
    "df['J0']= df.groupby('mmsi')['A0'].diff()/df['timediff']\n",
    "#Derivada del curso             Phi = C(t2)-C(t1) / t2 - t1\n",
    "df['C0']= df.groupby('mmsi')['course'].diff()/df['timediff']\n",
    "#2 Horas deberia de ser suficientemente informativo para saber el comportamiento del buque \n",
    "#Agregar paper.\n",
    "\n",
    "#Velocidad promedio entre puntos    Vavg = V1 + V2 / 2\n",
    "df['Vavg']  = df.groupby('mmsi')['speed'].transform(lambda x: x.rolling(2, 1).mean())\n",
    "\n",
    "\n",
    "#Variacion de velocidad entre puntos Delta_S = V2 - V1 / 2 \n",
    "df['Delta_S']= (df.groupby('mmsi')['speed'].diff())/2\n",
    "\n",
    "#Curso promedio entre puntos        Cavg = C1 + C2 / 2\n",
    "df['Cavg'] = df.groupby('mmsi')['course'].transform(lambda x: x.rolling(2, 1).mean())\n",
    "#Variacion del curso                DeltaC = C2-C1/2\n",
    "df['Delta_C']= (df.groupby('mmsi')['course'].diff())/2\n"
   ]
  },
  {
   "cell_type": "code",
   "execution_count": 13,
   "id": "aa509a13",
   "metadata": {
    "execution": {
     "iopub.execute_input": "2022-06-29T03:21:01.266801Z",
     "iopub.status.busy": "2022-06-29T03:21:01.265804Z",
     "iopub.status.idle": "2022-06-29T03:21:01.374512Z",
     "shell.execute_reply": "2022-06-29T03:21:01.375509Z"
    },
    "papermill": {
     "duration": 0.125662,
     "end_time": "2022-06-29T03:21:01.375509",
     "exception": false,
     "start_time": "2022-06-29T03:21:01.249847",
     "status": "completed"
    },
    "tags": []
   },
   "outputs": [],
   "source": [
    "number_lags = 7\n",
    "columns_to_lag = ['speed','course','S0','A0','J0','C0','Delta_C','Delta_S','Vavg']\n",
    "\n",
    "#df = pd.DataFrame(data={'vals':[5,4,3,2,1]})\n",
    "for column in columns_to_lag:\n",
    "    for lag in range(1, number_lags + 1):\n",
    "        df[str(column) +'_lag_' + str(lag)] = df[column].shift(lag)\n"
   ]
  },
  {
   "cell_type": "code",
   "execution_count": 14,
   "id": "2366444c",
   "metadata": {
    "execution": {
     "iopub.execute_input": "2022-06-29T03:21:01.409420Z",
     "iopub.status.busy": "2022-06-29T03:21:01.408422Z",
     "iopub.status.idle": "2022-06-29T03:21:01.421387Z",
     "shell.execute_reply": "2022-06-29T03:21:01.422385Z"
    },
    "papermill": {
     "duration": 0.031915,
     "end_time": "2022-06-29T03:21:01.422385",
     "exception": false,
     "start_time": "2022-06-29T03:21:01.390470",
     "status": "completed"
    },
    "tags": []
   },
   "outputs": [
    {
     "name": "stdout",
     "output_type": "stream",
     "text": [
      "Index(['mmsi', 'timestamp', 'distance_from_shore', 'distance_from_port',\n",
      "       'speed', 'course', 'lat', 'lon', 'is_fishing', 'source', 'datetime',\n",
      "       'timediff', 'sun_state', 'distance', 'S0', 'A0', 'J0', 'C0', 'Vavg',\n",
      "       'Delta_S', 'Cavg', 'Delta_C', 'speed_lag_1', 'speed_lag_2',\n",
      "       'speed_lag_3', 'speed_lag_4', 'speed_lag_5', 'speed_lag_6',\n",
      "       'speed_lag_7', 'course_lag_1', 'course_lag_2', 'course_lag_3',\n",
      "       'course_lag_4', 'course_lag_5', 'course_lag_6', 'course_lag_7',\n",
      "       'S0_lag_1', 'S0_lag_2', 'S0_lag_3', 'S0_lag_4', 'S0_lag_5', 'S0_lag_6',\n",
      "       'S0_lag_7', 'A0_lag_1', 'A0_lag_2', 'A0_lag_3', 'A0_lag_4', 'A0_lag_5',\n",
      "       'A0_lag_6', 'A0_lag_7', 'J0_lag_1', 'J0_lag_2', 'J0_lag_3', 'J0_lag_4',\n",
      "       'J0_lag_5', 'J0_lag_6', 'J0_lag_7', 'C0_lag_1', 'C0_lag_2', 'C0_lag_3',\n",
      "       'C0_lag_4', 'C0_lag_5', 'C0_lag_6', 'C0_lag_7', 'Delta_C_lag_1',\n",
      "       'Delta_C_lag_2', 'Delta_C_lag_3', 'Delta_C_lag_4', 'Delta_C_lag_5',\n",
      "       'Delta_C_lag_6', 'Delta_C_lag_7', 'Delta_S_lag_1', 'Delta_S_lag_2',\n",
      "       'Delta_S_lag_3', 'Delta_S_lag_4', 'Delta_S_lag_5', 'Delta_S_lag_6',\n",
      "       'Delta_S_lag_7', 'Vavg_lag_1', 'Vavg_lag_2', 'Vavg_lag_3', 'Vavg_lag_4',\n",
      "       'Vavg_lag_5', 'Vavg_lag_6', 'Vavg_lag_7'],\n",
      "      dtype='object')\n"
     ]
    }
   ],
   "source": [
    "print(df.columns)"
   ]
  },
  {
   "cell_type": "code",
   "execution_count": 15,
   "id": "e1a4b9af",
   "metadata": {
    "execution": {
     "iopub.execute_input": "2022-06-29T03:21:01.461281Z",
     "iopub.status.busy": "2022-06-29T03:21:01.461281Z",
     "iopub.status.idle": "2022-06-29T03:21:15.383296Z",
     "shell.execute_reply": "2022-06-29T03:21:15.384270Z"
    },
    "papermill": {
     "duration": 13.944931,
     "end_time": "2022-06-29T03:21:15.384270",
     "exception": false,
     "start_time": "2022-06-29T03:21:01.439339",
     "status": "completed"
    },
    "tags": []
   },
   "outputs": [
    {
     "name": "stdout",
     "output_type": "stream",
     "text": [
      "con NA=mmsi                   139889\n",
      "timestamp              139889\n",
      "distance_from_shore    139889\n",
      "distance_from_port     139889\n",
      "speed                  139889\n",
      "                        ...  \n",
      "Vavg_lag_3             139886\n",
      "Vavg_lag_4             139885\n",
      "Vavg_lag_5             139884\n",
      "Vavg_lag_6             139883\n",
      "Vavg_lag_7             139882\n",
      "Length: 85, dtype: int64\n"
     ]
    },
    {
     "name": "stdout",
     "output_type": "stream",
     "text": [
      "sin NA=mmsi                   139356\n",
      "timestamp              139356\n",
      "distance_from_shore    139356\n",
      "distance_from_port     139356\n",
      "speed                  139356\n",
      "                        ...  \n",
      "Vavg_lag_3             139356\n",
      "Vavg_lag_4             139356\n",
      "Vavg_lag_5             139356\n",
      "Vavg_lag_6             139356\n",
      "Vavg_lag_7             139356\n",
      "Length: 85, dtype: int64\n"
     ]
    }
   ],
   "source": [
    "print(f'con NA={df.count()}')\n",
    "df = df.dropna()\n",
    "df.to_csv(f\"../../df_procesado/{config['output_label']}_fe_15MIN_7lambda.csv\",sep=\",\",index=False)  \n",
    "\n",
    "print(f'sin NA={df.count()}')\n",
    "#df.to_csv(f\"../../df_procesado/{config['output_label']}_fe_15MIN_7lambda.csv\",sep=\",\",index=False)  "
   ]
  },
  {
   "cell_type": "code",
   "execution_count": 16,
   "id": "7a467b97",
   "metadata": {
    "execution": {
     "iopub.execute_input": "2022-06-29T03:21:15.418181Z",
     "iopub.status.busy": "2022-06-29T03:21:15.418181Z",
     "iopub.status.idle": "2022-06-29T03:21:15.478021Z",
     "shell.execute_reply": "2022-06-29T03:21:15.477023Z"
    },
    "papermill": {
     "duration": 0.083777,
     "end_time": "2022-06-29T03:21:15.478021",
     "exception": false,
     "start_time": "2022-06-29T03:21:15.394244",
     "status": "completed"
    },
    "tags": []
   },
   "outputs": [
    {
     "name": "stdout",
     "output_type": "stream",
     "text": [
      "2400\n",
      "136956\n"
     ]
    }
   ],
   "source": [
    "print(len(df[df['is_fishing']=='SI']))\n",
    "print(len(df[df['is_fishing']=='NO']))"
   ]
  }
 ],
 "metadata": {
  "kernelspec": {
   "display_name": "Python 3.8.8 ('base')",
   "language": "python",
   "name": "python3"
  },
  "language_info": {
   "codemirror_mode": {
    "name": "ipython",
    "version": 3
   },
   "file_extension": ".py",
   "mimetype": "text/x-python",
   "name": "python",
   "nbconvert_exporter": "python",
   "pygments_lexer": "ipython3",
   "version": "3.8.8"
  },
  "papermill": {
   "default_parameters": {},
   "duration": 41.387654,
   "end_time": "2022-06-29T03:21:16.821429",
   "environment_variables": {},
   "exception": null,
   "input_path": "notebooks/feature_engineering_15MIN_7lambda.ipynb",
   "output_path": "papermill_outputs/feature_engineering_15MIN_7lambda/fixed_gear/feature_engineering_15MIN_7lambda_fixed_gear.ipynb",
   "parameters": {
    "config": {
     "data_path": "C:/Users/nico_/Desktop/ITBA/TFI/global fishing watch/dataset/fixed_gear.csv",
     "notebook": "notebooks/feature_engineering_15MIN_7lambda.ipynb",
     "output_label": "fixed_gear"
    }
   },
   "start_time": "2022-06-29T03:20:35.433775",
   "version": "2.3.4"
  },
  "vscode": {
   "interpreter": {
    "hash": "f8a79dfa68d3b59c718a5e00f96adc917a1b17d46c628831ab97d3d56be05add"
   }
  }
 },
 "nbformat": 4,
 "nbformat_minor": 5
}
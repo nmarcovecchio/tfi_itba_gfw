{
 "cells": [
  {
   "cell_type": "code",
   "execution_count": 1,
   "id": "55e07303",
   "metadata": {
    "execution": {
     "iopub.execute_input": "2022-06-29T03:21:19.161176Z",
     "iopub.status.busy": "2022-06-29T03:21:19.160178Z",
     "iopub.status.idle": "2022-06-29T03:21:19.175137Z",
     "shell.execute_reply": "2022-06-29T03:21:19.175137Z"
    },
    "papermill": {
     "duration": 0.033909,
     "end_time": "2022-06-29T03:21:19.175137",
     "exception": false,
     "start_time": "2022-06-29T03:21:19.141228",
     "status": "completed"
    },
    "tags": [
     "injected-parameters"
    ]
   },
   "outputs": [],
   "source": [
    "# Parameters\n",
    "config = {\n",
    "    \"notebook\": \"notebooks/feature_engineering_15MIN_7lambda.ipynb\",\n",
    "    \"data_path\": \"C:/Users/nico_/Desktop/ITBA/TFI/global fishing watch/dataset/trawlers.csv\",\n",
    "    \"output_label\": \"trawlers\",\n",
    "}\n"
   ]
  },
  {
   "cell_type": "code",
   "execution_count": 2,
   "id": "7ac746d3",
   "metadata": {
    "execution": {
     "iopub.execute_input": "2022-06-29T03:21:19.210044Z",
     "iopub.status.busy": "2022-06-29T03:21:19.209047Z",
     "iopub.status.idle": "2022-06-29T03:21:19.223009Z",
     "shell.execute_reply": "2022-06-29T03:21:19.224006Z"
    },
    "papermill": {
     "duration": 0.033909,
     "end_time": "2022-06-29T03:21:19.224006",
     "exception": false,
     "start_time": "2022-06-29T03:21:19.190097",
     "status": "completed"
    },
    "tags": []
   },
   "outputs": [
    {
     "name": "stdout",
     "output_type": "stream",
     "text": [
      "{'notebook': 'notebooks/feature_engineering_15MIN_7lambda.ipynb', 'data_path': 'C:/Users/nico_/Desktop/ITBA/TFI/global fishing watch/dataset/trawlers.csv', 'output_label': 'trawlers'}\n"
     ]
    }
   ],
   "source": [
    "# check if config exists\n",
    "try:\n",
    "    config\n",
    "except NameError:\n",
    "    config_exists = False\n",
    "else:\n",
    "    config_exists = True\n",
    "\n",
    "# make config if it does not exist already (e.g. passed in by papermill)\n",
    "if not(config_exists):\n",
    "    # set up some config for the experiment run\n",
    "    config = {\n",
    "        \"data_path\" : \"C:/Users/nico_/Desktop/ITBA/TFI/global fishing watch/dataset/trollers.csv\",\n",
    "        \"output_label\": \"trollers\"\n",
    "    }\n",
    "print(config)"
   ]
  },
  {
   "cell_type": "code",
   "execution_count": 3,
   "id": "b2b4455a",
   "metadata": {
    "execution": {
     "iopub.execute_input": "2022-06-29T03:21:19.264899Z",
     "iopub.status.busy": "2022-06-29T03:21:19.263899Z",
     "iopub.status.idle": "2022-06-29T03:21:59.956802Z",
     "shell.execute_reply": "2022-06-29T03:21:59.955785Z"
    },
    "papermill": {
     "duration": 40.716837,
     "end_time": "2022-06-29T03:21:59.956802",
     "exception": false,
     "start_time": "2022-06-29T03:21:19.239965",
     "status": "completed"
    },
    "tags": []
   },
   "outputs": [
    {
     "name": "stdout",
     "output_type": "stream",
     "text": [
      "57891\n",
      "2013118\n"
     ]
    }
   ],
   "source": [
    "import pandas as pd\n",
    "import numpy as np\n",
    "from sklearn.tree import DecisionTreeClassifier # Import Decision Tree Classifier\n",
    "from sklearn.model_selection import train_test_split # Import train_test_split function\n",
    "from sklearn import metrics #Import scikit-learn metrics module for accuracy calculation\n",
    "\n",
    "df = pd.read_csv(config['data_path'], header=\"infer\", sep=\",\",error_bad_lines=False, engine ='python')\n",
    "\n",
    "#Nos quedamos con los puntos que estan mayor a 3 millas nauticas de la costa.\n",
    "df = df[(df['distance_from_shore'] >= 5556)]\n",
    "\n",
    "#Nos quedamos solamente con los valores que estamos seguros que esta o no esta pescando.\n",
    "df = df[(df['is_fishing'] == -1.0)  | (df['is_fishing'] == 1.0) ]\n",
    "\n",
    "#Renombramos las columnas de la variable a predecir de si esta pescando o no.\n",
    "df[\"is_fishing\"] = np.where(df[\"is_fishing\"] == 1.0, 'SI', 'NO')\n",
    "\n",
    "#Dropeamos los que contienen el mismo timestamp.\n",
    "df = df.drop_duplicates(subset='timestamp', keep=\"first\")\n",
    "\n",
    "#df['date_series'] = pd.to_datetime(df['timestamp'],unit='s')\n",
    "#df = df.set_index('date_series') \n",
    "\n",
    "aux = df\n",
    "\n",
    "print(len(df[df['is_fishing']=='SI']))\n",
    "print(len(df[df['is_fishing']=='NO']))\n"
   ]
  },
  {
   "cell_type": "code",
   "execution_count": 4,
   "id": "a0045531",
   "metadata": {
    "execution": {
     "iopub.execute_input": "2022-06-29T03:21:59.977726Z",
     "iopub.status.busy": "2022-06-29T03:21:59.976757Z",
     "iopub.status.idle": "2022-06-29T03:22:01.559226Z",
     "shell.execute_reply": "2022-06-29T03:22:01.559226Z"
    },
    "papermill": {
     "duration": 1.596464,
     "end_time": "2022-06-29T03:22:01.560228",
     "exception": false,
     "start_time": "2022-06-29T03:21:59.963764",
     "status": "completed"
    },
    "tags": []
   },
   "outputs": [
    {
     "name": "stdout",
     "output_type": "stream",
     "text": [
      "BEFORE\n"
     ]
    },
    {
     "name": "stdout",
     "output_type": "stream",
     "text": [
      "57891\n"
     ]
    },
    {
     "name": "stdout",
     "output_type": "stream",
     "text": [
      "2013118\n"
     ]
    },
    {
     "name": "stdout",
     "output_type": "stream",
     "text": [
      "AFTER\n",
      "5357\n",
      "155475\n"
     ]
    },
    {
     "data": {
      "image/png": "[encoded data removed]",
      "text/plain": [
       "<Figure size 432x288 with 1 Axes>"
      ]
     },
     "metadata": {
      "needs_background": "light"
     },
     "output_type": "display_data"
    }
   ],
   "source": [
    "df = aux\n",
    "\n",
    "df['datetime'] = pd.to_datetime(df['timestamp'],unit='s')\n",
    "\n",
    "print(\"BEFORE\")\n",
    "print(len(df[df['is_fishing']=='SI']))\n",
    "print(len(df[df['is_fishing']=='NO']))\n",
    "\n",
    "df = df.resample('15Min',on='datetime').agg('first').dropna()  \n",
    "df.reset_index(drop=True, inplace=True)\n",
    "\n",
    "print(\"AFTER\")\n",
    "print(len(df[df['is_fishing']=='SI']))\n",
    "print(len(df[df['is_fishing']=='NO']))\n",
    "\n",
    "#print(df)\n",
    "#Calculo la diferencia de tiempo entre puntos consecutivos.\n",
    "\n",
    "import pandas as pd\n",
    "import matplotlib.pyplot as plt\n",
    "\n",
    "#Calculo la diferencia de tiempo entre puntos consecutivos.\n",
    "df['timediff']= df.groupby('mmsi')['timestamp'].diff()\n",
    "\n",
    "df_graph = df[(df['timediff'] <= 60*30) ]\n",
    "df_graph = df_graph[(df_graph['timediff'] > 0) ]\n",
    "plt.hist(df_graph['timediff']/60,bins=100)\n",
    "plt.ylabel('Frecuencia')\n",
    "plt.xlabel('Minutos')\n",
    "plt.title(f'asd')\n",
    "plt.show()"
   ]
  },
  {
   "cell_type": "code",
   "execution_count": 5,
   "id": "d7f4004e",
   "metadata": {
    "execution": {
     "iopub.execute_input": "2022-06-29T03:22:01.581667Z",
     "iopub.status.busy": "2022-06-29T03:22:01.581667Z",
     "iopub.status.idle": "2022-06-29T03:22:01.606069Z",
     "shell.execute_reply": "2022-06-29T03:22:01.606069Z"
    },
    "papermill": {
     "duration": 0.038389,
     "end_time": "2022-06-29T03:22:01.607089",
     "exception": false,
     "start_time": "2022-06-29T03:22:01.568700",
     "status": "completed"
    },
    "tags": []
   },
   "outputs": [
    {
     "name": "stdout",
     "output_type": "stream",
     "text": [
      "   timestamp  valores            datetime\n",
      "0          1        3 1970-01-01 00:00:01\n",
      "1          2        3 1970-01-01 00:00:02\n",
      "2         60        4 1970-01-01 00:01:00\n",
      "3         59        4 1970-01-01 00:00:59\n",
      "4         61        6 1970-01-01 00:01:01\n",
      "5          3        5 1970-01-01 00:00:03\n",
      "6          4        6 1970-01-01 00:00:04\n",
      "7        120        7 1970-01-01 00:02:00\n",
      "8        241        8 1970-01-01 00:04:01\n",
      "9        421        9 1970-01-01 00:07:01\n",
      "                     timestamp  valores            datetime\n",
      "datetime                                                   \n",
      "1970-01-01 00:00:00        1.0      3.0 1970-01-01 00:00:01\n",
      "1970-01-01 00:01:00       60.0      4.0 1970-01-01 00:01:00\n",
      "1970-01-01 00:02:00      120.0      7.0 1970-01-01 00:02:00\n",
      "1970-01-01 00:04:00      241.0      8.0 1970-01-01 00:04:01\n",
      "1970-01-01 00:07:00      421.0      9.0 1970-01-01 00:07:01\n"
     ]
    }
   ],
   "source": [
    "#EJEMPLO DE RESAMPLE PARA VER QUE FUNCIONA OK.\n",
    "d = {'timestamp': [1, 2,60,59,61,3,4,60*2,60*4+1,60*7+1], 'valores': [3, 3,4,4,6,5,6,7,8,9]}\n",
    "d = pd.DataFrame(data=d)\n",
    "\n",
    "d['datetime'] = pd.to_datetime(d['timestamp'],unit='s')\n",
    "print(d)\n",
    "\n",
    "d = d.resample('1Min',on='datetime').agg('first').dropna()  \n",
    "print(d)"
   ]
  },
  {
   "cell_type": "code",
   "execution_count": 6,
   "id": "0661a60e",
   "metadata": {
    "execution": {
     "iopub.execute_input": "2022-06-29T03:22:01.627012Z",
     "iopub.status.busy": "2022-06-29T03:22:01.627012Z",
     "iopub.status.idle": "2022-06-29T03:22:05.673700Z",
     "shell.execute_reply": "2022-06-29T03:22:05.673700Z"
    },
    "papermill": {
     "duration": 4.058628,
     "end_time": "2022-06-29T03:22:05.673700",
     "exception": false,
     "start_time": "2022-06-29T03:22:01.615072",
     "status": "completed"
    },
    "tags": []
   },
   "outputs": [],
   "source": [
    "#There are multiple definitions for night, depending if it's for civil (-6°), nautical (-12°) or astronomical (-18°) purposes. \n",
    "# Just pick a treshold : if the sun is below, it's nighttime!\n",
    "\n",
    "import ephem\n",
    "import math\n",
    "import datetime\n",
    "\n",
    "def get_day_night(lat,lon,datetime): \n",
    "    sun = ephem.Sun()\n",
    "    observer = ephem.Observer()\n",
    "    # ↓ Define your coordinates here ↓\n",
    "    observer.lat, observer.lon, observer.elevation = lat, lon, 0\n",
    "    # ↓ Set the time (UTC) here ↓\n",
    "    #observer.date = datetime.datetime.utcnow()\n",
    "    observer.date=datetime\n",
    "    sun.compute(observer)\n",
    "    current_sun_alt = sun.alt\n",
    "    if (current_sun_alt*180/math.pi) < -12.0 :\n",
    "        return 2\n",
    "    else:\n",
    "        return 1\n",
    "    \n",
    "df['sun_state'] = df.apply(lambda x: get_day_night(x['lat'], x['lon'],x['datetime']), axis=1)"
   ]
  },
  {
   "cell_type": "code",
   "execution_count": 7,
   "id": "8bf5b07a",
   "metadata": {
    "execution": {
     "iopub.execute_input": "2022-06-29T03:22:05.694644Z",
     "iopub.status.busy": "2022-06-29T03:22:05.694644Z",
     "iopub.status.idle": "2022-06-29T03:22:05.704881Z",
     "shell.execute_reply": "2022-06-29T03:22:05.704881Z"
    },
    "papermill": {
     "duration": 0.022206,
     "end_time": "2022-06-29T03:22:05.704881",
     "exception": false,
     "start_time": "2022-06-29T03:22:05.682675",
     "status": "completed"
    },
    "tags": []
   },
   "outputs": [
    {
     "data": {
      "text/plain": [
       "1    101359\n",
       "2     59473\n",
       "Name: sun_state, dtype: int64"
      ]
     },
     "execution_count": 7,
     "metadata": {},
     "output_type": "execute_result"
    }
   ],
   "source": [
    "df[\"sun_state\"].value_counts()"
   ]
  },
  {
   "cell_type": "markdown",
   "id": "3175ed8a",
   "metadata": {
    "papermill": {
     "duration": 0.008973,
     "end_time": "2022-06-29T03:22:05.722859",
     "exception": false,
     "start_time": "2022-06-29T03:22:05.713886",
     "status": "completed"
    },
    "tags": []
   },
   "source": [
    "Se pesca mas de noche, que de dia"
   ]
  },
  {
   "cell_type": "code",
   "execution_count": 8,
   "id": "d9c1ea0c",
   "metadata": {
    "execution": {
     "iopub.execute_input": "2022-06-29T03:22:05.756741Z",
     "iopub.status.busy": "2022-06-29T03:22:05.756741Z",
     "iopub.status.idle": "2022-06-29T03:22:05.783410Z",
     "shell.execute_reply": "2022-06-29T03:22:05.783410Z"
    },
    "papermill": {
     "duration": 0.052575,
     "end_time": "2022-06-29T03:22:05.783410",
     "exception": false,
     "start_time": "2022-06-29T03:22:05.730835",
     "status": "completed"
    },
    "tags": []
   },
   "outputs": [
    {
     "name": "stdout",
     "output_type": "stream",
     "text": [
      "           sun_state                                   \n",
      "               count      mean       std  min  50%  max\n",
      "is_fishing                                             \n",
      "NO          155475.0  1.369982  0.482801  1.0  1.0  2.0\n",
      "SI            5357.0  1.364010  0.481196  1.0  1.0  2.0\n"
     ]
    }
   ],
   "source": [
    "print(df.groupby([\"is_fishing\"])[['sun_state']].describe(percentiles=[]))"
   ]
  },
  {
   "cell_type": "code",
   "execution_count": 9,
   "id": "13ffe5f4",
   "metadata": {
    "execution": {
     "iopub.execute_input": "2022-06-29T03:22:05.807349Z",
     "iopub.status.busy": "2022-06-29T03:22:05.806357Z",
     "iopub.status.idle": "2022-06-29T03:22:06.001244Z",
     "shell.execute_reply": "2022-06-29T03:22:06.001244Z"
    },
    "papermill": {
     "duration": 0.209877,
     "end_time": "2022-06-29T03:22:06.002270",
     "exception": false,
     "start_time": "2022-06-29T03:22:05.792393",
     "status": "completed"
    },
    "tags": []
   },
   "outputs": [],
   "source": [
    "def haversine_np(lon1, lat1, lon2, lat2):\n",
    "    lon1, lat1, lon2, lat2 = map(np.radians, [lon1, lat1, lon2, lat2])\n",
    "\n",
    "    dlon = lon2 - lon1\n",
    "    dlat = lat2 - lat1\n",
    "\n",
    "    a = np.sin(dlat/2.0)**2 + np.cos(lat1) * np.cos(lat2) * np.sin(dlon/2.0)**2\n",
    "\n",
    "    c = 2 * np.arcsin(np.sqrt(a))\n",
    "    km = 6367 * c\n",
    "    return km\n",
    "\n",
    "def distance(x):\n",
    "    y = x.shift()\n",
    "    return haversine_np(x['lat'], x['lon'], y['lat'], y['lon']).fillna(0)\n",
    "\n",
    "df['distance'] = df.groupby('mmsi').apply(distance).reset_index(level=0, drop=True)"
   ]
  },
  {
   "cell_type": "code",
   "execution_count": 10,
   "id": "213b2d23",
   "metadata": {
    "execution": {
     "iopub.execute_input": "2022-06-29T03:22:06.023187Z",
     "iopub.status.busy": "2022-06-29T03:22:06.023187Z",
     "iopub.status.idle": "2022-06-29T03:22:06.032467Z",
     "shell.execute_reply": "2022-06-29T03:22:06.032467Z"
    },
    "papermill": {
     "duration": 0.021249,
     "end_time": "2022-06-29T03:22:06.032467",
     "exception": false,
     "start_time": "2022-06-29T03:22:06.011218",
     "status": "completed"
    },
    "tags": []
   },
   "outputs": [],
   "source": [
    "#Convierto latitud y longitud a radianes\n",
    "df['lat'] = np.radians(df['lat'])\n",
    "df['lon'] = np.radians(df['lon'])"
   ]
  },
  {
   "cell_type": "code",
   "execution_count": 11,
   "id": "86b5f6a7",
   "metadata": {
    "execution": {
     "iopub.execute_input": "2022-06-29T03:22:06.055407Z",
     "iopub.status.busy": "2022-06-29T03:22:06.055407Z",
     "iopub.status.idle": "2022-06-29T03:22:06.064493Z",
     "shell.execute_reply": "2022-06-29T03:22:06.064493Z"
    },
    "papermill": {
     "duration": 0.02303,
     "end_time": "2022-06-29T03:22:06.065490",
     "exception": false,
     "start_time": "2022-06-29T03:22:06.042460",
     "status": "completed"
    },
    "tags": []
   },
   "outputs": [],
   "source": [
    "#Normalizamos la variable curso\n",
    "df['course']=df['course']/360.0"
   ]
  },
  {
   "cell_type": "code",
   "execution_count": 12,
   "id": "28f7f483",
   "metadata": {
    "execution": {
     "iopub.execute_input": "2022-06-29T03:22:06.088429Z",
     "iopub.status.busy": "2022-06-29T03:22:06.088429Z",
     "iopub.status.idle": "2022-06-29T03:22:06.357709Z",
     "shell.execute_reply": "2022-06-29T03:22:06.358708Z"
    },
    "papermill": {
     "duration": 0.284219,
     "end_time": "2022-06-29T03:22:06.358708",
     "exception": false,
     "start_time": "2022-06-29T03:22:06.074489",
     "status": "completed"
    },
    "tags": []
   },
   "outputs": [],
   "source": [
    "#Agregar esto deberia de hacer robusto a mi algoritmo a LAT/LON y timestamps.\n",
    "\n",
    "#Velocidad entre puntos a partir de la distancia        S = x(t2)-x(t1) / t2 - t1\n",
    "df['S0']= df['distance']/df['timediff']\n",
    "#Aceleracion rectilinea         A = S(t2)-S(t1) / t2 - t1\n",
    "df['A0']= df.groupby('mmsi')['S0'].diff()/df['timediff']\n",
    "#Jerk                           J = A(t2)-A(t1) / t2 - t1\n",
    "df['J0']= df.groupby('mmsi')['A0'].diff()/df['timediff']\n",
    "#Derivada del curso             Phi = C(t2)-C(t1) / t2 - t1\n",
    "df['C0']= df.groupby('mmsi')['course'].diff()/df['timediff']\n",
    "#2 Horas deberia de ser suficientemente informativo para saber el comportamiento del buque \n",
    "#Agregar paper.\n",
    "\n",
    "#Velocidad promedio entre puntos    Vavg = V1 + V2 / 2\n",
    "df['Vavg']  = df.groupby('mmsi')['speed'].transform(lambda x: x.rolling(2, 1).mean())\n",
    "\n",
    "\n",
    "#Variacion de velocidad entre puntos Delta_S = V2 - V1 / 2 \n",
    "df['Delta_S']= (df.groupby('mmsi')['speed'].diff())/2\n",
    "\n",
    "#Curso promedio entre puntos        Cavg = C1 + C2 / 2\n",
    "df['Cavg'] = df.groupby('mmsi')['course'].transform(lambda x: x.rolling(2, 1).mean())\n",
    "#Variacion del curso                DeltaC = C2-C1/2\n",
    "df['Delta_C']= (df.groupby('mmsi')['course'].diff())/2\n"
   ]
  },
  {
   "cell_type": "code",
   "execution_count": 13,
   "id": "d8f50be2",
   "metadata": {
    "execution": {
     "iopub.execute_input": "2022-06-29T03:22:06.383639Z",
     "iopub.status.busy": "2022-06-29T03:22:06.383639Z",
     "iopub.status.idle": "2022-06-29T03:22:06.451444Z",
     "shell.execute_reply": "2022-06-29T03:22:06.450444Z"
    },
    "papermill": {
     "duration": 0.080769,
     "end_time": "2022-06-29T03:22:06.451444",
     "exception": false,
     "start_time": "2022-06-29T03:22:06.370675",
     "status": "completed"
    },
    "tags": []
   },
   "outputs": [],
   "source": [
    "number_lags = 7\n",
    "columns_to_lag = ['speed','course','S0','A0','J0','C0','Delta_C','Delta_S','Vavg']\n",
    "\n",
    "#df = pd.DataFrame(data={'vals':[5,4,3,2,1]})\n",
    "for column in columns_to_lag:\n",
    "    for lag in range(1, number_lags + 1):\n",
    "        df[str(column) +'_lag_' + str(lag)] = df[column].shift(lag)\n"
   ]
  },
  {
   "cell_type": "code",
   "execution_count": 14,
   "id": "950b21a1",
   "metadata": {
    "execution": {
     "iopub.execute_input": "2022-06-29T03:22:06.473385Z",
     "iopub.status.busy": "2022-06-29T03:22:06.472415Z",
     "iopub.status.idle": "2022-06-29T03:22:06.482419Z",
     "shell.execute_reply": "2022-06-29T03:22:06.481394Z"
    },
    "papermill": {
     "duration": 0.022,
     "end_time": "2022-06-29T03:22:06.482419",
     "exception": false,
     "start_time": "2022-06-29T03:22:06.460419",
     "status": "completed"
    },
    "tags": []
   },
   "outputs": [
    {
     "name": "stdout",
     "output_type": "stream",
     "text": [
      "Index(['mmsi', 'timestamp', 'distance_from_shore', 'distance_from_port',\n",
      "       'speed', 'course', 'lat', 'lon', 'is_fishing', 'source', 'datetime',\n",
      "       'timediff', 'sun_state', 'distance', 'S0', 'A0', 'J0', 'C0', 'Vavg',\n",
      "       'Delta_S', 'Cavg', 'Delta_C', 'speed_lag_1', 'speed_lag_2',\n",
      "       'speed_lag_3', 'speed_lag_4', 'speed_lag_5', 'speed_lag_6',\n",
      "       'speed_lag_7', 'course_lag_1', 'course_lag_2', 'course_lag_3',\n",
      "       'course_lag_4', 'course_lag_5', 'course_lag_6', 'course_lag_7',\n",
      "       'S0_lag_1', 'S0_lag_2', 'S0_lag_3', 'S0_lag_4', 'S0_lag_5', 'S0_lag_6',\n",
      "       'S0_lag_7', 'A0_lag_1', 'A0_lag_2', 'A0_lag_3', 'A0_lag_4', 'A0_lag_5',\n",
      "       'A0_lag_6', 'A0_lag_7', 'J0_lag_1', 'J0_lag_2', 'J0_lag_3', 'J0_lag_4',\n",
      "       'J0_lag_5', 'J0_lag_6', 'J0_lag_7', 'C0_lag_1', 'C0_lag_2', 'C0_lag_3',\n",
      "       'C0_lag_4', 'C0_lag_5', 'C0_lag_6', 'C0_lag_7', 'Delta_C_lag_1',\n",
      "       'Delta_C_lag_2', 'Delta_C_lag_3', 'Delta_C_lag_4', 'Delta_C_lag_5',\n",
      "       'Delta_C_lag_6', 'Delta_C_lag_7', 'Delta_S_lag_1', 'Delta_S_lag_2',\n",
      "       'Delta_S_lag_3', 'Delta_S_lag_4', 'Delta_S_lag_5', 'Delta_S_lag_6',\n",
      "       'Delta_S_lag_7', 'Vavg_lag_1', 'Vavg_lag_2', 'Vavg_lag_3', 'Vavg_lag_4',\n",
      "       'Vavg_lag_5', 'Vavg_lag_6', 'Vavg_lag_7'],\n",
      "      dtype='object')\n"
     ]
    }
   ],
   "source": [
    "print(df.columns)"
   ]
  },
  {
   "cell_type": "code",
   "execution_count": 15,
   "id": "2fae31a3",
   "metadata": {
    "execution": {
     "iopub.execute_input": "2022-06-29T03:22:06.507768Z",
     "iopub.status.busy": "2022-06-29T03:22:06.507768Z",
     "iopub.status.idle": "2022-06-29T03:22:21.099091Z",
     "shell.execute_reply": "2022-06-29T03:22:21.099091Z"
    },
    "papermill": {
     "duration": 14.605288,
     "end_time": "2022-06-29T03:22:21.099091",
     "exception": false,
     "start_time": "2022-06-29T03:22:06.493803",
     "status": "completed"
    },
    "tags": []
   },
   "outputs": [
    {
     "name": "stdout",
     "output_type": "stream",
     "text": [
      "con NA=mmsi                   160832\n",
      "timestamp              160832\n",
      "distance_from_shore    160832\n",
      "distance_from_port     160832\n",
      "speed                  160832\n",
      "                        ...  \n",
      "Vavg_lag_3             160829\n",
      "Vavg_lag_4             160828\n",
      "Vavg_lag_5             160827\n",
      "Vavg_lag_6             160826\n",
      "Vavg_lag_7             160825\n",
      "Length: 85, dtype: int64\n"
     ]
    },
    {
     "name": "stdout",
     "output_type": "stream",
     "text": [
      "sin NA=mmsi                   159975\n",
      "timestamp              159975\n",
      "distance_from_shore    159975\n",
      "distance_from_port     159975\n",
      "speed                  159975\n",
      "                        ...  \n",
      "Vavg_lag_3             159975\n",
      "Vavg_lag_4             159975\n",
      "Vavg_lag_5             159975\n",
      "Vavg_lag_6             159975\n",
      "Vavg_lag_7             159975\n",
      "Length: 85, dtype: int64\n"
     ]
    }
   ],
   "source": [
    "print(f'con NA={df.count()}')\n",
    "df = df.dropna()\n",
    "df.to_csv(f\"../../df_procesado/{config['output_label']}_fe_15MIN_7lambda.csv\",sep=\",\",index=False)  \n",
    "\n",
    "print(f'sin NA={df.count()}')\n",
    "#df.to_csv(f\"../../df_procesado/{config['output_label']}_fe_15MIN_7lambda.csv\",sep=\",\",index=False)  "
   ]
  },
  {
   "cell_type": "code",
   "execution_count": 16,
   "id": "b29a65cf",
   "metadata": {
    "execution": {
     "iopub.execute_input": "2022-06-29T03:22:21.137012Z",
     "iopub.status.busy": "2022-06-29T03:22:21.137012Z",
     "iopub.status.idle": "2022-06-29T03:22:21.208799Z",
     "shell.execute_reply": "2022-06-29T03:22:21.207802Z"
    },
    "papermill": {
     "duration": 0.098737,
     "end_time": "2022-06-29T03:22:21.208799",
     "exception": false,
     "start_time": "2022-06-29T03:22:21.110062",
     "status": "completed"
    },
    "tags": []
   },
   "outputs": [
    {
     "name": "stdout",
     "output_type": "stream",
     "text": [
      "5336\n",
      "154639\n"
     ]
    }
   ],
   "source": [
    "print(len(df[df['is_fishing']=='SI']))\n",
    "print(len(df[df['is_fishing']=='NO']))"
   ]
  }
 ],
 "metadata": {
  "kernelspec": {
   "display_name": "Python 3.8.8 ('base')",
   "language": "python",
   "name": "python3"
  },
  "language_info": {
   "codemirror_mode": {
    "name": "ipython",
    "version": 3
   },
   "file_extension": ".py",
   "mimetype": "text/x-python",
   "name": "python",
   "nbconvert_exporter": "python",
   "pygments_lexer": "ipython3",
   "version": "3.8.8"
  },
  "papermill": {
   "default_parameters": {},
   "duration": 64.795548,
   "end_time": "2022-06-29T03:22:21.659861",
   "environment_variables": {},
   "exception": null,
   "input_path": "notebooks/feature_engineering_15MIN_7lambda.ipynb",
   "output_path": "papermill_outputs/feature_engineering_15MIN_7lambda/trawlers/feature_engineering_15MIN_7lambda_trawlers.ipynb",
   "parameters": {
    "config": {
     "data_path": "C:/Users/nico_/Desktop/ITBA/TFI/global fishing watch/dataset/trawlers.csv",
     "notebook": "notebooks/feature_engineering_15MIN_7lambda.ipynb",
     "output_label": "trawlers"
    }
   },
   "start_time": "2022-06-29T03:21:16.864313",
   "version": "2.3.4"
  },
  "vscode": {
   "interpreter": {
    "hash": "f8a79dfa68d3b59c718a5e00f96adc917a1b17d46c628831ab97d3d56be05add"
   }
  }
 },
 "nbformat": 4,
 "nbformat_minor": 5
}
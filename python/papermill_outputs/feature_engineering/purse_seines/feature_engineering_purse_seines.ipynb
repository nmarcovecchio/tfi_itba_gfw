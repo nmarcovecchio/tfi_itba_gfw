{
 "cells": [
  {
   "cell_type": "code",
   "execution_count": 1,
   "id": "5d979d10",
   "metadata": {
    "execution": {
     "iopub.execute_input": "2022-04-10T03:30:19.935566Z",
     "iopub.status.busy": "2022-04-10T03:30:19.934542Z",
     "iopub.status.idle": "2022-04-10T03:30:19.942520Z",
     "shell.execute_reply": "2022-04-10T03:30:19.943518Z"
    },
    "papermill": {
     "duration": 0.018865,
     "end_time": "2022-04-10T03:30:19.944545",
     "exception": false,
     "start_time": "2022-04-10T03:30:19.925680",
     "status": "completed"
    },
    "tags": [
     "injected-parameters"
    ]
   },
   "outputs": [],
   "source": [
    "# Parameters\n",
    "config = {\n",
    "    \"notebook\": \"notebooks/feature_engineering.ipynb\",\n",
    "    \"data_path\": \"C:/Users/nico_/Desktop/ITBA/TFI/global fishing watch/dataset/purse_seines.csv\",\n",
    "    \"output_label\": \"purse_seines\",\n",
    "}\n"
   ]
  },
  {
   "cell_type": "code",
   "execution_count": 2,
   "id": "1505e1af",
   "metadata": {
    "execution": {
     "iopub.execute_input": "2022-04-10T03:30:19.960473Z",
     "iopub.status.busy": "2022-04-10T03:30:19.960473Z",
     "iopub.status.idle": "2022-04-10T03:30:19.972716Z",
     "shell.execute_reply": "2022-04-10T03:30:19.972716Z"
    },
    "papermill": {
     "duration": 0.023211,
     "end_time": "2022-04-10T03:30:19.973737",
     "exception": false,
     "start_time": "2022-04-10T03:30:19.950526",
     "status": "completed"
    },
    "tags": []
   },
   "outputs": [
    {
     "name": "stdout",
     "output_type": "stream",
     "text": [
      "{'notebook': 'notebooks/feature_engineering.ipynb', 'data_path': 'C:/Users/nico_/Desktop/ITBA/TFI/global fishing watch/dataset/purse_seines.csv', 'output_label': 'purse_seines'}\n"
     ]
    }
   ],
   "source": [
    "# check if config exists\n",
    "try:\n",
    "    config\n",
    "except NameError:\n",
    "    config_exists = False\n",
    "else:\n",
    "    config_exists = True\n",
    "\n",
    "# make config if it does not exist already (e.g. passed in by papermill)\n",
    "if not(config_exists):\n",
    "    # set up some config for the experiment run\n",
    "    config = {\n",
    "        \"data_path\" : \"C:/Users/nico_/Desktop/ITBA/TFI/global fishing watch/dataset/trollers.csv\",\n",
    "        \"output_label\": \"trollers\"\n",
    "    }\n",
    "print(config)"
   ]
  },
  {
   "cell_type": "code",
   "execution_count": 3,
   "id": "5db61c75",
   "metadata": {
    "execution": {
     "iopub.execute_input": "2022-04-10T03:30:19.992663Z",
     "iopub.status.busy": "2022-04-10T03:30:19.991693Z",
     "iopub.status.idle": "2022-04-10T03:30:49.997176Z",
     "shell.execute_reply": "2022-04-10T03:30:49.998172Z"
    },
    "papermill": {
     "duration": 30.01745,
     "end_time": "2022-04-10T03:30:49.998172",
     "exception": false,
     "start_time": "2022-04-10T03:30:19.980722",
     "status": "completed"
    },
    "tags": []
   },
   "outputs": [],
   "source": [
    "import pandas as pd\n",
    "import numpy as np\n",
    "from sklearn.tree import DecisionTreeClassifier # Import Decision Tree Classifier\n",
    "from sklearn.model_selection import train_test_split # Import train_test_split function\n",
    "from sklearn import metrics #Import scikit-learn metrics module for accuracy calculation\n",
    "\n",
    "df = pd.read_csv(config['data_path'], header=\"infer\", sep=\",\",error_bad_lines=False, engine ='python')\n",
    "\n",
    "#Nos quedamos con los puntos que estan mayor a 3 millas nauticas de la costa.\n",
    "df = df[(df['distance_from_shore'] >= 5556)]\n",
    "\n",
    "#Nos quedamos solamente con los valores que estamos seguros que esta o no esta pescando.\n",
    "df = df[(df['is_fishing'] == -1.0)  | (df['is_fishing'] == 1.0) ]\n",
    "\n",
    "#Renombramos las columnas de la variable a predecir de si esta pescando o no.\n",
    "df[\"is_fishing\"] = np.where(df[\"is_fishing\"] == 1.0, 'SI', 'NO')\n",
    "\n",
    "#Dropeamos los que contienen el mismo timestamp.\n",
    "df = df.drop_duplicates(subset='timestamp', keep=\"first\")\n",
    "\n",
    "df[\"timestamp\"]=df[\"timestamp\"].astype(int)\n",
    "#df['date_series'] = pd.to_datetime(df['timestamp'],unit='s')\n",
    "#df = df.set_index('date_series') \n",
    "df['datetime'] = pd.to_datetime(df['timestamp'],unit='s')\n",
    "df.index = df.datetime\n",
    "#print(df['date_series'])\n",
    "\n",
    "\n",
    "#print(df.resample('60Min',on='datetime'))\n",
    "df = df.resample('5Min',on='datetime').agg('first').dropna()  \n",
    "df.reset_index(drop=True, inplace=True)\n",
    "#print(df)"
   ]
  },
  {
   "cell_type": "code",
   "execution_count": 4,
   "id": "df681263",
   "metadata": {
    "execution": {
     "iopub.execute_input": "2022-04-10T03:30:50.035072Z",
     "iopub.status.busy": "2022-04-10T03:30:50.019116Z",
     "iopub.status.idle": "2022-04-10T03:30:56.456925Z",
     "shell.execute_reply": "2022-04-10T03:30:56.456925Z"
    },
    "papermill": {
     "duration": 6.451795,
     "end_time": "2022-04-10T03:30:56.457946",
     "exception": false,
     "start_time": "2022-04-10T03:30:50.006151",
     "status": "completed"
    },
    "tags": []
   },
   "outputs": [],
   "source": [
    "#There are multiple definitions for night, depending if it's for civil (-6°), nautical (-12°) or astronomical (-18°) purposes. \n",
    "# Just pick a treshold : if the sun is below, it's nighttime!\n",
    "\n",
    "import ephem\n",
    "import math\n",
    "import datetime\n",
    "\n",
    "def get_day_night(lat,lon,datetime): \n",
    "    sun = ephem.Sun()\n",
    "    observer = ephem.Observer()\n",
    "    # ↓ Define your coordinates here ↓\n",
    "    observer.lat, observer.lon, observer.elevation = lat, lon, 0\n",
    "    # ↓ Set the time (UTC) here ↓\n",
    "    #observer.date = datetime.datetime.utcnow()\n",
    "    observer.date=datetime\n",
    "    sun.compute(observer)\n",
    "    current_sun_alt = sun.alt\n",
    "    if (current_sun_alt*180/math.pi) < -12.0 :\n",
    "        return 2\n",
    "    else:\n",
    "        return 1\n",
    "    \n",
    "df['sun_state'] = df.apply(lambda x: get_day_night(x['lat'], x['lon'],x['datetime']), axis=1)"
   ]
  },
  {
   "cell_type": "code",
   "execution_count": 5,
   "id": "358424cb",
   "metadata": {
    "execution": {
     "iopub.execute_input": "2022-04-10T03:30:56.475894Z",
     "iopub.status.busy": "2022-04-10T03:30:56.474901Z",
     "iopub.status.idle": "2022-04-10T03:30:56.487843Z",
     "shell.execute_reply": "2022-04-10T03:30:56.487843Z"
    },
    "papermill": {
     "duration": 0.021942,
     "end_time": "2022-04-10T03:30:56.487843",
     "exception": false,
     "start_time": "2022-04-10T03:30:56.465901",
     "status": "completed"
    },
    "tags": []
   },
   "outputs": [
    {
     "data": {
      "text/plain": [
       "1    165406\n",
       "2     94805\n",
       "Name: sun_state, dtype: int64"
      ]
     },
     "execution_count": 5,
     "metadata": {},
     "output_type": "execute_result"
    }
   ],
   "source": [
    "df[\"sun_state\"].value_counts()"
   ]
  },
  {
   "cell_type": "markdown",
   "id": "54b0ba38",
   "metadata": {
    "papermill": {
     "duration": 0.006985,
     "end_time": "2022-04-10T03:30:56.501833",
     "exception": false,
     "start_time": "2022-04-10T03:30:56.494848",
     "status": "completed"
    },
    "tags": []
   },
   "source": [
    "Se pesca mas de noche, que de dia"
   ]
  },
  {
   "cell_type": "code",
   "execution_count": 6,
   "id": "e55373ca",
   "metadata": {
    "execution": {
     "iopub.execute_input": "2022-04-10T03:30:56.530729Z",
     "iopub.status.busy": "2022-04-10T03:30:56.530729Z",
     "iopub.status.idle": "2022-04-10T03:30:56.566920Z",
     "shell.execute_reply": "2022-04-10T03:30:56.566920Z"
    },
    "papermill": {
     "duration": 0.058132,
     "end_time": "2022-04-10T03:30:56.567945",
     "exception": false,
     "start_time": "2022-04-10T03:30:56.509813",
     "status": "completed"
    },
    "tags": []
   },
   "outputs": [
    {
     "name": "stdout",
     "output_type": "stream",
     "text": [
      "           sun_state                                   \n",
      "               count      mean       std  min  50%  max\n",
      "is_fishing                                             \n",
      "NO          259638.0  1.364457  0.481279  1.0  1.0  2.0\n",
      "SI             573.0  1.310646  0.463162  1.0  1.0  2.0\n"
     ]
    }
   ],
   "source": [
    "print(df.groupby([\"is_fishing\"])[['sun_state']].describe(percentiles=[]))"
   ]
  },
  {
   "cell_type": "code",
   "execution_count": 7,
   "id": "e3e2da24",
   "metadata": {
    "execution": {
     "iopub.execute_input": "2022-04-10T03:30:56.587864Z",
     "iopub.status.busy": "2022-04-10T03:30:56.587864Z",
     "iopub.status.idle": "2022-04-10T03:30:56.815415Z",
     "shell.execute_reply": "2022-04-10T03:30:56.815415Z"
    },
    "papermill": {
     "duration": 0.241485,
     "end_time": "2022-04-10T03:30:56.816412",
     "exception": false,
     "start_time": "2022-04-10T03:30:56.574927",
     "status": "completed"
    },
    "tags": []
   },
   "outputs": [],
   "source": [
    "def haversine_np(lon1, lat1, lon2, lat2):\n",
    "    lon1, lat1, lon2, lat2 = map(np.radians, [lon1, lat1, lon2, lat2])\n",
    "\n",
    "    dlon = lon2 - lon1\n",
    "    dlat = lat2 - lat1\n",
    "\n",
    "    a = np.sin(dlat/2.0)**2 + np.cos(lat1) * np.cos(lat2) * np.sin(dlon/2.0)**2\n",
    "\n",
    "    c = 2 * np.arcsin(np.sqrt(a))\n",
    "    km = 6367 * c\n",
    "    return km\n",
    "\n",
    "def distance(x):\n",
    "    y = x.shift()\n",
    "    return haversine_np(x['lat'], x['lon'], y['lat'], y['lon']).fillna(0)\n",
    "\n",
    "df['distance'] = df.groupby('mmsi').apply(distance).reset_index(level=0, drop=True)"
   ]
  },
  {
   "cell_type": "code",
   "execution_count": 8,
   "id": "abf57eea",
   "metadata": {
    "execution": {
     "iopub.execute_input": "2022-04-10T03:30:56.835392Z",
     "iopub.status.busy": "2022-04-10T03:30:56.834391Z",
     "iopub.status.idle": "2022-04-10T03:30:56.845476Z",
     "shell.execute_reply": "2022-04-10T03:30:56.845476Z"
    },
    "papermill": {
     "duration": 0.02311,
     "end_time": "2022-04-10T03:30:56.846502",
     "exception": false,
     "start_time": "2022-04-10T03:30:56.823392",
     "status": "completed"
    },
    "tags": []
   },
   "outputs": [],
   "source": [
    "#Convierto latitud y longitud a radianes\n",
    "df['lat'] = np.radians(df['lat'])\n",
    "df['lon'] = np.radians(df['lon'])"
   ]
  },
  {
   "cell_type": "code",
   "execution_count": 9,
   "id": "52c54d32",
   "metadata": {
    "execution": {
     "iopub.execute_input": "2022-04-10T03:30:56.864448Z",
     "iopub.status.busy": "2022-04-10T03:30:56.864448Z",
     "iopub.status.idle": "2022-04-10T03:30:56.924266Z",
     "shell.execute_reply": "2022-04-10T03:30:56.924266Z"
    },
    "papermill": {
     "duration": 0.071782,
     "end_time": "2022-04-10T03:30:56.925264",
     "exception": false,
     "start_time": "2022-04-10T03:30:56.853482",
     "status": "completed"
    },
    "tags": []
   },
   "outputs": [],
   "source": [
    "#Calculo la diferencia de tiempo entre puntos consecutivos.\n",
    "df['timediff']= df.groupby('mmsi')['timestamp'].diff()"
   ]
  },
  {
   "cell_type": "code",
   "execution_count": 10,
   "id": "7d6da89a",
   "metadata": {
    "execution": {
     "iopub.execute_input": "2022-04-10T03:30:56.942218Z",
     "iopub.status.busy": "2022-04-10T03:30:56.942218Z",
     "iopub.status.idle": "2022-04-10T03:30:56.955747Z",
     "shell.execute_reply": "2022-04-10T03:30:56.955747Z"
    },
    "papermill": {
     "duration": 0.023476,
     "end_time": "2022-04-10T03:30:56.955747",
     "exception": false,
     "start_time": "2022-04-10T03:30:56.932271",
     "status": "completed"
    },
    "tags": []
   },
   "outputs": [],
   "source": [
    "#Normalizamos la variable curso\n",
    "df['course']=df['course']/360.0"
   ]
  },
  {
   "cell_type": "code",
   "execution_count": 11,
   "id": "71c638ef",
   "metadata": {
    "execution": {
     "iopub.execute_input": "2022-04-10T03:30:56.976691Z",
     "iopub.status.busy": "2022-04-10T03:30:56.976691Z",
     "iopub.status.idle": "2022-04-10T03:30:57.351859Z",
     "shell.execute_reply": "2022-04-10T03:30:57.351859Z"
    },
    "papermill": {
     "duration": 0.388103,
     "end_time": "2022-04-10T03:30:57.351859",
     "exception": false,
     "start_time": "2022-04-10T03:30:56.963756",
     "status": "completed"
    },
    "tags": []
   },
   "outputs": [],
   "source": [
    "#Agregar esto deberia de hacer robusto a mi algoritmo a LAT/LON y timestamps.\n",
    "\n",
    "\n",
    "\n",
    "#Velocidad entre puntos a partir de la distancia        S = x(t2)-x(t1) / t2 - t1\n",
    "df['S0']= df['distance']/df['timediff']\n",
    "#Aceleracion rectilinea         A = S(t2)-S(t1) / t2 - t1\n",
    "df['A0']= df.groupby('mmsi')['S0'].diff()/df['timediff']\n",
    "#Jerk                           J = A(t2)-A(t1) / t2 - t1\n",
    "df['J0']= df.groupby('mmsi')['A0'].diff()/df['timediff']\n",
    "#Derivada del curso             Phi = C(t2)-C(t1) / t2 - t1\n",
    "df['C0']= df.groupby('mmsi')['course'].diff()/df['timediff']\n",
    "#2 Horas deberia de ser suficientemente informativo para saber el comportamiento del buque (paper subrayado)\n",
    "\n",
    "#Velocidad promedio entre puntos    Vavg = V1 + V2 / 2\n",
    "df['Vavg']  = df.groupby('mmsi')['speed'].transform(lambda x: x.rolling(2, 1).mean())\n",
    "\n",
    "\n",
    "#Variacion de velocidad entre puntos Delta_S = V2 - V1 / 2 \n",
    "df['Delta_S']= (df.groupby('mmsi')['speed'].diff())/2\n",
    "\n",
    "#Curso promedio entre puntos        Cavg = C1 + C2 / 2\n",
    "df['Cavg'] = df.groupby('mmsi')['course'].transform(lambda x: x.rolling(2, 1).mean())\n",
    "#Variacion del curso                DeltaC = C2-C1/2\n",
    "df['Delta_C']= (df.groupby('mmsi')['course'].diff())/2\n"
   ]
  },
  {
   "cell_type": "code",
   "execution_count": 12,
   "id": "99f8bbf2",
   "metadata": {
    "execution": {
     "iopub.execute_input": "2022-04-10T03:30:57.370778Z",
     "iopub.status.busy": "2022-04-10T03:30:57.370778Z",
     "iopub.status.idle": "2022-04-10T03:30:57.428051Z",
     "shell.execute_reply": "2022-04-10T03:30:57.428051Z"
    },
    "papermill": {
     "duration": 0.06923,
     "end_time": "2022-04-10T03:30:57.429065",
     "exception": false,
     "start_time": "2022-04-10T03:30:57.359835",
     "status": "completed"
    },
    "tags": []
   },
   "outputs": [],
   "source": [
    "number_lags = 6\n",
    "columns_to_lag = ['speed','course','S0','A0','J0','C0']\n",
    "\n",
    "#df = pd.DataFrame(data={'vals':[5,4,3,2,1]})\n",
    "for column in columns_to_lag:\n",
    "    for lag in range(1, number_lags + 1):\n",
    "        df[str(column) +'_lag_' + str(lag)] = df[column].shift(lag)\n"
   ]
  },
  {
   "cell_type": "code",
   "execution_count": 13,
   "id": "52fae0de",
   "metadata": {
    "execution": {
     "iopub.execute_input": "2022-04-10T03:30:57.447997Z",
     "iopub.status.busy": "2022-04-10T03:30:57.447997Z",
     "iopub.status.idle": "2022-04-10T03:30:57.459965Z",
     "shell.execute_reply": "2022-04-10T03:30:57.459965Z"
    },
    "papermill": {
     "duration": 0.024907,
     "end_time": "2022-04-10T03:30:57.460964",
     "exception": false,
     "start_time": "2022-04-10T03:30:57.436057",
     "status": "completed"
    },
    "tags": []
   },
   "outputs": [
    {
     "name": "stdout",
     "output_type": "stream",
     "text": [
      "Index(['mmsi', 'timestamp', 'distance_from_shore', 'distance_from_port',\n",
      "       'speed', 'course', 'lat', 'lon', 'is_fishing', 'source', 'datetime',\n",
      "       'sun_state', 'distance', 'timediff', 'S0', 'A0', 'J0', 'C0', 'Vavg',\n",
      "       'Delta_S', 'Cavg', 'Delta_C', 'speed_lag_1', 'speed_lag_2',\n",
      "       'speed_lag_3', 'speed_lag_4', 'speed_lag_5', 'speed_lag_6',\n",
      "       'course_lag_1', 'course_lag_2', 'course_lag_3', 'course_lag_4',\n",
      "       'course_lag_5', 'course_lag_6', 'S0_lag_1', 'S0_lag_2', 'S0_lag_3',\n",
      "       'S0_lag_4', 'S0_lag_5', 'S0_lag_6', 'A0_lag_1', 'A0_lag_2', 'A0_lag_3',\n",
      "       'A0_lag_4', 'A0_lag_5', 'A0_lag_6', 'J0_lag_1', 'J0_lag_2', 'J0_lag_3',\n",
      "       'J0_lag_4', 'J0_lag_5', 'J0_lag_6', 'C0_lag_1', 'C0_lag_2', 'C0_lag_3',\n",
      "       'C0_lag_4', 'C0_lag_5', 'C0_lag_6'],\n",
      "      dtype='object')\n"
     ]
    }
   ],
   "source": [
    "print(df.columns)\n"
   ]
  },
  {
   "cell_type": "code",
   "execution_count": 14,
   "id": "353c1412",
   "metadata": {
    "execution": {
     "iopub.execute_input": "2022-04-10T03:30:57.483903Z",
     "iopub.status.busy": "2022-04-10T03:30:57.482904Z",
     "iopub.status.idle": "2022-04-10T03:31:13.194604Z",
     "shell.execute_reply": "2022-04-10T03:31:13.195629Z"
    },
    "papermill": {
     "duration": 15.724692,
     "end_time": "2022-04-10T03:31:13.195629",
     "exception": false,
     "start_time": "2022-04-10T03:30:57.470937",
     "status": "completed"
    },
    "tags": []
   },
   "outputs": [],
   "source": [
    "df = df.dropna()\n",
    "df.to_csv(f\"./df_procesado/{config['output_label']}_fe.csv\",sep=\",\")  "
   ]
  },
  {
   "cell_type": "code",
   "execution_count": 15,
   "id": "85c9f740",
   "metadata": {
    "execution": {
     "iopub.execute_input": "2022-04-10T03:31:13.217543Z",
     "iopub.status.busy": "2022-04-10T03:31:13.217543Z",
     "iopub.status.idle": "2022-04-10T03:31:13.272848Z",
     "shell.execute_reply": "2022-04-10T03:31:13.271823Z"
    },
    "papermill": {
     "duration": 0.068269,
     "end_time": "2022-04-10T03:31:13.272848",
     "exception": false,
     "start_time": "2022-04-10T03:31:13.204579",
     "status": "completed"
    },
    "tags": []
   },
   "outputs": [
    {
     "name": "stdout",
     "output_type": "stream",
     "text": [
      "mmsi                   259789\n",
      "timestamp              259789\n",
      "distance_from_shore    259789\n",
      "distance_from_port     259789\n",
      "speed                  259789\n",
      "course                 259789\n",
      "lat                    259789\n",
      "lon                    259789\n",
      "is_fishing             259789\n",
      "source                 259789\n",
      "datetime               259789\n",
      "sun_state              259789\n",
      "distance               259789\n",
      "timediff               259789\n",
      "S0                     259789\n",
      "A0                     259789\n",
      "J0                     259789\n",
      "C0                     259789\n",
      "Vavg                   259789\n",
      "Delta_S                259789\n",
      "Cavg                   259789\n",
      "Delta_C                259789\n",
      "speed_lag_1            259789\n",
      "speed_lag_2            259789\n",
      "speed_lag_3            259789\n",
      "speed_lag_4            259789\n",
      "speed_lag_5            259789\n",
      "speed_lag_6            259789\n",
      "course_lag_1           259789\n",
      "course_lag_2           259789\n",
      "course_lag_3           259789\n",
      "course_lag_4           259789\n",
      "course_lag_5           259789\n",
      "course_lag_6           259789\n",
      "S0_lag_1               259789\n",
      "S0_lag_2               259789\n",
      "S0_lag_3               259789\n",
      "S0_lag_4               259789\n",
      "S0_lag_5               259789\n",
      "S0_lag_6               259789\n",
      "A0_lag_1               259789\n",
      "A0_lag_2               259789\n",
      "A0_lag_3               259789\n",
      "A0_lag_4               259789\n",
      "A0_lag_5               259789\n",
      "A0_lag_6               259789\n",
      "J0_lag_1               259789\n",
      "J0_lag_2               259789\n",
      "J0_lag_3               259789\n",
      "J0_lag_4               259789\n",
      "J0_lag_5               259789\n",
      "J0_lag_6               259789\n",
      "C0_lag_1               259789\n",
      "C0_lag_2               259789\n",
      "C0_lag_3               259789\n",
      "C0_lag_4               259789\n",
      "C0_lag_5               259789\n",
      "C0_lag_6               259789\n",
      "dtype: int64\n"
     ]
    }
   ],
   "source": [
    "print(df.count())"
   ]
  }
 ],
 "metadata": {
  "interpreter": {
   "hash": "db2a60f505a9041374f6f3fb78368755bb5bc9c69ef08139ad82abb6b35de715"
  },
  "kernelspec": {
   "display_name": "Python 3.8.8 64-bit ('base': conda)",
   "name": "python3"
  },
  "language_info": {
   "codemirror_mode": {
    "name": "ipython",
    "version": 3
   },
   "file_extension": ".py",
   "mimetype": "text/x-python",
   "name": "python",
   "nbconvert_exporter": "python",
   "pygments_lexer": "ipython3",
   "version": "3.8.8"
  },
  "papermill": {
   "default_parameters": {},
   "duration": 87.481134,
   "end_time": "2022-04-10T03:31:13.710390",
   "environment_variables": {},
   "exception": null,
   "input_path": "notebooks/feature_engineering.ipynb",
   "output_path": "papermill_outputs/feature_engineering/purse_seines/feature_engineering_purse_seines.ipynb",
   "parameters": {
    "config": {
     "data_path": "C:/Users/nico_/Desktop/ITBA/TFI/global fishing watch/dataset/purse_seines.csv",
     "notebook": "notebooks/feature_engineering.ipynb",
     "output_label": "purse_seines"
    }
   },
   "start_time": "2022-04-10T03:29:46.229256",
   "version": "2.3.4"
  }
 },
 "nbformat": 4,
 "nbformat_minor": 5
}
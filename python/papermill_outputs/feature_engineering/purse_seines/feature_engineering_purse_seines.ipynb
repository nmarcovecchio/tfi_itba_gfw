{
 "cells": [
  {
   "cell_type": "code",
   "execution_count": 1,
   "id": "7d4cf274",
   "metadata": {
    "execution": {
     "iopub.execute_input": "2022-04-15T00:11:36.493596Z",
     "iopub.status.busy": "2022-04-15T00:11:36.492599Z",
     "iopub.status.idle": "2022-04-15T00:11:36.503570Z",
     "shell.execute_reply": "2022-04-15T00:11:36.507559Z"
    },
    "papermill": {
     "duration": 0.038166,
     "end_time": "2022-04-15T00:11:36.507559",
     "exception": false,
     "start_time": "2022-04-15T00:11:36.469393",
     "status": "completed"
    },
    "tags": [
     "injected-parameters"
    ]
   },
   "outputs": [],
   "source": [
    "# Parameters\n",
    "config = {\n",
    "    \"notebook\": \"notebooks/feature_engineering.ipynb\",\n",
    "    \"data_path\": \"C:/Users/nico_/Desktop/ITBA/TFI/global fishing watch/dataset/purse_seines.csv\",\n",
    "    \"output_label\": \"purse_seines\",\n",
    "}\n"
   ]
  },
  {
   "cell_type": "code",
   "execution_count": 2,
   "id": "5d315391",
   "metadata": {
    "execution": {
     "iopub.execute_input": "2022-04-15T00:11:36.525511Z",
     "iopub.status.busy": "2022-04-15T00:11:36.525511Z",
     "iopub.status.idle": "2022-04-15T00:11:36.534488Z",
     "shell.execute_reply": "2022-04-15T00:11:36.534488Z"
    },
    "papermill": {
     "duration": 0.01997,
     "end_time": "2022-04-15T00:11:36.535508",
     "exception": false,
     "start_time": "2022-04-15T00:11:36.515538",
     "status": "completed"
    },
    "tags": []
   },
   "outputs": [
    {
     "name": "stdout",
     "output_type": "stream",
     "text": [
      "{'notebook': 'notebooks/feature_engineering.ipynb', 'data_path': 'C:/Users/nico_/Desktop/ITBA/TFI/global fishing watch/dataset/purse_seines.csv', 'output_label': 'purse_seines'}\n"
     ]
    }
   ],
   "source": [
    "# check if config exists\n",
    "try:\n",
    "    config\n",
    "except NameError:\n",
    "    config_exists = False\n",
    "else:\n",
    "    config_exists = True\n",
    "\n",
    "# make config if it does not exist already (e.g. passed in by papermill)\n",
    "if not(config_exists):\n",
    "    # set up some config for the experiment run\n",
    "    config = {\n",
    "        \"data_path\" : \"C:/Users/nico_/Desktop/ITBA/TFI/global fishing watch/dataset/trollers.csv\",\n",
    "        \"output_label\": \"trollers\"\n",
    "    }\n",
    "print(config)"
   ]
  },
  {
   "cell_type": "code",
   "execution_count": 3,
   "id": "495ea145",
   "metadata": {
    "execution": {
     "iopub.execute_input": "2022-04-15T00:11:36.554433Z",
     "iopub.status.busy": "2022-04-15T00:11:36.553464Z",
     "iopub.status.idle": "2022-04-15T00:12:16.613572Z",
     "shell.execute_reply": "2022-04-15T00:12:16.612575Z"
    },
    "papermill": {
     "duration": 40.071079,
     "end_time": "2022-04-15T00:12:16.613572",
     "exception": false,
     "start_time": "2022-04-15T00:11:36.542493",
     "status": "completed"
    },
    "tags": []
   },
   "outputs": [],
   "source": [
    "import pandas as pd\n",
    "import numpy as np\n",
    "from sklearn.tree import DecisionTreeClassifier # Import Decision Tree Classifier\n",
    "from sklearn.model_selection import train_test_split # Import train_test_split function\n",
    "from sklearn import metrics #Import scikit-learn metrics module for accuracy calculation\n",
    "\n",
    "df = pd.read_csv(config['data_path'], header=\"infer\", sep=\",\",error_bad_lines=False, engine ='python')\n",
    "\n",
    "#Nos quedamos con los puntos que estan mayor a 3 millas nauticas de la costa.\n",
    "df = df[(df['distance_from_shore'] >= 5556)]\n",
    "\n",
    "#Nos quedamos solamente con los valores que estamos seguros que esta o no esta pescando.\n",
    "df = df[(df['is_fishing'] == -1.0)  | (df['is_fishing'] == 1.0) ]\n",
    "\n",
    "#Renombramos las columnas de la variable a predecir de si esta pescando o no.\n",
    "df[\"is_fishing\"] = np.where(df[\"is_fishing\"] == 1.0, 'SI', 'NO')\n",
    "\n",
    "#Dropeamos los que contienen el mismo timestamp.\n",
    "df = df.drop_duplicates(subset='timestamp', keep=\"first\")\n",
    "\n",
    "df[\"timestamp\"]=df[\"timestamp\"].astype(int)\n",
    "#df['date_series'] = pd.to_datetime(df['timestamp'],unit='s')\n",
    "#df = df.set_index('date_series') \n",
    "df['datetime'] = pd.to_datetime(df['timestamp'],unit='s')\n",
    "df.index = df.datetime\n",
    "#print(df['date_series'])\n",
    "\n",
    "aux = df\n"
   ]
  },
  {
   "cell_type": "code",
   "execution_count": 4,
   "id": "f8e1c45b",
   "metadata": {
    "execution": {
     "iopub.execute_input": "2022-04-15T00:12:16.632547Z",
     "iopub.status.busy": "2022-04-15T00:12:16.631554Z",
     "iopub.status.idle": "2022-04-15T00:12:17.125204Z",
     "shell.execute_reply": "2022-04-15T00:12:17.125204Z"
    },
    "papermill": {
     "duration": 0.503651,
     "end_time": "2022-04-15T00:12:17.125204",
     "exception": false,
     "start_time": "2022-04-15T00:12:16.621553",
     "status": "completed"
    },
    "tags": []
   },
   "outputs": [
    {
     "name": "stdout",
     "output_type": "stream",
     "text": [
      "892370\n"
     ]
    },
    {
     "name": "stdout",
     "output_type": "stream",
     "text": [
      "260211\n"
     ]
    }
   ],
   "source": [
    "#print(df.resample('60Min',on='datetime'))\n",
    "df = aux\n",
    "print(len(df))\n",
    "df = df.resample('5Min',on='datetime').agg('first').dropna()  \n",
    "df.reset_index(drop=True, inplace=True)\n",
    "print(len(df))\n",
    "#print(df)"
   ]
  },
  {
   "cell_type": "code",
   "execution_count": 5,
   "id": "bc546f02",
   "metadata": {
    "execution": {
     "iopub.execute_input": "2022-04-15T00:12:17.149140Z",
     "iopub.status.busy": "2022-04-15T00:12:17.149140Z",
     "iopub.status.idle": "2022-04-15T00:12:17.173075Z",
     "shell.execute_reply": "2022-04-15T00:12:17.174100Z"
    },
    "papermill": {
     "duration": 0.038923,
     "end_time": "2022-04-15T00:12:17.174100",
     "exception": false,
     "start_time": "2022-04-15T00:12:17.135177",
     "status": "completed"
    },
    "tags": []
   },
   "outputs": [
    {
     "name": "stdout",
     "output_type": "stream",
     "text": [
      "   timestamp  valores            datetime\n",
      "0          1        3 1970-01-01 00:00:01\n",
      "1          2        4 1970-01-01 00:00:02\n",
      "2          3        5 1970-01-01 00:00:03\n",
      "3          4        6 1970-01-01 00:00:04\n",
      "4        120        7 1970-01-01 00:02:00\n",
      "5        241        8 1970-01-01 00:04:01\n",
      "6        421        9 1970-01-01 00:07:01\n",
      "                     timestamp  valores            datetime\n",
      "datetime                                                   \n",
      "1970-01-01 00:00:00        1.0      3.0 1970-01-01 00:00:01\n",
      "1970-01-01 00:02:00      120.0      7.0 1970-01-01 00:02:00\n",
      "1970-01-01 00:04:00      241.0      8.0 1970-01-01 00:04:01\n",
      "1970-01-01 00:07:00      421.0      9.0 1970-01-01 00:07:01\n"
     ]
    }
   ],
   "source": [
    "#EJEMPLO DE RESAMPLE PARA VER QUE FUNCIONA OK.\n",
    "d = {'timestamp': [1, 2,3,4,60*2,60*4+1,60*7+1], 'valores': [3, 4,5,6,7,8,9]}\n",
    "d = pd.DataFrame(data=d)\n",
    "\n",
    "d['datetime'] = pd.to_datetime(d['timestamp'],unit='s')\n",
    "print(d)\n",
    "\n",
    "d = d.resample('1Min',on='datetime').agg('first').dropna()  \n",
    "print(d)"
   ]
  },
  {
   "cell_type": "code",
   "execution_count": 6,
   "id": "b93d279a",
   "metadata": {
    "execution": {
     "iopub.execute_input": "2022-04-15T00:12:17.195017Z",
     "iopub.status.busy": "2022-04-15T00:12:17.194019Z",
     "iopub.status.idle": "2022-04-15T00:12:23.599882Z",
     "shell.execute_reply": "2022-04-15T00:12:23.599882Z"
    },
    "papermill": {
     "duration": 6.417803,
     "end_time": "2022-04-15T00:12:23.599882",
     "exception": false,
     "start_time": "2022-04-15T00:12:17.182079",
     "status": "completed"
    },
    "tags": []
   },
   "outputs": [],
   "source": [
    "#There are multiple definitions for night, depending if it's for civil (-6°), nautical (-12°) or astronomical (-18°) purposes. \n",
    "# Just pick a treshold : if the sun is below, it's nighttime!\n",
    "\n",
    "import ephem\n",
    "import math\n",
    "import datetime\n",
    "\n",
    "def get_day_night(lat,lon,datetime): \n",
    "    sun = ephem.Sun()\n",
    "    observer = ephem.Observer()\n",
    "    # ↓ Define your coordinates here ↓\n",
    "    observer.lat, observer.lon, observer.elevation = lat, lon, 0\n",
    "    # ↓ Set the time (UTC) here ↓\n",
    "    #observer.date = datetime.datetime.utcnow()\n",
    "    observer.date=datetime\n",
    "    sun.compute(observer)\n",
    "    current_sun_alt = sun.alt\n",
    "    if (current_sun_alt*180/math.pi) < -12.0 :\n",
    "        return 2\n",
    "    else:\n",
    "        return 1\n",
    "    \n",
    "df['sun_state'] = df.apply(lambda x: get_day_night(x['lat'], x['lon'],x['datetime']), axis=1)"
   ]
  },
  {
   "cell_type": "code",
   "execution_count": 7,
   "id": "0ec86689",
   "metadata": {
    "execution": {
     "iopub.execute_input": "2022-04-15T00:12:23.620826Z",
     "iopub.status.busy": "2022-04-15T00:12:23.619859Z",
     "iopub.status.idle": "2022-04-15T00:12:23.631796Z",
     "shell.execute_reply": "2022-04-15T00:12:23.631796Z"
    },
    "papermill": {
     "duration": 0.022938,
     "end_time": "2022-04-15T00:12:23.631796",
     "exception": false,
     "start_time": "2022-04-15T00:12:23.608858",
     "status": "completed"
    },
    "tags": []
   },
   "outputs": [
    {
     "data": {
      "text/plain": [
       "1    165406\n",
       "2     94805\n",
       "Name: sun_state, dtype: int64"
      ]
     },
     "execution_count": 7,
     "metadata": {},
     "output_type": "execute_result"
    }
   ],
   "source": [
    "df[\"sun_state\"].value_counts()"
   ]
  },
  {
   "cell_type": "markdown",
   "id": "7bf29ce0",
   "metadata": {
    "papermill": {
     "duration": 0.008953,
     "end_time": "2022-04-15T00:12:23.649749",
     "exception": false,
     "start_time": "2022-04-15T00:12:23.640796",
     "status": "completed"
    },
    "tags": []
   },
   "source": [
    "Se pesca mas de noche, que de dia"
   ]
  },
  {
   "cell_type": "code",
   "execution_count": 8,
   "id": "75f2e26d",
   "metadata": {
    "execution": {
     "iopub.execute_input": "2022-04-15T00:12:23.682688Z",
     "iopub.status.busy": "2022-04-15T00:12:23.681663Z",
     "iopub.status.idle": "2022-04-15T00:12:23.711583Z",
     "shell.execute_reply": "2022-04-15T00:12:23.711583Z"
    },
    "papermill": {
     "duration": 0.053827,
     "end_time": "2022-04-15T00:12:23.711583",
     "exception": false,
     "start_time": "2022-04-15T00:12:23.657756",
     "status": "completed"
    },
    "tags": []
   },
   "outputs": [
    {
     "name": "stdout",
     "output_type": "stream",
     "text": [
      "           sun_state                                   \n",
      "               count      mean       std  min  50%  max\n",
      "is_fishing                                             \n",
      "NO          259638.0  1.364457  0.481279  1.0  1.0  2.0\n",
      "SI             573.0  1.310646  0.463162  1.0  1.0  2.0\n"
     ]
    }
   ],
   "source": [
    "print(df.groupby([\"is_fishing\"])[['sun_state']].describe(percentiles=[]))"
   ]
  },
  {
   "cell_type": "code",
   "execution_count": 9,
   "id": "38fd72f3",
   "metadata": {
    "execution": {
     "iopub.execute_input": "2022-04-15T00:12:23.735519Z",
     "iopub.status.busy": "2022-04-15T00:12:23.735519Z",
     "iopub.status.idle": "2022-04-15T00:12:23.964095Z",
     "shell.execute_reply": "2022-04-15T00:12:23.964095Z"
    },
    "papermill": {
     "duration": 0.244506,
     "end_time": "2022-04-15T00:12:23.965093",
     "exception": false,
     "start_time": "2022-04-15T00:12:23.720587",
     "status": "completed"
    },
    "tags": []
   },
   "outputs": [],
   "source": [
    "def haversine_np(lon1, lat1, lon2, lat2):\n",
    "    lon1, lat1, lon2, lat2 = map(np.radians, [lon1, lat1, lon2, lat2])\n",
    "\n",
    "    dlon = lon2 - lon1\n",
    "    dlat = lat2 - lat1\n",
    "\n",
    "    a = np.sin(dlat/2.0)**2 + np.cos(lat1) * np.cos(lat2) * np.sin(dlon/2.0)**2\n",
    "\n",
    "    c = 2 * np.arcsin(np.sqrt(a))\n",
    "    km = 6367 * c\n",
    "    return km\n",
    "\n",
    "def distance(x):\n",
    "    y = x.shift()\n",
    "    return haversine_np(x['lat'], x['lon'], y['lat'], y['lon']).fillna(0)\n",
    "\n",
    "df['distance'] = df.groupby('mmsi').apply(distance).reset_index(level=0, drop=True)"
   ]
  },
  {
   "cell_type": "code",
   "execution_count": 10,
   "id": "a602068c",
   "metadata": {
    "execution": {
     "iopub.execute_input": "2022-04-15T00:12:23.997307Z",
     "iopub.status.busy": "2022-04-15T00:12:23.996315Z",
     "iopub.status.idle": "2022-04-15T00:12:24.011793Z",
     "shell.execute_reply": "2022-04-15T00:12:24.011793Z"
    },
    "papermill": {
     "duration": 0.027454,
     "end_time": "2022-04-15T00:12:24.012818",
     "exception": false,
     "start_time": "2022-04-15T00:12:23.985364",
     "status": "completed"
    },
    "tags": []
   },
   "outputs": [],
   "source": [
    "#Convierto latitud y longitud a radianes\n",
    "df['lat'] = np.radians(df['lat'])\n",
    "df['lon'] = np.radians(df['lon'])"
   ]
  },
  {
   "cell_type": "code",
   "execution_count": 11,
   "id": "cdec8c3c",
   "metadata": {
    "execution": {
     "iopub.execute_input": "2022-04-15T00:12:24.034732Z",
     "iopub.status.busy": "2022-04-15T00:12:24.034732Z",
     "iopub.status.idle": "2022-04-15T00:12:24.106821Z",
     "shell.execute_reply": "2022-04-15T00:12:24.106821Z"
    },
    "papermill": {
     "duration": 0.085055,
     "end_time": "2022-04-15T00:12:24.107846",
     "exception": false,
     "start_time": "2022-04-15T00:12:24.022791",
     "status": "completed"
    },
    "tags": []
   },
   "outputs": [],
   "source": [
    "#Calculo la diferencia de tiempo entre puntos consecutivos.\n",
    "df['timediff']= df.groupby('mmsi')['timestamp'].diff()"
   ]
  },
  {
   "cell_type": "code",
   "execution_count": 12,
   "id": "cb316ec4",
   "metadata": {
    "execution": {
     "iopub.execute_input": "2022-04-15T00:12:24.128762Z",
     "iopub.status.busy": "2022-04-15T00:12:24.128762Z",
     "iopub.status.idle": "2022-04-15T00:12:24.137880Z",
     "shell.execute_reply": "2022-04-15T00:12:24.137880Z"
    },
    "papermill": {
     "duration": 0.021057,
     "end_time": "2022-04-15T00:12:24.137880",
     "exception": false,
     "start_time": "2022-04-15T00:12:24.116823",
     "status": "completed"
    },
    "tags": []
   },
   "outputs": [],
   "source": [
    "#Normalizamos la variable curso\n",
    "df['course']=df['course']/360.0"
   ]
  },
  {
   "cell_type": "code",
   "execution_count": 13,
   "id": "b320975c",
   "metadata": {
    "execution": {
     "iopub.execute_input": "2022-04-15T00:12:24.162814Z",
     "iopub.status.busy": "2022-04-15T00:12:24.161817Z",
     "iopub.status.idle": "2022-04-15T00:12:24.560445Z",
     "shell.execute_reply": "2022-04-15T00:12:24.560445Z"
    },
    "papermill": {
     "duration": 0.413618,
     "end_time": "2022-04-15T00:12:24.561472",
     "exception": false,
     "start_time": "2022-04-15T00:12:24.147854",
     "status": "completed"
    },
    "tags": []
   },
   "outputs": [],
   "source": [
    "#Agregar esto deberia de hacer robusto a mi algoritmo a LAT/LON y timestamps.\n",
    "\n",
    "\n",
    "\n",
    "#Velocidad entre puntos a partir de la distancia        S = x(t2)-x(t1) / t2 - t1\n",
    "df['S0']= df['distance']/df['timediff']\n",
    "#Aceleracion rectilinea         A = S(t2)-S(t1) / t2 - t1\n",
    "df['A0']= df.groupby('mmsi')['S0'].diff()/df['timediff']\n",
    "#Jerk                           J = A(t2)-A(t1) / t2 - t1\n",
    "df['J0']= df.groupby('mmsi')['A0'].diff()/df['timediff']\n",
    "#Derivada del curso             Phi = C(t2)-C(t1) / t2 - t1\n",
    "df['C0']= df.groupby('mmsi')['course'].diff()/df['timediff']\n",
    "#2 Horas deberia de ser suficientemente informativo para saber el comportamiento del buque (paper subrayado)\n",
    "\n",
    "#Velocidad promedio entre puntos    Vavg = V1 + V2 / 2\n",
    "df['Vavg']  = df.groupby('mmsi')['speed'].transform(lambda x: x.rolling(2, 1).mean())\n",
    "\n",
    "\n",
    "#Variacion de velocidad entre puntos Delta_S = V2 - V1 / 2 \n",
    "df['Delta_S']= (df.groupby('mmsi')['speed'].diff())/2\n",
    "\n",
    "#Curso promedio entre puntos        Cavg = C1 + C2 / 2\n",
    "df['Cavg'] = df.groupby('mmsi')['course'].transform(lambda x: x.rolling(2, 1).mean())\n",
    "#Variacion del curso                DeltaC = C2-C1/2\n",
    "df['Delta_C']= (df.groupby('mmsi')['course'].diff())/2\n"
   ]
  },
  {
   "cell_type": "code",
   "execution_count": 14,
   "id": "0ee27a48",
   "metadata": {
    "execution": {
     "iopub.execute_input": "2022-04-15T00:12:24.583384Z",
     "iopub.status.busy": "2022-04-15T00:12:24.583384Z",
     "iopub.status.idle": "2022-04-15T00:12:24.639517Z",
     "shell.execute_reply": "2022-04-15T00:12:24.639517Z"
    },
    "papermill": {
     "duration": 0.06907,
     "end_time": "2022-04-15T00:12:24.639517",
     "exception": false,
     "start_time": "2022-04-15T00:12:24.570447",
     "status": "completed"
    },
    "tags": []
   },
   "outputs": [],
   "source": [
    "number_lags = 6\n",
    "columns_to_lag = ['speed','course','S0','A0','J0','C0']\n",
    "\n",
    "#df = pd.DataFrame(data={'vals':[5,4,3,2,1]})\n",
    "for column in columns_to_lag:\n",
    "    for lag in range(1, number_lags + 1):\n",
    "        df[str(column) +'_lag_' + str(lag)] = df[column].shift(lag)\n"
   ]
  },
  {
   "cell_type": "code",
   "execution_count": 15,
   "id": "8f4b05e0",
   "metadata": {
    "execution": {
     "iopub.execute_input": "2022-04-15T00:12:24.662455Z",
     "iopub.status.busy": "2022-04-15T00:12:24.662455Z",
     "iopub.status.idle": "2022-04-15T00:12:24.672595Z",
     "shell.execute_reply": "2022-04-15T00:12:24.671570Z"
    },
    "papermill": {
     "duration": 0.023106,
     "end_time": "2022-04-15T00:12:24.672595",
     "exception": false,
     "start_time": "2022-04-15T00:12:24.649489",
     "status": "completed"
    },
    "tags": []
   },
   "outputs": [
    {
     "name": "stdout",
     "output_type": "stream",
     "text": [
      "Index(['mmsi', 'timestamp', 'distance_from_shore', 'distance_from_port',\n",
      "       'speed', 'course', 'lat', 'lon', 'is_fishing', 'source', 'datetime',\n",
      "       'sun_state', 'distance', 'timediff', 'S0', 'A0', 'J0', 'C0', 'Vavg',\n",
      "       'Delta_S', 'Cavg', 'Delta_C', 'speed_lag_1', 'speed_lag_2',\n",
      "       'speed_lag_3', 'speed_lag_4', 'speed_lag_5', 'speed_lag_6',\n",
      "       'course_lag_1', 'course_lag_2', 'course_lag_3', 'course_lag_4',\n",
      "       'course_lag_5', 'course_lag_6', 'S0_lag_1', 'S0_lag_2', 'S0_lag_3',\n",
      "       'S0_lag_4', 'S0_lag_5', 'S0_lag_6', 'A0_lag_1', 'A0_lag_2', 'A0_lag_3',\n",
      "       'A0_lag_4', 'A0_lag_5', 'A0_lag_6', 'J0_lag_1', 'J0_lag_2', 'J0_lag_3',\n",
      "       'J0_lag_4', 'J0_lag_5', 'J0_lag_6', 'C0_lag_1', 'C0_lag_2', 'C0_lag_3',\n",
      "       'C0_lag_4', 'C0_lag_5', 'C0_lag_6'],\n",
      "      dtype='object')\n"
     ]
    }
   ],
   "source": [
    "print(df.columns)\n"
   ]
  },
  {
   "cell_type": "code",
   "execution_count": 16,
   "id": "45cb4805",
   "metadata": {
    "execution": {
     "iopub.execute_input": "2022-04-15T00:12:24.694509Z",
     "iopub.status.busy": "2022-04-15T00:12:24.694509Z",
     "iopub.status.idle": "2022-04-15T00:12:40.835763Z",
     "shell.execute_reply": "2022-04-15T00:12:40.834777Z"
    },
    "papermill": {
     "duration": 16.153221,
     "end_time": "2022-04-15T00:12:40.835763",
     "exception": false,
     "start_time": "2022-04-15T00:12:24.682542",
     "status": "completed"
    },
    "tags": []
   },
   "outputs": [],
   "source": [
    "df = df.dropna()\n",
    "df.to_csv(f\"../../df_procesado/{config['output_label']}_fe.csv\",sep=\",\",index=False)  "
   ]
  },
  {
   "cell_type": "code",
   "execution_count": 17,
   "id": "09af9a6a",
   "metadata": {
    "execution": {
     "iopub.execute_input": "2022-04-15T00:12:40.887184Z",
     "iopub.status.busy": "2022-04-15T00:12:40.887184Z",
     "iopub.status.idle": "2022-04-15T00:12:41.098590Z",
     "shell.execute_reply": "2022-04-15T00:12:41.098590Z"
    },
    "papermill": {
     "duration": 0.25384,
     "end_time": "2022-04-15T00:12:41.098590",
     "exception": false,
     "start_time": "2022-04-15T00:12:40.844750",
     "status": "completed"
    },
    "tags": []
   },
   "outputs": [
    {
     "name": "stdout",
     "output_type": "stream",
     "text": [
      "573\n",
      "890\n"
     ]
    }
   ],
   "source": [
    "def n_prior_to_condition(df, n, condition):\n",
    "    groups = condition.iloc[::-1].cumsum()\n",
    "    return df.groupby(groups).tail(n+1)[:15000]\n",
    "\n",
    "for i in range(1,10000):\n",
    "    aux = n_prior_to_condition(df, i, df.is_fishing==\"SI\")  \n",
    "    aux = aux.drop_duplicates()\n",
    "    yes = (len(aux[aux['is_fishing']=='SI']))\n",
    "    no = (len(aux[aux['is_fishing']=='NO']))\n",
    "    if (yes/no<=1):\n",
    "        df=aux\n",
    "        break\n",
    "\n",
    "print(len(df[df['is_fishing']=='SI']))\n",
    "print((len(df[df['is_fishing']=='NO'])))\n",
    "df.to_csv(f\"../../df_procesado/{config['output_label']}_fe_recortado.csv\",sep=\",\",index=False)  "
   ]
  },
  {
   "cell_type": "code",
   "execution_count": 18,
   "id": "f774f7cf",
   "metadata": {
    "execution": {
     "iopub.execute_input": "2022-04-15T00:12:41.122556Z",
     "iopub.status.busy": "2022-04-15T00:12:41.121555Z",
     "iopub.status.idle": "2022-04-15T00:12:41.131502Z",
     "shell.execute_reply": "2022-04-15T00:12:41.130505Z"
    },
    "papermill": {
     "duration": 0.021941,
     "end_time": "2022-04-15T00:12:41.131502",
     "exception": false,
     "start_time": "2022-04-15T00:12:41.109561",
     "status": "completed"
    },
    "tags": []
   },
   "outputs": [
    {
     "name": "stdout",
     "output_type": "stream",
     "text": [
      "mmsi                   1463\n",
      "timestamp              1463\n",
      "distance_from_shore    1463\n",
      "distance_from_port     1463\n",
      "speed                  1463\n",
      "course                 1463\n",
      "lat                    1463\n",
      "lon                    1463\n",
      "is_fishing             1463\n",
      "source                 1463\n",
      "datetime               1463\n",
      "sun_state              1463\n",
      "distance               1463\n",
      "timediff               1463\n",
      "S0                     1463\n",
      "A0                     1463\n",
      "J0                     1463\n",
      "C0                     1463\n",
      "Vavg                   1463\n",
      "Delta_S                1463\n",
      "Cavg                   1463\n",
      "Delta_C                1463\n",
      "speed_lag_1            1463\n",
      "speed_lag_2            1463\n",
      "speed_lag_3            1463\n",
      "speed_lag_4            1463\n",
      "speed_lag_5            1463\n",
      "speed_lag_6            1463\n",
      "course_lag_1           1463\n",
      "course_lag_2           1463\n",
      "course_lag_3           1463\n",
      "course_lag_4           1463\n",
      "course_lag_5           1463\n",
      "course_lag_6           1463\n",
      "S0_lag_1               1463\n",
      "S0_lag_2               1463\n",
      "S0_lag_3               1463\n",
      "S0_lag_4               1463\n",
      "S0_lag_5               1463\n",
      "S0_lag_6               1463\n",
      "A0_lag_1               1463\n",
      "A0_lag_2               1463\n",
      "A0_lag_3               1463\n",
      "A0_lag_4               1463\n",
      "A0_lag_5               1463\n",
      "A0_lag_6               1463\n",
      "J0_lag_1               1463\n",
      "J0_lag_2               1463\n",
      "J0_lag_3               1463\n",
      "J0_lag_4               1463\n",
      "J0_lag_5               1463\n",
      "J0_lag_6               1463\n",
      "C0_lag_1               1463\n",
      "C0_lag_2               1463\n",
      "C0_lag_3               1463\n",
      "C0_lag_4               1463\n",
      "C0_lag_5               1463\n",
      "C0_lag_6               1463\n",
      "dtype: int64\n"
     ]
    }
   ],
   "source": [
    "print(df.count())"
   ]
  }
 ],
 "metadata": {
  "interpreter": {
   "hash": "db2a60f505a9041374f6f3fb78368755bb5bc9c69ef08139ad82abb6b35de715"
  },
  "kernelspec": {
   "display_name": "Python 3.8.8 64-bit ('base': conda)",
   "name": "python3"
  },
  "language_info": {
   "codemirror_mode": {
    "name": "ipython",
    "version": 3
   },
   "file_extension": ".py",
   "mimetype": "text/x-python",
   "name": "python",
   "nbconvert_exporter": "python",
   "pygments_lexer": "ipython3",
   "version": "3.8.8"
  },
  "papermill": {
   "default_parameters": {},
   "duration": 113.425888,
   "end_time": "2022-04-15T00:12:42.304304",
   "environment_variables": {},
   "exception": null,
   "input_path": "notebooks/feature_engineering.ipynb",
   "output_path": "papermill_outputs/feature_engineering/purse_seines/feature_engineering_purse_seines.ipynb",
   "parameters": {
    "config": {
     "data_path": "C:/Users/nico_/Desktop/ITBA/TFI/global fishing watch/dataset/purse_seines.csv",
     "notebook": "notebooks/feature_engineering.ipynb",
     "output_label": "purse_seines"
    }
   },
   "start_time": "2022-04-15T00:10:48.878416",
   "version": "2.3.4"
  }
 },
 "nbformat": 4,
 "nbformat_minor": 5
}
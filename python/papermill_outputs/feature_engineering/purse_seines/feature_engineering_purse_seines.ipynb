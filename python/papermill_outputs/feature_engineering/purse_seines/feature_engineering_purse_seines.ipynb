{
 "cells": [
  {
   "cell_type": "code",
   "execution_count": 1,
   "id": "d5625e55",
   "metadata": {
    "execution": {
     "iopub.execute_input": "2022-06-17T15:04:40.071406Z",
     "iopub.status.busy": "2022-06-17T15:04:40.070409Z",
     "iopub.status.idle": "2022-06-17T15:04:40.086366Z",
     "shell.execute_reply": "2022-06-17T15:04:40.085369Z"
    },
    "papermill": {
     "duration": 0.031914,
     "end_time": "2022-06-17T15:04:40.086366",
     "exception": false,
     "start_time": "2022-06-17T15:04:40.054452",
     "status": "completed"
    },
    "tags": [
     "injected-parameters"
    ]
   },
   "outputs": [],
   "source": [
    "# Parameters\n",
    "config = {\n",
    "    \"notebook\": \"notebooks/feature_engineering.ipynb\",\n",
    "    \"data_path\": \"C:/Users/nico_/Desktop/ITBA/TFI/global fishing watch/dataset/purse_seines.csv\",\n",
    "    \"output_label\": \"purse_seines\",\n",
    "}\n"
   ]
  },
  {
   "cell_type": "code",
   "execution_count": 2,
   "id": "e2febc7a",
   "metadata": {
    "execution": {
     "iopub.execute_input": "2022-06-17T15:04:40.116287Z",
     "iopub.status.busy": "2022-06-17T15:04:40.115289Z",
     "iopub.status.idle": "2022-06-17T15:04:40.132244Z",
     "shell.execute_reply": "2022-06-17T15:04:40.133241Z"
    },
    "papermill": {
     "duration": 0.032912,
     "end_time": "2022-06-17T15:04:40.133241",
     "exception": false,
     "start_time": "2022-06-17T15:04:40.100329",
     "status": "completed"
    },
    "tags": []
   },
   "outputs": [
    {
     "name": "stdout",
     "output_type": "stream",
     "text": [
      "{'notebook': 'notebooks/feature_engineering.ipynb', 'data_path': 'C:/Users/nico_/Desktop/ITBA/TFI/global fishing watch/dataset/purse_seines.csv', 'output_label': 'purse_seines'}\n"
     ]
    }
   ],
   "source": [
    "# check if config exists\n",
    "try:\n",
    "    config\n",
    "except NameError:\n",
    "    config_exists = False\n",
    "else:\n",
    "    config_exists = True\n",
    "\n",
    "# make config if it does not exist already (e.g. passed in by papermill)\n",
    "if not(config_exists):\n",
    "    # set up some config for the experiment run\n",
    "    config = {\n",
    "        \"data_path\" : \"C:/Users/nico_/Desktop/ITBA/TFI/global fishing watch/dataset/trollers.csv\",\n",
    "        \"output_label\": \"trollers\"\n",
    "    }\n",
    "print(config)"
   ]
  },
  {
   "cell_type": "code",
   "execution_count": 3,
   "id": "4c1c3184",
   "metadata": {
    "execution": {
     "iopub.execute_input": "2022-06-17T15:04:40.164158Z",
     "iopub.status.busy": "2022-06-17T15:04:40.164158Z",
     "iopub.status.idle": "2022-06-17T15:05:10.938812Z",
     "shell.execute_reply": "2022-06-17T15:05:10.937815Z"
    },
    "papermill": {
     "duration": 30.792606,
     "end_time": "2022-06-17T15:05:10.938812",
     "exception": false,
     "start_time": "2022-06-17T15:04:40.146206",
     "status": "completed"
    },
    "tags": []
   },
   "outputs": [],
   "source": [
    "import pandas as pd\n",
    "import numpy as np\n",
    "from sklearn.tree import DecisionTreeClassifier # Import Decision Tree Classifier\n",
    "from sklearn.model_selection import train_test_split # Import train_test_split function\n",
    "from sklearn import metrics #Import scikit-learn metrics module for accuracy calculation\n",
    "\n",
    "df = pd.read_csv(config['data_path'], header=\"infer\", sep=\",\",error_bad_lines=False, engine ='python')\n",
    "\n",
    "#Nos quedamos con los puntos que estan mayor a 3 millas nauticas de la costa.\n",
    "df = df[(df['distance_from_shore'] >= 5556)]\n",
    "\n",
    "#Nos quedamos solamente con los valores que estamos seguros que esta o no esta pescando.\n",
    "df = df[(df['is_fishing'] == -1.0)  | (df['is_fishing'] == 1.0) ]\n",
    "\n",
    "#Renombramos las columnas de la variable a predecir de si esta pescando o no.\n",
    "df[\"is_fishing\"] = np.where(df[\"is_fishing\"] == 1.0, 'SI', 'NO')\n",
    "\n",
    "#Dropeamos los que contienen el mismo timestamp.\n",
    "df = df.drop_duplicates(subset='timestamp', keep=\"first\")\n",
    "\n",
    "df[\"timestamp\"]=df[\"timestamp\"].astype(int)\n",
    "#df['date_series'] = pd.to_datetime(df['timestamp'],unit='s')\n",
    "#df = df.set_index('date_series') \n",
    "df['datetime'] = pd.to_datetime(df['timestamp'],unit='s')\n",
    "df.index = df.datetime\n",
    "#print(df['date_series'])\n",
    "\n",
    "aux = df\n"
   ]
  },
  {
   "cell_type": "code",
   "execution_count": 4,
   "id": "1a4fdfc7",
   "metadata": {
    "execution": {
     "iopub.execute_input": "2022-06-17T15:05:10.968732Z",
     "iopub.status.busy": "2022-06-17T15:05:10.967735Z",
     "iopub.status.idle": "2022-06-17T15:05:11.600043Z",
     "shell.execute_reply": "2022-06-17T15:05:11.601040Z"
    },
    "papermill": {
     "duration": 0.649263,
     "end_time": "2022-06-17T15:05:11.601040",
     "exception": false,
     "start_time": "2022-06-17T15:05:10.951777",
     "status": "completed"
    },
    "tags": []
   },
   "outputs": [
    {
     "name": "stdout",
     "output_type": "stream",
     "text": [
      "892370\n"
     ]
    },
    {
     "name": "stdout",
     "output_type": "stream",
     "text": [
      "260211\n"
     ]
    }
   ],
   "source": [
    "#print(df.resample('60Min',on='datetime'))\n",
    "df = aux\n",
    "print(len(df))\n",
    "df = df.resample('5Min',on='datetime').agg('first').dropna()  \n",
    "df.reset_index(drop=True, inplace=True)\n",
    "print(len(df))\n",
    "#print(df)"
   ]
  },
  {
   "cell_type": "code",
   "execution_count": 5,
   "id": "78659012",
   "metadata": {
    "execution": {
     "iopub.execute_input": "2022-06-17T15:05:11.633953Z",
     "iopub.status.busy": "2022-06-17T15:05:11.632954Z",
     "iopub.status.idle": "2022-06-17T15:05:11.646918Z",
     "shell.execute_reply": "2022-06-17T15:05:11.647916Z"
    },
    "papermill": {
     "duration": 0.033911,
     "end_time": "2022-06-17T15:05:11.647916",
     "exception": false,
     "start_time": "2022-06-17T15:05:11.614005",
     "status": "completed"
    },
    "tags": []
   },
   "outputs": [
    {
     "name": "stdout",
     "output_type": "stream",
     "text": [
      "   timestamp  valores            datetime\n",
      "0          1        3 1970-01-01 00:00:01\n",
      "1          2        4 1970-01-01 00:00:02\n",
      "2          3        5 1970-01-01 00:00:03\n",
      "3          4        6 1970-01-01 00:00:04\n",
      "4        120        7 1970-01-01 00:02:00\n",
      "5        241        8 1970-01-01 00:04:01\n",
      "6        421        9 1970-01-01 00:07:01\n",
      "                     timestamp  valores            datetime\n",
      "datetime                                                   \n",
      "1970-01-01 00:00:00        1.0      3.0 1970-01-01 00:00:01\n",
      "1970-01-01 00:02:00      120.0      7.0 1970-01-01 00:02:00\n",
      "1970-01-01 00:04:00      241.0      8.0 1970-01-01 00:04:01\n",
      "1970-01-01 00:07:00      421.0      9.0 1970-01-01 00:07:01\n"
     ]
    }
   ],
   "source": [
    "#EJEMPLO DE RESAMPLE PARA VER QUE FUNCIONA OK.\n",
    "d = {'timestamp': [1, 2,3,4,60*2,60*4+1,60*7+1], 'valores': [3, 4,5,6,7,8,9]}\n",
    "d = pd.DataFrame(data=d)\n",
    "\n",
    "d['datetime'] = pd.to_datetime(d['timestamp'],unit='s')\n",
    "print(d)\n",
    "\n",
    "d = d.resample('1Min',on='datetime').agg('first').dropna()  \n",
    "print(d)"
   ]
  },
  {
   "cell_type": "code",
   "execution_count": 6,
   "id": "2a2c260c",
   "metadata": {
    "execution": {
     "iopub.execute_input": "2022-06-17T15:05:11.679829Z",
     "iopub.status.busy": "2022-06-17T15:05:11.679829Z",
     "iopub.status.idle": "2022-06-17T15:05:21.807729Z",
     "shell.execute_reply": "2022-06-17T15:05:21.808726Z"
    },
    "papermill": {
     "duration": 10.147846,
     "end_time": "2022-06-17T15:05:21.808726",
     "exception": false,
     "start_time": "2022-06-17T15:05:11.660880",
     "status": "completed"
    },
    "tags": []
   },
   "outputs": [],
   "source": [
    "#There are multiple definitions for night, depending if it's for civil (-6°), nautical (-12°) or astronomical (-18°) purposes. \n",
    "# Just pick a treshold : if the sun is below, it's nighttime!\n",
    "\n",
    "import ephem\n",
    "import math\n",
    "import datetime\n",
    "\n",
    "def get_day_night(lat,lon,datetime): \n",
    "    sun = ephem.Sun()\n",
    "    observer = ephem.Observer()\n",
    "    # ↓ Define your coordinates here ↓\n",
    "    observer.lat, observer.lon, observer.elevation = lat, lon, 0\n",
    "    # ↓ Set the time (UTC) here ↓\n",
    "    #observer.date = datetime.datetime.utcnow()\n",
    "    observer.date=datetime\n",
    "    sun.compute(observer)\n",
    "    current_sun_alt = sun.alt\n",
    "    if (current_sun_alt*180/math.pi) < -12.0 :\n",
    "        return 2\n",
    "    else:\n",
    "        return 1\n",
    "    \n",
    "df['sun_state'] = df.apply(lambda x: get_day_night(x['lat'], x['lon'],x['datetime']), axis=1)"
   ]
  },
  {
   "cell_type": "code",
   "execution_count": 7,
   "id": "86db9e00",
   "metadata": {
    "execution": {
     "iopub.execute_input": "2022-06-17T15:05:21.839644Z",
     "iopub.status.busy": "2022-06-17T15:05:21.839644Z",
     "iopub.status.idle": "2022-06-17T15:05:21.853607Z",
     "shell.execute_reply": "2022-06-17T15:05:21.854604Z"
    },
    "papermill": {
     "duration": 0.031915,
     "end_time": "2022-06-17T15:05:21.854604",
     "exception": false,
     "start_time": "2022-06-17T15:05:21.822689",
     "status": "completed"
    },
    "tags": []
   },
   "outputs": [
    {
     "data": {
      "text/plain": [
       "1    165406\n",
       "2     94805\n",
       "Name: sun_state, dtype: int64"
      ]
     },
     "execution_count": 7,
     "metadata": {},
     "output_type": "execute_result"
    }
   ],
   "source": [
    "df[\"sun_state\"].value_counts()"
   ]
  },
  {
   "cell_type": "markdown",
   "id": "9baafa14",
   "metadata": {
    "papermill": {
     "duration": 0.013963,
     "end_time": "2022-06-17T15:05:21.881532",
     "exception": false,
     "start_time": "2022-06-17T15:05:21.867569",
     "status": "completed"
    },
    "tags": []
   },
   "source": [
    "Se pesca mas de noche, que de dia"
   ]
  },
  {
   "cell_type": "code",
   "execution_count": 8,
   "id": "95afc05f",
   "metadata": {
    "execution": {
     "iopub.execute_input": "2022-06-17T15:05:21.932396Z",
     "iopub.status.busy": "2022-06-17T15:05:21.931398Z",
     "iopub.status.idle": "2022-06-17T15:05:21.980268Z",
     "shell.execute_reply": "2022-06-17T15:05:21.981265Z"
    },
    "papermill": {
     "duration": 0.083776,
     "end_time": "2022-06-17T15:05:21.981265",
     "exception": false,
     "start_time": "2022-06-17T15:05:21.897489",
     "status": "completed"
    },
    "tags": []
   },
   "outputs": [
    {
     "name": "stdout",
     "output_type": "stream",
     "text": [
      "           sun_state                                   \n",
      "               count      mean       std  min  50%  max\n",
      "is_fishing                                             \n",
      "NO          259638.0  1.364457  0.481279  1.0  1.0  2.0\n",
      "SI             573.0  1.310646  0.463162  1.0  1.0  2.0\n"
     ]
    }
   ],
   "source": [
    "print(df.groupby([\"is_fishing\"])[['sun_state']].describe(percentiles=[]))"
   ]
  },
  {
   "cell_type": "code",
   "execution_count": 9,
   "id": "4213ec59",
   "metadata": {
    "execution": {
     "iopub.execute_input": "2022-06-17T15:05:22.018166Z",
     "iopub.status.busy": "2022-06-17T15:05:22.018166Z",
     "iopub.status.idle": "2022-06-17T15:05:22.467963Z",
     "shell.execute_reply": "2022-06-17T15:05:22.467963Z"
    },
    "papermill": {
     "duration": 0.470741,
     "end_time": "2022-06-17T15:05:22.467963",
     "exception": false,
     "start_time": "2022-06-17T15:05:21.997222",
     "status": "completed"
    },
    "tags": []
   },
   "outputs": [],
   "source": [
    "def haversine_np(lon1, lat1, lon2, lat2):\n",
    "    lon1, lat1, lon2, lat2 = map(np.radians, [lon1, lat1, lon2, lat2])\n",
    "\n",
    "    dlon = lon2 - lon1\n",
    "    dlat = lat2 - lat1\n",
    "\n",
    "    a = np.sin(dlat/2.0)**2 + np.cos(lat1) * np.cos(lat2) * np.sin(dlon/2.0)**2\n",
    "\n",
    "    c = 2 * np.arcsin(np.sqrt(a))\n",
    "    km = 6367 * c\n",
    "    return km\n",
    "\n",
    "def distance(x):\n",
    "    y = x.shift()\n",
    "    return haversine_np(x['lat'], x['lon'], y['lat'], y['lon']).fillna(0)\n",
    "\n",
    "df['distance'] = df.groupby('mmsi').apply(distance).reset_index(level=0, drop=True)"
   ]
  },
  {
   "cell_type": "code",
   "execution_count": 10,
   "id": "d18d2f08",
   "metadata": {
    "execution": {
     "iopub.execute_input": "2022-06-17T15:05:22.501872Z",
     "iopub.status.busy": "2022-06-17T15:05:22.501872Z",
     "iopub.status.idle": "2022-06-17T15:05:22.513840Z",
     "shell.execute_reply": "2022-06-17T15:05:22.514838Z"
    },
    "papermill": {
     "duration": 0.030918,
     "end_time": "2022-06-17T15:05:22.514838",
     "exception": false,
     "start_time": "2022-06-17T15:05:22.483920",
     "status": "completed"
    },
    "tags": []
   },
   "outputs": [],
   "source": [
    "#Convierto latitud y longitud a radianes\n",
    "df['lat'] = np.radians(df['lat'])\n",
    "df['lon'] = np.radians(df['lon'])"
   ]
  },
  {
   "cell_type": "code",
   "execution_count": 11,
   "id": "4eafa8c4",
   "metadata": {
    "execution": {
     "iopub.execute_input": "2022-06-17T15:05:22.549744Z",
     "iopub.status.busy": "2022-06-17T15:05:22.549744Z",
     "iopub.status.idle": "2022-06-17T15:05:22.639504Z",
     "shell.execute_reply": "2022-06-17T15:05:22.640501Z"
    },
    "papermill": {
     "duration": 0.109706,
     "end_time": "2022-06-17T15:05:22.640501",
     "exception": false,
     "start_time": "2022-06-17T15:05:22.530795",
     "status": "completed"
    },
    "tags": []
   },
   "outputs": [],
   "source": [
    "#Calculo la diferencia de tiempo entre puntos consecutivos.\n",
    "df['timediff']= df.groupby('mmsi')['timestamp'].diff()"
   ]
  },
  {
   "cell_type": "code",
   "execution_count": 12,
   "id": "ab6009cf",
   "metadata": {
    "execution": {
     "iopub.execute_input": "2022-06-17T15:05:22.680395Z",
     "iopub.status.busy": "2022-06-17T15:05:22.679398Z",
     "iopub.status.idle": "2022-06-17T15:05:22.686378Z",
     "shell.execute_reply": "2022-06-17T15:05:22.687376Z"
    },
    "papermill": {
     "duration": 0.025931,
     "end_time": "2022-06-17T15:05:22.687376",
     "exception": false,
     "start_time": "2022-06-17T15:05:22.661445",
     "status": "completed"
    },
    "tags": []
   },
   "outputs": [],
   "source": [
    "#Normalizamos la variable curso\n",
    "df['course']=df['course']/360.0"
   ]
  },
  {
   "cell_type": "code",
   "execution_count": 13,
   "id": "719176dd",
   "metadata": {
    "execution": {
     "iopub.execute_input": "2022-06-17T15:05:22.723280Z",
     "iopub.status.busy": "2022-06-17T15:05:22.723280Z",
     "iopub.status.idle": "2022-06-17T15:05:23.314697Z",
     "shell.execute_reply": "2022-06-17T15:05:23.315694Z"
    },
    "papermill": {
     "duration": 0.613359,
     "end_time": "2022-06-17T15:05:23.315694",
     "exception": false,
     "start_time": "2022-06-17T15:05:22.702335",
     "status": "completed"
    },
    "tags": []
   },
   "outputs": [],
   "source": [
    "#Agregar esto deberia de hacer robusto a mi algoritmo a LAT/LON y timestamps.\n",
    "\n",
    "#Velocidad entre puntos a partir de la distancia        S = x(t2)-x(t1) / t2 - t1\n",
    "df['S0']= df['distance']/df['timediff']\n",
    "#Aceleracion rectilinea         A = S(t2)-S(t1) / t2 - t1\n",
    "df['A0']= df.groupby('mmsi')['S0'].diff()/df['timediff']\n",
    "#Jerk                           J = A(t2)-A(t1) / t2 - t1\n",
    "df['J0']= df.groupby('mmsi')['A0'].diff()/df['timediff']\n",
    "#Derivada del curso             Phi = C(t2)-C(t1) / t2 - t1\n",
    "df['C0']= df.groupby('mmsi')['course'].diff()/df['timediff']\n",
    "#2 Horas deberia de ser suficientemente informativo para saber el comportamiento del buque \n",
    "#Agregar paper.\n",
    "\n",
    "#Velocidad promedio entre puntos    Vavg = V1 + V2 / 2\n",
    "df['Vavg']  = df.groupby('mmsi')['speed'].transform(lambda x: x.rolling(2, 1).mean())\n",
    "\n",
    "\n",
    "#Variacion de velocidad entre puntos Delta_S = V2 - V1 / 2 \n",
    "df['Delta_S']= (df.groupby('mmsi')['speed'].diff())/2\n",
    "\n",
    "#Curso promedio entre puntos        Cavg = C1 + C2 / 2\n",
    "df['Cavg'] = df.groupby('mmsi')['course'].transform(lambda x: x.rolling(2, 1).mean())\n",
    "#Variacion del curso                DeltaC = C2-C1/2\n",
    "df['Delta_C']= (df.groupby('mmsi')['course'].diff())/2\n"
   ]
  },
  {
   "cell_type": "code",
   "execution_count": 14,
   "id": "bf68b02b",
   "metadata": {
    "execution": {
     "iopub.execute_input": "2022-06-17T15:05:23.351598Z",
     "iopub.status.busy": "2022-06-17T15:05:23.350601Z",
     "iopub.status.idle": "2022-06-17T15:05:23.426398Z",
     "shell.execute_reply": "2022-06-17T15:05:23.427395Z"
    },
    "papermill": {
     "duration": 0.095743,
     "end_time": "2022-06-17T15:05:23.427395",
     "exception": false,
     "start_time": "2022-06-17T15:05:23.331652",
     "status": "completed"
    },
    "tags": []
   },
   "outputs": [],
   "source": [
    "number_lags = 6\n",
    "columns_to_lag = ['speed','course','S0','A0','J0','C0']\n",
    "\n",
    "#df = pd.DataFrame(data={'vals':[5,4,3,2,1]})\n",
    "for column in columns_to_lag:\n",
    "    for lag in range(1, number_lags + 1):\n",
    "        df[str(column) +'_lag_' + str(lag)] = df[column].shift(lag)\n"
   ]
  },
  {
   "cell_type": "code",
   "execution_count": 15,
   "id": "0513e84f",
   "metadata": {
    "execution": {
     "iopub.execute_input": "2022-06-17T15:05:23.462302Z",
     "iopub.status.busy": "2022-06-17T15:05:23.462302Z",
     "iopub.status.idle": "2022-06-17T15:05:23.472275Z",
     "shell.execute_reply": "2022-06-17T15:05:23.473273Z"
    },
    "papermill": {
     "duration": 0.02992,
     "end_time": "2022-06-17T15:05:23.473273",
     "exception": false,
     "start_time": "2022-06-17T15:05:23.443353",
     "status": "completed"
    },
    "tags": []
   },
   "outputs": [
    {
     "name": "stdout",
     "output_type": "stream",
     "text": [
      "Index(['mmsi', 'timestamp', 'distance_from_shore', 'distance_from_port',\n",
      "       'speed', 'course', 'lat', 'lon', 'is_fishing', 'source', 'datetime',\n",
      "       'sun_state', 'distance', 'timediff', 'S0', 'A0', 'J0', 'C0', 'Vavg',\n",
      "       'Delta_S', 'Cavg', 'Delta_C', 'speed_lag_1', 'speed_lag_2',\n",
      "       'speed_lag_3', 'speed_lag_4', 'speed_lag_5', 'speed_lag_6',\n",
      "       'course_lag_1', 'course_lag_2', 'course_lag_3', 'course_lag_4',\n",
      "       'course_lag_5', 'course_lag_6', 'S0_lag_1', 'S0_lag_2', 'S0_lag_3',\n",
      "       'S0_lag_4', 'S0_lag_5', 'S0_lag_6', 'A0_lag_1', 'A0_lag_2', 'A0_lag_3',\n",
      "       'A0_lag_4', 'A0_lag_5', 'A0_lag_6', 'J0_lag_1', 'J0_lag_2', 'J0_lag_3',\n",
      "       'J0_lag_4', 'J0_lag_5', 'J0_lag_6', 'C0_lag_1', 'C0_lag_2', 'C0_lag_3',\n",
      "       'C0_lag_4', 'C0_lag_5', 'C0_lag_6'],\n",
      "      dtype='object')\n"
     ]
    }
   ],
   "source": [
    "print(df.columns)"
   ]
  },
  {
   "cell_type": "code",
   "execution_count": 16,
   "id": "b66fe469",
   "metadata": {
    "execution": {
     "iopub.execute_input": "2022-06-17T15:05:23.510174Z",
     "iopub.status.busy": "2022-06-17T15:05:23.510174Z",
     "iopub.status.idle": "2022-06-17T15:05:50.459065Z",
     "shell.execute_reply": "2022-06-17T15:05:50.458067Z"
    },
    "papermill": {
     "duration": 26.969835,
     "end_time": "2022-06-17T15:05:50.459065",
     "exception": false,
     "start_time": "2022-06-17T15:05:23.489230",
     "status": "completed"
    },
    "tags": []
   },
   "outputs": [],
   "source": [
    "df = df.dropna()\n",
    "df.to_csv(f\"../../df_procesado/{config['output_label']}_fe.csv\",sep=\",\",index=False)  "
   ]
  },
  {
   "cell_type": "code",
   "execution_count": 17,
   "id": "de8d9829",
   "metadata": {
    "execution": {
     "iopub.execute_input": "2022-06-17T15:05:50.514915Z",
     "iopub.status.busy": "2022-06-17T15:05:50.513918Z",
     "iopub.status.idle": "2022-06-17T15:05:50.612654Z",
     "shell.execute_reply": "2022-06-17T15:05:50.612654Z"
    },
    "papermill": {
     "duration": 0.138629,
     "end_time": "2022-06-17T15:05:50.613651",
     "exception": false,
     "start_time": "2022-06-17T15:05:50.475022",
     "status": "completed"
    },
    "tags": []
   },
   "outputs": [
    {
     "name": "stdout",
     "output_type": "stream",
     "text": [
      "573\n",
      "259216\n"
     ]
    }
   ],
   "source": [
    "print(len(df[df['is_fishing']=='SI']))\n",
    "print(len(df[df['is_fishing']=='NO']))"
   ]
  },
  {
   "cell_type": "code",
   "execution_count": 18,
   "id": "b07c6173",
   "metadata": {
    "execution": {
     "iopub.execute_input": "2022-06-17T15:05:50.649555Z",
     "iopub.status.busy": "2022-06-17T15:05:50.649555Z",
     "iopub.status.idle": "2022-06-17T15:05:50.725352Z",
     "shell.execute_reply": "2022-06-17T15:05:50.726349Z"
    },
    "papermill": {
     "duration": 0.095743,
     "end_time": "2022-06-17T15:05:50.726349",
     "exception": false,
     "start_time": "2022-06-17T15:05:50.630606",
     "status": "completed"
    },
    "tags": []
   },
   "outputs": [
    {
     "name": "stdout",
     "output_type": "stream",
     "text": [
      "mmsi                   259789\n",
      "timestamp              259789\n",
      "distance_from_shore    259789\n",
      "distance_from_port     259789\n",
      "speed                  259789\n",
      "course                 259789\n",
      "lat                    259789\n",
      "lon                    259789\n",
      "is_fishing             259789\n",
      "source                 259789\n",
      "datetime               259789\n",
      "sun_state              259789\n",
      "distance               259789\n",
      "timediff               259789\n",
      "S0                     259789\n",
      "A0                     259789\n",
      "J0                     259789\n",
      "C0                     259789\n",
      "Vavg                   259789\n",
      "Delta_S                259789\n",
      "Cavg                   259789\n",
      "Delta_C                259789\n",
      "speed_lag_1            259789\n",
      "speed_lag_2            259789\n",
      "speed_lag_3            259789\n",
      "speed_lag_4            259789\n",
      "speed_lag_5            259789\n",
      "speed_lag_6            259789\n",
      "course_lag_1           259789\n",
      "course_lag_2           259789\n",
      "course_lag_3           259789\n",
      "course_lag_4           259789\n",
      "course_lag_5           259789\n",
      "course_lag_6           259789\n",
      "S0_lag_1               259789\n",
      "S0_lag_2               259789\n",
      "S0_lag_3               259789\n",
      "S0_lag_4               259789\n",
      "S0_lag_5               259789\n",
      "S0_lag_6               259789\n",
      "A0_lag_1               259789\n",
      "A0_lag_2               259789\n",
      "A0_lag_3               259789\n",
      "A0_lag_4               259789\n",
      "A0_lag_5               259789\n",
      "A0_lag_6               259789\n",
      "J0_lag_1               259789\n",
      "J0_lag_2               259789\n",
      "J0_lag_3               259789\n",
      "J0_lag_4               259789\n",
      "J0_lag_5               259789\n",
      "J0_lag_6               259789\n",
      "C0_lag_1               259789\n",
      "C0_lag_2               259789\n",
      "C0_lag_3               259789\n",
      "C0_lag_4               259789\n",
      "C0_lag_5               259789\n",
      "C0_lag_6               259789\n",
      "dtype: int64\n"
     ]
    }
   ],
   "source": [
    "print(df.count())"
   ]
  }
 ],
 "metadata": {
  "interpreter": {
   "hash": "db2a60f505a9041374f6f3fb78368755bb5bc9c69ef08139ad82abb6b35de715"
  },
  "kernelspec": {
   "display_name": "Python 3.8.8 64-bit ('base': conda)",
   "name": "python3"
  },
  "language_info": {
   "codemirror_mode": {
    "name": "ipython",
    "version": 3
   },
   "file_extension": ".py",
   "mimetype": "text/x-python",
   "name": "python",
   "nbconvert_exporter": "python",
   "pygments_lexer": "ipython3",
   "version": "3.8.8"
  },
  "papermill": {
   "default_parameters": {},
   "duration": 84.852952,
   "end_time": "2022-06-17T15:05:52.029862",
   "environment_variables": {},
   "exception": null,
   "input_path": "notebooks/feature_engineering.ipynb",
   "output_path": "papermill_outputs/feature_engineering/purse_seines/feature_engineering_purse_seines.ipynb",
   "parameters": {
    "config": {
     "data_path": "C:/Users/nico_/Desktop/ITBA/TFI/global fishing watch/dataset/purse_seines.csv",
     "notebook": "notebooks/feature_engineering.ipynb",
     "output_label": "purse_seines"
    }
   },
   "start_time": "2022-06-17T15:04:27.176910",
   "version": "2.3.4"
  }
 },
 "nbformat": 4,
 "nbformat_minor": 5
}
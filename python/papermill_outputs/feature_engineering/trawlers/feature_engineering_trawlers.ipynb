{
 "cells": [
  {
   "cell_type": "code",
   "execution_count": 1,
   "id": "eabc0976",
   "metadata": {
    "execution": {
     "iopub.execute_input": "2022-06-17T14:54:25.402016Z",
     "iopub.status.busy": "2022-06-17T14:54:25.401019Z",
     "iopub.status.idle": "2022-06-17T14:54:25.416976Z",
     "shell.execute_reply": "2022-06-17T14:54:25.417973Z"
    },
    "papermill": {
     "duration": 0.032912,
     "end_time": "2022-06-17T14:54:25.417973",
     "exception": false,
     "start_time": "2022-06-17T14:54:25.385061",
     "status": "completed"
    },
    "tags": [
     "injected-parameters"
    ]
   },
   "outputs": [],
   "source": [
    "# Parameters\n",
    "config = {\n",
    "    \"notebook\": \"notebooks/feature_engineering.ipynb\",\n",
    "    \"data_path\": \"C:/Users/nico_/Desktop/ITBA/TFI/global fishing watch/dataset/trawlers.csv\",\n",
    "    \"output_label\": \"trawlers\",\n",
    "}\n"
   ]
  },
  {
   "cell_type": "code",
   "execution_count": 2,
   "id": "409ac07e",
   "metadata": {
    "execution": {
     "iopub.execute_input": "2022-06-17T14:54:25.448891Z",
     "iopub.status.busy": "2022-06-17T14:54:25.447893Z",
     "iopub.status.idle": "2022-06-17T14:54:25.462853Z",
     "shell.execute_reply": "2022-06-17T14:54:25.463850Z"
    },
    "papermill": {
     "duration": 0.032912,
     "end_time": "2022-06-17T14:54:25.463850",
     "exception": false,
     "start_time": "2022-06-17T14:54:25.430938",
     "status": "completed"
    },
    "tags": []
   },
   "outputs": [
    {
     "name": "stdout",
     "output_type": "stream",
     "text": [
      "{'notebook': 'notebooks/feature_engineering.ipynb', 'data_path': 'C:/Users/nico_/Desktop/ITBA/TFI/global fishing watch/dataset/trawlers.csv', 'output_label': 'trawlers'}\n"
     ]
    }
   ],
   "source": [
    "# check if config exists\n",
    "try:\n",
    "    config\n",
    "except NameError:\n",
    "    config_exists = False\n",
    "else:\n",
    "    config_exists = True\n",
    "\n",
    "# make config if it does not exist already (e.g. passed in by papermill)\n",
    "if not(config_exists):\n",
    "    # set up some config for the experiment run\n",
    "    config = {\n",
    "        \"data_path\" : \"C:/Users/nico_/Desktop/ITBA/TFI/global fishing watch/dataset/trollers.csv\",\n",
    "        \"output_label\": \"trollers\"\n",
    "    }\n",
    "print(config)"
   ]
  },
  {
   "cell_type": "code",
   "execution_count": 3,
   "id": "ffd8c09e",
   "metadata": {
    "execution": {
     "iopub.execute_input": "2022-06-17T14:54:25.498757Z",
     "iopub.status.busy": "2022-06-17T14:54:25.497760Z",
     "iopub.status.idle": "2022-06-17T14:55:23.445594Z",
     "shell.execute_reply": "2022-06-17T14:55:23.446591Z"
    },
    "papermill": {
     "duration": 57.969775,
     "end_time": "2022-06-17T14:55:23.446591",
     "exception": false,
     "start_time": "2022-06-17T14:54:25.476816",
     "status": "completed"
    },
    "tags": []
   },
   "outputs": [],
   "source": [
    "import pandas as pd\n",
    "import numpy as np\n",
    "from sklearn.tree import DecisionTreeClassifier # Import Decision Tree Classifier\n",
    "from sklearn.model_selection import train_test_split # Import train_test_split function\n",
    "from sklearn import metrics #Import scikit-learn metrics module for accuracy calculation\n",
    "\n",
    "df = pd.read_csv(config['data_path'], header=\"infer\", sep=\",\",error_bad_lines=False, engine ='python')\n",
    "\n",
    "#Nos quedamos con los puntos que estan mayor a 3 millas nauticas de la costa.\n",
    "df = df[(df['distance_from_shore'] >= 5556)]\n",
    "\n",
    "#Nos quedamos solamente con los valores que estamos seguros que esta o no esta pescando.\n",
    "df = df[(df['is_fishing'] == -1.0)  | (df['is_fishing'] == 1.0) ]\n",
    "\n",
    "#Renombramos las columnas de la variable a predecir de si esta pescando o no.\n",
    "df[\"is_fishing\"] = np.where(df[\"is_fishing\"] == 1.0, 'SI', 'NO')\n",
    "\n",
    "#Dropeamos los que contienen el mismo timestamp.\n",
    "df = df.drop_duplicates(subset='timestamp', keep=\"first\")\n",
    "\n",
    "df[\"timestamp\"]=df[\"timestamp\"].astype(int)\n",
    "#df['date_series'] = pd.to_datetime(df['timestamp'],unit='s')\n",
    "#df = df.set_index('date_series') \n",
    "df['datetime'] = pd.to_datetime(df['timestamp'],unit='s')\n",
    "df.index = df.datetime\n",
    "#print(df['date_series'])\n",
    "\n",
    "aux = df\n"
   ]
  },
  {
   "cell_type": "code",
   "execution_count": 4,
   "id": "bcc2e363",
   "metadata": {
    "execution": {
     "iopub.execute_input": "2022-06-17T14:55:23.480501Z",
     "iopub.status.busy": "2022-06-17T14:55:23.480501Z",
     "iopub.status.idle": "2022-06-17T14:55:24.831428Z",
     "shell.execute_reply": "2022-06-17T14:55:24.832425Z"
    },
    "papermill": {
     "duration": 1.368879,
     "end_time": "2022-06-17T14:55:24.832425",
     "exception": false,
     "start_time": "2022-06-17T14:55:23.463546",
     "status": "completed"
    },
    "tags": []
   },
   "outputs": [
    {
     "name": "stdout",
     "output_type": "stream",
     "text": [
      "2071009\n"
     ]
    },
    {
     "name": "stdout",
     "output_type": "stream",
     "text": [
      "424831\n"
     ]
    }
   ],
   "source": [
    "#print(df.resample('60Min',on='datetime'))\n",
    "df = aux\n",
    "print(len(df))\n",
    "df = df.resample('5Min',on='datetime').agg('first').dropna()  \n",
    "df.reset_index(drop=True, inplace=True)\n",
    "print(len(df))\n",
    "#print(df)"
   ]
  },
  {
   "cell_type": "code",
   "execution_count": 5,
   "id": "748109f6",
   "metadata": {
    "execution": {
     "iopub.execute_input": "2022-06-17T14:55:24.874314Z",
     "iopub.status.busy": "2022-06-17T14:55:24.874314Z",
     "iopub.status.idle": "2022-06-17T14:55:24.893768Z",
     "shell.execute_reply": "2022-06-17T14:55:24.894765Z"
    },
    "papermill": {
     "duration": 0.040399,
     "end_time": "2022-06-17T14:55:24.894765",
     "exception": false,
     "start_time": "2022-06-17T14:55:24.854366",
     "status": "completed"
    },
    "tags": []
   },
   "outputs": [
    {
     "name": "stdout",
     "output_type": "stream",
     "text": [
      "   timestamp  valores            datetime\n",
      "0          1        3 1970-01-01 00:00:01\n",
      "1          2        4 1970-01-01 00:00:02\n",
      "2          3        5 1970-01-01 00:00:03\n",
      "3          4        6 1970-01-01 00:00:04\n",
      "4        120        7 1970-01-01 00:02:00\n",
      "5        241        8 1970-01-01 00:04:01\n",
      "6        421        9 1970-01-01 00:07:01\n",
      "                     timestamp  valores            datetime\n",
      "datetime                                                   \n",
      "1970-01-01 00:00:00        1.0      3.0 1970-01-01 00:00:01\n",
      "1970-01-01 00:02:00      120.0      7.0 1970-01-01 00:02:00\n",
      "1970-01-01 00:04:00      241.0      8.0 1970-01-01 00:04:01\n",
      "1970-01-01 00:07:00      421.0      9.0 1970-01-01 00:07:01\n"
     ]
    }
   ],
   "source": [
    "#EJEMPLO DE RESAMPLE PARA VER QUE FUNCIONA OK.\n",
    "d = {'timestamp': [1, 2,3,4,60*2,60*4+1,60*7+1], 'valores': [3, 4,5,6,7,8,9]}\n",
    "d = pd.DataFrame(data=d)\n",
    "\n",
    "d['datetime'] = pd.to_datetime(d['timestamp'],unit='s')\n",
    "print(d)\n",
    "\n",
    "d = d.resample('1Min',on='datetime').agg('first').dropna()  \n",
    "print(d)"
   ]
  },
  {
   "cell_type": "code",
   "execution_count": 6,
   "id": "864fd631",
   "metadata": {
    "execution": {
     "iopub.execute_input": "2022-06-17T14:55:24.927677Z",
     "iopub.status.busy": "2022-06-17T14:55:24.927677Z",
     "iopub.status.idle": "2022-06-17T14:55:42.343513Z",
     "shell.execute_reply": "2022-06-17T14:55:42.342515Z"
    },
    "papermill": {
     "duration": 17.434786,
     "end_time": "2022-06-17T14:55:42.343513",
     "exception": false,
     "start_time": "2022-06-17T14:55:24.908727",
     "status": "completed"
    },
    "tags": []
   },
   "outputs": [],
   "source": [
    "#There are multiple definitions for night, depending if it's for civil (-6°), nautical (-12°) or astronomical (-18°) purposes. \n",
    "# Just pick a treshold : if the sun is below, it's nighttime!\n",
    "\n",
    "import ephem\n",
    "import math\n",
    "import datetime\n",
    "\n",
    "def get_day_night(lat,lon,datetime): \n",
    "    sun = ephem.Sun()\n",
    "    observer = ephem.Observer()\n",
    "    # ↓ Define your coordinates here ↓\n",
    "    observer.lat, observer.lon, observer.elevation = lat, lon, 0\n",
    "    # ↓ Set the time (UTC) here ↓\n",
    "    #observer.date = datetime.datetime.utcnow()\n",
    "    observer.date=datetime\n",
    "    sun.compute(observer)\n",
    "    current_sun_alt = sun.alt\n",
    "    if (current_sun_alt*180/math.pi) < -12.0 :\n",
    "        return 2\n",
    "    else:\n",
    "        return 1\n",
    "    \n",
    "df['sun_state'] = df.apply(lambda x: get_day_night(x['lat'], x['lon'],x['datetime']), axis=1)"
   ]
  },
  {
   "cell_type": "code",
   "execution_count": 7,
   "id": "cf65a76e",
   "metadata": {
    "execution": {
     "iopub.execute_input": "2022-06-17T14:55:42.375427Z",
     "iopub.status.busy": "2022-06-17T14:55:42.375427Z",
     "iopub.status.idle": "2022-06-17T14:55:42.389390Z",
     "shell.execute_reply": "2022-06-17T14:55:42.389390Z"
    },
    "papermill": {
     "duration": 0.030917,
     "end_time": "2022-06-17T14:55:42.389390",
     "exception": false,
     "start_time": "2022-06-17T14:55:42.358473",
     "status": "completed"
    },
    "tags": []
   },
   "outputs": [
    {
     "data": {
      "text/plain": [
       "1    268182\n",
       "2    156649\n",
       "Name: sun_state, dtype: int64"
      ]
     },
     "execution_count": 7,
     "metadata": {},
     "output_type": "execute_result"
    }
   ],
   "source": [
    "df[\"sun_state\"].value_counts()"
   ]
  },
  {
   "cell_type": "markdown",
   "id": "03c317a4",
   "metadata": {
    "papermill": {
     "duration": 0.013963,
     "end_time": "2022-06-17T14:55:42.417315",
     "exception": false,
     "start_time": "2022-06-17T14:55:42.403352",
     "status": "completed"
    },
    "tags": []
   },
   "source": [
    "Se pesca mas de noche, que de dia"
   ]
  },
  {
   "cell_type": "code",
   "execution_count": 8,
   "id": "e6996fa9",
   "metadata": {
    "execution": {
     "iopub.execute_input": "2022-06-17T14:55:42.482142Z",
     "iopub.status.busy": "2022-06-17T14:55:42.482142Z",
     "iopub.status.idle": "2022-06-17T14:55:42.547966Z",
     "shell.execute_reply": "2022-06-17T14:55:42.546968Z"
    },
    "papermill": {
     "duration": 0.117686,
     "end_time": "2022-06-17T14:55:42.547966",
     "exception": false,
     "start_time": "2022-06-17T14:55:42.430280",
     "status": "completed"
    },
    "tags": []
   },
   "outputs": [
    {
     "name": "stdout",
     "output_type": "stream",
     "text": [
      "           sun_state                                   \n",
      "               count      mean       std  min  50%  max\n",
      "is_fishing                                             \n",
      "NO          410776.0  1.369014  0.482538  1.0  1.0  2.0\n",
      "SI           14055.0  1.360512  0.480166  1.0  1.0  2.0\n"
     ]
    }
   ],
   "source": [
    "print(df.groupby([\"is_fishing\"])[['sun_state']].describe(percentiles=[]))"
   ]
  },
  {
   "cell_type": "code",
   "execution_count": 9,
   "id": "d7a53db5",
   "metadata": {
    "execution": {
     "iopub.execute_input": "2022-06-17T14:55:42.583869Z",
     "iopub.status.busy": "2022-06-17T14:55:42.582872Z",
     "iopub.status.idle": "2022-06-17T14:55:43.166311Z",
     "shell.execute_reply": "2022-06-17T14:55:43.167308Z"
    },
    "papermill": {
     "duration": 0.604383,
     "end_time": "2022-06-17T14:55:43.167308",
     "exception": false,
     "start_time": "2022-06-17T14:55:42.562925",
     "status": "completed"
    },
    "tags": []
   },
   "outputs": [],
   "source": [
    "def haversine_np(lon1, lat1, lon2, lat2):\n",
    "    lon1, lat1, lon2, lat2 = map(np.radians, [lon1, lat1, lon2, lat2])\n",
    "\n",
    "    dlon = lon2 - lon1\n",
    "    dlat = lat2 - lat1\n",
    "\n",
    "    a = np.sin(dlat/2.0)**2 + np.cos(lat1) * np.cos(lat2) * np.sin(dlon/2.0)**2\n",
    "\n",
    "    c = 2 * np.arcsin(np.sqrt(a))\n",
    "    km = 6367 * c\n",
    "    return km\n",
    "\n",
    "def distance(x):\n",
    "    y = x.shift()\n",
    "    return haversine_np(x['lat'], x['lon'], y['lat'], y['lon']).fillna(0)\n",
    "\n",
    "df['distance'] = df.groupby('mmsi').apply(distance).reset_index(level=0, drop=True)"
   ]
  },
  {
   "cell_type": "code",
   "execution_count": 10,
   "id": "e87dbd1b",
   "metadata": {
    "execution": {
     "iopub.execute_input": "2022-06-17T14:55:43.202215Z",
     "iopub.status.busy": "2022-06-17T14:55:43.201217Z",
     "iopub.status.idle": "2022-06-17T14:55:43.213186Z",
     "shell.execute_reply": "2022-06-17T14:55:43.214183Z"
    },
    "papermill": {
     "duration": 0.030917,
     "end_time": "2022-06-17T14:55:43.214183",
     "exception": false,
     "start_time": "2022-06-17T14:55:43.183266",
     "status": "completed"
    },
    "tags": []
   },
   "outputs": [],
   "source": [
    "#Convierto latitud y longitud a radianes\n",
    "df['lat'] = np.radians(df['lat'])\n",
    "df['lon'] = np.radians(df['lon'])"
   ]
  },
  {
   "cell_type": "code",
   "execution_count": 11,
   "id": "5d2d145c",
   "metadata": {
    "execution": {
     "iopub.execute_input": "2022-06-17T14:55:43.246098Z",
     "iopub.status.busy": "2022-06-17T14:55:43.246098Z",
     "iopub.status.idle": "2022-06-17T14:55:43.428609Z",
     "shell.execute_reply": "2022-06-17T14:55:43.429607Z"
    },
    "papermill": {
     "duration": 0.201462,
     "end_time": "2022-06-17T14:55:43.429607",
     "exception": false,
     "start_time": "2022-06-17T14:55:43.228145",
     "status": "completed"
    },
    "tags": []
   },
   "outputs": [],
   "source": [
    "#Calculo la diferencia de tiempo entre puntos consecutivos.\n",
    "df['timediff']= df.groupby('mmsi')['timestamp'].diff()"
   ]
  },
  {
   "cell_type": "code",
   "execution_count": 12,
   "id": "9a21d1ab",
   "metadata": {
    "execution": {
     "iopub.execute_input": "2022-06-17T14:55:43.463516Z",
     "iopub.status.busy": "2022-06-17T14:55:43.462519Z",
     "iopub.status.idle": "2022-06-17T14:55:43.475484Z",
     "shell.execute_reply": "2022-06-17T14:55:43.476481Z"
    },
    "papermill": {
     "duration": 0.031915,
     "end_time": "2022-06-17T14:55:43.476481",
     "exception": false,
     "start_time": "2022-06-17T14:55:43.444566",
     "status": "completed"
    },
    "tags": []
   },
   "outputs": [],
   "source": [
    "#Normalizamos la variable curso\n",
    "df['course']=df['course']/360.0"
   ]
  },
  {
   "cell_type": "code",
   "execution_count": 13,
   "id": "722b23be",
   "metadata": {
    "execution": {
     "iopub.execute_input": "2022-06-17T14:55:43.513383Z",
     "iopub.status.busy": "2022-06-17T14:55:43.512386Z",
     "iopub.status.idle": "2022-06-17T14:55:44.491764Z",
     "shell.execute_reply": "2022-06-17T14:55:44.492762Z"
    },
    "papermill": {
     "duration": 1.001321,
     "end_time": "2022-06-17T14:55:44.492762",
     "exception": false,
     "start_time": "2022-06-17T14:55:43.491441",
     "status": "completed"
    },
    "tags": []
   },
   "outputs": [],
   "source": [
    "#Agregar esto deberia de hacer robusto a mi algoritmo a LAT/LON y timestamps.\n",
    "\n",
    "#Velocidad entre puntos a partir de la distancia        S = x(t2)-x(t1) / t2 - t1\n",
    "df['S0']= df['distance']/df['timediff']\n",
    "#Aceleracion rectilinea         A = S(t2)-S(t1) / t2 - t1\n",
    "df['A0']= df.groupby('mmsi')['S0'].diff()/df['timediff']\n",
    "#Jerk                           J = A(t2)-A(t1) / t2 - t1\n",
    "df['J0']= df.groupby('mmsi')['A0'].diff()/df['timediff']\n",
    "#Derivada del curso             Phi = C(t2)-C(t1) / t2 - t1\n",
    "df['C0']= df.groupby('mmsi')['course'].diff()/df['timediff']\n",
    "#2 Horas deberia de ser suficientemente informativo para saber el comportamiento del buque \n",
    "#Agregar paper.\n",
    "\n",
    "#Velocidad promedio entre puntos    Vavg = V1 + V2 / 2\n",
    "df['Vavg']  = df.groupby('mmsi')['speed'].transform(lambda x: x.rolling(2, 1).mean())\n",
    "\n",
    "\n",
    "#Variacion de velocidad entre puntos Delta_S = V2 - V1 / 2 \n",
    "df['Delta_S']= (df.groupby('mmsi')['speed'].diff())/2\n",
    "\n",
    "#Curso promedio entre puntos        Cavg = C1 + C2 / 2\n",
    "df['Cavg'] = df.groupby('mmsi')['course'].transform(lambda x: x.rolling(2, 1).mean())\n",
    "#Variacion del curso                DeltaC = C2-C1/2\n",
    "df['Delta_C']= (df.groupby('mmsi')['course'].diff())/2\n"
   ]
  },
  {
   "cell_type": "code",
   "execution_count": 14,
   "id": "722ab7da",
   "metadata": {
    "execution": {
     "iopub.execute_input": "2022-06-17T14:55:44.528666Z",
     "iopub.status.busy": "2022-06-17T14:55:44.528666Z",
     "iopub.status.idle": "2022-06-17T14:55:44.631391Z",
     "shell.execute_reply": "2022-06-17T14:55:44.632388Z"
    },
    "papermill": {
     "duration": 0.123669,
     "end_time": "2022-06-17T14:55:44.632388",
     "exception": false,
     "start_time": "2022-06-17T14:55:44.508719",
     "status": "completed"
    },
    "tags": []
   },
   "outputs": [],
   "source": [
    "number_lags = 6\n",
    "columns_to_lag = ['speed','course','S0','A0','J0','C0']\n",
    "\n",
    "#df = pd.DataFrame(data={'vals':[5,4,3,2,1]})\n",
    "for column in columns_to_lag:\n",
    "    for lag in range(1, number_lags + 1):\n",
    "        df[str(column) +'_lag_' + str(lag)] = df[column].shift(lag)\n"
   ]
  },
  {
   "cell_type": "code",
   "execution_count": 15,
   "id": "2f458c14",
   "metadata": {
    "execution": {
     "iopub.execute_input": "2022-06-17T14:55:44.668292Z",
     "iopub.status.busy": "2022-06-17T14:55:44.667294Z",
     "iopub.status.idle": "2022-06-17T14:55:44.676271Z",
     "shell.execute_reply": "2022-06-17T14:55:44.677268Z"
    },
    "papermill": {
     "duration": 0.028923,
     "end_time": "2022-06-17T14:55:44.677268",
     "exception": false,
     "start_time": "2022-06-17T14:55:44.648345",
     "status": "completed"
    },
    "tags": []
   },
   "outputs": [
    {
     "name": "stdout",
     "output_type": "stream",
     "text": [
      "Index(['mmsi', 'timestamp', 'distance_from_shore', 'distance_from_port',\n",
      "       'speed', 'course', 'lat', 'lon', 'is_fishing', 'source', 'datetime',\n",
      "       'sun_state', 'distance', 'timediff', 'S0', 'A0', 'J0', 'C0', 'Vavg',\n",
      "       'Delta_S', 'Cavg', 'Delta_C', 'speed_lag_1', 'speed_lag_2',\n",
      "       'speed_lag_3', 'speed_lag_4', 'speed_lag_5', 'speed_lag_6',\n",
      "       'course_lag_1', 'course_lag_2', 'course_lag_3', 'course_lag_4',\n",
      "       'course_lag_5', 'course_lag_6', 'S0_lag_1', 'S0_lag_2', 'S0_lag_3',\n",
      "       'S0_lag_4', 'S0_lag_5', 'S0_lag_6', 'A0_lag_1', 'A0_lag_2', 'A0_lag_3',\n",
      "       'A0_lag_4', 'A0_lag_5', 'A0_lag_6', 'J0_lag_1', 'J0_lag_2', 'J0_lag_3',\n",
      "       'J0_lag_4', 'J0_lag_5', 'J0_lag_6', 'C0_lag_1', 'C0_lag_2', 'C0_lag_3',\n",
      "       'C0_lag_4', 'C0_lag_5', 'C0_lag_6'],\n",
      "      dtype='object')\n"
     ]
    }
   ],
   "source": [
    "print(df.columns)"
   ]
  },
  {
   "cell_type": "code",
   "execution_count": 16,
   "id": "de842a45",
   "metadata": {
    "execution": {
     "iopub.execute_input": "2022-06-17T14:55:44.713172Z",
     "iopub.status.busy": "2022-06-17T14:55:44.712174Z",
     "iopub.status.idle": "2022-06-17T14:56:29.225068Z",
     "shell.execute_reply": "2022-06-17T14:56:29.226065Z"
    },
    "papermill": {
     "duration": 44.53284,
     "end_time": "2022-06-17T14:56:29.226065",
     "exception": false,
     "start_time": "2022-06-17T14:55:44.693225",
     "status": "completed"
    },
    "tags": []
   },
   "outputs": [],
   "source": [
    "df = df.dropna()\n",
    "df.to_csv(f\"../../df_procesado/{config['output_label']}_fe.csv\",sep=\",\",index=False)  "
   ]
  },
  {
   "cell_type": "code",
   "execution_count": 17,
   "id": "baeee08f",
   "metadata": {
    "execution": {
     "iopub.execute_input": "2022-06-17T14:56:29.299868Z",
     "iopub.status.busy": "2022-06-17T14:56:29.298870Z",
     "iopub.status.idle": "2022-06-17T14:56:29.493350Z",
     "shell.execute_reply": "2022-06-17T14:56:29.492353Z"
    },
    "papermill": {
     "duration": 0.25033,
     "end_time": "2022-06-17T14:56:29.493350",
     "exception": false,
     "start_time": "2022-06-17T14:56:29.243020",
     "status": "completed"
    },
    "tags": []
   },
   "outputs": [
    {
     "name": "stdout",
     "output_type": "stream",
     "text": [
      "14038\n",
      "409986\n"
     ]
    }
   ],
   "source": [
    "print(len(df[df['is_fishing']=='SI']))\n",
    "print(len(df[df['is_fishing']=='NO']))"
   ]
  },
  {
   "cell_type": "code",
   "execution_count": 18,
   "id": "0b741953",
   "metadata": {
    "execution": {
     "iopub.execute_input": "2022-06-17T14:56:29.530252Z",
     "iopub.status.busy": "2022-06-17T14:56:29.529254Z",
     "iopub.status.idle": "2022-06-17T14:56:29.648934Z",
     "shell.execute_reply": "2022-06-17T14:56:29.649931Z"
    },
    "papermill": {
     "duration": 0.139626,
     "end_time": "2022-06-17T14:56:29.649931",
     "exception": false,
     "start_time": "2022-06-17T14:56:29.510305",
     "status": "completed"
    },
    "tags": []
   },
   "outputs": [
    {
     "name": "stdout",
     "output_type": "stream",
     "text": [
      "mmsi                   424024\n",
      "timestamp              424024\n",
      "distance_from_shore    424024\n",
      "distance_from_port     424024\n",
      "speed                  424024\n",
      "course                 424024\n",
      "lat                    424024\n",
      "lon                    424024\n",
      "is_fishing             424024\n",
      "source                 424024\n",
      "datetime               424024\n",
      "sun_state              424024\n",
      "distance               424024\n",
      "timediff               424024\n",
      "S0                     424024\n",
      "A0                     424024\n",
      "J0                     424024\n",
      "C0                     424024\n",
      "Vavg                   424024\n",
      "Delta_S                424024\n",
      "Cavg                   424024\n",
      "Delta_C                424024\n",
      "speed_lag_1            424024\n",
      "speed_lag_2            424024\n",
      "speed_lag_3            424024\n",
      "speed_lag_4            424024\n",
      "speed_lag_5            424024\n",
      "speed_lag_6            424024\n",
      "course_lag_1           424024\n",
      "course_lag_2           424024\n",
      "course_lag_3           424024\n",
      "course_lag_4           424024\n",
      "course_lag_5           424024\n",
      "course_lag_6           424024\n",
      "S0_lag_1               424024\n",
      "S0_lag_2               424024\n",
      "S0_lag_3               424024\n",
      "S0_lag_4               424024\n",
      "S0_lag_5               424024\n",
      "S0_lag_6               424024\n",
      "A0_lag_1               424024\n",
      "A0_lag_2               424024\n",
      "A0_lag_3               424024\n",
      "A0_lag_4               424024\n",
      "A0_lag_5               424024\n",
      "A0_lag_6               424024\n",
      "J0_lag_1               424024\n",
      "J0_lag_2               424024\n",
      "J0_lag_3               424024\n",
      "J0_lag_4               424024\n",
      "J0_lag_5               424024\n",
      "J0_lag_6               424024\n",
      "C0_lag_1               424024\n",
      "C0_lag_2               424024\n",
      "C0_lag_3               424024\n",
      "C0_lag_4               424024\n",
      "C0_lag_5               424024\n",
      "C0_lag_6               424024\n",
      "dtype: int64\n"
     ]
    }
   ],
   "source": [
    "print(df.count())"
   ]
  }
 ],
 "metadata": {
  "interpreter": {
   "hash": "db2a60f505a9041374f6f3fb78368755bb5bc9c69ef08139ad82abb6b35de715"
  },
  "kernelspec": {
   "display_name": "Python 3.8.8 64-bit ('base': conda)",
   "name": "python3"
  },
  "language_info": {
   "codemirror_mode": {
    "name": "ipython",
    "version": 3
   },
   "file_extension": ".py",
   "mimetype": "text/x-python",
   "name": "python",
   "nbconvert_exporter": "python",
   "pygments_lexer": "ipython3",
   "version": "3.8.8"
  },
  "papermill": {
   "default_parameters": {},
   "duration": 131.593261,
   "end_time": "2022-06-17T14:56:30.094741",
   "environment_variables": {},
   "exception": null,
   "input_path": "notebooks/feature_engineering.ipynb",
   "output_path": "papermill_outputs/feature_engineering/trawlers/feature_engineering_trawlers.ipynb",
   "parameters": {
    "config": {
     "data_path": "C:/Users/nico_/Desktop/ITBA/TFI/global fishing watch/dataset/trawlers.csv",
     "notebook": "notebooks/feature_engineering.ipynb",
     "output_label": "trawlers"
    }
   },
   "start_time": "2022-06-17T14:54:18.501480",
   "version": "2.3.4"
  }
 },
 "nbformat": 4,
 "nbformat_minor": 5
}
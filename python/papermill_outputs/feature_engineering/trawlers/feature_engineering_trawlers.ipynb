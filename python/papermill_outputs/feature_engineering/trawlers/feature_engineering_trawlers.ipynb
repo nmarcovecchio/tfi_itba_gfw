{
 "cells": [
  {
   "cell_type": "code",
   "execution_count": 1,
   "id": "0674dcab",
   "metadata": {
    "execution": {
     "iopub.execute_input": "2022-04-10T03:23:18.186358Z",
     "iopub.status.busy": "2022-04-10T03:23:18.186358Z",
     "iopub.status.idle": "2022-04-10T03:23:18.193340Z",
     "shell.execute_reply": "2022-04-10T03:23:18.193340Z"
    },
    "papermill": {
     "duration": 0.017978,
     "end_time": "2022-04-10T03:23:18.194363",
     "exception": false,
     "start_time": "2022-04-10T03:23:18.176385",
     "status": "completed"
    },
    "tags": [
     "injected-parameters"
    ]
   },
   "outputs": [],
   "source": [
    "# Parameters\n",
    "config = {\n",
    "    \"notebook\": \"notebooks/feature_engineering.ipynb\",\n",
    "    \"data_path\": \"C:/Users/nico_/Desktop/ITBA/TFI/global fishing watch/dataset/trawlers.csv\",\n",
    "    \"output_label\": \"trawlers\",\n",
    "}\n"
   ]
  },
  {
   "cell_type": "code",
   "execution_count": 2,
   "id": "fdaecce9",
   "metadata": {
    "execution": {
     "iopub.execute_input": "2022-04-10T03:23:18.213285Z",
     "iopub.status.busy": "2022-04-10T03:23:18.213285Z",
     "iopub.status.idle": "2022-04-10T03:23:18.226274Z",
     "shell.execute_reply": "2022-04-10T03:23:18.225254Z"
    },
    "papermill": {
     "duration": 0.024956,
     "end_time": "2022-04-10T03:23:18.226274",
     "exception": false,
     "start_time": "2022-04-10T03:23:18.201318",
     "status": "completed"
    },
    "tags": []
   },
   "outputs": [
    {
     "name": "stdout",
     "output_type": "stream",
     "text": [
      "{'notebook': 'notebooks/feature_engineering.ipynb', 'data_path': 'C:/Users/nico_/Desktop/ITBA/TFI/global fishing watch/dataset/trawlers.csv', 'output_label': 'trawlers'}\n"
     ]
    }
   ],
   "source": [
    "# check if config exists\n",
    "try:\n",
    "    config\n",
    "except NameError:\n",
    "    config_exists = False\n",
    "else:\n",
    "    config_exists = True\n",
    "\n",
    "# make config if it does not exist already (e.g. passed in by papermill)\n",
    "if not(config_exists):\n",
    "    # set up some config for the experiment run\n",
    "    config = {\n",
    "        \"data_path\" : \"C:/Users/nico_/Desktop/ITBA/TFI/global fishing watch/dataset/trollers.csv\",\n",
    "        \"output_label\": \"trollers\"\n",
    "    }\n",
    "print(config)"
   ]
  },
  {
   "cell_type": "code",
   "execution_count": 3,
   "id": "d5f8de93",
   "metadata": {
    "execution": {
     "iopub.execute_input": "2022-04-10T03:23:18.244203Z",
     "iopub.status.busy": "2022-04-10T03:23:18.244203Z",
     "iopub.status.idle": "2022-04-10T03:23:53.365412Z",
     "shell.execute_reply": "2022-04-10T03:23:53.364383Z"
    },
    "papermill": {
     "duration": 35.13218,
     "end_time": "2022-04-10T03:23:53.365412",
     "exception": false,
     "start_time": "2022-04-10T03:23:18.233232",
     "status": "completed"
    },
    "tags": []
   },
   "outputs": [],
   "source": [
    "import pandas as pd\n",
    "import numpy as np\n",
    "from sklearn.tree import DecisionTreeClassifier # Import Decision Tree Classifier\n",
    "from sklearn.model_selection import train_test_split # Import train_test_split function\n",
    "from sklearn import metrics #Import scikit-learn metrics module for accuracy calculation\n",
    "\n",
    "df = pd.read_csv(config['data_path'], header=\"infer\", sep=\",\",error_bad_lines=False, engine ='python')\n",
    "\n",
    "#Nos quedamos con los puntos que estan mayor a 3 millas nauticas de la costa.\n",
    "df = df[(df['distance_from_shore'] >= 5556)]\n",
    "\n",
    "#Nos quedamos solamente con los valores que estamos seguros que esta o no esta pescando.\n",
    "df = df[(df['is_fishing'] == -1.0)  | (df['is_fishing'] == 1.0) ]\n",
    "\n",
    "#Renombramos las columnas de la variable a predecir de si esta pescando o no.\n",
    "df[\"is_fishing\"] = np.where(df[\"is_fishing\"] == 1.0, 'SI', 'NO')\n",
    "\n",
    "#Dropeamos los que contienen el mismo timestamp.\n",
    "df = df.drop_duplicates(subset='timestamp', keep=\"first\")\n",
    "\n",
    "df[\"timestamp\"]=df[\"timestamp\"].astype(int)\n",
    "#df['date_series'] = pd.to_datetime(df['timestamp'],unit='s')\n",
    "#df = df.set_index('date_series') \n",
    "df['datetime'] = pd.to_datetime(df['timestamp'],unit='s')\n",
    "df.index = df.datetime\n",
    "#print(df['date_series'])\n",
    "\n",
    "\n",
    "#print(df.resample('60Min',on='datetime'))\n",
    "df = df.resample('5Min',on='datetime').agg('first').dropna()  \n",
    "df.reset_index(drop=True, inplace=True)\n",
    "#print(df)"
   ]
  },
  {
   "cell_type": "code",
   "execution_count": 4,
   "id": "f609bcad",
   "metadata": {
    "execution": {
     "iopub.execute_input": "2022-04-10T03:23:53.385328Z",
     "iopub.status.busy": "2022-04-10T03:23:53.384358Z",
     "iopub.status.idle": "2022-04-10T03:24:03.863465Z",
     "shell.execute_reply": "2022-04-10T03:24:03.862447Z"
    },
    "papermill": {
     "duration": 10.490106,
     "end_time": "2022-04-10T03:24:03.863465",
     "exception": false,
     "start_time": "2022-04-10T03:23:53.373359",
     "status": "completed"
    },
    "tags": []
   },
   "outputs": [],
   "source": [
    "#There are multiple definitions for night, depending if it's for civil (-6°), nautical (-12°) or astronomical (-18°) purposes. \n",
    "# Just pick a treshold : if the sun is below, it's nighttime!\n",
    "\n",
    "import ephem\n",
    "import math\n",
    "import datetime\n",
    "\n",
    "def get_day_night(lat,lon,datetime): \n",
    "    sun = ephem.Sun()\n",
    "    observer = ephem.Observer()\n",
    "    # ↓ Define your coordinates here ↓\n",
    "    observer.lat, observer.lon, observer.elevation = lat, lon, 0\n",
    "    # ↓ Set the time (UTC) here ↓\n",
    "    #observer.date = datetime.datetime.utcnow()\n",
    "    observer.date=datetime\n",
    "    sun.compute(observer)\n",
    "    current_sun_alt = sun.alt\n",
    "    if (current_sun_alt*180/math.pi) < -12.0 :\n",
    "        return 2\n",
    "    else:\n",
    "        return 1\n",
    "    \n",
    "df['sun_state'] = df.apply(lambda x: get_day_night(x['lat'], x['lon'],x['datetime']), axis=1)"
   ]
  },
  {
   "cell_type": "code",
   "execution_count": 5,
   "id": "c606e66c",
   "metadata": {
    "execution": {
     "iopub.execute_input": "2022-04-10T03:24:03.880399Z",
     "iopub.status.busy": "2022-04-10T03:24:03.880399Z",
     "iopub.status.idle": "2022-04-10T03:24:03.893652Z",
     "shell.execute_reply": "2022-04-10T03:24:03.893652Z"
    },
    "papermill": {
     "duration": 0.023226,
     "end_time": "2022-04-10T03:24:03.893652",
     "exception": false,
     "start_time": "2022-04-10T03:24:03.870426",
     "status": "completed"
    },
    "tags": []
   },
   "outputs": [
    {
     "data": {
      "text/plain": [
       "1    268182\n",
       "2    156649\n",
       "Name: sun_state, dtype: int64"
      ]
     },
     "execution_count": 5,
     "metadata": {},
     "output_type": "execute_result"
    }
   ],
   "source": [
    "df[\"sun_state\"].value_counts()"
   ]
  },
  {
   "cell_type": "markdown",
   "id": "a5eb684a",
   "metadata": {
    "papermill": {
     "duration": 0.006981,
     "end_time": "2022-04-10T03:24:03.908611",
     "exception": false,
     "start_time": "2022-04-10T03:24:03.901630",
     "status": "completed"
    },
    "tags": []
   },
   "source": [
    "Se pesca mas de noche, que de dia"
   ]
  },
  {
   "cell_type": "code",
   "execution_count": 6,
   "id": "8f056418",
   "metadata": {
    "execution": {
     "iopub.execute_input": "2022-04-10T03:24:03.953491Z",
     "iopub.status.busy": "2022-04-10T03:24:03.953491Z",
     "iopub.status.idle": "2022-04-10T03:24:04.004809Z",
     "shell.execute_reply": "2022-04-10T03:24:04.004809Z"
    },
    "papermill": {
     "duration": 0.089219,
     "end_time": "2022-04-10T03:24:04.005810",
     "exception": false,
     "start_time": "2022-04-10T03:24:03.916591",
     "status": "completed"
    },
    "tags": []
   },
   "outputs": [
    {
     "name": "stdout",
     "output_type": "stream",
     "text": [
      "           sun_state                                   \n",
      "               count      mean       std  min  50%  max\n",
      "is_fishing                                             \n",
      "NO          410776.0  1.369014  0.482538  1.0  1.0  2.0\n",
      "SI           14055.0  1.360512  0.480166  1.0  1.0  2.0\n"
     ]
    }
   ],
   "source": [
    "print(df.groupby([\"is_fishing\"])[['sun_state']].describe(percentiles=[]))"
   ]
  },
  {
   "cell_type": "code",
   "execution_count": 7,
   "id": "f592dd28",
   "metadata": {
    "execution": {
     "iopub.execute_input": "2022-04-10T03:24:04.025729Z",
     "iopub.status.busy": "2022-04-10T03:24:04.025729Z",
     "iopub.status.idle": "2022-04-10T03:24:04.468980Z",
     "shell.execute_reply": "2022-04-10T03:24:04.468980Z"
    },
    "papermill": {
     "duration": 0.457171,
     "end_time": "2022-04-10T03:24:04.469956",
     "exception": false,
     "start_time": "2022-04-10T03:24:04.012785",
     "status": "completed"
    },
    "tags": []
   },
   "outputs": [],
   "source": [
    "def haversine_np(lon1, lat1, lon2, lat2):\n",
    "    lon1, lat1, lon2, lat2 = map(np.radians, [lon1, lat1, lon2, lat2])\n",
    "\n",
    "    dlon = lon2 - lon1\n",
    "    dlat = lat2 - lat1\n",
    "\n",
    "    a = np.sin(dlat/2.0)**2 + np.cos(lat1) * np.cos(lat2) * np.sin(dlon/2.0)**2\n",
    "\n",
    "    c = 2 * np.arcsin(np.sqrt(a))\n",
    "    km = 6367 * c\n",
    "    return km\n",
    "\n",
    "def distance(x):\n",
    "    y = x.shift()\n",
    "    return haversine_np(x['lat'], x['lon'], y['lat'], y['lon']).fillna(0)\n",
    "\n",
    "df['distance'] = df.groupby('mmsi').apply(distance).reset_index(level=0, drop=True)"
   ]
  },
  {
   "cell_type": "code",
   "execution_count": 8,
   "id": "0baf8fcf",
   "metadata": {
    "execution": {
     "iopub.execute_input": "2022-04-10T03:24:04.489925Z",
     "iopub.status.busy": "2022-04-10T03:24:04.489925Z",
     "iopub.status.idle": "2022-04-10T03:24:04.501010Z",
     "shell.execute_reply": "2022-04-10T03:24:04.500013Z"
    },
    "papermill": {
     "duration": 0.023075,
     "end_time": "2022-04-10T03:24:04.501010",
     "exception": false,
     "start_time": "2022-04-10T03:24:04.477935",
     "status": "completed"
    },
    "tags": []
   },
   "outputs": [],
   "source": [
    "#Convierto latitud y longitud a radianes\n",
    "df['lat'] = np.radians(df['lat'])\n",
    "df['lon'] = np.radians(df['lon'])"
   ]
  },
  {
   "cell_type": "code",
   "execution_count": 9,
   "id": "e9579992",
   "metadata": {
    "execution": {
     "iopub.execute_input": "2022-04-10T03:24:04.521954Z",
     "iopub.status.busy": "2022-04-10T03:24:04.520957Z",
     "iopub.status.idle": "2022-04-10T03:24:04.626819Z",
     "shell.execute_reply": "2022-04-10T03:24:04.626819Z"
    },
    "papermill": {
     "duration": 0.115808,
     "end_time": "2022-04-10T03:24:04.626819",
     "exception": false,
     "start_time": "2022-04-10T03:24:04.511011",
     "status": "completed"
    },
    "tags": []
   },
   "outputs": [],
   "source": [
    "#Calculo la diferencia de tiempo entre puntos consecutivos.\n",
    "df['timediff']= df.groupby('mmsi')['timestamp'].diff()"
   ]
  },
  {
   "cell_type": "code",
   "execution_count": 10,
   "id": "1c6949b3",
   "metadata": {
    "execution": {
     "iopub.execute_input": "2022-04-10T03:24:04.646795Z",
     "iopub.status.busy": "2022-04-10T03:24:04.645769Z",
     "iopub.status.idle": "2022-04-10T03:24:04.659038Z",
     "shell.execute_reply": "2022-04-10T03:24:04.658013Z"
    },
    "papermill": {
     "duration": 0.024213,
     "end_time": "2022-04-10T03:24:04.659038",
     "exception": false,
     "start_time": "2022-04-10T03:24:04.634825",
     "status": "completed"
    },
    "tags": []
   },
   "outputs": [],
   "source": [
    "#Normalizamos la variable curso\n",
    "df['course']=df['course']/360.0"
   ]
  },
  {
   "cell_type": "code",
   "execution_count": 11,
   "id": "0b59d623",
   "metadata": {
    "execution": {
     "iopub.execute_input": "2022-04-10T03:24:04.678957Z",
     "iopub.status.busy": "2022-04-10T03:24:04.678957Z",
     "iopub.status.idle": "2022-04-10T03:24:05.347313Z",
     "shell.execute_reply": "2022-04-10T03:24:05.347313Z"
    },
    "papermill": {
     "duration": 0.681348,
     "end_time": "2022-04-10T03:24:05.348337",
     "exception": false,
     "start_time": "2022-04-10T03:24:04.666989",
     "status": "completed"
    },
    "tags": []
   },
   "outputs": [],
   "source": [
    "#Agregar esto deberia de hacer robusto a mi algoritmo a LAT/LON y timestamps.\n",
    "\n",
    "\n",
    "\n",
    "#Velocidad entre puntos a partir de la distancia        S = x(t2)-x(t1) / t2 - t1\n",
    "df['S0']= df['distance']/df['timediff']\n",
    "#Aceleracion rectilinea         A = S(t2)-S(t1) / t2 - t1\n",
    "df['A0']= df.groupby('mmsi')['S0'].diff()/df['timediff']\n",
    "#Jerk                           J = A(t2)-A(t1) / t2 - t1\n",
    "df['J0']= df.groupby('mmsi')['A0'].diff()/df['timediff']\n",
    "#Derivada del curso             Phi = C(t2)-C(t1) / t2 - t1\n",
    "df['C0']= df.groupby('mmsi')['course'].diff()/df['timediff']\n",
    "#2 Horas deberia de ser suficientemente informativo para saber el comportamiento del buque (paper subrayado)\n",
    "\n",
    "#Velocidad promedio entre puntos    Vavg = V1 + V2 / 2\n",
    "df['Vavg']  = df.groupby('mmsi')['speed'].transform(lambda x: x.rolling(2, 1).mean())\n",
    "\n",
    "\n",
    "#Variacion de velocidad entre puntos Delta_S = V2 - V1 / 2 \n",
    "df['Delta_S']= (df.groupby('mmsi')['speed'].diff())/2\n",
    "\n",
    "#Curso promedio entre puntos        Cavg = C1 + C2 / 2\n",
    "df['Cavg'] = df.groupby('mmsi')['course'].transform(lambda x: x.rolling(2, 1).mean())\n",
    "#Variacion del curso                DeltaC = C2-C1/2\n",
    "df['Delta_C']= (df.groupby('mmsi')['course'].diff())/2\n"
   ]
  },
  {
   "cell_type": "code",
   "execution_count": 12,
   "id": "e2220924",
   "metadata": {
    "execution": {
     "iopub.execute_input": "2022-04-10T03:24:05.368256Z",
     "iopub.status.busy": "2022-04-10T03:24:05.367259Z",
     "iopub.status.idle": "2022-04-10T03:24:05.441062Z",
     "shell.execute_reply": "2022-04-10T03:24:05.442059Z"
    },
    "papermill": {
     "duration": 0.086741,
     "end_time": "2022-04-10T03:24:05.442059",
     "exception": false,
     "start_time": "2022-04-10T03:24:05.355318",
     "status": "completed"
    },
    "tags": []
   },
   "outputs": [],
   "source": [
    "number_lags = 6\n",
    "columns_to_lag = ['speed','course','S0','A0','J0','C0']\n",
    "\n",
    "#df = pd.DataFrame(data={'vals':[5,4,3,2,1]})\n",
    "for column in columns_to_lag:\n",
    "    for lag in range(1, number_lags + 1):\n",
    "        df[str(column) +'_lag_' + str(lag)] = df[column].shift(lag)\n"
   ]
  },
  {
   "cell_type": "code",
   "execution_count": 13,
   "id": "1b82ccf7",
   "metadata": {
    "execution": {
     "iopub.execute_input": "2022-04-10T03:24:05.461008Z",
     "iopub.status.busy": "2022-04-10T03:24:05.461008Z",
     "iopub.status.idle": "2022-04-10T03:24:05.471308Z",
     "shell.execute_reply": "2022-04-10T03:24:05.471308Z"
    },
    "papermill": {
     "duration": 0.022268,
     "end_time": "2022-04-10T03:24:05.471308",
     "exception": false,
     "start_time": "2022-04-10T03:24:05.449040",
     "status": "completed"
    },
    "tags": []
   },
   "outputs": [
    {
     "name": "stdout",
     "output_type": "stream",
     "text": [
      "Index(['mmsi', 'timestamp', 'distance_from_shore', 'distance_from_port',\n",
      "       'speed', 'course', 'lat', 'lon', 'is_fishing', 'source', 'datetime',\n",
      "       'sun_state', 'distance', 'timediff', 'S0', 'A0', 'J0', 'C0', 'Vavg',\n",
      "       'Delta_S', 'Cavg', 'Delta_C', 'speed_lag_1', 'speed_lag_2',\n",
      "       'speed_lag_3', 'speed_lag_4', 'speed_lag_5', 'speed_lag_6',\n",
      "       'course_lag_1', 'course_lag_2', 'course_lag_3', 'course_lag_4',\n",
      "       'course_lag_5', 'course_lag_6', 'S0_lag_1', 'S0_lag_2', 'S0_lag_3',\n",
      "       'S0_lag_4', 'S0_lag_5', 'S0_lag_6', 'A0_lag_1', 'A0_lag_2', 'A0_lag_3',\n",
      "       'A0_lag_4', 'A0_lag_5', 'A0_lag_6', 'J0_lag_1', 'J0_lag_2', 'J0_lag_3',\n",
      "       'J0_lag_4', 'J0_lag_5', 'J0_lag_6', 'C0_lag_1', 'C0_lag_2', 'C0_lag_3',\n",
      "       'C0_lag_4', 'C0_lag_5', 'C0_lag_6'],\n",
      "      dtype='object')\n"
     ]
    }
   ],
   "source": [
    "print(df.columns)\n"
   ]
  },
  {
   "cell_type": "code",
   "execution_count": 14,
   "id": "e2a09153",
   "metadata": {
    "execution": {
     "iopub.execute_input": "2022-04-10T03:24:05.491255Z",
     "iopub.status.busy": "2022-04-10T03:24:05.491255Z",
     "iopub.status.idle": "2022-04-10T03:24:32.909384Z",
     "shell.execute_reply": "2022-04-10T03:24:32.909384Z"
    },
    "papermill": {
     "duration": 27.431068,
     "end_time": "2022-04-10T03:24:32.910382",
     "exception": false,
     "start_time": "2022-04-10T03:24:05.479314",
     "status": "completed"
    },
    "tags": []
   },
   "outputs": [],
   "source": [
    "df = df.dropna()\n",
    "df.to_csv(f\"./df_procesado/{config['output_label']}_fe.csv\",sep=\",\")  "
   ]
  },
  {
   "cell_type": "code",
   "execution_count": 15,
   "id": "658d193f",
   "metadata": {
    "execution": {
     "iopub.execute_input": "2022-04-10T03:24:32.929331Z",
     "iopub.status.busy": "2022-04-10T03:24:32.929331Z",
     "iopub.status.idle": "2022-04-10T03:24:33.019663Z",
     "shell.execute_reply": "2022-04-10T03:24:33.019663Z"
    },
    "papermill": {
     "duration": 0.101302,
     "end_time": "2022-04-10T03:24:33.019663",
     "exception": false,
     "start_time": "2022-04-10T03:24:32.918361",
     "status": "completed"
    },
    "tags": []
   },
   "outputs": [
    {
     "name": "stdout",
     "output_type": "stream",
     "text": [
      "mmsi                   424024\n",
      "timestamp              424024\n",
      "distance_from_shore    424024\n",
      "distance_from_port     424024\n",
      "speed                  424024\n",
      "course                 424024\n",
      "lat                    424024\n",
      "lon                    424024\n",
      "is_fishing             424024\n",
      "source                 424024\n",
      "datetime               424024\n",
      "sun_state              424024\n",
      "distance               424024\n",
      "timediff               424024\n",
      "S0                     424024\n",
      "A0                     424024\n",
      "J0                     424024\n",
      "C0                     424024\n",
      "Vavg                   424024\n",
      "Delta_S                424024\n",
      "Cavg                   424024\n",
      "Delta_C                424024\n",
      "speed_lag_1            424024\n",
      "speed_lag_2            424024\n",
      "speed_lag_3            424024\n",
      "speed_lag_4            424024\n",
      "speed_lag_5            424024\n",
      "speed_lag_6            424024\n",
      "course_lag_1           424024\n",
      "course_lag_2           424024\n",
      "course_lag_3           424024\n",
      "course_lag_4           424024\n",
      "course_lag_5           424024\n",
      "course_lag_6           424024\n",
      "S0_lag_1               424024\n",
      "S0_lag_2               424024\n",
      "S0_lag_3               424024\n",
      "S0_lag_4               424024\n",
      "S0_lag_5               424024\n",
      "S0_lag_6               424024\n",
      "A0_lag_1               424024\n",
      "A0_lag_2               424024\n",
      "A0_lag_3               424024\n",
      "A0_lag_4               424024\n",
      "A0_lag_5               424024\n",
      "A0_lag_6               424024\n",
      "J0_lag_1               424024\n",
      "J0_lag_2               424024\n",
      "J0_lag_3               424024\n",
      "J0_lag_4               424024\n",
      "J0_lag_5               424024\n",
      "J0_lag_6               424024\n",
      "C0_lag_1               424024\n",
      "C0_lag_2               424024\n",
      "C0_lag_3               424024\n",
      "C0_lag_4               424024\n",
      "C0_lag_5               424024\n",
      "C0_lag_6               424024\n",
      "dtype: int64\n"
     ]
    }
   ],
   "source": [
    "print(df.count())"
   ]
  }
 ],
 "metadata": {
  "interpreter": {
   "hash": "db2a60f505a9041374f6f3fb78368755bb5bc9c69ef08139ad82abb6b35de715"
  },
  "kernelspec": {
   "display_name": "Python 3.8.8 64-bit ('base': conda)",
   "name": "python3"
  },
  "language_info": {
   "codemirror_mode": {
    "name": "ipython",
    "version": 3
   },
   "file_extension": ".py",
   "mimetype": "text/x-python",
   "name": "python",
   "nbconvert_exporter": "python",
   "pygments_lexer": "ipython3",
   "version": "3.8.8"
  },
  "papermill": {
   "default_parameters": {},
   "duration": 76.435998,
   "end_time": "2022-04-10T03:24:33.360730",
   "environment_variables": {},
   "exception": null,
   "input_path": "notebooks/feature_engineering.ipynb",
   "output_path": "papermill_outputs/feature_engineering/trawlers/feature_engineering_trawlers.ipynb",
   "parameters": {
    "config": {
     "data_path": "C:/Users/nico_/Desktop/ITBA/TFI/global fishing watch/dataset/trawlers.csv",
     "notebook": "notebooks/feature_engineering.ipynb",
     "output_label": "trawlers"
    }
   },
   "start_time": "2022-04-10T03:23:16.924732",
   "version": "2.3.4"
  }
 },
 "nbformat": 4,
 "nbformat_minor": 5
}
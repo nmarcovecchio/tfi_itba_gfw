{
 "cells": [
  {
   "cell_type": "code",
   "execution_count": 1,
   "id": "88e98a31",
   "metadata": {
    "execution": {
     "iopub.execute_input": "2022-04-14T23:42:30.853558Z",
     "iopub.status.busy": "2022-04-14T23:42:30.852582Z",
     "iopub.status.idle": "2022-04-14T23:42:30.855510Z",
     "shell.execute_reply": "2022-04-14T23:42:30.855510Z"
    },
    "papermill": {
     "duration": 0.021472,
     "end_time": "2022-04-14T23:42:30.855510",
     "exception": false,
     "start_time": "2022-04-14T23:42:30.834038",
     "status": "completed"
    },
    "tags": [
     "injected-parameters"
    ]
   },
   "outputs": [],
   "source": [
    "# Parameters\n",
    "config = {\n",
    "    \"notebook\": \"notebooks/feature_engineering.ipynb\",\n",
    "    \"data_path\": \"C:/Users/nico_/Desktop/ITBA/TFI/global fishing watch/dataset/trawlers.csv\",\n",
    "    \"output_label\": \"trawlers\",\n",
    "}\n"
   ]
  },
  {
   "cell_type": "code",
   "execution_count": 2,
   "id": "edaad6d5",
   "metadata": {
    "execution": {
     "iopub.execute_input": "2022-04-14T23:42:30.891623Z",
     "iopub.status.busy": "2022-04-14T23:42:30.891623Z",
     "iopub.status.idle": "2022-04-14T23:42:30.895525Z",
     "shell.execute_reply": "2022-04-14T23:42:30.895525Z"
    },
    "papermill": {
     "duration": 0.023423,
     "end_time": "2022-04-14T23:42:30.896502",
     "exception": false,
     "start_time": "2022-04-14T23:42:30.873079",
     "status": "completed"
    },
    "tags": []
   },
   "outputs": [
    {
     "name": "stdout",
     "output_type": "stream",
     "text": [
      "{'notebook': 'notebooks/feature_engineering.ipynb', 'data_path': 'C:/Users/nico_/Desktop/ITBA/TFI/global fishing watch/dataset/trawlers.csv', 'output_label': 'trawlers'}\n"
     ]
    }
   ],
   "source": [
    "# check if config exists\n",
    "try:\n",
    "    config\n",
    "except NameError:\n",
    "    config_exists = False\n",
    "else:\n",
    "    config_exists = True\n",
    "\n",
    "# make config if it does not exist already (e.g. passed in by papermill)\n",
    "if not(config_exists):\n",
    "    # set up some config for the experiment run\n",
    "    config = {\n",
    "        \"data_path\" : \"C:/Users/nico_/Desktop/ITBA/TFI/global fishing watch/dataset/trollers.csv\",\n",
    "        \"output_label\": \"trollers\"\n",
    "    }\n",
    "print(config)"
   ]
  },
  {
   "cell_type": "code",
   "execution_count": 3,
   "id": "95f1d95a",
   "metadata": {
    "execution": {
     "iopub.execute_input": "2022-04-14T23:42:30.927734Z",
     "iopub.status.busy": "2022-04-14T23:42:30.927734Z",
     "iopub.status.idle": "2022-04-14T23:43:13.234976Z",
     "shell.execute_reply": "2022-04-14T23:43:13.235972Z"
    },
    "papermill": {
     "duration": 42.328735,
     "end_time": "2022-04-14T23:43:13.235972",
     "exception": false,
     "start_time": "2022-04-14T23:42:30.907237",
     "status": "completed"
    },
    "tags": []
   },
   "outputs": [],
   "source": [
    "import pandas as pd\n",
    "import numpy as np\n",
    "from sklearn.tree import DecisionTreeClassifier # Import Decision Tree Classifier\n",
    "from sklearn.model_selection import train_test_split # Import train_test_split function\n",
    "from sklearn import metrics #Import scikit-learn metrics module for accuracy calculation\n",
    "\n",
    "df = pd.read_csv(config['data_path'], header=\"infer\", sep=\",\",error_bad_lines=False, engine ='python')\n",
    "\n",
    "#Nos quedamos con los puntos que estan mayor a 3 millas nauticas de la costa.\n",
    "df = df[(df['distance_from_shore'] >= 5556)]\n",
    "\n",
    "#Nos quedamos solamente con los valores que estamos seguros que esta o no esta pescando.\n",
    "df = df[(df['is_fishing'] == -1.0)  | (df['is_fishing'] == 1.0) ]\n",
    "\n",
    "#Renombramos las columnas de la variable a predecir de si esta pescando o no.\n",
    "df[\"is_fishing\"] = np.where(df[\"is_fishing\"] == 1.0, 'SI', 'NO')\n",
    "\n",
    "#Dropeamos los que contienen el mismo timestamp.\n",
    "df = df.drop_duplicates(subset='timestamp', keep=\"first\")\n",
    "\n",
    "df[\"timestamp\"]=df[\"timestamp\"].astype(int)\n",
    "#df['date_series'] = pd.to_datetime(df['timestamp'],unit='s')\n",
    "#df = df.set_index('date_series') \n",
    "df['datetime'] = pd.to_datetime(df['timestamp'],unit='s')\n",
    "df.index = df.datetime\n",
    "#print(df['date_series'])\n",
    "\n",
    "aux = df\n"
   ]
  },
  {
   "cell_type": "code",
   "execution_count": 4,
   "id": "66753e6a",
   "metadata": {
    "execution": {
     "iopub.execute_input": "2022-04-14T23:43:13.258400Z",
     "iopub.status.busy": "2022-04-14T23:43:13.258400Z",
     "iopub.status.idle": "2022-04-14T23:43:14.245289Z",
     "shell.execute_reply": "2022-04-14T23:43:14.245289Z"
    },
    "papermill": {
     "duration": 0.9986,
     "end_time": "2022-04-14T23:43:14.245289",
     "exception": false,
     "start_time": "2022-04-14T23:43:13.246689",
     "status": "completed"
    },
    "tags": []
   },
   "outputs": [
    {
     "name": "stdout",
     "output_type": "stream",
     "text": [
      "2071009\n"
     ]
    },
    {
     "name": "stdout",
     "output_type": "stream",
     "text": [
      "424831\n"
     ]
    }
   ],
   "source": [
    "#print(df.resample('60Min',on='datetime'))\n",
    "df = aux\n",
    "print(len(df))\n",
    "df = df.resample('5Min',on='datetime').agg('first').dropna()  \n",
    "df.reset_index(drop=True, inplace=True)\n",
    "print(len(df))\n",
    "#print(df)"
   ]
  },
  {
   "cell_type": "code",
   "execution_count": 5,
   "id": "488c2ca0",
   "metadata": {
    "execution": {
     "iopub.execute_input": "2022-04-14T23:43:14.274568Z",
     "iopub.status.busy": "2022-04-14T23:43:14.273592Z",
     "iopub.status.idle": "2022-04-14T23:43:14.297990Z",
     "shell.execute_reply": "2022-04-14T23:43:14.297990Z"
    },
    "papermill": {
     "duration": 0.040016,
     "end_time": "2022-04-14T23:43:14.298968",
     "exception": false,
     "start_time": "2022-04-14T23:43:14.258952",
     "status": "completed"
    },
    "tags": []
   },
   "outputs": [
    {
     "name": "stdout",
     "output_type": "stream",
     "text": [
      "   timestamp  valores            datetime\n",
      "0          1        3 1970-01-01 00:00:01\n",
      "1          2        4 1970-01-01 00:00:02\n",
      "2          3        5 1970-01-01 00:00:03\n",
      "3          4        6 1970-01-01 00:00:04\n",
      "4        120        7 1970-01-01 00:02:00\n",
      "5        241        8 1970-01-01 00:04:01\n",
      "6        421        9 1970-01-01 00:07:01\n",
      "                     timestamp  valores            datetime\n",
      "datetime                                                   \n",
      "1970-01-01 00:00:00        1.0      3.0 1970-01-01 00:00:01\n",
      "1970-01-01 00:02:00      120.0      7.0 1970-01-01 00:02:00\n",
      "1970-01-01 00:04:00      241.0      8.0 1970-01-01 00:04:01\n",
      "1970-01-01 00:07:00      421.0      9.0 1970-01-01 00:07:01\n"
     ]
    }
   ],
   "source": [
    "#EJEMPLO DE RESAMPLE PARA VER QUE FUNCIONA OK.\n",
    "d = {'timestamp': [1, 2,3,4,60*2,60*4+1,60*7+1], 'valores': [3, 4,5,6,7,8,9]}\n",
    "d = pd.DataFrame(data=d)\n",
    "\n",
    "d['datetime'] = pd.to_datetime(d['timestamp'],unit='s')\n",
    "print(d)\n",
    "\n",
    "d = d.resample('1Min',on='datetime').agg('first').dropna()  \n",
    "print(d)"
   ]
  },
  {
   "cell_type": "code",
   "execution_count": 6,
   "id": "e7a8455f",
   "metadata": {
    "execution": {
     "iopub.execute_input": "2022-04-14T23:43:14.319462Z",
     "iopub.status.busy": "2022-04-14T23:43:14.319462Z",
     "iopub.status.idle": "2022-04-14T23:43:25.403040Z",
     "shell.execute_reply": "2022-04-14T23:43:25.402064Z"
    },
    "papermill": {
     "duration": 11.096238,
     "end_time": "2022-04-14T23:43:25.403040",
     "exception": false,
     "start_time": "2022-04-14T23:43:14.306802",
     "status": "completed"
    },
    "tags": []
   },
   "outputs": [],
   "source": [
    "#There are multiple definitions for night, depending if it's for civil (-6°), nautical (-12°) or astronomical (-18°) purposes. \n",
    "# Just pick a treshold : if the sun is below, it's nighttime!\n",
    "\n",
    "import ephem\n",
    "import math\n",
    "import datetime\n",
    "\n",
    "def get_day_night(lat,lon,datetime): \n",
    "    sun = ephem.Sun()\n",
    "    observer = ephem.Observer()\n",
    "    # ↓ Define your coordinates here ↓\n",
    "    observer.lat, observer.lon, observer.elevation = lat, lon, 0\n",
    "    # ↓ Set the time (UTC) here ↓\n",
    "    #observer.date = datetime.datetime.utcnow()\n",
    "    observer.date=datetime\n",
    "    sun.compute(observer)\n",
    "    current_sun_alt = sun.alt\n",
    "    if (current_sun_alt*180/math.pi) < -12.0 :\n",
    "        return 2\n",
    "    else:\n",
    "        return 1\n",
    "    \n",
    "df['sun_state'] = df.apply(lambda x: get_day_night(x['lat'], x['lon'],x['datetime']), axis=1)"
   ]
  },
  {
   "cell_type": "code",
   "execution_count": 7,
   "id": "57d8de3b",
   "metadata": {
    "execution": {
     "iopub.execute_input": "2022-04-14T23:43:25.427440Z",
     "iopub.status.busy": "2022-04-14T23:43:25.427440Z",
     "iopub.status.idle": "2022-04-14T23:43:25.440126Z",
     "shell.execute_reply": "2022-04-14T23:43:25.440126Z"
    },
    "papermill": {
     "duration": 0.026352,
     "end_time": "2022-04-14T23:43:25.441102",
     "exception": false,
     "start_time": "2022-04-14T23:43:25.414750",
     "status": "completed"
    },
    "tags": []
   },
   "outputs": [
    {
     "data": {
      "text/plain": [
       "1    268182\n",
       "2    156649\n",
       "Name: sun_state, dtype: int64"
      ]
     },
     "execution_count": 7,
     "metadata": {},
     "output_type": "execute_result"
    }
   ],
   "source": [
    "df[\"sun_state\"].value_counts()"
   ]
  },
  {
   "cell_type": "markdown",
   "id": "01760c85",
   "metadata": {
    "papermill": {
     "duration": 0.008811,
     "end_time": "2022-04-14T23:43:25.458698",
     "exception": false,
     "start_time": "2022-04-14T23:43:25.449887",
     "status": "completed"
    },
    "tags": []
   },
   "source": [
    "Se pesca mas de noche, que de dia"
   ]
  },
  {
   "cell_type": "code",
   "execution_count": 8,
   "id": "cad6a8b2",
   "metadata": {
    "execution": {
     "iopub.execute_input": "2022-04-14T23:43:25.504543Z",
     "iopub.status.busy": "2022-04-14T23:43:25.504543Z",
     "iopub.status.idle": "2022-04-14T23:43:25.575790Z",
     "shell.execute_reply": "2022-04-14T23:43:25.575790Z"
    },
    "papermill": {
     "duration": 0.107359,
     "end_time": "2022-04-14T23:43:25.575790",
     "exception": false,
     "start_time": "2022-04-14T23:43:25.468431",
     "status": "completed"
    },
    "tags": []
   },
   "outputs": [
    {
     "name": "stdout",
     "output_type": "stream",
     "text": [
      "           sun_state                                   \n",
      "               count      mean       std  min  50%  max\n",
      "is_fishing                                             \n",
      "NO          410776.0  1.369014  0.482538  1.0  1.0  2.0\n",
      "SI           14055.0  1.360512  0.480166  1.0  1.0  2.0\n"
     ]
    }
   ],
   "source": [
    "print(df.groupby([\"is_fishing\"])[['sun_state']].describe(percentiles=[]))"
   ]
  },
  {
   "cell_type": "code",
   "execution_count": 9,
   "id": "381d06bb",
   "metadata": {
    "execution": {
     "iopub.execute_input": "2022-04-14T23:43:25.601167Z",
     "iopub.status.busy": "2022-04-14T23:43:25.600191Z",
     "iopub.status.idle": "2022-04-14T23:43:26.296626Z",
     "shell.execute_reply": "2022-04-14T23:43:26.296626Z"
    },
    "papermill": {
     "duration": 0.711048,
     "end_time": "2022-04-14T23:43:26.296626",
     "exception": false,
     "start_time": "2022-04-14T23:43:25.585578",
     "status": "completed"
    },
    "tags": []
   },
   "outputs": [],
   "source": [
    "def haversine_np(lon1, lat1, lon2, lat2):\n",
    "    lon1, lat1, lon2, lat2 = map(np.radians, [lon1, lat1, lon2, lat2])\n",
    "\n",
    "    dlon = lon2 - lon1\n",
    "    dlat = lat2 - lat1\n",
    "\n",
    "    a = np.sin(dlat/2.0)**2 + np.cos(lat1) * np.cos(lat2) * np.sin(dlon/2.0)**2\n",
    "\n",
    "    c = 2 * np.arcsin(np.sqrt(a))\n",
    "    km = 6367 * c\n",
    "    return km\n",
    "\n",
    "def distance(x):\n",
    "    y = x.shift()\n",
    "    return haversine_np(x['lat'], x['lon'], y['lat'], y['lon']).fillna(0)\n",
    "\n",
    "df['distance'] = df.groupby('mmsi').apply(distance).reset_index(level=0, drop=True)"
   ]
  },
  {
   "cell_type": "code",
   "execution_count": 10,
   "id": "c97c0844",
   "metadata": {
    "execution": {
     "iopub.execute_input": "2022-04-14T23:43:26.319075Z",
     "iopub.status.busy": "2022-04-14T23:43:26.318118Z",
     "iopub.status.idle": "2022-04-14T23:43:26.324931Z",
     "shell.execute_reply": "2022-04-14T23:43:26.325907Z"
    },
    "papermill": {
     "duration": 0.019497,
     "end_time": "2022-04-14T23:43:26.325907",
     "exception": false,
     "start_time": "2022-04-14T23:43:26.306410",
     "status": "completed"
    },
    "tags": []
   },
   "outputs": [],
   "source": [
    "#Convierto latitud y longitud a radianes\n",
    "df['lat'] = np.radians(df['lat'])\n",
    "df['lon'] = np.radians(df['lon'])"
   ]
  },
  {
   "cell_type": "code",
   "execution_count": 11,
   "id": "ec8db475",
   "metadata": {
    "execution": {
     "iopub.execute_input": "2022-04-14T23:43:26.346403Z",
     "iopub.status.busy": "2022-04-14T23:43:26.346403Z",
     "iopub.status.idle": "2022-04-14T23:43:26.481091Z",
     "shell.execute_reply": "2022-04-14T23:43:26.480115Z"
    },
    "papermill": {
     "duration": 0.146376,
     "end_time": "2022-04-14T23:43:26.481091",
     "exception": false,
     "start_time": "2022-04-14T23:43:26.334715",
     "status": "completed"
    },
    "tags": []
   },
   "outputs": [],
   "source": [
    "#Calculo la diferencia de tiempo entre puntos consecutivos.\n",
    "df['timediff']= df.groupby('mmsi')['timestamp'].diff()"
   ]
  },
  {
   "cell_type": "code",
   "execution_count": 12,
   "id": "6a58ffd1",
   "metadata": {
    "execution": {
     "iopub.execute_input": "2022-04-14T23:43:26.508419Z",
     "iopub.status.busy": "2022-04-14T23:43:26.507443Z",
     "iopub.status.idle": "2022-04-14T23:43:26.511347Z",
     "shell.execute_reply": "2022-04-14T23:43:26.511347Z"
    },
    "papermill": {
     "duration": 0.01757,
     "end_time": "2022-04-14T23:43:26.512325",
     "exception": false,
     "start_time": "2022-04-14T23:43:26.494755",
     "status": "completed"
    },
    "tags": []
   },
   "outputs": [],
   "source": [
    "#Normalizamos la variable curso\n",
    "df['course']=df['course']/360.0"
   ]
  },
  {
   "cell_type": "code",
   "execution_count": 13,
   "id": "1bccfd06",
   "metadata": {
    "execution": {
     "iopub.execute_input": "2022-04-14T23:43:26.542579Z",
     "iopub.status.busy": "2022-04-14T23:43:26.542579Z",
     "iopub.status.idle": "2022-04-14T23:43:27.344850Z",
     "shell.execute_reply": "2022-04-14T23:43:27.344850Z"
    },
    "papermill": {
     "duration": 0.819839,
     "end_time": "2022-04-14T23:43:27.344850",
     "exception": false,
     "start_time": "2022-04-14T23:43:26.525011",
     "status": "completed"
    },
    "tags": []
   },
   "outputs": [],
   "source": [
    "#Agregar esto deberia de hacer robusto a mi algoritmo a LAT/LON y timestamps.\n",
    "\n",
    "\n",
    "\n",
    "#Velocidad entre puntos a partir de la distancia        S = x(t2)-x(t1) / t2 - t1\n",
    "df['S0']= df['distance']/df['timediff']\n",
    "#Aceleracion rectilinea         A = S(t2)-S(t1) / t2 - t1\n",
    "df['A0']= df.groupby('mmsi')['S0'].diff()/df['timediff']\n",
    "#Jerk                           J = A(t2)-A(t1) / t2 - t1\n",
    "df['J0']= df.groupby('mmsi')['A0'].diff()/df['timediff']\n",
    "#Derivada del curso             Phi = C(t2)-C(t1) / t2 - t1\n",
    "df['C0']= df.groupby('mmsi')['course'].diff()/df['timediff']\n",
    "#2 Horas deberia de ser suficientemente informativo para saber el comportamiento del buque (paper subrayado)\n",
    "\n",
    "#Velocidad promedio entre puntos    Vavg = V1 + V2 / 2\n",
    "df['Vavg']  = df.groupby('mmsi')['speed'].transform(lambda x: x.rolling(2, 1).mean())\n",
    "\n",
    "\n",
    "#Variacion de velocidad entre puntos Delta_S = V2 - V1 / 2 \n",
    "df['Delta_S']= (df.groupby('mmsi')['speed'].diff())/2\n",
    "\n",
    "#Curso promedio entre puntos        Cavg = C1 + C2 / 2\n",
    "df['Cavg'] = df.groupby('mmsi')['course'].transform(lambda x: x.rolling(2, 1).mean())\n",
    "#Variacion del curso                DeltaC = C2-C1/2\n",
    "df['Delta_C']= (df.groupby('mmsi')['course'].diff())/2\n"
   ]
  },
  {
   "cell_type": "code",
   "execution_count": 14,
   "id": "bbe2bbb8",
   "metadata": {
    "execution": {
     "iopub.execute_input": "2022-04-14T23:43:27.376082Z",
     "iopub.status.busy": "2022-04-14T23:43:27.376082Z",
     "iopub.status.idle": "2022-04-14T23:43:27.473682Z",
     "shell.execute_reply": "2022-04-14T23:43:27.472705Z"
    },
    "papermill": {
     "duration": 0.115168,
     "end_time": "2022-04-14T23:43:27.473682",
     "exception": false,
     "start_time": "2022-04-14T23:43:27.358514",
     "status": "completed"
    },
    "tags": []
   },
   "outputs": [],
   "source": [
    "number_lags = 6\n",
    "columns_to_lag = ['speed','course','S0','A0','J0','C0']\n",
    "\n",
    "#df = pd.DataFrame(data={'vals':[5,4,3,2,1]})\n",
    "for column in columns_to_lag:\n",
    "    for lag in range(1, number_lags + 1):\n",
    "        df[str(column) +'_lag_' + str(lag)] = df[column].shift(lag)\n"
   ]
  },
  {
   "cell_type": "code",
   "execution_count": 15,
   "id": "8e8f050f",
   "metadata": {
    "execution": {
     "iopub.execute_input": "2022-04-14T23:43:27.498082Z",
     "iopub.status.busy": "2022-04-14T23:43:27.498082Z",
     "iopub.status.idle": "2022-04-14T23:43:27.501010Z",
     "shell.execute_reply": "2022-04-14T23:43:27.501010Z"
    },
    "papermill": {
     "duration": 0.015616,
     "end_time": "2022-04-14T23:43:27.501010",
     "exception": false,
     "start_time": "2022-04-14T23:43:27.485394",
     "status": "completed"
    },
    "tags": []
   },
   "outputs": [
    {
     "name": "stdout",
     "output_type": "stream",
     "text": [
      "Index(['mmsi', 'timestamp', 'distance_from_shore', 'distance_from_port',\n",
      "       'speed', 'course', 'lat', 'lon', 'is_fishing', 'source', 'datetime',\n",
      "       'sun_state', 'distance', 'timediff', 'S0', 'A0', 'J0', 'C0', 'Vavg',\n",
      "       'Delta_S', 'Cavg', 'Delta_C', 'speed_lag_1', 'speed_lag_2',\n",
      "       'speed_lag_3', 'speed_lag_4', 'speed_lag_5', 'speed_lag_6',\n",
      "       'course_lag_1', 'course_lag_2', 'course_lag_3', 'course_lag_4',\n",
      "       'course_lag_5', 'course_lag_6', 'S0_lag_1', 'S0_lag_2', 'S0_lag_3',\n",
      "       'S0_lag_4', 'S0_lag_5', 'S0_lag_6', 'A0_lag_1', 'A0_lag_2', 'A0_lag_3',\n",
      "       'A0_lag_4', 'A0_lag_5', 'A0_lag_6', 'J0_lag_1', 'J0_lag_2', 'J0_lag_3',\n",
      "       'J0_lag_4', 'J0_lag_5', 'J0_lag_6', 'C0_lag_1', 'C0_lag_2', 'C0_lag_3',\n",
      "       'C0_lag_4', 'C0_lag_5', 'C0_lag_6'],\n",
      "      dtype='object')\n"
     ]
    }
   ],
   "source": [
    "print(df.columns)\n"
   ]
  },
  {
   "cell_type": "code",
   "execution_count": 16,
   "id": "f16a40a4",
   "metadata": {
    "execution": {
     "iopub.execute_input": "2022-04-14T23:43:27.527362Z",
     "iopub.status.busy": "2022-04-14T23:43:27.527362Z",
     "iopub.status.idle": "2022-04-14T23:43:55.974905Z",
     "shell.execute_reply": "2022-04-14T23:43:55.974905Z"
    },
    "papermill": {
     "duration": 28.463158,
     "end_time": "2022-04-14T23:43:55.974905",
     "exception": false,
     "start_time": "2022-04-14T23:43:27.511747",
     "status": "completed"
    },
    "tags": []
   },
   "outputs": [],
   "source": [
    "df = df.dropna()\n",
    "df.to_csv(f\"../../df_procesado/{config['output_label']}_fe.csv\",sep=\",\",index=False)  "
   ]
  },
  {
   "cell_type": "code",
   "execution_count": 17,
   "id": "63d7046b",
   "metadata": {
    "execution": {
     "iopub.execute_input": "2022-04-14T23:43:56.048105Z",
     "iopub.status.busy": "2022-04-14T23:43:56.048105Z",
     "iopub.status.idle": "2022-04-14T23:43:57.596040Z",
     "shell.execute_reply": "2022-04-14T23:43:57.596040Z"
    },
    "papermill": {
     "duration": 1.610399,
     "end_time": "2022-04-14T23:43:57.596040",
     "exception": false,
     "start_time": "2022-04-14T23:43:55.985641",
     "status": "completed"
    },
    "tags": []
   },
   "outputs": [
    {
     "name": "stdout",
     "output_type": "stream",
     "text": [
      "5549\n",
      "9451\n"
     ]
    }
   ],
   "source": [
    "def n_prior_to_condition(df, n, condition):\n",
    "    groups = condition.iloc[::-1].cumsum()\n",
    "    return df.groupby(groups).tail(n+1)[:15000]\n",
    "\n",
    "for i in range(1,10000):\n",
    "    aux = n_prior_to_condition(df, i, df.is_fishing==\"SI\")  \n",
    "    aux = aux.drop_duplicates()\n",
    "    yes = (len(aux[aux['is_fishing']=='SI']))\n",
    "    no = (len(aux[aux['is_fishing']=='NO']))\n",
    "    if (yes/no<=1):\n",
    "        df=aux\n",
    "        break\n",
    "\n",
    "print(len(df[df['is_fishing']=='SI']))\n",
    "print((len(df[df['is_fishing']=='NO'])))\n",
    "df.to_csv(f\"../../df_procesado/{config['output_label']}_fe_recortado.csv\",sep=\",\",index=False)  "
   ]
  },
  {
   "cell_type": "code",
   "execution_count": 18,
   "id": "7ed1441c",
   "metadata": {
    "execution": {
     "iopub.execute_input": "2022-04-14T23:43:57.634104Z",
     "iopub.status.busy": "2022-04-14T23:43:57.633128Z",
     "iopub.status.idle": "2022-04-14T23:43:57.643863Z",
     "shell.execute_reply": "2022-04-14T23:43:57.643863Z"
    },
    "papermill": {
     "duration": 0.032207,
     "end_time": "2022-04-14T23:43:57.644839",
     "exception": false,
     "start_time": "2022-04-14T23:43:57.612632",
     "status": "completed"
    },
    "tags": []
   },
   "outputs": [
    {
     "name": "stdout",
     "output_type": "stream",
     "text": [
      "mmsi                   15000\n",
      "timestamp              15000\n",
      "distance_from_shore    15000\n",
      "distance_from_port     15000\n",
      "speed                  15000\n",
      "course                 15000\n",
      "lat                    15000\n",
      "lon                    15000\n",
      "is_fishing             15000\n",
      "source                 15000\n",
      "datetime               15000\n",
      "sun_state              15000\n",
      "distance               15000\n",
      "timediff               15000\n",
      "S0                     15000\n",
      "A0                     15000\n",
      "J0                     15000\n",
      "C0                     15000\n",
      "Vavg                   15000\n",
      "Delta_S                15000\n",
      "Cavg                   15000\n",
      "Delta_C                15000\n",
      "speed_lag_1            15000\n",
      "speed_lag_2            15000\n",
      "speed_lag_3            15000\n",
      "speed_lag_4            15000\n",
      "speed_lag_5            15000\n",
      "speed_lag_6            15000\n",
      "course_lag_1           15000\n",
      "course_lag_2           15000\n",
      "course_lag_3           15000\n",
      "course_lag_4           15000\n",
      "course_lag_5           15000\n",
      "course_lag_6           15000\n",
      "S0_lag_1               15000\n",
      "S0_lag_2               15000\n",
      "S0_lag_3               15000\n",
      "S0_lag_4               15000\n",
      "S0_lag_5               15000\n",
      "S0_lag_6               15000\n",
      "A0_lag_1               15000\n",
      "A0_lag_2               15000\n",
      "A0_lag_3               15000\n",
      "A0_lag_4               15000\n",
      "A0_lag_5               15000\n",
      "A0_lag_6               15000\n",
      "J0_lag_1               15000\n",
      "J0_lag_2               15000\n",
      "J0_lag_3               15000\n",
      "J0_lag_4               15000\n",
      "J0_lag_5               15000\n",
      "J0_lag_6               15000\n",
      "C0_lag_1               15000\n",
      "C0_lag_2               15000\n",
      "C0_lag_3               15000\n",
      "C0_lag_4               15000\n",
      "C0_lag_5               15000\n",
      "C0_lag_6               15000\n",
      "dtype: int64\n"
     ]
    }
   ],
   "source": [
    "print(df.count())"
   ]
  }
 ],
 "metadata": {
  "interpreter": {
   "hash": "db2a60f505a9041374f6f3fb78368755bb5bc9c69ef08139ad82abb6b35de715"
  },
  "kernelspec": {
   "display_name": "Python 3.8.8 64-bit ('base': conda)",
   "name": "python3"
  },
  "language_info": {
   "codemirror_mode": {
    "name": "ipython",
    "version": 3
   },
   "file_extension": ".py",
   "mimetype": "text/x-python",
   "name": "python",
   "nbconvert_exporter": "python",
   "pygments_lexer": "ipython3",
   "version": "3.8.8"
  },
  "papermill": {
   "default_parameters": {},
   "duration": 90.077468,
   "end_time": "2022-04-14T23:43:59.165444",
   "environment_variables": {},
   "exception": null,
   "input_path": "notebooks/feature_engineering.ipynb",
   "output_path": "papermill_outputs/feature_engineering/trawlers/feature_engineering_trawlers.ipynb",
   "parameters": {
    "config": {
     "data_path": "C:/Users/nico_/Desktop/ITBA/TFI/global fishing watch/dataset/trawlers.csv",
     "notebook": "notebooks/feature_engineering.ipynb",
     "output_label": "trawlers"
    }
   },
   "start_time": "2022-04-14T23:42:29.087976",
   "version": "2.3.4"
  }
 },
 "nbformat": 4,
 "nbformat_minor": 5
}
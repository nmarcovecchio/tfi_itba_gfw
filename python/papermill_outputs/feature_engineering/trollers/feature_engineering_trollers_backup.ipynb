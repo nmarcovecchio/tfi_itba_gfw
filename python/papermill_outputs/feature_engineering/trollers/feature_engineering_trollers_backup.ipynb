{
 "cells": [
  {
   "cell_type": "markdown",
   "id": "645e1f71",
   "metadata": {
    "tags": [
     "papermill-error-cell-tag"
    ]
   },
   "source": [
    "<span style=\"color:red; font-family:Helvetica Neue, Helvetica, Arial, sans-serif; font-size:2em;\">An Exception was encountered at '<a href=\"#papermill-error-cell\">In [14]</a>'.</span>"
   ]
  },
  {
   "cell_type": "code",
   "execution_count": 1,
   "id": "1fcdf873",
   "metadata": {
    "execution": {
     "iopub.execute_input": "2022-04-10T03:22:02.555474Z",
     "iopub.status.busy": "2022-04-10T03:22:02.555474Z",
     "iopub.status.idle": "2022-04-10T03:22:02.562588Z",
     "shell.execute_reply": "2022-04-10T03:22:02.563585Z"
    },
    "papermill": {
     "duration": 0.017974,
     "end_time": "2022-04-10T03:22:02.563585",
     "exception": false,
     "start_time": "2022-04-10T03:22:02.545611",
     "status": "completed"
    },
    "tags": [
     "injected-parameters"
    ]
   },
   "outputs": [],
   "source": [
    "# Parameters\n",
    "config = {\n",
    "    \"notebook\": \"notebooks/feature_engineering.ipynb\",\n",
    "    \"data_path\": \"C:/Users/nico_/Desktop/ITBA/TFI/global fishing watch/dataset/trollers.csv\",\n",
    "    \"output_label\": \"trollers\",\n",
    "}\n"
   ]
  },
  {
   "cell_type": "code",
   "execution_count": 2,
   "id": "e990b23c",
   "metadata": {
    "execution": {
     "iopub.execute_input": "2022-04-10T03:22:02.581538Z",
     "iopub.status.busy": "2022-04-10T03:22:02.580540Z",
     "iopub.status.idle": "2022-04-10T03:22:02.594919Z",
     "shell.execute_reply": "2022-04-10T03:22:02.593920Z"
    },
    "papermill": {
     "duration": 0.024354,
     "end_time": "2022-04-10T03:22:02.594919",
     "exception": false,
     "start_time": "2022-04-10T03:22:02.570565",
     "status": "completed"
    },
    "tags": []
   },
   "outputs": [
    {
     "name": "stdout",
     "output_type": "stream",
     "text": [
      "{'notebook': 'notebooks/feature_engineering.ipynb', 'data_path': 'C:/Users/nico_/Desktop/ITBA/TFI/global fishing watch/dataset/trollers.csv', 'output_label': 'trollers'}\n"
     ]
    }
   ],
   "source": [
    "# check if config exists\n",
    "try:\n",
    "    config\n",
    "except NameError:\n",
    "    config_exists = False\n",
    "else:\n",
    "    config_exists = True\n",
    "\n",
    "# make config if it does not exist already (e.g. passed in by papermill)\n",
    "if not(config_exists):\n",
    "    # set up some config for the experiment run\n",
    "    config = {\n",
    "        \"data_path\" : \"C:/Users/nico_/Desktop/ITBA/TFI/global fishing watch/dataset/trollers.csv\",\n",
    "        \"output_label\": \"trollers\"\n",
    "    }\n",
    "print(config)"
   ]
  },
  {
   "cell_type": "code",
   "execution_count": 3,
   "id": "af2fa5d2",
   "metadata": {
    "execution": {
     "iopub.execute_input": "2022-04-10T03:22:02.615860Z",
     "iopub.status.busy": "2022-04-10T03:22:02.614891Z",
     "iopub.status.idle": "2022-04-10T03:22:04.863201Z",
     "shell.execute_reply": "2022-04-10T03:22:04.863201Z"
    },
    "papermill": {
     "duration": 2.26133,
     "end_time": "2022-04-10T03:22:04.864226",
     "exception": false,
     "start_time": "2022-04-10T03:22:02.602896",
     "status": "completed"
    },
    "tags": []
   },
   "outputs": [],
   "source": [
    "import pandas as pd\n",
    "import numpy as np\n",
    "from sklearn.tree import DecisionTreeClassifier # Import Decision Tree Classifier\n",
    "from sklearn.model_selection import train_test_split # Import train_test_split function\n",
    "from sklearn import metrics #Import scikit-learn metrics module for accuracy calculation\n",
    "\n",
    "df = pd.read_csv(config['data_path'], header=\"infer\", sep=\",\",error_bad_lines=False, engine ='python')\n",
    "\n",
    "#Nos quedamos con los puntos que estan mayor a 3 millas nauticas de la costa.\n",
    "df = df[(df['distance_from_shore'] >= 5556)]\n",
    "\n",
    "#Nos quedamos solamente con los valores que estamos seguros que esta o no esta pescando.\n",
    "df = df[(df['is_fishing'] == -1.0)  | (df['is_fishing'] == 1.0) ]\n",
    "\n",
    "#Renombramos las columnas de la variable a predecir de si esta pescando o no.\n",
    "df[\"is_fishing\"] = np.where(df[\"is_fishing\"] == 1.0, 'SI', 'NO')\n",
    "\n",
    "#Dropeamos los que contienen el mismo timestamp.\n",
    "df = df.drop_duplicates(subset='timestamp', keep=\"first\")\n",
    "\n",
    "df[\"timestamp\"]=df[\"timestamp\"].astype(int)\n",
    "#df['date_series'] = pd.to_datetime(df['timestamp'],unit='s')\n",
    "#df = df.set_index('date_series') \n",
    "df['datetime'] = pd.to_datetime(df['timestamp'],unit='s')\n",
    "df.index = df.datetime\n",
    "#print(df['date_series'])\n",
    "\n",
    "\n",
    "#print(df.resample('60Min',on='datetime'))\n",
    "df = df.resample('5Min',on='datetime').agg('first').dropna()  \n",
    "df.reset_index(drop=True, inplace=True)\n",
    "#print(df)"
   ]
  },
  {
   "cell_type": "code",
   "execution_count": 4,
   "id": "908783e4",
   "metadata": {
    "execution": {
     "iopub.execute_input": "2022-04-10T03:22:04.883147Z",
     "iopub.status.busy": "2022-04-10T03:22:04.882178Z",
     "iopub.status.idle": "2022-04-10T03:22:05.270291Z",
     "shell.execute_reply": "2022-04-10T03:22:05.270291Z"
    },
    "papermill": {
     "duration": 0.399111,
     "end_time": "2022-04-10T03:22:05.270291",
     "exception": false,
     "start_time": "2022-04-10T03:22:04.871180",
     "status": "completed"
    },
    "tags": []
   },
   "outputs": [],
   "source": [
    "#There are multiple definitions for night, depending if it's for civil (-6°), nautical (-12°) or astronomical (-18°) purposes. \n",
    "# Just pick a treshold : if the sun is below, it's nighttime!\n",
    "\n",
    "import ephem\n",
    "import math\n",
    "import datetime\n",
    "\n",
    "def get_day_night(lat,lon,datetime): \n",
    "    sun = ephem.Sun()\n",
    "    observer = ephem.Observer()\n",
    "    # ↓ Define your coordinates here ↓\n",
    "    observer.lat, observer.lon, observer.elevation = lat, lon, 0\n",
    "    # ↓ Set the time (UTC) here ↓\n",
    "    #observer.date = datetime.datetime.utcnow()\n",
    "    observer.date=datetime\n",
    "    sun.compute(observer)\n",
    "    current_sun_alt = sun.alt\n",
    "    if (current_sun_alt*180/math.pi) < -12.0 :\n",
    "        return 2\n",
    "    else:\n",
    "        return 1\n",
    "    \n",
    "df['sun_state'] = df.apply(lambda x: get_day_night(x['lat'], x['lon'],x['datetime']), axis=1)"
   ]
  },
  {
   "cell_type": "code",
   "execution_count": 5,
   "id": "913987c7",
   "metadata": {
    "execution": {
     "iopub.execute_input": "2022-04-10T03:22:05.288243Z",
     "iopub.status.busy": "2022-04-10T03:22:05.288243Z",
     "iopub.status.idle": "2022-04-10T03:22:05.301336Z",
     "shell.execute_reply": "2022-04-10T03:22:05.301336Z"
    },
    "papermill": {
     "duration": 0.023066,
     "end_time": "2022-04-10T03:22:05.301336",
     "exception": false,
     "start_time": "2022-04-10T03:22:05.278270",
     "status": "completed"
    },
    "tags": []
   },
   "outputs": [
    {
     "data": {
      "text/plain": [
       "1    8934\n",
       "2    5107\n",
       "Name: sun_state, dtype: int64"
      ]
     },
     "execution_count": 5,
     "metadata": {},
     "output_type": "execute_result"
    }
   ],
   "source": [
    "df[\"sun_state\"].value_counts()"
   ]
  },
  {
   "cell_type": "markdown",
   "id": "a9473c67",
   "metadata": {
    "papermill": {
     "duration": 0.008005,
     "end_time": "2022-04-10T03:22:05.318318",
     "exception": false,
     "start_time": "2022-04-10T03:22:05.310313",
     "status": "completed"
    },
    "tags": []
   },
   "source": [
    "Se pesca mas de noche, que de dia"
   ]
  },
  {
   "cell_type": "code",
   "execution_count": 6,
   "id": "ab55e7aa",
   "metadata": {
    "execution": {
     "iopub.execute_input": "2022-04-10T03:22:05.336242Z",
     "iopub.status.busy": "2022-04-10T03:22:05.336242Z",
     "iopub.status.idle": "2022-04-10T03:22:05.364029Z",
     "shell.execute_reply": "2022-04-10T03:22:05.364029Z"
    },
    "papermill": {
     "duration": 0.038726,
     "end_time": "2022-04-10T03:22:05.364029",
     "exception": false,
     "start_time": "2022-04-10T03:22:05.325303",
     "status": "completed"
    },
    "tags": []
   },
   "outputs": [
    {
     "name": "stdout",
     "output_type": "stream",
     "text": [
      "           sun_state                                   \n",
      "               count      mean       std  min  50%  max\n",
      "is_fishing                                             \n",
      "NO           12755.0  1.369894  0.482795  1.0  1.0  2.0\n",
      "SI            1286.0  1.302488  0.459514  1.0  1.0  2.0\n"
     ]
    }
   ],
   "source": [
    "print(df.groupby([\"is_fishing\"])[['sun_state']].describe(percentiles=[]))"
   ]
  },
  {
   "cell_type": "code",
   "execution_count": 7,
   "id": "cff6e708",
   "metadata": {
    "execution": {
     "iopub.execute_input": "2022-04-10T03:22:05.383976Z",
     "iopub.status.busy": "2022-04-10T03:22:05.383007Z",
     "iopub.status.idle": "2022-04-10T03:22:05.410904Z",
     "shell.execute_reply": "2022-04-10T03:22:05.410904Z"
    },
    "papermill": {
     "duration": 0.038869,
     "end_time": "2022-04-10T03:22:05.410904",
     "exception": false,
     "start_time": "2022-04-10T03:22:05.372035",
     "status": "completed"
    },
    "tags": []
   },
   "outputs": [],
   "source": [
    "def haversine_np(lon1, lat1, lon2, lat2):\n",
    "    lon1, lat1, lon2, lat2 = map(np.radians, [lon1, lat1, lon2, lat2])\n",
    "\n",
    "    dlon = lon2 - lon1\n",
    "    dlat = lat2 - lat1\n",
    "\n",
    "    a = np.sin(dlat/2.0)**2 + np.cos(lat1) * np.cos(lat2) * np.sin(dlon/2.0)**2\n",
    "\n",
    "    c = 2 * np.arcsin(np.sqrt(a))\n",
    "    km = 6367 * c\n",
    "    return km\n",
    "\n",
    "def distance(x):\n",
    "    y = x.shift()\n",
    "    return haversine_np(x['lat'], x['lon'], y['lat'], y['lon']).fillna(0)\n",
    "\n",
    "df['distance'] = df.groupby('mmsi').apply(distance).reset_index(level=0, drop=True)"
   ]
  },
  {
   "cell_type": "code",
   "execution_count": 8,
   "id": "43886e36",
   "metadata": {
    "execution": {
     "iopub.execute_input": "2022-04-10T03:22:05.430878Z",
     "iopub.status.busy": "2022-04-10T03:22:05.429881Z",
     "iopub.status.idle": "2022-04-10T03:22:05.440966Z",
     "shell.execute_reply": "2022-04-10T03:22:05.441964Z"
    },
    "papermill": {
     "duration": 0.023082,
     "end_time": "2022-04-10T03:22:05.441964",
     "exception": false,
     "start_time": "2022-04-10T03:22:05.418882",
     "status": "completed"
    },
    "tags": []
   },
   "outputs": [],
   "source": [
    "#Convierto latitud y longitud a radianes\n",
    "df['lat'] = np.radians(df['lat'])\n",
    "df['lon'] = np.radians(df['lon'])"
   ]
  },
  {
   "cell_type": "code",
   "execution_count": 9,
   "id": "68558c8a",
   "metadata": {
    "execution": {
     "iopub.execute_input": "2022-04-10T03:22:05.460941Z",
     "iopub.status.busy": "2022-04-10T03:22:05.459938Z",
     "iopub.status.idle": "2022-04-10T03:22:05.470925Z",
     "shell.execute_reply": "2022-04-10T03:22:05.471911Z"
    },
    "papermill": {
     "duration": 0.02194,
     "end_time": "2022-04-10T03:22:05.471911",
     "exception": false,
     "start_time": "2022-04-10T03:22:05.449971",
     "status": "completed"
    },
    "tags": []
   },
   "outputs": [],
   "source": [
    "#Calculo la diferencia de tiempo entre puntos consecutivos.\n",
    "df['timediff']= df.groupby('mmsi')['timestamp'].diff()"
   ]
  },
  {
   "cell_type": "code",
   "execution_count": 10,
   "id": "2be51fc7",
   "metadata": {
    "execution": {
     "iopub.execute_input": "2022-04-10T03:22:05.489836Z",
     "iopub.status.busy": "2022-04-10T03:22:05.488838Z",
     "iopub.status.idle": "2022-04-10T03:22:05.501945Z",
     "shell.execute_reply": "2022-04-10T03:22:05.501945Z"
    },
    "papermill": {
     "duration": 0.024051,
     "end_time": "2022-04-10T03:22:05.502942",
     "exception": false,
     "start_time": "2022-04-10T03:22:05.478891",
     "status": "completed"
    },
    "tags": []
   },
   "outputs": [],
   "source": [
    "#Normalizamos la variable curso\n",
    "df['course']=df['course']/360.0"
   ]
  },
  {
   "cell_type": "code",
   "execution_count": 11,
   "id": "82b4e2f8",
   "metadata": {
    "execution": {
     "iopub.execute_input": "2022-04-10T03:22:05.522889Z",
     "iopub.status.busy": "2022-04-10T03:22:05.522889Z",
     "iopub.status.idle": "2022-04-10T03:22:05.565229Z",
     "shell.execute_reply": "2022-04-10T03:22:05.565229Z"
    },
    "papermill": {
     "duration": 0.054308,
     "end_time": "2022-04-10T03:22:05.565229",
     "exception": false,
     "start_time": "2022-04-10T03:22:05.510921",
     "status": "completed"
    },
    "tags": []
   },
   "outputs": [],
   "source": [
    "#Agregar esto deberia de hacer robusto a mi algoritmo a LAT/LON y timestamps.\n",
    "\n",
    "\n",
    "\n",
    "#Velocidad entre puntos a partir de la distancia        S = x(t2)-x(t1) / t2 - t1\n",
    "df['S0']= df['distance']/df['timediff']\n",
    "#Aceleracion rectilinea         A = S(t2)-S(t1) / t2 - t1\n",
    "df['A0']= df.groupby('mmsi')['S0'].diff()/df['timediff']\n",
    "#Jerk                           J = A(t2)-A(t1) / t2 - t1\n",
    "df['J0']= df.groupby('mmsi')['A0'].diff()/df['timediff']\n",
    "#Derivada del curso             Phi = C(t2)-C(t1) / t2 - t1\n",
    "df['C0']= df.groupby('mmsi')['course'].diff()/df['timediff']\n",
    "#2 Horas deberia de ser suficientemente informativo para saber el comportamiento del buque (paper subrayado)\n",
    "\n",
    "#Velocidad promedio entre puntos    Vavg = V1 + V2 / 2\n",
    "df['Vavg']  = df.groupby('mmsi')['speed'].transform(lambda x: x.rolling(2, 1).mean())\n",
    "\n",
    "\n",
    "#Variacion de velocidad entre puntos Delta_S = V2 - V1 / 2 \n",
    "df['Delta_S']= (df.groupby('mmsi')['speed'].diff())/2\n",
    "\n",
    "#Curso promedio entre puntos        Cavg = C1 + C2 / 2\n",
    "df['Cavg'] = df.groupby('mmsi')['course'].transform(lambda x: x.rolling(2, 1).mean())\n",
    "#Variacion del curso                DeltaC = C2-C1/2\n",
    "df['Delta_C']= (df.groupby('mmsi')['course'].diff())/2\n"
   ]
  },
  {
   "cell_type": "code",
   "execution_count": 12,
   "id": "8a446831",
   "metadata": {
    "execution": {
     "iopub.execute_input": "2022-04-10T03:22:05.586174Z",
     "iopub.status.busy": "2022-04-10T03:22:05.586174Z",
     "iopub.status.idle": "2022-04-10T03:22:05.611372Z",
     "shell.execute_reply": "2022-04-10T03:22:05.611372Z"
    },
    "papermill": {
     "duration": 0.039107,
     "end_time": "2022-04-10T03:22:05.612343",
     "exception": false,
     "start_time": "2022-04-10T03:22:05.573236",
     "status": "completed"
    },
    "tags": []
   },
   "outputs": [],
   "source": [
    "number_lags = 6\n",
    "columns_to_lag = ['speed','course','S0','A0','J0','C0']\n",
    "\n",
    "#df = pd.DataFrame(data={'vals':[5,4,3,2,1]})\n",
    "for column in columns_to_lag:\n",
    "    for lag in range(1, number_lags + 1):\n",
    "        df[str(column) +'_lag_' + str(lag)] = df[column].shift(lag)\n"
   ]
  },
  {
   "cell_type": "code",
   "execution_count": 13,
   "id": "c461efeb",
   "metadata": {
    "execution": {
     "iopub.execute_input": "2022-04-10T03:22:05.631293Z",
     "iopub.status.busy": "2022-04-10T03:22:05.630327Z",
     "iopub.status.idle": "2022-04-10T03:22:05.642696Z",
     "shell.execute_reply": "2022-04-10T03:22:05.642696Z"
    },
    "papermill": {
     "duration": 0.022375,
     "end_time": "2022-04-10T03:22:05.642696",
     "exception": false,
     "start_time": "2022-04-10T03:22:05.620321",
     "status": "completed"
    },
    "tags": []
   },
   "outputs": [
    {
     "name": "stdout",
     "output_type": "stream",
     "text": [
      "Index(['mmsi', 'timestamp', 'distance_from_shore', 'distance_from_port',\n",
      "       'speed', 'course', 'lat', 'lon', 'is_fishing', 'source', 'datetime',\n",
      "       'sun_state', 'distance', 'timediff', 'S0', 'A0', 'J0', 'C0', 'Vavg',\n",
      "       'Delta_S', 'Cavg', 'Delta_C', 'speed_lag_1', 'speed_lag_2',\n",
      "       'speed_lag_3', 'speed_lag_4', 'speed_lag_5', 'speed_lag_6',\n",
      "       'course_lag_1', 'course_lag_2', 'course_lag_3', 'course_lag_4',\n",
      "       'course_lag_5', 'course_lag_6', 'S0_lag_1', 'S0_lag_2', 'S0_lag_3',\n",
      "       'S0_lag_4', 'S0_lag_5', 'S0_lag_6', 'A0_lag_1', 'A0_lag_2', 'A0_lag_3',\n",
      "       'A0_lag_4', 'A0_lag_5', 'A0_lag_6', 'J0_lag_1', 'J0_lag_2', 'J0_lag_3',\n",
      "       'J0_lag_4', 'J0_lag_5', 'J0_lag_6', 'C0_lag_1', 'C0_lag_2', 'C0_lag_3',\n",
      "       'C0_lag_4', 'C0_lag_5', 'C0_lag_6'],\n",
      "      dtype='object')\n"
     ]
    }
   ],
   "source": [
    "print(df.columns)\n"
   ]
  },
  {
   "cell_type": "markdown",
   "id": "9ff5bb1b",
   "metadata": {
    "tags": [
     "papermill-error-cell-tag"
    ]
   },
   "source": [
    "<span id=\"papermill-error-cell\" style=\"color:red; font-family:Helvetica Neue, Helvetica, Arial, sans-serif; font-size:2em;\">Execution using papermill encountered an exception here and stopped:</span>"
   ]
  },
  {
   "cell_type": "code",
   "execution_count": 14,
   "id": "4d4f756d",
   "metadata": {
    "execution": {
     "iopub.execute_input": "2022-04-10T03:22:05.662643Z",
     "iopub.status.busy": "2022-04-10T03:22:05.661671Z",
     "iopub.status.idle": "2022-04-10T03:22:06.331579Z",
     "shell.execute_reply": "2022-04-10T03:22:06.331579Z"
    },
    "papermill": {
     "duration": 0.680905,
     "end_time": "2022-04-10T03:22:06.331579",
     "exception": true,
     "start_time": "2022-04-10T03:22:05.650674",
     "status": "failed"
    },
    "tags": []
   },
   "outputs": [
    {
     "ename": "OSError",
     "evalue": "[Errno 22] Invalid argument: '../df_procesado/C:/Users/nico_/Desktop/ITBA/TFI/global fishing watch/dataset/trollers.csv_fe.csv'",
     "output_type": "error",
     "traceback": [
      "\u001b[1;31m---------------------------------------------------------------------------\u001b[0m",
      "\u001b[1;31mOSError\u001b[0m                                   Traceback (most recent call last)",
      "\u001b[1;32m<ipython-input-14-836e5455a3f4>\u001b[0m in \u001b[0;36m<module>\u001b[1;34m\u001b[0m\n\u001b[0;32m      1\u001b[0m \u001b[0mdf\u001b[0m \u001b[1;33m=\u001b[0m \u001b[0mdf\u001b[0m\u001b[1;33m.\u001b[0m\u001b[0mdropna\u001b[0m\u001b[1;33m(\u001b[0m\u001b[1;33m)\u001b[0m\u001b[1;33m\u001b[0m\u001b[1;33m\u001b[0m\u001b[0m\n\u001b[1;32m----> 2\u001b[1;33m \u001b[0mdf\u001b[0m\u001b[1;33m.\u001b[0m\u001b[0mto_csv\u001b[0m\u001b[1;33m(\u001b[0m\u001b[1;34mf\"../df_procesado/{config['data_path']}_fe.csv\"\u001b[0m\u001b[1;33m,\u001b[0m\u001b[0msep\u001b[0m\u001b[1;33m=\u001b[0m\u001b[1;34m\",\"\u001b[0m\u001b[1;33m)\u001b[0m\u001b[1;33m\u001b[0m\u001b[1;33m\u001b[0m\u001b[0m\n\u001b[0m",
      "\u001b[1;32mD:\\Users\\nico_\\anaconda3\\lib\\site-packages\\pandas\\core\\generic.py\u001b[0m in \u001b[0;36mto_csv\u001b[1;34m(self, path_or_buf, sep, na_rep, float_format, columns, header, index, index_label, mode, encoding, compression, quoting, quotechar, line_terminator, chunksize, date_format, doublequote, escapechar, decimal, errors, storage_options)\u001b[0m\n\u001b[0;32m   3385\u001b[0m         )\n\u001b[0;32m   3386\u001b[0m \u001b[1;33m\u001b[0m\u001b[0m\n\u001b[1;32m-> 3387\u001b[1;33m         return DataFrameRenderer(formatter).to_csv(\n\u001b[0m\u001b[0;32m   3388\u001b[0m             \u001b[0mpath_or_buf\u001b[0m\u001b[1;33m,\u001b[0m\u001b[1;33m\u001b[0m\u001b[1;33m\u001b[0m\u001b[0m\n\u001b[0;32m   3389\u001b[0m             \u001b[0mline_terminator\u001b[0m\u001b[1;33m=\u001b[0m\u001b[0mline_terminator\u001b[0m\u001b[1;33m,\u001b[0m\u001b[1;33m\u001b[0m\u001b[1;33m\u001b[0m\u001b[0m\n",
      "\u001b[1;32mD:\\Users\\nico_\\anaconda3\\lib\\site-packages\\pandas\\io\\formats\\format.py\u001b[0m in \u001b[0;36mto_csv\u001b[1;34m(self, path_or_buf, encoding, sep, columns, index_label, mode, compression, quoting, quotechar, line_terminator, chunksize, date_format, doublequote, escapechar, errors, storage_options)\u001b[0m\n\u001b[0;32m   1081\u001b[0m             \u001b[0mformatter\u001b[0m\u001b[1;33m=\u001b[0m\u001b[0mself\u001b[0m\u001b[1;33m.\u001b[0m\u001b[0mfmt\u001b[0m\u001b[1;33m,\u001b[0m\u001b[1;33m\u001b[0m\u001b[1;33m\u001b[0m\u001b[0m\n\u001b[0;32m   1082\u001b[0m         )\n\u001b[1;32m-> 1083\u001b[1;33m         \u001b[0mcsv_formatter\u001b[0m\u001b[1;33m.\u001b[0m\u001b[0msave\u001b[0m\u001b[1;33m(\u001b[0m\u001b[1;33m)\u001b[0m\u001b[1;33m\u001b[0m\u001b[1;33m\u001b[0m\u001b[0m\n\u001b[0m\u001b[0;32m   1084\u001b[0m \u001b[1;33m\u001b[0m\u001b[0m\n\u001b[0;32m   1085\u001b[0m         \u001b[1;32mif\u001b[0m \u001b[0mcreated_buffer\u001b[0m\u001b[1;33m:\u001b[0m\u001b[1;33m\u001b[0m\u001b[1;33m\u001b[0m\u001b[0m\n",
      "\u001b[1;32mD:\\Users\\nico_\\anaconda3\\lib\\site-packages\\pandas\\io\\formats\\csvs.py\u001b[0m in \u001b[0;36msave\u001b[1;34m(self)\u001b[0m\n\u001b[0;32m    226\u001b[0m         \"\"\"\n\u001b[0;32m    227\u001b[0m         \u001b[1;31m# apply compression and byte/text conversion\u001b[0m\u001b[1;33m\u001b[0m\u001b[1;33m\u001b[0m\u001b[1;33m\u001b[0m\u001b[0m\n\u001b[1;32m--> 228\u001b[1;33m         with get_handle(\n\u001b[0m\u001b[0;32m    229\u001b[0m             \u001b[0mself\u001b[0m\u001b[1;33m.\u001b[0m\u001b[0mfilepath_or_buffer\u001b[0m\u001b[1;33m,\u001b[0m\u001b[1;33m\u001b[0m\u001b[1;33m\u001b[0m\u001b[0m\n\u001b[0;32m    230\u001b[0m             \u001b[0mself\u001b[0m\u001b[1;33m.\u001b[0m\u001b[0mmode\u001b[0m\u001b[1;33m,\u001b[0m\u001b[1;33m\u001b[0m\u001b[1;33m\u001b[0m\u001b[0m\n",
      "\u001b[1;32mD:\\Users\\nico_\\anaconda3\\lib\\site-packages\\pandas\\io\\common.py\u001b[0m in \u001b[0;36mget_handle\u001b[1;34m(path_or_buf, mode, encoding, compression, memory_map, is_text, errors, storage_options)\u001b[0m\n\u001b[0;32m    640\u001b[0m                 \u001b[0merrors\u001b[0m \u001b[1;33m=\u001b[0m \u001b[1;34m\"replace\"\u001b[0m\u001b[1;33m\u001b[0m\u001b[1;33m\u001b[0m\u001b[0m\n\u001b[0;32m    641\u001b[0m             \u001b[1;31m# Encoding\u001b[0m\u001b[1;33m\u001b[0m\u001b[1;33m\u001b[0m\u001b[1;33m\u001b[0m\u001b[0m\n\u001b[1;32m--> 642\u001b[1;33m             handle = open(\n\u001b[0m\u001b[0;32m    643\u001b[0m                 \u001b[0mhandle\u001b[0m\u001b[1;33m,\u001b[0m\u001b[1;33m\u001b[0m\u001b[1;33m\u001b[0m\u001b[0m\n\u001b[0;32m    644\u001b[0m                 \u001b[0mioargs\u001b[0m\u001b[1;33m.\u001b[0m\u001b[0mmode\u001b[0m\u001b[1;33m,\u001b[0m\u001b[1;33m\u001b[0m\u001b[1;33m\u001b[0m\u001b[0m\n",
      "\u001b[1;31mOSError\u001b[0m: [Errno 22] Invalid argument: '../df_procesado/C:/Users/nico_/Desktop/ITBA/TFI/global fishing watch/dataset/trollers.csv_fe.csv'"
     ]
    }
   ],
   "source": [
    "df = df.dropna()\n",
    "df.to_csv(f\"../df_procesado/{config['data_path']}_fe.csv\",sep=\",\")  "
   ]
  },
  {
   "cell_type": "code",
   "execution_count": null,
   "id": "12afb9f8",
   "metadata": {
    "papermill": {
     "duration": null,
     "end_time": null,
     "exception": null,
     "start_time": null,
     "status": "pending"
    },
    "tags": []
   },
   "outputs": [],
   "source": [
    "print(df.count())"
   ]
  }
 ],
 "metadata": {
  "interpreter": {
   "hash": "db2a60f505a9041374f6f3fb78368755bb5bc9c69ef08139ad82abb6b35de715"
  },
  "kernelspec": {
   "display_name": "Python 3.8.8 64-bit ('base': conda)",
   "name": "python3"
  },
  "language_info": {
   "codemirror_mode": {
    "name": "ipython",
    "version": 3
   },
   "file_extension": ".py",
   "mimetype": "text/x-python",
   "name": "python",
   "nbconvert_exporter": "python",
   "pygments_lexer": "ipython3",
   "version": "3.8.8"
  },
  "papermill": {
   "default_parameters": {},
   "duration": 6.017034,
   "end_time": "2022-04-10T03:22:06.764734",
   "environment_variables": {},
   "exception": true,
   "input_path": "notebooks/feature_engineering.ipynb",
   "output_path": "papermill_outputs/feature_engineering/trollers/feature_engineering_trollers.ipynb",
   "parameters": {
    "config": {
     "data_path": "C:/Users/nico_/Desktop/ITBA/TFI/global fishing watch/dataset/trollers.csv",
     "notebook": "notebooks/feature_engineering.ipynb",
     "output_label": "trollers"
    }
   },
   "start_time": "2022-04-10T03:22:00.747700",
   "version": "2.3.4"
  }
 },
 "nbformat": 4,
 "nbformat_minor": 5
}
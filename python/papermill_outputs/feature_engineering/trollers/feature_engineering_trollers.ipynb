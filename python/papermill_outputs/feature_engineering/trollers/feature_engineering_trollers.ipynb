{
 "cells": [
  {
   "cell_type": "code",
   "execution_count": 1,
   "id": "9d77a469",
   "metadata": {
    "execution": {
     "iopub.execute_input": "2022-06-17T14:52:39.245033Z",
     "iopub.status.busy": "2022-06-17T14:52:39.244036Z",
     "iopub.status.idle": "2022-06-17T14:52:39.259993Z",
     "shell.execute_reply": "2022-06-17T14:52:39.260991Z"
    },
    "papermill": {
     "duration": 0.032913,
     "end_time": "2022-06-17T14:52:39.260991",
     "exception": false,
     "start_time": "2022-06-17T14:52:39.228078",
     "status": "completed"
    },
    "tags": [
     "injected-parameters"
    ]
   },
   "outputs": [],
   "source": [
    "# Parameters\n",
    "config = {\n",
    "    \"notebook\": \"notebooks/feature_engineering.ipynb\",\n",
    "    \"data_path\": \"C:/Users/nico_/Desktop/ITBA/TFI/global fishing watch/dataset/trollers.csv\",\n",
    "    \"output_label\": \"trollers\",\n",
    "}\n"
   ]
  },
  {
   "cell_type": "code",
   "execution_count": 2,
   "id": "36d56c3c",
   "metadata": {
    "execution": {
     "iopub.execute_input": "2022-06-17T14:52:39.306868Z",
     "iopub.status.busy": "2022-06-17T14:52:39.305871Z",
     "iopub.status.idle": "2022-06-17T14:52:39.322825Z",
     "shell.execute_reply": "2022-06-17T14:52:39.322825Z"
    },
    "papermill": {
     "duration": 0.03391,
     "end_time": "2022-06-17T14:52:39.322825",
     "exception": false,
     "start_time": "2022-06-17T14:52:39.288915",
     "status": "completed"
    },
    "tags": []
   },
   "outputs": [
    {
     "name": "stdout",
     "output_type": "stream",
     "text": [
      "{'notebook': 'notebooks/feature_engineering.ipynb', 'data_path': 'C:/Users/nico_/Desktop/ITBA/TFI/global fishing watch/dataset/trollers.csv', 'output_label': 'trollers'}\n"
     ]
    }
   ],
   "source": [
    "# check if config exists\n",
    "try:\n",
    "    config\n",
    "except NameError:\n",
    "    config_exists = False\n",
    "else:\n",
    "    config_exists = True\n",
    "\n",
    "# make config if it does not exist already (e.g. passed in by papermill)\n",
    "if not(config_exists):\n",
    "    # set up some config for the experiment run\n",
    "    config = {\n",
    "        \"data_path\" : \"C:/Users/nico_/Desktop/ITBA/TFI/global fishing watch/dataset/trollers.csv\",\n",
    "        \"output_label\": \"trollers\"\n",
    "    }\n",
    "print(config)"
   ]
  },
  {
   "cell_type": "code",
   "execution_count": 3,
   "id": "299f5719",
   "metadata": {
    "execution": {
     "iopub.execute_input": "2022-06-17T14:52:39.357731Z",
     "iopub.status.busy": "2022-06-17T14:52:39.356734Z",
     "iopub.status.idle": "2022-06-17T14:52:50.317406Z",
     "shell.execute_reply": "2022-06-17T14:52:50.318403Z"
    },
    "papermill": {
     "duration": 10.980618,
     "end_time": "2022-06-17T14:52:50.318403",
     "exception": false,
     "start_time": "2022-06-17T14:52:39.337785",
     "status": "completed"
    },
    "tags": []
   },
   "outputs": [],
   "source": [
    "import pandas as pd\n",
    "import numpy as np\n",
    "from sklearn.tree import DecisionTreeClassifier # Import Decision Tree Classifier\n",
    "from sklearn.model_selection import train_test_split # Import train_test_split function\n",
    "from sklearn import metrics #Import scikit-learn metrics module for accuracy calculation\n",
    "\n",
    "df = pd.read_csv(config['data_path'], header=\"infer\", sep=\",\",error_bad_lines=False, engine ='python')\n",
    "\n",
    "#Nos quedamos con los puntos que estan mayor a 3 millas nauticas de la costa.\n",
    "df = df[(df['distance_from_shore'] >= 5556)]\n",
    "\n",
    "#Nos quedamos solamente con los valores que estamos seguros que esta o no esta pescando.\n",
    "df = df[(df['is_fishing'] == -1.0)  | (df['is_fishing'] == 1.0) ]\n",
    "\n",
    "#Renombramos las columnas de la variable a predecir de si esta pescando o no.\n",
    "df[\"is_fishing\"] = np.where(df[\"is_fishing\"] == 1.0, 'SI', 'NO')\n",
    "\n",
    "#Dropeamos los que contienen el mismo timestamp.\n",
    "df = df.drop_duplicates(subset='timestamp', keep=\"first\")\n",
    "\n",
    "df[\"timestamp\"]=df[\"timestamp\"].astype(int)\n",
    "#df['date_series'] = pd.to_datetime(df['timestamp'],unit='s')\n",
    "#df = df.set_index('date_series') \n",
    "df['datetime'] = pd.to_datetime(df['timestamp'],unit='s')\n",
    "df.index = df.datetime\n",
    "#print(df['date_series'])\n",
    "\n",
    "aux = df\n"
   ]
  },
  {
   "cell_type": "code",
   "execution_count": 4,
   "id": "1a98a47a",
   "metadata": {
    "execution": {
     "iopub.execute_input": "2022-06-17T14:52:50.372259Z",
     "iopub.status.busy": "2022-06-17T14:52:50.372259Z",
     "iopub.status.idle": "2022-06-17T14:52:50.789145Z",
     "shell.execute_reply": "2022-06-17T14:52:50.790141Z"
    },
    "papermill": {
     "duration": 0.434837,
     "end_time": "2022-06-17T14:52:50.790141",
     "exception": false,
     "start_time": "2022-06-17T14:52:50.355304",
     "status": "completed"
    },
    "tags": []
   },
   "outputs": [
    {
     "name": "stdout",
     "output_type": "stream",
     "text": [
      "21398\n"
     ]
    },
    {
     "name": "stdout",
     "output_type": "stream",
     "text": [
      "14041\n"
     ]
    }
   ],
   "source": [
    "#print(df.resample('60Min',on='datetime'))\n",
    "df = aux\n",
    "print(len(df))\n",
    "df = df.resample('5Min',on='datetime').agg('first').dropna()  \n",
    "df.reset_index(drop=True, inplace=True)\n",
    "print(len(df))\n",
    "#print(df)"
   ]
  },
  {
   "cell_type": "code",
   "execution_count": 5,
   "id": "ce0641d8",
   "metadata": {
    "execution": {
     "iopub.execute_input": "2022-06-17T14:52:50.827042Z",
     "iopub.status.busy": "2022-06-17T14:52:50.827042Z",
     "iopub.status.idle": "2022-06-17T14:52:50.865939Z",
     "shell.execute_reply": "2022-06-17T14:52:50.866936Z"
    },
    "papermill": {
     "duration": 0.059841,
     "end_time": "2022-06-17T14:52:50.866936",
     "exception": false,
     "start_time": "2022-06-17T14:52:50.807095",
     "status": "completed"
    },
    "tags": []
   },
   "outputs": [
    {
     "name": "stdout",
     "output_type": "stream",
     "text": [
      "   timestamp  valores            datetime\n",
      "0          1        3 1970-01-01 00:00:01\n",
      "1          2        4 1970-01-01 00:00:02\n",
      "2          3        5 1970-01-01 00:00:03\n",
      "3          4        6 1970-01-01 00:00:04\n",
      "4        120        7 1970-01-01 00:02:00\n",
      "5        241        8 1970-01-01 00:04:01\n",
      "6        421        9 1970-01-01 00:07:01\n",
      "                     timestamp  valores            datetime\n",
      "datetime                                                   \n",
      "1970-01-01 00:00:00        1.0      3.0 1970-01-01 00:00:01\n",
      "1970-01-01 00:02:00      120.0      7.0 1970-01-01 00:02:00\n",
      "1970-01-01 00:04:00      241.0      8.0 1970-01-01 00:04:01\n",
      "1970-01-01 00:07:00      421.0      9.0 1970-01-01 00:07:01\n"
     ]
    }
   ],
   "source": [
    "#EJEMPLO DE RESAMPLE PARA VER QUE FUNCIONA OK.\n",
    "d = {'timestamp': [1, 2,3,4,60*2,60*4+1,60*7+1], 'valores': [3, 4,5,6,7,8,9]}\n",
    "d = pd.DataFrame(data=d)\n",
    "\n",
    "d['datetime'] = pd.to_datetime(d['timestamp'],unit='s')\n",
    "print(d)\n",
    "\n",
    "d = d.resample('1Min',on='datetime').agg('first').dropna()  \n",
    "print(d)"
   ]
  },
  {
   "cell_type": "code",
   "execution_count": 6,
   "id": "5cf2bf76",
   "metadata": {
    "execution": {
     "iopub.execute_input": "2022-06-17T14:52:50.899848Z",
     "iopub.status.busy": "2022-06-17T14:52:50.898850Z",
     "iopub.status.idle": "2022-06-17T14:52:51.674774Z",
     "shell.execute_reply": "2022-06-17T14:52:51.673776Z"
    },
    "papermill": {
     "duration": 0.794873,
     "end_time": "2022-06-17T14:52:51.674774",
     "exception": false,
     "start_time": "2022-06-17T14:52:50.879901",
     "status": "completed"
    },
    "tags": []
   },
   "outputs": [],
   "source": [
    "#There are multiple definitions for night, depending if it's for civil (-6°), nautical (-12°) or astronomical (-18°) purposes. \n",
    "# Just pick a treshold : if the sun is below, it's nighttime!\n",
    "\n",
    "import ephem\n",
    "import math\n",
    "import datetime\n",
    "\n",
    "def get_day_night(lat,lon,datetime): \n",
    "    sun = ephem.Sun()\n",
    "    observer = ephem.Observer()\n",
    "    # ↓ Define your coordinates here ↓\n",
    "    observer.lat, observer.lon, observer.elevation = lat, lon, 0\n",
    "    # ↓ Set the time (UTC) here ↓\n",
    "    #observer.date = datetime.datetime.utcnow()\n",
    "    observer.date=datetime\n",
    "    sun.compute(observer)\n",
    "    current_sun_alt = sun.alt\n",
    "    if (current_sun_alt*180/math.pi) < -12.0 :\n",
    "        return 2\n",
    "    else:\n",
    "        return 1\n",
    "    \n",
    "df['sun_state'] = df.apply(lambda x: get_day_night(x['lat'], x['lon'],x['datetime']), axis=1)"
   ]
  },
  {
   "cell_type": "code",
   "execution_count": 7,
   "id": "de13788b",
   "metadata": {
    "execution": {
     "iopub.execute_input": "2022-06-17T14:52:51.707686Z",
     "iopub.status.busy": "2022-06-17T14:52:51.707686Z",
     "iopub.status.idle": "2022-06-17T14:52:51.720651Z",
     "shell.execute_reply": "2022-06-17T14:52:51.719654Z"
    },
    "papermill": {
     "duration": 0.030917,
     "end_time": "2022-06-17T14:52:51.720651",
     "exception": false,
     "start_time": "2022-06-17T14:52:51.689734",
     "status": "completed"
    },
    "tags": []
   },
   "outputs": [
    {
     "data": {
      "text/plain": [
       "1    8934\n",
       "2    5107\n",
       "Name: sun_state, dtype: int64"
      ]
     },
     "execution_count": 7,
     "metadata": {},
     "output_type": "execute_result"
    }
   ],
   "source": [
    "df[\"sun_state\"].value_counts()"
   ]
  },
  {
   "cell_type": "markdown",
   "id": "990eda3c",
   "metadata": {
    "papermill": {
     "duration": 0.013961,
     "end_time": "2022-06-17T14:52:51.749573",
     "exception": false,
     "start_time": "2022-06-17T14:52:51.735612",
     "status": "completed"
    },
    "tags": []
   },
   "source": [
    "Se pesca mas de noche, que de dia"
   ]
  },
  {
   "cell_type": "code",
   "execution_count": 8,
   "id": "44f3b113",
   "metadata": {
    "execution": {
     "iopub.execute_input": "2022-06-17T14:52:51.783483Z",
     "iopub.status.busy": "2022-06-17T14:52:51.782485Z",
     "iopub.status.idle": "2022-06-17T14:52:51.826368Z",
     "shell.execute_reply": "2022-06-17T14:52:51.827365Z"
    },
    "papermill": {
     "duration": 0.063829,
     "end_time": "2022-06-17T14:52:51.827365",
     "exception": false,
     "start_time": "2022-06-17T14:52:51.763536",
     "status": "completed"
    },
    "tags": []
   },
   "outputs": [
    {
     "name": "stdout",
     "output_type": "stream",
     "text": [
      "           sun_state                                   \n",
      "               count      mean       std  min  50%  max\n",
      "is_fishing                                             \n",
      "NO           12755.0  1.369894  0.482795  1.0  1.0  2.0\n",
      "SI            1286.0  1.302488  0.459514  1.0  1.0  2.0\n"
     ]
    }
   ],
   "source": [
    "print(df.groupby([\"is_fishing\"])[['sun_state']].describe(percentiles=[]))"
   ]
  },
  {
   "cell_type": "code",
   "execution_count": 9,
   "id": "41b4fa62",
   "metadata": {
    "execution": {
     "iopub.execute_input": "2022-06-17T14:52:51.863269Z",
     "iopub.status.busy": "2022-06-17T14:52:51.863269Z",
     "iopub.status.idle": "2022-06-17T14:52:51.903162Z",
     "shell.execute_reply": "2022-06-17T14:52:51.902165Z"
    },
    "papermill": {
     "duration": 0.061834,
     "end_time": "2022-06-17T14:52:51.903162",
     "exception": false,
     "start_time": "2022-06-17T14:52:51.841328",
     "status": "completed"
    },
    "tags": []
   },
   "outputs": [],
   "source": [
    "def haversine_np(lon1, lat1, lon2, lat2):\n",
    "    lon1, lat1, lon2, lat2 = map(np.radians, [lon1, lat1, lon2, lat2])\n",
    "\n",
    "    dlon = lon2 - lon1\n",
    "    dlat = lat2 - lat1\n",
    "\n",
    "    a = np.sin(dlat/2.0)**2 + np.cos(lat1) * np.cos(lat2) * np.sin(dlon/2.0)**2\n",
    "\n",
    "    c = 2 * np.arcsin(np.sqrt(a))\n",
    "    km = 6367 * c\n",
    "    return km\n",
    "\n",
    "def distance(x):\n",
    "    y = x.shift()\n",
    "    return haversine_np(x['lat'], x['lon'], y['lat'], y['lon']).fillna(0)\n",
    "\n",
    "df['distance'] = df.groupby('mmsi').apply(distance).reset_index(level=0, drop=True)"
   ]
  },
  {
   "cell_type": "code",
   "execution_count": 10,
   "id": "c4f2b578",
   "metadata": {
    "execution": {
     "iopub.execute_input": "2022-06-17T14:52:51.935077Z",
     "iopub.status.busy": "2022-06-17T14:52:51.935077Z",
     "iopub.status.idle": "2022-06-17T14:52:51.949040Z",
     "shell.execute_reply": "2022-06-17T14:52:51.950037Z"
    },
    "papermill": {
     "duration": 0.032912,
     "end_time": "2022-06-17T14:52:51.950037",
     "exception": false,
     "start_time": "2022-06-17T14:52:51.917125",
     "status": "completed"
    },
    "tags": []
   },
   "outputs": [],
   "source": [
    "#Convierto latitud y longitud a radianes\n",
    "df['lat'] = np.radians(df['lat'])\n",
    "df['lon'] = np.radians(df['lon'])"
   ]
  },
  {
   "cell_type": "code",
   "execution_count": 11,
   "id": "f40d5177",
   "metadata": {
    "execution": {
     "iopub.execute_input": "2022-06-17T14:52:51.983947Z",
     "iopub.status.busy": "2022-06-17T14:52:51.983947Z",
     "iopub.status.idle": "2022-06-17T14:52:51.994917Z",
     "shell.execute_reply": "2022-06-17T14:52:51.995914Z"
    },
    "papermill": {
     "duration": 0.031915,
     "end_time": "2022-06-17T14:52:51.995914",
     "exception": false,
     "start_time": "2022-06-17T14:52:51.963999",
     "status": "completed"
    },
    "tags": []
   },
   "outputs": [],
   "source": [
    "#Calculo la diferencia de tiempo entre puntos consecutivos.\n",
    "df['timediff']= df.groupby('mmsi')['timestamp'].diff()"
   ]
  },
  {
   "cell_type": "code",
   "execution_count": 12,
   "id": "cea432bd",
   "metadata": {
    "execution": {
     "iopub.execute_input": "2022-06-17T14:52:52.028826Z",
     "iopub.status.busy": "2022-06-17T14:52:52.027829Z",
     "iopub.status.idle": "2022-06-17T14:52:52.362933Z",
     "shell.execute_reply": "2022-06-17T14:52:52.362933Z"
    },
    "papermill": {
     "duration": 0.352059,
     "end_time": "2022-06-17T14:52:52.362933",
     "exception": false,
     "start_time": "2022-06-17T14:52:52.010874",
     "status": "completed"
    },
    "tags": []
   },
   "outputs": [],
   "source": [
    "#Normalizamos la variable curso\n",
    "df['course']=df['course']/360.0"
   ]
  },
  {
   "cell_type": "code",
   "execution_count": 13,
   "id": "284fcb5c",
   "metadata": {
    "execution": {
     "iopub.execute_input": "2022-06-17T14:52:52.407813Z",
     "iopub.status.busy": "2022-06-17T14:52:52.406816Z",
     "iopub.status.idle": "2022-06-17T14:52:52.483609Z",
     "shell.execute_reply": "2022-06-17T14:52:52.484607Z"
    },
    "papermill": {
     "duration": 0.10073,
     "end_time": "2022-06-17T14:52:52.484607",
     "exception": false,
     "start_time": "2022-06-17T14:52:52.383877",
     "status": "completed"
    },
    "tags": []
   },
   "outputs": [],
   "source": [
    "#Agregar esto deberia de hacer robusto a mi algoritmo a LAT/LON y timestamps.\n",
    "\n",
    "#Velocidad entre puntos a partir de la distancia        S = x(t2)-x(t1) / t2 - t1\n",
    "df['S0']= df['distance']/df['timediff']\n",
    "#Aceleracion rectilinea         A = S(t2)-S(t1) / t2 - t1\n",
    "df['A0']= df.groupby('mmsi')['S0'].diff()/df['timediff']\n",
    "#Jerk                           J = A(t2)-A(t1) / t2 - t1\n",
    "df['J0']= df.groupby('mmsi')['A0'].diff()/df['timediff']\n",
    "#Derivada del curso             Phi = C(t2)-C(t1) / t2 - t1\n",
    "df['C0']= df.groupby('mmsi')['course'].diff()/df['timediff']\n",
    "#2 Horas deberia de ser suficientemente informativo para saber el comportamiento del buque \n",
    "#Agregar paper.\n",
    "\n",
    "#Velocidad promedio entre puntos    Vavg = V1 + V2 / 2\n",
    "df['Vavg']  = df.groupby('mmsi')['speed'].transform(lambda x: x.rolling(2, 1).mean())\n",
    "\n",
    "\n",
    "#Variacion de velocidad entre puntos Delta_S = V2 - V1 / 2 \n",
    "df['Delta_S']= (df.groupby('mmsi')['speed'].diff())/2\n",
    "\n",
    "#Curso promedio entre puntos        Cavg = C1 + C2 / 2\n",
    "df['Cavg'] = df.groupby('mmsi')['course'].transform(lambda x: x.rolling(2, 1).mean())\n",
    "#Variacion del curso                DeltaC = C2-C1/2\n",
    "df['Delta_C']= (df.groupby('mmsi')['course'].diff())/2\n"
   ]
  },
  {
   "cell_type": "code",
   "execution_count": 14,
   "id": "f6c2280e",
   "metadata": {
    "execution": {
     "iopub.execute_input": "2022-06-17T14:52:52.525498Z",
     "iopub.status.busy": "2022-06-17T14:52:52.524500Z",
     "iopub.status.idle": "2022-06-17T14:52:52.560405Z",
     "shell.execute_reply": "2022-06-17T14:52:52.561401Z"
    },
    "papermill": {
     "duration": 0.056848,
     "end_time": "2022-06-17T14:52:52.561401",
     "exception": false,
     "start_time": "2022-06-17T14:52:52.504553",
     "status": "completed"
    },
    "tags": []
   },
   "outputs": [],
   "source": [
    "number_lags = 6\n",
    "columns_to_lag = ['speed','course','S0','A0','J0','C0']\n",
    "\n",
    "#df = pd.DataFrame(data={'vals':[5,4,3,2,1]})\n",
    "for column in columns_to_lag:\n",
    "    for lag in range(1, number_lags + 1):\n",
    "        df[str(column) +'_lag_' + str(lag)] = df[column].shift(lag)\n"
   ]
  },
  {
   "cell_type": "code",
   "execution_count": 15,
   "id": "94f4b0ca",
   "metadata": {
    "execution": {
     "iopub.execute_input": "2022-06-17T14:52:52.596308Z",
     "iopub.status.busy": "2022-06-17T14:52:52.596308Z",
     "iopub.status.idle": "2022-06-17T14:52:52.607278Z",
     "shell.execute_reply": "2022-06-17T14:52:52.608276Z"
    },
    "papermill": {
     "duration": 0.031915,
     "end_time": "2022-06-17T14:52:52.608276",
     "exception": false,
     "start_time": "2022-06-17T14:52:52.576361",
     "status": "completed"
    },
    "tags": []
   },
   "outputs": [
    {
     "name": "stdout",
     "output_type": "stream",
     "text": [
      "Index(['mmsi', 'timestamp', 'distance_from_shore', 'distance_from_port',\n",
      "       'speed', 'course', 'lat', 'lon', 'is_fishing', 'source', 'datetime',\n",
      "       'sun_state', 'distance', 'timediff', 'S0', 'A0', 'J0', 'C0', 'Vavg',\n",
      "       'Delta_S', 'Cavg', 'Delta_C', 'speed_lag_1', 'speed_lag_2',\n",
      "       'speed_lag_3', 'speed_lag_4', 'speed_lag_5', 'speed_lag_6',\n",
      "       'course_lag_1', 'course_lag_2', 'course_lag_3', 'course_lag_4',\n",
      "       'course_lag_5', 'course_lag_6', 'S0_lag_1', 'S0_lag_2', 'S0_lag_3',\n",
      "       'S0_lag_4', 'S0_lag_5', 'S0_lag_6', 'A0_lag_1', 'A0_lag_2', 'A0_lag_3',\n",
      "       'A0_lag_4', 'A0_lag_5', 'A0_lag_6', 'J0_lag_1', 'J0_lag_2', 'J0_lag_3',\n",
      "       'J0_lag_4', 'J0_lag_5', 'J0_lag_6', 'C0_lag_1', 'C0_lag_2', 'C0_lag_3',\n",
      "       'C0_lag_4', 'C0_lag_5', 'C0_lag_6'],\n",
      "      dtype='object')\n"
     ]
    }
   ],
   "source": [
    "print(df.columns)"
   ]
  },
  {
   "cell_type": "code",
   "execution_count": 16,
   "id": "47d02de6",
   "metadata": {
    "execution": {
     "iopub.execute_input": "2022-06-17T14:52:52.653156Z",
     "iopub.status.busy": "2022-06-17T14:52:52.653156Z",
     "iopub.status.idle": "2022-06-17T14:52:54.463313Z",
     "shell.execute_reply": "2022-06-17T14:52:54.464310Z"
    },
    "papermill": {
     "duration": 1.832098,
     "end_time": "2022-06-17T14:52:54.464310",
     "exception": false,
     "start_time": "2022-06-17T14:52:52.632212",
     "status": "completed"
    },
    "tags": []
   },
   "outputs": [],
   "source": [
    "df = df.dropna()\n",
    "df.to_csv(f\"../../df_procesado/{config['output_label']}_fe.csv\",sep=\",\",index=False)  "
   ]
  },
  {
   "cell_type": "code",
   "execution_count": 17,
   "id": "523b34fc",
   "metadata": {
    "execution": {
     "iopub.execute_input": "2022-06-17T14:52:54.501211Z",
     "iopub.status.busy": "2022-06-17T14:52:54.501211Z",
     "iopub.status.idle": "2022-06-17T14:52:54.525147Z",
     "shell.execute_reply": "2022-06-17T14:52:54.525147Z"
    },
    "papermill": {
     "duration": 0.04488,
     "end_time": "2022-06-17T14:52:54.525147",
     "exception": false,
     "start_time": "2022-06-17T14:52:54.480267",
     "status": "completed"
    },
    "tags": []
   },
   "outputs": [
    {
     "name": "stdout",
     "output_type": "stream",
     "text": [
      "1286\n",
      "12710\n"
     ]
    }
   ],
   "source": [
    "print(len(df[df['is_fishing']=='SI']))\n",
    "print(len(df[df['is_fishing']=='NO']))"
   ]
  },
  {
   "cell_type": "code",
   "execution_count": 18,
   "id": "5d73b9d0",
   "metadata": {
    "execution": {
     "iopub.execute_input": "2022-06-17T14:52:54.564043Z",
     "iopub.status.busy": "2022-06-17T14:52:54.564043Z",
     "iopub.status.idle": "2022-06-17T14:52:54.585984Z",
     "shell.execute_reply": "2022-06-17T14:52:54.586981Z"
    },
    "papermill": {
     "duration": 0.042885,
     "end_time": "2022-06-17T14:52:54.586981",
     "exception": false,
     "start_time": "2022-06-17T14:52:54.544096",
     "status": "completed"
    },
    "tags": []
   },
   "outputs": [
    {
     "name": "stdout",
     "output_type": "stream",
     "text": [
      "mmsi                   13996\n",
      "timestamp              13996\n",
      "distance_from_shore    13996\n",
      "distance_from_port     13996\n",
      "speed                  13996\n",
      "course                 13996\n",
      "lat                    13996\n",
      "lon                    13996\n",
      "is_fishing             13996\n",
      "source                 13996\n",
      "datetime               13996\n",
      "sun_state              13996\n",
      "distance               13996\n",
      "timediff               13996\n",
      "S0                     13996\n",
      "A0                     13996\n",
      "J0                     13996\n",
      "C0                     13996\n",
      "Vavg                   13996\n",
      "Delta_S                13996\n",
      "Cavg                   13996\n",
      "Delta_C                13996\n",
      "speed_lag_1            13996\n",
      "speed_lag_2            13996\n",
      "speed_lag_3            13996\n",
      "speed_lag_4            13996\n",
      "speed_lag_5            13996\n",
      "speed_lag_6            13996\n",
      "course_lag_1           13996\n",
      "course_lag_2           13996\n",
      "course_lag_3           13996\n",
      "course_lag_4           13996\n",
      "course_lag_5           13996\n",
      "course_lag_6           13996\n",
      "S0_lag_1               13996\n",
      "S0_lag_2               13996\n",
      "S0_lag_3               13996\n",
      "S0_lag_4               13996\n",
      "S0_lag_5               13996\n",
      "S0_lag_6               13996\n",
      "A0_lag_1               13996\n",
      "A0_lag_2               13996\n",
      "A0_lag_3               13996\n",
      "A0_lag_4               13996\n",
      "A0_lag_5               13996\n",
      "A0_lag_6               13996\n",
      "J0_lag_1               13996\n",
      "J0_lag_2               13996\n",
      "J0_lag_3               13996\n",
      "J0_lag_4               13996\n",
      "J0_lag_5               13996\n",
      "J0_lag_6               13996\n",
      "C0_lag_1               13996\n",
      "C0_lag_2               13996\n",
      "C0_lag_3               13996\n",
      "C0_lag_4               13996\n",
      "C0_lag_5               13996\n",
      "C0_lag_6               13996\n",
      "dtype: int64\n"
     ]
    }
   ],
   "source": [
    "print(df.count())"
   ]
  }
 ],
 "metadata": {
  "interpreter": {
   "hash": "db2a60f505a9041374f6f3fb78368755bb5bc9c69ef08139ad82abb6b35de715"
  },
  "kernelspec": {
   "display_name": "Python 3.8.8 64-bit ('base': conda)",
   "name": "python3"
  },
  "language_info": {
   "codemirror_mode": {
    "name": "ipython",
    "version": 3
   },
   "file_extension": ".py",
   "mimetype": "text/x-python",
   "name": "python",
   "nbconvert_exporter": "python",
   "pygments_lexer": "ipython3",
   "version": "3.8.8"
  },
  "papermill": {
   "default_parameters": {},
   "duration": 27.100485,
   "end_time": "2022-06-17T14:52:54.929066",
   "environment_variables": {},
   "exception": null,
   "input_path": "notebooks/feature_engineering.ipynb",
   "output_path": "papermill_outputs/feature_engineering/trollers/feature_engineering_trollers.ipynb",
   "parameters": {
    "config": {
     "data_path": "C:/Users/nico_/Desktop/ITBA/TFI/global fishing watch/dataset/trollers.csv",
     "notebook": "notebooks/feature_engineering.ipynb",
     "output_label": "trollers"
    }
   },
   "start_time": "2022-06-17T14:52:27.828581",
   "version": "2.3.4"
  }
 },
 "nbformat": 4,
 "nbformat_minor": 5
}
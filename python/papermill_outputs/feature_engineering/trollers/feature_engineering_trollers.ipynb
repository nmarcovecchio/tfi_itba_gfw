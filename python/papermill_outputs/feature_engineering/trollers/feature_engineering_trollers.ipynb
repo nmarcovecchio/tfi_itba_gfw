{
 "cells": [
  {
   "cell_type": "code",
   "execution_count": 1,
   "id": "c9f0d906",
   "metadata": {
    "execution": {
     "iopub.execute_input": "2022-04-10T03:23:12.664745Z",
     "iopub.status.busy": "2022-04-10T03:23:12.664745Z",
     "iopub.status.idle": "2022-04-10T03:23:12.672012Z",
     "shell.execute_reply": "2022-04-10T03:23:12.672012Z"
    },
    "papermill": {
     "duration": 0.016127,
     "end_time": "2022-04-10T03:23:12.672012",
     "exception": false,
     "start_time": "2022-04-10T03:23:12.655885",
     "status": "completed"
    },
    "tags": [
     "injected-parameters"
    ]
   },
   "outputs": [],
   "source": [
    "# Parameters\n",
    "config = {\n",
    "    \"notebook\": \"notebooks/feature_engineering.ipynb\",\n",
    "    \"data_path\": \"C:/Users/nico_/Desktop/ITBA/TFI/global fishing watch/dataset/trollers.csv\",\n",
    "    \"output_label\": \"trollers\",\n",
    "}\n"
   ]
  },
  {
   "cell_type": "code",
   "execution_count": 2,
   "id": "ba912da5",
   "metadata": {
    "execution": {
     "iopub.execute_input": "2022-04-10T03:23:12.689965Z",
     "iopub.status.busy": "2022-04-10T03:23:12.689965Z",
     "iopub.status.idle": "2022-04-10T03:23:12.704061Z",
     "shell.execute_reply": "2022-04-10T03:23:12.704061Z"
    },
    "papermill": {
     "duration": 0.02407,
     "end_time": "2022-04-10T03:23:12.704061",
     "exception": false,
     "start_time": "2022-04-10T03:23:12.679991",
     "status": "completed"
    },
    "tags": []
   },
   "outputs": [
    {
     "name": "stdout",
     "output_type": "stream",
     "text": [
      "{'notebook': 'notebooks/feature_engineering.ipynb', 'data_path': 'C:/Users/nico_/Desktop/ITBA/TFI/global fishing watch/dataset/trollers.csv', 'output_label': 'trollers'}\n"
     ]
    }
   ],
   "source": [
    "# check if config exists\n",
    "try:\n",
    "    config\n",
    "except NameError:\n",
    "    config_exists = False\n",
    "else:\n",
    "    config_exists = True\n",
    "\n",
    "# make config if it does not exist already (e.g. passed in by papermill)\n",
    "if not(config_exists):\n",
    "    # set up some config for the experiment run\n",
    "    config = {\n",
    "        \"data_path\" : \"C:/Users/nico_/Desktop/ITBA/TFI/global fishing watch/dataset/trollers.csv\",\n",
    "        \"output_label\": \"trollers\"\n",
    "    }\n",
    "print(config)"
   ]
  },
  {
   "cell_type": "code",
   "execution_count": 3,
   "id": "121cdc09",
   "metadata": {
    "execution": {
     "iopub.execute_input": "2022-04-10T03:23:12.724030Z",
     "iopub.status.busy": "2022-04-10T03:23:12.724030Z",
     "iopub.status.idle": "2022-04-10T03:23:14.836866Z",
     "shell.execute_reply": "2022-04-10T03:23:14.835848Z"
    },
    "papermill": {
     "duration": 2.1258,
     "end_time": "2022-04-10T03:23:14.836866",
     "exception": false,
     "start_time": "2022-04-10T03:23:12.711066",
     "status": "completed"
    },
    "tags": []
   },
   "outputs": [],
   "source": [
    "import pandas as pd\n",
    "import numpy as np\n",
    "from sklearn.tree import DecisionTreeClassifier # Import Decision Tree Classifier\n",
    "from sklearn.model_selection import train_test_split # Import train_test_split function\n",
    "from sklearn import metrics #Import scikit-learn metrics module for accuracy calculation\n",
    "\n",
    "df = pd.read_csv(config['data_path'], header=\"infer\", sep=\",\",error_bad_lines=False, engine ='python')\n",
    "\n",
    "#Nos quedamos con los puntos que estan mayor a 3 millas nauticas de la costa.\n",
    "df = df[(df['distance_from_shore'] >= 5556)]\n",
    "\n",
    "#Nos quedamos solamente con los valores que estamos seguros que esta o no esta pescando.\n",
    "df = df[(df['is_fishing'] == -1.0)  | (df['is_fishing'] == 1.0) ]\n",
    "\n",
    "#Renombramos las columnas de la variable a predecir de si esta pescando o no.\n",
    "df[\"is_fishing\"] = np.where(df[\"is_fishing\"] == 1.0, 'SI', 'NO')\n",
    "\n",
    "#Dropeamos los que contienen el mismo timestamp.\n",
    "df = df.drop_duplicates(subset='timestamp', keep=\"first\")\n",
    "\n",
    "df[\"timestamp\"]=df[\"timestamp\"].astype(int)\n",
    "#df['date_series'] = pd.to_datetime(df['timestamp'],unit='s')\n",
    "#df = df.set_index('date_series') \n",
    "df['datetime'] = pd.to_datetime(df['timestamp'],unit='s')\n",
    "df.index = df.datetime\n",
    "#print(df['date_series'])\n",
    "\n",
    "\n",
    "#print(df.resample('60Min',on='datetime'))\n",
    "df = df.resample('5Min',on='datetime').agg('first').dropna()  \n",
    "df.reset_index(drop=True, inplace=True)\n",
    "#print(df)"
   ]
  },
  {
   "cell_type": "code",
   "execution_count": 4,
   "id": "b4b64118",
   "metadata": {
    "execution": {
     "iopub.execute_input": "2022-04-10T03:23:14.855817Z",
     "iopub.status.busy": "2022-04-10T03:23:14.854799Z",
     "iopub.status.idle": "2022-04-10T03:23:15.246750Z",
     "shell.execute_reply": "2022-04-10T03:23:15.246750Z"
    },
    "papermill": {
     "duration": 0.403919,
     "end_time": "2022-04-10T03:23:15.247747",
     "exception": false,
     "start_time": "2022-04-10T03:23:14.843828",
     "status": "completed"
    },
    "tags": []
   },
   "outputs": [],
   "source": [
    "#There are multiple definitions for night, depending if it's for civil (-6°), nautical (-12°) or astronomical (-18°) purposes. \n",
    "# Just pick a treshold : if the sun is below, it's nighttime!\n",
    "\n",
    "import ephem\n",
    "import math\n",
    "import datetime\n",
    "\n",
    "def get_day_night(lat,lon,datetime): \n",
    "    sun = ephem.Sun()\n",
    "    observer = ephem.Observer()\n",
    "    # ↓ Define your coordinates here ↓\n",
    "    observer.lat, observer.lon, observer.elevation = lat, lon, 0\n",
    "    # ↓ Set the time (UTC) here ↓\n",
    "    #observer.date = datetime.datetime.utcnow()\n",
    "    observer.date=datetime\n",
    "    sun.compute(observer)\n",
    "    current_sun_alt = sun.alt\n",
    "    if (current_sun_alt*180/math.pi) < -12.0 :\n",
    "        return 2\n",
    "    else:\n",
    "        return 1\n",
    "    \n",
    "df['sun_state'] = df.apply(lambda x: get_day_night(x['lat'], x['lon'],x['datetime']), axis=1)"
   ]
  },
  {
   "cell_type": "code",
   "execution_count": 5,
   "id": "e05d882e",
   "metadata": {
    "execution": {
     "iopub.execute_input": "2022-04-10T03:23:15.264701Z",
     "iopub.status.busy": "2022-04-10T03:23:15.264701Z",
     "iopub.status.idle": "2022-04-10T03:23:15.277984Z",
     "shell.execute_reply": "2022-04-10T03:23:15.277984Z"
    },
    "papermill": {
     "duration": 0.023256,
     "end_time": "2022-04-10T03:23:15.277984",
     "exception": false,
     "start_time": "2022-04-10T03:23:15.254728",
     "status": "completed"
    },
    "tags": []
   },
   "outputs": [
    {
     "data": {
      "text/plain": [
       "1    8934\n",
       "2    5107\n",
       "Name: sun_state, dtype: int64"
      ]
     },
     "execution_count": 5,
     "metadata": {},
     "output_type": "execute_result"
    }
   ],
   "source": [
    "df[\"sun_state\"].value_counts()"
   ]
  },
  {
   "cell_type": "markdown",
   "id": "1d2d9447",
   "metadata": {
    "papermill": {
     "duration": 0.006953,
     "end_time": "2022-04-10T03:23:15.291946",
     "exception": false,
     "start_time": "2022-04-10T03:23:15.284993",
     "status": "completed"
    },
    "tags": []
   },
   "source": [
    "Se pesca mas de noche, que de dia"
   ]
  },
  {
   "cell_type": "code",
   "execution_count": 6,
   "id": "bba9c2a9",
   "metadata": {
    "execution": {
     "iopub.execute_input": "2022-04-10T03:23:15.314908Z",
     "iopub.status.busy": "2022-04-10T03:23:15.313922Z",
     "iopub.status.idle": "2022-04-10T03:23:15.341485Z",
     "shell.execute_reply": "2022-04-10T03:23:15.341485Z"
    },
    "papermill": {
     "duration": 0.040562,
     "end_time": "2022-04-10T03:23:15.341485",
     "exception": false,
     "start_time": "2022-04-10T03:23:15.300923",
     "status": "completed"
    },
    "tags": []
   },
   "outputs": [
    {
     "name": "stdout",
     "output_type": "stream",
     "text": [
      "           sun_state                                   \n",
      "               count      mean       std  min  50%  max\n",
      "is_fishing                                             \n",
      "NO           12755.0  1.369894  0.482795  1.0  1.0  2.0\n",
      "SI            1286.0  1.302488  0.459514  1.0  1.0  2.0\n"
     ]
    }
   ],
   "source": [
    "print(df.groupby([\"is_fishing\"])[['sun_state']].describe(percentiles=[]))"
   ]
  },
  {
   "cell_type": "code",
   "execution_count": 7,
   "id": "3829e1c8",
   "metadata": {
    "execution": {
     "iopub.execute_input": "2022-04-10T03:23:15.361454Z",
     "iopub.status.busy": "2022-04-10T03:23:15.360433Z",
     "iopub.status.idle": "2022-04-10T03:23:15.388499Z",
     "shell.execute_reply": "2022-04-10T03:23:15.389498Z"
    },
    "papermill": {
     "duration": 0.040007,
     "end_time": "2022-04-10T03:23:15.389498",
     "exception": false,
     "start_time": "2022-04-10T03:23:15.349491",
     "status": "completed"
    },
    "tags": []
   },
   "outputs": [],
   "source": [
    "def haversine_np(lon1, lat1, lon2, lat2):\n",
    "    lon1, lat1, lon2, lat2 = map(np.radians, [lon1, lat1, lon2, lat2])\n",
    "\n",
    "    dlon = lon2 - lon1\n",
    "    dlat = lat2 - lat1\n",
    "\n",
    "    a = np.sin(dlat/2.0)**2 + np.cos(lat1) * np.cos(lat2) * np.sin(dlon/2.0)**2\n",
    "\n",
    "    c = 2 * np.arcsin(np.sqrt(a))\n",
    "    km = 6367 * c\n",
    "    return km\n",
    "\n",
    "def distance(x):\n",
    "    y = x.shift()\n",
    "    return haversine_np(x['lat'], x['lon'], y['lat'], y['lon']).fillna(0)\n",
    "\n",
    "df['distance'] = df.groupby('mmsi').apply(distance).reset_index(level=0, drop=True)"
   ]
  },
  {
   "cell_type": "code",
   "execution_count": 8,
   "id": "bcc60ff4",
   "metadata": {
    "execution": {
     "iopub.execute_input": "2022-04-10T03:23:15.411440Z",
     "iopub.status.busy": "2022-04-10T03:23:15.411440Z",
     "iopub.status.idle": "2022-04-10T03:23:15.419417Z",
     "shell.execute_reply": "2022-04-10T03:23:15.419417Z"
    },
    "papermill": {
     "duration": 0.020943,
     "end_time": "2022-04-10T03:23:15.419417",
     "exception": false,
     "start_time": "2022-04-10T03:23:15.398474",
     "status": "completed"
    },
    "tags": []
   },
   "outputs": [],
   "source": [
    "#Convierto latitud y longitud a radianes\n",
    "df['lat'] = np.radians(df['lat'])\n",
    "df['lon'] = np.radians(df['lon'])"
   ]
  },
  {
   "cell_type": "code",
   "execution_count": 9,
   "id": "36613125",
   "metadata": {
    "execution": {
     "iopub.execute_input": "2022-04-10T03:23:15.440387Z",
     "iopub.status.busy": "2022-04-10T03:23:15.439391Z",
     "iopub.status.idle": "2022-04-10T03:23:15.449479Z",
     "shell.execute_reply": "2022-04-10T03:23:15.449479Z"
    },
    "papermill": {
     "duration": 0.02211,
     "end_time": "2022-04-10T03:23:15.450504",
     "exception": false,
     "start_time": "2022-04-10T03:23:15.428394",
     "status": "completed"
    },
    "tags": []
   },
   "outputs": [],
   "source": [
    "#Calculo la diferencia de tiempo entre puntos consecutivos.\n",
    "df['timediff']= df.groupby('mmsi')['timestamp'].diff()"
   ]
  },
  {
   "cell_type": "code",
   "execution_count": 10,
   "id": "6b6adb47",
   "metadata": {
    "execution": {
     "iopub.execute_input": "2022-04-10T03:23:15.468429Z",
     "iopub.status.busy": "2022-04-10T03:23:15.468429Z",
     "iopub.status.idle": "2022-04-10T03:23:15.481394Z",
     "shell.execute_reply": "2022-04-10T03:23:15.482391Z"
    },
    "papermill": {
     "duration": 0.024906,
     "end_time": "2022-04-10T03:23:15.482391",
     "exception": false,
     "start_time": "2022-04-10T03:23:15.457485",
     "status": "completed"
    },
    "tags": []
   },
   "outputs": [],
   "source": [
    "#Normalizamos la variable curso\n",
    "df['course']=df['course']/360.0"
   ]
  },
  {
   "cell_type": "code",
   "execution_count": 11,
   "id": "817925f2",
   "metadata": {
    "execution": {
     "iopub.execute_input": "2022-04-10T03:23:15.502337Z",
     "iopub.status.busy": "2022-04-10T03:23:15.501341Z",
     "iopub.status.idle": "2022-04-10T03:23:15.542628Z",
     "shell.execute_reply": "2022-04-10T03:23:15.543652Z"
    },
    "papermill": {
     "duration": 0.054252,
     "end_time": "2022-04-10T03:23:15.543652",
     "exception": false,
     "start_time": "2022-04-10T03:23:15.489400",
     "status": "completed"
    },
    "tags": []
   },
   "outputs": [],
   "source": [
    "#Agregar esto deberia de hacer robusto a mi algoritmo a LAT/LON y timestamps.\n",
    "\n",
    "\n",
    "\n",
    "#Velocidad entre puntos a partir de la distancia        S = x(t2)-x(t1) / t2 - t1\n",
    "df['S0']= df['distance']/df['timediff']\n",
    "#Aceleracion rectilinea         A = S(t2)-S(t1) / t2 - t1\n",
    "df['A0']= df.groupby('mmsi')['S0'].diff()/df['timediff']\n",
    "#Jerk                           J = A(t2)-A(t1) / t2 - t1\n",
    "df['J0']= df.groupby('mmsi')['A0'].diff()/df['timediff']\n",
    "#Derivada del curso             Phi = C(t2)-C(t1) / t2 - t1\n",
    "df['C0']= df.groupby('mmsi')['course'].diff()/df['timediff']\n",
    "#2 Horas deberia de ser suficientemente informativo para saber el comportamiento del buque (paper subrayado)\n",
    "\n",
    "#Velocidad promedio entre puntos    Vavg = V1 + V2 / 2\n",
    "df['Vavg']  = df.groupby('mmsi')['speed'].transform(lambda x: x.rolling(2, 1).mean())\n",
    "\n",
    "\n",
    "#Variacion de velocidad entre puntos Delta_S = V2 - V1 / 2 \n",
    "df['Delta_S']= (df.groupby('mmsi')['speed'].diff())/2\n",
    "\n",
    "#Curso promedio entre puntos        Cavg = C1 + C2 / 2\n",
    "df['Cavg'] = df.groupby('mmsi')['course'].transform(lambda x: x.rolling(2, 1).mean())\n",
    "#Variacion del curso                DeltaC = C2-C1/2\n",
    "df['Delta_C']= (df.groupby('mmsi')['course'].diff())/2\n"
   ]
  },
  {
   "cell_type": "code",
   "execution_count": 12,
   "id": "1e0dcfae",
   "metadata": {
    "execution": {
     "iopub.execute_input": "2022-04-10T03:23:15.566584Z",
     "iopub.status.busy": "2022-04-10T03:23:15.565627Z",
     "iopub.status.idle": "2022-04-10T03:23:15.588527Z",
     "shell.execute_reply": "2022-04-10T03:23:15.589522Z"
    },
    "papermill": {
     "duration": 0.036903,
     "end_time": "2022-04-10T03:23:15.589522",
     "exception": false,
     "start_time": "2022-04-10T03:23:15.552619",
     "status": "completed"
    },
    "tags": []
   },
   "outputs": [],
   "source": [
    "number_lags = 6\n",
    "columns_to_lag = ['speed','course','S0','A0','J0','C0']\n",
    "\n",
    "#df = pd.DataFrame(data={'vals':[5,4,3,2,1]})\n",
    "for column in columns_to_lag:\n",
    "    for lag in range(1, number_lags + 1):\n",
    "        df[str(column) +'_lag_' + str(lag)] = df[column].shift(lag)\n"
   ]
  },
  {
   "cell_type": "code",
   "execution_count": 13,
   "id": "cad0ce41",
   "metadata": {
    "execution": {
     "iopub.execute_input": "2022-04-10T03:23:15.607474Z",
     "iopub.status.busy": "2022-04-10T03:23:15.607474Z",
     "iopub.status.idle": "2022-04-10T03:23:15.619672Z",
     "shell.execute_reply": "2022-04-10T03:23:15.619672Z"
    },
    "papermill": {
     "duration": 0.023194,
     "end_time": "2022-04-10T03:23:15.620696",
     "exception": false,
     "start_time": "2022-04-10T03:23:15.597502",
     "status": "completed"
    },
    "tags": []
   },
   "outputs": [
    {
     "name": "stdout",
     "output_type": "stream",
     "text": [
      "Index(['mmsi', 'timestamp', 'distance_from_shore', 'distance_from_port',\n",
      "       'speed', 'course', 'lat', 'lon', 'is_fishing', 'source', 'datetime',\n",
      "       'sun_state', 'distance', 'timediff', 'S0', 'A0', 'J0', 'C0', 'Vavg',\n",
      "       'Delta_S', 'Cavg', 'Delta_C', 'speed_lag_1', 'speed_lag_2',\n",
      "       'speed_lag_3', 'speed_lag_4', 'speed_lag_5', 'speed_lag_6',\n",
      "       'course_lag_1', 'course_lag_2', 'course_lag_3', 'course_lag_4',\n",
      "       'course_lag_5', 'course_lag_6', 'S0_lag_1', 'S0_lag_2', 'S0_lag_3',\n",
      "       'S0_lag_4', 'S0_lag_5', 'S0_lag_6', 'A0_lag_1', 'A0_lag_2', 'A0_lag_3',\n",
      "       'A0_lag_4', 'A0_lag_5', 'A0_lag_6', 'J0_lag_1', 'J0_lag_2', 'J0_lag_3',\n",
      "       'J0_lag_4', 'J0_lag_5', 'J0_lag_6', 'C0_lag_1', 'C0_lag_2', 'C0_lag_3',\n",
      "       'C0_lag_4', 'C0_lag_5', 'C0_lag_6'],\n",
      "      dtype='object')\n"
     ]
    }
   ],
   "source": [
    "print(df.columns)\n"
   ]
  },
  {
   "cell_type": "code",
   "execution_count": 14,
   "id": "f9023463",
   "metadata": {
    "execution": {
     "iopub.execute_input": "2022-04-10T03:23:15.639619Z",
     "iopub.status.busy": "2022-04-10T03:23:15.639619Z",
     "iopub.status.idle": "2022-04-10T03:23:16.520565Z",
     "shell.execute_reply": "2022-04-10T03:23:16.520565Z"
    },
    "papermill": {
     "duration": 0.893894,
     "end_time": "2022-04-10T03:23:16.521572",
     "exception": false,
     "start_time": "2022-04-10T03:23:15.627678",
     "status": "completed"
    },
    "tags": []
   },
   "outputs": [],
   "source": [
    "df = df.dropna()\n",
    "df.to_csv(f\"./df_procesado/{config['output_label']}_fe.csv\",sep=\",\")  "
   ]
  },
  {
   "cell_type": "code",
   "execution_count": 15,
   "id": "c5d87847",
   "metadata": {
    "execution": {
     "iopub.execute_input": "2022-04-10T03:23:16.540494Z",
     "iopub.status.busy": "2022-04-10T03:23:16.540494Z",
     "iopub.status.idle": "2022-04-10T03:23:16.551747Z",
     "shell.execute_reply": "2022-04-10T03:23:16.551747Z"
    },
    "papermill": {
     "duration": 0.02325,
     "end_time": "2022-04-10T03:23:16.552772",
     "exception": false,
     "start_time": "2022-04-10T03:23:16.529522",
     "status": "completed"
    },
    "tags": []
   },
   "outputs": [
    {
     "name": "stdout",
     "output_type": "stream",
     "text": [
      "mmsi                   13996\n",
      "timestamp              13996\n",
      "distance_from_shore    13996\n",
      "distance_from_port     13996\n",
      "speed                  13996\n",
      "course                 13996\n",
      "lat                    13996\n",
      "lon                    13996\n",
      "is_fishing             13996\n",
      "source                 13996\n",
      "datetime               13996\n",
      "sun_state              13996\n",
      "distance               13996\n",
      "timediff               13996\n",
      "S0                     13996\n",
      "A0                     13996\n",
      "J0                     13996\n",
      "C0                     13996\n",
      "Vavg                   13996\n",
      "Delta_S                13996\n",
      "Cavg                   13996\n",
      "Delta_C                13996\n",
      "speed_lag_1            13996\n",
      "speed_lag_2            13996\n",
      "speed_lag_3            13996\n",
      "speed_lag_4            13996\n",
      "speed_lag_5            13996\n",
      "speed_lag_6            13996\n",
      "course_lag_1           13996\n",
      "course_lag_2           13996\n",
      "course_lag_3           13996\n",
      "course_lag_4           13996\n",
      "course_lag_5           13996\n",
      "course_lag_6           13996\n",
      "S0_lag_1               13996\n",
      "S0_lag_2               13996\n",
      "S0_lag_3               13996\n",
      "S0_lag_4               13996\n",
      "S0_lag_5               13996\n",
      "S0_lag_6               13996\n",
      "A0_lag_1               13996\n",
      "A0_lag_2               13996\n",
      "A0_lag_3               13996\n",
      "A0_lag_4               13996\n",
      "A0_lag_5               13996\n",
      "A0_lag_6               13996\n",
      "J0_lag_1               13996\n",
      "J0_lag_2               13996\n",
      "J0_lag_3               13996\n",
      "J0_lag_4               13996\n",
      "J0_lag_5               13996\n",
      "J0_lag_6               13996\n",
      "C0_lag_1               13996\n",
      "C0_lag_2               13996\n",
      "C0_lag_3               13996\n",
      "C0_lag_4               13996\n",
      "C0_lag_5               13996\n",
      "C0_lag_6               13996\n",
      "dtype: int64\n"
     ]
    }
   ],
   "source": [
    "print(df.count())"
   ]
  }
 ],
 "metadata": {
  "interpreter": {
   "hash": "db2a60f505a9041374f6f3fb78368755bb5bc9c69ef08139ad82abb6b35de715"
  },
  "kernelspec": {
   "display_name": "Python 3.8.8 64-bit ('base': conda)",
   "name": "python3"
  },
  "language_info": {
   "codemirror_mode": {
    "name": "ipython",
    "version": 3
   },
   "file_extension": ".py",
   "mimetype": "text/x-python",
   "name": "python",
   "nbconvert_exporter": "python",
   "pygments_lexer": "ipython3",
   "version": "3.8.8"
  },
  "papermill": {
   "default_parameters": {},
   "duration": 5.874744,
   "end_time": "2022-04-10T03:23:16.894812",
   "environment_variables": {},
   "exception": null,
   "input_path": "notebooks/feature_engineering.ipynb",
   "output_path": "papermill_outputs/feature_engineering/trollers/feature_engineering_trollers.ipynb",
   "parameters": {
    "config": {
     "data_path": "C:/Users/nico_/Desktop/ITBA/TFI/global fishing watch/dataset/trollers.csv",
     "notebook": "notebooks/feature_engineering.ipynb",
     "output_label": "trollers"
    }
   },
   "start_time": "2022-04-10T03:23:11.020068",
   "version": "2.3.4"
  }
 },
 "nbformat": 4,
 "nbformat_minor": 5
}
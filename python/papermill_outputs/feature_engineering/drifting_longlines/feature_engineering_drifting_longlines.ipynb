{
 "cells": [
  {
   "cell_type": "code",
   "execution_count": 1,
   "id": "211542d7",
   "metadata": {
    "execution": {
     "iopub.execute_input": "2022-04-14T23:44:06.076692Z",
     "iopub.status.busy": "2022-04-14T23:44:06.074739Z",
     "iopub.status.idle": "2022-04-14T23:44:06.077668Z",
     "shell.execute_reply": "2022-04-14T23:44:06.077668Z"
    },
    "papermill": {
     "duration": 0.020496,
     "end_time": "2022-04-14T23:44:06.078643",
     "exception": false,
     "start_time": "2022-04-14T23:44:06.058147",
     "status": "completed"
    },
    "tags": [
     "injected-parameters"
    ]
   },
   "outputs": [],
   "source": [
    "# Parameters\n",
    "config = {\n",
    "    \"notebook\": \"notebooks/feature_engineering.ipynb\",\n",
    "    \"data_path\": \"C:/Users/nico_/Desktop/ITBA/TFI/global fishing watch/dataset/drifting_longlines.csv\",\n",
    "    \"output_label\": \"drifting_longlines\",\n",
    "}\n"
   ]
  },
  {
   "cell_type": "code",
   "execution_count": 2,
   "id": "6549bb3a",
   "metadata": {
    "execution": {
     "iopub.execute_input": "2022-04-14T23:44:06.113780Z",
     "iopub.status.busy": "2022-04-14T23:44:06.113780Z",
     "iopub.status.idle": "2022-04-14T23:44:06.117684Z",
     "shell.execute_reply": "2022-04-14T23:44:06.117684Z"
    },
    "papermill": {
     "duration": 0.025376,
     "end_time": "2022-04-14T23:44:06.118660",
     "exception": false,
     "start_time": "2022-04-14T23:44:06.093284",
     "status": "completed"
    },
    "tags": []
   },
   "outputs": [
    {
     "name": "stdout",
     "output_type": "stream",
     "text": [
      "{'notebook': 'notebooks/feature_engineering.ipynb', 'data_path': 'C:/Users/nico_/Desktop/ITBA/TFI/global fishing watch/dataset/drifting_longlines.csv', 'output_label': 'drifting_longlines'}\n"
     ]
    }
   ],
   "source": [
    "# check if config exists\n",
    "try:\n",
    "    config\n",
    "except NameError:\n",
    "    config_exists = False\n",
    "else:\n",
    "    config_exists = True\n",
    "\n",
    "# make config if it does not exist already (e.g. passed in by papermill)\n",
    "if not(config_exists):\n",
    "    # set up some config for the experiment run\n",
    "    config = {\n",
    "        \"data_path\" : \"C:/Users/nico_/Desktop/ITBA/TFI/global fishing watch/dataset/trollers.csv\",\n",
    "        \"output_label\": \"trollers\"\n",
    "    }\n",
    "print(config)"
   ]
  },
  {
   "cell_type": "code",
   "execution_count": 3,
   "id": "e63d3a30",
   "metadata": {
    "execution": {
     "iopub.execute_input": "2022-04-14T23:44:06.155748Z",
     "iopub.status.busy": "2022-04-14T23:44:06.154771Z",
     "iopub.status.idle": "2022-04-15T00:09:22.572658Z",
     "shell.execute_reply": "2022-04-15T00:09:22.502164Z"
    },
    "papermill": {
     "duration": 1516.507411,
     "end_time": "2022-04-15T00:09:22.639735",
     "exception": false,
     "start_time": "2022-04-14T23:44:06.132324",
     "status": "completed"
    },
    "tags": []
   },
   "outputs": [],
   "source": [
    "import pandas as pd\n",
    "import numpy as np\n",
    "from sklearn.tree import DecisionTreeClassifier # Import Decision Tree Classifier\n",
    "from sklearn.model_selection import train_test_split # Import train_test_split function\n",
    "from sklearn import metrics #Import scikit-learn metrics module for accuracy calculation\n",
    "\n",
    "df = pd.read_csv(config['data_path'], header=\"infer\", sep=\",\",error_bad_lines=False, engine ='python')\n",
    "\n",
    "#Nos quedamos con los puntos que estan mayor a 3 millas nauticas de la costa.\n",
    "df = df[(df['distance_from_shore'] >= 5556)]\n",
    "\n",
    "#Nos quedamos solamente con los valores que estamos seguros que esta o no esta pescando.\n",
    "df = df[(df['is_fishing'] == -1.0)  | (df['is_fishing'] == 1.0) ]\n",
    "\n",
    "#Renombramos las columnas de la variable a predecir de si esta pescando o no.\n",
    "df[\"is_fishing\"] = np.where(df[\"is_fishing\"] == 1.0, 'SI', 'NO')\n",
    "\n",
    "#Dropeamos los que contienen el mismo timestamp.\n",
    "df = df.drop_duplicates(subset='timestamp', keep=\"first\")\n",
    "\n",
    "df[\"timestamp\"]=df[\"timestamp\"].astype(int)\n",
    "#df['date_series'] = pd.to_datetime(df['timestamp'],unit='s')\n",
    "#df = df.set_index('date_series') \n",
    "df['datetime'] = pd.to_datetime(df['timestamp'],unit='s')\n",
    "df.index = df.datetime\n",
    "#print(df['date_series'])\n",
    "\n",
    "aux = df\n"
   ]
  },
  {
   "cell_type": "code",
   "execution_count": 4,
   "id": "159ad50d",
   "metadata": {
    "execution": {
     "iopub.execute_input": "2022-04-15T00:09:25.599531Z",
     "iopub.status.busy": "2022-04-15T00:09:25.536893Z",
     "iopub.status.idle": "2022-04-15T00:09:37.232263Z",
     "shell.execute_reply": "2022-04-15T00:09:37.232263Z"
    },
    "papermill": {
     "duration": 12.91932,
     "end_time": "2022-04-15T00:09:37.232263",
     "exception": false,
     "start_time": "2022-04-15T00:09:24.312943",
     "status": "completed"
    },
    "tags": []
   },
   "outputs": [
    {
     "name": "stdout",
     "output_type": "stream",
     "text": [
      "9798672\n"
     ]
    },
    {
     "name": "stdout",
     "output_type": "stream",
     "text": [
      "465782\n"
     ]
    }
   ],
   "source": [
    "#print(df.resample('60Min',on='datetime'))\n",
    "df = aux\n",
    "print(len(df))\n",
    "df = df.resample('5Min',on='datetime').agg('first').dropna()  \n",
    "df.reset_index(drop=True, inplace=True)\n",
    "print(len(df))\n",
    "#print(df)"
   ]
  },
  {
   "cell_type": "code",
   "execution_count": 5,
   "id": "64697103",
   "metadata": {
    "execution": {
     "iopub.execute_input": "2022-04-15T00:09:37.417039Z",
     "iopub.status.busy": "2022-04-15T00:09:37.382551Z",
     "iopub.status.idle": "2022-04-15T00:09:37.985618Z",
     "shell.execute_reply": "2022-04-15T00:09:37.985618Z"
    },
    "papermill": {
     "duration": 0.703774,
     "end_time": "2022-04-15T00:09:37.985618",
     "exception": false,
     "start_time": "2022-04-15T00:09:37.281844",
     "status": "completed"
    },
    "tags": []
   },
   "outputs": [
    {
     "name": "stdout",
     "output_type": "stream",
     "text": [
      "   timestamp  valores            datetime\n",
      "0          1        3 1970-01-01 00:00:01\n",
      "1          2        4 1970-01-01 00:00:02\n",
      "2          3        5 1970-01-01 00:00:03\n",
      "3          4        6 1970-01-01 00:00:04\n",
      "4        120        7 1970-01-01 00:02:00\n",
      "5        241        8 1970-01-01 00:04:01\n",
      "6        421        9 1970-01-01 00:07:01\n",
      "                     timestamp  valores            datetime\n",
      "datetime                                                   \n",
      "1970-01-01 00:00:00        1.0      3.0 1970-01-01 00:00:01\n",
      "1970-01-01 00:02:00      120.0      7.0 1970-01-01 00:02:00\n",
      "1970-01-01 00:04:00      241.0      8.0 1970-01-01 00:04:01\n",
      "1970-01-01 00:07:00      421.0      9.0 1970-01-01 00:07:01\n"
     ]
    }
   ],
   "source": [
    "#EJEMPLO DE RESAMPLE PARA VER QUE FUNCIONA OK.\n",
    "d = {'timestamp': [1, 2,3,4,60*2,60*4+1,60*7+1], 'valores': [3, 4,5,6,7,8,9]}\n",
    "d = pd.DataFrame(data=d)\n",
    "\n",
    "d['datetime'] = pd.to_datetime(d['timestamp'],unit='s')\n",
    "print(d)\n",
    "\n",
    "d = d.resample('1Min',on='datetime').agg('first').dropna()  \n",
    "print(d)"
   ]
  },
  {
   "cell_type": "code",
   "execution_count": 6,
   "id": "ab1a68ee",
   "metadata": {
    "execution": {
     "iopub.execute_input": "2022-04-15T00:09:38.367810Z",
     "iopub.status.busy": "2022-04-15T00:09:38.302292Z",
     "iopub.status.idle": "2022-04-15T00:09:51.660233Z",
     "shell.execute_reply": "2022-04-15T00:09:51.659236Z"
    },
    "papermill": {
     "duration": 13.654245,
     "end_time": "2022-04-15T00:09:51.660233",
     "exception": false,
     "start_time": "2022-04-15T00:09:38.005988",
     "status": "completed"
    },
    "tags": []
   },
   "outputs": [],
   "source": [
    "#There are multiple definitions for night, depending if it's for civil (-6°), nautical (-12°) or astronomical (-18°) purposes. \n",
    "# Just pick a treshold : if the sun is below, it's nighttime!\n",
    "\n",
    "import ephem\n",
    "import math\n",
    "import datetime\n",
    "\n",
    "def get_day_night(lat,lon,datetime): \n",
    "    sun = ephem.Sun()\n",
    "    observer = ephem.Observer()\n",
    "    # ↓ Define your coordinates here ↓\n",
    "    observer.lat, observer.lon, observer.elevation = lat, lon, 0\n",
    "    # ↓ Set the time (UTC) here ↓\n",
    "    #observer.date = datetime.datetime.utcnow()\n",
    "    observer.date=datetime\n",
    "    sun.compute(observer)\n",
    "    current_sun_alt = sun.alt\n",
    "    if (current_sun_alt*180/math.pi) < -12.0 :\n",
    "        return 2\n",
    "    else:\n",
    "        return 1\n",
    "    \n",
    "df['sun_state'] = df.apply(lambda x: get_day_night(x['lat'], x['lon'],x['datetime']), axis=1)"
   ]
  },
  {
   "cell_type": "code",
   "execution_count": 7,
   "id": "9c50345f",
   "metadata": {
    "execution": {
     "iopub.execute_input": "2022-04-15T00:09:51.736357Z",
     "iopub.status.busy": "2022-04-15T00:09:51.723190Z",
     "iopub.status.idle": "2022-04-15T00:09:51.862789Z",
     "shell.execute_reply": "2022-04-15T00:09:51.861764Z"
    },
    "papermill": {
     "duration": 0.194577,
     "end_time": "2022-04-15T00:09:51.862789",
     "exception": false,
     "start_time": "2022-04-15T00:09:51.668212",
     "status": "completed"
    },
    "tags": []
   },
   "outputs": [
    {
     "data": {
      "text/plain": [
       "1    296107\n",
       "2    169675\n",
       "Name: sun_state, dtype: int64"
      ]
     },
     "execution_count": 7,
     "metadata": {},
     "output_type": "execute_result"
    }
   ],
   "source": [
    "df[\"sun_state\"].value_counts()"
   ]
  },
  {
   "cell_type": "markdown",
   "id": "29a2349d",
   "metadata": {
    "papermill": {
     "duration": 0.055865,
     "end_time": "2022-04-15T00:09:51.947058",
     "exception": false,
     "start_time": "2022-04-15T00:09:51.891193",
     "status": "completed"
    },
    "tags": []
   },
   "source": [
    "Se pesca mas de noche, que de dia"
   ]
  },
  {
   "cell_type": "code",
   "execution_count": 8,
   "id": "bf3b8df5",
   "metadata": {
    "execution": {
     "iopub.execute_input": "2022-04-15T00:09:52.009066Z",
     "iopub.status.busy": "2022-04-15T00:09:51.990120Z",
     "iopub.status.idle": "2022-04-15T00:09:53.670859Z",
     "shell.execute_reply": "2022-04-15T00:09:53.670859Z"
    },
    "papermill": {
     "duration": 1.715851,
     "end_time": "2022-04-15T00:09:53.671885",
     "exception": false,
     "start_time": "2022-04-15T00:09:51.956034",
     "status": "completed"
    },
    "tags": []
   },
   "outputs": [
    {
     "name": "stdout",
     "output_type": "stream",
     "text": [
      "           sun_state                                   \n",
      "               count      mean       std  min  50%  max\n",
      "is_fishing                                             \n",
      "NO          459194.0  1.364219  0.481211  1.0  1.0  2.0\n",
      "SI            6588.0  1.368549  0.482448  1.0  1.0  2.0\n"
     ]
    }
   ],
   "source": [
    "print(df.groupby([\"is_fishing\"])[['sun_state']].describe(percentiles=[]))"
   ]
  },
  {
   "cell_type": "code",
   "execution_count": 9,
   "id": "eeb5aedb",
   "metadata": {
    "execution": {
     "iopub.execute_input": "2022-04-15T00:09:53.735376Z",
     "iopub.status.busy": "2022-04-15T00:09:53.733381Z",
     "iopub.status.idle": "2022-04-15T00:10:11.441161Z",
     "shell.execute_reply": "2022-04-15T00:10:11.442159Z"
    },
    "papermill": {
     "duration": 17.761326,
     "end_time": "2022-04-15T00:10:11.442159",
     "exception": false,
     "start_time": "2022-04-15T00:09:53.680833",
     "status": "completed"
    },
    "tags": []
   },
   "outputs": [],
   "source": [
    "def haversine_np(lon1, lat1, lon2, lat2):\n",
    "    lon1, lat1, lon2, lat2 = map(np.radians, [lon1, lat1, lon2, lat2])\n",
    "\n",
    "    dlon = lon2 - lon1\n",
    "    dlat = lat2 - lat1\n",
    "\n",
    "    a = np.sin(dlat/2.0)**2 + np.cos(lat1) * np.cos(lat2) * np.sin(dlon/2.0)**2\n",
    "\n",
    "    c = 2 * np.arcsin(np.sqrt(a))\n",
    "    km = 6367 * c\n",
    "    return km\n",
    "\n",
    "def distance(x):\n",
    "    y = x.shift()\n",
    "    return haversine_np(x['lat'], x['lon'], y['lat'], y['lon']).fillna(0)\n",
    "\n",
    "df['distance'] = df.groupby('mmsi').apply(distance).reset_index(level=0, drop=True)"
   ]
  },
  {
   "cell_type": "code",
   "execution_count": 10,
   "id": "f8e837d1",
   "metadata": {
    "execution": {
     "iopub.execute_input": "2022-04-15T00:10:11.489034Z",
     "iopub.status.busy": "2022-04-15T00:10:11.488036Z",
     "iopub.status.idle": "2022-04-15T00:10:11.504028Z",
     "shell.execute_reply": "2022-04-15T00:10:11.504028Z"
    },
    "papermill": {
     "duration": 0.039914,
     "end_time": "2022-04-15T00:10:11.505011",
     "exception": false,
     "start_time": "2022-04-15T00:10:11.465097",
     "status": "completed"
    },
    "tags": []
   },
   "outputs": [],
   "source": [
    "#Convierto latitud y longitud a radianes\n",
    "df['lat'] = np.radians(df['lat'])\n",
    "df['lon'] = np.radians(df['lon'])"
   ]
  },
  {
   "cell_type": "code",
   "execution_count": 11,
   "id": "04edf053",
   "metadata": {
    "execution": {
     "iopub.execute_input": "2022-04-15T00:10:11.566853Z",
     "iopub.status.busy": "2022-04-15T00:10:11.547878Z",
     "iopub.status.idle": "2022-04-15T00:10:11.735375Z",
     "shell.execute_reply": "2022-04-15T00:10:11.735375Z"
    },
    "papermill": {
     "duration": 0.222405,
     "end_time": "2022-04-15T00:10:11.735375",
     "exception": false,
     "start_time": "2022-04-15T00:10:11.512970",
     "status": "completed"
    },
    "tags": []
   },
   "outputs": [],
   "source": [
    "#Calculo la diferencia de tiempo entre puntos consecutivos.\n",
    "df['timediff']= df.groupby('mmsi')['timestamp'].diff()"
   ]
  },
  {
   "cell_type": "code",
   "execution_count": 12,
   "id": "94060afc",
   "metadata": {
    "execution": {
     "iopub.execute_input": "2022-04-15T00:10:11.773273Z",
     "iopub.status.busy": "2022-04-15T00:10:11.772276Z",
     "iopub.status.idle": "2022-04-15T00:10:11.781253Z",
     "shell.execute_reply": "2022-04-15T00:10:11.781253Z"
    },
    "papermill": {
     "duration": 0.035904,
     "end_time": "2022-04-15T00:10:11.781253",
     "exception": false,
     "start_time": "2022-04-15T00:10:11.745349",
     "status": "completed"
    },
    "tags": []
   },
   "outputs": [],
   "source": [
    "#Normalizamos la variable curso\n",
    "df['course']=df['course']/360.0"
   ]
  },
  {
   "cell_type": "code",
   "execution_count": 13,
   "id": "197f5386",
   "metadata": {
    "execution": {
     "iopub.execute_input": "2022-04-15T00:10:11.805189Z",
     "iopub.status.busy": "2022-04-15T00:10:11.805189Z",
     "iopub.status.idle": "2022-04-15T00:10:12.730939Z",
     "shell.execute_reply": "2022-04-15T00:10:12.730939Z"
    },
    "papermill": {
     "duration": 0.940683,
     "end_time": "2022-04-15T00:10:12.730939",
     "exception": false,
     "start_time": "2022-04-15T00:10:11.790256",
     "status": "completed"
    },
    "tags": []
   },
   "outputs": [],
   "source": [
    "#Agregar esto deberia de hacer robusto a mi algoritmo a LAT/LON y timestamps.\n",
    "\n",
    "\n",
    "\n",
    "#Velocidad entre puntos a partir de la distancia        S = x(t2)-x(t1) / t2 - t1\n",
    "df['S0']= df['distance']/df['timediff']\n",
    "#Aceleracion rectilinea         A = S(t2)-S(t1) / t2 - t1\n",
    "df['A0']= df.groupby('mmsi')['S0'].diff()/df['timediff']\n",
    "#Jerk                           J = A(t2)-A(t1) / t2 - t1\n",
    "df['J0']= df.groupby('mmsi')['A0'].diff()/df['timediff']\n",
    "#Derivada del curso             Phi = C(t2)-C(t1) / t2 - t1\n",
    "df['C0']= df.groupby('mmsi')['course'].diff()/df['timediff']\n",
    "#2 Horas deberia de ser suficientemente informativo para saber el comportamiento del buque (paper subrayado)\n",
    "\n",
    "#Velocidad promedio entre puntos    Vavg = V1 + V2 / 2\n",
    "df['Vavg']  = df.groupby('mmsi')['speed'].transform(lambda x: x.rolling(2, 1).mean())\n",
    "\n",
    "\n",
    "#Variacion de velocidad entre puntos Delta_S = V2 - V1 / 2 \n",
    "df['Delta_S']= (df.groupby('mmsi')['speed'].diff())/2\n",
    "\n",
    "#Curso promedio entre puntos        Cavg = C1 + C2 / 2\n",
    "df['Cavg'] = df.groupby('mmsi')['course'].transform(lambda x: x.rolling(2, 1).mean())\n",
    "#Variacion del curso                DeltaC = C2-C1/2\n",
    "df['Delta_C']= (df.groupby('mmsi')['course'].diff())/2\n"
   ]
  },
  {
   "cell_type": "code",
   "execution_count": 14,
   "id": "680cc8e3",
   "metadata": {
    "execution": {
     "iopub.execute_input": "2022-04-15T00:10:12.797920Z",
     "iopub.status.busy": "2022-04-15T00:10:12.794958Z",
     "iopub.status.idle": "2022-04-15T00:10:12.915739Z",
     "shell.execute_reply": "2022-04-15T00:10:12.915739Z"
    },
    "papermill": {
     "duration": 0.134755,
     "end_time": "2022-04-15T00:10:12.916718",
     "exception": false,
     "start_time": "2022-04-15T00:10:12.781963",
     "status": "completed"
    },
    "tags": []
   },
   "outputs": [],
   "source": [
    "number_lags = 6\n",
    "columns_to_lag = ['speed','course','S0','A0','J0','C0']\n",
    "\n",
    "#df = pd.DataFrame(data={'vals':[5,4,3,2,1]})\n",
    "for column in columns_to_lag:\n",
    "    for lag in range(1, number_lags + 1):\n",
    "        df[str(column) +'_lag_' + str(lag)] = df[column].shift(lag)\n"
   ]
  },
  {
   "cell_type": "code",
   "execution_count": 15,
   "id": "ac9192a9",
   "metadata": {
    "execution": {
     "iopub.execute_input": "2022-04-15T00:10:12.951910Z",
     "iopub.status.busy": "2022-04-15T00:10:12.950912Z",
     "iopub.status.idle": "2022-04-15T00:10:12.962881Z",
     "shell.execute_reply": "2022-04-15T00:10:12.962881Z"
    },
    "papermill": {
     "duration": 0.025893,
     "end_time": "2022-04-15T00:10:12.963877",
     "exception": false,
     "start_time": "2022-04-15T00:10:12.937984",
     "status": "completed"
    },
    "tags": []
   },
   "outputs": [
    {
     "name": "stdout",
     "output_type": "stream",
     "text": [
      "Index(['mmsi', 'timestamp', 'distance_from_shore', 'distance_from_port',\n",
      "       'speed', 'course', 'lat', 'lon', 'is_fishing', 'source', 'datetime',\n",
      "       'sun_state', 'distance', 'timediff', 'S0', 'A0', 'J0', 'C0', 'Vavg',\n",
      "       'Delta_S', 'Cavg', 'Delta_C', 'speed_lag_1', 'speed_lag_2',\n",
      "       'speed_lag_3', 'speed_lag_4', 'speed_lag_5', 'speed_lag_6',\n",
      "       'course_lag_1', 'course_lag_2', 'course_lag_3', 'course_lag_4',\n",
      "       'course_lag_5', 'course_lag_6', 'S0_lag_1', 'S0_lag_2', 'S0_lag_3',\n",
      "       'S0_lag_4', 'S0_lag_5', 'S0_lag_6', 'A0_lag_1', 'A0_lag_2', 'A0_lag_3',\n",
      "       'A0_lag_4', 'A0_lag_5', 'A0_lag_6', 'J0_lag_1', 'J0_lag_2', 'J0_lag_3',\n",
      "       'J0_lag_4', 'J0_lag_5', 'J0_lag_6', 'C0_lag_1', 'C0_lag_2', 'C0_lag_3',\n",
      "       'C0_lag_4', 'C0_lag_5', 'C0_lag_6'],\n",
      "      dtype='object')\n"
     ]
    }
   ],
   "source": [
    "print(df.columns)\n"
   ]
  },
  {
   "cell_type": "code",
   "execution_count": 16,
   "id": "9c48663e",
   "metadata": {
    "execution": {
     "iopub.execute_input": "2022-04-15T00:10:12.986817Z",
     "iopub.status.busy": "2022-04-15T00:10:12.986817Z",
     "iopub.status.idle": "2022-04-15T00:10:43.170542Z",
     "shell.execute_reply": "2022-04-15T00:10:43.169545Z"
    },
    "papermill": {
     "duration": 30.196691,
     "end_time": "2022-04-15T00:10:43.170542",
     "exception": false,
     "start_time": "2022-04-15T00:10:12.973851",
     "status": "completed"
    },
    "tags": []
   },
   "outputs": [],
   "source": [
    "df = df.dropna()\n",
    "df.to_csv(f\"../../df_procesado/{config['output_label']}_fe.csv\",sep=\",\",index=False)  "
   ]
  },
  {
   "cell_type": "code",
   "execution_count": 17,
   "id": "e634ed04",
   "metadata": {
    "execution": {
     "iopub.execute_input": "2022-04-15T00:10:43.314259Z",
     "iopub.status.busy": "2022-04-15T00:10:43.313267Z",
     "iopub.status.idle": "2022-04-15T00:10:44.823200Z",
     "shell.execute_reply": "2022-04-15T00:10:44.822204Z"
    },
    "papermill": {
     "duration": 1.643683,
     "end_time": "2022-04-15T00:10:44.823200",
     "exception": false,
     "start_time": "2022-04-15T00:10:43.179517",
     "status": "completed"
    },
    "tags": []
   },
   "outputs": [
    {
     "name": "stdout",
     "output_type": "stream",
     "text": [
      "5651\n",
      "9349\n"
     ]
    }
   ],
   "source": [
    "def n_prior_to_condition(df, n, condition):\n",
    "    groups = condition.iloc[::-1].cumsum()\n",
    "    return df.groupby(groups).tail(n+1)[:15000]\n",
    "\n",
    "for i in range(1,10000):\n",
    "    aux = n_prior_to_condition(df, i, df.is_fishing==\"SI\")  \n",
    "    aux = aux.drop_duplicates()\n",
    "    yes = (len(aux[aux['is_fishing']=='SI']))\n",
    "    no = (len(aux[aux['is_fishing']=='NO']))\n",
    "    if (yes/no<=1):\n",
    "        df=aux\n",
    "        break\n",
    "\n",
    "print(len(df[df['is_fishing']=='SI']))\n",
    "print((len(df[df['is_fishing']=='NO'])))\n",
    "df.to_csv(f\"../../df_procesado/{config['output_label']}_fe_recortado.csv\",sep=\",\",index=False)  "
   ]
  },
  {
   "cell_type": "code",
   "execution_count": 18,
   "id": "88806941",
   "metadata": {
    "execution": {
     "iopub.execute_input": "2022-04-15T00:10:44.894062Z",
     "iopub.status.busy": "2022-04-15T00:10:44.894062Z",
     "iopub.status.idle": "2022-04-15T00:10:44.916001Z",
     "shell.execute_reply": "2022-04-15T00:10:44.916998Z"
    },
    "papermill": {
     "duration": 0.036876,
     "end_time": "2022-04-15T00:10:44.916998",
     "exception": false,
     "start_time": "2022-04-15T00:10:44.880122",
     "status": "completed"
    },
    "tags": []
   },
   "outputs": [
    {
     "name": "stdout",
     "output_type": "stream",
     "text": [
      "mmsi                   15000\n",
      "timestamp              15000\n",
      "distance_from_shore    15000\n",
      "distance_from_port     15000\n",
      "speed                  15000\n",
      "course                 15000\n",
      "lat                    15000\n",
      "lon                    15000\n",
      "is_fishing             15000\n",
      "source                 15000\n",
      "datetime               15000\n",
      "sun_state              15000\n",
      "distance               15000\n",
      "timediff               15000\n",
      "S0                     15000\n",
      "A0                     15000\n",
      "J0                     15000\n",
      "C0                     15000\n",
      "Vavg                   15000\n",
      "Delta_S                15000\n",
      "Cavg                   15000\n",
      "Delta_C                15000\n",
      "speed_lag_1            15000\n",
      "speed_lag_2            15000\n",
      "speed_lag_3            15000\n",
      "speed_lag_4            15000\n",
      "speed_lag_5            15000\n",
      "speed_lag_6            15000\n",
      "course_lag_1           15000\n",
      "course_lag_2           15000\n",
      "course_lag_3           15000\n",
      "course_lag_4           15000\n",
      "course_lag_5           15000\n",
      "course_lag_6           15000\n",
      "S0_lag_1               15000\n",
      "S0_lag_2               15000\n",
      "S0_lag_3               15000\n",
      "S0_lag_4               15000\n",
      "S0_lag_5               15000\n",
      "S0_lag_6               15000\n",
      "A0_lag_1               15000\n",
      "A0_lag_2               15000\n",
      "A0_lag_3               15000\n",
      "A0_lag_4               15000\n",
      "A0_lag_5               15000\n",
      "A0_lag_6               15000\n",
      "J0_lag_1               15000\n",
      "J0_lag_2               15000\n",
      "J0_lag_3               15000\n",
      "J0_lag_4               15000\n",
      "J0_lag_5               15000\n",
      "J0_lag_6               15000\n",
      "C0_lag_1               15000\n",
      "C0_lag_2               15000\n",
      "C0_lag_3               15000\n",
      "C0_lag_4               15000\n",
      "C0_lag_5               15000\n",
      "C0_lag_6               15000\n",
      "dtype: int64\n"
     ]
    }
   ],
   "source": [
    "print(df.count())"
   ]
  }
 ],
 "metadata": {
  "interpreter": {
   "hash": "db2a60f505a9041374f6f3fb78368755bb5bc9c69ef08139ad82abb6b35de715"
  },
  "kernelspec": {
   "display_name": "Python 3.8.8 64-bit ('base': conda)",
   "name": "python3"
  },
  "language_info": {
   "codemirror_mode": {
    "name": "ipython",
    "version": 3
   },
   "file_extension": ".py",
   "mimetype": "text/x-python",
   "name": "python",
   "nbconvert_exporter": "python",
   "pygments_lexer": "ipython3",
   "version": "3.8.8"
  },
  "papermill": {
   "default_parameters": {},
   "duration": 1609.228443,
   "end_time": "2022-04-15T00:10:48.447569",
   "environment_variables": {},
   "exception": null,
   "input_path": "notebooks/feature_engineering.ipynb",
   "output_path": "papermill_outputs/feature_engineering/drifting_longlines/feature_engineering_drifting_longlines.ipynb",
   "parameters": {
    "config": {
     "data_path": "C:/Users/nico_/Desktop/ITBA/TFI/global fishing watch/dataset/drifting_longlines.csv",
     "notebook": "notebooks/feature_engineering.ipynb",
     "output_label": "drifting_longlines"
    }
   },
   "start_time": "2022-04-14T23:43:59.219126",
   "version": "2.3.4"
  }
 },
 "nbformat": 4,
 "nbformat_minor": 5
}
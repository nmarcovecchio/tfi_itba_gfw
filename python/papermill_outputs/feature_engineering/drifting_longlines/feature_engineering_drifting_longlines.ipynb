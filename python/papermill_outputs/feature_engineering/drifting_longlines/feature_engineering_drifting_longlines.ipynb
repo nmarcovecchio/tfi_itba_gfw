{
 "cells": [
  {
   "cell_type": "code",
   "execution_count": 1,
   "id": "24621602",
   "metadata": {
    "execution": {
     "iopub.execute_input": "2022-04-10T03:24:34.656389Z",
     "iopub.status.busy": "2022-04-10T03:24:34.656389Z",
     "iopub.status.idle": "2022-04-10T03:24:34.662373Z",
     "shell.execute_reply": "2022-04-10T03:24:34.663371Z"
    },
    "papermill": {
     "duration": 0.01895,
     "end_time": "2022-04-10T03:24:34.663371",
     "exception": false,
     "start_time": "2022-04-10T03:24:34.644421",
     "status": "completed"
    },
    "tags": [
     "injected-parameters"
    ]
   },
   "outputs": [],
   "source": [
    "# Parameters\n",
    "config = {\n",
    "    \"notebook\": \"notebooks/feature_engineering.ipynb\",\n",
    "    \"data_path\": \"C:/Users/nico_/Desktop/ITBA/TFI/global fishing watch/dataset/drifting_longlines.csv\",\n",
    "    \"output_label\": \"drifting_longlines\",\n",
    "}\n"
   ]
  },
  {
   "cell_type": "code",
   "execution_count": 2,
   "id": "24c23230",
   "metadata": {
    "execution": {
     "iopub.execute_input": "2022-04-10T03:24:34.689302Z",
     "iopub.status.busy": "2022-04-10T03:24:34.689302Z",
     "iopub.status.idle": "2022-04-10T03:24:34.708253Z",
     "shell.execute_reply": "2022-04-10T03:24:34.708253Z"
    },
    "papermill": {
     "duration": 0.033911,
     "end_time": "2022-04-10T03:24:34.708253",
     "exception": false,
     "start_time": "2022-04-10T03:24:34.674342",
     "status": "completed"
    },
    "tags": []
   },
   "outputs": [
    {
     "name": "stdout",
     "output_type": "stream",
     "text": [
      "{'notebook': 'notebooks/feature_engineering.ipynb', 'data_path': 'C:/Users/nico_/Desktop/ITBA/TFI/global fishing watch/dataset/drifting_longlines.csv', 'output_label': 'drifting_longlines'}\n"
     ]
    }
   ],
   "source": [
    "# check if config exists\n",
    "try:\n",
    "    config\n",
    "except NameError:\n",
    "    config_exists = False\n",
    "else:\n",
    "    config_exists = True\n",
    "\n",
    "# make config if it does not exist already (e.g. passed in by papermill)\n",
    "if not(config_exists):\n",
    "    # set up some config for the experiment run\n",
    "    config = {\n",
    "        \"data_path\" : \"C:/Users/nico_/Desktop/ITBA/TFI/global fishing watch/dataset/trollers.csv\",\n",
    "        \"output_label\": \"trollers\"\n",
    "    }\n",
    "print(config)"
   ]
  },
  {
   "cell_type": "code",
   "execution_count": 3,
   "id": "2608fc36",
   "metadata": {
    "execution": {
     "iopub.execute_input": "2022-04-10T03:24:34.742160Z",
     "iopub.status.busy": "2022-04-10T03:24:34.741163Z",
     "iopub.status.idle": "2022-04-10T03:28:29.795229Z",
     "shell.execute_reply": "2022-04-10T03:28:29.780557Z"
    },
    "papermill": {
     "duration": 235.103026,
     "end_time": "2022-04-10T03:28:29.824242",
     "exception": false,
     "start_time": "2022-04-10T03:24:34.721216",
     "status": "completed"
    },
    "tags": []
   },
   "outputs": [],
   "source": [
    "import pandas as pd\n",
    "import numpy as np\n",
    "from sklearn.tree import DecisionTreeClassifier # Import Decision Tree Classifier\n",
    "from sklearn.model_selection import train_test_split # Import train_test_split function\n",
    "from sklearn import metrics #Import scikit-learn metrics module for accuracy calculation\n",
    "\n",
    "df = pd.read_csv(config['data_path'], header=\"infer\", sep=\",\",error_bad_lines=False, engine ='python')\n",
    "\n",
    "#Nos quedamos con los puntos que estan mayor a 3 millas nauticas de la costa.\n",
    "df = df[(df['distance_from_shore'] >= 5556)]\n",
    "\n",
    "#Nos quedamos solamente con los valores que estamos seguros que esta o no esta pescando.\n",
    "df = df[(df['is_fishing'] == -1.0)  | (df['is_fishing'] == 1.0) ]\n",
    "\n",
    "#Renombramos las columnas de la variable a predecir de si esta pescando o no.\n",
    "df[\"is_fishing\"] = np.where(df[\"is_fishing\"] == 1.0, 'SI', 'NO')\n",
    "\n",
    "#Dropeamos los que contienen el mismo timestamp.\n",
    "df = df.drop_duplicates(subset='timestamp', keep=\"first\")\n",
    "\n",
    "df[\"timestamp\"]=df[\"timestamp\"].astype(int)\n",
    "#df['date_series'] = pd.to_datetime(df['timestamp'],unit='s')\n",
    "#df = df.set_index('date_series') \n",
    "df['datetime'] = pd.to_datetime(df['timestamp'],unit='s')\n",
    "df.index = df.datetime\n",
    "#print(df['date_series'])\n",
    "\n",
    "\n",
    "#print(df.resample('60Min',on='datetime'))\n",
    "df = df.resample('5Min',on='datetime').agg('first').dropna()  \n",
    "df.reset_index(drop=True, inplace=True)\n",
    "#print(df)"
   ]
  },
  {
   "cell_type": "code",
   "execution_count": 4,
   "id": "9cd2c44e",
   "metadata": {
    "execution": {
     "iopub.execute_input": "2022-04-10T03:28:31.175258Z",
     "iopub.status.busy": "2022-04-10T03:28:31.175258Z",
     "iopub.status.idle": "2022-04-10T03:28:46.758838Z",
     "shell.execute_reply": "2022-04-10T03:28:46.757839Z"
    },
    "papermill": {
     "duration": 15.883285,
     "end_time": "2022-04-10T03:28:46.758838",
     "exception": false,
     "start_time": "2022-04-10T03:28:30.875553",
     "status": "completed"
    },
    "tags": []
   },
   "outputs": [],
   "source": [
    "#There are multiple definitions for night, depending if it's for civil (-6°), nautical (-12°) or astronomical (-18°) purposes. \n",
    "# Just pick a treshold : if the sun is below, it's nighttime!\n",
    "\n",
    "import ephem\n",
    "import math\n",
    "import datetime\n",
    "\n",
    "def get_day_night(lat,lon,datetime): \n",
    "    sun = ephem.Sun()\n",
    "    observer = ephem.Observer()\n",
    "    # ↓ Define your coordinates here ↓\n",
    "    observer.lat, observer.lon, observer.elevation = lat, lon, 0\n",
    "    # ↓ Set the time (UTC) here ↓\n",
    "    #observer.date = datetime.datetime.utcnow()\n",
    "    observer.date=datetime\n",
    "    sun.compute(observer)\n",
    "    current_sun_alt = sun.alt\n",
    "    if (current_sun_alt*180/math.pi) < -12.0 :\n",
    "        return 2\n",
    "    else:\n",
    "        return 1\n",
    "    \n",
    "df['sun_state'] = df.apply(lambda x: get_day_night(x['lat'], x['lon'],x['datetime']), axis=1)"
   ]
  },
  {
   "cell_type": "code",
   "execution_count": 5,
   "id": "490de860",
   "metadata": {
    "execution": {
     "iopub.execute_input": "2022-04-10T03:28:46.777786Z",
     "iopub.status.busy": "2022-04-10T03:28:46.777786Z",
     "iopub.status.idle": "2022-04-10T03:28:47.126029Z",
     "shell.execute_reply": "2022-04-10T03:28:47.127011Z"
    },
    "papermill": {
     "duration": 0.360195,
     "end_time": "2022-04-10T03:28:47.127011",
     "exception": false,
     "start_time": "2022-04-10T03:28:46.766816",
     "status": "completed"
    },
    "tags": []
   },
   "outputs": [
    {
     "data": {
      "text/plain": [
       "1    296107\n",
       "2    169675\n",
       "Name: sun_state, dtype: int64"
      ]
     },
     "execution_count": 5,
     "metadata": {},
     "output_type": "execute_result"
    }
   ],
   "source": [
    "df[\"sun_state\"].value_counts()"
   ]
  },
  {
   "cell_type": "markdown",
   "id": "7099c517",
   "metadata": {
    "papermill": {
     "duration": 0.006983,
     "end_time": "2022-04-10T03:28:47.159772",
     "exception": false,
     "start_time": "2022-04-10T03:28:47.152789",
     "status": "completed"
    },
    "tags": []
   },
   "source": [
    "Se pesca mas de noche, que de dia"
   ]
  },
  {
   "cell_type": "code",
   "execution_count": 6,
   "id": "b5361dd4",
   "metadata": {
    "execution": {
     "iopub.execute_input": "2022-04-10T03:28:47.318884Z",
     "iopub.status.busy": "2022-04-10T03:28:47.299956Z",
     "iopub.status.idle": "2022-04-10T03:28:51.339621Z",
     "shell.execute_reply": "2022-04-10T03:28:51.338624Z"
    },
    "papermill": {
     "duration": 4.172868,
     "end_time": "2022-04-10T03:28:51.339621",
     "exception": false,
     "start_time": "2022-04-10T03:28:47.166753",
     "status": "completed"
    },
    "tags": []
   },
   "outputs": [
    {
     "name": "stdout",
     "output_type": "stream",
     "text": [
      "           sun_state                                   \n",
      "               count      mean       std  min  50%  max\n",
      "is_fishing                                             \n",
      "NO          459194.0  1.364219  0.481211  1.0  1.0  2.0\n",
      "SI            6588.0  1.368549  0.482448  1.0  1.0  2.0\n"
     ]
    }
   ],
   "source": [
    "print(df.groupby([\"is_fishing\"])[['sun_state']].describe(percentiles=[]))"
   ]
  },
  {
   "cell_type": "code",
   "execution_count": 7,
   "id": "c918bf21",
   "metadata": {
    "execution": {
     "iopub.execute_input": "2022-04-10T03:28:51.413063Z",
     "iopub.status.busy": "2022-04-10T03:28:51.412072Z",
     "iopub.status.idle": "2022-04-10T03:29:09.369733Z",
     "shell.execute_reply": "2022-04-10T03:29:09.369733Z"
    },
    "papermill": {
     "duration": 17.96866,
     "end_time": "2022-04-10T03:29:09.369733",
     "exception": false,
     "start_time": "2022-04-10T03:28:51.401073",
     "status": "completed"
    },
    "tags": []
   },
   "outputs": [],
   "source": [
    "def haversine_np(lon1, lat1, lon2, lat2):\n",
    "    lon1, lat1, lon2, lat2 = map(np.radians, [lon1, lat1, lon2, lat2])\n",
    "\n",
    "    dlon = lon2 - lon1\n",
    "    dlat = lat2 - lat1\n",
    "\n",
    "    a = np.sin(dlat/2.0)**2 + np.cos(lat1) * np.cos(lat2) * np.sin(dlon/2.0)**2\n",
    "\n",
    "    c = 2 * np.arcsin(np.sqrt(a))\n",
    "    km = 6367 * c\n",
    "    return km\n",
    "\n",
    "def distance(x):\n",
    "    y = x.shift()\n",
    "    return haversine_np(x['lat'], x['lon'], y['lat'], y['lon']).fillna(0)\n",
    "\n",
    "df['distance'] = df.groupby('mmsi').apply(distance).reset_index(level=0, drop=True)"
   ]
  },
  {
   "cell_type": "code",
   "execution_count": 8,
   "id": "b1417681",
   "metadata": {
    "execution": {
     "iopub.execute_input": "2022-04-10T03:29:09.388683Z",
     "iopub.status.busy": "2022-04-10T03:29:09.388683Z",
     "iopub.status.idle": "2022-04-10T03:29:09.402669Z",
     "shell.execute_reply": "2022-04-10T03:29:09.401648Z"
    },
    "papermill": {
     "duration": 0.024956,
     "end_time": "2022-04-10T03:29:09.402669",
     "exception": false,
     "start_time": "2022-04-10T03:29:09.377713",
     "status": "completed"
    },
    "tags": []
   },
   "outputs": [],
   "source": [
    "#Convierto latitud y longitud a radianes\n",
    "df['lat'] = np.radians(df['lat'])\n",
    "df['lon'] = np.radians(df['lon'])"
   ]
  },
  {
   "cell_type": "code",
   "execution_count": 9,
   "id": "7cfce6dc",
   "metadata": {
    "execution": {
     "iopub.execute_input": "2022-04-10T03:29:09.436820Z",
     "iopub.status.busy": "2022-04-10T03:29:09.436820Z",
     "iopub.status.idle": "2022-04-10T03:29:09.574883Z",
     "shell.execute_reply": "2022-04-10T03:29:09.574883Z"
    },
    "papermill": {
     "duration": 0.150002,
     "end_time": "2022-04-10T03:29:09.575880",
     "exception": false,
     "start_time": "2022-04-10T03:29:09.425878",
     "status": "completed"
    },
    "tags": []
   },
   "outputs": [],
   "source": [
    "#Calculo la diferencia de tiempo entre puntos consecutivos.\n",
    "df['timediff']= df.groupby('mmsi')['timestamp'].diff()"
   ]
  },
  {
   "cell_type": "code",
   "execution_count": 10,
   "id": "5bcb06aa",
   "metadata": {
    "execution": {
     "iopub.execute_input": "2022-04-10T03:29:09.593832Z",
     "iopub.status.busy": "2022-04-10T03:29:09.592835Z",
     "iopub.status.idle": "2022-04-10T03:29:09.606083Z",
     "shell.execute_reply": "2022-04-10T03:29:09.606083Z"
    },
    "papermill": {
     "duration": 0.024193,
     "end_time": "2022-04-10T03:29:09.607081",
     "exception": false,
     "start_time": "2022-04-10T03:29:09.582888",
     "status": "completed"
    },
    "tags": []
   },
   "outputs": [],
   "source": [
    "#Normalizamos la variable curso\n",
    "df['course']=df['course']/360.0"
   ]
  },
  {
   "cell_type": "code",
   "execution_count": 11,
   "id": "4d49f8ea",
   "metadata": {
    "execution": {
     "iopub.execute_input": "2022-04-10T03:29:09.639442Z",
     "iopub.status.busy": "2022-04-10T03:29:09.638424Z",
     "iopub.status.idle": "2022-04-10T03:29:10.513310Z",
     "shell.execute_reply": "2022-04-10T03:29:10.513310Z"
    },
    "papermill": {
     "duration": 0.898251,
     "end_time": "2022-04-10T03:29:10.513310",
     "exception": false,
     "start_time": "2022-04-10T03:29:09.615059",
     "status": "completed"
    },
    "tags": []
   },
   "outputs": [],
   "source": [
    "#Agregar esto deberia de hacer robusto a mi algoritmo a LAT/LON y timestamps.\n",
    "\n",
    "\n",
    "\n",
    "#Velocidad entre puntos a partir de la distancia        S = x(t2)-x(t1) / t2 - t1\n",
    "df['S0']= df['distance']/df['timediff']\n",
    "#Aceleracion rectilinea         A = S(t2)-S(t1) / t2 - t1\n",
    "df['A0']= df.groupby('mmsi')['S0'].diff()/df['timediff']\n",
    "#Jerk                           J = A(t2)-A(t1) / t2 - t1\n",
    "df['J0']= df.groupby('mmsi')['A0'].diff()/df['timediff']\n",
    "#Derivada del curso             Phi = C(t2)-C(t1) / t2 - t1\n",
    "df['C0']= df.groupby('mmsi')['course'].diff()/df['timediff']\n",
    "#2 Horas deberia de ser suficientemente informativo para saber el comportamiento del buque (paper subrayado)\n",
    "\n",
    "#Velocidad promedio entre puntos    Vavg = V1 + V2 / 2\n",
    "df['Vavg']  = df.groupby('mmsi')['speed'].transform(lambda x: x.rolling(2, 1).mean())\n",
    "\n",
    "\n",
    "#Variacion de velocidad entre puntos Delta_S = V2 - V1 / 2 \n",
    "df['Delta_S']= (df.groupby('mmsi')['speed'].diff())/2\n",
    "\n",
    "#Curso promedio entre puntos        Cavg = C1 + C2 / 2\n",
    "df['Cavg'] = df.groupby('mmsi')['course'].transform(lambda x: x.rolling(2, 1).mean())\n",
    "#Variacion del curso                DeltaC = C2-C1/2\n",
    "df['Delta_C']= (df.groupby('mmsi')['course'].diff())/2\n"
   ]
  },
  {
   "cell_type": "code",
   "execution_count": 12,
   "id": "b8694f3a",
   "metadata": {
    "execution": {
     "iopub.execute_input": "2022-04-10T03:29:10.536266Z",
     "iopub.status.busy": "2022-04-10T03:29:10.535274Z",
     "iopub.status.idle": "2022-04-10T03:29:10.650915Z",
     "shell.execute_reply": "2022-04-10T03:29:10.649918Z"
    },
    "papermill": {
     "duration": 0.127633,
     "end_time": "2022-04-10T03:29:10.650915",
     "exception": false,
     "start_time": "2022-04-10T03:29:10.523282",
     "status": "completed"
    },
    "tags": []
   },
   "outputs": [],
   "source": [
    "number_lags = 6\n",
    "columns_to_lag = ['speed','course','S0','A0','J0','C0']\n",
    "\n",
    "#df = pd.DataFrame(data={'vals':[5,4,3,2,1]})\n",
    "for column in columns_to_lag:\n",
    "    for lag in range(1, number_lags + 1):\n",
    "        df[str(column) +'_lag_' + str(lag)] = df[column].shift(lag)\n"
   ]
  },
  {
   "cell_type": "code",
   "execution_count": 13,
   "id": "f56683f9",
   "metadata": {
    "execution": {
     "iopub.execute_input": "2022-04-10T03:29:10.728833Z",
     "iopub.status.busy": "2022-04-10T03:29:10.727834Z",
     "iopub.status.idle": "2022-04-10T03:29:10.744106Z",
     "shell.execute_reply": "2022-04-10T03:29:10.744106Z"
    },
    "papermill": {
     "duration": 0.086177,
     "end_time": "2022-04-10T03:29:10.745070",
     "exception": false,
     "start_time": "2022-04-10T03:29:10.658893",
     "status": "completed"
    },
    "tags": []
   },
   "outputs": [
    {
     "name": "stdout",
     "output_type": "stream",
     "text": [
      "Index(['mmsi', 'timestamp', 'distance_from_shore', 'distance_from_port',\n",
      "       'speed', 'course', 'lat', 'lon', 'is_fishing', 'source', 'datetime',\n",
      "       'sun_state', 'distance', 'timediff', 'S0', 'A0', 'J0', 'C0', 'Vavg',\n",
      "       'Delta_S', 'Cavg', 'Delta_C', 'speed_lag_1', 'speed_lag_2',\n",
      "       'speed_lag_3', 'speed_lag_4', 'speed_lag_5', 'speed_lag_6',\n",
      "       'course_lag_1', 'course_lag_2', 'course_lag_3', 'course_lag_4',\n",
      "       'course_lag_5', 'course_lag_6', 'S0_lag_1', 'S0_lag_2', 'S0_lag_3',\n",
      "       'S0_lag_4', 'S0_lag_5', 'S0_lag_6', 'A0_lag_1', 'A0_lag_2', 'A0_lag_3',\n",
      "       'A0_lag_4', 'A0_lag_5', 'A0_lag_6', 'J0_lag_1', 'J0_lag_2', 'J0_lag_3',\n",
      "       'J0_lag_4', 'J0_lag_5', 'J0_lag_6', 'C0_lag_1', 'C0_lag_2', 'C0_lag_3',\n",
      "       'C0_lag_4', 'C0_lag_5', 'C0_lag_6'],\n",
      "      dtype='object')\n"
     ]
    }
   ],
   "source": [
    "print(df.columns)\n"
   ]
  },
  {
   "cell_type": "code",
   "execution_count": 14,
   "id": "c024b43f",
   "metadata": {
    "execution": {
     "iopub.execute_input": "2022-04-10T03:29:10.765017Z",
     "iopub.status.busy": "2022-04-10T03:29:10.764020Z",
     "iopub.status.idle": "2022-04-10T03:29:40.036562Z",
     "shell.execute_reply": "2022-04-10T03:29:40.035565Z"
    },
    "papermill": {
     "duration": 29.283485,
     "end_time": "2022-04-10T03:29:40.036562",
     "exception": false,
     "start_time": "2022-04-10T03:29:10.753077",
     "status": "completed"
    },
    "tags": []
   },
   "outputs": [],
   "source": [
    "df = df.dropna()\n",
    "df.to_csv(f\"./df_procesado/{config['output_label']}_fe.csv\",sep=\",\")  "
   ]
  },
  {
   "cell_type": "code",
   "execution_count": 15,
   "id": "25a51708",
   "metadata": {
    "execution": {
     "iopub.execute_input": "2022-04-10T03:29:40.056510Z",
     "iopub.status.busy": "2022-04-10T03:29:40.055511Z",
     "iopub.status.idle": "2022-04-10T03:29:40.177983Z",
     "shell.execute_reply": "2022-04-10T03:29:40.177983Z"
    },
    "papermill": {
     "duration": 0.133414,
     "end_time": "2022-04-10T03:29:40.177983",
     "exception": false,
     "start_time": "2022-04-10T03:29:40.044569",
     "status": "completed"
    },
    "tags": []
   },
   "outputs": [
    {
     "name": "stdout",
     "output_type": "stream",
     "text": [
      "mmsi                   464072\n",
      "timestamp              464072\n",
      "distance_from_shore    464072\n",
      "distance_from_port     464072\n",
      "speed                  464072\n",
      "course                 464072\n",
      "lat                    464072\n",
      "lon                    464072\n",
      "is_fishing             464072\n",
      "source                 464072\n",
      "datetime               464072\n",
      "sun_state              464072\n",
      "distance               464072\n",
      "timediff               464072\n",
      "S0                     464072\n",
      "A0                     464072\n",
      "J0                     464072\n",
      "C0                     464072\n",
      "Vavg                   464072\n",
      "Delta_S                464072\n",
      "Cavg                   464072\n",
      "Delta_C                464072\n",
      "speed_lag_1            464072\n",
      "speed_lag_2            464072\n",
      "speed_lag_3            464072\n",
      "speed_lag_4            464072\n",
      "speed_lag_5            464072\n",
      "speed_lag_6            464072\n",
      "course_lag_1           464072\n",
      "course_lag_2           464072\n",
      "course_lag_3           464072\n",
      "course_lag_4           464072\n",
      "course_lag_5           464072\n",
      "course_lag_6           464072\n",
      "S0_lag_1               464072\n",
      "S0_lag_2               464072\n",
      "S0_lag_3               464072\n",
      "S0_lag_4               464072\n",
      "S0_lag_5               464072\n",
      "S0_lag_6               464072\n",
      "A0_lag_1               464072\n",
      "A0_lag_2               464072\n",
      "A0_lag_3               464072\n",
      "A0_lag_4               464072\n",
      "A0_lag_5               464072\n",
      "A0_lag_6               464072\n",
      "J0_lag_1               464072\n",
      "J0_lag_2               464072\n",
      "J0_lag_3               464072\n",
      "J0_lag_4               464072\n",
      "J0_lag_5               464072\n",
      "J0_lag_6               464072\n",
      "C0_lag_1               464072\n",
      "C0_lag_2               464072\n",
      "C0_lag_3               464072\n",
      "C0_lag_4               464072\n",
      "C0_lag_5               464072\n",
      "C0_lag_6               464072\n",
      "dtype: int64\n"
     ]
    }
   ],
   "source": [
    "print(df.count())"
   ]
  }
 ],
 "metadata": {
  "interpreter": {
   "hash": "db2a60f505a9041374f6f3fb78368755bb5bc9c69ef08139ad82abb6b35de715"
  },
  "kernelspec": {
   "display_name": "Python 3.8.8 64-bit ('base': conda)",
   "name": "python3"
  },
  "language_info": {
   "codemirror_mode": {
    "name": "ipython",
    "version": 3
   },
   "file_extension": ".py",
   "mimetype": "text/x-python",
   "name": "python",
   "nbconvert_exporter": "python",
   "pygments_lexer": "ipython3",
   "version": "3.8.8"
  },
  "papermill": {
   "default_parameters": {},
   "duration": 311.763876,
   "end_time": "2022-04-10T03:29:45.154554",
   "environment_variables": {},
   "exception": null,
   "input_path": "notebooks/feature_engineering.ipynb",
   "output_path": "papermill_outputs/feature_engineering/drifting_longlines/feature_engineering_drifting_longlines.ipynb",
   "parameters": {
    "config": {
     "data_path": "C:/Users/nico_/Desktop/ITBA/TFI/global fishing watch/dataset/drifting_longlines.csv",
     "notebook": "notebooks/feature_engineering.ipynb",
     "output_label": "drifting_longlines"
    }
   },
   "start_time": "2022-04-10T03:24:33.390678",
   "version": "2.3.4"
  }
 },
 "nbformat": 4,
 "nbformat_minor": 5
}
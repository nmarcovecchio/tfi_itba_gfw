{
 "cells": [
  {
   "cell_type": "code",
   "execution_count": 1,
   "id": "72f5cef2",
   "metadata": {
    "execution": {
     "iopub.execute_input": "2022-06-17T14:56:36.419817Z",
     "iopub.status.busy": "2022-06-17T14:56:36.418819Z",
     "iopub.status.idle": "2022-06-17T14:56:36.434777Z",
     "shell.execute_reply": "2022-06-17T14:56:36.435774Z"
    },
    "papermill": {
     "duration": 0.032912,
     "end_time": "2022-06-17T14:56:36.435774",
     "exception": false,
     "start_time": "2022-06-17T14:56:36.402862",
     "status": "completed"
    },
    "tags": [
     "injected-parameters"
    ]
   },
   "outputs": [],
   "source": [
    "# Parameters\n",
    "config = {\n",
    "    \"notebook\": \"notebooks/feature_engineering.ipynb\",\n",
    "    \"data_path\": \"C:/Users/nico_/Desktop/ITBA/TFI/global fishing watch/dataset/drifting_longlines.csv\",\n",
    "    \"output_label\": \"drifting_longlines\",\n",
    "}\n"
   ]
  },
  {
   "cell_type": "code",
   "execution_count": 2,
   "id": "7d715bc7",
   "metadata": {
    "execution": {
     "iopub.execute_input": "2022-06-17T14:56:36.464697Z",
     "iopub.status.busy": "2022-06-17T14:56:36.463699Z",
     "iopub.status.idle": "2022-06-17T14:56:36.481651Z",
     "shell.execute_reply": "2022-06-17T14:56:36.482649Z"
    },
    "papermill": {
     "duration": 0.034907,
     "end_time": "2022-06-17T14:56:36.482649",
     "exception": false,
     "start_time": "2022-06-17T14:56:36.447742",
     "status": "completed"
    },
    "tags": []
   },
   "outputs": [
    {
     "name": "stdout",
     "output_type": "stream",
     "text": [
      "{'notebook': 'notebooks/feature_engineering.ipynb', 'data_path': 'C:/Users/nico_/Desktop/ITBA/TFI/global fishing watch/dataset/drifting_longlines.csv', 'output_label': 'drifting_longlines'}\n"
     ]
    }
   ],
   "source": [
    "# check if config exists\n",
    "try:\n",
    "    config\n",
    "except NameError:\n",
    "    config_exists = False\n",
    "else:\n",
    "    config_exists = True\n",
    "\n",
    "# make config if it does not exist already (e.g. passed in by papermill)\n",
    "if not(config_exists):\n",
    "    # set up some config for the experiment run\n",
    "    config = {\n",
    "        \"data_path\" : \"C:/Users/nico_/Desktop/ITBA/TFI/global fishing watch/dataset/trollers.csv\",\n",
    "        \"output_label\": \"trollers\"\n",
    "    }\n",
    "print(config)"
   ]
  },
  {
   "cell_type": "code",
   "execution_count": 3,
   "id": "f58644bc",
   "metadata": {
    "execution": {
     "iopub.execute_input": "2022-06-17T14:56:36.512568Z",
     "iopub.status.busy": "2022-06-17T14:56:36.512568Z",
     "iopub.status.idle": "2022-06-17T15:02:56.715962Z",
     "shell.execute_reply": "2022-06-17T15:02:56.717957Z"
    },
    "papermill": {
     "duration": 380.275201,
     "end_time": "2022-06-17T15:02:56.769818",
     "exception": false,
     "start_time": "2022-06-17T14:56:36.494617",
     "status": "completed"
    },
    "tags": []
   },
   "outputs": [],
   "source": [
    "import pandas as pd\n",
    "import numpy as np\n",
    "from sklearn.tree import DecisionTreeClassifier # Import Decision Tree Classifier\n",
    "from sklearn.model_selection import train_test_split # Import train_test_split function\n",
    "from sklearn import metrics #Import scikit-learn metrics module for accuracy calculation\n",
    "\n",
    "df = pd.read_csv(config['data_path'], header=\"infer\", sep=\",\",error_bad_lines=False, engine ='python')\n",
    "\n",
    "#Nos quedamos con los puntos que estan mayor a 3 millas nauticas de la costa.\n",
    "df = df[(df['distance_from_shore'] >= 5556)]\n",
    "\n",
    "#Nos quedamos solamente con los valores que estamos seguros que esta o no esta pescando.\n",
    "df = df[(df['is_fishing'] == -1.0)  | (df['is_fishing'] == 1.0) ]\n",
    "\n",
    "#Renombramos las columnas de la variable a predecir de si esta pescando o no.\n",
    "df[\"is_fishing\"] = np.where(df[\"is_fishing\"] == 1.0, 'SI', 'NO')\n",
    "\n",
    "#Dropeamos los que contienen el mismo timestamp.\n",
    "df = df.drop_duplicates(subset='timestamp', keep=\"first\")\n",
    "\n",
    "df[\"timestamp\"]=df[\"timestamp\"].astype(int)\n",
    "#df['date_series'] = pd.to_datetime(df['timestamp'],unit='s')\n",
    "#df = df.set_index('date_series') \n",
    "df['datetime'] = pd.to_datetime(df['timestamp'],unit='s')\n",
    "df.index = df.datetime\n",
    "#print(df['date_series'])\n",
    "\n",
    "aux = df\n"
   ]
  },
  {
   "cell_type": "code",
   "execution_count": 4,
   "id": "830aefcb",
   "metadata": {
    "execution": {
     "iopub.execute_input": "2022-06-17T15:02:56.913434Z",
     "iopub.status.busy": "2022-06-17T15:02:56.912437Z",
     "iopub.status.idle": "2022-06-17T15:03:03.002142Z",
     "shell.execute_reply": "2022-06-17T15:03:03.001145Z"
    },
    "papermill": {
     "duration": 6.120623,
     "end_time": "2022-06-17T15:03:03.002142",
     "exception": false,
     "start_time": "2022-06-17T15:02:56.881519",
     "status": "completed"
    },
    "tags": []
   },
   "outputs": [
    {
     "name": "stdout",
     "output_type": "stream",
     "text": [
      "9798672\n"
     ]
    },
    {
     "name": "stdout",
     "output_type": "stream",
     "text": [
      "465782\n"
     ]
    }
   ],
   "source": [
    "#print(df.resample('60Min',on='datetime'))\n",
    "df = aux\n",
    "print(len(df))\n",
    "df = df.resample('5Min',on='datetime').agg('first').dropna()  \n",
    "df.reset_index(drop=True, inplace=True)\n",
    "print(len(df))\n",
    "#print(df)"
   ]
  },
  {
   "cell_type": "code",
   "execution_count": 5,
   "id": "74d27285",
   "metadata": {
    "execution": {
     "iopub.execute_input": "2022-06-17T15:03:03.059987Z",
     "iopub.status.busy": "2022-06-17T15:03:03.058990Z",
     "iopub.status.idle": "2022-06-17T15:03:03.238510Z",
     "shell.execute_reply": "2022-06-17T15:03:03.239507Z"
    },
    "papermill": {
     "duration": 0.223403,
     "end_time": "2022-06-17T15:03:03.239507",
     "exception": false,
     "start_time": "2022-06-17T15:03:03.016104",
     "status": "completed"
    },
    "tags": []
   },
   "outputs": [
    {
     "name": "stdout",
     "output_type": "stream",
     "text": [
      "   timestamp  valores            datetime\n",
      "0          1        3 1970-01-01 00:00:01\n",
      "1          2        4 1970-01-01 00:00:02\n",
      "2          3        5 1970-01-01 00:00:03\n",
      "3          4        6 1970-01-01 00:00:04\n",
      "4        120        7 1970-01-01 00:02:00\n",
      "5        241        8 1970-01-01 00:04:01\n",
      "6        421        9 1970-01-01 00:07:01\n"
     ]
    },
    {
     "name": "stdout",
     "output_type": "stream",
     "text": [
      "                     timestamp  valores            datetime\n",
      "datetime                                                   \n",
      "1970-01-01 00:00:00        1.0      3.0 1970-01-01 00:00:01\n",
      "1970-01-01 00:02:00      120.0      7.0 1970-01-01 00:02:00\n",
      "1970-01-01 00:04:00      241.0      8.0 1970-01-01 00:04:01\n",
      "1970-01-01 00:07:00      421.0      9.0 1970-01-01 00:07:01\n"
     ]
    }
   ],
   "source": [
    "#EJEMPLO DE RESAMPLE PARA VER QUE FUNCIONA OK.\n",
    "d = {'timestamp': [1, 2,3,4,60*2,60*4+1,60*7+1], 'valores': [3, 4,5,6,7,8,9]}\n",
    "d = pd.DataFrame(data=d)\n",
    "\n",
    "d['datetime'] = pd.to_datetime(d['timestamp'],unit='s')\n",
    "print(d)\n",
    "\n",
    "d = d.resample('1Min',on='datetime').agg('first').dropna()  \n",
    "print(d)"
   ]
  },
  {
   "cell_type": "code",
   "execution_count": 6,
   "id": "fa73acab",
   "metadata": {
    "execution": {
     "iopub.execute_input": "2022-06-17T15:03:03.292365Z",
     "iopub.status.busy": "2022-06-17T15:03:03.291368Z",
     "iopub.status.idle": "2022-06-17T15:03:26.732644Z",
     "shell.execute_reply": "2022-06-17T15:03:26.733641Z"
    },
    "papermill": {
     "duration": 23.478177,
     "end_time": "2022-06-17T15:03:26.733641",
     "exception": false,
     "start_time": "2022-06-17T15:03:03.255464",
     "status": "completed"
    },
    "tags": []
   },
   "outputs": [],
   "source": [
    "#There are multiple definitions for night, depending if it's for civil (-6°), nautical (-12°) or astronomical (-18°) purposes. \n",
    "# Just pick a treshold : if the sun is below, it's nighttime!\n",
    "\n",
    "import ephem\n",
    "import math\n",
    "import datetime\n",
    "\n",
    "def get_day_night(lat,lon,datetime): \n",
    "    sun = ephem.Sun()\n",
    "    observer = ephem.Observer()\n",
    "    # ↓ Define your coordinates here ↓\n",
    "    observer.lat, observer.lon, observer.elevation = lat, lon, 0\n",
    "    # ↓ Set the time (UTC) here ↓\n",
    "    #observer.date = datetime.datetime.utcnow()\n",
    "    observer.date=datetime\n",
    "    sun.compute(observer)\n",
    "    current_sun_alt = sun.alt\n",
    "    if (current_sun_alt*180/math.pi) < -12.0 :\n",
    "        return 2\n",
    "    else:\n",
    "        return 1\n",
    "    \n",
    "df['sun_state'] = df.apply(lambda x: get_day_night(x['lat'], x['lon'],x['datetime']), axis=1)"
   ]
  },
  {
   "cell_type": "code",
   "execution_count": 7,
   "id": "7d612f81",
   "metadata": {
    "execution": {
     "iopub.execute_input": "2022-06-17T15:03:26.958042Z",
     "iopub.status.busy": "2022-06-17T15:03:26.958042Z",
     "iopub.status.idle": "2022-06-17T15:03:26.999929Z",
     "shell.execute_reply": "2022-06-17T15:03:26.999929Z"
    },
    "papermill": {
     "duration": 0.251328,
     "end_time": "2022-06-17T15:03:26.999929",
     "exception": false,
     "start_time": "2022-06-17T15:03:26.748601",
     "status": "completed"
    },
    "tags": []
   },
   "outputs": [
    {
     "data": {
      "text/plain": [
       "1    296107\n",
       "2    169675\n",
       "Name: sun_state, dtype: int64"
      ]
     },
     "execution_count": 7,
     "metadata": {},
     "output_type": "execute_result"
    }
   ],
   "source": [
    "df[\"sun_state\"].value_counts()"
   ]
  },
  {
   "cell_type": "markdown",
   "id": "90e1c4ae",
   "metadata": {
    "papermill": {
     "duration": 0.016956,
     "end_time": "2022-06-17T15:03:27.036832",
     "exception": false,
     "start_time": "2022-06-17T15:03:27.019876",
     "status": "completed"
    },
    "tags": []
   },
   "source": [
    "Se pesca mas de noche, que de dia"
   ]
  },
  {
   "cell_type": "code",
   "execution_count": 8,
   "id": "a84c52ef",
   "metadata": {
    "execution": {
     "iopub.execute_input": "2022-06-17T15:03:27.185433Z",
     "iopub.status.busy": "2022-06-17T15:03:27.134569Z",
     "iopub.status.idle": "2022-06-17T15:03:27.419806Z",
     "shell.execute_reply": "2022-06-17T15:03:27.420803Z"
    },
    "papermill": {
     "duration": 0.368016,
     "end_time": "2022-06-17T15:03:27.420803",
     "exception": false,
     "start_time": "2022-06-17T15:03:27.052787",
     "status": "completed"
    },
    "tags": []
   },
   "outputs": [
    {
     "name": "stdout",
     "output_type": "stream",
     "text": [
      "           sun_state                                   \n",
      "               count      mean       std  min  50%  max\n",
      "is_fishing                                             \n",
      "NO          459194.0  1.364219  0.481211  1.0  1.0  2.0\n",
      "SI            6588.0  1.368549  0.482448  1.0  1.0  2.0\n"
     ]
    }
   ],
   "source": [
    "print(df.groupby([\"is_fishing\"])[['sun_state']].describe(percentiles=[]))"
   ]
  },
  {
   "cell_type": "code",
   "execution_count": 9,
   "id": "ba0dfe09",
   "metadata": {
    "execution": {
     "iopub.execute_input": "2022-06-17T15:03:27.468675Z",
     "iopub.status.busy": "2022-06-17T15:03:27.467678Z",
     "iopub.status.idle": "2022-06-17T15:03:30.048772Z",
     "shell.execute_reply": "2022-06-17T15:03:30.049768Z"
    },
    "papermill": {
     "duration": 2.605029,
     "end_time": "2022-06-17T15:03:30.049768",
     "exception": false,
     "start_time": "2022-06-17T15:03:27.444739",
     "status": "completed"
    },
    "tags": []
   },
   "outputs": [],
   "source": [
    "def haversine_np(lon1, lat1, lon2, lat2):\n",
    "    lon1, lat1, lon2, lat2 = map(np.radians, [lon1, lat1, lon2, lat2])\n",
    "\n",
    "    dlon = lon2 - lon1\n",
    "    dlat = lat2 - lat1\n",
    "\n",
    "    a = np.sin(dlat/2.0)**2 + np.cos(lat1) * np.cos(lat2) * np.sin(dlon/2.0)**2\n",
    "\n",
    "    c = 2 * np.arcsin(np.sqrt(a))\n",
    "    km = 6367 * c\n",
    "    return km\n",
    "\n",
    "def distance(x):\n",
    "    y = x.shift()\n",
    "    return haversine_np(x['lat'], x['lon'], y['lat'], y['lon']).fillna(0)\n",
    "\n",
    "df['distance'] = df.groupby('mmsi').apply(distance).reset_index(level=0, drop=True)"
   ]
  },
  {
   "cell_type": "code",
   "execution_count": 10,
   "id": "b2871934",
   "metadata": {
    "execution": {
     "iopub.execute_input": "2022-06-17T15:03:30.090659Z",
     "iopub.status.busy": "2022-06-17T15:03:30.089662Z",
     "iopub.status.idle": "2022-06-17T15:03:30.111603Z",
     "shell.execute_reply": "2022-06-17T15:03:30.112600Z"
    },
    "papermill": {
     "duration": 0.042885,
     "end_time": "2022-06-17T15:03:30.112600",
     "exception": false,
     "start_time": "2022-06-17T15:03:30.069715",
     "status": "completed"
    },
    "tags": []
   },
   "outputs": [],
   "source": [
    "#Convierto latitud y longitud a radianes\n",
    "df['lat'] = np.radians(df['lat'])\n",
    "df['lon'] = np.radians(df['lon'])"
   ]
  },
  {
   "cell_type": "code",
   "execution_count": 11,
   "id": "50da045b",
   "metadata": {
    "execution": {
     "iopub.execute_input": "2022-06-17T15:03:30.150499Z",
     "iopub.status.busy": "2022-06-17T15:03:30.149502Z",
     "iopub.status.idle": "2022-06-17T15:03:30.416787Z",
     "shell.execute_reply": "2022-06-17T15:03:30.416787Z"
    },
    "papermill": {
     "duration": 0.287232,
     "end_time": "2022-06-17T15:03:30.417784",
     "exception": false,
     "start_time": "2022-06-17T15:03:30.130552",
     "status": "completed"
    },
    "tags": []
   },
   "outputs": [],
   "source": [
    "#Calculo la diferencia de tiempo entre puntos consecutivos.\n",
    "df['timediff']= df.groupby('mmsi')['timestamp'].diff()"
   ]
  },
  {
   "cell_type": "code",
   "execution_count": 12,
   "id": "7a22b03d",
   "metadata": {
    "execution": {
     "iopub.execute_input": "2022-06-17T15:03:30.475629Z",
     "iopub.status.busy": "2022-06-17T15:03:30.474633Z",
     "iopub.status.idle": "2022-06-17T15:03:30.491587Z",
     "shell.execute_reply": "2022-06-17T15:03:30.492584Z"
    },
    "papermill": {
     "duration": 0.035905,
     "end_time": "2022-06-17T15:03:30.492584",
     "exception": false,
     "start_time": "2022-06-17T15:03:30.456679",
     "status": "completed"
    },
    "tags": []
   },
   "outputs": [],
   "source": [
    "#Normalizamos la variable curso\n",
    "df['course']=df['course']/360.0"
   ]
  },
  {
   "cell_type": "code",
   "execution_count": 13,
   "id": "a2288a27",
   "metadata": {
    "execution": {
     "iopub.execute_input": "2022-06-17T15:03:30.531480Z",
     "iopub.status.busy": "2022-06-17T15:03:30.530484Z",
     "iopub.status.idle": "2022-06-17T15:03:32.400479Z",
     "shell.execute_reply": "2022-06-17T15:03:32.399482Z"
    },
    "papermill": {
     "duration": 1.890941,
     "end_time": "2022-06-17T15:03:32.400479",
     "exception": false,
     "start_time": "2022-06-17T15:03:30.509538",
     "status": "completed"
    },
    "tags": []
   },
   "outputs": [],
   "source": [
    "#Agregar esto deberia de hacer robusto a mi algoritmo a LAT/LON y timestamps.\n",
    "\n",
    "#Velocidad entre puntos a partir de la distancia        S = x(t2)-x(t1) / t2 - t1\n",
    "df['S0']= df['distance']/df['timediff']\n",
    "#Aceleracion rectilinea         A = S(t2)-S(t1) / t2 - t1\n",
    "df['A0']= df.groupby('mmsi')['S0'].diff()/df['timediff']\n",
    "#Jerk                           J = A(t2)-A(t1) / t2 - t1\n",
    "df['J0']= df.groupby('mmsi')['A0'].diff()/df['timediff']\n",
    "#Derivada del curso             Phi = C(t2)-C(t1) / t2 - t1\n",
    "df['C0']= df.groupby('mmsi')['course'].diff()/df['timediff']\n",
    "#2 Horas deberia de ser suficientemente informativo para saber el comportamiento del buque \n",
    "#Agregar paper.\n",
    "\n",
    "#Velocidad promedio entre puntos    Vavg = V1 + V2 / 2\n",
    "df['Vavg']  = df.groupby('mmsi')['speed'].transform(lambda x: x.rolling(2, 1).mean())\n",
    "\n",
    "\n",
    "#Variacion de velocidad entre puntos Delta_S = V2 - V1 / 2 \n",
    "df['Delta_S']= (df.groupby('mmsi')['speed'].diff())/2\n",
    "\n",
    "#Curso promedio entre puntos        Cavg = C1 + C2 / 2\n",
    "df['Cavg'] = df.groupby('mmsi')['course'].transform(lambda x: x.rolling(2, 1).mean())\n",
    "#Variacion del curso                DeltaC = C2-C1/2\n",
    "df['Delta_C']= (df.groupby('mmsi')['course'].diff())/2\n"
   ]
  },
  {
   "cell_type": "code",
   "execution_count": 14,
   "id": "fcc72248",
   "metadata": {
    "execution": {
     "iopub.execute_input": "2022-06-17T15:03:32.444362Z",
     "iopub.status.busy": "2022-06-17T15:03:32.443364Z",
     "iopub.status.idle": "2022-06-17T15:03:32.603934Z",
     "shell.execute_reply": "2022-06-17T15:03:32.604932Z"
    },
    "papermill": {
     "duration": 0.181515,
     "end_time": "2022-06-17T15:03:32.604932",
     "exception": false,
     "start_time": "2022-06-17T15:03:32.423417",
     "status": "completed"
    },
    "tags": []
   },
   "outputs": [],
   "source": [
    "number_lags = 6\n",
    "columns_to_lag = ['speed','course','S0','A0','J0','C0']\n",
    "\n",
    "#df = pd.DataFrame(data={'vals':[5,4,3,2,1]})\n",
    "for column in columns_to_lag:\n",
    "    for lag in range(1, number_lags + 1):\n",
    "        df[str(column) +'_lag_' + str(lag)] = df[column].shift(lag)\n"
   ]
  },
  {
   "cell_type": "code",
   "execution_count": 15,
   "id": "c82137b8",
   "metadata": {
    "execution": {
     "iopub.execute_input": "2022-06-17T15:03:32.649812Z",
     "iopub.status.busy": "2022-06-17T15:03:32.648814Z",
     "iopub.status.idle": "2022-06-17T15:03:32.651806Z",
     "shell.execute_reply": "2022-06-17T15:03:32.651806Z"
    },
    "papermill": {
     "duration": 0.022939,
     "end_time": "2022-06-17T15:03:32.651806",
     "exception": false,
     "start_time": "2022-06-17T15:03:32.628867",
     "status": "completed"
    },
    "tags": []
   },
   "outputs": [
    {
     "name": "stdout",
     "output_type": "stream",
     "text": [
      "Index(['mmsi', 'timestamp', 'distance_from_shore', 'distance_from_port',\n",
      "       'speed', 'course', 'lat', 'lon', 'is_fishing', 'source', 'datetime',\n",
      "       'sun_state', 'distance', 'timediff', 'S0', 'A0', 'J0', 'C0', 'Vavg',\n",
      "       'Delta_S', 'Cavg', 'Delta_C', 'speed_lag_1', 'speed_lag_2',\n",
      "       'speed_lag_3', 'speed_lag_4', 'speed_lag_5', 'speed_lag_6',\n",
      "       'course_lag_1', 'course_lag_2', 'course_lag_3', 'course_lag_4',\n",
      "       'course_lag_5', 'course_lag_6', 'S0_lag_1', 'S0_lag_2', 'S0_lag_3',\n",
      "       'S0_lag_4', 'S0_lag_5', 'S0_lag_6', 'A0_lag_1', 'A0_lag_2', 'A0_lag_3',\n",
      "       'A0_lag_4', 'A0_lag_5', 'A0_lag_6', 'J0_lag_1', 'J0_lag_2', 'J0_lag_3',\n",
      "       'J0_lag_4', 'J0_lag_5', 'J0_lag_6', 'C0_lag_1', 'C0_lag_2', 'C0_lag_3',\n",
      "       'C0_lag_4', 'C0_lag_5', 'C0_lag_6'],\n",
      "      dtype='object')\n"
     ]
    }
   ],
   "source": [
    "print(df.columns)"
   ]
  },
  {
   "cell_type": "code",
   "execution_count": 16,
   "id": "f84bd365",
   "metadata": {
    "execution": {
     "iopub.execute_input": "2022-06-17T15:03:32.688708Z",
     "iopub.status.busy": "2022-06-17T15:03:32.687710Z",
     "iopub.status.idle": "2022-06-17T15:04:23.281333Z",
     "shell.execute_reply": "2022-06-17T15:04:23.281333Z"
    },
    "papermill": {
     "duration": 50.61357,
     "end_time": "2022-06-17T15:04:23.281333",
     "exception": false,
     "start_time": "2022-06-17T15:03:32.667763",
     "status": "completed"
    },
    "tags": []
   },
   "outputs": [],
   "source": [
    "df = df.dropna()\n",
    "df.to_csv(f\"../../df_procesado/{config['output_label']}_fe.csv\",sep=\",\",index=False)  "
   ]
  },
  {
   "cell_type": "code",
   "execution_count": 17,
   "id": "721be97b",
   "metadata": {
    "execution": {
     "iopub.execute_input": "2022-06-17T15:04:23.385055Z",
     "iopub.status.busy": "2022-06-17T15:04:23.384058Z",
     "iopub.status.idle": "2022-06-17T15:04:23.611450Z",
     "shell.execute_reply": "2022-06-17T15:04:23.612447Z"
    },
    "papermill": {
     "duration": 0.307179,
     "end_time": "2022-06-17T15:04:23.612447",
     "exception": false,
     "start_time": "2022-06-17T15:04:23.305268",
     "status": "completed"
    },
    "tags": []
   },
   "outputs": [
    {
     "name": "stdout",
     "output_type": "stream",
     "text": [
      "6575\n",
      "457497\n"
     ]
    }
   ],
   "source": [
    "print(len(df[df['is_fishing']=='SI']))\n",
    "print(len(df[df['is_fishing']=='NO']))"
   ]
  },
  {
   "cell_type": "code",
   "execution_count": 18,
   "id": "bf079fce",
   "metadata": {
    "execution": {
     "iopub.execute_input": "2022-06-17T15:04:23.649348Z",
     "iopub.status.busy": "2022-06-17T15:04:23.648351Z",
     "iopub.status.idle": "2022-06-17T15:04:23.782991Z",
     "shell.execute_reply": "2022-06-17T15:04:23.783988Z"
    },
    "papermill": {
     "duration": 0.154587,
     "end_time": "2022-06-17T15:04:23.783988",
     "exception": false,
     "start_time": "2022-06-17T15:04:23.629401",
     "status": "completed"
    },
    "tags": []
   },
   "outputs": [
    {
     "name": "stdout",
     "output_type": "stream",
     "text": [
      "mmsi                   464072\n",
      "timestamp              464072\n",
      "distance_from_shore    464072\n",
      "distance_from_port     464072\n",
      "speed                  464072\n",
      "course                 464072\n",
      "lat                    464072\n",
      "lon                    464072\n",
      "is_fishing             464072\n",
      "source                 464072\n",
      "datetime               464072\n",
      "sun_state              464072\n",
      "distance               464072\n",
      "timediff               464072\n",
      "S0                     464072\n",
      "A0                     464072\n",
      "J0                     464072\n",
      "C0                     464072\n",
      "Vavg                   464072\n",
      "Delta_S                464072\n",
      "Cavg                   464072\n",
      "Delta_C                464072\n",
      "speed_lag_1            464072\n",
      "speed_lag_2            464072\n",
      "speed_lag_3            464072\n",
      "speed_lag_4            464072\n",
      "speed_lag_5            464072\n",
      "speed_lag_6            464072\n",
      "course_lag_1           464072\n",
      "course_lag_2           464072\n",
      "course_lag_3           464072\n",
      "course_lag_4           464072\n",
      "course_lag_5           464072\n",
      "course_lag_6           464072\n",
      "S0_lag_1               464072\n",
      "S0_lag_2               464072\n",
      "S0_lag_3               464072\n",
      "S0_lag_4               464072\n",
      "S0_lag_5               464072\n",
      "S0_lag_6               464072\n",
      "A0_lag_1               464072\n",
      "A0_lag_2               464072\n",
      "A0_lag_3               464072\n",
      "A0_lag_4               464072\n",
      "A0_lag_5               464072\n",
      "A0_lag_6               464072\n",
      "J0_lag_1               464072\n",
      "J0_lag_2               464072\n",
      "J0_lag_3               464072\n",
      "J0_lag_4               464072\n",
      "J0_lag_5               464072\n",
      "J0_lag_6               464072\n",
      "C0_lag_1               464072\n",
      "C0_lag_2               464072\n",
      "C0_lag_3               464072\n",
      "C0_lag_4               464072\n",
      "C0_lag_5               464072\n",
      "C0_lag_6               464072\n",
      "dtype: int64\n"
     ]
    }
   ],
   "source": [
    "print(df.count())"
   ]
  }
 ],
 "metadata": {
  "interpreter": {
   "hash": "db2a60f505a9041374f6f3fb78368755bb5bc9c69ef08139ad82abb6b35de715"
  },
  "kernelspec": {
   "display_name": "Python 3.8.8 64-bit ('base': conda)",
   "name": "python3"
  },
  "language_info": {
   "codemirror_mode": {
    "name": "ipython",
    "version": 3
   },
   "file_extension": ".py",
   "mimetype": "text/x-python",
   "name": "python",
   "nbconvert_exporter": "python",
   "pygments_lexer": "ipython3",
   "version": "3.8.8"
  },
  "papermill": {
   "default_parameters": {},
   "duration": 476.93955,
   "end_time": "2022-06-17T15:04:27.088147",
   "environment_variables": {},
   "exception": null,
   "input_path": "notebooks/feature_engineering.ipynb",
   "output_path": "papermill_outputs/feature_engineering/drifting_longlines/feature_engineering_drifting_longlines.ipynb",
   "parameters": {
    "config": {
     "data_path": "C:/Users/nico_/Desktop/ITBA/TFI/global fishing watch/dataset/drifting_longlines.csv",
     "notebook": "notebooks/feature_engineering.ipynb",
     "output_label": "drifting_longlines"
    }
   },
   "start_time": "2022-06-17T14:56:30.148597",
   "version": "2.3.4"
  }
 },
 "nbformat": 4,
 "nbformat_minor": 5
}
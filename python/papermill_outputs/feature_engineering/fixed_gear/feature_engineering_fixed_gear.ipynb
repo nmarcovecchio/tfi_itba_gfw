{
 "cells": [
  {
   "cell_type": "code",
   "execution_count": 1,
   "id": "14791922",
   "metadata": {
    "execution": {
     "iopub.execute_input": "2022-06-17T14:53:01.005806Z",
     "iopub.status.busy": "2022-06-17T14:53:01.004809Z",
     "iopub.status.idle": "2022-06-17T14:53:01.020766Z",
     "shell.execute_reply": "2022-06-17T14:53:01.020766Z"
    },
    "papermill": {
     "duration": 0.031915,
     "end_time": "2022-06-17T14:53:01.020766",
     "exception": false,
     "start_time": "2022-06-17T14:53:00.988851",
     "status": "completed"
    },
    "tags": [
     "injected-parameters"
    ]
   },
   "outputs": [],
   "source": [
    "# Parameters\n",
    "config = {\n",
    "    \"notebook\": \"notebooks/feature_engineering.ipynb\",\n",
    "    \"data_path\": \"C:/Users/nico_/Desktop/ITBA/TFI/global fishing watch/dataset/fixed_gear.csv\",\n",
    "    \"output_label\": \"fixed_gear\",\n",
    "}\n"
   ]
  },
  {
   "cell_type": "code",
   "execution_count": 2,
   "id": "46edb6d8",
   "metadata": {
    "execution": {
     "iopub.execute_input": "2022-06-17T14:53:01.049688Z",
     "iopub.status.busy": "2022-06-17T14:53:01.049688Z",
     "iopub.status.idle": "2022-06-17T14:53:01.067640Z",
     "shell.execute_reply": "2022-06-17T14:53:01.068638Z"
    },
    "papermill": {
     "duration": 0.034907,
     "end_time": "2022-06-17T14:53:01.068638",
     "exception": false,
     "start_time": "2022-06-17T14:53:01.033731",
     "status": "completed"
    },
    "tags": []
   },
   "outputs": [
    {
     "name": "stdout",
     "output_type": "stream",
     "text": [
      "{'notebook': 'notebooks/feature_engineering.ipynb', 'data_path': 'C:/Users/nico_/Desktop/ITBA/TFI/global fishing watch/dataset/fixed_gear.csv', 'output_label': 'fixed_gear'}\n"
     ]
    }
   ],
   "source": [
    "# check if config exists\n",
    "try:\n",
    "    config\n",
    "except NameError:\n",
    "    config_exists = False\n",
    "else:\n",
    "    config_exists = True\n",
    "\n",
    "# make config if it does not exist already (e.g. passed in by papermill)\n",
    "if not(config_exists):\n",
    "    # set up some config for the experiment run\n",
    "    config = {\n",
    "        \"data_path\" : \"C:/Users/nico_/Desktop/ITBA/TFI/global fishing watch/dataset/trollers.csv\",\n",
    "        \"output_label\": \"trollers\"\n",
    "    }\n",
    "print(config)"
   ]
  },
  {
   "cell_type": "code",
   "execution_count": 3,
   "id": "c084f7fa",
   "metadata": {
    "execution": {
     "iopub.execute_input": "2022-06-17T14:53:01.099555Z",
     "iopub.status.busy": "2022-06-17T14:53:01.098558Z",
     "iopub.status.idle": "2022-06-17T14:53:22.044546Z",
     "shell.execute_reply": "2022-06-17T14:53:22.043549Z"
    },
    "papermill": {
     "duration": 20.963941,
     "end_time": "2022-06-17T14:53:22.044546",
     "exception": false,
     "start_time": "2022-06-17T14:53:01.080605",
     "status": "completed"
    },
    "tags": []
   },
   "outputs": [],
   "source": [
    "import pandas as pd\n",
    "import numpy as np\n",
    "from sklearn.tree import DecisionTreeClassifier # Import Decision Tree Classifier\n",
    "from sklearn.model_selection import train_test_split # Import train_test_split function\n",
    "from sklearn import metrics #Import scikit-learn metrics module for accuracy calculation\n",
    "\n",
    "df = pd.read_csv(config['data_path'], header=\"infer\", sep=\",\",error_bad_lines=False, engine ='python')\n",
    "\n",
    "#Nos quedamos con los puntos que estan mayor a 3 millas nauticas de la costa.\n",
    "df = df[(df['distance_from_shore'] >= 5556)]\n",
    "\n",
    "#Nos quedamos solamente con los valores que estamos seguros que esta o no esta pescando.\n",
    "df = df[(df['is_fishing'] == -1.0)  | (df['is_fishing'] == 1.0) ]\n",
    "\n",
    "#Renombramos las columnas de la variable a predecir de si esta pescando o no.\n",
    "df[\"is_fishing\"] = np.where(df[\"is_fishing\"] == 1.0, 'SI', 'NO')\n",
    "\n",
    "#Dropeamos los que contienen el mismo timestamp.\n",
    "df = df.drop_duplicates(subset='timestamp', keep=\"first\")\n",
    "\n",
    "df[\"timestamp\"]=df[\"timestamp\"].astype(int)\n",
    "#df['date_series'] = pd.to_datetime(df['timestamp'],unit='s')\n",
    "#df = df.set_index('date_series') \n",
    "df['datetime'] = pd.to_datetime(df['timestamp'],unit='s')\n",
    "df.index = df.datetime\n",
    "#print(df['date_series'])\n",
    "\n",
    "aux = df\n"
   ]
  },
  {
   "cell_type": "code",
   "execution_count": 4,
   "id": "f78947f1",
   "metadata": {
    "execution": {
     "iopub.execute_input": "2022-06-17T14:53:22.073469Z",
     "iopub.status.busy": "2022-06-17T14:53:22.073469Z",
     "iopub.status.idle": "2022-06-17T14:53:22.668875Z",
     "shell.execute_reply": "2022-06-17T14:53:22.668875Z"
    },
    "papermill": {
     "duration": 0.613359,
     "end_time": "2022-06-17T14:53:22.669873",
     "exception": false,
     "start_time": "2022-06-17T14:53:22.056514",
     "status": "completed"
    },
    "tags": []
   },
   "outputs": [
    {
     "name": "stdout",
     "output_type": "stream",
     "text": [
      "615296\n"
     ]
    },
    {
     "name": "stdout",
     "output_type": "stream",
     "text": [
      "302941\n"
     ]
    }
   ],
   "source": [
    "#print(df.resample('60Min',on='datetime'))\n",
    "df = aux\n",
    "print(len(df))\n",
    "df = df.resample('5Min',on='datetime').agg('first').dropna()  \n",
    "df.reset_index(drop=True, inplace=True)\n",
    "print(len(df))\n",
    "#print(df)"
   ]
  },
  {
   "cell_type": "code",
   "execution_count": 5,
   "id": "950e3dec",
   "metadata": {
    "execution": {
     "iopub.execute_input": "2022-06-17T14:53:22.717745Z",
     "iopub.status.busy": "2022-06-17T14:53:22.717745Z",
     "iopub.status.idle": "2022-06-17T14:53:22.731707Z",
     "shell.execute_reply": "2022-06-17T14:53:22.732705Z"
    },
    "papermill": {
     "duration": 0.039894,
     "end_time": "2022-06-17T14:53:22.732705",
     "exception": false,
     "start_time": "2022-06-17T14:53:22.692811",
     "status": "completed"
    },
    "tags": []
   },
   "outputs": [
    {
     "name": "stdout",
     "output_type": "stream",
     "text": [
      "   timestamp  valores            datetime\n",
      "0          1        3 1970-01-01 00:00:01\n",
      "1          2        4 1970-01-01 00:00:02\n",
      "2          3        5 1970-01-01 00:00:03\n",
      "3          4        6 1970-01-01 00:00:04\n",
      "4        120        7 1970-01-01 00:02:00\n",
      "5        241        8 1970-01-01 00:04:01\n",
      "6        421        9 1970-01-01 00:07:01\n",
      "                     timestamp  valores            datetime\n",
      "datetime                                                   \n",
      "1970-01-01 00:00:00        1.0      3.0 1970-01-01 00:00:01\n",
      "1970-01-01 00:02:00      120.0      7.0 1970-01-01 00:02:00\n",
      "1970-01-01 00:04:00      241.0      8.0 1970-01-01 00:04:01\n",
      "1970-01-01 00:07:00      421.0      9.0 1970-01-01 00:07:01\n"
     ]
    }
   ],
   "source": [
    "#EJEMPLO DE RESAMPLE PARA VER QUE FUNCIONA OK.\n",
    "d = {'timestamp': [1, 2,3,4,60*2,60*4+1,60*7+1], 'valores': [3, 4,5,6,7,8,9]}\n",
    "d = pd.DataFrame(data=d)\n",
    "\n",
    "d['datetime'] = pd.to_datetime(d['timestamp'],unit='s')\n",
    "print(d)\n",
    "\n",
    "d = d.resample('1Min',on='datetime').agg('first').dropna()  \n",
    "print(d)"
   ]
  },
  {
   "cell_type": "code",
   "execution_count": 6,
   "id": "1d10d395",
   "metadata": {
    "execution": {
     "iopub.execute_input": "2022-06-17T14:53:22.764619Z",
     "iopub.status.busy": "2022-06-17T14:53:22.763622Z",
     "iopub.status.idle": "2022-06-17T14:53:37.366548Z",
     "shell.execute_reply": "2022-06-17T14:53:37.365550Z"
    },
    "papermill": {
     "duration": 14.620878,
     "end_time": "2022-06-17T14:53:37.366548",
     "exception": false,
     "start_time": "2022-06-17T14:53:22.745670",
     "status": "completed"
    },
    "tags": []
   },
   "outputs": [],
   "source": [
    "#There are multiple definitions for night, depending if it's for civil (-6°), nautical (-12°) or astronomical (-18°) purposes. \n",
    "# Just pick a treshold : if the sun is below, it's nighttime!\n",
    "\n",
    "import ephem\n",
    "import math\n",
    "import datetime\n",
    "\n",
    "def get_day_night(lat,lon,datetime): \n",
    "    sun = ephem.Sun()\n",
    "    observer = ephem.Observer()\n",
    "    # ↓ Define your coordinates here ↓\n",
    "    observer.lat, observer.lon, observer.elevation = lat, lon, 0\n",
    "    # ↓ Set the time (UTC) here ↓\n",
    "    #observer.date = datetime.datetime.utcnow()\n",
    "    observer.date=datetime\n",
    "    sun.compute(observer)\n",
    "    current_sun_alt = sun.alt\n",
    "    if (current_sun_alt*180/math.pi) < -12.0 :\n",
    "        return 2\n",
    "    else:\n",
    "        return 1\n",
    "    \n",
    "df['sun_state'] = df.apply(lambda x: get_day_night(x['lat'], x['lon'],x['datetime']), axis=1)"
   ]
  },
  {
   "cell_type": "code",
   "execution_count": 7,
   "id": "331ae577",
   "metadata": {
    "execution": {
     "iopub.execute_input": "2022-06-17T14:53:37.410430Z",
     "iopub.status.busy": "2022-06-17T14:53:37.410430Z",
     "iopub.status.idle": "2022-06-17T14:53:37.457305Z",
     "shell.execute_reply": "2022-06-17T14:53:37.457305Z"
    },
    "papermill": {
     "duration": 0.064827,
     "end_time": "2022-06-17T14:53:37.457305",
     "exception": false,
     "start_time": "2022-06-17T14:53:37.392478",
     "status": "completed"
    },
    "tags": []
   },
   "outputs": [
    {
     "data": {
      "text/plain": [
       "1    185419\n",
       "2    117522\n",
       "Name: sun_state, dtype: int64"
      ]
     },
     "execution_count": 7,
     "metadata": {},
     "output_type": "execute_result"
    }
   ],
   "source": [
    "df[\"sun_state\"].value_counts()"
   ]
  },
  {
   "cell_type": "markdown",
   "id": "e6cee190",
   "metadata": {
    "papermill": {
     "duration": 0.014961,
     "end_time": "2022-06-17T14:53:37.488223",
     "exception": false,
     "start_time": "2022-06-17T14:53:37.473262",
     "status": "completed"
    },
    "tags": []
   },
   "source": [
    "Se pesca mas de noche, que de dia"
   ]
  },
  {
   "cell_type": "code",
   "execution_count": 8,
   "id": "37af0a8d",
   "metadata": {
    "execution": {
     "iopub.execute_input": "2022-06-17T14:53:37.586958Z",
     "iopub.status.busy": "2022-06-17T14:53:37.586958Z",
     "iopub.status.idle": "2022-06-17T14:53:37.629843Z",
     "shell.execute_reply": "2022-06-17T14:53:37.630841Z"
    },
    "papermill": {
     "duration": 0.105718,
     "end_time": "2022-06-17T14:53:37.630841",
     "exception": false,
     "start_time": "2022-06-17T14:53:37.525123",
     "status": "completed"
    },
    "tags": []
   },
   "outputs": [
    {
     "name": "stdout",
     "output_type": "stream",
     "text": [
      "           sun_state                                   \n",
      "               count      mean       std  min  50%  max\n",
      "is_fishing                                             \n",
      "NO          298243.0  1.388401  0.487387  1.0  1.0  2.0\n",
      "SI            4698.0  1.358450  0.479596  1.0  1.0  2.0\n"
     ]
    }
   ],
   "source": [
    "print(df.groupby([\"is_fishing\"])[['sun_state']].describe(percentiles=[]))"
   ]
  },
  {
   "cell_type": "code",
   "execution_count": 9,
   "id": "0316c101",
   "metadata": {
    "execution": {
     "iopub.execute_input": "2022-06-17T14:53:37.682702Z",
     "iopub.status.busy": "2022-06-17T14:53:37.681705Z",
     "iopub.status.idle": "2022-06-17T14:53:38.166408Z",
     "shell.execute_reply": "2022-06-17T14:53:38.166408Z"
    },
    "papermill": {
     "duration": 0.507642,
     "end_time": "2022-06-17T14:53:38.166408",
     "exception": false,
     "start_time": "2022-06-17T14:53:37.658766",
     "status": "completed"
    },
    "tags": []
   },
   "outputs": [],
   "source": [
    "def haversine_np(lon1, lat1, lon2, lat2):\n",
    "    lon1, lat1, lon2, lat2 = map(np.radians, [lon1, lat1, lon2, lat2])\n",
    "\n",
    "    dlon = lon2 - lon1\n",
    "    dlat = lat2 - lat1\n",
    "\n",
    "    a = np.sin(dlat/2.0)**2 + np.cos(lat1) * np.cos(lat2) * np.sin(dlon/2.0)**2\n",
    "\n",
    "    c = 2 * np.arcsin(np.sqrt(a))\n",
    "    km = 6367 * c\n",
    "    return km\n",
    "\n",
    "def distance(x):\n",
    "    y = x.shift()\n",
    "    return haversine_np(x['lat'], x['lon'], y['lat'], y['lon']).fillna(0)\n",
    "\n",
    "df['distance'] = df.groupby('mmsi').apply(distance).reset_index(level=0, drop=True)"
   ]
  },
  {
   "cell_type": "code",
   "execution_count": 10,
   "id": "ca8fafcd",
   "metadata": {
    "execution": {
     "iopub.execute_input": "2022-06-17T14:53:38.209294Z",
     "iopub.status.busy": "2022-06-17T14:53:38.208296Z",
     "iopub.status.idle": "2022-06-17T14:53:38.226247Z",
     "shell.execute_reply": "2022-06-17T14:53:38.227245Z"
    },
    "papermill": {
     "duration": 0.039894,
     "end_time": "2022-06-17T14:53:38.227245",
     "exception": false,
     "start_time": "2022-06-17T14:53:38.187351",
     "status": "completed"
    },
    "tags": []
   },
   "outputs": [],
   "source": [
    "#Convierto latitud y longitud a radianes\n",
    "df['lat'] = np.radians(df['lat'])\n",
    "df['lon'] = np.radians(df['lon'])"
   ]
  },
  {
   "cell_type": "code",
   "execution_count": 11,
   "id": "1bc6676e",
   "metadata": {
    "execution": {
     "iopub.execute_input": "2022-06-17T14:53:38.263149Z",
     "iopub.status.busy": "2022-06-17T14:53:38.263149Z",
     "iopub.status.idle": "2022-06-17T14:53:38.392802Z",
     "shell.execute_reply": "2022-06-17T14:53:38.393799Z"
    },
    "papermill": {
     "duration": 0.151594,
     "end_time": "2022-06-17T14:53:38.393799",
     "exception": false,
     "start_time": "2022-06-17T14:53:38.242205",
     "status": "completed"
    },
    "tags": []
   },
   "outputs": [],
   "source": [
    "#Calculo la diferencia de tiempo entre puntos consecutivos.\n",
    "df['timediff']= df.groupby('mmsi')['timestamp'].diff()"
   ]
  },
  {
   "cell_type": "code",
   "execution_count": 12,
   "id": "f5bbaf12",
   "metadata": {
    "execution": {
     "iopub.execute_input": "2022-06-17T14:53:38.434690Z",
     "iopub.status.busy": "2022-06-17T14:53:38.433692Z",
     "iopub.status.idle": "2022-06-17T14:53:38.442668Z",
     "shell.execute_reply": "2022-06-17T14:53:38.443665Z"
    },
    "papermill": {
     "duration": 0.028922,
     "end_time": "2022-06-17T14:53:38.443665",
     "exception": false,
     "start_time": "2022-06-17T14:53:38.414743",
     "status": "completed"
    },
    "tags": []
   },
   "outputs": [],
   "source": [
    "#Normalizamos la variable curso\n",
    "df['course']=df['course']/360.0"
   ]
  },
  {
   "cell_type": "code",
   "execution_count": 13,
   "id": "1b6c8a98",
   "metadata": {
    "execution": {
     "iopub.execute_input": "2022-06-17T14:53:38.484557Z",
     "iopub.status.busy": "2022-06-17T14:53:38.483559Z",
     "iopub.status.idle": "2022-06-17T14:53:39.353232Z",
     "shell.execute_reply": "2022-06-17T14:53:39.353232Z"
    },
    "papermill": {
     "duration": 0.893609,
     "end_time": "2022-06-17T14:53:39.353232",
     "exception": false,
     "start_time": "2022-06-17T14:53:38.459623",
     "status": "completed"
    },
    "tags": []
   },
   "outputs": [],
   "source": [
    "#Agregar esto deberia de hacer robusto a mi algoritmo a LAT/LON y timestamps.\n",
    "\n",
    "#Velocidad entre puntos a partir de la distancia        S = x(t2)-x(t1) / t2 - t1\n",
    "df['S0']= df['distance']/df['timediff']\n",
    "#Aceleracion rectilinea         A = S(t2)-S(t1) / t2 - t1\n",
    "df['A0']= df.groupby('mmsi')['S0'].diff()/df['timediff']\n",
    "#Jerk                           J = A(t2)-A(t1) / t2 - t1\n",
    "df['J0']= df.groupby('mmsi')['A0'].diff()/df['timediff']\n",
    "#Derivada del curso             Phi = C(t2)-C(t1) / t2 - t1\n",
    "df['C0']= df.groupby('mmsi')['course'].diff()/df['timediff']\n",
    "#2 Horas deberia de ser suficientemente informativo para saber el comportamiento del buque \n",
    "#Agregar paper.\n",
    "\n",
    "#Velocidad promedio entre puntos    Vavg = V1 + V2 / 2\n",
    "df['Vavg']  = df.groupby('mmsi')['speed'].transform(lambda x: x.rolling(2, 1).mean())\n",
    "\n",
    "\n",
    "#Variacion de velocidad entre puntos Delta_S = V2 - V1 / 2 \n",
    "df['Delta_S']= (df.groupby('mmsi')['speed'].diff())/2\n",
    "\n",
    "#Curso promedio entre puntos        Cavg = C1 + C2 / 2\n",
    "df['Cavg'] = df.groupby('mmsi')['course'].transform(lambda x: x.rolling(2, 1).mean())\n",
    "#Variacion del curso                DeltaC = C2-C1/2\n",
    "df['Delta_C']= (df.groupby('mmsi')['course'].diff())/2\n"
   ]
  },
  {
   "cell_type": "code",
   "execution_count": 14,
   "id": "c78d8ecc",
   "metadata": {
    "execution": {
     "iopub.execute_input": "2022-06-17T14:53:39.401105Z",
     "iopub.status.busy": "2022-06-17T14:53:39.401105Z",
     "iopub.status.idle": "2022-06-17T14:53:39.531754Z",
     "shell.execute_reply": "2022-06-17T14:53:39.531754Z"
    },
    "papermill": {
     "duration": 0.156581,
     "end_time": "2022-06-17T14:53:39.531754",
     "exception": false,
     "start_time": "2022-06-17T14:53:39.375173",
     "status": "completed"
    },
    "tags": []
   },
   "outputs": [],
   "source": [
    "number_lags = 6\n",
    "columns_to_lag = ['speed','course','S0','A0','J0','C0']\n",
    "\n",
    "#df = pd.DataFrame(data={'vals':[5,4,3,2,1]})\n",
    "for column in columns_to_lag:\n",
    "    for lag in range(1, number_lags + 1):\n",
    "        df[str(column) +'_lag_' + str(lag)] = df[column].shift(lag)\n"
   ]
  },
  {
   "cell_type": "code",
   "execution_count": 15,
   "id": "43db441e",
   "metadata": {
    "execution": {
     "iopub.execute_input": "2022-06-17T14:53:39.585610Z",
     "iopub.status.busy": "2022-06-17T14:53:39.584613Z",
     "iopub.status.idle": "2022-06-17T14:53:39.592592Z",
     "shell.execute_reply": "2022-06-17T14:53:39.593589Z"
    },
    "papermill": {
     "duration": 0.02992,
     "end_time": "2022-06-17T14:53:39.593589",
     "exception": false,
     "start_time": "2022-06-17T14:53:39.563669",
     "status": "completed"
    },
    "tags": []
   },
   "outputs": [
    {
     "name": "stdout",
     "output_type": "stream",
     "text": [
      "Index(['mmsi', 'timestamp', 'distance_from_shore', 'distance_from_port',\n",
      "       'speed', 'course', 'lat', 'lon', 'is_fishing', 'source', 'datetime',\n",
      "       'sun_state', 'distance', 'timediff', 'S0', 'A0', 'J0', 'C0', 'Vavg',\n",
      "       'Delta_S', 'Cavg', 'Delta_C', 'speed_lag_1', 'speed_lag_2',\n",
      "       'speed_lag_3', 'speed_lag_4', 'speed_lag_5', 'speed_lag_6',\n",
      "       'course_lag_1', 'course_lag_2', 'course_lag_3', 'course_lag_4',\n",
      "       'course_lag_5', 'course_lag_6', 'S0_lag_1', 'S0_lag_2', 'S0_lag_3',\n",
      "       'S0_lag_4', 'S0_lag_5', 'S0_lag_6', 'A0_lag_1', 'A0_lag_2', 'A0_lag_3',\n",
      "       'A0_lag_4', 'A0_lag_5', 'A0_lag_6', 'J0_lag_1', 'J0_lag_2', 'J0_lag_3',\n",
      "       'J0_lag_4', 'J0_lag_5', 'J0_lag_6', 'C0_lag_1', 'C0_lag_2', 'C0_lag_3',\n",
      "       'C0_lag_4', 'C0_lag_5', 'C0_lag_6'],\n",
      "      dtype='object')\n"
     ]
    }
   ],
   "source": [
    "print(df.columns)"
   ]
  },
  {
   "cell_type": "code",
   "execution_count": 16,
   "id": "20bfeca1",
   "metadata": {
    "execution": {
     "iopub.execute_input": "2022-06-17T14:53:39.635478Z",
     "iopub.status.busy": "2022-06-17T14:53:39.635478Z",
     "iopub.status.idle": "2022-06-17T14:54:17.668708Z",
     "shell.execute_reply": "2022-06-17T14:54:17.669706Z"
    },
    "papermill": {
     "duration": 38.055174,
     "end_time": "2022-06-17T14:54:17.669706",
     "exception": false,
     "start_time": "2022-06-17T14:53:39.614532",
     "status": "completed"
    },
    "tags": []
   },
   "outputs": [],
   "source": [
    "df = df.dropna()\n",
    "df.to_csv(f\"../../df_procesado/{config['output_label']}_fe.csv\",sep=\",\",index=False)  "
   ]
  },
  {
   "cell_type": "code",
   "execution_count": 17,
   "id": "93218db0",
   "metadata": {
    "execution": {
     "iopub.execute_input": "2022-06-17T14:54:17.732538Z",
     "iopub.status.busy": "2022-06-17T14:54:17.731540Z",
     "iopub.status.idle": "2022-06-17T14:54:17.858201Z",
     "shell.execute_reply": "2022-06-17T14:54:17.859198Z"
    },
    "papermill": {
     "duration": 0.170543,
     "end_time": "2022-06-17T14:54:17.859198",
     "exception": false,
     "start_time": "2022-06-17T14:54:17.688655",
     "status": "completed"
    },
    "tags": []
   },
   "outputs": [
    {
     "name": "stdout",
     "output_type": "stream",
     "text": [
      "4683\n",
      "297758\n"
     ]
    }
   ],
   "source": [
    "print(len(df[df['is_fishing']=='SI']))\n",
    "print(len(df[df['is_fishing']=='NO']))"
   ]
  },
  {
   "cell_type": "code",
   "execution_count": 18,
   "id": "0ef8427b",
   "metadata": {
    "execution": {
     "iopub.execute_input": "2022-06-17T14:54:17.897097Z",
     "iopub.status.busy": "2022-06-17T14:54:17.896100Z",
     "iopub.status.idle": "2022-06-17T14:54:17.982868Z",
     "shell.execute_reply": "2022-06-17T14:54:17.983865Z"
    },
    "papermill": {
     "duration": 0.106715,
     "end_time": "2022-06-17T14:54:17.983865",
     "exception": false,
     "start_time": "2022-06-17T14:54:17.877150",
     "status": "completed"
    },
    "tags": []
   },
   "outputs": [
    {
     "name": "stdout",
     "output_type": "stream",
     "text": [
      "mmsi                   302441\n",
      "timestamp              302441\n",
      "distance_from_shore    302441\n",
      "distance_from_port     302441\n",
      "speed                  302441\n",
      "course                 302441\n",
      "lat                    302441\n",
      "lon                    302441\n",
      "is_fishing             302441\n",
      "source                 302441\n",
      "datetime               302441\n",
      "sun_state              302441\n",
      "distance               302441\n",
      "timediff               302441\n",
      "S0                     302441\n",
      "A0                     302441\n",
      "J0                     302441\n",
      "C0                     302441\n",
      "Vavg                   302441\n",
      "Delta_S                302441\n",
      "Cavg                   302441\n",
      "Delta_C                302441\n",
      "speed_lag_1            302441\n",
      "speed_lag_2            302441\n",
      "speed_lag_3            302441\n",
      "speed_lag_4            302441\n",
      "speed_lag_5            302441\n",
      "speed_lag_6            302441\n",
      "course_lag_1           302441\n",
      "course_lag_2           302441\n",
      "course_lag_3           302441\n",
      "course_lag_4           302441\n",
      "course_lag_5           302441\n",
      "course_lag_6           302441\n",
      "S0_lag_1               302441\n",
      "S0_lag_2               302441\n",
      "S0_lag_3               302441\n",
      "S0_lag_4               302441\n",
      "S0_lag_5               302441\n",
      "S0_lag_6               302441\n",
      "A0_lag_1               302441\n",
      "A0_lag_2               302441\n",
      "A0_lag_3               302441\n",
      "A0_lag_4               302441\n",
      "A0_lag_5               302441\n",
      "A0_lag_6               302441\n",
      "J0_lag_1               302441\n",
      "J0_lag_2               302441\n",
      "J0_lag_3               302441\n",
      "J0_lag_4               302441\n",
      "J0_lag_5               302441\n",
      "J0_lag_6               302441\n",
      "C0_lag_1               302441\n",
      "C0_lag_2               302441\n",
      "C0_lag_3               302441\n",
      "C0_lag_4               302441\n",
      "C0_lag_5               302441\n",
      "C0_lag_6               302441\n",
      "dtype: int64\n"
     ]
    }
   ],
   "source": [
    "print(df.count())"
   ]
  }
 ],
 "metadata": {
  "interpreter": {
   "hash": "db2a60f505a9041374f6f3fb78368755bb5bc9c69ef08139ad82abb6b35de715"
  },
  "kernelspec": {
   "display_name": "Python 3.8.8 64-bit ('base': conda)",
   "name": "python3"
  },
  "language_info": {
   "codemirror_mode": {
    "name": "ipython",
    "version": 3
   },
   "file_extension": ".py",
   "mimetype": "text/x-python",
   "name": "python",
   "nbconvert_exporter": "python",
   "pygments_lexer": "ipython3",
   "version": "3.8.8"
  },
  "papermill": {
   "default_parameters": {},
   "duration": 83.453731,
   "end_time": "2022-06-17T14:54:18.445629",
   "environment_variables": {},
   "exception": null,
   "input_path": "notebooks/feature_engineering.ipynb",
   "output_path": "papermill_outputs/feature_engineering/fixed_gear/feature_engineering_fixed_gear.ipynb",
   "parameters": {
    "config": {
     "data_path": "C:/Users/nico_/Desktop/ITBA/TFI/global fishing watch/dataset/fixed_gear.csv",
     "notebook": "notebooks/feature_engineering.ipynb",
     "output_label": "fixed_gear"
    }
   },
   "start_time": "2022-06-17T14:52:54.991898",
   "version": "2.3.4"
  }
 },
 "nbformat": 4,
 "nbformat_minor": 5
}
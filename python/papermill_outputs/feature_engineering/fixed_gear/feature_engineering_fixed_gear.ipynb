{
 "cells": [
  {
   "cell_type": "markdown",
   "id": "94bdc62f",
   "metadata": {
    "tags": [
     "papermill-error-cell-tag"
    ]
   },
   "source": [
    "<span style=\"color:red; font-family:Helvetica Neue, Helvetica, Arial, sans-serif; font-size:2em;\">An Exception was encountered at '<a href=\"#papermill-error-cell\">In [16]</a>'.</span>"
   ]
  },
  {
   "cell_type": "code",
   "execution_count": 1,
   "id": "7151662d",
   "metadata": {
    "execution": {
     "iopub.execute_input": "2022-04-14T23:39:58.689503Z",
     "iopub.status.busy": "2022-04-14T23:39:58.688551Z",
     "iopub.status.idle": "2022-04-14T23:39:58.691454Z",
     "shell.execute_reply": "2022-04-14T23:39:58.691454Z"
    },
    "papermill": {
     "duration": 0.012579,
     "end_time": "2022-04-14T23:39:58.691454",
     "exception": false,
     "start_time": "2022-04-14T23:39:58.678875",
     "status": "completed"
    },
    "tags": [
     "injected-parameters"
    ]
   },
   "outputs": [],
   "source": [
    "# Parameters\n",
    "config = {\n",
    "    \"notebook\": \"notebooks/feature_engineering.ipynb\",\n",
    "    \"data_path\": \"C:/Users/nico_/Desktop/ITBA/TFI/global fishing watch/dataset/fixed_gear.csv\",\n",
    "    \"output_label\": \"fixed_gear\",\n",
    "}\n"
   ]
  },
  {
   "cell_type": "code",
   "execution_count": 2,
   "id": "a2a77029",
   "metadata": {
    "execution": {
     "iopub.execute_input": "2022-04-14T23:39:58.711951Z",
     "iopub.status.busy": "2022-04-14T23:39:58.711951Z",
     "iopub.status.idle": "2022-04-14T23:39:58.714877Z",
     "shell.execute_reply": "2022-04-14T23:39:58.714877Z"
    },
    "papermill": {
     "duration": 0.014639,
     "end_time": "2022-04-14T23:39:58.714877",
     "exception": false,
     "start_time": "2022-04-14T23:39:58.700238",
     "status": "completed"
    },
    "tags": []
   },
   "outputs": [
    {
     "name": "stdout",
     "output_type": "stream",
     "text": [
      "{'notebook': 'notebooks/feature_engineering.ipynb', 'data_path': 'C:/Users/nico_/Desktop/ITBA/TFI/global fishing watch/dataset/fixed_gear.csv', 'output_label': 'fixed_gear'}\n"
     ]
    }
   ],
   "source": [
    "# check if config exists\n",
    "try:\n",
    "    config\n",
    "except NameError:\n",
    "    config_exists = False\n",
    "else:\n",
    "    config_exists = True\n",
    "\n",
    "# make config if it does not exist already (e.g. passed in by papermill)\n",
    "if not(config_exists):\n",
    "    # set up some config for the experiment run\n",
    "    config = {\n",
    "        \"data_path\" : \"C:/Users/nico_/Desktop/ITBA/TFI/global fishing watch/dataset/trollers.csv\",\n",
    "        \"output_label\": \"trollers\"\n",
    "    }\n",
    "print(config)"
   ]
  },
  {
   "cell_type": "code",
   "execution_count": 3,
   "id": "5dd3b9fc",
   "metadata": {
    "execution": {
     "iopub.execute_input": "2022-04-14T23:39:58.735374Z",
     "iopub.status.busy": "2022-04-14T23:39:58.735374Z",
     "iopub.status.idle": "2022-04-14T23:40:10.834894Z",
     "shell.execute_reply": "2022-04-14T23:40:10.834894Z"
    },
    "papermill": {
     "duration": 12.112234,
     "end_time": "2022-04-14T23:40:10.835896",
     "exception": false,
     "start_time": "2022-04-14T23:39:58.723662",
     "status": "completed"
    },
    "tags": []
   },
   "outputs": [],
   "source": [
    "import pandas as pd\n",
    "import numpy as np\n",
    "from sklearn.tree import DecisionTreeClassifier # Import Decision Tree Classifier\n",
    "from sklearn.model_selection import train_test_split # Import train_test_split function\n",
    "from sklearn import metrics #Import scikit-learn metrics module for accuracy calculation\n",
    "\n",
    "df = pd.read_csv(config['data_path'], header=\"infer\", sep=\",\",error_bad_lines=False, engine ='python')\n",
    "\n",
    "#Nos quedamos con los puntos que estan mayor a 3 millas nauticas de la costa.\n",
    "df = df[(df['distance_from_shore'] >= 5556)]\n",
    "\n",
    "#Nos quedamos solamente con los valores que estamos seguros que esta o no esta pescando.\n",
    "df = df[(df['is_fishing'] == -1.0)  | (df['is_fishing'] == 1.0) ]\n",
    "\n",
    "#Renombramos las columnas de la variable a predecir de si esta pescando o no.\n",
    "df[\"is_fishing\"] = np.where(df[\"is_fishing\"] == 1.0, 'SI', 'NO')\n",
    "\n",
    "#Dropeamos los que contienen el mismo timestamp.\n",
    "df = df.drop_duplicates(subset='timestamp', keep=\"first\")\n",
    "\n",
    "df[\"timestamp\"]=df[\"timestamp\"].astype(int)\n",
    "#df['date_series'] = pd.to_datetime(df['timestamp'],unit='s')\n",
    "#df = df.set_index('date_series') \n",
    "df['datetime'] = pd.to_datetime(df['timestamp'],unit='s')\n",
    "df.index = df.datetime\n",
    "#print(df['date_series'])\n",
    "\n",
    "aux = df\n"
   ]
  },
  {
   "cell_type": "code",
   "execution_count": 4,
   "id": "a7e4c5a5",
   "metadata": {
    "execution": {
     "iopub.execute_input": "2022-04-14T23:40:10.854431Z",
     "iopub.status.busy": "2022-04-14T23:40:10.854431Z",
     "iopub.status.idle": "2022-04-14T23:40:11.245788Z",
     "shell.execute_reply": "2022-04-14T23:40:11.245788Z"
    },
    "papermill": {
     "duration": 0.402084,
     "end_time": "2022-04-14T23:40:11.245788",
     "exception": false,
     "start_time": "2022-04-14T23:40:10.843704",
     "status": "completed"
    },
    "tags": []
   },
   "outputs": [
    {
     "name": "stdout",
     "output_type": "stream",
     "text": [
      "615296\n"
     ]
    },
    {
     "name": "stdout",
     "output_type": "stream",
     "text": [
      "302941\n"
     ]
    }
   ],
   "source": [
    "#print(df.resample('60Min',on='datetime'))\n",
    "df = aux\n",
    "print(len(df))\n",
    "df = df.resample('5Min',on='datetime').agg('first').dropna()  \n",
    "df.reset_index(drop=True, inplace=True)\n",
    "print(len(df))\n",
    "#print(df)"
   ]
  },
  {
   "cell_type": "code",
   "execution_count": 5,
   "id": "a202d60f",
   "metadata": {
    "execution": {
     "iopub.execute_input": "2022-04-14T23:40:11.268262Z",
     "iopub.status.busy": "2022-04-14T23:40:11.267288Z",
     "iopub.status.idle": "2022-04-14T23:40:11.277997Z",
     "shell.execute_reply": "2022-04-14T23:40:11.277997Z"
    },
    "papermill": {
     "duration": 0.023426,
     "end_time": "2022-04-14T23:40:11.277997",
     "exception": false,
     "start_time": "2022-04-14T23:40:11.254571",
     "status": "completed"
    },
    "tags": []
   },
   "outputs": [
    {
     "name": "stdout",
     "output_type": "stream",
     "text": [
      "   timestamp  valores            datetime\n",
      "0          1        3 1970-01-01 00:00:01\n",
      "1          2        4 1970-01-01 00:00:02\n",
      "2          3        5 1970-01-01 00:00:03\n",
      "3          4        6 1970-01-01 00:00:04\n",
      "4        120        7 1970-01-01 00:02:00\n",
      "5        241        8 1970-01-01 00:04:01\n",
      "6        421        9 1970-01-01 00:07:01\n",
      "                     timestamp  valores            datetime\n",
      "datetime                                                   \n",
      "1970-01-01 00:00:00        1.0      3.0 1970-01-01 00:00:01\n",
      "1970-01-01 00:02:00      120.0      7.0 1970-01-01 00:02:00\n",
      "1970-01-01 00:04:00      241.0      8.0 1970-01-01 00:04:01\n",
      "1970-01-01 00:07:00      421.0      9.0 1970-01-01 00:07:01\n"
     ]
    }
   ],
   "source": [
    "#EJEMPLO DE RESAMPLE PARA VER QUE FUNCIONA OK.\n",
    "d = {'timestamp': [1, 2,3,4,60*2,60*4+1,60*7+1], 'valores': [3, 4,5,6,7,8,9]}\n",
    "d = pd.DataFrame(data=d)\n",
    "\n",
    "d['datetime'] = pd.to_datetime(d['timestamp'],unit='s')\n",
    "print(d)\n",
    "\n",
    "d = d.resample('1Min',on='datetime').agg('first').dropna()  \n",
    "print(d)"
   ]
  },
  {
   "cell_type": "code",
   "execution_count": 6,
   "id": "105b7d28",
   "metadata": {
    "execution": {
     "iopub.execute_input": "2022-04-14T23:40:11.304349Z",
     "iopub.status.busy": "2022-04-14T23:40:11.303402Z",
     "iopub.status.idle": "2022-04-14T23:40:19.021568Z",
     "shell.execute_reply": "2022-04-14T23:40:19.021568Z"
    },
    "papermill": {
     "duration": 7.732835,
     "end_time": "2022-04-14T23:40:19.021568",
     "exception": false,
     "start_time": "2022-04-14T23:40:11.288733",
     "status": "completed"
    },
    "tags": []
   },
   "outputs": [],
   "source": [
    "#There are multiple definitions for night, depending if it's for civil (-6°), nautical (-12°) or astronomical (-18°) purposes. \n",
    "# Just pick a treshold : if the sun is below, it's nighttime!\n",
    "\n",
    "import ephem\n",
    "import math\n",
    "import datetime\n",
    "\n",
    "def get_day_night(lat,lon,datetime): \n",
    "    sun = ephem.Sun()\n",
    "    observer = ephem.Observer()\n",
    "    # ↓ Define your coordinates here ↓\n",
    "    observer.lat, observer.lon, observer.elevation = lat, lon, 0\n",
    "    # ↓ Set the time (UTC) here ↓\n",
    "    #observer.date = datetime.datetime.utcnow()\n",
    "    observer.date=datetime\n",
    "    sun.compute(observer)\n",
    "    current_sun_alt = sun.alt\n",
    "    if (current_sun_alt*180/math.pi) < -12.0 :\n",
    "        return 2\n",
    "    else:\n",
    "        return 1\n",
    "    \n",
    "df['sun_state'] = df.apply(lambda x: get_day_night(x['lat'], x['lon'],x['datetime']), axis=1)"
   ]
  },
  {
   "cell_type": "code",
   "execution_count": 7,
   "id": "584a432f",
   "metadata": {
    "execution": {
     "iopub.execute_input": "2022-04-14T23:40:19.043041Z",
     "iopub.status.busy": "2022-04-14T23:40:19.043041Z",
     "iopub.status.idle": "2022-04-14T23:40:19.060609Z",
     "shell.execute_reply": "2022-04-14T23:40:19.060609Z"
    },
    "papermill": {
     "duration": 0.030257,
     "end_time": "2022-04-14T23:40:19.060609",
     "exception": false,
     "start_time": "2022-04-14T23:40:19.030352",
     "status": "completed"
    },
    "tags": []
   },
   "outputs": [
    {
     "data": {
      "text/plain": [
       "1    185419\n",
       "2    117522\n",
       "Name: sun_state, dtype: int64"
      ]
     },
     "execution_count": 7,
     "metadata": {},
     "output_type": "execute_result"
    }
   ],
   "source": [
    "df[\"sun_state\"].value_counts()"
   ]
  },
  {
   "cell_type": "markdown",
   "id": "3730af78",
   "metadata": {
    "papermill": {
     "duration": 0.008811,
     "end_time": "2022-04-14T23:40:19.078203",
     "exception": false,
     "start_time": "2022-04-14T23:40:19.069392",
     "status": "completed"
    },
    "tags": []
   },
   "source": [
    "Se pesca mas de noche, que de dia"
   ]
  },
  {
   "cell_type": "code",
   "execution_count": 8,
   "id": "3c8a5450",
   "metadata": {
    "execution": {
     "iopub.execute_input": "2022-04-14T23:40:19.110385Z",
     "iopub.status.busy": "2022-04-14T23:40:19.110385Z",
     "iopub.status.idle": "2022-04-14T23:40:19.144544Z",
     "shell.execute_reply": "2022-04-14T23:40:19.144544Z"
    },
    "papermill": {
     "duration": 0.057555,
     "end_time": "2022-04-14T23:40:19.144544",
     "exception": false,
     "start_time": "2022-04-14T23:40:19.086989",
     "status": "completed"
    },
    "tags": []
   },
   "outputs": [
    {
     "name": "stdout",
     "output_type": "stream",
     "text": [
      "           sun_state                                   \n",
      "               count      mean       std  min  50%  max\n",
      "is_fishing                                             \n",
      "NO          298243.0  1.388401  0.487387  1.0  1.0  2.0\n",
      "SI            4698.0  1.358450  0.479596  1.0  1.0  2.0\n"
     ]
    }
   ],
   "source": [
    "print(df.groupby([\"is_fishing\"])[['sun_state']].describe(percentiles=[]))"
   ]
  },
  {
   "cell_type": "code",
   "execution_count": 9,
   "id": "1abc761d",
   "metadata": {
    "execution": {
     "iopub.execute_input": "2022-04-14T23:40:19.170925Z",
     "iopub.status.busy": "2022-04-14T23:40:19.170925Z",
     "iopub.status.idle": "2022-04-14T23:40:19.421729Z",
     "shell.execute_reply": "2022-04-14T23:40:19.421729Z"
    },
    "papermill": {
     "duration": 0.267397,
     "end_time": "2022-04-14T23:40:19.421729",
     "exception": false,
     "start_time": "2022-04-14T23:40:19.154332",
     "status": "completed"
    },
    "tags": []
   },
   "outputs": [],
   "source": [
    "def haversine_np(lon1, lat1, lon2, lat2):\n",
    "    lon1, lat1, lon2, lat2 = map(np.radians, [lon1, lat1, lon2, lat2])\n",
    "\n",
    "    dlon = lon2 - lon1\n",
    "    dlat = lat2 - lat1\n",
    "\n",
    "    a = np.sin(dlat/2.0)**2 + np.cos(lat1) * np.cos(lat2) * np.sin(dlon/2.0)**2\n",
    "\n",
    "    c = 2 * np.arcsin(np.sqrt(a))\n",
    "    km = 6367 * c\n",
    "    return km\n",
    "\n",
    "def distance(x):\n",
    "    y = x.shift()\n",
    "    return haversine_np(x['lat'], x['lon'], y['lat'], y['lon']).fillna(0)\n",
    "\n",
    "df['distance'] = df.groupby('mmsi').apply(distance).reset_index(level=0, drop=True)"
   ]
  },
  {
   "cell_type": "code",
   "execution_count": 10,
   "id": "b8c7760a",
   "metadata": {
    "execution": {
     "iopub.execute_input": "2022-04-14T23:40:19.449079Z",
     "iopub.status.busy": "2022-04-14T23:40:19.448107Z",
     "iopub.status.idle": "2022-04-14T23:40:19.453937Z",
     "shell.execute_reply": "2022-04-14T23:40:19.453937Z"
    },
    "papermill": {
     "duration": 0.021501,
     "end_time": "2022-04-14T23:40:19.454941",
     "exception": false,
     "start_time": "2022-04-14T23:40:19.433440",
     "status": "completed"
    },
    "tags": []
   },
   "outputs": [],
   "source": [
    "#Convierto latitud y longitud a radianes\n",
    "df['lat'] = np.radians(df['lat'])\n",
    "df['lon'] = np.radians(df['lon'])"
   ]
  },
  {
   "cell_type": "code",
   "execution_count": 11,
   "id": "c7a9e125",
   "metadata": {
    "execution": {
     "iopub.execute_input": "2022-04-14T23:40:19.477383Z",
     "iopub.status.busy": "2022-04-14T23:40:19.476395Z",
     "iopub.status.idle": "2022-04-14T23:40:19.546657Z",
     "shell.execute_reply": "2022-04-14T23:40:19.546657Z"
    },
    "papermill": {
     "duration": 0.08293,
     "end_time": "2022-04-14T23:40:19.546657",
     "exception": false,
     "start_time": "2022-04-14T23:40:19.463727",
     "status": "completed"
    },
    "tags": []
   },
   "outputs": [],
   "source": [
    "#Calculo la diferencia de tiempo entre puntos consecutivos.\n",
    "df['timediff']= df.groupby('mmsi')['timestamp'].diff()"
   ]
  },
  {
   "cell_type": "code",
   "execution_count": 12,
   "id": "8b2f691b",
   "metadata": {
    "execution": {
     "iopub.execute_input": "2022-04-14T23:40:19.568129Z",
     "iopub.status.busy": "2022-04-14T23:40:19.567183Z",
     "iopub.status.idle": "2022-04-14T23:40:19.572033Z",
     "shell.execute_reply": "2022-04-14T23:40:19.572033Z"
    },
    "papermill": {
     "duration": 0.016619,
     "end_time": "2022-04-14T23:40:19.573035",
     "exception": false,
     "start_time": "2022-04-14T23:40:19.556416",
     "status": "completed"
    },
    "tags": []
   },
   "outputs": [],
   "source": [
    "#Normalizamos la variable curso\n",
    "df['course']=df['course']/360.0"
   ]
  },
  {
   "cell_type": "code",
   "execution_count": 13,
   "id": "3892a756",
   "metadata": {
    "execution": {
     "iopub.execute_input": "2022-04-14T23:40:19.596432Z",
     "iopub.status.busy": "2022-04-14T23:40:19.596432Z",
     "iopub.status.idle": "2022-04-14T23:40:20.027824Z",
     "shell.execute_reply": "2022-04-14T23:40:20.027824Z"
    },
    "papermill": {
     "duration": 0.446005,
     "end_time": "2022-04-14T23:40:20.027824",
     "exception": false,
     "start_time": "2022-04-14T23:40:19.581819",
     "status": "completed"
    },
    "tags": []
   },
   "outputs": [],
   "source": [
    "#Agregar esto deberia de hacer robusto a mi algoritmo a LAT/LON y timestamps.\n",
    "\n",
    "\n",
    "\n",
    "#Velocidad entre puntos a partir de la distancia        S = x(t2)-x(t1) / t2 - t1\n",
    "df['S0']= df['distance']/df['timediff']\n",
    "#Aceleracion rectilinea         A = S(t2)-S(t1) / t2 - t1\n",
    "df['A0']= df.groupby('mmsi')['S0'].diff()/df['timediff']\n",
    "#Jerk                           J = A(t2)-A(t1) / t2 - t1\n",
    "df['J0']= df.groupby('mmsi')['A0'].diff()/df['timediff']\n",
    "#Derivada del curso             Phi = C(t2)-C(t1) / t2 - t1\n",
    "df['C0']= df.groupby('mmsi')['course'].diff()/df['timediff']\n",
    "#2 Horas deberia de ser suficientemente informativo para saber el comportamiento del buque (paper subrayado)\n",
    "\n",
    "#Velocidad promedio entre puntos    Vavg = V1 + V2 / 2\n",
    "df['Vavg']  = df.groupby('mmsi')['speed'].transform(lambda x: x.rolling(2, 1).mean())\n",
    "\n",
    "\n",
    "#Variacion de velocidad entre puntos Delta_S = V2 - V1 / 2 \n",
    "df['Delta_S']= (df.groupby('mmsi')['speed'].diff())/2\n",
    "\n",
    "#Curso promedio entre puntos        Cavg = C1 + C2 / 2\n",
    "df['Cavg'] = df.groupby('mmsi')['course'].transform(lambda x: x.rolling(2, 1).mean())\n",
    "#Variacion del curso                DeltaC = C2-C1/2\n",
    "df['Delta_C']= (df.groupby('mmsi')['course'].diff())/2\n"
   ]
  },
  {
   "cell_type": "code",
   "execution_count": 14,
   "id": "eecd7ea8",
   "metadata": {
    "execution": {
     "iopub.execute_input": "2022-04-14T23:40:20.058102Z",
     "iopub.status.busy": "2022-04-14T23:40:20.058102Z",
     "iopub.status.idle": "2022-04-14T23:40:20.113712Z",
     "shell.execute_reply": "2022-04-14T23:40:20.113712Z"
    },
    "papermill": {
     "duration": 0.071275,
     "end_time": "2022-04-14T23:40:20.114715",
     "exception": false,
     "start_time": "2022-04-14T23:40:20.043440",
     "status": "completed"
    },
    "tags": []
   },
   "outputs": [],
   "source": [
    "number_lags = 6\n",
    "columns_to_lag = ['speed','course','S0','A0','J0','C0']\n",
    "\n",
    "#df = pd.DataFrame(data={'vals':[5,4,3,2,1]})\n",
    "for column in columns_to_lag:\n",
    "    for lag in range(1, number_lags + 1):\n",
    "        df[str(column) +'_lag_' + str(lag)] = df[column].shift(lag)\n"
   ]
  },
  {
   "cell_type": "code",
   "execution_count": 15,
   "id": "ba40ba1d",
   "metadata": {
    "execution": {
     "iopub.execute_input": "2022-04-14T23:40:20.136159Z",
     "iopub.status.busy": "2022-04-14T23:40:20.136159Z",
     "iopub.status.idle": "2022-04-14T23:40:20.138111Z",
     "shell.execute_reply": "2022-04-14T23:40:20.138111Z"
    },
    "papermill": {
     "duration": 0.014613,
     "end_time": "2022-04-14T23:40:20.138111",
     "exception": false,
     "start_time": "2022-04-14T23:40:20.123498",
     "status": "completed"
    },
    "tags": []
   },
   "outputs": [
    {
     "name": "stdout",
     "output_type": "stream",
     "text": [
      "Index(['mmsi', 'timestamp', 'distance_from_shore', 'distance_from_port',\n",
      "       'speed', 'course', 'lat', 'lon', 'is_fishing', 'source', 'datetime',\n",
      "       'sun_state', 'distance', 'timediff', 'S0', 'A0', 'J0', 'C0', 'Vavg',\n",
      "       'Delta_S', 'Cavg', 'Delta_C', 'speed_lag_1', 'speed_lag_2',\n",
      "       'speed_lag_3', 'speed_lag_4', 'speed_lag_5', 'speed_lag_6',\n",
      "       'course_lag_1', 'course_lag_2', 'course_lag_3', 'course_lag_4',\n",
      "       'course_lag_5', 'course_lag_6', 'S0_lag_1', 'S0_lag_2', 'S0_lag_3',\n",
      "       'S0_lag_4', 'S0_lag_5', 'S0_lag_6', 'A0_lag_1', 'A0_lag_2', 'A0_lag_3',\n",
      "       'A0_lag_4', 'A0_lag_5', 'A0_lag_6', 'J0_lag_1', 'J0_lag_2', 'J0_lag_3',\n",
      "       'J0_lag_4', 'J0_lag_5', 'J0_lag_6', 'C0_lag_1', 'C0_lag_2', 'C0_lag_3',\n",
      "       'C0_lag_4', 'C0_lag_5', 'C0_lag_6'],\n",
      "      dtype='object')\n"
     ]
    }
   ],
   "source": [
    "print(df.columns)\n"
   ]
  },
  {
   "cell_type": "markdown",
   "id": "84691d44",
   "metadata": {
    "tags": [
     "papermill-error-cell-tag"
    ]
   },
   "source": [
    "<span id=\"papermill-error-cell\" style=\"color:red; font-family:Helvetica Neue, Helvetica, Arial, sans-serif; font-size:2em;\">Execution using papermill encountered an exception here and stopped:</span>"
   ]
  },
  {
   "cell_type": "code",
   "execution_count": 16,
   "id": "7f636329",
   "metadata": {
    "execution": {
     "iopub.execute_input": "2022-04-14T23:40:20.161143Z",
     "iopub.status.busy": "2022-04-14T23:40:20.160172Z",
     "iopub.status.idle": "2022-04-14T23:40:20.762337Z",
     "shell.execute_reply": "2022-04-14T23:40:20.761359Z"
    },
    "papermill": {
     "duration": 0.613904,
     "end_time": "2022-04-14T23:40:20.762337",
     "exception": true,
     "start_time": "2022-04-14T23:40:20.148433",
     "status": "failed"
    },
    "tags": []
   },
   "outputs": [
    {
     "ename": "FileNotFoundError",
     "evalue": "[Errno 2] No such file or directory: '/../../../df_procesado/fixed_gear_fe.csv'",
     "output_type": "error",
     "traceback": [
      "\u001b[1;31m---------------------------------------------------------------------------\u001b[0m",
      "\u001b[1;31mFileNotFoundError\u001b[0m                         Traceback (most recent call last)",
      "\u001b[1;32m<ipython-input-16-eed5cdc99e01>\u001b[0m in \u001b[0;36m<module>\u001b[1;34m\u001b[0m\n\u001b[0;32m      1\u001b[0m \u001b[0mdf\u001b[0m \u001b[1;33m=\u001b[0m \u001b[0mdf\u001b[0m\u001b[1;33m.\u001b[0m\u001b[0mdropna\u001b[0m\u001b[1;33m(\u001b[0m\u001b[1;33m)\u001b[0m\u001b[1;33m\u001b[0m\u001b[1;33m\u001b[0m\u001b[0m\n\u001b[1;32m----> 2\u001b[1;33m \u001b[0mdf\u001b[0m\u001b[1;33m.\u001b[0m\u001b[0mto_csv\u001b[0m\u001b[1;33m(\u001b[0m\u001b[1;34mf\"/../../../df_procesado/{config['output_label']}_fe.csv\"\u001b[0m\u001b[1;33m,\u001b[0m\u001b[0msep\u001b[0m\u001b[1;33m=\u001b[0m\u001b[1;34m\",\"\u001b[0m\u001b[1;33m,\u001b[0m\u001b[0mindex\u001b[0m\u001b[1;33m=\u001b[0m\u001b[1;32mFalse\u001b[0m\u001b[1;33m)\u001b[0m\u001b[1;33m\u001b[0m\u001b[1;33m\u001b[0m\u001b[0m\n\u001b[0m",
      "\u001b[1;32mD:\\Users\\nico_\\anaconda3\\lib\\site-packages\\pandas\\core\\generic.py\u001b[0m in \u001b[0;36mto_csv\u001b[1;34m(self, path_or_buf, sep, na_rep, float_format, columns, header, index, index_label, mode, encoding, compression, quoting, quotechar, line_terminator, chunksize, date_format, doublequote, escapechar, decimal, errors, storage_options)\u001b[0m\n\u001b[0;32m   3385\u001b[0m         )\n\u001b[0;32m   3386\u001b[0m \u001b[1;33m\u001b[0m\u001b[0m\n\u001b[1;32m-> 3387\u001b[1;33m         return DataFrameRenderer(formatter).to_csv(\n\u001b[0m\u001b[0;32m   3388\u001b[0m             \u001b[0mpath_or_buf\u001b[0m\u001b[1;33m,\u001b[0m\u001b[1;33m\u001b[0m\u001b[1;33m\u001b[0m\u001b[0m\n\u001b[0;32m   3389\u001b[0m             \u001b[0mline_terminator\u001b[0m\u001b[1;33m=\u001b[0m\u001b[0mline_terminator\u001b[0m\u001b[1;33m,\u001b[0m\u001b[1;33m\u001b[0m\u001b[1;33m\u001b[0m\u001b[0m\n",
      "\u001b[1;32mD:\\Users\\nico_\\anaconda3\\lib\\site-packages\\pandas\\io\\formats\\format.py\u001b[0m in \u001b[0;36mto_csv\u001b[1;34m(self, path_or_buf, encoding, sep, columns, index_label, mode, compression, quoting, quotechar, line_terminator, chunksize, date_format, doublequote, escapechar, errors, storage_options)\u001b[0m\n\u001b[0;32m   1081\u001b[0m             \u001b[0mformatter\u001b[0m\u001b[1;33m=\u001b[0m\u001b[0mself\u001b[0m\u001b[1;33m.\u001b[0m\u001b[0mfmt\u001b[0m\u001b[1;33m,\u001b[0m\u001b[1;33m\u001b[0m\u001b[1;33m\u001b[0m\u001b[0m\n\u001b[0;32m   1082\u001b[0m         )\n\u001b[1;32m-> 1083\u001b[1;33m         \u001b[0mcsv_formatter\u001b[0m\u001b[1;33m.\u001b[0m\u001b[0msave\u001b[0m\u001b[1;33m(\u001b[0m\u001b[1;33m)\u001b[0m\u001b[1;33m\u001b[0m\u001b[1;33m\u001b[0m\u001b[0m\n\u001b[0m\u001b[0;32m   1084\u001b[0m \u001b[1;33m\u001b[0m\u001b[0m\n\u001b[0;32m   1085\u001b[0m         \u001b[1;32mif\u001b[0m \u001b[0mcreated_buffer\u001b[0m\u001b[1;33m:\u001b[0m\u001b[1;33m\u001b[0m\u001b[1;33m\u001b[0m\u001b[0m\n",
      "\u001b[1;32mD:\\Users\\nico_\\anaconda3\\lib\\site-packages\\pandas\\io\\formats\\csvs.py\u001b[0m in \u001b[0;36msave\u001b[1;34m(self)\u001b[0m\n\u001b[0;32m    226\u001b[0m         \"\"\"\n\u001b[0;32m    227\u001b[0m         \u001b[1;31m# apply compression and byte/text conversion\u001b[0m\u001b[1;33m\u001b[0m\u001b[1;33m\u001b[0m\u001b[1;33m\u001b[0m\u001b[0m\n\u001b[1;32m--> 228\u001b[1;33m         with get_handle(\n\u001b[0m\u001b[0;32m    229\u001b[0m             \u001b[0mself\u001b[0m\u001b[1;33m.\u001b[0m\u001b[0mfilepath_or_buffer\u001b[0m\u001b[1;33m,\u001b[0m\u001b[1;33m\u001b[0m\u001b[1;33m\u001b[0m\u001b[0m\n\u001b[0;32m    230\u001b[0m             \u001b[0mself\u001b[0m\u001b[1;33m.\u001b[0m\u001b[0mmode\u001b[0m\u001b[1;33m,\u001b[0m\u001b[1;33m\u001b[0m\u001b[1;33m\u001b[0m\u001b[0m\n",
      "\u001b[1;32mD:\\Users\\nico_\\anaconda3\\lib\\site-packages\\pandas\\io\\common.py\u001b[0m in \u001b[0;36mget_handle\u001b[1;34m(path_or_buf, mode, encoding, compression, memory_map, is_text, errors, storage_options)\u001b[0m\n\u001b[0;32m    640\u001b[0m                 \u001b[0merrors\u001b[0m \u001b[1;33m=\u001b[0m \u001b[1;34m\"replace\"\u001b[0m\u001b[1;33m\u001b[0m\u001b[1;33m\u001b[0m\u001b[0m\n\u001b[0;32m    641\u001b[0m             \u001b[1;31m# Encoding\u001b[0m\u001b[1;33m\u001b[0m\u001b[1;33m\u001b[0m\u001b[1;33m\u001b[0m\u001b[0m\n\u001b[1;32m--> 642\u001b[1;33m             handle = open(\n\u001b[0m\u001b[0;32m    643\u001b[0m                 \u001b[0mhandle\u001b[0m\u001b[1;33m,\u001b[0m\u001b[1;33m\u001b[0m\u001b[1;33m\u001b[0m\u001b[0m\n\u001b[0;32m    644\u001b[0m                 \u001b[0mioargs\u001b[0m\u001b[1;33m.\u001b[0m\u001b[0mmode\u001b[0m\u001b[1;33m,\u001b[0m\u001b[1;33m\u001b[0m\u001b[1;33m\u001b[0m\u001b[0m\n",
      "\u001b[1;31mFileNotFoundError\u001b[0m: [Errno 2] No such file or directory: '/../../../df_procesado/fixed_gear_fe.csv'"
     ]
    }
   ],
   "source": [
    "df = df.dropna()\n",
    "df.to_csv(f\"/../../../df_procesado/{config['output_label']}_fe.csv\",sep=\",\",index=False)  "
   ]
  },
  {
   "cell_type": "code",
   "execution_count": null,
   "id": "411d9df8",
   "metadata": {
    "papermill": {
     "duration": null,
     "end_time": null,
     "exception": null,
     "start_time": null,
     "status": "pending"
    },
    "tags": []
   },
   "outputs": [],
   "source": [
    "def n_prior_to_condition(df, n, condition):\n",
    "    groups = condition.iloc[::-1].cumsum()\n",
    "    return df.groupby(groups).tail(n+1)[:15000]\n",
    "\n",
    "for i in range(1,10000):\n",
    "    aux = n_prior_to_condition(df, i, df.is_fishing==\"SI\")  \n",
    "    aux = aux.drop_duplicates()\n",
    "    yes = (len(aux[aux['is_fishing']=='SI']))\n",
    "    no = (len(aux[aux['is_fishing']=='NO']))\n",
    "    if (yes/no<=1):\n",
    "        df=aux\n",
    "        break\n",
    "\n",
    "print(len(df[df['is_fishing']=='SI']))\n",
    "print((len(df[df['is_fishing']=='NO'])))\n",
    "df.to_csv(f\"/../../../df_procesado/{config['output_label']}_fe_recortado.csv\",sep=\",\",index=False)  "
   ]
  },
  {
   "cell_type": "code",
   "execution_count": null,
   "id": "c6aed04d",
   "metadata": {
    "papermill": {
     "duration": null,
     "end_time": null,
     "exception": null,
     "start_time": null,
     "status": "pending"
    },
    "tags": []
   },
   "outputs": [],
   "source": [
    "print(df.count())"
   ]
  }
 ],
 "metadata": {
  "interpreter": {
   "hash": "db2a60f505a9041374f6f3fb78368755bb5bc9c69ef08139ad82abb6b35de715"
  },
  "kernelspec": {
   "display_name": "Python 3.8.8 64-bit ('base': conda)",
   "name": "python3"
  },
  "language_info": {
   "codemirror_mode": {
    "name": "ipython",
    "version": 3
   },
   "file_extension": ".py",
   "mimetype": "text/x-python",
   "name": "python",
   "nbconvert_exporter": "python",
   "pygments_lexer": "ipython3",
   "version": "3.8.8"
  },
  "papermill": {
   "default_parameters": {},
   "duration": 24.081874,
   "end_time": "2022-04-14T23:40:21.171366",
   "environment_variables": {},
   "exception": true,
   "input_path": "notebooks/feature_engineering.ipynb",
   "output_path": "papermill_outputs/feature_engineering/fixed_gear/feature_engineering_fixed_gear.ipynb",
   "parameters": {
    "config": {
     "data_path": "C:/Users/nico_/Desktop/ITBA/TFI/global fishing watch/dataset/fixed_gear.csv",
     "notebook": "notebooks/feature_engineering.ipynb",
     "output_label": "fixed_gear"
    }
   },
   "start_time": "2022-04-14T23:39:57.089492",
   "version": "2.3.4"
  }
 },
 "nbformat": 4,
 "nbformat_minor": 5
}
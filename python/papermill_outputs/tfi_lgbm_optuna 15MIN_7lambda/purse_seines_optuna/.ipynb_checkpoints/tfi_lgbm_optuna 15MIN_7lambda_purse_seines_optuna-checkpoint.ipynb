{
 "cells": [
  {
   "cell_type": "code",
   "execution_count": 1,
   "id": "0afa05b7",
   "metadata": {
    "execution": {
     "iopub.execute_input": "2022-07-02T21:51:15.998589Z",
     "iopub.status.busy": "2022-07-02T21:51:15.997591Z",
     "iopub.status.idle": "2022-07-02T21:51:16.012551Z",
     "shell.execute_reply": "2022-07-02T21:51:16.012551Z"
    },
    "papermill": {
     "duration": 0.032912,
     "end_time": "2022-07-02T21:51:16.012551",
     "exception": false,
     "start_time": "2022-07-02T21:51:15.979639",
     "status": "completed"
    },
    "tags": [
     "injected-parameters"
    ]
   },
   "outputs": [],
   "source": [
    "# Parameters\n",
    "config = {\n",
    "    \"notebook\": \"notebooks/tfi_lgbm_optuna 15MIN_7lambda.ipynb\",\n",
    "    \"data_path\": \"C:/Users/nico_/Desktop/ITBA/TFI/github/df_procesado/purse_seines_fe_recortado_v3_15MIN_7lambda.csv\",\n",
    "    \"output_label\": \"purse_seines_optuna\",\n",
    "}\n"
   ]
  },
  {
   "cell_type": "code",
   "execution_count": 2,
   "id": "ad051959",
   "metadata": {
    "execution": {
     "iopub.execute_input": "2022-07-02T21:51:16.050450Z",
     "iopub.status.busy": "2022-07-02T21:51:16.050450Z",
     "iopub.status.idle": "2022-07-02T21:51:16.059425Z",
     "shell.execute_reply": "2022-07-02T21:51:16.059425Z"
    },
    "papermill": {
     "duration": 0.028922,
     "end_time": "2022-07-02T21:51:16.059425",
     "exception": false,
     "start_time": "2022-07-02T21:51:16.030503",
     "status": "completed"
    },
    "tags": []
   },
   "outputs": [
    {
     "name": "stdout",
     "output_type": "stream",
     "text": [
      "{'notebook': 'notebooks/tfi_lgbm_optuna 15MIN_7lambda.ipynb', 'data_path': 'C:/Users/nico_/Desktop/ITBA/TFI/github/df_procesado/purse_seines_fe_recortado_v3_15MIN_7lambda.csv', 'output_label': 'purse_seines_optuna'}\n"
     ]
    }
   ],
   "source": [
    "# check if config exists\n",
    "try:\n",
    "    config\n",
    "except NameError:\n",
    "    config_exists = False\n",
    "else:\n",
    "    config_exists = True\n",
    "\n",
    "# make config if it does not exist already (e.g. passed in by papermill)\n",
    "if not(config_exists):\n",
    "    # set up some config for the experiment run\n",
    "    config = {\n",
    "        \"data_path\" : \"C:/Users/nico_/Desktop/ITBA/TFI/github/df_procesado/trollers_fe_recortado_v2.csv\",\n",
    "    }\n",
    "print(config)"
   ]
  },
  {
   "cell_type": "code",
   "execution_count": 3,
   "id": "4728e265",
   "metadata": {
    "execution": {
     "iopub.execute_input": "2022-07-02T21:51:16.095330Z",
     "iopub.status.busy": "2022-07-02T21:51:16.094332Z",
     "iopub.status.idle": "2022-07-02T21:51:26.750744Z",
     "shell.execute_reply": "2022-07-02T21:51:26.750744Z"
    },
    "papermill": {
     "duration": 10.676358,
     "end_time": "2022-07-02T21:51:26.750744",
     "exception": false,
     "start_time": "2022-07-02T21:51:16.074386",
     "status": "completed"
    },
    "tags": []
   },
   "outputs": [],
   "source": [
    "# Importing core libraries\n",
    "#https://towardsdatascience.com/kagglers-guide-to-lightgbm-hyperparameter-tuning-with-optuna-in-2021-ed048d9838b5\n",
    "#https://www.kaggle.com/code/lucamassaron/tutorial-bayesian-optimization-with-lightgbm/notebook\n",
    "import numpy as np\n",
    "import pandas as pd\n",
    "from time import time\n",
    "import pprint\n",
    "import joblib\n",
    "from functools import partial\n",
    "\n",
    "# Suppressing warnings because of skopt verbosity\n",
    "import warnings\n",
    "warnings.filterwarnings(\"ignore\")\n",
    "\n",
    "# Classifiers\n",
    "import lightgbm as lgb\n",
    "\n",
    "# Model selection\n",
    "from sklearn.model_selection import KFold, StratifiedKFold\n",
    "\n",
    "# Metrics\n",
    "from sklearn.metrics import mean_squared_error\n",
    "from sklearn.metrics import make_scorer\n",
    "\n",
    "# Skopt functions\n",
    "from skopt import BayesSearchCV\n",
    "from skopt.callbacks import DeadlineStopper, DeltaYStopper\n",
    "from skopt.space import Real, Categorical, Integer\n",
    "\n",
    "# Data processing\n",
    "from sklearn.preprocessing import OrdinalEncoder\n",
    "from sklearn.decomposition import TruncatedSVD\n",
    "from sklearn.feature_extraction.text import TfidfVectorizer, CountVectorizer"
   ]
  },
  {
   "cell_type": "markdown",
   "id": "17f0de30",
   "metadata": {
    "papermill": {
     "duration": 0.008948,
     "end_time": "2022-07-02T21:51:26.768695",
     "exception": false,
     "start_time": "2022-07-02T21:51:26.759747",
     "status": "completed"
    },
    "tags": []
   },
   "source": [
    "Cargamos el dataset."
   ]
  },
  {
   "cell_type": "code",
   "execution_count": 4,
   "id": "cd734090",
   "metadata": {
    "execution": {
     "iopub.execute_input": "2022-07-02T21:51:26.787645Z",
     "iopub.status.busy": "2022-07-02T21:51:26.786652Z",
     "iopub.status.idle": "2022-07-02T21:51:26.829470Z",
     "shell.execute_reply": "2022-07-02T21:51:26.828454Z"
    },
    "papermill": {
     "duration": 0.053793,
     "end_time": "2022-07-02T21:51:26.829470",
     "exception": false,
     "start_time": "2022-07-02T21:51:26.775677",
     "status": "completed"
    },
    "tags": []
   },
   "outputs": [],
   "source": [
    "import pandas as pd\n",
    "import numpy as np\n",
    "from sklearn.tree import DecisionTreeClassifier # Import Decision Tree Classifier\n",
    "from sklearn.model_selection import train_test_split # Import train_test_split function\n",
    "from sklearn import metrics #Import scikit-learn metrics module for accuracy calculation\n",
    "\n",
    "df = pd.read_csv(config['data_path'], header=\"infer\", sep=\",\",error_bad_lines=False, engine ='python')"
   ]
  },
  {
   "cell_type": "code",
   "execution_count": 5,
   "id": "6993f50e",
   "metadata": {
    "execution": {
     "iopub.execute_input": "2022-07-02T21:51:26.863361Z",
     "iopub.status.busy": "2022-07-02T21:51:26.851393Z",
     "iopub.status.idle": "2022-07-02T21:51:26.891833Z",
     "shell.execute_reply": "2022-07-02T21:51:26.891833Z"
    },
    "papermill": {
     "duration": 0.054378,
     "end_time": "2022-07-02T21:51:26.891833",
     "exception": false,
     "start_time": "2022-07-02T21:51:26.837455",
     "status": "completed"
    },
    "tags": []
   },
   "outputs": [
    {
     "name": "stdout",
     "output_type": "stream",
     "text": [
      "     speed    course       lat       lon is_fishing  timediff  sun_state  \\\n",
      "0      0.5  0.577778  0.769240 -0.028008         NO     725.0          2   \n",
      "1     10.0  0.683889  0.739663  0.254722         NO     956.0          1   \n",
      "2      1.9  0.291667  0.758271 -0.044553         NO     940.0          1   \n",
      "3     12.8  0.177500  0.073466  2.792266         NO   82804.0          1   \n",
      "4     11.4  0.513611 -0.254034 -1.425803         NO    6641.0          1   \n",
      "..     ...       ...       ...       ...        ...       ...        ...   \n",
      "561    0.2  0.850000  0.757100 -0.038082         SI    1881.0          2   \n",
      "562    0.7  0.676944  0.097224 -2.630421         SI    3663.0          2   \n",
      "563    8.2  0.030278  0.755500  0.178573         SI   12046.0          1   \n",
      "564   10.2  0.542222  0.763943 -0.035204         SI    1841.0          2   \n",
      "565    8.0  0.199722  0.640366 -0.068601         SI  690397.0          1   \n",
      "\n",
      "       distance        S0            A0  ...  Delta_S_lag_5  Delta_S_lag_6  \\\n",
      "0      0.000000  0.000000  0.000000e+00  ...           3.35           5.25   \n",
      "1      6.434549  0.006731  4.807704e-06  ...           0.05           0.20   \n",
      "2      0.860469  0.000915  6.922235e-09  ...           0.05           5.15   \n",
      "3    139.815049  0.001689  5.699263e-09  ...           0.55           0.05   \n",
      "4      5.358573  0.000807  1.265478e-07  ...           0.70           0.45   \n",
      "..          ...       ...           ...  ...            ...            ...   \n",
      "561    0.338541  0.000180  1.125150e-08  ...           0.00           0.10   \n",
      "562    9.460273  0.002583  3.933990e-07  ...           0.35           0.00   \n",
      "563    1.361398  0.000113  2.075051e-09  ...           0.05           0.25   \n",
      "564   10.271105  0.005579  6.420296e-09  ...           0.00           4.75   \n",
      "565   13.929535  0.000020  2.549845e-11  ...           5.85           0.10   \n",
      "\n",
      "     Delta_S_lag_7  Vavg_lag_1  Vavg_lag_2  Vavg_lag_3  Vavg_lag_4  \\\n",
      "0             0.25        0.50        0.50        0.65        4.40   \n",
      "1             0.10        5.15        8.75        8.60       12.20   \n",
      "2             0.00        1.30        1.60        1.15        1.10   \n",
      "3             0.00        9.60       10.35        8.90        8.85   \n",
      "4             2.40        0.60        5.25       11.85        3.75   \n",
      "..             ...         ...         ...         ...         ...   \n",
      "561           0.00        0.15        0.30        3.55        0.60   \n",
      "562           0.15       12.00        6.50        7.00       13.05   \n",
      "563           0.10        0.30        5.20        1.20        0.20   \n",
      "564           0.10        1.00       10.55        9.25        0.55   \n",
      "565           0.05        2.40        0.70       13.05        0.80   \n",
      "\n",
      "     Vavg_lag_5  Vavg_lag_6  Vavg_lag_7  \n",
      "0          3.55        5.75       13.95  \n",
      "1          0.15        0.30       13.50  \n",
      "2          0.95        6.75        0.90  \n",
      "3         10.95       11.95       11.90  \n",
      "4          1.10        0.75        9.00  \n",
      "..          ...         ...         ...  \n",
      "561        0.50        0.90        4.50  \n",
      "562        0.55       12.00       12.35  \n",
      "563        0.45        0.45        0.50  \n",
      "564        0.50        5.25       10.40  \n",
      "565        7.35        0.70        4.25  \n",
      "\n",
      "[566 rows x 79 columns]\n"
     ]
    }
   ],
   "source": [
    "'''\n",
    "['mmsi', 'timestamp', 'distance_from_shore', 'distance_from_port',\n",
    "       'speed', 'course', 'lat', 'lon', 'is_fishing', 'source', 'datetime',\n",
    "       'timediff', 'sun_state', 'distance', 'S0', 'A0', 'J0', 'C0', 'Vavg',\n",
    "       'Delta_S', 'Cavg', 'Delta_C', 'speed_lag_1', 'speed_lag_2',\n",
    "       'speed_lag_3', 'speed_lag_4', 'speed_lag_5', 'speed_lag_6',\n",
    "       'speed_lag_7', 'course_lag_1', 'course_lag_2', 'course_lag_3',\n",
    "       'course_lag_4', 'course_lag_5', 'course_lag_6', 'course_lag_7',\n",
    "       'S0_lag_1', 'S0_lag_2', 'S0_lag_3', 'S0_lag_4', 'S0_lag_5', 'S0_lag_6',\n",
    "       'S0_lag_7', 'A0_lag_1', 'A0_lag_2', 'A0_lag_3', 'A0_lag_4', 'A0_lag_5',\n",
    "       'A0_lag_6', 'A0_lag_7', 'J0_lag_1', 'J0_lag_2', 'J0_lag_3', 'J0_lag_4',\n",
    "       'J0_lag_5', 'J0_lag_6', 'J0_lag_7', 'C0_lag_1', 'C0_lag_2', 'C0_lag_3',\n",
    "       'C0_lag_4', 'C0_lag_5', 'C0_lag_6', 'C0_lag_7', 'Delta_C_lag_1',\n",
    "       'Delta_C_lag_2', 'Delta_C_lag_3', 'Delta_C_lag_4', 'Delta_C_lag_5',\n",
    "       'Delta_C_lag_6', 'Delta_C_lag_7', 'Delta_S_lag_1', 'Delta_S_lag_2',\n",
    "       'Delta_S_lag_3', 'Delta_S_lag_4', 'Delta_S_lag_5', 'Delta_S_lag_6',\n",
    "       'Delta_S_lag_7', 'Vavg_lag_1', 'Vavg_lag_2', 'Vavg_lag_3', 'Vavg_lag_4',\n",
    "       'Vavg_lag_5', 'Vavg_lag_6', 'Vavg_lag_7']\n",
    "'''\n",
    "df = df.drop(['mmsi', 'source','timestamp','source','datetime','distance_from_shore','distance_from_port'], axis = 1)\n",
    "lagged_columns =['distance', 'S0', 'A0', 'J0', 'C0', 'Vavg',\n",
    "       'Delta_S', 'Cavg', 'Delta_C', 'speed_lag_1', 'speed_lag_2',\n",
    "       'speed_lag_3', 'speed_lag_4', 'speed_lag_5', 'speed_lag_6',\n",
    "       'speed_lag_7', 'course_lag_1', 'course_lag_2', 'course_lag_3',\n",
    "       'course_lag_4', 'course_lag_5', 'course_lag_6', 'course_lag_7',\n",
    "       'S0_lag_1', 'S0_lag_2', 'S0_lag_3', 'S0_lag_4', 'S0_lag_5', 'S0_lag_6',\n",
    "       'S0_lag_7', 'A0_lag_1', 'A0_lag_2', 'A0_lag_3', 'A0_lag_4', 'A0_lag_5',\n",
    "       'A0_lag_6', 'A0_lag_7', 'J0_lag_1', 'J0_lag_2', 'J0_lag_3', 'J0_lag_4',\n",
    "       'J0_lag_5', 'J0_lag_6', 'J0_lag_7', 'C0_lag_1', 'C0_lag_2', 'C0_lag_3',\n",
    "       'C0_lag_4', 'C0_lag_5', 'C0_lag_6', 'C0_lag_7', 'Delta_C_lag_1',\n",
    "       'Delta_C_lag_2', 'Delta_C_lag_3', 'Delta_C_lag_4', 'Delta_C_lag_5',\n",
    "       'Delta_C_lag_6', 'Delta_C_lag_7', 'Delta_S_lag_1', 'Delta_S_lag_2',\n",
    "       'Delta_S_lag_3', 'Delta_S_lag_4', 'Delta_S_lag_5', 'Delta_S_lag_6',\n",
    "       'Delta_S_lag_7', 'Vavg_lag_1', 'Vavg_lag_2', 'Vavg_lag_3', 'Vavg_lag_4',\n",
    "       'Vavg_lag_5', 'Vavg_lag_6', 'Vavg_lag_7']\n",
    "for column in lagged_columns:\n",
    "    df[column]=df[column].abs()\n",
    "\n",
    "print(df)\n"
   ]
  },
  {
   "cell_type": "markdown",
   "id": "0c3c0430",
   "metadata": {
    "papermill": {
     "duration": 0.008976,
     "end_time": "2022-07-02T21:51:26.909786",
     "exception": false,
     "start_time": "2022-07-02T21:51:26.900810",
     "status": "completed"
    },
    "tags": []
   },
   "source": [
    "Generamos los vectores de train y test."
   ]
  },
  {
   "cell_type": "code",
   "execution_count": 6,
   "id": "47bbd2d2",
   "metadata": {
    "execution": {
     "iopub.execute_input": "2022-07-02T21:51:26.935716Z",
     "iopub.status.busy": "2022-07-02T21:51:26.934733Z",
     "iopub.status.idle": "2022-07-02T21:51:26.939857Z",
     "shell.execute_reply": "2022-07-02T21:51:26.939857Z"
    },
    "papermill": {
     "duration": 0.020098,
     "end_time": "2022-07-02T21:51:26.939857",
     "exception": false,
     "start_time": "2022-07-02T21:51:26.919759",
     "status": "completed"
    },
    "tags": []
   },
   "outputs": [
    {
     "name": "stdout",
     "output_type": "stream",
     "text": [
      "283\n",
      "283\n"
     ]
    }
   ],
   "source": [
    "X = df.drop('is_fishing',axis=1)\n",
    "y = df['is_fishing']\n",
    "X_train, X_test, y_train, y_test = train_test_split(X, y, train_size=0.8, random_state=50)\n",
    "print(len(df[df['is_fishing']=='SI']))\n",
    "print(len(df[df['is_fishing']=='NO']))"
   ]
  },
  {
   "cell_type": "markdown",
   "id": "dbd30a13",
   "metadata": {
    "papermill": {
     "duration": 0.007979,
     "end_time": "2022-07-02T21:51:26.956839",
     "exception": false,
     "start_time": "2022-07-02T21:51:26.948860",
     "status": "completed"
    },
    "tags": []
   },
   "source": [
    "Funcion para evaluar los modelos."
   ]
  },
  {
   "cell_type": "code",
   "execution_count": 7,
   "id": "33281065",
   "metadata": {
    "execution": {
     "iopub.execute_input": "2022-07-02T21:51:26.978776Z",
     "iopub.status.busy": "2022-07-02T21:51:26.977783Z",
     "iopub.status.idle": "2022-07-02T21:51:27.870551Z",
     "shell.execute_reply": "2022-07-02T21:51:27.870551Z"
    },
    "papermill": {
     "duration": 0.906749,
     "end_time": "2022-07-02T21:51:27.871568",
     "exception": false,
     "start_time": "2022-07-02T21:51:26.964819",
     "status": "completed"
    },
    "tags": []
   },
   "outputs": [],
   "source": [
    "from sklearn.metrics import precision_score, recall_score, f1_score, accuracy_score\n",
    "from sklearn.metrics import confusion_matrix, ConfusionMatrixDisplay\n",
    "from IPython.display import display, Markdown, Latex\n",
    "import matplotlib.pyplot as plt\n",
    "import tabulate\n",
    "from sklearn.metrics import confusion_matrix, accuracy_score\n",
    "\n",
    "\n",
    "def evaluate_model(title,y_test, y_pred):\n",
    "\n",
    "    cm = confusion_matrix(y_test, y_pred)\n",
    "    display(Markdown(title))\n",
    "    cmd_obj = ConfusionMatrixDisplay(cm, display_labels=['NO', 'SI'])\n",
    "    cmd_obj.plot()\n",
    "    cmd_obj.ax_.set(\n",
    "                    title='Matriz de confusión.', \n",
    "                    xlabel='Predict Values', \n",
    "                    ylabel='Actual Values')\n",
    "    plt.show()\n",
    "    _precision_score = precision_score(y_test, y_pred,pos_label='SI')\n",
    "    _recall_score = recall_score(y_test, y_pred, pos_label='SI')\n",
    "    _accuracy_score = accuracy_score(y_test, y_pred)\n",
    "    _f1_score = f1_score(y_test, y_pred, pos_label='SI')\n",
    "\n",
    "    data = [[\"Precision\",\"Recall\",\"Accuracy\",\"F1\"],\n",
    "            [\"%.2f\" % _precision_score, \"%.2f\" % _recall_score, \"%.2f\" % _accuracy_score, \"%.2f\" % _f1_score ]]\n",
    "    table = tabulate.tabulate(data, tablefmt='html')\n",
    "    display(table)\n",
    "    return _precision_score, _recall_score, _accuracy_score, _f1_score\n"
   ]
  },
  {
   "cell_type": "code",
   "execution_count": 8,
   "id": "277b8a46",
   "metadata": {
    "execution": {
     "iopub.execute_input": "2022-07-02T21:51:27.895484Z",
     "iopub.status.busy": "2022-07-02T21:51:27.894487Z",
     "iopub.status.idle": "2022-07-02T22:23:19.309993Z",
     "shell.execute_reply": "2022-07-02T22:23:19.309993Z"
    },
    "papermill": {
     "duration": 1911.430467,
     "end_time": "2022-07-02T22:23:19.310991",
     "exception": false,
     "start_time": "2022-07-02T21:51:27.880524",
     "status": "completed"
    },
    "tags": []
   },
   "outputs": [
    {
     "name": "stdout",
     "output_type": "stream",
     "text": [
      "Fitting 3 folds for each of 16128 candidates, totalling 48384 fits\n",
      "Train Accuracy : 0.730\n",
      "Test Accuracy : 0.711\n",
      "Best Score Through Grid Search : 0.726\n",
      "Best Parameters :  {'max_depth': 11, 'max_features': None, 'max_leaf_nodes': None, 'min_samples_leaf': 1, 'min_weight_fraction_leaf': 0.2, 'splitter': 'best'}\n",
      "Best Parameters :  {'max_depth': 11, 'max_features': None, 'max_leaf_nodes': None, 'min_samples_leaf': 1, 'min_weight_fraction_leaf': 0.2, 'splitter': 'best'}\n"
     ]
    },
    {
     "data": {
      "text/markdown": [
       "Arboles de decision optimizado"
      ],
      "text/plain": [
       "<IPython.core.display.Markdown object>"
      ]
     },
     "metadata": {},
     "output_type": "display_data"
    },
    {
     "data": {
      "image/png": "[encoded data removed]",
      "text/plain": [
       "<Figure size 432x288 with 2 Axes>"
      ]
     },
     "metadata": {
      "needs_background": "light"
     },
     "output_type": "display_data"
    },
    {
     "data": {
      "text/html": [
       "<table>\n",
       "<tbody>\n",
       "<tr><td>Precision</td><td>Recall</td><td>Accuracy</td><td>F1  </td></tr>\n",
       "<tr><td>0.74     </td><td>0.62  </td><td>0.71    </td><td>0.67</td></tr>\n",
       "</tbody>\n",
       "</table>"
      ],
      "text/plain": [
       "'<table>\\n<tbody>\\n<tr><td>Precision</td><td>Recall</td><td>Accuracy</td><td>F1  </td></tr>\\n<tr><td>0.74     </td><td>0.62  </td><td>0.71    </td><td>0.67</td></tr>\\n</tbody>\\n</table>'"
      ]
     },
     "metadata": {},
     "output_type": "display_data"
    }
   ],
   "source": [
    "from sklearn.tree import ExtraTreeClassifier\n",
    "from sklearn.tree import DecisionTreeRegressor\n",
    "#extra_tree_classifier = ExtraTreeClassifier(random_state=1)\n",
    "#extra_tree_classifier.fit(X_train, y_train)\n",
    "\n",
    "from sklearn.model_selection import GridSearchCV\n",
    "\n",
    "parameters={\"splitter\":[\"best\",\"random\"],\n",
    "            \"max_depth\" : [11,12,13,14,15,16,18,20],\n",
    "           \"min_samples_leaf\":[1,2,3,4,5,10],\n",
    "           \"min_weight_fraction_leaf\":[0, 0.1,0.2,0.4,0.6,0.8],\n",
    "           \"max_features\":[\"auto\",\"log2\",\"sqrt\",None],\n",
    "           \"max_leaf_nodes\":[None,10,20,40,100,200,400] }\n",
    "\n",
    "grid = GridSearchCV(DecisionTreeClassifier(random_state=1), cv=3, n_jobs=-1, verbose=3,\n",
    "                    param_grid =parameters\n",
    "                    )\n",
    "\n",
    "grid.fit(X_train, y_train)\n",
    "\n",
    "print('Train Accuracy : %.3f'%grid.best_estimator_.score(X_train, y_train))\n",
    "print('Test Accuracy : %.3f'%grid.best_estimator_.score(X_test, y_test))\n",
    "print('Best Score Through Grid Search : %.3f'%grid.best_score_)\n",
    "print('Best Parameters : ',grid.best_params_)\n",
    "\n",
    "dt = DecisionTreeClassifier(max_depth=grid.best_params_['max_depth'], \n",
    "                            max_features=grid.best_params_['max_features'],\n",
    "                            max_leaf_nodes=grid.best_params_['max_leaf_nodes'],\n",
    "                            min_samples_leaf=grid.best_params_['min_samples_leaf'],\n",
    "                            min_weight_fraction_leaf=grid.best_params_['min_weight_fraction_leaf'],\n",
    "                            splitter=grid.best_params_['splitter']\n",
    ")\n",
    "dt.fit(X_train, y_train)\n",
    "\n",
    "y_pred = dt.predict(X_test)\n",
    "print('Best Parameters : ',grid.best_params_)\n",
    "dt_precision_score, dt_recall_score, dt_accuracy_score, dt_f1_score = evaluate_model('Arboles de decision optimizado',y_test, y_pred)"
   ]
  },
  {
   "cell_type": "code",
   "execution_count": null,
   "id": "c8e52575",
   "metadata": {
    "papermill": {
     "duration": null,
     "end_time": null,
     "exception": false,
     "start_time": "2022-07-02T22:23:19.322959",
     "status": "running"
    },
    "tags": []
   },
   "outputs": [],
   "source": [
    "from sklearn.ensemble import RandomForestClassifier\n",
    "from sklearn.model_selection import GridSearchCV\n",
    "\n",
    "param_grid = {\n",
    "    'bootstrap': [True, False],\n",
    "    'max_depth': [12,13,14,15,16,17,18,20,25],\n",
    "    'max_features': [\"auto\", \"sqrt\", \"log2\"],\n",
    "    'min_samples_leaf': [1,2,3,4,5,6,7,8],\n",
    "    'min_samples_split': [2, 5 , 10,20],\n",
    "    'n_estimators': [100, 200,400,800,1000]\n",
    "}\n",
    "# Create a based model\n",
    "rf = RandomForestClassifier()\n",
    "# Instantiate the grid search model\n",
    "grid = GridSearchCV(estimator = rf, param_grid = param_grid, cv = 3, n_jobs = -1, verbose = 2)\n",
    "grid.fit(X_train, y_train)\n",
    "\n",
    "print('Train Accuracy : %.3f'%grid.best_estimator_.score(X_train, y_train))\n",
    "print('Test Accuracy : %.3f'%grid.best_estimator_.score(X_test, y_test))\n",
    "print('Best Score Through Grid Search : %.3f'%grid.best_score_)\n",
    "print('Best Parameters : ',grid.best_params_)\n",
    "\n",
    "dt = RandomForestClassifier(bootstrap=grid.best_params_['bootstrap'], \n",
    "                            max_depth=grid.best_params_['max_depth'],\n",
    "                            max_features=grid.best_params_['max_features'],\n",
    "                            min_samples_leaf=grid.best_params_['min_samples_leaf'],\n",
    "                            min_samples_split=grid.best_params_['min_samples_split'],\n",
    "                            n_estimators=grid.best_params_['n_estimators']\n",
    ")\n",
    "dt.fit(X_train, y_train)\n",
    "y_pred = dt.predict(X_test)\n",
    "rf_precision_score, rf_recall_score, rf_accuracy_score, rf_f1_score = evaluate_model('Random forest optimizado', y_test, y_pred)\n"
   ]
  },
  {
   "cell_type": "code",
   "execution_count": null,
   "id": "e76097cb",
   "metadata": {
    "papermill": {
     "duration": null,
     "end_time": null,
     "exception": null,
     "start_time": null,
     "status": "pending"
    },
    "tags": []
   },
   "outputs": [],
   "source": [
    "from sklearn.svm import SVC\n",
    "from sklearn.model_selection import GridSearchCV\n",
    "\n",
    "from sklearn import preprocessing\n",
    "\n",
    "X_train_Scaled = preprocessing.scale(X_train)\n",
    "\n",
    "X_test_Scaled = preprocessing.scale(X_test)\n",
    "\n",
    "\n",
    "#parameters = [{'kernel': ['rbf'], 'gamma': [1e-2, 1e-3, 1e-4, 1e-5],'C': [0.001, 0.10, 0.1, 10 ]},\n",
    "#              {'kernel': ['sigmoid'], 'gamma': [1e-2, 1e-3, 1e-4, 1e-5],'C': [0.001, 0.10, 0.1, 10], 'coef0 ':[0,0.1,1]},\n",
    "#              {'kernel': ['linear'], 'C': [0.001, 0.10, 0.1, 1]}     \n",
    "#]\n",
    "\n",
    "parameters = [{'kernel': ['rbf'], 'gamma': [1e-2,1e-3,1e-4,1e-5,1e-6],'C': [0.001,0.01,0.1,1,10,100]},\n",
    "              {'kernel': ['sigmoid'], 'gamma': [1e-2,1e-3,1e-4,1e-5,1e-6],'C': [0.001,0.01,0.1,1,10,100],'coef0' : [0.01,0.1,1,10]},\n",
    "              {'kernel': ['linear'], 'C': [0.0001,0.001,0.01,0.1,1,10,100,1000]}\n",
    "              ]\n",
    "\n",
    "svm_precision_score_rbf=svm_recall_score_rbf=svm_accuracy_score_rbf=svm_f1_score_rbf=0\n",
    "svm_precision_score_sigmoid=svm_recall_score_sigmoid=svm_accuracy_score_sigmoid=svm_f1_score_sigmoid=0\n",
    "svm_precision_score_linear=svm_recall_score_linear=svm_accuracy_score_linear=svm_f1_score_linear=0\n",
    "\n",
    "\n",
    "for parameter in parameters:\n",
    "    \n",
    "    param_grid = parameter\n",
    "    grid = GridSearchCV(SVC(), param_grid, n_jobs = -1, verbose = 3)\n",
    "    grid.fit(X_train_Scaled, y_train)\n",
    "    kernel_str = parameter['kernel'][0]\n",
    "    y_pred = grid.predict(X_test_Scaled)\n",
    "    dt = grid\n",
    "\n",
    "    \n",
    "    print('Train Accuracy : %.3f'%grid.best_estimator_.score(X_train, y_train))\n",
    "    print('Test Accuracy : %.3f'%grid.best_estimator_.score(X_test, y_test))\n",
    "    print('Best Score Through Grid Search : %.3f'%grid.best_score_)\n",
    "    print('Best Parameters : ',grid.best_params_)\n",
    "\n",
    "    if parameter['kernel'][0] == 'rbf':\n",
    "        svm_precision_score_rbf, svm_recall_score_rbf, svm_accuracy_score_rbf, svm_f1_score_rbf = evaluate_model(kernel_str, y_test, y_pred)\n",
    "    if parameter['kernel'][0] == 'sigmoid':\n",
    "        svm_precision_score_sigmoid, svm_recall_score_sigmoid, svm_accuracy_score_sigmoid, svm_f1_score_sigmoid = evaluate_model(kernel_str, y_test, y_pred)\n",
    "    if parameter['kernel'][0] == 'linear':\n",
    "        svm_precision_score_linear, svm_recall_score_linear, svm_accuracy_score_linear, svm_f1_score_linear = evaluate_model(kernel_str, y_test, y_pred)"
   ]
  },
  {
   "cell_type": "code",
   "execution_count": null,
   "id": "cbfb37fd",
   "metadata": {
    "papermill": {
     "duration": null,
     "end_time": null,
     "exception": null,
     "start_time": null,
     "status": "pending"
    },
    "tags": []
   },
   "outputs": [],
   "source": [
    "import optuna  # pip install optuna\n",
    "from sklearn.metrics import log_loss\n",
    "from sklearn.model_selection import StratifiedKFold\n",
    "\n",
    "from optuna.integration import LightGBMPruningCallback\n",
    "\n",
    "\n",
    "def objective(trial, X, y):\n",
    "    param_grid = {\n",
    "        # \"device_type\": trial.suggest_categorical(\"device_type\", ['gpu']),\n",
    "        \"n_estimators\": trial.suggest_categorical(\"n_estimators\", [10000]),\n",
    "        \"learning_rate\": trial.suggest_float(\"learning_rate\", 0.01, 0.3),\n",
    "        \"num_leaves\": trial.suggest_int(\"num_leaves\", 8, 1023, step=10),\n",
    "        \"max_depth\": trial.suggest_int(\"max_depth\", 3, 12),\n",
    "        \"min_data_in_leaf\": trial.suggest_int(\"min_data_in_leaf\", 200, 10000, step=100),\n",
    "        \"lambda_l1\": trial.suggest_float(\"lambda_l1\", 0.0, 10),\n",
    "        \"lambda_l2\": trial.suggest_float(\"lambda_l2\", 0.0, 100),\n",
    "        \"min_gain_to_split\": trial.suggest_float(\"min_gain_to_split\", 0, 15),\n",
    "        \"bagging_fraction\": trial.suggest_float(\n",
    "            \"bagging_fraction\", 0.2, 0.95, step=0.1\n",
    "        ),\n",
    "        \"bagging_freq\": trial.suggest_categorical(\"bagging_freq\", [1]),\n",
    "        \"feature_fraction\": trial.suggest_float(\n",
    "            \"feature_fraction\", 0.2, 0.95, step=0.1\n",
    "        ),\n",
    "    }\n",
    "\n",
    "    cv = StratifiedKFold(n_splits=5, shuffle=True, random_state=1121218)\n",
    "\n",
    "    cv_scores = np.empty(5)\n",
    "    for idx, (train_idx, test_idx) in enumerate(cv.split(X, y)):\n",
    "        X_train, X_test = X.iloc[train_idx], X.iloc[test_idx]\n",
    "        y_train, y_test = y[train_idx], y[test_idx]\n",
    "\n",
    "        model = lgb.LGBMClassifier(objective=\"binary\", **param_grid)\n",
    "        model.fit(\n",
    "            X_train,\n",
    "            y_train,\n",
    "            eval_set=[(X_test, y_test)],\n",
    "            eval_metric=\"binary_logloss\",\n",
    "            #eval_metric=\"auc\",\n",
    "            early_stopping_rounds=100,\n",
    "            callbacks=[\n",
    "                #LightGBMPruningCallback(trial, \"auc\")\n",
    "                LightGBMPruningCallback(trial, \"binary_logloss\")\n",
    "            ],  # Add a pruning callback\n",
    "        )\n",
    "        preds = model.predict_proba(X_test)\n",
    "        cv_scores[idx] = log_loss(y_test, preds)\n",
    "\n",
    "    return np.mean(cv_scores)\n"
   ]
  },
  {
   "cell_type": "code",
   "execution_count": null,
   "id": "58b1456a",
   "metadata": {
    "papermill": {
     "duration": null,
     "end_time": null,
     "exception": null,
     "start_time": null,
     "status": "pending"
    },
    "tags": []
   },
   "outputs": [],
   "source": [
    "study = optuna.create_study(direction=\"minimize\", study_name=\"LGBM Classifier\")\n",
    "\n",
    "#AUC -> maximixe\n",
    "#study = optuna.create_study(direction=\"maximize\", study_name=\"LGBM Classifier\")\n",
    "func = lambda trial: objective(trial, X, y)\n",
    "study.optimize(func, n_trials=2000)\n"
   ]
  },
  {
   "cell_type": "code",
   "execution_count": null,
   "id": "0b6b566b",
   "metadata": {
    "papermill": {
     "duration": null,
     "end_time": null,
     "exception": null,
     "start_time": null,
     "status": "pending"
    },
    "tags": []
   },
   "outputs": [],
   "source": [
    "print(f\"\\tBest value (rmse): {study.best_value:.5f}\")\n",
    "print(f\"\\tBest params:\")\n",
    "\n",
    "for key, value in study.best_params.items():\n",
    "    print(f\"\\t\\t{key}: {value}\")\n"
   ]
  },
  {
   "cell_type": "code",
   "execution_count": null,
   "id": "93f84d86",
   "metadata": {
    "papermill": {
     "duration": null,
     "end_time": null,
     "exception": null,
     "start_time": null,
     "status": "pending"
    },
    "tags": []
   },
   "outputs": [],
   "source": [
    "model = lgb.LGBMClassifier(objective=\"binary\", **study.best_params)\n",
    "model = model.fit(\n",
    "            X_train,\n",
    "            y_train,\n",
    "            eval_set=[(X_test, y_test)],\n",
    "            eval_metric=\"binary_logloss\",\n",
    "            #eval_metric=\"auc\",\n",
    "            early_stopping_rounds=100,\n",
    "            verbose=0\n",
    "            \n",
    "        )\n",
    "y_pred = model.predict(X_test)\n",
    "lgbm_precision_score_auc, lgbm_recall_score_auc, lgbm_accuracy_score_auc, lgbm_f1_score_auc = evaluate_model('lgbm grid search', y_test, y_pred)\n"
   ]
  },
  {
   "cell_type": "code",
   "execution_count": null,
   "id": "2f0c8c2e",
   "metadata": {
    "papermill": {
     "duration": null,
     "end_time": null,
     "exception": null,
     "start_time": null,
     "status": "pending"
    },
    "tags": []
   },
   "outputs": [],
   "source": [
    "optuna.visualization.plot_optimization_history(study)\n"
   ]
  },
  {
   "cell_type": "code",
   "execution_count": null,
   "id": "a56f1b9a",
   "metadata": {
    "papermill": {
     "duration": null,
     "end_time": null,
     "exception": null,
     "start_time": null,
     "status": "pending"
    },
    "tags": []
   },
   "outputs": [],
   "source": [
    "optuna.visualization.plot_slice(study)\n"
   ]
  },
  {
   "cell_type": "code",
   "execution_count": null,
   "id": "63737ad8",
   "metadata": {
    "papermill": {
     "duration": null,
     "end_time": null,
     "exception": null,
     "start_time": null,
     "status": "pending"
    },
    "tags": []
   },
   "outputs": [],
   "source": [
    "from IPython.display import Markdown as md\n",
    "md(f'''| Algorithm     | Precision     | Recall        | Accuracy      | F1            |\n",
    "| ------------- | ------------- | ------------- | ------------- | ------------- |\n",
    "| Arboles de decision  |{dt_precision_score:.3f}|\t{dt_recall_score:.3f}|\t{dt_accuracy_score:.3f}|\t{dt_f1_score:.3f}|\n",
    "|Random Forest       |{rf_precision_score:.3f} |\t{rf_recall_score:.3f}|\t{rf_accuracy_score:.3f}|\t{rf_f1_score:.3f}|\n",
    "|    SVM_sigmoid        | {svm_precision_score_sigmoid:.3f} |\t{svm_recall_score_sigmoid:.3f}|\t{svm_accuracy_score_sigmoid:.3f}|\t{svm_f1_score_sigmoid:.3f}|\n",
    "|    SVM_rbf        | {svm_precision_score_rbf:.3f} |\t{svm_recall_score_rbf:.3f}|\t{svm_accuracy_score_rbf:.3f}|\t{svm_f1_score_rbf:.3f}|\n",
    "|    SVM_rbf        | {svm_precision_score_linear:.3f} |\t{svm_recall_score_linear:.3f}|\t{svm_accuracy_score_linear:.3f}|\t{svm_f1_score_linear:.3f}|\n",
    "| LightGBM_optuna      |{lgbm_precision_score_auc:.3f}|\t{lgbm_recall_score_auc:.3f}|\t{lgbm_accuracy_score_auc:.3f}|\t{lgbm_f1_score_auc:.3f}|\n",
    "'''\n",
    "       )"
   ]
  }
 ],
 "metadata": {
  "interpreter": {
   "hash": "f8a79dfa68d3b59c718a5e00f96adc917a1b17d46c628831ab97d3d56be05add"
  },
  "kernelspec": {
   "display_name": "Python 3",
   "language": "python",
   "name": "python3"
  },
  "language_info": {
   "codemirror_mode": {
    "name": "ipython",
    "version": 3
   },
   "file_extension": ".py",
   "mimetype": "text/x-python",
   "name": "python",
   "nbconvert_exporter": "python",
   "pygments_lexer": "ipython3",
   "version": "3.8.8"
  },
  "papermill": {
   "default_parameters": {},
   "duration": null,
   "end_time": null,
   "environment_variables": {},
   "exception": null,
   "input_path": "notebooks/tfi_lgbm_optuna 15MIN_7lambda.ipynb",
   "output_path": "papermill_outputs/tfi_lgbm_optuna 15MIN_7lambda/purse_seines_optuna/tfi_lgbm_optuna 15MIN_7lambda_purse_seines_optuna.ipynb",
   "parameters": {
    "config": {
     "data_path": "C:/Users/nico_/Desktop/ITBA/TFI/github/df_procesado/purse_seines_fe_recortado_v3_15MIN_7lambda.csv",
     "notebook": "notebooks/tfi_lgbm_optuna 15MIN_7lambda.ipynb",
     "output_label": "purse_seines_optuna"
    }
   },
   "start_time": "2022-07-02T21:51:14.690926",
   "version": "2.3.4"
  }
 },
 "nbformat": 4,
 "nbformat_minor": 5
}

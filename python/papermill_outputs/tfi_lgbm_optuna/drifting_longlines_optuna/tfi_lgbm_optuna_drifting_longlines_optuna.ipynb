{
 "cells": [
  {
   "cell_type": "code",
   "execution_count": 1,
   "id": "a6c35f50",
   "metadata": {
    "execution": {
     "iopub.execute_input": "2022-06-20T21:11:21.611485Z",
     "iopub.status.busy": "2022-06-20T21:11:21.611485Z",
     "iopub.status.idle": "2022-06-20T21:11:21.615476Z",
     "shell.execute_reply": "2022-06-20T21:11:21.615476Z"
    },
    "papermill": {
     "duration": 0.016956,
     "end_time": "2022-06-20T21:11:21.615476",
     "exception": false,
     "start_time": "2022-06-20T21:11:21.598520",
     "status": "completed"
    },
    "tags": [
     "injected-parameters"
    ]
   },
   "outputs": [],
   "source": [
    "# Parameters\n",
    "config = {\n",
    "    \"notebook\": \"notebooks/tfi_lgbm_optuna.ipynb\",\n",
    "    \"data_path\": \"C:/Users/nico_/Desktop/ITBA/TFI/github/df_procesado/drifting_longlines_fe_recortado_v2.csv\",\n",
    "    \"output_label\": \"drifting_longlines_optuna\",\n",
    "}\n"
   ]
  },
  {
   "cell_type": "code",
   "execution_count": 2,
   "id": "ca484f60",
   "metadata": {
    "execution": {
     "iopub.execute_input": "2022-06-20T21:11:21.643400Z",
     "iopub.status.busy": "2022-06-20T21:11:21.642403Z",
     "iopub.status.idle": "2022-06-20T21:11:21.646392Z",
     "shell.execute_reply": "2022-06-20T21:11:21.647391Z"
    },
    "papermill": {
     "duration": 0.021944,
     "end_time": "2022-06-20T21:11:21.647391",
     "exception": false,
     "start_time": "2022-06-20T21:11:21.625447",
     "status": "completed"
    },
    "tags": []
   },
   "outputs": [
    {
     "name": "stdout",
     "output_type": "stream",
     "text": [
      "{'notebook': 'notebooks/tfi_lgbm_optuna.ipynb', 'data_path': 'C:/Users/nico_/Desktop/ITBA/TFI/github/df_procesado/drifting_longlines_fe_recortado_v2.csv', 'output_label': 'drifting_longlines_optuna'}\n"
     ]
    }
   ],
   "source": [
    "# check if config exists\n",
    "try:\n",
    "    config\n",
    "except NameError:\n",
    "    config_exists = False\n",
    "else:\n",
    "    config_exists = True\n",
    "\n",
    "# make config if it does not exist already (e.g. passed in by papermill)\n",
    "if not(config_exists):\n",
    "    # set up some config for the experiment run\n",
    "    config = {\n",
    "        \"data_path\" : \"C:/Users/nico_/Desktop/ITBA/TFI/github/df_procesado/trollers_fe_recortado_v2.csv\",\n",
    "    }\n",
    "print(config)"
   ]
  },
  {
   "cell_type": "code",
   "execution_count": 3,
   "id": "f78b5cc9",
   "metadata": {
    "execution": {
     "iopub.execute_input": "2022-06-20T21:11:21.672322Z",
     "iopub.status.busy": "2022-06-20T21:11:21.671324Z",
     "iopub.status.idle": "2022-06-20T21:11:24.319241Z",
     "shell.execute_reply": "2022-06-20T21:11:24.320238Z"
    },
    "papermill": {
     "duration": 2.662875,
     "end_time": "2022-06-20T21:11:24.320238",
     "exception": false,
     "start_time": "2022-06-20T21:11:21.657363",
     "status": "completed"
    },
    "tags": []
   },
   "outputs": [],
   "source": [
    "# Importing core libraries\n",
    "#https://towardsdatascience.com/kagglers-guide-to-lightgbm-hyperparameter-tuning-with-optuna-in-2021-ed048d9838b5\n",
    "#https://www.kaggle.com/code/lucamassaron/tutorial-bayesian-optimization-with-lightgbm/notebook\n",
    "import numpy as np\n",
    "import pandas as pd\n",
    "from time import time\n",
    "import pprint\n",
    "import joblib\n",
    "from functools import partial\n",
    "\n",
    "# Suppressing warnings because of skopt verbosity\n",
    "import warnings\n",
    "warnings.filterwarnings(\"ignore\")\n",
    "\n",
    "# Classifiers\n",
    "import lightgbm as lgb\n",
    "\n",
    "# Model selection\n",
    "from sklearn.model_selection import KFold, StratifiedKFold\n",
    "\n",
    "# Metrics\n",
    "from sklearn.metrics import mean_squared_error\n",
    "from sklearn.metrics import make_scorer\n",
    "\n",
    "# Skopt functions\n",
    "from skopt import BayesSearchCV\n",
    "from skopt.callbacks import DeadlineStopper, DeltaYStopper\n",
    "from skopt.space import Real, Categorical, Integer\n",
    "\n",
    "# Data processing\n",
    "from sklearn.preprocessing import OrdinalEncoder\n",
    "from sklearn.decomposition import TruncatedSVD\n",
    "from sklearn.feature_extraction.text import TfidfVectorizer, CountVectorizer"
   ]
  },
  {
   "cell_type": "markdown",
   "id": "0ddb3336",
   "metadata": {
    "papermill": {
     "duration": 0.008976,
     "end_time": "2022-06-20T21:11:24.338191",
     "exception": false,
     "start_time": "2022-06-20T21:11:24.329215",
     "status": "completed"
    },
    "tags": []
   },
   "source": [
    "Cargamos el dataset."
   ]
  },
  {
   "cell_type": "code",
   "execution_count": 4,
   "id": "cfd60f45",
   "metadata": {
    "execution": {
     "iopub.execute_input": "2022-06-20T21:11:24.359162Z",
     "iopub.status.busy": "2022-06-20T21:11:24.358137Z",
     "iopub.status.idle": "2022-06-20T21:11:24.913785Z",
     "shell.execute_reply": "2022-06-20T21:11:24.913785Z"
    },
    "papermill": {
     "duration": 0.566619,
     "end_time": "2022-06-20T21:11:24.913785",
     "exception": false,
     "start_time": "2022-06-20T21:11:24.347166",
     "status": "completed"
    },
    "tags": []
   },
   "outputs": [],
   "source": [
    "import pandas as pd\n",
    "import numpy as np\n",
    "from sklearn.tree import DecisionTreeClassifier # Import Decision Tree Classifier\n",
    "from sklearn.model_selection import train_test_split # Import train_test_split function\n",
    "from sklearn import metrics #Import scikit-learn metrics module for accuracy calculation\n",
    "\n",
    "df = pd.read_csv(config['data_path'], header=\"infer\", sep=\",\",error_bad_lines=False, engine ='python')"
   ]
  },
  {
   "cell_type": "code",
   "execution_count": 5,
   "id": "f13a1905",
   "metadata": {
    "execution": {
     "iopub.execute_input": "2022-06-20T21:11:24.944043Z",
     "iopub.status.busy": "2022-06-20T21:11:24.944043Z",
     "iopub.status.idle": "2022-06-20T21:11:24.976957Z",
     "shell.execute_reply": "2022-06-20T21:11:24.976957Z"
    },
    "papermill": {
     "duration": 0.054856,
     "end_time": "2022-06-20T21:11:24.977954",
     "exception": false,
     "start_time": "2022-06-20T21:11:24.923098",
     "status": "completed"
    },
    "tags": []
   },
   "outputs": [
    {
     "name": "stdout",
     "output_type": "stream",
     "text": [
      "       speed    course       lat       lon is_fishing  sun_state    distance  \\\n",
      "0       12.3  0.656111  0.382924 -0.420718         NO          1  540.489972   \n",
      "1        5.6  0.792222 -0.354819  2.914702         NO          2   14.438042   \n",
      "2        9.3  0.618889 -0.078548 -0.441347         NO          2  152.649821   \n",
      "3        8.5  0.689722  0.608093 -0.683386         NO          2   16.658496   \n",
      "4        6.4  0.857778  0.440195  2.906699         NO          2   49.518224   \n",
      "...      ...       ...       ...       ...        ...        ...         ...   \n",
      "13145    0.8  0.238889 -0.015354 -2.892903         SI          2   26.464672   \n",
      "13146    1.0  0.655556  0.182265 -0.522906         SI          1   45.881379   \n",
      "13147    5.6  0.959444 -0.424944  2.877092         SI          2  297.700216   \n",
      "13148    3.0  0.203333  0.069879 -2.681744         SI          1    4.281933   \n",
      "13149    4.2  0.800556  0.104487 -0.399873         SI          2   69.061685   \n",
      "\n",
      "        timediff        S0            A0  ...      J0_lag_3      J0_lag_4  \\\n",
      "0        85480.0  0.006323  9.611217e-10  ...  5.991392e-09  2.042264e-10   \n",
      "1         4802.0  0.003007  5.230314e-07  ...  1.151327e-12  1.092099e-10   \n",
      "2        52500.0  0.002908  3.005407e-08  ...  5.732709e-11  1.684258e-12   \n",
      "3         3302.0  0.005045  9.995948e-09  ...  4.838074e-08  1.726463e-10   \n",
      "4       114953.0  0.000431  6.020587e-10  ...  3.933256e-13  1.030498e-10   \n",
      "...          ...       ...           ...  ...           ...           ...   \n",
      "13145    14664.0  0.001805  2.805794e-07  ...  1.550943e-12  4.588449e-11   \n",
      "13146   142849.0  0.000321  1.424486e-08  ...  1.498850e-07  3.908992e-14   \n",
      "13147  7119611.0  0.000042  3.811790e-10  ...  3.354585e-12  5.200158e-10   \n",
      "13148     2529.0  0.001693  3.721538e-08  ...  1.168295e-12  1.953669e-10   \n",
      "13149    97217.0  0.000710  2.337287e-09  ...  1.834229e-10  1.123194e-09   \n",
      "\n",
      "           J0_lag_5      J0_lag_6      C0_lag_1      C0_lag_2      C0_lag_3  \\\n",
      "0      1.443257e-10  9.625080e-10  1.210740e-06  3.245067e-06  4.645113e-05   \n",
      "1      7.331703e-11  7.478406e-10  7.212579e-06  3.441331e-05  9.091730e-06   \n",
      "2      1.159718e-10  1.019994e-08  3.258390e-06  1.012951e-05  0.000000e+00   \n",
      "3      3.091904e-11  4.366521e-11  1.370713e-05  8.070562e-05  1.267058e-04   \n",
      "4      4.380184e-10  2.446956e-08  4.847511e-07  5.595446e-06  4.401862e-06   \n",
      "...             ...           ...           ...           ...           ...   \n",
      "13145  5.334038e-14  1.853200e-11  5.071706e-06  2.018734e-07  7.866862e-06   \n",
      "13146  3.650996e-11  1.629465e-13  5.163807e-06  2.879948e-05  7.936387e-06   \n",
      "13147  1.837264e-08  9.421860e-11  1.664013e-05  5.262429e-05  1.964074e-05   \n",
      "13148  1.149249e-09  1.067995e-12  1.933930e-06  1.040464e-05  6.312924e-07   \n",
      "13149  1.946756e-11  1.489086e-10  2.215592e-06  9.790758e-06  4.282552e-06   \n",
      "\n",
      "           C0_lag_4      C0_lag_5      C0_lag_6  \n",
      "0      1.146310e-05  9.228498e-06  2.778812e-06  \n",
      "1      1.240868e-06  1.847741e-06  1.776312e-05  \n",
      "2      1.206955e-07  4.660701e-07  3.614220e-03  \n",
      "3      6.341765e-05  2.021877e-04  5.494856e-06  \n",
      "4      4.907558e-05  2.775948e-05  3.316611e-03  \n",
      "...             ...           ...           ...  \n",
      "13145  8.780479e-06  4.474744e-06  2.884240e-05  \n",
      "13146  1.835142e-06  3.899298e-06  1.303241e-06  \n",
      "13147  1.092498e-05  7.662835e-05  6.714869e-06  \n",
      "13148  5.424463e-06  1.044698e-04  9.299860e-07  \n",
      "13149  1.199705e-05  1.154797e-05  5.101708e-05  \n",
      "\n",
      "[13150 rows x 52 columns]\n"
     ]
    }
   ],
   "source": [
    "df = df.drop(['mmsi', 'source','timestamp','source','datetime','distance_from_shore','distance_from_port'], axis = 1)\n",
    "lagged_columns = ['A0', 'J0', 'C0','speed_lag_1', 'speed_lag_2',\n",
    "       'speed_lag_3', 'speed_lag_4', 'speed_lag_5', 'speed_lag_6',\n",
    "       'course_lag_1', 'course_lag_2', 'course_lag_3', 'course_lag_4',\n",
    "       'course_lag_5', 'course_lag_6', 'S0_lag_1', 'S0_lag_2', 'S0_lag_3',\n",
    "       'S0_lag_4', 'S0_lag_5', 'S0_lag_6', 'A0_lag_1', 'A0_lag_2', 'A0_lag_3',\n",
    "       'A0_lag_4', 'A0_lag_5', 'A0_lag_6', 'J0_lag_1', 'J0_lag_2', 'J0_lag_3',\n",
    "       'J0_lag_4', 'J0_lag_5', 'J0_lag_6', 'C0_lag_1', 'C0_lag_2', 'C0_lag_3',\n",
    "       'C0_lag_4', 'C0_lag_5', 'C0_lag_6']\n",
    "for column in lagged_columns:\n",
    "    df[column]=df[column].abs()\n",
    "\n",
    "df['S0']=df['S0'].abs()\n",
    "df['A0']=df['A0'].abs()\n",
    "df['J0']=df['J0'].abs()\n",
    "df['C0']=df['C0'].abs()\n",
    "df['Delta_S']=df['Delta_S'].abs()\n",
    "df['Delta_C']=df['Delta_C'].abs()\n",
    "\n",
    "print(df)\n"
   ]
  },
  {
   "cell_type": "markdown",
   "id": "79274229",
   "metadata": {
    "papermill": {
     "duration": 0.008979,
     "end_time": "2022-06-20T21:11:24.994935",
     "exception": false,
     "start_time": "2022-06-20T21:11:24.985956",
     "status": "completed"
    },
    "tags": []
   },
   "source": [
    "Generamos los vectores de train y test."
   ]
  },
  {
   "cell_type": "code",
   "execution_count": 6,
   "id": "83b68d78",
   "metadata": {
    "execution": {
     "iopub.execute_input": "2022-06-20T21:11:25.017846Z",
     "iopub.status.busy": "2022-06-20T21:11:25.017846Z",
     "iopub.status.idle": "2022-06-20T21:11:25.040785Z",
     "shell.execute_reply": "2022-06-20T21:11:25.041782Z"
    },
    "papermill": {
     "duration": 0.037878,
     "end_time": "2022-06-20T21:11:25.041782",
     "exception": false,
     "start_time": "2022-06-20T21:11:25.003904",
     "status": "completed"
    },
    "tags": []
   },
   "outputs": [
    {
     "name": "stdout",
     "output_type": "stream",
     "text": [
      "6575\n",
      "6575\n"
     ]
    }
   ],
   "source": [
    "#Generamos train y test.\n",
    "\n",
    "#Si la longitud del dataset es mayor a 10000, partiremos agrupado por \"is_fishing\" ya que nos puede tocar un conjunto con is_fishing='SI' vacio.\n",
    "#if len(dataset)>10000:\n",
    "    #df = df.sample(n=10000, random_state=1)\n",
    "#    df = df.groupby(\"is_fishing\").sample(n=7500, random_state=1,replace=True)\n",
    "#    df = df.drop_duplicates()\n",
    "\n",
    "X = df.drop('is_fishing',axis=1)\n",
    "y = df['is_fishing']\n",
    "X_train, X_test, y_train, y_test = train_test_split(X, y, train_size=0.8, random_state=50)\n",
    "print(len(df[df['is_fishing']=='SI']))\n",
    "print(len(df[df['is_fishing']=='NO']))\n",
    "\n"
   ]
  },
  {
   "cell_type": "markdown",
   "id": "6bd115ca",
   "metadata": {
    "papermill": {
     "duration": 0.01097,
     "end_time": "2022-06-20T21:11:25.066716",
     "exception": false,
     "start_time": "2022-06-20T21:11:25.055746",
     "status": "completed"
    },
    "tags": []
   },
   "source": [
    "Funcion para evaluar los modelos."
   ]
  },
  {
   "cell_type": "code",
   "execution_count": 7,
   "id": "aa73f89a",
   "metadata": {
    "execution": {
     "iopub.execute_input": "2022-06-20T21:11:25.098631Z",
     "iopub.status.busy": "2022-06-20T21:11:25.098631Z",
     "iopub.status.idle": "2022-06-20T21:11:25.341239Z",
     "shell.execute_reply": "2022-06-20T21:11:25.340242Z"
    },
    "papermill": {
     "duration": 0.260561,
     "end_time": "2022-06-20T21:11:25.341239",
     "exception": false,
     "start_time": "2022-06-20T21:11:25.080678",
     "status": "completed"
    },
    "tags": []
   },
   "outputs": [],
   "source": [
    "from sklearn.metrics import precision_score, recall_score, f1_score, accuracy_score\n",
    "from sklearn.metrics import confusion_matrix, ConfusionMatrixDisplay\n",
    "from IPython.display import display, Markdown, Latex\n",
    "import matplotlib.pyplot as plt\n",
    "import tabulate\n",
    "from sklearn.metrics import confusion_matrix, accuracy_score\n",
    "\n",
    "\n",
    "def evaluate_model(title,y_test, y_pred):\n",
    "\n",
    "    cm = confusion_matrix(y_test, y_pred)\n",
    "    display(Markdown(title))\n",
    "    cmd_obj = ConfusionMatrixDisplay(cm, display_labels=['NO', 'SI'])\n",
    "    cmd_obj.plot()\n",
    "    cmd_obj.ax_.set(\n",
    "                    title='Matriz de confusión.', \n",
    "                    xlabel='Predict Values', \n",
    "                    ylabel='Actual Values')\n",
    "    plt.show()\n",
    "    _precision_score = precision_score(y_test, y_pred,pos_label='SI')\n",
    "    _recall_score = recall_score(y_test, y_pred, pos_label='SI')\n",
    "    _accuracy_score = accuracy_score(y_test, y_pred)\n",
    "    _f1_score = f1_score(y_test, y_pred, pos_label='SI')\n",
    "\n",
    "    data = [[\"Precision\",\"Recall\",\"Accuracy\",\"F1\"],\n",
    "            [\"%.2f\" % _precision_score, \"%.2f\" % _recall_score, \"%.2f\" % _accuracy_score, \"%.2f\" % _f1_score ]]\n",
    "    table = tabulate.tabulate(data, tablefmt='html')\n",
    "    display(table)\n",
    "    return _precision_score, _recall_score, _accuracy_score, _f1_score\n"
   ]
  },
  {
   "cell_type": "code",
   "execution_count": null,
   "id": "150d21b0",
   "metadata": {
    "papermill": {
     "duration": null,
     "end_time": null,
     "exception": false,
     "start_time": "2022-06-20T21:11:25.353208",
     "status": "running"
    },
    "tags": []
   },
   "outputs": [],
   "source": [
    "from sklearn.tree import ExtraTreeClassifier\n",
    "from sklearn.tree import DecisionTreeRegressor\n",
    "#extra_tree_classifier = ExtraTreeClassifier(random_state=1)\n",
    "#extra_tree_classifier.fit(X_train, y_train)\n",
    "\n",
    "from sklearn.model_selection import GridSearchCV\n",
    "\n",
    "parameters={\"splitter\":[\"best\",\"random\"],\n",
    "            \"max_depth\" : [11,12,13,14,15,16],\n",
    "           \"min_samples_leaf\":[1,2,3,4,5],\n",
    "           \"min_weight_fraction_leaf\":[0, 0.1,0.2],\n",
    "           \"max_features\":[\"auto\",\"log2\",\"sqrt\",None],\n",
    "           \"max_leaf_nodes\":[None,10] }\n",
    "\n",
    "grid = GridSearchCV(DecisionTreeClassifier(random_state=1), cv=3, n_jobs=-1, verbose=3,\n",
    "                    param_grid =parameters\n",
    "                    )\n",
    "\n",
    "grid.fit(X_train, y_train)\n",
    "\n",
    "print('Train Accuracy : %.3f'%grid.best_estimator_.score(X_train, y_train))\n",
    "print('Test Accuracy : %.3f'%grid.best_estimator_.score(X_test, y_test))\n",
    "print('Best Score Through Grid Search : %.3f'%grid.best_score_)\n",
    "print('Best Parameters : ',grid.best_params_)\n",
    "\n",
    "dt = DecisionTreeClassifier(max_depth=grid.best_params_['max_depth'], \n",
    "                            max_features=grid.best_params_['max_features'],\n",
    "                            max_leaf_nodes=grid.best_params_['max_leaf_nodes'],\n",
    "                            min_samples_leaf=grid.best_params_['min_samples_leaf'],\n",
    "                            min_weight_fraction_leaf=grid.best_params_['min_weight_fraction_leaf'],\n",
    "                            splitter=grid.best_params_['splitter']\n",
    ")\n",
    "dt.fit(X_train, y_train)\n",
    "\n",
    "y_pred = dt.predict(X_test)\n",
    "print('Best Parameters : ',grid.best_params_)\n",
    "dt_precision_score, dt_recall_score, dt_accuracy_score, dt_f1_score = evaluate_model('Arboles de decision optimizado',y_test, y_pred)"
   ]
  },
  {
   "cell_type": "code",
   "execution_count": null,
   "id": "c2f7306b",
   "metadata": {
    "papermill": {
     "duration": null,
     "end_time": null,
     "exception": null,
     "start_time": null,
     "status": "pending"
    },
    "tags": []
   },
   "outputs": [],
   "source": [
    "from sklearn.ensemble import RandomForestClassifier\n",
    "from sklearn.model_selection import GridSearchCV\n",
    "\n",
    "param_grid = {\n",
    "    'bootstrap': [True, False],\n",
    "    'max_depth': [12,13,14,15],\n",
    "    'max_features': [\"auto\", \"sqrt\", \"log2\"],\n",
    "    'min_samples_leaf': [1,2,3],\n",
    "    'min_samples_split': [2, 5 , 10],\n",
    "    'n_estimators': [100, 200]\n",
    "}\n",
    "# Create a based model\n",
    "rf = RandomForestClassifier()\n",
    "# Instantiate the grid search model\n",
    "grid = GridSearchCV(estimator = rf, param_grid = param_grid, cv = 3, n_jobs = -1, verbose = 2)\n",
    "grid.fit(X_train, y_train)\n",
    "\n",
    "print('Train Accuracy : %.3f'%grid.best_estimator_.score(X_train, y_train))\n",
    "print('Test Accuracy : %.3f'%grid.best_estimator_.score(X_test, y_test))\n",
    "print('Best Score Through Grid Search : %.3f'%grid.best_score_)\n",
    "print('Best Parameters : ',grid.best_params_)\n",
    "\n",
    "dt = RandomForestClassifier(bootstrap=grid.best_params_['bootstrap'], \n",
    "                            max_depth=grid.best_params_['max_depth'],\n",
    "                            max_features=grid.best_params_['max_features'],\n",
    "                            min_samples_leaf=grid.best_params_['min_samples_leaf'],\n",
    "                            min_samples_split=grid.best_params_['min_samples_split'],\n",
    "                            n_estimators=grid.best_params_['n_estimators']\n",
    ")\n",
    "dt.fit(X_train, y_train)\n",
    "y_pred = dt.predict(X_test)\n",
    "rf_precision_score, rf_recall_score, rf_accuracy_score, rf_f1_score = evaluate_model('Random forest optimizado', y_test, y_pred)\n"
   ]
  },
  {
   "cell_type": "code",
   "execution_count": null,
   "id": "fd75c2ab",
   "metadata": {
    "papermill": {
     "duration": null,
     "end_time": null,
     "exception": null,
     "start_time": null,
     "status": "pending"
    },
    "tags": []
   },
   "outputs": [],
   "source": [
    "from sklearn.svm import SVC\n",
    "from sklearn.model_selection import GridSearchCV\n",
    "\n",
    "#parameters = [{'kernel': ['rbf'], 'gamma': [1e-2, 1e-3, 1e-4, 1e-5],'C': [0.001, 0.10, 0.1, 10 ]},\n",
    "#              {'kernel': ['sigmoid'], 'gamma': [1e-2, 1e-3, 1e-4, 1e-5],'C': [0.001, 0.10, 0.1, 10], 'coef0 ':[0,0.1,1]},\n",
    "#              {'kernel': ['linear'], 'C': [0.001, 0.10, 0.1, 1]}     \n",
    "#]\n",
    "\n",
    "parameters = [{'kernel': ['rbf'], 'gamma': [1e-2,1e-3,1e-4,1e-5,1e-6],'C': [0.001,0.01,0.1,1,10,100]},\n",
    "              {'kernel': ['sigmoid'], 'gamma': [1e-2,1e-3,1e-4,1e-5,1e-6],'C': [0.001,0.01,0.1,1,10,100],'coef0' : [0.01,0.1,1,10]},\n",
    "              #{'kernel': ['linear'], 'C': [1,10,100]}\n",
    "              ]\n",
    "\n",
    "svm_precision_score_rbf=svm_recall_score_rbf=svm_accuracy_score_rbf=svm_f1_score_rbf=0\n",
    "svm_precision_score_sigmoid=svm_recall_score_sigmoid=svm_accuracy_score_sigmoid=svm_f1_score_sigmoid=0\n",
    "svm_precision_score_linear=svm_recall_score_linear=svm_accuracy_score_linear=svm_f1_score_linear=0\n",
    "\n",
    "\n",
    "for parameter in parameters:\n",
    "    param_grid = parameter\n",
    "    grid = GridSearchCV(SVC(), param_grid, n_jobs = -1, verbose = 3)\n",
    "    grid.fit(X_train, y_train)\n",
    "    kernel_str = parameter['kernel'][0]\n",
    "    y_pred = grid.predict(X_test)\n",
    "    dt = grid\n",
    "    \n",
    "    print('Train Accuracy : %.3f'%grid.best_estimator_.score(X_train, y_train))\n",
    "    print('Test Accuracy : %.3f'%grid.best_estimator_.score(X_test, y_test))\n",
    "    print('Best Score Through Grid Search : %.3f'%grid.best_score_)\n",
    "    print('Best Parameters : ',grid.best_params_)\n",
    "\n",
    "    if parameter['kernel'][0] == 'rbf':\n",
    "        svm_precision_score_rbf, svm_recall_score_rbf, svm_accuracy_score_rbf, svm_f1_score_rbf = evaluate_model(kernel_str, y_test, y_pred)\n",
    "    if parameter['kernel'][0] == 'sigmoid':\n",
    "        svm_precision_score_sigmoid, svm_recall_score_sigmoid, svm_accuracy_score_sigmoid, svm_f1_score_sigmoid = evaluate_model(kernel_str, y_test, y_pred)\n",
    "    if parameter['kernel'][0] == 'linear':\n",
    "        svm_precision_score_linear, svm_recall_score_linear, svm_accuracy_score_linear, svm_f1_score_linear = evaluate_model(kernel_str, y_test, y_pred)"
   ]
  },
  {
   "cell_type": "code",
   "execution_count": null,
   "id": "c3da1539",
   "metadata": {
    "papermill": {
     "duration": null,
     "end_time": null,
     "exception": null,
     "start_time": null,
     "status": "pending"
    },
    "tags": []
   },
   "outputs": [],
   "source": [
    "import optuna  # pip install optuna\n",
    "from sklearn.metrics import log_loss\n",
    "from sklearn.model_selection import StratifiedKFold\n",
    "\n",
    "from optuna.integration import LightGBMPruningCallback\n",
    "\n",
    "\n",
    "def objective(trial, X, y):\n",
    "    param_grid = {\n",
    "        # \"device_type\": trial.suggest_categorical(\"device_type\", ['gpu']),\n",
    "        \"n_estimators\": trial.suggest_categorical(\"n_estimators\", [10000]),\n",
    "        \"learning_rate\": trial.suggest_float(\"learning_rate\", 0.01, 0.3),\n",
    "        \"num_leaves\": trial.suggest_int(\"num_leaves\", 8, 1023, step=10),\n",
    "        \"max_depth\": trial.suggest_int(\"max_depth\", 3, 12),\n",
    "        \"min_data_in_leaf\": trial.suggest_int(\"min_data_in_leaf\", 200, 10000, step=100),\n",
    "        \"lambda_l1\": trial.suggest_float(\"lambda_l1\", 0.0, 10),\n",
    "        \"lambda_l2\": trial.suggest_float(\"lambda_l2\", 0.0, 100),\n",
    "        \"min_gain_to_split\": trial.suggest_float(\"min_gain_to_split\", 0, 15),\n",
    "        \"bagging_fraction\": trial.suggest_float(\n",
    "            \"bagging_fraction\", 0.2, 0.95, step=0.1\n",
    "        ),\n",
    "        \"bagging_freq\": trial.suggest_categorical(\"bagging_freq\", [1]),\n",
    "        \"feature_fraction\": trial.suggest_float(\n",
    "            \"feature_fraction\", 0.2, 0.95, step=0.1\n",
    "        ),\n",
    "    }\n",
    "\n",
    "    cv = StratifiedKFold(n_splits=5, shuffle=True, random_state=1121218)\n",
    "\n",
    "    cv_scores = np.empty(5)\n",
    "    for idx, (train_idx, test_idx) in enumerate(cv.split(X, y)):\n",
    "        X_train, X_test = X.iloc[train_idx], X.iloc[test_idx]\n",
    "        y_train, y_test = y[train_idx], y[test_idx]\n",
    "\n",
    "        model = lgb.LGBMClassifier(objective=\"binary\", **param_grid)\n",
    "        model.fit(\n",
    "            X_train,\n",
    "            y_train,\n",
    "            eval_set=[(X_test, y_test)],\n",
    "            eval_metric=\"binary_logloss\",\n",
    "            #eval_metric=\"auc\",\n",
    "            early_stopping_rounds=100,\n",
    "            callbacks=[\n",
    "                #LightGBMPruningCallback(trial, \"auc\")\n",
    "                LightGBMPruningCallback(trial, \"binary_logloss\")\n",
    "            ],  # Add a pruning callback\n",
    "        )\n",
    "        preds = model.predict_proba(X_test)\n",
    "        cv_scores[idx] = log_loss(y_test, preds)\n",
    "\n",
    "    return np.mean(cv_scores)\n"
   ]
  },
  {
   "cell_type": "code",
   "execution_count": null,
   "id": "a771bd83",
   "metadata": {
    "papermill": {
     "duration": null,
     "end_time": null,
     "exception": null,
     "start_time": null,
     "status": "pending"
    },
    "tags": []
   },
   "outputs": [],
   "source": [
    "study = optuna.create_study(direction=\"minimize\", study_name=\"LGBM Classifier\")\n",
    "\n",
    "#AUC -> maximixe\n",
    "#study = optuna.create_study(direction=\"maximize\", study_name=\"LGBM Classifier\")\n",
    "func = lambda trial: objective(trial, X, y)\n",
    "study.optimize(func, n_trials=2000)\n"
   ]
  },
  {
   "cell_type": "code",
   "execution_count": null,
   "id": "edda2a76",
   "metadata": {
    "papermill": {
     "duration": null,
     "end_time": null,
     "exception": null,
     "start_time": null,
     "status": "pending"
    },
    "tags": []
   },
   "outputs": [],
   "source": [
    "print(f\"\\tBest value (rmse): {study.best_value:.5f}\")\n",
    "print(f\"\\tBest params:\")\n",
    "\n",
    "for key, value in study.best_params.items():\n",
    "    print(f\"\\t\\t{key}: {value}\")\n"
   ]
  },
  {
   "cell_type": "code",
   "execution_count": null,
   "id": "8c69b3bf",
   "metadata": {
    "papermill": {
     "duration": null,
     "end_time": null,
     "exception": null,
     "start_time": null,
     "status": "pending"
    },
    "tags": []
   },
   "outputs": [],
   "source": [
    "model = lgb.LGBMClassifier(objective=\"binary\", **study.best_params)\n",
    "model = model.fit(\n",
    "            X_train,\n",
    "            y_train,\n",
    "            eval_set=[(X_test, y_test)],\n",
    "            eval_metric=\"binary_logloss\",\n",
    "            #eval_metric=\"auc\",\n",
    "            early_stopping_rounds=100,\n",
    "            verbose=0\n",
    "            \n",
    "        )\n",
    "y_pred = model.predict(X_test)\n",
    "lgbm_precision_score_auc, lgbm_recall_score_auc, lgbm_accuracy_score_auc, lgbm_f1_score_auc = evaluate_model('lgbm grid search', y_test, y_pred)\n"
   ]
  },
  {
   "cell_type": "code",
   "execution_count": null,
   "id": "5f6b3742",
   "metadata": {
    "papermill": {
     "duration": null,
     "end_time": null,
     "exception": null,
     "start_time": null,
     "status": "pending"
    },
    "tags": []
   },
   "outputs": [],
   "source": [
    "optuna.visualization.plot_optimization_history(study)\n"
   ]
  },
  {
   "cell_type": "code",
   "execution_count": null,
   "id": "77ab641c",
   "metadata": {
    "papermill": {
     "duration": null,
     "end_time": null,
     "exception": null,
     "start_time": null,
     "status": "pending"
    },
    "tags": []
   },
   "outputs": [],
   "source": [
    "optuna.visualization.plot_slice(study)\n"
   ]
  },
  {
   "cell_type": "markdown",
   "id": "7d970008",
   "metadata": {
    "papermill": {
     "duration": null,
     "end_time": null,
     "exception": null,
     "start_time": null,
     "status": "pending"
    },
    "tags": []
   },
   "source": [
    "#binarylogloss\\\n",
    "#con 20\\\n",
    "0.90\t0.61\t0.96\t0.73\\\n",
    "#con 200\\\n",
    "0.90\t0.66\t0.96\t0.76\\\n",
    "#con 400\\\n",
    "0.92\t0.70\t0.97\t0.79\\\n",
    "#con 2000\\\n",
    "\tBest value (rmse): 0.09074\n",
    "\tBest params:\n",
    "\t\tn_estimators: 10000\n",
    "\t\tlearning_rate: 0.02301637191691366\n",
    "\t\tnum_leaves: 488\n",
    "\t\tmax_depth: 11\n",
    "\t\tmin_data_in_leaf: 200\n",
    "\t\tlambda_l1: 0.18191557593992602\n",
    "\t\tlambda_l2: 1.8611934831089167\n",
    "\t\tmin_gain_to_split: 0.24644752400202993\n",
    "\t\tbagging_fraction: 0.9\n",
    "\t\tbagging_freq: 1\n",
    "\t\tfeature_fraction: 0.6000000000000001\n",
    "\n",
    "\\\n",
    "\\\n",
    "#auc\\"
   ]
  },
  {
   "cell_type": "code",
   "execution_count": null,
   "id": "53ffb533",
   "metadata": {
    "papermill": {
     "duration": null,
     "end_time": null,
     "exception": null,
     "start_time": null,
     "status": "pending"
    },
    "tags": []
   },
   "outputs": [],
   "source": [
    "from IPython.display import Markdown as md\n",
    "md(f'''| Algorithm     | Precision     | Recall        | Accuracy      | F1            |\n",
    "| ------------- | ------------- | ------------- | ------------- | ------------- |\n",
    "| Arboles de decision  |{dt_precision_score:.3f}|\t{dt_recall_score:.3f}|\t{dt_accuracy_score:.3f}|\t{dt_f1_score:.3f}|\n",
    "|Random Forest       |{rf_precision_score:.3f} |\t{rf_recall_score:.3f}|\t{rf_accuracy_score:.3f}|\t{rf_f1_score:.3f}|\n",
    "|    SVM_sigmoid        | {svm_precision_score_sigmoid:.3f} |\t{svm_recall_score_sigmoid:.3f}|\t{svm_accuracy_score_sigmoid:.3f}|\t{svm_f1_score_sigmoid:.3f}|\n",
    "|    SVM_rbf        | {svm_precision_score_rbf:.3f} |\t{svm_recall_score_rbf:.3f}|\t{svm_accuracy_score_rbf:.3f}|\t{svm_f1_score_rbf:.3f}|\n",
    "|    SVM_rbf        | {svm_precision_score_linear:.3f} |\t{svm_recall_score_linear:.3f}|\t{svm_accuracy_score_linear:.3f}|\t{svm_f1_score_linear:.3f}|\n",
    "| LightGBM_optuna      |{lgbm_precision_score_auc:.3f}|\t{lgbm_recall_score_auc:.3f}|\t{lgbm_accuracy_score_auc:.3f}|\t{lgbm_f1_score_auc:.3f}|\n",
    "'''\n",
    "       )"
   ]
  },
  {
   "cell_type": "markdown",
   "id": "515d4433",
   "metadata": {
    "papermill": {
     "duration": null,
     "end_time": null,
     "exception": null,
     "start_time": null,
     "status": "pending"
    },
    "tags": []
   },
   "source": []
  }
 ],
 "metadata": {
  "interpreter": {
   "hash": "f8a79dfa68d3b59c718a5e00f96adc917a1b17d46c628831ab97d3d56be05add"
  },
  "kernelspec": {
   "display_name": "Python 3.8.8 ('base')",
   "language": "python",
   "name": "python3"
  },
  "language_info": {
   "codemirror_mode": {
    "name": "ipython",
    "version": 3
   },
   "file_extension": ".py",
   "mimetype": "text/x-python",
   "name": "python",
   "nbconvert_exporter": "python",
   "pygments_lexer": "ipython3",
   "version": "3.8.8"
  },
  "papermill": {
   "default_parameters": {},
   "duration": null,
   "end_time": null,
   "environment_variables": {},
   "exception": null,
   "input_path": "notebooks/tfi_lgbm_optuna.ipynb",
   "output_path": "papermill_outputs/tfi_lgbm_optuna/drifting_longlines_optuna/tfi_lgbm_optuna_drifting_longlines_optuna.ipynb",
   "parameters": {
    "config": {
     "data_path": "C:/Users/nico_/Desktop/ITBA/TFI/github/df_procesado/drifting_longlines_fe_recortado_v2.csv",
     "notebook": "notebooks/tfi_lgbm_optuna.ipynb",
     "output_label": "drifting_longlines_optuna"
    }
   },
   "start_time": "2022-06-20T21:11:20.326636",
   "version": "2.3.4"
  }
 },
 "nbformat": 4,
 "nbformat_minor": 5
}
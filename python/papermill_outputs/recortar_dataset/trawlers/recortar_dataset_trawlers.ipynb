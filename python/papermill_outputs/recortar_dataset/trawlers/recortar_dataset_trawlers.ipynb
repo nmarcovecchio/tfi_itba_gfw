{
 "cells": [
  {
   "cell_type": "code",
   "execution_count": 1,
   "id": "16b2e1af",
   "metadata": {
    "execution": {
     "iopub.execute_input": "2022-06-17T17:31:05.228042Z",
     "iopub.status.busy": "2022-06-17T17:31:05.226047Z",
     "iopub.status.idle": "2022-06-17T17:31:05.235024Z",
     "shell.execute_reply": "2022-06-17T17:31:05.236021Z"
    },
    "papermill": {
     "duration": 0.017953,
     "end_time": "2022-06-17T17:31:05.236021",
     "exception": false,
     "start_time": "2022-06-17T17:31:05.218068",
     "status": "completed"
    },
    "tags": [
     "injected-parameters"
    ]
   },
   "outputs": [],
   "source": [
    "# Parameters\n",
    "config = {\n",
    "    \"notebook\": \"notebooks/recortar_dataset.ipynb\",\n",
    "    \"data_path\": \"C:/Users/nico_/Desktop/ITBA/TFI/github/df_procesado/trawlers_fe.csv\",\n",
    "    \"output_label\": \"trawlers\",\n",
    "}\n"
   ]
  },
  {
   "cell_type": "code",
   "execution_count": 2,
   "id": "7ff4d7dd",
   "metadata": {
    "execution": {
     "iopub.execute_input": "2022-06-17T17:31:05.261952Z",
     "iopub.status.busy": "2022-06-17T17:31:05.260955Z",
     "iopub.status.idle": "2022-06-17T17:31:05.264943Z",
     "shell.execute_reply": "2022-06-17T17:31:05.265941Z"
    },
    "papermill": {
     "duration": 0.013963,
     "end_time": "2022-06-17T17:31:05.265941",
     "exception": false,
     "start_time": "2022-06-17T17:31:05.251978",
     "status": "completed"
    },
    "tags": []
   },
   "outputs": [
    {
     "name": "stdout",
     "output_type": "stream",
     "text": [
      "{'notebook': 'notebooks/recortar_dataset.ipynb', 'data_path': 'C:/Users/nico_/Desktop/ITBA/TFI/github/df_procesado/trawlers_fe.csv', 'output_label': 'trawlers'}\n"
     ]
    }
   ],
   "source": [
    "# check if config exists\n",
    "try:\n",
    "    config\n",
    "except NameError:\n",
    "    config_exists = False\n",
    "else:\n",
    "    config_exists = True\n",
    "\n",
    "# make config if it does not exist already (e.g. passed in by papermill)\n",
    "if not(config_exists):\n",
    "    # set up some config for the experiment run\n",
    "    config = {\n",
    "        \"data_path\" : \"C:/Users/nico_/Desktop/ITBA/TFI/github/df_procesado/purse_seines_fe.csv\",\n",
    "        \"output_label\": \"purse_seines\"\n",
    "    }\n",
    "print(config)\n"
   ]
  },
  {
   "cell_type": "code",
   "execution_count": 3,
   "id": "3ef9c72c",
   "metadata": {
    "execution": {
     "iopub.execute_input": "2022-06-17T17:31:05.281898Z",
     "iopub.status.busy": "2022-06-17T17:31:05.280900Z",
     "iopub.status.idle": "2022-06-17T17:31:34.872720Z",
     "shell.execute_reply": "2022-06-17T17:31:34.873717Z"
    },
    "papermill": {
     "duration": 29.602789,
     "end_time": "2022-06-17T17:31:34.873717",
     "exception": false,
     "start_time": "2022-06-17T17:31:05.270928",
     "status": "completed"
    },
    "tags": []
   },
   "outputs": [
    {
     "name": "stdout",
     "output_type": "stream",
     "text": [
      "14038\n"
     ]
    }
   ],
   "source": [
    "import pandas as pd\n",
    "\n",
    "df = pd.read_csv(config['data_path'], header=\"infer\", sep=\",\",error_bad_lines=False, engine ='python')\n",
    "print(len(df[df['is_fishing']=='SI']))\n",
    "original = df"
   ]
  },
  {
   "cell_type": "code",
   "execution_count": 4,
   "id": "53451842",
   "metadata": {
    "execution": {
     "iopub.execute_input": "2022-06-17T17:31:34.921589Z",
     "iopub.status.busy": "2022-06-17T17:31:34.920592Z",
     "iopub.status.idle": "2022-06-17T17:31:36.996038Z",
     "shell.execute_reply": "2022-06-17T17:31:36.995041Z"
    },
    "papermill": {
     "duration": 2.11534,
     "end_time": "2022-06-17T17:31:36.996038",
     "exception": false,
     "start_time": "2022-06-17T17:31:34.880698",
     "status": "completed"
    },
    "tags": []
   },
   "outputs": [
    {
     "name": "stdout",
     "output_type": "stream",
     "text": [
      "7500\n",
      "7500\n"
     ]
    }
   ],
   "source": [
    "df = original\n",
    "\n",
    "UMBRAL = 7500\n",
    "\n",
    "longitud = len(df[df['is_fishing']=='SI'])\n",
    "\n",
    "#Me quedo con 7500 SI, 7500 NO\n",
    "if longitud >= UMBRAL:\n",
    "    df = df.groupby('is_fishing', group_keys=False).apply(lambda x: x.sample(UMBRAL))\n",
    "#Me quedo con longitud SI, longitud NO \n",
    "else:\n",
    "    df = df.groupby('is_fishing', group_keys=False).apply(lambda x: x.sample(longitud))\n",
    "\n",
    "\n",
    "print(len(df[df['is_fishing']=='SI']))\n",
    "print(len(df[df['is_fishing']=='NO']))\n",
    "df.to_csv(f\"../../df_procesado/{config['output_label']}_fe_recortado_v2.csv\",sep=\",\",index=False)  \n"
   ]
  },
  {
   "cell_type": "code",
   "execution_count": 5,
   "id": "aec18a0f",
   "metadata": {
    "execution": {
     "iopub.execute_input": "2022-06-17T17:31:37.030945Z",
     "iopub.status.busy": "2022-06-17T17:31:37.030945Z",
     "iopub.status.idle": "2022-06-17T17:31:37.042913Z",
     "shell.execute_reply": "2022-06-17T17:31:37.042913Z"
    },
    "papermill": {
     "duration": 0.021942,
     "end_time": "2022-06-17T17:31:37.042913",
     "exception": false,
     "start_time": "2022-06-17T17:31:37.020971",
     "status": "completed"
    },
    "tags": []
   },
   "outputs": [],
   "source": [
    "#print(df.count())"
   ]
  }
 ],
 "metadata": {
  "interpreter": {
   "hash": "f8a79dfa68d3b59c718a5e00f96adc917a1b17d46c628831ab97d3d56be05add"
  },
  "kernelspec": {
   "display_name": "Python 3.8.8 ('base')",
   "language": "python",
   "name": "python3"
  },
  "language_info": {
   "codemirror_mode": {
    "name": "ipython",
    "version": 3
   },
   "file_extension": ".py",
   "mimetype": "text/x-python",
   "name": "python",
   "nbconvert_exporter": "python",
   "pygments_lexer": "ipython3",
   "version": "3.8.8"
  },
  "papermill": {
   "default_parameters": {},
   "duration": 39.763602,
   "end_time": "2022-06-17T17:31:37.743039",
   "environment_variables": {},
   "exception": null,
   "input_path": "notebooks/recortar_dataset.ipynb",
   "output_path": "papermill_outputs/recortar_dataset/trawlers/recortar_dataset_trawlers.ipynb",
   "parameters": {
    "config": {
     "data_path": "C:/Users/nico_/Desktop/ITBA/TFI/github/df_procesado/trawlers_fe.csv",
     "notebook": "notebooks/recortar_dataset.ipynb",
     "output_label": "trawlers"
    }
   },
   "start_time": "2022-06-17T17:30:57.979437",
   "version": "2.3.4"
  }
 },
 "nbformat": 4,
 "nbformat_minor": 5
}
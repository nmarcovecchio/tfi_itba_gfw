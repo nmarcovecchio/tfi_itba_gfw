{
 "cells": [
  {
   "cell_type": "code",
   "execution_count": 1,
   "id": "b2c3e277",
   "metadata": {
    "execution": {
     "iopub.execute_input": "2022-06-29T03:30:07.283305Z",
     "iopub.status.busy": "2022-06-29T03:30:07.282307Z",
     "iopub.status.idle": "2022-06-29T03:30:07.293278Z",
     "shell.execute_reply": "2022-06-29T03:30:07.293278Z"
    },
    "papermill": {
     "duration": 0.017953,
     "end_time": "2022-06-29T03:30:07.293278",
     "exception": false,
     "start_time": "2022-06-29T03:30:07.275325",
     "status": "completed"
    },
    "tags": [
     "injected-parameters"
    ]
   },
   "outputs": [],
   "source": [
    "# Parameters\n",
    "config = {\n",
    "    \"notebook\": \"notebooks/recortar_dataset.ipynb\",\n",
    "    \"data_path\": \"C:/Users/nico_/Desktop/ITBA/TFI/github/df_procesado/trawlers_fe_15MIN_7lambda.csv\",\n",
    "    \"output_label\": \"trawlers\",\n",
    "}\n"
   ]
  },
  {
   "cell_type": "code",
   "execution_count": 2,
   "id": "0674efcf",
   "metadata": {
    "execution": {
     "iopub.execute_input": "2022-06-29T03:30:07.308238Z",
     "iopub.status.busy": "2022-06-29T03:30:07.307240Z",
     "iopub.status.idle": "2022-06-29T03:30:07.326189Z",
     "shell.execute_reply": "2022-06-29T03:30:07.325192Z"
    },
    "papermill": {
     "duration": 0.028923,
     "end_time": "2022-06-29T03:30:07.326189",
     "exception": false,
     "start_time": "2022-06-29T03:30:07.297266",
     "status": "completed"
    },
    "tags": []
   },
   "outputs": [
    {
     "name": "stdout",
     "output_type": "stream",
     "text": [
      "{'notebook': 'notebooks/recortar_dataset.ipynb', 'data_path': 'C:/Users/nico_/Desktop/ITBA/TFI/github/df_procesado/trawlers_fe_15MIN_7lambda.csv', 'output_label': 'trawlers'}\n"
     ]
    }
   ],
   "source": [
    "# check if config exists\n",
    "try:\n",
    "    config\n",
    "except NameError:\n",
    "    config_exists = False\n",
    "else:\n",
    "    config_exists = True\n",
    "\n",
    "# make config if it does not exist already (e.g. passed in by papermill)\n",
    "if not(config_exists):\n",
    "    # set up some config for the experiment run\n",
    "    config = {\n",
    "        \"data_path\" : \"C:/Users/nico_/Desktop/ITBA/TFI/github/df_procesado/purse_seines_fe.csv\",\n",
    "        \"output_label\": \"purse_seines\"\n",
    "    }\n",
    "print(config)\n"
   ]
  },
  {
   "cell_type": "code",
   "execution_count": 3,
   "id": "fd3c43f6",
   "metadata": {
    "execution": {
     "iopub.execute_input": "2022-06-29T03:30:07.343144Z",
     "iopub.status.busy": "2022-06-29T03:30:07.342147Z",
     "iopub.status.idle": "2022-06-29T03:30:18.187811Z",
     "shell.execute_reply": "2022-06-29T03:30:18.187811Z"
    },
    "papermill": {
     "duration": 10.856634,
     "end_time": "2022-06-29T03:30:18.187811",
     "exception": false,
     "start_time": "2022-06-29T03:30:07.331177",
     "status": "completed"
    },
    "tags": []
   },
   "outputs": [
    {
     "name": "stdout",
     "output_type": "stream",
     "text": [
      "5336\n"
     ]
    }
   ],
   "source": [
    "import pandas as pd\n",
    "\n",
    "df = pd.read_csv(config['data_path'], header=\"infer\", sep=\",\",error_bad_lines=False, engine ='python')\n",
    "print(len(df[df['is_fishing']=='SI']))\n",
    "original = df"
   ]
  },
  {
   "cell_type": "code",
   "execution_count": 4,
   "id": "720e56d3",
   "metadata": {
    "execution": {
     "iopub.execute_input": "2022-06-29T03:30:18.208748Z",
     "iopub.status.busy": "2022-06-29T03:30:18.208748Z",
     "iopub.status.idle": "2022-06-29T03:30:19.233043Z",
     "shell.execute_reply": "2022-06-29T03:30:19.233043Z"
    },
    "papermill": {
     "duration": 1.042248,
     "end_time": "2022-06-29T03:30:19.234061",
     "exception": false,
     "start_time": "2022-06-29T03:30:18.191813",
     "status": "completed"
    },
    "tags": []
   },
   "outputs": [
    {
     "name": "stdout",
     "output_type": "stream",
     "text": [
      "5336\n",
      "5336\n"
     ]
    }
   ],
   "source": [
    "df = original\n",
    "\n",
    "UMBRAL = 7500\n",
    "\n",
    "longitud = len(df[df['is_fishing']=='SI'])\n",
    "\n",
    "#Me quedo con 7500 SI, 7500 NO\n",
    "if longitud >= UMBRAL:\n",
    "    df = df.groupby('is_fishing', group_keys=False).apply(lambda x: x.sample(UMBRAL))\n",
    "#Me quedo con longitud SI, longitud NO \n",
    "else:\n",
    "    df = df.groupby('is_fishing', group_keys=False).apply(lambda x: x.sample(longitud))\n",
    "\n",
    "\n",
    "print(len(df[df['is_fishing']=='SI']))\n",
    "print(len(df[df['is_fishing']=='NO']))\n",
    "df.to_csv(f\"../../df_procesado/{config['output_label']}_fe_recortado_v3_15MIN_7lambda.csv\",sep=\",\",index=False)  \n"
   ]
  },
  {
   "cell_type": "code",
   "execution_count": 5,
   "id": "291c4919",
   "metadata": {
    "execution": {
     "iopub.execute_input": "2022-06-29T03:30:19.243781Z",
     "iopub.status.busy": "2022-06-29T03:30:19.243781Z",
     "iopub.status.idle": "2022-06-29T03:30:19.248769Z",
     "shell.execute_reply": "2022-06-29T03:30:19.248769Z"
    },
    "papermill": {
     "duration": 0.011971,
     "end_time": "2022-06-29T03:30:19.249766",
     "exception": false,
     "start_time": "2022-06-29T03:30:19.237795",
     "status": "completed"
    },
    "tags": []
   },
   "outputs": [],
   "source": [
    "#print(df.count())"
   ]
  }
 ],
 "metadata": {
  "interpreter": {
   "hash": "f8a79dfa68d3b59c718a5e00f96adc917a1b17d46c628831ab97d3d56be05add"
  },
  "kernelspec": {
   "display_name": "Python 3.8.8 ('base')",
   "language": "python",
   "name": "python3"
  },
  "language_info": {
   "codemirror_mode": {
    "name": "ipython",
    "version": 3
   },
   "file_extension": ".py",
   "mimetype": "text/x-python",
   "name": "python",
   "nbconvert_exporter": "python",
   "pygments_lexer": "ipython3",
   "version": "3.8.8"
  },
  "papermill": {
   "default_parameters": {},
   "duration": 13.729349,
   "end_time": "2022-06-29T03:30:19.720900",
   "environment_variables": {},
   "exception": null,
   "input_path": "notebooks/recortar_dataset.ipynb",
   "output_path": "papermill_outputs/recortar_dataset/trawlers/recortar_dataset_trawlers.ipynb",
   "parameters": {
    "config": {
     "data_path": "C:/Users/nico_/Desktop/ITBA/TFI/github/df_procesado/trawlers_fe_15MIN_7lambda.csv",
     "notebook": "notebooks/recortar_dataset.ipynb",
     "output_label": "trawlers"
    }
   },
   "start_time": "2022-06-29T03:30:05.991551",
   "version": "2.3.4"
  }
 },
 "nbformat": 4,
 "nbformat_minor": 5
}
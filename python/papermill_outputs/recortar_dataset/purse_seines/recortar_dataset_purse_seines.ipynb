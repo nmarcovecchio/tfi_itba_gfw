{
 "cells": [
  {
   "cell_type": "code",
   "execution_count": 1,
   "id": "bc51887a",
   "metadata": {
    "execution": {
     "iopub.execute_input": "2022-06-17T17:32:25.527181Z",
     "iopub.status.busy": "2022-06-17T17:32:25.526183Z",
     "iopub.status.idle": "2022-06-17T17:32:25.535159Z",
     "shell.execute_reply": "2022-06-17T17:32:25.535159Z"
    },
    "papermill": {
     "duration": 0.017952,
     "end_time": "2022-06-17T17:32:25.535159",
     "exception": false,
     "start_time": "2022-06-17T17:32:25.517207",
     "status": "completed"
    },
    "tags": [
     "injected-parameters"
    ]
   },
   "outputs": [],
   "source": [
    "# Parameters\n",
    "config = {\n",
    "    \"notebook\": \"notebooks/recortar_dataset.ipynb\",\n",
    "    \"data_path\": \"C:/Users/nico_/Desktop/ITBA/TFI/github/df_procesado/purse_seines_fe.csv\",\n",
    "    \"output_label\": \"purse_seines\",\n",
    "}\n"
   ]
  },
  {
   "cell_type": "code",
   "execution_count": 2,
   "id": "5dd8daa6",
   "metadata": {
    "execution": {
     "iopub.execute_input": "2022-06-17T17:32:25.577047Z",
     "iopub.status.busy": "2022-06-17T17:32:25.577047Z",
     "iopub.status.idle": "2022-06-17T17:32:25.581036Z",
     "shell.execute_reply": "2022-06-17T17:32:25.582033Z"
    },
    "papermill": {
     "duration": 0.013963,
     "end_time": "2022-06-17T17:32:25.582033",
     "exception": false,
     "start_time": "2022-06-17T17:32:25.568070",
     "status": "completed"
    },
    "tags": []
   },
   "outputs": [
    {
     "name": "stdout",
     "output_type": "stream",
     "text": [
      "{'notebook': 'notebooks/recortar_dataset.ipynb', 'data_path': 'C:/Users/nico_/Desktop/ITBA/TFI/github/df_procesado/purse_seines_fe.csv', 'output_label': 'purse_seines'}\n"
     ]
    }
   ],
   "source": [
    "# check if config exists\n",
    "try:\n",
    "    config\n",
    "except NameError:\n",
    "    config_exists = False\n",
    "else:\n",
    "    config_exists = True\n",
    "\n",
    "# make config if it does not exist already (e.g. passed in by papermill)\n",
    "if not(config_exists):\n",
    "    # set up some config for the experiment run\n",
    "    config = {\n",
    "        \"data_path\" : \"C:/Users/nico_/Desktop/ITBA/TFI/github/df_procesado/purse_seines_fe.csv\",\n",
    "        \"output_label\": \"purse_seines\"\n",
    "    }\n",
    "print(config)\n"
   ]
  },
  {
   "cell_type": "code",
   "execution_count": 3,
   "id": "40b542e6",
   "metadata": {
    "execution": {
     "iopub.execute_input": "2022-06-17T17:32:25.598988Z",
     "iopub.status.busy": "2022-06-17T17:32:25.597991Z",
     "iopub.status.idle": "2022-06-17T17:32:47.386689Z",
     "shell.execute_reply": "2022-06-17T17:32:47.387686Z"
    },
    "papermill": {
     "duration": 21.799669,
     "end_time": "2022-06-17T17:32:47.387686",
     "exception": false,
     "start_time": "2022-06-17T17:32:25.588017",
     "status": "completed"
    },
    "tags": []
   },
   "outputs": [
    {
     "name": "stdout",
     "output_type": "stream",
     "text": [
      "573\n"
     ]
    }
   ],
   "source": [
    "import pandas as pd\n",
    "\n",
    "df = pd.read_csv(config['data_path'], header=\"infer\", sep=\",\",error_bad_lines=False, engine ='python')\n",
    "print(len(df[df['is_fishing']=='SI']))\n",
    "original = df"
   ]
  },
  {
   "cell_type": "code",
   "execution_count": 4,
   "id": "176361b5",
   "metadata": {
    "execution": {
     "iopub.execute_input": "2022-06-17T17:32:47.424587Z",
     "iopub.status.busy": "2022-06-17T17:32:47.423589Z",
     "iopub.status.idle": "2022-06-17T17:32:47.684890Z",
     "shell.execute_reply": "2022-06-17T17:32:47.685888Z"
    },
    "papermill": {
     "duration": 0.292218,
     "end_time": "2022-06-17T17:32:47.685888",
     "exception": false,
     "start_time": "2022-06-17T17:32:47.393670",
     "status": "completed"
    },
    "tags": []
   },
   "outputs": [
    {
     "name": "stdout",
     "output_type": "stream",
     "text": [
      "573\n",
      "573\n"
     ]
    }
   ],
   "source": [
    "df = original\n",
    "\n",
    "UMBRAL = 7500\n",
    "\n",
    "longitud = len(df[df['is_fishing']=='SI'])\n",
    "\n",
    "#Me quedo con 7500 SI, 7500 NO\n",
    "if longitud >= UMBRAL:\n",
    "    df = df.groupby('is_fishing', group_keys=False).apply(lambda x: x.sample(UMBRAL))\n",
    "#Me quedo con longitud SI, longitud NO \n",
    "else:\n",
    "    df = df.groupby('is_fishing', group_keys=False).apply(lambda x: x.sample(longitud))\n",
    "\n",
    "\n",
    "print(len(df[df['is_fishing']=='SI']))\n",
    "print(len(df[df['is_fishing']=='NO']))\n",
    "df.to_csv(f\"../../df_procesado/{config['output_label']}_fe_recortado_v2.csv\",sep=\",\",index=False)  \n"
   ]
  },
  {
   "cell_type": "code",
   "execution_count": 5,
   "id": "54c19e9e",
   "metadata": {
    "execution": {
     "iopub.execute_input": "2022-06-17T17:32:47.701845Z",
     "iopub.status.busy": "2022-06-17T17:32:47.700848Z",
     "iopub.status.idle": "2022-06-17T17:32:47.716805Z",
     "shell.execute_reply": "2022-06-17T17:32:47.715808Z"
    },
    "papermill": {
     "duration": 0.023936,
     "end_time": "2022-06-17T17:32:47.716805",
     "exception": false,
     "start_time": "2022-06-17T17:32:47.692869",
     "status": "completed"
    },
    "tags": []
   },
   "outputs": [],
   "source": [
    "#print(df.count())"
   ]
  }
 ],
 "metadata": {
  "interpreter": {
   "hash": "f8a79dfa68d3b59c718a5e00f96adc917a1b17d46c628831ab97d3d56be05add"
  },
  "kernelspec": {
   "display_name": "Python 3.8.8 ('base')",
   "language": "python",
   "name": "python3"
  },
  "language_info": {
   "codemirror_mode": {
    "name": "ipython",
    "version": 3
   },
   "file_extension": ".py",
   "mimetype": "text/x-python",
   "name": "python",
   "nbconvert_exporter": "python",
   "pygments_lexer": "ipython3",
   "version": "3.8.8"
  },
  "papermill": {
   "default_parameters": {},
   "duration": 24.813605,
   "end_time": "2022-06-17T17:32:48.163610",
   "environment_variables": {},
   "exception": null,
   "input_path": "notebooks/recortar_dataset.ipynb",
   "output_path": "papermill_outputs/recortar_dataset/purse_seines/recortar_dataset_purse_seines.ipynb",
   "parameters": {
    "config": {
     "data_path": "C:/Users/nico_/Desktop/ITBA/TFI/github/df_procesado/purse_seines_fe.csv",
     "notebook": "notebooks/recortar_dataset.ipynb",
     "output_label": "purse_seines"
    }
   },
   "start_time": "2022-06-17T17:32:23.350005",
   "version": "2.3.4"
  }
 },
 "nbformat": 4,
 "nbformat_minor": 5
}
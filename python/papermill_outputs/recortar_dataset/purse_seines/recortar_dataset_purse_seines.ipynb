{
 "cells": [
  {
   "cell_type": "code",
   "execution_count": 1,
   "id": "39c5c918",
   "metadata": {
    "execution": {
     "iopub.execute_input": "2022-06-29T03:30:34.928718Z",
     "iopub.status.busy": "2022-06-29T03:30:34.927721Z",
     "iopub.status.idle": "2022-06-29T03:30:34.936697Z",
     "shell.execute_reply": "2022-06-29T03:30:34.937694Z"
    },
    "papermill": {
     "duration": 0.018949,
     "end_time": "2022-06-29T03:30:34.937694",
     "exception": false,
     "start_time": "2022-06-29T03:30:34.918745",
     "status": "completed"
    },
    "tags": [
     "injected-parameters"
    ]
   },
   "outputs": [],
   "source": [
    "# Parameters\n",
    "config = {\n",
    "    \"notebook\": \"notebooks/recortar_dataset.ipynb\",\n",
    "    \"data_path\": \"C:/Users/nico_/Desktop/ITBA/TFI/github/df_procesado/purse_seines_fe_15MIN_7lambda.csv\",\n",
    "    \"output_label\": \"purse_seines\",\n",
    "}\n"
   ]
  },
  {
   "cell_type": "code",
   "execution_count": 2,
   "id": "5b63fc90",
   "metadata": {
    "execution": {
     "iopub.execute_input": "2022-06-29T03:30:34.955646Z",
     "iopub.status.busy": "2022-06-29T03:30:34.954648Z",
     "iopub.status.idle": "2022-06-29T03:30:34.982575Z",
     "shell.execute_reply": "2022-06-29T03:30:34.982575Z"
    },
    "papermill": {
     "duration": 0.038896,
     "end_time": "2022-06-29T03:30:34.983571",
     "exception": false,
     "start_time": "2022-06-29T03:30:34.944675",
     "status": "completed"
    },
    "tags": []
   },
   "outputs": [
    {
     "name": "stdout",
     "output_type": "stream",
     "text": [
      "{'notebook': 'notebooks/recortar_dataset.ipynb', 'data_path': 'C:/Users/nico_/Desktop/ITBA/TFI/github/df_procesado/purse_seines_fe_15MIN_7lambda.csv', 'output_label': 'purse_seines'}\n"
     ]
    }
   ],
   "source": [
    "# check if config exists\n",
    "try:\n",
    "    config\n",
    "except NameError:\n",
    "    config_exists = False\n",
    "else:\n",
    "    config_exists = True\n",
    "\n",
    "# make config if it does not exist already (e.g. passed in by papermill)\n",
    "if not(config_exists):\n",
    "    # set up some config for the experiment run\n",
    "    config = {\n",
    "        \"data_path\" : \"C:/Users/nico_/Desktop/ITBA/TFI/github/df_procesado/purse_seines_fe.csv\",\n",
    "        \"output_label\": \"purse_seines\"\n",
    "    }\n",
    "print(config)\n"
   ]
  },
  {
   "cell_type": "code",
   "execution_count": 3,
   "id": "f618bd89",
   "metadata": {
    "execution": {
     "iopub.execute_input": "2022-06-29T03:30:35.000526Z",
     "iopub.status.busy": "2022-06-29T03:30:35.000526Z",
     "iopub.status.idle": "2022-06-29T03:30:44.325597Z",
     "shell.execute_reply": "2022-06-29T03:30:44.325597Z"
    },
    "papermill": {
     "duration": 9.337062,
     "end_time": "2022-06-29T03:30:44.326617",
     "exception": false,
     "start_time": "2022-06-29T03:30:34.989555",
     "status": "completed"
    },
    "tags": []
   },
   "outputs": [
    {
     "name": "stdout",
     "output_type": "stream",
     "text": [
      "283\n"
     ]
    }
   ],
   "source": [
    "import pandas as pd\n",
    "\n",
    "df = pd.read_csv(config['data_path'], header=\"infer\", sep=\",\",error_bad_lines=False, engine ='python')\n",
    "print(len(df[df['is_fishing']=='SI']))\n",
    "original = df"
   ]
  },
  {
   "cell_type": "code",
   "execution_count": 4,
   "id": "23e9de2d",
   "metadata": {
    "execution": {
     "iopub.execute_input": "2022-06-29T03:30:44.343549Z",
     "iopub.status.busy": "2022-06-29T03:30:44.342582Z",
     "iopub.status.idle": "2022-06-29T03:30:44.470213Z",
     "shell.execute_reply": "2022-06-29T03:30:44.469213Z"
    },
    "papermill": {
     "duration": 0.140601,
     "end_time": "2022-06-29T03:30:44.470213",
     "exception": false,
     "start_time": "2022-06-29T03:30:44.329612",
     "status": "completed"
    },
    "tags": []
   },
   "outputs": [
    {
     "name": "stdout",
     "output_type": "stream",
     "text": [
      "283\n",
      "283\n"
     ]
    }
   ],
   "source": [
    "df = original\n",
    "\n",
    "UMBRAL = 7500\n",
    "\n",
    "longitud = len(df[df['is_fishing']=='SI'])\n",
    "\n",
    "#Me quedo con 7500 SI, 7500 NO\n",
    "if longitud >= UMBRAL:\n",
    "    df = df.groupby('is_fishing', group_keys=False).apply(lambda x: x.sample(UMBRAL))\n",
    "#Me quedo con longitud SI, longitud NO \n",
    "else:\n",
    "    df = df.groupby('is_fishing', group_keys=False).apply(lambda x: x.sample(longitud))\n",
    "\n",
    "\n",
    "print(len(df[df['is_fishing']=='SI']))\n",
    "print(len(df[df['is_fishing']=='NO']))\n",
    "df.to_csv(f\"../../df_procesado/{config['output_label']}_fe_recortado_v3_15MIN_7lambda.csv\",sep=\",\",index=False)  \n"
   ]
  },
  {
   "cell_type": "code",
   "execution_count": 5,
   "id": "6fe9f402",
   "metadata": {
    "execution": {
     "iopub.execute_input": "2022-06-29T03:30:44.481183Z",
     "iopub.status.busy": "2022-06-29T03:30:44.480184Z",
     "iopub.status.idle": "2022-06-29T03:30:44.485173Z",
     "shell.execute_reply": "2022-06-29T03:30:44.486169Z"
    },
    "papermill": {
     "duration": 0.011969,
     "end_time": "2022-06-29T03:30:44.486169",
     "exception": false,
     "start_time": "2022-06-29T03:30:44.474200",
     "status": "completed"
    },
    "tags": []
   },
   "outputs": [],
   "source": [
    "#print(df.count())"
   ]
  }
 ],
 "metadata": {
  "interpreter": {
   "hash": "f8a79dfa68d3b59c718a5e00f96adc917a1b17d46c628831ab97d3d56be05add"
  },
  "kernelspec": {
   "display_name": "Python 3.8.8 ('base')",
   "language": "python",
   "name": "python3"
  },
  "language_info": {
   "codemirror_mode": {
    "name": "ipython",
    "version": 3
   },
   "file_extension": ".py",
   "mimetype": "text/x-python",
   "name": "python",
   "nbconvert_exporter": "python",
   "pygments_lexer": "ipython3",
   "version": "3.8.8"
  },
  "papermill": {
   "default_parameters": {},
   "duration": 12.155207,
   "end_time": "2022-06-29T03:30:45.810331",
   "environment_variables": {},
   "exception": null,
   "input_path": "notebooks/recortar_dataset.ipynb",
   "output_path": "papermill_outputs/recortar_dataset/purse_seines/recortar_dataset_purse_seines.ipynb",
   "parameters": {
    "config": {
     "data_path": "C:/Users/nico_/Desktop/ITBA/TFI/github/df_procesado/purse_seines_fe_15MIN_7lambda.csv",
     "notebook": "notebooks/recortar_dataset.ipynb",
     "output_label": "purse_seines"
    }
   },
   "start_time": "2022-06-29T03:30:33.655124",
   "version": "2.3.4"
  }
 },
 "nbformat": 4,
 "nbformat_minor": 5
}
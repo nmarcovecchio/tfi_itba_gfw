{
 "cells": [
  {
   "cell_type": "code",
   "execution_count": 1,
   "id": "d676d518",
   "metadata": {
    "execution": {
     "iopub.execute_input": "2022-06-17T17:31:45.255936Z",
     "iopub.status.busy": "2022-06-17T17:31:45.254939Z",
     "iopub.status.idle": "2022-06-17T17:31:45.261920Z",
     "shell.execute_reply": "2022-06-17T17:31:45.261920Z"
    },
    "papermill": {
     "duration": 0.016954,
     "end_time": "2022-06-17T17:31:45.262917",
     "exception": false,
     "start_time": "2022-06-17T17:31:45.245963",
     "status": "completed"
    },
    "tags": [
     "injected-parameters"
    ]
   },
   "outputs": [],
   "source": [
    "# Parameters\n",
    "config = {\n",
    "    \"notebook\": \"notebooks/recortar_dataset.ipynb\",\n",
    "    \"data_path\": \"C:/Users/nico_/Desktop/ITBA/TFI/github/df_procesado/drifting_longlines_fe.csv\",\n",
    "    \"output_label\": \"drifting_longlines\",\n",
    "}\n"
   ]
  },
  {
   "cell_type": "code",
   "execution_count": 2,
   "id": "d15900b5",
   "metadata": {
    "execution": {
     "iopub.execute_input": "2022-06-17T17:31:45.287851Z",
     "iopub.status.busy": "2022-06-17T17:31:45.286853Z",
     "iopub.status.idle": "2022-06-17T17:31:45.294833Z",
     "shell.execute_reply": "2022-06-17T17:31:45.294833Z"
    },
    "papermill": {
     "duration": 0.015958,
     "end_time": "2022-06-17T17:31:45.294833",
     "exception": false,
     "start_time": "2022-06-17T17:31:45.278875",
     "status": "completed"
    },
    "tags": []
   },
   "outputs": [
    {
     "name": "stdout",
     "output_type": "stream",
     "text": [
      "{'notebook': 'notebooks/recortar_dataset.ipynb', 'data_path': 'C:/Users/nico_/Desktop/ITBA/TFI/github/df_procesado/drifting_longlines_fe.csv', 'output_label': 'drifting_longlines'}\n"
     ]
    }
   ],
   "source": [
    "# check if config exists\n",
    "try:\n",
    "    config\n",
    "except NameError:\n",
    "    config_exists = False\n",
    "else:\n",
    "    config_exists = True\n",
    "\n",
    "# make config if it does not exist already (e.g. passed in by papermill)\n",
    "if not(config_exists):\n",
    "    # set up some config for the experiment run\n",
    "    config = {\n",
    "        \"data_path\" : \"C:/Users/nico_/Desktop/ITBA/TFI/github/df_procesado/purse_seines_fe.csv\",\n",
    "        \"output_label\": \"purse_seines\"\n",
    "    }\n",
    "print(config)\n"
   ]
  },
  {
   "cell_type": "code",
   "execution_count": 3,
   "id": "c5a3cde0",
   "metadata": {
    "execution": {
     "iopub.execute_input": "2022-06-17T17:31:45.309793Z",
     "iopub.status.busy": "2022-06-17T17:31:45.309793Z",
     "iopub.status.idle": "2022-06-17T17:32:20.787861Z",
     "shell.execute_reply": "2022-06-17T17:32:20.787861Z"
    },
    "papermill": {
     "duration": 35.487045,
     "end_time": "2022-06-17T17:32:20.787861",
     "exception": false,
     "start_time": "2022-06-17T17:31:45.300816",
     "status": "completed"
    },
    "tags": []
   },
   "outputs": [
    {
     "name": "stdout",
     "output_type": "stream",
     "text": [
      "6575\n"
     ]
    }
   ],
   "source": [
    "import pandas as pd\n",
    "\n",
    "df = pd.read_csv(config['data_path'], header=\"infer\", sep=\",\",error_bad_lines=False, engine ='python')\n",
    "print(len(df[df['is_fishing']=='SI']))\n",
    "original = df"
   ]
  },
  {
   "cell_type": "code",
   "execution_count": 4,
   "id": "b5ec8af9",
   "metadata": {
    "execution": {
     "iopub.execute_input": "2022-06-17T17:32:20.846703Z",
     "iopub.status.busy": "2022-06-17T17:32:20.846703Z",
     "iopub.status.idle": "2022-06-17T17:32:22.695756Z",
     "shell.execute_reply": "2022-06-17T17:32:22.696753Z"
    },
    "papermill": {
     "duration": 1.89493,
     "end_time": "2022-06-17T17:32:22.696753",
     "exception": false,
     "start_time": "2022-06-17T17:32:20.801823",
     "status": "completed"
    },
    "tags": []
   },
   "outputs": [
    {
     "name": "stdout",
     "output_type": "stream",
     "text": [
      "6575\n",
      "6575\n"
     ]
    }
   ],
   "source": [
    "df = original\n",
    "\n",
    "UMBRAL = 7500\n",
    "\n",
    "longitud = len(df[df['is_fishing']=='SI'])\n",
    "\n",
    "#Me quedo con 7500 SI, 7500 NO\n",
    "if longitud >= UMBRAL:\n",
    "    df = df.groupby('is_fishing', group_keys=False).apply(lambda x: x.sample(UMBRAL))\n",
    "#Me quedo con longitud SI, longitud NO \n",
    "else:\n",
    "    df = df.groupby('is_fishing', group_keys=False).apply(lambda x: x.sample(longitud))\n",
    "\n",
    "\n",
    "print(len(df[df['is_fishing']=='SI']))\n",
    "print(len(df[df['is_fishing']=='NO']))\n",
    "df.to_csv(f\"../../df_procesado/{config['output_label']}_fe_recortado_v2.csv\",sep=\",\",index=False)  \n"
   ]
  },
  {
   "cell_type": "code",
   "execution_count": 5,
   "id": "5c18ef0f",
   "metadata": {
    "execution": {
     "iopub.execute_input": "2022-06-17T17:32:22.728668Z",
     "iopub.status.busy": "2022-06-17T17:32:22.728668Z",
     "iopub.status.idle": "2022-06-17T17:32:22.742630Z",
     "shell.execute_reply": "2022-06-17T17:32:22.743627Z"
    },
    "papermill": {
     "duration": 0.023936,
     "end_time": "2022-06-17T17:32:22.743627",
     "exception": false,
     "start_time": "2022-06-17T17:32:22.719691",
     "status": "completed"
    },
    "tags": []
   },
   "outputs": [],
   "source": [
    "#print(df.count())"
   ]
  }
 ],
 "metadata": {
  "interpreter": {
   "hash": "f8a79dfa68d3b59c718a5e00f96adc917a1b17d46c628831ab97d3d56be05add"
  },
  "kernelspec": {
   "display_name": "Python 3.8.8 ('base')",
   "language": "python",
   "name": "python3"
  },
  "language_info": {
   "codemirror_mode": {
    "name": "ipython",
    "version": 3
   },
   "file_extension": ".py",
   "mimetype": "text/x-python",
   "name": "python",
   "nbconvert_exporter": "python",
   "pygments_lexer": "ipython3",
   "version": "3.8.8"
  },
  "papermill": {
   "default_parameters": {},
   "duration": 45.563083,
   "end_time": "2022-06-17T17:32:23.328064",
   "environment_variables": {},
   "exception": null,
   "input_path": "notebooks/recortar_dataset.ipynb",
   "output_path": "papermill_outputs/recortar_dataset/drifting_longlines/recortar_dataset_drifting_longlines.ipynb",
   "parameters": {
    "config": {
     "data_path": "C:/Users/nico_/Desktop/ITBA/TFI/github/df_procesado/drifting_longlines_fe.csv",
     "notebook": "notebooks/recortar_dataset.ipynb",
     "output_label": "drifting_longlines"
    }
   },
   "start_time": "2022-06-17T17:31:37.764981",
   "version": "2.3.4"
  }
 },
 "nbformat": 4,
 "nbformat_minor": 5
}
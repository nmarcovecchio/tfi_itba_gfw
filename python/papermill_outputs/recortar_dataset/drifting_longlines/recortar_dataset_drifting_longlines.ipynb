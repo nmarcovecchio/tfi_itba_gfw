{
 "cells": [
  {
   "cell_type": "code",
   "execution_count": 1,
   "id": "b0c5fdb6",
   "metadata": {
    "execution": {
     "iopub.execute_input": "2022-06-29T03:30:21.003341Z",
     "iopub.status.busy": "2022-06-29T03:30:21.002345Z",
     "iopub.status.idle": "2022-06-29T03:30:21.011320Z",
     "shell.execute_reply": "2022-06-29T03:30:21.011320Z"
    },
    "papermill": {
     "duration": 0.017952,
     "end_time": "2022-06-29T03:30:21.011320",
     "exception": false,
     "start_time": "2022-06-29T03:30:20.993368",
     "status": "completed"
    },
    "tags": [
     "injected-parameters"
    ]
   },
   "outputs": [],
   "source": [
    "# Parameters\n",
    "config = {\n",
    "    \"notebook\": \"notebooks/recortar_dataset.ipynb\",\n",
    "    \"data_path\": \"C:/Users/nico_/Desktop/ITBA/TFI/github/df_procesado/drifting_longlines_fe_15MIN_7lambda.csv\",\n",
    "    \"output_label\": \"drifting_longlines\",\n",
    "}\n"
   ]
  },
  {
   "cell_type": "code",
   "execution_count": 2,
   "id": "af097cbe",
   "metadata": {
    "execution": {
     "iopub.execute_input": "2022-06-29T03:30:21.033261Z",
     "iopub.status.busy": "2022-06-29T03:30:21.032264Z",
     "iopub.status.idle": "2022-06-29T03:30:21.043235Z",
     "shell.execute_reply": "2022-06-29T03:30:21.043235Z"
    },
    "papermill": {
     "duration": 0.020945,
     "end_time": "2022-06-29T03:30:21.043235",
     "exception": false,
     "start_time": "2022-06-29T03:30:21.022290",
     "status": "completed"
    },
    "tags": []
   },
   "outputs": [
    {
     "name": "stdout",
     "output_type": "stream",
     "text": [
      "{'notebook': 'notebooks/recortar_dataset.ipynb', 'data_path': 'C:/Users/nico_/Desktop/ITBA/TFI/github/df_procesado/drifting_longlines_fe_15MIN_7lambda.csv', 'output_label': 'drifting_longlines'}\n"
     ]
    }
   ],
   "source": [
    "# check if config exists\n",
    "try:\n",
    "    config\n",
    "except NameError:\n",
    "    config_exists = False\n",
    "else:\n",
    "    config_exists = True\n",
    "\n",
    "# make config if it does not exist already (e.g. passed in by papermill)\n",
    "if not(config_exists):\n",
    "    # set up some config for the experiment run\n",
    "    config = {\n",
    "        \"data_path\" : \"C:/Users/nico_/Desktop/ITBA/TFI/github/df_procesado/purse_seines_fe.csv\",\n",
    "        \"output_label\": \"purse_seines\"\n",
    "    }\n",
    "print(config)\n"
   ]
  },
  {
   "cell_type": "code",
   "execution_count": 3,
   "id": "d016efff",
   "metadata": {
    "execution": {
     "iopub.execute_input": "2022-06-29T03:30:21.059191Z",
     "iopub.status.busy": "2022-06-29T03:30:21.058194Z",
     "iopub.status.idle": "2022-06-29T03:30:32.661158Z",
     "shell.execute_reply": "2022-06-29T03:30:32.661158Z"
    },
    "papermill": {
     "duration": 11.611938,
     "end_time": "2022-06-29T03:30:32.661158",
     "exception": false,
     "start_time": "2022-06-29T03:30:21.049220",
     "status": "completed"
    },
    "tags": []
   },
   "outputs": [
    {
     "name": "stdout",
     "output_type": "stream",
     "text": [
      "2313\n"
     ]
    }
   ],
   "source": [
    "import pandas as pd\n",
    "\n",
    "df = pd.read_csv(config['data_path'], header=\"infer\", sep=\",\",error_bad_lines=False, engine ='python')\n",
    "print(len(df[df['is_fishing']=='SI']))\n",
    "original = df"
   ]
  },
  {
   "cell_type": "code",
   "execution_count": 4,
   "id": "c075d708",
   "metadata": {
    "execution": {
     "iopub.execute_input": "2022-06-29T03:30:32.680086Z",
     "iopub.status.busy": "2022-06-29T03:30:32.680086Z",
     "iopub.status.idle": "2022-06-29T03:30:33.175495Z",
     "shell.execute_reply": "2022-06-29T03:30:33.176472Z"
    },
    "papermill": {
     "duration": 0.511344,
     "end_time": "2022-06-29T03:30:33.176472",
     "exception": false,
     "start_time": "2022-06-29T03:30:32.665128",
     "status": "completed"
    },
    "tags": []
   },
   "outputs": [
    {
     "name": "stdout",
     "output_type": "stream",
     "text": [
      "2313\n",
      "2313\n"
     ]
    }
   ],
   "source": [
    "df = original\n",
    "\n",
    "UMBRAL = 7500\n",
    "\n",
    "longitud = len(df[df['is_fishing']=='SI'])\n",
    "\n",
    "#Me quedo con 7500 SI, 7500 NO\n",
    "if longitud >= UMBRAL:\n",
    "    df = df.groupby('is_fishing', group_keys=False).apply(lambda x: x.sample(UMBRAL))\n",
    "#Me quedo con longitud SI, longitud NO \n",
    "else:\n",
    "    df = df.groupby('is_fishing', group_keys=False).apply(lambda x: x.sample(longitud))\n",
    "\n",
    "\n",
    "print(len(df[df['is_fishing']=='SI']))\n",
    "print(len(df[df['is_fishing']=='NO']))\n",
    "df.to_csv(f\"../../df_procesado/{config['output_label']}_fe_recortado_v3_15MIN_7lambda.csv\",sep=\",\",index=False)  \n"
   ]
  },
  {
   "cell_type": "code",
   "execution_count": 5,
   "id": "a5b1288a",
   "metadata": {
    "execution": {
     "iopub.execute_input": "2022-06-29T03:30:33.186459Z",
     "iopub.status.busy": "2022-06-29T03:30:33.186459Z",
     "iopub.status.idle": "2022-06-29T03:30:33.191445Z",
     "shell.execute_reply": "2022-06-29T03:30:33.192442Z"
    },
    "papermill": {
     "duration": 0.01197,
     "end_time": "2022-06-29T03:30:33.192442",
     "exception": false,
     "start_time": "2022-06-29T03:30:33.180472",
     "status": "completed"
    },
    "tags": []
   },
   "outputs": [],
   "source": [
    "#print(df.count())"
   ]
  }
 ],
 "metadata": {
  "interpreter": {
   "hash": "f8a79dfa68d3b59c718a5e00f96adc917a1b17d46c628831ab97d3d56be05add"
  },
  "kernelspec": {
   "display_name": "Python 3.8.8 ('base')",
   "language": "python",
   "name": "python3"
  },
  "language_info": {
   "codemirror_mode": {
    "name": "ipython",
    "version": 3
   },
   "file_extension": ".py",
   "mimetype": "text/x-python",
   "name": "python",
   "nbconvert_exporter": "python",
   "pygments_lexer": "ipython3",
   "version": "3.8.8"
  },
  "papermill": {
   "default_parameters": {},
   "duration": 13.899292,
   "end_time": "2022-06-29T03:30:33.635175",
   "environment_variables": {},
   "exception": null,
   "input_path": "notebooks/recortar_dataset.ipynb",
   "output_path": "papermill_outputs/recortar_dataset/drifting_longlines/recortar_dataset_drifting_longlines.ipynb",
   "parameters": {
    "config": {
     "data_path": "C:/Users/nico_/Desktop/ITBA/TFI/github/df_procesado/drifting_longlines_fe_15MIN_7lambda.csv",
     "notebook": "notebooks/recortar_dataset.ipynb",
     "output_label": "drifting_longlines"
    }
   },
   "start_time": "2022-06-29T03:30:19.735883",
   "version": "2.3.4"
  }
 },
 "nbformat": 4,
 "nbformat_minor": 5
}
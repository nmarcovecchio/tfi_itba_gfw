{
 "cells": [
  {
   "cell_type": "code",
   "execution_count": 1,
   "id": "5740f167",
   "metadata": {
    "execution": {
     "iopub.execute_input": "2022-06-29T03:29:55.893946Z",
     "iopub.status.busy": "2022-06-29T03:29:55.892949Z",
     "iopub.status.idle": "2022-06-29T03:29:55.901925Z",
     "shell.execute_reply": "2022-06-29T03:29:55.902923Z"
    },
    "papermill": {
     "duration": 0.016953,
     "end_time": "2022-06-29T03:29:55.902923",
     "exception": false,
     "start_time": "2022-06-29T03:29:55.885970",
     "status": "completed"
    },
    "tags": [
     "injected-parameters"
    ]
   },
   "outputs": [],
   "source": [
    "# Parameters\n",
    "config = {\n",
    "    \"notebook\": \"notebooks/recortar_dataset.ipynb\",\n",
    "    \"data_path\": \"C:/Users/nico_/Desktop/ITBA/TFI/github/df_procesado/fixed_gear_fe_15MIN_7lambda.csv\",\n",
    "    \"output_label\": \"fixed_gear\",\n",
    "}\n"
   ]
  },
  {
   "cell_type": "code",
   "execution_count": 2,
   "id": "a9da6938",
   "metadata": {
    "execution": {
     "iopub.execute_input": "2022-06-29T03:29:55.914890Z",
     "iopub.status.busy": "2022-06-29T03:29:55.913894Z",
     "iopub.status.idle": "2022-06-29T03:29:55.917884Z",
     "shell.execute_reply": "2022-06-29T03:29:55.917884Z"
    },
    "papermill": {
     "duration": 0.011969,
     "end_time": "2022-06-29T03:29:55.917884",
     "exception": false,
     "start_time": "2022-06-29T03:29:55.905915",
     "status": "completed"
    },
    "tags": []
   },
   "outputs": [
    {
     "name": "stdout",
     "output_type": "stream",
     "text": [
      "{'notebook': 'notebooks/recortar_dataset.ipynb', 'data_path': 'C:/Users/nico_/Desktop/ITBA/TFI/github/df_procesado/fixed_gear_fe_15MIN_7lambda.csv', 'output_label': 'fixed_gear'}\n"
     ]
    }
   ],
   "source": [
    "# check if config exists\n",
    "try:\n",
    "    config\n",
    "except NameError:\n",
    "    config_exists = False\n",
    "else:\n",
    "    config_exists = True\n",
    "\n",
    "# make config if it does not exist already (e.g. passed in by papermill)\n",
    "if not(config_exists):\n",
    "    # set up some config for the experiment run\n",
    "    config = {\n",
    "        \"data_path\" : \"C:/Users/nico_/Desktop/ITBA/TFI/github/df_procesado/purse_seines_fe.csv\",\n",
    "        \"output_label\": \"purse_seines\"\n",
    "    }\n",
    "print(config)\n"
   ]
  },
  {
   "cell_type": "code",
   "execution_count": 3,
   "id": "97f9eefc",
   "metadata": {
    "execution": {
     "iopub.execute_input": "2022-06-29T03:29:55.928855Z",
     "iopub.status.busy": "2022-06-29T03:29:55.928855Z",
     "iopub.status.idle": "2022-06-29T03:30:05.004783Z",
     "shell.execute_reply": "2022-06-29T03:30:05.004783Z"
    },
    "papermill": {
     "duration": 9.08291,
     "end_time": "2022-06-29T03:30:05.004783",
     "exception": false,
     "start_time": "2022-06-29T03:29:55.921873",
     "status": "completed"
    },
    "tags": []
   },
   "outputs": [
    {
     "name": "stdout",
     "output_type": "stream",
     "text": [
      "2400\n"
     ]
    }
   ],
   "source": [
    "import pandas as pd\n",
    "\n",
    "df = pd.read_csv(config['data_path'], header=\"infer\", sep=\",\",error_bad_lines=False, engine ='python')\n",
    "print(len(df[df['is_fishing']=='SI']))\n",
    "original = df"
   ]
  },
  {
   "cell_type": "code",
   "execution_count": 4,
   "id": "5aa638e0",
   "metadata": {
    "execution": {
     "iopub.execute_input": "2022-06-29T03:30:05.022805Z",
     "iopub.status.busy": "2022-06-29T03:30:05.021806Z",
     "iopub.status.idle": "2022-06-29T03:30:05.507324Z",
     "shell.execute_reply": "2022-06-29T03:30:05.508315Z"
    },
    "papermill": {
     "duration": 0.498478,
     "end_time": "2022-06-29T03:30:05.508315",
     "exception": false,
     "start_time": "2022-06-29T03:30:05.009837",
     "status": "completed"
    },
    "tags": []
   },
   "outputs": [
    {
     "name": "stdout",
     "output_type": "stream",
     "text": [
      "2400\n",
      "2400\n"
     ]
    }
   ],
   "source": [
    "df = original\n",
    "\n",
    "UMBRAL = 7500\n",
    "\n",
    "longitud = len(df[df['is_fishing']=='SI'])\n",
    "\n",
    "#Me quedo con 7500 SI, 7500 NO\n",
    "if longitud >= UMBRAL:\n",
    "    df = df.groupby('is_fishing', group_keys=False).apply(lambda x: x.sample(UMBRAL))\n",
    "#Me quedo con longitud SI, longitud NO \n",
    "else:\n",
    "    df = df.groupby('is_fishing', group_keys=False).apply(lambda x: x.sample(longitud))\n",
    "\n",
    "\n",
    "print(len(df[df['is_fishing']=='SI']))\n",
    "print(len(df[df['is_fishing']=='NO']))\n",
    "df.to_csv(f\"../../df_procesado/{config['output_label']}_fe_recortado_v3_15MIN_7lambda.csv\",sep=\",\",index=False)  \n"
   ]
  },
  {
   "cell_type": "code",
   "execution_count": 5,
   "id": "6915516d",
   "metadata": {
    "execution": {
     "iopub.execute_input": "2022-06-29T03:30:05.518268Z",
     "iopub.status.busy": "2022-06-29T03:30:05.518268Z",
     "iopub.status.idle": "2022-06-29T03:30:05.523279Z",
     "shell.execute_reply": "2022-06-29T03:30:05.522258Z"
    },
    "papermill": {
     "duration": 0.010994,
     "end_time": "2022-06-29T03:30:05.523279",
     "exception": false,
     "start_time": "2022-06-29T03:30:05.512285",
     "status": "completed"
    },
    "tags": []
   },
   "outputs": [],
   "source": [
    "#print(df.count())"
   ]
  }
 ],
 "metadata": {
  "interpreter": {
   "hash": "f8a79dfa68d3b59c718a5e00f96adc917a1b17d46c628831ab97d3d56be05add"
  },
  "kernelspec": {
   "display_name": "Python 3.8.8 ('base')",
   "language": "python",
   "name": "python3"
  },
  "language_info": {
   "codemirror_mode": {
    "name": "ipython",
    "version": 3
   },
   "file_extension": ".py",
   "mimetype": "text/x-python",
   "name": "python",
   "nbconvert_exporter": "python",
   "pygments_lexer": "ipython3",
   "version": "3.8.8"
  },
  "papermill": {
   "default_parameters": {},
   "duration": 11.360229,
   "end_time": "2022-06-29T03:30:05.975593",
   "environment_variables": {},
   "exception": null,
   "input_path": "notebooks/recortar_dataset.ipynb",
   "output_path": "papermill_outputs/recortar_dataset/fixed_gear/recortar_dataset_fixed_gear.ipynb",
   "parameters": {
    "config": {
     "data_path": "C:/Users/nico_/Desktop/ITBA/TFI/github/df_procesado/fixed_gear_fe_15MIN_7lambda.csv",
     "notebook": "notebooks/recortar_dataset.ipynb",
     "output_label": "fixed_gear"
    }
   },
   "start_time": "2022-06-29T03:29:54.615364",
   "version": "2.3.4"
  }
 },
 "nbformat": 4,
 "nbformat_minor": 5
}
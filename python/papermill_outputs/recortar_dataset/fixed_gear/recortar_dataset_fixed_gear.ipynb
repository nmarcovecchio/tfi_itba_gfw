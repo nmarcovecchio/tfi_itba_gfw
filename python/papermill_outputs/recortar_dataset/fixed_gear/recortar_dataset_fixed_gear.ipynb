{
 "cells": [
  {
   "cell_type": "code",
   "execution_count": 1,
   "id": "3262f6ea",
   "metadata": {
    "execution": {
     "iopub.execute_input": "2022-06-17T17:30:33.640055Z",
     "iopub.status.busy": "2022-06-17T17:30:33.639058Z",
     "iopub.status.idle": "2022-06-17T17:30:33.648033Z",
     "shell.execute_reply": "2022-06-17T17:30:33.649031Z"
    },
    "papermill": {
     "duration": 0.017952,
     "end_time": "2022-06-17T17:30:33.649031",
     "exception": false,
     "start_time": "2022-06-17T17:30:33.631079",
     "status": "completed"
    },
    "tags": [
     "injected-parameters"
    ]
   },
   "outputs": [],
   "source": [
    "# Parameters\n",
    "config = {\n",
    "    \"notebook\": \"notebooks/recortar_dataset.ipynb\",\n",
    "    \"data_path\": \"C:/Users/nico_/Desktop/ITBA/TFI/github/df_procesado/fixed_gear_fe.csv\",\n",
    "    \"output_label\": \"fixed_gear\",\n",
    "}\n"
   ]
  },
  {
   "cell_type": "code",
   "execution_count": 2,
   "id": "cf247ada",
   "metadata": {
    "execution": {
     "iopub.execute_input": "2022-06-17T17:30:33.662994Z",
     "iopub.status.busy": "2022-06-17T17:30:33.661997Z",
     "iopub.status.idle": "2022-06-17T17:30:33.679948Z",
     "shell.execute_reply": "2022-06-17T17:30:33.680945Z"
    },
    "papermill": {
     "duration": 0.026928,
     "end_time": "2022-06-17T17:30:33.680945",
     "exception": false,
     "start_time": "2022-06-17T17:30:33.654017",
     "status": "completed"
    },
    "tags": []
   },
   "outputs": [
    {
     "name": "stdout",
     "output_type": "stream",
     "text": [
      "{'notebook': 'notebooks/recortar_dataset.ipynb', 'data_path': 'C:/Users/nico_/Desktop/ITBA/TFI/github/df_procesado/fixed_gear_fe.csv', 'output_label': 'fixed_gear'}\n"
     ]
    }
   ],
   "source": [
    "# check if config exists\n",
    "try:\n",
    "    config\n",
    "except NameError:\n",
    "    config_exists = False\n",
    "else:\n",
    "    config_exists = True\n",
    "\n",
    "# make config if it does not exist already (e.g. passed in by papermill)\n",
    "if not(config_exists):\n",
    "    # set up some config for the experiment run\n",
    "    config = {\n",
    "        \"data_path\" : \"C:/Users/nico_/Desktop/ITBA/TFI/github/df_procesado/purse_seines_fe.csv\",\n",
    "        \"output_label\": \"purse_seines\"\n",
    "    }\n",
    "print(config)\n"
   ]
  },
  {
   "cell_type": "code",
   "execution_count": 3,
   "id": "cc546a09",
   "metadata": {
    "execution": {
     "iopub.execute_input": "2022-06-17T17:30:33.693911Z",
     "iopub.status.busy": "2022-06-17T17:30:33.692913Z",
     "iopub.status.idle": "2022-06-17T17:30:55.988764Z",
     "shell.execute_reply": "2022-06-17T17:30:55.988764Z"
    },
    "papermill": {
     "duration": 22.303829,
     "end_time": "2022-06-17T17:30:55.989761",
     "exception": false,
     "start_time": "2022-06-17T17:30:33.685932",
     "status": "completed"
    },
    "tags": []
   },
   "outputs": [
    {
     "name": "stdout",
     "output_type": "stream",
     "text": [
      "4683\n"
     ]
    }
   ],
   "source": [
    "import pandas as pd\n",
    "\n",
    "df = pd.read_csv(config['data_path'], header=\"infer\", sep=\",\",error_bad_lines=False, engine ='python')\n",
    "print(len(df[df['is_fishing']=='SI']))\n",
    "original = df"
   ]
  },
  {
   "cell_type": "code",
   "execution_count": 4,
   "id": "dbdf5df9",
   "metadata": {
    "execution": {
     "iopub.execute_input": "2022-06-17T17:30:56.027660Z",
     "iopub.status.busy": "2022-06-17T17:30:56.026662Z",
     "iopub.status.idle": "2022-06-17T17:30:57.252383Z",
     "shell.execute_reply": "2022-06-17T17:30:57.253380Z"
    },
    "papermill": {
     "duration": 1.257635,
     "end_time": "2022-06-17T17:30:57.253380",
     "exception": false,
     "start_time": "2022-06-17T17:30:55.995745",
     "status": "completed"
    },
    "tags": []
   },
   "outputs": [
    {
     "name": "stdout",
     "output_type": "stream",
     "text": [
      "4683\n",
      "4683\n"
     ]
    }
   ],
   "source": [
    "df = original\n",
    "\n",
    "UMBRAL = 7500\n",
    "\n",
    "longitud = len(df[df['is_fishing']=='SI'])\n",
    "\n",
    "#Me quedo con 7500 SI, 7500 NO\n",
    "if longitud >= UMBRAL:\n",
    "    df = df.groupby('is_fishing', group_keys=False).apply(lambda x: x.sample(UMBRAL))\n",
    "#Me quedo con longitud SI, longitud NO \n",
    "else:\n",
    "    df = df.groupby('is_fishing', group_keys=False).apply(lambda x: x.sample(longitud))\n",
    "\n",
    "\n",
    "print(len(df[df['is_fishing']=='SI']))\n",
    "print(len(df[df['is_fishing']=='NO']))\n",
    "df.to_csv(f\"../../df_procesado/{config['output_label']}_fe_recortado_v2.csv\",sep=\",\",index=False)  \n"
   ]
  },
  {
   "cell_type": "code",
   "execution_count": 5,
   "id": "2ff23424",
   "metadata": {
    "execution": {
     "iopub.execute_input": "2022-06-17T17:30:57.268340Z",
     "iopub.status.busy": "2022-06-17T17:30:57.268340Z",
     "iopub.status.idle": "2022-06-17T17:30:57.284298Z",
     "shell.execute_reply": "2022-06-17T17:30:57.285295Z"
    },
    "papermill": {
     "duration": 0.025931,
     "end_time": "2022-06-17T17:30:57.285295",
     "exception": false,
     "start_time": "2022-06-17T17:30:57.259364",
     "status": "completed"
    },
    "tags": []
   },
   "outputs": [],
   "source": [
    "#print(df.count())"
   ]
  }
 ],
 "metadata": {
  "interpreter": {
   "hash": "f8a79dfa68d3b59c718a5e00f96adc917a1b17d46c628831ab97d3d56be05add"
  },
  "kernelspec": {
   "display_name": "Python 3.8.8 ('base')",
   "language": "python",
   "name": "python3"
  },
  "language_info": {
   "codemirror_mode": {
    "name": "ipython",
    "version": 3
   },
   "file_extension": ".py",
   "mimetype": "text/x-python",
   "name": "python",
   "nbconvert_exporter": "python",
   "pygments_lexer": "ipython3",
   "version": "3.8.8"
  },
  "papermill": {
   "default_parameters": {},
   "duration": 31.113258,
   "end_time": "2022-06-17T17:30:57.957497",
   "environment_variables": {},
   "exception": null,
   "input_path": "notebooks/recortar_dataset.ipynb",
   "output_path": "papermill_outputs/recortar_dataset/fixed_gear/recortar_dataset_fixed_gear.ipynb",
   "parameters": {
    "config": {
     "data_path": "C:/Users/nico_/Desktop/ITBA/TFI/github/df_procesado/fixed_gear_fe.csv",
     "notebook": "notebooks/recortar_dataset.ipynb",
     "output_label": "fixed_gear"
    }
   },
   "start_time": "2022-06-17T17:30:26.844239",
   "version": "2.3.4"
  }
 },
 "nbformat": 4,
 "nbformat_minor": 5
}
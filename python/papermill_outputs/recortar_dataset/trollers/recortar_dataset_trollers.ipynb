{
 "cells": [
  {
   "cell_type": "code",
   "execution_count": 1,
   "id": "c1e4e6fc",
   "metadata": {
    "execution": {
     "iopub.execute_input": "2022-06-17T17:30:23.637819Z",
     "iopub.status.busy": "2022-06-17T17:30:23.637819Z",
     "iopub.status.idle": "2022-06-17T17:30:23.645797Z",
     "shell.execute_reply": "2022-06-17T17:30:23.646795Z"
    },
    "papermill": {
     "duration": 0.016955,
     "end_time": "2022-06-17T17:30:23.646795",
     "exception": false,
     "start_time": "2022-06-17T17:30:23.629840",
     "status": "completed"
    },
    "tags": [
     "injected-parameters"
    ]
   },
   "outputs": [],
   "source": [
    "# Parameters\n",
    "config = {\n",
    "    \"notebook\": \"notebooks/recortar_dataset.ipynb\",\n",
    "    \"data_path\": \"C:/Users/nico_/Desktop/ITBA/TFI/github/df_procesado/trollers_fe.csv\",\n",
    "    \"output_label\": \"trollers\",\n",
    "}\n"
   ]
  },
  {
   "cell_type": "code",
   "execution_count": 2,
   "id": "a76ca8b4",
   "metadata": {
    "execution": {
     "iopub.execute_input": "2022-06-17T17:30:23.660758Z",
     "iopub.status.busy": "2022-06-17T17:30:23.659760Z",
     "iopub.status.idle": "2022-06-17T17:30:23.677712Z",
     "shell.execute_reply": "2022-06-17T17:30:23.678709Z"
    },
    "papermill": {
     "duration": 0.026928,
     "end_time": "2022-06-17T17:30:23.678709",
     "exception": false,
     "start_time": "2022-06-17T17:30:23.651781",
     "status": "completed"
    },
    "tags": []
   },
   "outputs": [
    {
     "name": "stdout",
     "output_type": "stream",
     "text": [
      "{'notebook': 'notebooks/recortar_dataset.ipynb', 'data_path': 'C:/Users/nico_/Desktop/ITBA/TFI/github/df_procesado/trollers_fe.csv', 'output_label': 'trollers'}\n"
     ]
    }
   ],
   "source": [
    "# check if config exists\n",
    "try:\n",
    "    config\n",
    "except NameError:\n",
    "    config_exists = False\n",
    "else:\n",
    "    config_exists = True\n",
    "\n",
    "# make config if it does not exist already (e.g. passed in by papermill)\n",
    "if not(config_exists):\n",
    "    # set up some config for the experiment run\n",
    "    config = {\n",
    "        \"data_path\" : \"C:/Users/nico_/Desktop/ITBA/TFI/github/df_procesado/purse_seines_fe.csv\",\n",
    "        \"output_label\": \"purse_seines\"\n",
    "    }\n",
    "print(config)\n"
   ]
  },
  {
   "cell_type": "code",
   "execution_count": 3,
   "id": "f92c7999",
   "metadata": {
    "execution": {
     "iopub.execute_input": "2022-06-17T17:30:23.691674Z",
     "iopub.status.busy": "2022-06-17T17:30:23.691674Z",
     "iopub.status.idle": "2022-06-17T17:30:25.951627Z",
     "shell.execute_reply": "2022-06-17T17:30:25.952625Z"
    },
    "papermill": {
     "duration": 2.268929,
     "end_time": "2022-06-17T17:30:25.952625",
     "exception": false,
     "start_time": "2022-06-17T17:30:23.683696",
     "status": "completed"
    },
    "tags": []
   },
   "outputs": [
    {
     "name": "stdout",
     "output_type": "stream",
     "text": [
      "1286\n"
     ]
    }
   ],
   "source": [
    "import pandas as pd\n",
    "\n",
    "df = pd.read_csv(config['data_path'], header=\"infer\", sep=\",\",error_bad_lines=False, engine ='python')\n",
    "print(len(df[df['is_fishing']=='SI']))\n",
    "original = df"
   ]
  },
  {
   "cell_type": "code",
   "execution_count": 4,
   "id": "e38df8aa",
   "metadata": {
    "execution": {
     "iopub.execute_input": "2022-06-17T17:30:25.973569Z",
     "iopub.status.busy": "2022-06-17T17:30:25.973569Z",
     "iopub.status.idle": "2022-06-17T17:30:26.420373Z",
     "shell.execute_reply": "2022-06-17T17:30:26.420373Z"
    },
    "papermill": {
     "duration": 0.45977,
     "end_time": "2022-06-17T17:30:26.420373",
     "exception": false,
     "start_time": "2022-06-17T17:30:25.960603",
     "status": "completed"
    },
    "tags": []
   },
   "outputs": [
    {
     "name": "stdout",
     "output_type": "stream",
     "text": [
      "1286\n",
      "1286\n"
     ]
    }
   ],
   "source": [
    "df = original\n",
    "\n",
    "UMBRAL = 7500\n",
    "\n",
    "longitud = len(df[df['is_fishing']=='SI'])\n",
    "\n",
    "#Me quedo con 7500 SI, 7500 NO\n",
    "if longitud >= UMBRAL:\n",
    "    df = df.groupby('is_fishing', group_keys=False).apply(lambda x: x.sample(UMBRAL))\n",
    "#Me quedo con longitud SI, longitud NO \n",
    "else:\n",
    "    df = df.groupby('is_fishing', group_keys=False).apply(lambda x: x.sample(longitud))\n",
    "\n",
    "\n",
    "print(len(df[df['is_fishing']=='SI']))\n",
    "print(len(df[df['is_fishing']=='NO']))\n",
    "df.to_csv(f\"../../df_procesado/{config['output_label']}_fe_recortado_v2.csv\",sep=\",\",index=False)  \n"
   ]
  },
  {
   "cell_type": "code",
   "execution_count": 5,
   "id": "e717cbe0",
   "metadata": {
    "execution": {
     "iopub.execute_input": "2022-06-17T17:30:26.450294Z",
     "iopub.status.busy": "2022-06-17T17:30:26.449297Z",
     "iopub.status.idle": "2022-06-17T17:30:26.466251Z",
     "shell.execute_reply": "2022-06-17T17:30:26.467249Z"
    },
    "papermill": {
     "duration": 0.026929,
     "end_time": "2022-06-17T17:30:26.467249",
     "exception": false,
     "start_time": "2022-06-17T17:30:26.440320",
     "status": "completed"
    },
    "tags": []
   },
   "outputs": [],
   "source": [
    "#print(df.count())"
   ]
  }
 ],
 "metadata": {
  "interpreter": {
   "hash": "f8a79dfa68d3b59c718a5e00f96adc917a1b17d46c628831ab97d3d56be05add"
  },
  "kernelspec": {
   "display_name": "Python 3.8.8 ('base')",
   "language": "python",
   "name": "python3"
  },
  "language_info": {
   "codemirror_mode": {
    "name": "ipython",
    "version": 3
   },
   "file_extension": ".py",
   "mimetype": "text/x-python",
   "name": "python",
   "nbconvert_exporter": "python",
   "pygments_lexer": "ipython3",
   "version": "3.8.8"
  },
  "papermill": {
   "default_parameters": {},
   "duration": 11.04345,
   "end_time": "2022-06-17T17:30:26.822298",
   "environment_variables": {},
   "exception": null,
   "input_path": "notebooks/recortar_dataset.ipynb",
   "output_path": "papermill_outputs/recortar_dataset/trollers/recortar_dataset_trollers.ipynb",
   "parameters": {
    "config": {
     "data_path": "C:/Users/nico_/Desktop/ITBA/TFI/github/df_procesado/trollers_fe.csv",
     "notebook": "notebooks/recortar_dataset.ipynb",
     "output_label": "trollers"
    }
   },
   "start_time": "2022-06-17T17:30:15.778848",
   "version": "2.3.4"
  }
 },
 "nbformat": 4,
 "nbformat_minor": 5
}
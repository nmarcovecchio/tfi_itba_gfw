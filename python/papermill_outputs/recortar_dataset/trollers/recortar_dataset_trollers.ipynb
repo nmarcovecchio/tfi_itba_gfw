{
 "cells": [
  {
   "cell_type": "code",
   "execution_count": 1,
   "id": "5b85b8f3",
   "metadata": {
    "execution": {
     "iopub.execute_input": "2022-06-29T03:29:52.626682Z",
     "iopub.status.busy": "2022-06-29T03:29:52.625683Z",
     "iopub.status.idle": "2022-06-29T03:29:52.637652Z",
     "shell.execute_reply": "2022-06-29T03:29:52.637652Z"
    },
    "papermill": {
     "duration": 0.017951,
     "end_time": "2022-06-29T03:29:52.637652",
     "exception": false,
     "start_time": "2022-06-29T03:29:52.619701",
     "status": "completed"
    },
    "tags": [
     "injected-parameters"
    ]
   },
   "outputs": [],
   "source": [
    "# Parameters\n",
    "config = {\n",
    "    \"notebook\": \"notebooks/recortar_dataset.ipynb\",\n",
    "    \"data_path\": \"C:/Users/nico_/Desktop/ITBA/TFI/github/df_procesado/trollers_fe_15MIN_7lambda.csv\",\n",
    "    \"output_label\": \"trollers\",\n",
    "}\n"
   ]
  },
  {
   "cell_type": "code",
   "execution_count": 2,
   "id": "b7c1fe1b",
   "metadata": {
    "execution": {
     "iopub.execute_input": "2022-06-29T03:29:52.654606Z",
     "iopub.status.busy": "2022-06-29T03:29:52.653610Z",
     "iopub.status.idle": "2022-06-29T03:29:52.668569Z",
     "shell.execute_reply": "2022-06-29T03:29:52.669567Z"
    },
    "papermill": {
     "duration": 0.024934,
     "end_time": "2022-06-29T03:29:52.669567",
     "exception": false,
     "start_time": "2022-06-29T03:29:52.644633",
     "status": "completed"
    },
    "tags": []
   },
   "outputs": [
    {
     "name": "stdout",
     "output_type": "stream",
     "text": [
      "{'notebook': 'notebooks/recortar_dataset.ipynb', 'data_path': 'C:/Users/nico_/Desktop/ITBA/TFI/github/df_procesado/trollers_fe_15MIN_7lambda.csv', 'output_label': 'trollers'}\n"
     ]
    }
   ],
   "source": [
    "# check if config exists\n",
    "try:\n",
    "    config\n",
    "except NameError:\n",
    "    config_exists = False\n",
    "else:\n",
    "    config_exists = True\n",
    "\n",
    "# make config if it does not exist already (e.g. passed in by papermill)\n",
    "if not(config_exists):\n",
    "    # set up some config for the experiment run\n",
    "    config = {\n",
    "        \"data_path\" : \"C:/Users/nico_/Desktop/ITBA/TFI/github/df_procesado/purse_seines_fe.csv\",\n",
    "        \"output_label\": \"purse_seines\"\n",
    "    }\n",
    "print(config)\n"
   ]
  },
  {
   "cell_type": "code",
   "execution_count": 3,
   "id": "dc46b740",
   "metadata": {
    "execution": {
     "iopub.execute_input": "2022-06-29T03:29:52.684527Z",
     "iopub.status.busy": "2022-06-29T03:29:52.684527Z",
     "iopub.status.idle": "2022-06-29T03:29:53.973082Z",
     "shell.execute_reply": "2022-06-29T03:29:53.974079Z"
    },
    "papermill": {
     "duration": 1.299526,
     "end_time": "2022-06-29T03:29:53.974079",
     "exception": false,
     "start_time": "2022-06-29T03:29:52.674553",
     "status": "completed"
    },
    "tags": []
   },
   "outputs": [
    {
     "name": "stdout",
     "output_type": "stream",
     "text": [
      "722\n"
     ]
    }
   ],
   "source": [
    "import pandas as pd\n",
    "\n",
    "df = pd.read_csv(config['data_path'], header=\"infer\", sep=\",\",error_bad_lines=False, engine ='python')\n",
    "print(len(df[df['is_fishing']=='SI']))\n",
    "original = df"
   ]
  },
  {
   "cell_type": "code",
   "execution_count": 4,
   "id": "8845d00f",
   "metadata": {
    "execution": {
     "iopub.execute_input": "2022-06-29T03:29:53.996021Z",
     "iopub.status.busy": "2022-06-29T03:29:53.995024Z",
     "iopub.status.idle": "2022-06-29T03:29:54.223413Z",
     "shell.execute_reply": "2022-06-29T03:29:54.223413Z"
    },
    "papermill": {
     "duration": 0.244348,
     "end_time": "2022-06-29T03:29:54.224411",
     "exception": false,
     "start_time": "2022-06-29T03:29:53.980063",
     "status": "completed"
    },
    "tags": []
   },
   "outputs": [
    {
     "name": "stdout",
     "output_type": "stream",
     "text": [
      "722\n",
      "722\n"
     ]
    }
   ],
   "source": [
    "df = original\n",
    "\n",
    "UMBRAL = 7500\n",
    "\n",
    "longitud = len(df[df['is_fishing']=='SI'])\n",
    "\n",
    "#Me quedo con 7500 SI, 7500 NO\n",
    "if longitud >= UMBRAL:\n",
    "    df = df.groupby('is_fishing', group_keys=False).apply(lambda x: x.sample(UMBRAL))\n",
    "#Me quedo con longitud SI, longitud NO \n",
    "else:\n",
    "    df = df.groupby('is_fishing', group_keys=False).apply(lambda x: x.sample(longitud))\n",
    "\n",
    "\n",
    "print(len(df[df['is_fishing']=='SI']))\n",
    "print(len(df[df['is_fishing']=='NO']))\n",
    "df.to_csv(f\"../../df_procesado/{config['output_label']}_fe_recortado_v3_15MIN_7lambda.csv\",sep=\",\",index=False)  \n"
   ]
  },
  {
   "cell_type": "code",
   "execution_count": 5,
   "id": "9a473bf7",
   "metadata": {
    "execution": {
     "iopub.execute_input": "2022-06-29T03:29:54.241365Z",
     "iopub.status.busy": "2022-06-29T03:29:54.240367Z",
     "iopub.status.idle": "2022-06-29T03:29:54.254331Z",
     "shell.execute_reply": "2022-06-29T03:29:54.255328Z"
    },
    "papermill": {
     "duration": 0.024934,
     "end_time": "2022-06-29T03:29:54.255328",
     "exception": false,
     "start_time": "2022-06-29T03:29:54.230394",
     "status": "completed"
    },
    "tags": []
   },
   "outputs": [],
   "source": [
    "#print(df.count())"
   ]
  }
 ],
 "metadata": {
  "interpreter": {
   "hash": "f8a79dfa68d3b59c718a5e00f96adc917a1b17d46c628831ab97d3d56be05add"
  },
  "kernelspec": {
   "display_name": "Python 3.8.8 ('base')",
   "language": "python",
   "name": "python3"
  },
  "language_info": {
   "codemirror_mode": {
    "name": "ipython",
    "version": 3
   },
   "file_extension": ".py",
   "mimetype": "text/x-python",
   "name": "python",
   "nbconvert_exporter": "python",
   "pygments_lexer": "ipython3",
   "version": "3.8.8"
  },
  "papermill": {
   "default_parameters": {},
   "duration": 4.294521,
   "end_time": "2022-06-29T03:29:54.600406",
   "environment_variables": {},
   "exception": null,
   "input_path": "notebooks/recortar_dataset.ipynb",
   "output_path": "papermill_outputs/recortar_dataset/trollers/recortar_dataset_trollers.ipynb",
   "parameters": {
    "config": {
     "data_path": "C:/Users/nico_/Desktop/ITBA/TFI/github/df_procesado/trollers_fe_15MIN_7lambda.csv",
     "notebook": "notebooks/recortar_dataset.ipynb",
     "output_label": "trollers"
    }
   },
   "start_time": "2022-06-29T03:29:50.305885",
   "version": "2.3.4"
  }
 },
 "nbformat": 4,
 "nbformat_minor": 5
}